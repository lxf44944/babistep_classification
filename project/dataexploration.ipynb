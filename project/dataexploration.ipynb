{
 "cells": [
  {
   "cell_type": "code",
   "execution_count": 1,
   "metadata": {
    "collapsed": true
   },
   "outputs": [],
   "source": [
    "import pandas as pd\n",
    "import matplotlib.pyplot as plot\n",
    "import re\n",
    "from sklearn.metrics import accuracy_score, recall_score, f1_score, classification_report\n",
    "from sklearn.feature_extraction.text import TfidfVectorizer\n"
   ]
  },
  {
   "cell_type": "code",
   "execution_count": 2,
   "outputs": [
    {
     "data": {
      "text/plain": "                                        ProductName               level_1  \\\n0                             Johnson's Baby Lotion  Baby, Toddler & Kids   \n1                                Johnson's Baby Oil  Baby, Toddler & Kids   \n2  SMA Balanced Nutrition From Birth Infant Formula  Baby, Toddler & Kids   \n3                             Johnson's Baby Powder  Baby, Toddler & Kids   \n4                             Johnson's Baby Powder  Baby, Toddler & Kids   \n\n     level_2                      level_3  PricePerItem PriceMode  \\\n0  Baby Care     Baby Bathing & Skin Care          4.89        ea   \n1  Baby Care     Baby Bathing & Skin Care          4.89        ea   \n2  Baby Care  Baby Formula & Toddler Food         17.99        ea   \n3  Baby Care           Nappies & Changing          2.99        ea   \n4  Baby Care           Nappies & Changing          4.89        ea   \n\n   HasMultiBuyDeal MultiBuyDeal  MultiBuyBasePrice  MultiBuyPrice  \\\n0            False          NaN               4.89            NaN   \n1            False          NaN               4.89            NaN   \n2            False          NaN              17.99          17.99   \n3            False          NaN               2.99           2.99   \n4            False          NaN               4.89            NaN   \n\n   MultiBuyQuantity PromoBadgeImageLabel  \n0               NaN                  NaN  \n1               NaN                  NaN  \n2               1.0                Saver  \n3               1.0                Saver  \n4               NaN                  NaN  ",
      "text/html": "<div>\n<style scoped>\n    .dataframe tbody tr th:only-of-type {\n        vertical-align: middle;\n    }\n\n    .dataframe tbody tr th {\n        vertical-align: top;\n    }\n\n    .dataframe thead th {\n        text-align: right;\n    }\n</style>\n<table border=\"1\" class=\"dataframe\">\n  <thead>\n    <tr style=\"text-align: right;\">\n      <th></th>\n      <th>ProductName</th>\n      <th>level_1</th>\n      <th>level_2</th>\n      <th>level_3</th>\n      <th>PricePerItem</th>\n      <th>PriceMode</th>\n      <th>HasMultiBuyDeal</th>\n      <th>MultiBuyDeal</th>\n      <th>MultiBuyBasePrice</th>\n      <th>MultiBuyPrice</th>\n      <th>MultiBuyQuantity</th>\n      <th>PromoBadgeImageLabel</th>\n    </tr>\n  </thead>\n  <tbody>\n    <tr>\n      <th>0</th>\n      <td>Johnson's Baby Lotion</td>\n      <td>Baby, Toddler &amp; Kids</td>\n      <td>Baby Care</td>\n      <td>Baby Bathing &amp; Skin Care</td>\n      <td>4.89</td>\n      <td>ea</td>\n      <td>False</td>\n      <td>NaN</td>\n      <td>4.89</td>\n      <td>NaN</td>\n      <td>NaN</td>\n      <td>NaN</td>\n    </tr>\n    <tr>\n      <th>1</th>\n      <td>Johnson's Baby Oil</td>\n      <td>Baby, Toddler &amp; Kids</td>\n      <td>Baby Care</td>\n      <td>Baby Bathing &amp; Skin Care</td>\n      <td>4.89</td>\n      <td>ea</td>\n      <td>False</td>\n      <td>NaN</td>\n      <td>4.89</td>\n      <td>NaN</td>\n      <td>NaN</td>\n      <td>NaN</td>\n    </tr>\n    <tr>\n      <th>2</th>\n      <td>SMA Balanced Nutrition From Birth Infant Formula</td>\n      <td>Baby, Toddler &amp; Kids</td>\n      <td>Baby Care</td>\n      <td>Baby Formula &amp; Toddler Food</td>\n      <td>17.99</td>\n      <td>ea</td>\n      <td>False</td>\n      <td>NaN</td>\n      <td>17.99</td>\n      <td>17.99</td>\n      <td>1.0</td>\n      <td>Saver</td>\n    </tr>\n    <tr>\n      <th>3</th>\n      <td>Johnson's Baby Powder</td>\n      <td>Baby, Toddler &amp; Kids</td>\n      <td>Baby Care</td>\n      <td>Nappies &amp; Changing</td>\n      <td>2.99</td>\n      <td>ea</td>\n      <td>False</td>\n      <td>NaN</td>\n      <td>2.99</td>\n      <td>2.99</td>\n      <td>1.0</td>\n      <td>Saver</td>\n    </tr>\n    <tr>\n      <th>4</th>\n      <td>Johnson's Baby Powder</td>\n      <td>Baby, Toddler &amp; Kids</td>\n      <td>Baby Care</td>\n      <td>Nappies &amp; Changing</td>\n      <td>4.89</td>\n      <td>ea</td>\n      <td>False</td>\n      <td>NaN</td>\n      <td>4.89</td>\n      <td>NaN</td>\n      <td>NaN</td>\n      <td>NaN</td>\n    </tr>\n  </tbody>\n</table>\n</div>"
     },
     "execution_count": 2,
     "metadata": {},
     "output_type": "execute_result"
    }
   ],
   "source": [
    "from sklearn.model_selection import train_test_split\n",
    "\n",
    "columns = [\"ProductName\", \"level_1\", \"level_2\", \"level_3\", \"PricePerItem\", \"PriceMode\", \"HasMultiBuyDeal\",\n",
    "           \"MultiBuyDeal\", \"MultiBuyBasePrice\", \"MultiBuyPrice\", \"MultiBuyQuantity\", \"PromoBadgeImageLabel\"]\n",
    "df = pd.read_csv(\"data.csv\", usecols=columns)\n",
    "df.drop_duplicates(inplace=True)\n",
    "df.head(5)"
   ],
   "metadata": {
    "collapsed": false,
    "pycharm": {
     "name": "#%%\n"
    }
   }
  },
  {
   "cell_type": "code",
   "execution_count": 3,
   "outputs": [
    {
     "data": {
      "text/plain": "                                        ProductName               level_1  \\\n0                              johnsons baby lotion  Baby, Toddler & Kids   \n1                                 johnsons baby oil  Baby, Toddler & Kids   \n2  sma balanced nutrition from birth infant formula  Baby, Toddler & Kids   \n3                              johnsons baby powder  Baby, Toddler & Kids   \n4                              johnsons baby powder  Baby, Toddler & Kids   \n\n     level_2                      level_3  PricePerItem PriceMode  \\\n0  Baby Care     Baby Bathing & Skin Care          4.89        ea   \n1  Baby Care     Baby Bathing & Skin Care          4.89        ea   \n2  Baby Care  Baby Formula & Toddler Food         17.99        ea   \n3  Baby Care           Nappies & Changing          2.99        ea   \n4  Baby Care           Nappies & Changing          4.89        ea   \n\n   HasMultiBuyDeal MultiBuyDeal  MultiBuyBasePrice  MultiBuyPrice  \\\n0            False          NaN               4.89            NaN   \n1            False          NaN               4.89            NaN   \n2            False          NaN              17.99          17.99   \n3            False          NaN               2.99           2.99   \n4            False          NaN               4.89            NaN   \n\n   MultiBuyQuantity PromoBadgeImageLabel  \n0               NaN                  NaN  \n1               NaN                  NaN  \n2               1.0                Saver  \n3               1.0                Saver  \n4               NaN                  NaN  ",
      "text/html": "<div>\n<style scoped>\n    .dataframe tbody tr th:only-of-type {\n        vertical-align: middle;\n    }\n\n    .dataframe tbody tr th {\n        vertical-align: top;\n    }\n\n    .dataframe thead th {\n        text-align: right;\n    }\n</style>\n<table border=\"1\" class=\"dataframe\">\n  <thead>\n    <tr style=\"text-align: right;\">\n      <th></th>\n      <th>ProductName</th>\n      <th>level_1</th>\n      <th>level_2</th>\n      <th>level_3</th>\n      <th>PricePerItem</th>\n      <th>PriceMode</th>\n      <th>HasMultiBuyDeal</th>\n      <th>MultiBuyDeal</th>\n      <th>MultiBuyBasePrice</th>\n      <th>MultiBuyPrice</th>\n      <th>MultiBuyQuantity</th>\n      <th>PromoBadgeImageLabel</th>\n    </tr>\n  </thead>\n  <tbody>\n    <tr>\n      <th>0</th>\n      <td>johnsons baby lotion</td>\n      <td>Baby, Toddler &amp; Kids</td>\n      <td>Baby Care</td>\n      <td>Baby Bathing &amp; Skin Care</td>\n      <td>4.89</td>\n      <td>ea</td>\n      <td>False</td>\n      <td>NaN</td>\n      <td>4.89</td>\n      <td>NaN</td>\n      <td>NaN</td>\n      <td>NaN</td>\n    </tr>\n    <tr>\n      <th>1</th>\n      <td>johnsons baby oil</td>\n      <td>Baby, Toddler &amp; Kids</td>\n      <td>Baby Care</td>\n      <td>Baby Bathing &amp; Skin Care</td>\n      <td>4.89</td>\n      <td>ea</td>\n      <td>False</td>\n      <td>NaN</td>\n      <td>4.89</td>\n      <td>NaN</td>\n      <td>NaN</td>\n      <td>NaN</td>\n    </tr>\n    <tr>\n      <th>2</th>\n      <td>sma balanced nutrition from birth infant formula</td>\n      <td>Baby, Toddler &amp; Kids</td>\n      <td>Baby Care</td>\n      <td>Baby Formula &amp; Toddler Food</td>\n      <td>17.99</td>\n      <td>ea</td>\n      <td>False</td>\n      <td>NaN</td>\n      <td>17.99</td>\n      <td>17.99</td>\n      <td>1.0</td>\n      <td>Saver</td>\n    </tr>\n    <tr>\n      <th>3</th>\n      <td>johnsons baby powder</td>\n      <td>Baby, Toddler &amp; Kids</td>\n      <td>Baby Care</td>\n      <td>Nappies &amp; Changing</td>\n      <td>2.99</td>\n      <td>ea</td>\n      <td>False</td>\n      <td>NaN</td>\n      <td>2.99</td>\n      <td>2.99</td>\n      <td>1.0</td>\n      <td>Saver</td>\n    </tr>\n    <tr>\n      <th>4</th>\n      <td>johnsons baby powder</td>\n      <td>Baby, Toddler &amp; Kids</td>\n      <td>Baby Care</td>\n      <td>Nappies &amp; Changing</td>\n      <td>4.89</td>\n      <td>ea</td>\n      <td>False</td>\n      <td>NaN</td>\n      <td>4.89</td>\n      <td>NaN</td>\n      <td>NaN</td>\n      <td>NaN</td>\n    </tr>\n  </tbody>\n</table>\n</div>"
     },
     "execution_count": 3,
     "metadata": {},
     "output_type": "execute_result"
    }
   ],
   "source": [
    "punctuations = re.compile(r'[^a-zA-Z\\s]+')\n",
    "df[\"ProductName\"] = [\" \".join(punctuations.sub('', x).lower().split()) for x in df[\"ProductName\"].tolist()]\n",
    "df.head(5)"
   ],
   "metadata": {
    "collapsed": false,
    "pycharm": {
     "name": "#%%\n"
    }
   }
  },
  {
   "cell_type": "code",
   "execution_count": 4,
   "outputs": [
    {
     "data": {
      "text/plain": "                                        ProductName               level_1  \\\n0                              johnsons baby lotion  Baby, Toddler & Kids   \n1                                 johnsons baby oil  Baby, Toddler & Kids   \n2  sma balanced nutrition from birth infant formula  Baby, Toddler & Kids   \n3                              johnsons baby powder  Baby, Toddler & Kids   \n4                              johnsons baby powder  Baby, Toddler & Kids   \n\n     level_2                      level_3  PricePerItem PriceMode  \\\n0  Baby Care     Baby Bathing & Skin Care          4.89        ea   \n1  Baby Care     Baby Bathing & Skin Care          4.89        ea   \n2  Baby Care  Baby Formula & Toddler Food         17.99        ea   \n3  Baby Care           Nappies & Changing          2.99        ea   \n4  Baby Care           Nappies & Changing          4.89        ea   \n\n   HasMultiBuyDeal  MultiBuyDeal  MultiBuyBasePrice  MultiBuyPrice  \\\n0            False             0               4.89            NaN   \n1            False             0               4.89            NaN   \n2            False             0              17.99          17.99   \n3            False             0               2.99           2.99   \n4            False             0               4.89            NaN   \n\n   MultiBuyQuantity PromoBadgeImageLabel  \n0               NaN                  NaN  \n1               NaN                  NaN  \n2               1.0                Saver  \n3               1.0                Saver  \n4               NaN                  NaN  ",
      "text/html": "<div>\n<style scoped>\n    .dataframe tbody tr th:only-of-type {\n        vertical-align: middle;\n    }\n\n    .dataframe tbody tr th {\n        vertical-align: top;\n    }\n\n    .dataframe thead th {\n        text-align: right;\n    }\n</style>\n<table border=\"1\" class=\"dataframe\">\n  <thead>\n    <tr style=\"text-align: right;\">\n      <th></th>\n      <th>ProductName</th>\n      <th>level_1</th>\n      <th>level_2</th>\n      <th>level_3</th>\n      <th>PricePerItem</th>\n      <th>PriceMode</th>\n      <th>HasMultiBuyDeal</th>\n      <th>MultiBuyDeal</th>\n      <th>MultiBuyBasePrice</th>\n      <th>MultiBuyPrice</th>\n      <th>MultiBuyQuantity</th>\n      <th>PromoBadgeImageLabel</th>\n    </tr>\n  </thead>\n  <tbody>\n    <tr>\n      <th>0</th>\n      <td>johnsons baby lotion</td>\n      <td>Baby, Toddler &amp; Kids</td>\n      <td>Baby Care</td>\n      <td>Baby Bathing &amp; Skin Care</td>\n      <td>4.89</td>\n      <td>ea</td>\n      <td>False</td>\n      <td>0</td>\n      <td>4.89</td>\n      <td>NaN</td>\n      <td>NaN</td>\n      <td>NaN</td>\n    </tr>\n    <tr>\n      <th>1</th>\n      <td>johnsons baby oil</td>\n      <td>Baby, Toddler &amp; Kids</td>\n      <td>Baby Care</td>\n      <td>Baby Bathing &amp; Skin Care</td>\n      <td>4.89</td>\n      <td>ea</td>\n      <td>False</td>\n      <td>0</td>\n      <td>4.89</td>\n      <td>NaN</td>\n      <td>NaN</td>\n      <td>NaN</td>\n    </tr>\n    <tr>\n      <th>2</th>\n      <td>sma balanced nutrition from birth infant formula</td>\n      <td>Baby, Toddler &amp; Kids</td>\n      <td>Baby Care</td>\n      <td>Baby Formula &amp; Toddler Food</td>\n      <td>17.99</td>\n      <td>ea</td>\n      <td>False</td>\n      <td>0</td>\n      <td>17.99</td>\n      <td>17.99</td>\n      <td>1.0</td>\n      <td>Saver</td>\n    </tr>\n    <tr>\n      <th>3</th>\n      <td>johnsons baby powder</td>\n      <td>Baby, Toddler &amp; Kids</td>\n      <td>Baby Care</td>\n      <td>Nappies &amp; Changing</td>\n      <td>2.99</td>\n      <td>ea</td>\n      <td>False</td>\n      <td>0</td>\n      <td>2.99</td>\n      <td>2.99</td>\n      <td>1.0</td>\n      <td>Saver</td>\n    </tr>\n    <tr>\n      <th>4</th>\n      <td>johnsons baby powder</td>\n      <td>Baby, Toddler &amp; Kids</td>\n      <td>Baby Care</td>\n      <td>Nappies &amp; Changing</td>\n      <td>4.89</td>\n      <td>ea</td>\n      <td>False</td>\n      <td>0</td>\n      <td>4.89</td>\n      <td>NaN</td>\n      <td>NaN</td>\n      <td>NaN</td>\n    </tr>\n  </tbody>\n</table>\n</div>"
     },
     "execution_count": 4,
     "metadata": {},
     "output_type": "execute_result"
    }
   ],
   "source": [
    "df[\"MultiBuyDeal\"] = [\" \".join(punctuations.sub('', y).lower().split()) if y == y else [] for y in\n",
    "                      df[\"MultiBuyDeal\"].tolist()]\n",
    "df[\"MultiBuyDeal\"] = [1 if y == \"buy for\" else (2 if y == \"buy for limit assorted\" else (\n",
    "    3 if y == \"limit assorted\" else (4 if y == \"limit\" else 0))) for y in df[\"MultiBuyDeal\"].tolist()]\n",
    "df.head(5)"
   ],
   "metadata": {
    "collapsed": false,
    "pycharm": {
     "name": "#%%\n"
    }
   }
  },
  {
   "cell_type": "code",
   "execution_count": 5,
   "outputs": [
    {
     "data": {
      "text/plain": "                                        ProductName               level_1  \\\n0                              johnsons baby lotion  Baby, Toddler & Kids   \n1                                 johnsons baby oil  Baby, Toddler & Kids   \n2  sma balanced nutrition from birth infant formula  Baby, Toddler & Kids   \n3                              johnsons baby powder  Baby, Toddler & Kids   \n4                              johnsons baby powder  Baby, Toddler & Kids   \n\n     level_2                      level_3  PricePerItem PriceMode  \\\n0  Baby Care     Baby Bathing & Skin Care          4.89        ea   \n1  Baby Care     Baby Bathing & Skin Care          4.89        ea   \n2  Baby Care  Baby Formula & Toddler Food         17.99        ea   \n3  Baby Care           Nappies & Changing          2.99        ea   \n4  Baby Care           Nappies & Changing          4.89        ea   \n\n   HasMultiBuyDeal  MultiBuyDeal  MultiBuyBasePrice  MultiBuyPrice  \\\n0            False             0               4.89            NaN   \n1            False             0               4.89            NaN   \n2            False             0              17.99          17.99   \n3            False             0               2.99           2.99   \n4            False             0               4.89            NaN   \n\n   MultiBuyQuantity PromoBadgeImageLabel  \n0               NaN                   []  \n1               NaN                   []  \n2               1.0              [saver]  \n3               1.0              [saver]  \n4               NaN                   []  ",
      "text/html": "<div>\n<style scoped>\n    .dataframe tbody tr th:only-of-type {\n        vertical-align: middle;\n    }\n\n    .dataframe tbody tr th {\n        vertical-align: top;\n    }\n\n    .dataframe thead th {\n        text-align: right;\n    }\n</style>\n<table border=\"1\" class=\"dataframe\">\n  <thead>\n    <tr style=\"text-align: right;\">\n      <th></th>\n      <th>ProductName</th>\n      <th>level_1</th>\n      <th>level_2</th>\n      <th>level_3</th>\n      <th>PricePerItem</th>\n      <th>PriceMode</th>\n      <th>HasMultiBuyDeal</th>\n      <th>MultiBuyDeal</th>\n      <th>MultiBuyBasePrice</th>\n      <th>MultiBuyPrice</th>\n      <th>MultiBuyQuantity</th>\n      <th>PromoBadgeImageLabel</th>\n    </tr>\n  </thead>\n  <tbody>\n    <tr>\n      <th>0</th>\n      <td>johnsons baby lotion</td>\n      <td>Baby, Toddler &amp; Kids</td>\n      <td>Baby Care</td>\n      <td>Baby Bathing &amp; Skin Care</td>\n      <td>4.89</td>\n      <td>ea</td>\n      <td>False</td>\n      <td>0</td>\n      <td>4.89</td>\n      <td>NaN</td>\n      <td>NaN</td>\n      <td>[]</td>\n    </tr>\n    <tr>\n      <th>1</th>\n      <td>johnsons baby oil</td>\n      <td>Baby, Toddler &amp; Kids</td>\n      <td>Baby Care</td>\n      <td>Baby Bathing &amp; Skin Care</td>\n      <td>4.89</td>\n      <td>ea</td>\n      <td>False</td>\n      <td>0</td>\n      <td>4.89</td>\n      <td>NaN</td>\n      <td>NaN</td>\n      <td>[]</td>\n    </tr>\n    <tr>\n      <th>2</th>\n      <td>sma balanced nutrition from birth infant formula</td>\n      <td>Baby, Toddler &amp; Kids</td>\n      <td>Baby Care</td>\n      <td>Baby Formula &amp; Toddler Food</td>\n      <td>17.99</td>\n      <td>ea</td>\n      <td>False</td>\n      <td>0</td>\n      <td>17.99</td>\n      <td>17.99</td>\n      <td>1.0</td>\n      <td>[saver]</td>\n    </tr>\n    <tr>\n      <th>3</th>\n      <td>johnsons baby powder</td>\n      <td>Baby, Toddler &amp; Kids</td>\n      <td>Baby Care</td>\n      <td>Nappies &amp; Changing</td>\n      <td>2.99</td>\n      <td>ea</td>\n      <td>False</td>\n      <td>0</td>\n      <td>2.99</td>\n      <td>2.99</td>\n      <td>1.0</td>\n      <td>[saver]</td>\n    </tr>\n    <tr>\n      <th>4</th>\n      <td>johnsons baby powder</td>\n      <td>Baby, Toddler &amp; Kids</td>\n      <td>Baby Care</td>\n      <td>Nappies &amp; Changing</td>\n      <td>4.89</td>\n      <td>ea</td>\n      <td>False</td>\n      <td>0</td>\n      <td>4.89</td>\n      <td>NaN</td>\n      <td>NaN</td>\n      <td>[]</td>\n    </tr>\n  </tbody>\n</table>\n</div>"
     },
     "execution_count": 5,
     "metadata": {},
     "output_type": "execute_result"
    }
   ],
   "source": [
    "df[\"PromoBadgeImageLabel\"] = [punctuations.sub('', z).lower().split() if z == z else [] for z in\n",
    "                              df[\"PromoBadgeImageLabel\"].tolist()]\n",
    "df.head(5)"
   ],
   "metadata": {
    "collapsed": false,
    "pycharm": {
     "name": "#%%\n"
    }
   }
  },
  {
   "cell_type": "code",
   "execution_count": 6,
   "outputs": [
    {
     "data": {
      "text/plain": "                                        ProductName               level_1  \\\n0                              johnsons baby lotion  Baby, Toddler & Kids   \n1                                 johnsons baby oil  Baby, Toddler & Kids   \n2  sma balanced nutrition from birth infant formula  Baby, Toddler & Kids   \n3                              johnsons baby powder  Baby, Toddler & Kids   \n4                              johnsons baby powder  Baby, Toddler & Kids   \n\n     level_2                      level_3  PricePerItem PriceMode  \\\n0  Baby Care     Baby Bathing & Skin Care          4.89        ea   \n1  Baby Care     Baby Bathing & Skin Care          4.89        ea   \n2  Baby Care  Baby Formula & Toddler Food         17.99        ea   \n3  Baby Care           Nappies & Changing          2.99        ea   \n4  Baby Care           Nappies & Changing          4.89        ea   \n\n   HasMultiBuyDeal  MultiBuyDeal  MultiBuyBasePrice  MultiBuyPrice  \\\n0            False             0               4.89           0.00   \n1            False             0               4.89           0.00   \n2            False             0              17.99          17.99   \n3            False             0               2.99           2.99   \n4            False             0               4.89           0.00   \n\n   MultiBuyQuantity PromoBadgeImageLabel  \n0               0.0                   []  \n1               0.0                   []  \n2               1.0              [saver]  \n3               1.0              [saver]  \n4               0.0                   []  ",
      "text/html": "<div>\n<style scoped>\n    .dataframe tbody tr th:only-of-type {\n        vertical-align: middle;\n    }\n\n    .dataframe tbody tr th {\n        vertical-align: top;\n    }\n\n    .dataframe thead th {\n        text-align: right;\n    }\n</style>\n<table border=\"1\" class=\"dataframe\">\n  <thead>\n    <tr style=\"text-align: right;\">\n      <th></th>\n      <th>ProductName</th>\n      <th>level_1</th>\n      <th>level_2</th>\n      <th>level_3</th>\n      <th>PricePerItem</th>\n      <th>PriceMode</th>\n      <th>HasMultiBuyDeal</th>\n      <th>MultiBuyDeal</th>\n      <th>MultiBuyBasePrice</th>\n      <th>MultiBuyPrice</th>\n      <th>MultiBuyQuantity</th>\n      <th>PromoBadgeImageLabel</th>\n    </tr>\n  </thead>\n  <tbody>\n    <tr>\n      <th>0</th>\n      <td>johnsons baby lotion</td>\n      <td>Baby, Toddler &amp; Kids</td>\n      <td>Baby Care</td>\n      <td>Baby Bathing &amp; Skin Care</td>\n      <td>4.89</td>\n      <td>ea</td>\n      <td>False</td>\n      <td>0</td>\n      <td>4.89</td>\n      <td>0.00</td>\n      <td>0.0</td>\n      <td>[]</td>\n    </tr>\n    <tr>\n      <th>1</th>\n      <td>johnsons baby oil</td>\n      <td>Baby, Toddler &amp; Kids</td>\n      <td>Baby Care</td>\n      <td>Baby Bathing &amp; Skin Care</td>\n      <td>4.89</td>\n      <td>ea</td>\n      <td>False</td>\n      <td>0</td>\n      <td>4.89</td>\n      <td>0.00</td>\n      <td>0.0</td>\n      <td>[]</td>\n    </tr>\n    <tr>\n      <th>2</th>\n      <td>sma balanced nutrition from birth infant formula</td>\n      <td>Baby, Toddler &amp; Kids</td>\n      <td>Baby Care</td>\n      <td>Baby Formula &amp; Toddler Food</td>\n      <td>17.99</td>\n      <td>ea</td>\n      <td>False</td>\n      <td>0</td>\n      <td>17.99</td>\n      <td>17.99</td>\n      <td>1.0</td>\n      <td>[saver]</td>\n    </tr>\n    <tr>\n      <th>3</th>\n      <td>johnsons baby powder</td>\n      <td>Baby, Toddler &amp; Kids</td>\n      <td>Baby Care</td>\n      <td>Nappies &amp; Changing</td>\n      <td>2.99</td>\n      <td>ea</td>\n      <td>False</td>\n      <td>0</td>\n      <td>2.99</td>\n      <td>2.99</td>\n      <td>1.0</td>\n      <td>[saver]</td>\n    </tr>\n    <tr>\n      <th>4</th>\n      <td>johnsons baby powder</td>\n      <td>Baby, Toddler &amp; Kids</td>\n      <td>Baby Care</td>\n      <td>Nappies &amp; Changing</td>\n      <td>4.89</td>\n      <td>ea</td>\n      <td>False</td>\n      <td>0</td>\n      <td>4.89</td>\n      <td>0.00</td>\n      <td>0.0</td>\n      <td>[]</td>\n    </tr>\n  </tbody>\n</table>\n</div>"
     },
     "execution_count": 6,
     "metadata": {},
     "output_type": "execute_result"
    }
   ],
   "source": [
    "df[\"MultiBuyPrice\"].fillna(0, inplace=True)\n",
    "df[\"MultiBuyQuantity\"].fillna(0, inplace=True)\n",
    "df.head(5)"
   ],
   "metadata": {
    "collapsed": false,
    "pycharm": {
     "name": "#%%\n"
    }
   }
  },
  {
   "cell_type": "code",
   "execution_count": 7,
   "outputs": [
    {
     "data": {
      "text/plain": "<BarContainer object of 449 artists>"
     },
     "execution_count": 7,
     "metadata": {},
     "output_type": "execute_result"
    },
    {
     "data": {
      "text/plain": "<Figure size 432x288 with 1 Axes>",
      "image/png": "[encoded data removed]"
     },
     "metadata": {
      "needs_background": "light"
     },
     "output_type": "display_data"
    }
   ],
   "source": [
    "typesa = df.value_counts(columns[1:4])\n",
    "plot.bar([a for a in range(typesa.size)], typesa)"
   ],
   "metadata": {
    "collapsed": false,
    "pycharm": {
     "name": "#%%\n"
    }
   }
  },
  {
   "cell_type": "code",
   "execution_count": 8,
   "outputs": [
    {
     "data": {
      "text/plain": "<BarContainer object of 43 artists>"
     },
     "execution_count": 8,
     "metadata": {},
     "output_type": "execute_result"
    },
    {
     "data": {
      "text/plain": "<Figure size 432x288 with 1 Axes>",
      "image/png": "[encoded data removed]"
     },
     "metadata": {
      "needs_background": "light"
     },
     "output_type": "display_data"
    }
   ],
   "source": [
    "typesb = df.value_counts(columns[1:3])\n",
    "plot.bar([a for a in range(typesb.size)], typesb)"
   ],
   "metadata": {
    "collapsed": false,
    "pycharm": {
     "name": "#%%\n"
    }
   }
  },
  {
   "cell_type": "code",
   "execution_count": 9,
   "outputs": [
    {
     "data": {
      "text/plain": "level_1                    \nPantry                         4740\nPersonal Care                  1778\nFresh Foods & Bakery           1721\nChilled, Frozen & Desserts     1426\nBeer, Cider & Wine             1232\nKitchen, Dining & Household    1182\nDrinks                         1063\nPets                            512\nMeal Spot                       456\nBaby, Toddler & Kids            354\nFeatured                        121\ndtype: int64"
     },
     "execution_count": 9,
     "metadata": {},
     "output_type": "execute_result"
    }
   ],
   "source": [
    "typesc = df.value_counts(columns[1:2])\n",
    "typesc"
   ],
   "metadata": {
    "collapsed": false,
    "pycharm": {
     "name": "#%%\n"
    }
   }
  },
  {
   "cell_type": "code",
   "execution_count": 10,
   "outputs": [
    {
     "data": {
      "text/plain": "                                        ProductName               level_1  \\\n0                              johnsons baby lotion  Baby, Toddler & Kids   \n1                                 johnsons baby oil  Baby, Toddler & Kids   \n2  sma balanced nutrition from birth infant formula  Baby, Toddler & Kids   \n3                              johnsons baby powder  Baby, Toddler & Kids   \n4                              johnsons baby powder  Baby, Toddler & Kids   \n\n     level_2                      level_3  PricePerItem PriceMode  \\\n0  Baby Care     Baby Bathing & Skin Care          4.89        ea   \n1  Baby Care     Baby Bathing & Skin Care          4.89        ea   \n2  Baby Care  Baby Formula & Toddler Food         17.99        ea   \n3  Baby Care           Nappies & Changing          2.99        ea   \n4  Baby Care           Nappies & Changing          4.89        ea   \n\n   HasMultiBuyDeal  MultiBuyDeal  MultiBuyBasePrice  MultiBuyPrice  \\\n0            False             0               4.89           0.00   \n1            False             0               4.89           0.00   \n2            False             0              17.99          17.99   \n3            False             0               2.99           2.99   \n4            False             0               4.89           0.00   \n\n   MultiBuyQuantity PromoBadgeImageLabel  \n0               0.0                   []  \n1               0.0                   []  \n2               1.0              [saver]  \n3               1.0              [saver]  \n4               0.0                   []  ",
      "text/html": "<div>\n<style scoped>\n    .dataframe tbody tr th:only-of-type {\n        vertical-align: middle;\n    }\n\n    .dataframe tbody tr th {\n        vertical-align: top;\n    }\n\n    .dataframe thead th {\n        text-align: right;\n    }\n</style>\n<table border=\"1\" class=\"dataframe\">\n  <thead>\n    <tr style=\"text-align: right;\">\n      <th></th>\n      <th>ProductName</th>\n      <th>level_1</th>\n      <th>level_2</th>\n      <th>level_3</th>\n      <th>PricePerItem</th>\n      <th>PriceMode</th>\n      <th>HasMultiBuyDeal</th>\n      <th>MultiBuyDeal</th>\n      <th>MultiBuyBasePrice</th>\n      <th>MultiBuyPrice</th>\n      <th>MultiBuyQuantity</th>\n      <th>PromoBadgeImageLabel</th>\n    </tr>\n  </thead>\n  <tbody>\n    <tr>\n      <th>0</th>\n      <td>johnsons baby lotion</td>\n      <td>Baby, Toddler &amp; Kids</td>\n      <td>Baby Care</td>\n      <td>Baby Bathing &amp; Skin Care</td>\n      <td>4.89</td>\n      <td>ea</td>\n      <td>False</td>\n      <td>0</td>\n      <td>4.89</td>\n      <td>0.00</td>\n      <td>0.0</td>\n      <td>[]</td>\n    </tr>\n    <tr>\n      <th>1</th>\n      <td>johnsons baby oil</td>\n      <td>Baby, Toddler &amp; Kids</td>\n      <td>Baby Care</td>\n      <td>Baby Bathing &amp; Skin Care</td>\n      <td>4.89</td>\n      <td>ea</td>\n      <td>False</td>\n      <td>0</td>\n      <td>4.89</td>\n      <td>0.00</td>\n      <td>0.0</td>\n      <td>[]</td>\n    </tr>\n    <tr>\n      <th>2</th>\n      <td>sma balanced nutrition from birth infant formula</td>\n      <td>Baby, Toddler &amp; Kids</td>\n      <td>Baby Care</td>\n      <td>Baby Formula &amp; Toddler Food</td>\n      <td>17.99</td>\n      <td>ea</td>\n      <td>False</td>\n      <td>0</td>\n      <td>17.99</td>\n      <td>17.99</td>\n      <td>1.0</td>\n      <td>[saver]</td>\n    </tr>\n    <tr>\n      <th>3</th>\n      <td>johnsons baby powder</td>\n      <td>Baby, Toddler &amp; Kids</td>\n      <td>Baby Care</td>\n      <td>Nappies &amp; Changing</td>\n      <td>2.99</td>\n      <td>ea</td>\n      <td>False</td>\n      <td>0</td>\n      <td>2.99</td>\n      <td>2.99</td>\n      <td>1.0</td>\n      <td>[saver]</td>\n    </tr>\n    <tr>\n      <th>4</th>\n      <td>johnsons baby powder</td>\n      <td>Baby, Toddler &amp; Kids</td>\n      <td>Baby Care</td>\n      <td>Nappies &amp; Changing</td>\n      <td>4.89</td>\n      <td>ea</td>\n      <td>False</td>\n      <td>0</td>\n      <td>4.89</td>\n      <td>0.00</td>\n      <td>0.0</td>\n      <td>[]</td>\n    </tr>\n  </tbody>\n</table>\n</div>"
     },
     "execution_count": 10,
     "metadata": {},
     "output_type": "execute_result"
    }
   ],
   "source": [
    "df = df[df[\"level_1\"] != \"Featured\"]\n",
    "df.head(5)"
   ],
   "metadata": {
    "collapsed": false,
    "pycharm": {
     "name": "#%%\n"
    }
   }
  },
  {
   "cell_type": "code",
   "execution_count": 11,
   "outputs": [
    {
     "data": {
      "text/plain": "(array([1.974e+03, 4.555e+03, 3.223e+03, 1.367e+03, 9.790e+02, 5.380e+02,\n        5.470e+02, 1.890e+02, 2.290e+02, 1.670e+02, 1.250e+02, 7.600e+01,\n        2.800e+01, 2.000e+01, 2.800e+01, 1.200e+01, 2.200e+01, 6.000e+00,\n        1.200e+01, 1.000e+00, 1.200e+01, 0.000e+00, 2.000e+00, 0.000e+00,\n        1.000e+00, 0.000e+00, 0.000e+00, 0.000e+00, 2.000e+00, 0.000e+00,\n        1.000e+00, 0.000e+00, 0.000e+00, 2.000e+00, 0.000e+00, 1.000e+00,\n        0.000e+00, 1.000e+00, 0.000e+00, 1.000e+00, 0.000e+00, 2.000e+00,\n        0.000e+00, 0.000e+00, 0.000e+00, 0.000e+00, 0.000e+00, 0.000e+00,\n        0.000e+00, 1.000e+00]),\n array([  0.15  ,   2.5668,   4.9836,   7.4004,   9.8172,  12.234 ,\n         14.6508,  17.0676,  19.4844,  21.9012,  24.318 ,  26.7348,\n         29.1516,  31.5684,  33.9852,  36.402 ,  38.8188,  41.2356,\n         43.6524,  46.0692,  48.486 ,  50.9028,  53.3196,  55.7364,\n         58.1532,  60.57  ,  62.9868,  65.4036,  67.8204,  70.2372,\n         72.654 ,  75.0708,  77.4876,  79.9044,  82.3212,  84.738 ,\n         87.1548,  89.5716,  91.9884,  94.4052,  96.822 ,  99.2388,\n        101.6556, 104.0724, 106.4892, 108.906 , 111.3228, 113.7396,\n        116.1564, 118.5732, 120.99  ]),\n <BarContainer object of 50 artists>)"
     },
     "execution_count": 11,
     "metadata": {},
     "output_type": "execute_result"
    },
    {
     "data": {
      "text/plain": "<Figure size 432x288 with 1 Axes>",
      "image/png": "[encoded data removed]"
     },
     "metadata": {
      "needs_background": "light"
     },
     "output_type": "display_data"
    }
   ],
   "source": [
    "dfea = df[df[\"PriceMode\"] == \"ea\"]\n",
    "plot.hist(dfea[\"PricePerItem\"].tolist(), bins=50)"
   ],
   "metadata": {
    "collapsed": false,
    "pycharm": {
     "name": "#%%\n"
    }
   }
  },
  {
   "cell_type": "code",
   "execution_count": 12,
   "outputs": [
    {
     "data": {
      "text/plain": "(array([13., 21., 25., 13., 22., 30., 33.,  9., 41., 19., 45., 11.,  9.,\n        14.,  9.,  1.,  3.,  3.,  7.,  2.,  2.,  1.,  0.,  1.,  0.,  0.,\n         1.,  0.,  0.,  0.,  1.,  2.,  0.,  0.,  0.,  0.,  0.,  0.,  1.,\n         0.,  0.,  0.,  0.,  0.,  0.,  0.,  0.,  0.,  0.,  1.]),\n array([  2.29  ,   4.8422,   7.3944,   9.9466,  12.4988,  15.051 ,\n         17.6032,  20.1554,  22.7076,  25.2598,  27.812 ,  30.3642,\n         32.9164,  35.4686,  38.0208,  40.573 ,  43.1252,  45.6774,\n         48.2296,  50.7818,  53.334 ,  55.8862,  58.4384,  60.9906,\n         63.5428,  66.095 ,  68.6472,  71.1994,  73.7516,  76.3038,\n         78.856 ,  81.4082,  83.9604,  86.5126,  89.0648,  91.617 ,\n         94.1692,  96.7214,  99.2736, 101.8258, 104.378 , 106.9302,\n        109.4824, 112.0346, 114.5868, 117.139 , 119.6912, 122.2434,\n        124.7956, 127.3478, 129.9   ]),\n <BarContainer object of 50 artists>)"
     },
     "execution_count": 12,
     "metadata": {},
     "output_type": "execute_result"
    },
    {
     "data": {
      "text/plain": "<Figure size 432x288 with 1 Axes>",
      "image/png": "[encoded data removed]"
     },
     "metadata": {
      "needs_background": "light"
     },
     "output_type": "display_data"
    }
   ],
   "source": [
    "dfkg = df[df[\"PriceMode\"] == \"kg\"]\n",
    "plot.hist(dfkg[\"PricePerItem\"].tolist(), bins=50)"
   ],
   "metadata": {
    "collapsed": false,
    "pycharm": {
     "name": "#%%\n"
    }
   }
  },
  {
   "cell_type": "code",
   "execution_count": 13,
   "outputs": [
    {
     "data": {
      "text/plain": "                                        ProductName               level_1  \\\n0                              johnsons baby lotion  Baby, Toddler & Kids   \n1                                 johnsons baby oil  Baby, Toddler & Kids   \n2  sma balanced nutrition from birth infant formula  Baby, Toddler & Kids   \n3                              johnsons baby powder  Baby, Toddler & Kids   \n4                              johnsons baby powder  Baby, Toddler & Kids   \n\n     level_2                      level_3  PricePerItem PriceMode  \\\n0  Baby Care     Baby Bathing & Skin Care             5        ea   \n1  Baby Care     Baby Bathing & Skin Care             5        ea   \n2  Baby Care  Baby Formula & Toddler Food            20        ea   \n3  Baby Care           Nappies & Changing             5        ea   \n4  Baby Care           Nappies & Changing             5        ea   \n\n   HasMultiBuyDeal  MultiBuyDeal  MultiBuyBasePrice  MultiBuyPrice  \\\n0            False             0                  5              0   \n1            False             0                  5              0   \n2            False             0                 20             20   \n3            False             0                  5              5   \n4            False             0                  5              0   \n\n   MultiBuyQuantity PromoBadgeImageLabel  \n0                 0                   []  \n1                 0                   []  \n2                 1              [saver]  \n3                 1              [saver]  \n4                 0                   []  ",
      "text/html": "<div>\n<style scoped>\n    .dataframe tbody tr th:only-of-type {\n        vertical-align: middle;\n    }\n\n    .dataframe tbody tr th {\n        vertical-align: top;\n    }\n\n    .dataframe thead th {\n        text-align: right;\n    }\n</style>\n<table border=\"1\" class=\"dataframe\">\n  <thead>\n    <tr style=\"text-align: right;\">\n      <th></th>\n      <th>ProductName</th>\n      <th>level_1</th>\n      <th>level_2</th>\n      <th>level_3</th>\n      <th>PricePerItem</th>\n      <th>PriceMode</th>\n      <th>HasMultiBuyDeal</th>\n      <th>MultiBuyDeal</th>\n      <th>MultiBuyBasePrice</th>\n      <th>MultiBuyPrice</th>\n      <th>MultiBuyQuantity</th>\n      <th>PromoBadgeImageLabel</th>\n    </tr>\n  </thead>\n  <tbody>\n    <tr>\n      <th>0</th>\n      <td>johnsons baby lotion</td>\n      <td>Baby, Toddler &amp; Kids</td>\n      <td>Baby Care</td>\n      <td>Baby Bathing &amp; Skin Care</td>\n      <td>5</td>\n      <td>ea</td>\n      <td>False</td>\n      <td>0</td>\n      <td>5</td>\n      <td>0</td>\n      <td>0</td>\n      <td>[]</td>\n    </tr>\n    <tr>\n      <th>1</th>\n      <td>johnsons baby oil</td>\n      <td>Baby, Toddler &amp; Kids</td>\n      <td>Baby Care</td>\n      <td>Baby Bathing &amp; Skin Care</td>\n      <td>5</td>\n      <td>ea</td>\n      <td>False</td>\n      <td>0</td>\n      <td>5</td>\n      <td>0</td>\n      <td>0</td>\n      <td>[]</td>\n    </tr>\n    <tr>\n      <th>2</th>\n      <td>sma balanced nutrition from birth infant formula</td>\n      <td>Baby, Toddler &amp; Kids</td>\n      <td>Baby Care</td>\n      <td>Baby Formula &amp; Toddler Food</td>\n      <td>20</td>\n      <td>ea</td>\n      <td>False</td>\n      <td>0</td>\n      <td>20</td>\n      <td>20</td>\n      <td>1</td>\n      <td>[saver]</td>\n    </tr>\n    <tr>\n      <th>3</th>\n      <td>johnsons baby powder</td>\n      <td>Baby, Toddler &amp; Kids</td>\n      <td>Baby Care</td>\n      <td>Nappies &amp; Changing</td>\n      <td>5</td>\n      <td>ea</td>\n      <td>False</td>\n      <td>0</td>\n      <td>5</td>\n      <td>5</td>\n      <td>1</td>\n      <td>[saver]</td>\n    </tr>\n    <tr>\n      <th>4</th>\n      <td>johnsons baby powder</td>\n      <td>Baby, Toddler &amp; Kids</td>\n      <td>Baby Care</td>\n      <td>Nappies &amp; Changing</td>\n      <td>5</td>\n      <td>ea</td>\n      <td>False</td>\n      <td>0</td>\n      <td>5</td>\n      <td>0</td>\n      <td>0</td>\n      <td>[]</td>\n    </tr>\n  </tbody>\n</table>\n</div>"
     },
     "execution_count": 13,
     "metadata": {},
     "output_type": "execute_result"
    }
   ],
   "source": [
    "df[\"PricePerItem\"] = [round(p / 5) * 5 for p in df[\"PricePerItem\"].tolist()]\n",
    "df[\"MultiBuyPrice\"] = [round(p / 5) * 5 for p in df[\"MultiBuyPrice\"].tolist()]\n",
    "df[\"MultiBuyBasePrice\"] = [round(p / 5) * 5 for p in df[\"MultiBuyBasePrice\"].tolist()]\n",
    "df[\"MultiBuyQuantity\"] = [int(q) for q in df[\"MultiBuyQuantity\"].tolist()]\n",
    "df.head(5)"
   ],
   "metadata": {
    "collapsed": false,
    "pycharm": {
     "name": "#%%\n"
    }
   }
  },
  {
   "cell_type": "code",
   "execution_count": 14,
   "outputs": [
    {
     "data": {
      "text/plain": "<BarContainer object of 429 artists>"
     },
     "execution_count": 14,
     "metadata": {},
     "output_type": "execute_result"
    },
    {
     "data": {
      "text/plain": "<Figure size 432x288 with 1 Axes>",
      "image/png": "[encoded data removed]"
     },
     "metadata": {
      "needs_background": "light"
     },
     "output_type": "display_data"
    }
   ],
   "source": [
    "types = []\n",
    "countt = []\n",
    "countf = []\n",
    "levela = df[\"level_1\"].tolist()\n",
    "levelb = df[\"level_2\"].tolist()\n",
    "levelc = df[\"level_3\"].tolist()\n",
    "state = df[\"HasMultiBuyDeal\"].tolist()\n",
    "labels = [\";\".join([levela[i], levelb[i], levelc[i]]) for i in range(len(levela))]\n",
    "for i in range(len(labels)):\n",
    "    if labels[i] in types:\n",
    "        if state[i]:\n",
    "            countt[types.index(labels[i])] += 1\n",
    "        else:\n",
    "            countf[types.index(labels[i])] += 1\n",
    "    else:\n",
    "        types.append(labels[i])\n",
    "        countt.append(0)\n",
    "        countf.append(0)\n",
    "plot.bar([a for a in range(len(types))], countt)\n",
    "plot.bar([a for a in range(len(types))], countf, bottom=countt)"
   ],
   "metadata": {
    "collapsed": false,
    "pycharm": {
     "name": "#%%\n"
    }
   }
  },
  {
   "cell_type": "code",
   "execution_count": 15,
   "outputs": [
    {
     "data": {
      "text/plain": "<BarContainer object of 429 artists>"
     },
     "execution_count": 15,
     "metadata": {},
     "output_type": "execute_result"
    },
    {
     "data": {
      "text/plain": "<Figure size 432x288 with 1 Axes>",
      "image/png": "[encoded data removed]"
     },
     "metadata": {
      "needs_background": "light"
     },
     "output_type": "display_data"
    }
   ],
   "source": [
    "types = []\n",
    "countt = []\n",
    "countf = []\n",
    "levela = df[\"level_1\"].tolist()\n",
    "levelb = df[\"level_2\"].tolist()\n",
    "levelc = df[\"level_3\"].tolist()\n",
    "state = df[\"PromoBadgeImageLabel\"].tolist()\n",
    "labels = [\";\".join([levela[i], levelb[i], levelc[i]]) for i in range(len(levela))]\n",
    "for i in range(len(labels)):\n",
    "    if labels[i] in types:\n",
    "        if state[i]:\n",
    "            countt[types.index(labels[i])] += 1\n",
    "        else:\n",
    "            countf[types.index(labels[i])] += 1\n",
    "    else:\n",
    "        types.append(labels[i])\n",
    "        countt.append(0)\n",
    "        countf.append(0)\n",
    "plot.bar([a for a in range(len(types))], countt)\n",
    "plot.bar([a for a in range(len(types))], countf, bottom=countt)"
   ],
   "metadata": {
    "collapsed": false,
    "pycharm": {
     "name": "#%%\n"
    }
   }
  },
  {
   "cell_type": "code",
   "execution_count": 16,
   "outputs": [],
   "source": [
    "def evaluation(predictions, labels, id2label, model_name=None):\n",
    "    acc = accuracy_score(labels, predictions)\n",
    "    recall = recall_score(labels, predictions, average=\"macro\")\n",
    "    f1 = f1_score(labels, predictions, average=\"macro\")\n",
    "    report = classification_report(labels, predictions,\n",
    "                                   target_names=[id2label[i] for i in range(len(id2label))])\n",
    "    info = \"acc:%s, recall:%s, f1 score:%s\" % (acc, recall, f1)\n",
    "    if model_name is not None:\n",
    "        info = \"%s: %s\" % (model_name, info)\n",
    "    print(info)\n",
    "    print(report)"
   ],
   "metadata": {
    "collapsed": false,
    "pycharm": {
     "name": "#%%\n"
    }
   }
  },
  {
   "cell_type": "code",
   "execution_count": 17,
   "outputs": [
    {
     "name": "stdout",
     "output_type": "stream",
     "text": [
      "data len: 14464\n",
      "id2label {0: 'Kitchen, Dining & Household;Cleaning Products;Furniture & Metal Polishes', 1: 'Pantry;Jams, Honey & Spreads;Jam & Marmalade', 2: 'Drinks;Cold Drinks;Sparkling Water', 3: 'Pantry;Salad & Cooking Oils;Oil Sprays', 4: 'Pantry;World Foods;Chinese', 5: 'Chilled, Frozen & Desserts;Desserts;Ice Cream Cones & Wafers', 6: 'Meal Spot;Ready to Heat;Chilled Soups', 7: 'Beer, Cider & Wine;Beer & Cider;IPA', 8: 'Drinks;Cold Drinks;Powdered Drinks', 9: 'Baby, Toddler & Kids;Baby Care;Nursing & Feeding', 10: 'Pantry;Breakfast Cereals;Cold Cereals', 11: 'Kitchen, Dining & Household;Stationery & Entertainment;Newspapers', 12: 'Fresh Foods & Bakery;Dairy & Eggs;Dairy & Lactose Free', 13: 'Drinks;Hot Drinks;Fresh Coffees', 14: 'Beer, Cider & Wine;Wine;Shiraz', 15: 'Chilled, Frozen & Desserts;Dairy & Eggs;Dairy & Lactose Free', 16: 'Pantry;Biscuits & Crackers;Rice Crackers', 17: 'Beer, Cider & Wine;Beer & Cider;European-style Ale', 18: 'Drinks;Hot Drinks;Coffee Substitutes', 19: 'Chilled, Frozen & Desserts;Frozen Foods;Frozen Seafood', 20: 'Pantry;Hot Drinks;Coffee Flavoured Sachets', 21: 'Pantry;Baking Supplies & Sugar;Baking Syrups', 22: 'Fresh Foods & Bakery;Dairy & Eggs;Flavoured Milk', 23: 'Chilled, Frozen & Desserts;Desserts;Ice Blocks & Ice Pops', 24: 'Fresh Foods & Bakery;Dairy & Eggs;Butter & Spreads', 25: 'Pantry;Hot Drinks;Malt Milk Drink Mixes', 26: 'Pantry;Pasta, Rice & Noodles;Wild & Coloured Rices', 27: 'Personal Care;Health & Wellness;Pain Relief', 28: 'Beer, Cider & Wine;Wine;Chardonnay', 29: 'Pantry;Baking Supplies & Sugar;Breadcrumbs & Coatings', 30: 'Pantry;Pasta, Rice & Noodles;Dried Pastas', 31: 'Pantry;Baking Supplies & Sugar;Flour', 32: 'Fresh Foods & Bakery;Bakery;Biscuits & Slices', 33: 'Pantry;World Foods;Other Countries', 34: 'Pantry;Breakfast Cereals;Breakfast On The Go', 35: 'Pantry;Canned & Prepared Foods;Canned Fish', 36: 'Pantry;Pasta, Rice & Noodles;Jasmine Rices', 37: 'Pantry;Pasta, Rice & Noodles;Fresh Pastas', 38: 'Beer, Cider & Wine;Wine;Sauvignon Blanc', 39: 'Pantry;Jams, Honey & Spreads;Marmite & Vegemite', 40: 'Personal Care;Health & Wellness;Allergy & Sinus', 41: 'Beer, Cider & Wine;Wine;Champagne & Sparkling Wine', 42: 'Beer, Cider & Wine;Beer & Cider;Pilsner', 43: 'Drinks;Hot Drinks;Black Teas', 44: 'Pantry;Salad & Cooking Oils;Cooking Fat', 45: 'Chilled, Frozen & Desserts;Cheese;Deli Cabinet Cheeses', 46: 'Kitchen, Dining & Household;Cleaning Products;Bathroom & Shower Cleaners', 47: 'Beer, Cider & Wine;Beer & Cider;Apple & Pear Cider', 48: 'Kitchen, Dining & Household;Household;Party Supplies', 49: 'Drinks;Hot Drinks;Coffee Capsules', 50: 'Meal Spot;Ready to Cook;Vege Bags', 51: 'Fresh Foods & Bakery;Fruit & Vegetables;PrePacked Fresh Vegetables', 52: 'Pantry;Pasta, Rice & Noodles;Instant Rices', 53: 'Fresh Foods & Bakery;Fruit & Vegetables;Fresh Salads', 54: 'Kitchen, Dining & Household;Cleaning Products;Dishwashing Liquid', 55: 'Pantry;Canned & Prepared Foods;Coconut Cream & Milk', 56: 'Kitchen, Dining & Household;Laundry;Laundry Supplies', 57: 'Fresh Foods & Bakery;Deli, Salads & Cooked Meats;Chilled Pies & Pastries', 58: 'Personal Care;Health & Wellness;Contact Lens & Eye Care', 59: 'Kitchen, Dining & Household;Cleaning Products;Glass Cleaners', 60: 'Pantry;Canned & Prepared Foods;Canned Milk & Cream', 61: 'Pantry;Snack Foods;Muesli Bars', 62: 'Fresh Foods & Bakery;Bakery;Garlic & Herb Breads', 63: 'Kitchen, Dining & Household;Cleaning Products;Carpet & Floor Cleaners', 64: 'Baby, Toddler & Kids;Baby Care;Nappies & Changing', 65: 'Chilled, Frozen & Desserts;Desserts;Canned Desserts', 66: 'Beer, Cider & Wine;Beer & Cider;Wheat & Other Grain Beer', 67: 'Drinks;Hot Drinks;Chocolate Milk Drink Mixes', 68: 'Personal Care;Health & Wellness;Digestion, Nausea & Laxatives', 69: 'Kitchen, Dining & Household;Garage & Outdoor;BBQ', 70: 'Pantry;Breakfast Cereals;Hot Cereals', 71: 'Pantry;Biscuits & Crackers;Chocolate Biscuits', 72: 'Drinks;Cold Drinks;Squash, Syrups & Cordials', 73: 'Pantry;Hot Drinks;Chocolate Milk Drink Mixes', 74: 'Fresh Foods & Bakery;Seafood;Fresh Seafood', 75: 'Pantry;Canned & Prepared Foods;Canned & Dried Vegetables', 76: 'Fresh Foods & Bakery;Bakery;Fresh Breads & Rolls', 77: 'Pantry;Canned & Prepared Foods;Chilled Soups', 78: 'Meal Spot;Ready to Heat;Chilled Pies & Pastries', 79: 'Pantry;Canned & Prepared Foods;Ready Meals', 80: 'Pantry;Hot Drinks;Chai Teas', 81: 'Beer, Cider & Wine;Beer & Cider;British-style Ale', 82: 'Pets;Pet Supplies;Dog Accessories', 83: 'Pantry;Pasta, Rice & Noodles;Basmati Rices', 84: 'Fresh Foods & Bakery;Seafood;Fresh Shellfish', 85: 'Fresh Foods & Bakery;Dairy & Eggs;Sour Cream & Crème Fraiche', 86: 'Personal Care;Health & Wellness;Family Planning', 87: 'Meal Spot;Ready to Cook;Pasta Meals', 88: 'Chilled, Frozen & Desserts;Desserts;Chilled Custards', 89: 'Kitchen, Dining & Household;Household;Food Wraps & Bags', 90: 'Pantry;Hot Drinks;Black Teas', 91: 'Pantry;Baking Supplies & Sugar;Cooking Chocolate', 92: 'Pantry;Baking Supplies & Sugar;Dried Fruit', 93: 'Personal Care;Beauty & Grooming;Makeup & Cosmetics', 94: 'Pets;Pet Supplies;Bird Supplies', 95: 'Pantry;Jams, Honey & Spreads;Nut Spreads', 96: 'Fresh Foods & Bakery;Seafood;Seafood Salad', 97: 'Pantry;Snack Foods;Bread Snacks', 98: 'Drinks;Hot Drinks;Green Teas', 99: 'Chilled, Frozen & Desserts;Cheese;Cottage Cheese', 100: 'Pantry;Hot Drinks;Fresh Coffees', 101: 'Pets;Pet Supplies;Cat Food', 102: 'Pantry;Sauces, Stock & Marinades;Tomato Sauces', 103: 'Chilled, Frozen & Desserts;Frozen Foods;Frozen Pastry', 104: 'Pantry;World Foods;South African', 105: 'Pets;Pet Supplies;Small Animal Supplies', 106: 'Pantry;Spices & Seasonings;Dried Spices', 107: 'Kitchen, Dining & Household;Laundry;Laundry Soap', 108: 'Fresh Foods & Bakery;Dairy & Eggs;Yoghurt Bases', 109: 'Pantry;Sauces, Stock & Marinades;Pasta Sauces', 110: 'Fresh Foods & Bakery;Deli, Salads & Cooked Meats;Fresh Deli Savouries', 111: 'Fresh Foods & Bakery;Bakery;Bread Rolls & Buns', 112: 'Pantry;Hot Drinks;Coffee Additives & Filters', 113: 'Fresh Foods & Bakery;Butchery;Fresh Venison & Game Meat', 114: 'Fresh Foods & Bakery;Bulk & Loose Foods;Bulk Seeds, Legumes & Grains', 115: 'Meal Spot;Ready to Heat;Ready Meals', 116: 'Personal Care;Health & Wellness;Adult Care', 117: 'Fresh Foods & Bakery;Deli, Salads & Cooked Meats;Continental Sausage & Salami', 118: 'Fresh Foods & Bakery;Fruit & Vegetables;Vege Bags', 119: 'Fresh Foods & Bakery;Butchery;PreCooked Sausages', 120: 'Chilled, Frozen & Desserts;Cheese;Specialty Cheeses', 121: 'Fresh Foods & Bakery;Fruit & Vegetables;Fresh Cut Fruit', 122: 'Beer, Cider & Wine;Wine;Pinot Gris', 123: 'Drinks;Cold Drinks;Coconut Water', 124: 'Chilled, Frozen & Desserts;Dairy & Eggs;Butter & Spreads', 125: 'Fresh Foods & Bakery;Fruit & Vegetables;Salad Bags', 126: 'Kitchen, Dining & Household;Stationery & Entertainment;Stationery & Craft', 127: 'Pantry;Baking Supplies & Sugar;Icing & Decorating', 128: 'Pantry;Condiments & Dressings;Aioli', 129: 'Fresh Foods & Bakery;Seafood;Frozen Fish & Seafood', 130: 'Pantry;Snack Foods;Nut Bars & Snacks', 131: 'Pantry;Biscuits & Crackers;Rice Cakes', 132: 'Meal Spot;Ready to Cook;Noodle Meals', 133: 'Fresh Foods & Bakery;Seafood;Fresh Fish Fillets & Steaks', 134: 'Chilled, Frozen & Desserts;Cheese;Cheese Slices', 135: 'Pantry;Baking Supplies & Sugar;Sugar', 136: 'Kitchen, Dining & Household;Cleaning Products;Bleaches', 137: 'Pantry;Canned & Prepared Foods;Soup Mixes', 138: 'Pantry;Sauces, Stock & Marinades;Stir Fry Sauces', 139: 'Meal Spot;Ready to Cook;Mexican', 140: 'Pantry;Sauces, Stock & Marinades;Tomato Pastes & Purees', 141: 'Kitchen, Dining & Household;Laundry;Washing Machine Cleaners', 142: 'Pantry;Snack Foods;Nutritional Bars', 143: 'Beer, Cider & Wine;Beer & Cider;Specialty & Flavoured Beer', 144: 'Fresh Foods & Bakery;Dairy & Eggs;Long Life Milk & Milk Powder', 145: 'Kitchen, Dining & Household;Stationery & Entertainment;Toys & Recreation', 146: 'Fresh Foods & Bakery;Bakery;Fresh Cakes & Muffins', 147: 'Fresh Foods & Bakery;Bakery;Pies & Pastries', 148: 'Meal Spot;Ready to Heat;Frozen Pizza & Bases', 149: 'Pantry;Spices & Seasonings;Garlic & Ginger', 150: 'Personal Care;Health & Wellness;Insect Repellent', 151: 'Pantry;Condiments & Dressings;Barbeque Sauces', 152: 'Fresh Foods & Bakery;Deli, Salads & Cooked Meats;Dips, Pesto & Pate', 153: 'Chilled, Frozen & Desserts;Frozen Foods;Frozen Vegetarian', 154: 'Kitchen, Dining & Household;Stationery & Entertainment;Magazines', 155: 'Personal Care;Beauty & Grooming;Apparel & Hosiery', 156: 'Pantry;Sauces, Stock & Marinades;Marinades', 157: 'Pantry;Sauces, Stock & Marinades;Stock', 158: 'Kitchen, Dining & Household;Cleaning Products;Kitchen Cleaners', 159: 'Chilled, Frozen & Desserts;Frozen Foods;Frozen Savouries', 160: 'Chilled, Frozen & Desserts;Dairy & Eggs;Flavoured Milk', 161: 'Drinks;Cold Drinks;Drinking Yoghurt & Smoothies', 162: 'Personal Care;Beauty & Grooming;Suncare & Self Tan', 163: 'Drinks;Cold Drinks;Fruit Drinks & Juices', 164: 'Pantry;Confectionery;Chewing Gum & Mints', 165: 'Pantry;Snack Foods;Dips & Salsas', 166: 'Kitchen, Dining & Household;Household;Kitchenware', 167: 'Chilled, Frozen & Desserts;Frozen Foods;Frozen Pies', 168: 'Pantry;Pasta, Rice & Noodles;Specialty Grains & Seeds', 169: 'Pantry;Baking Supplies & Sugar;Baking Nuts & Seeds', 170: 'Pantry;Biscuits & Crackers;Crackers', 171: 'Drinks;Cold Drinks;Vegetable Juices', 172: 'Fresh Foods & Bakery;Bulk & Loose Foods;Bulk Nuts', 173: 'Chilled, Frozen & Desserts;Frozen Foods;Frozen Chicken & Poultry', 174: 'Pantry;Salad & Cooking Oils;Olive Oils', 175: 'Chilled, Frozen & Desserts;Cheese;Cream Cheese', 176: 'Pantry;Breakfast Cereals;Muesli', 177: 'Beer, Cider & Wine;Wine;Other Red Wine', 178: 'Beer, Cider & Wine;Beer & Cider;Fruit & Flavoured Cider', 179: 'Pantry;Spices & Seasonings;Salt & Pepper', 180: 'Drinks;Hot Drinks;Coffee Additives & Filters', 181: 'Meal Spot;Ready to Eat;Fresh Salads', 182: 'Pantry;Canned & Prepared Foods;Canned Soup', 183: 'Personal Care;Beauty & Grooming;Hair Care & Treatments', 184: 'Pantry;Salad & Cooking Oils;Vegetable Oils', 185: 'Baby, Toddler & Kids;Baby Care;Baby Formula & Toddler Food', 186: 'Pantry;Pasta, Rice & Noodles;Pasta Meals', 187: 'Pantry;Salad & Cooking Oils;Nut & Seed Oils', 188: 'Beer, Cider & Wine;Wine;Cask Wine', 189: 'Kitchen, Dining & Household;Cleaning Products;All Purpose Cleaners', 190: 'Beer, Cider & Wine;Wine;Merlot', 191: 'Pantry;Canned & Prepared Foods;Baked Beans & Spaghetti', 192: 'Personal Care;Beauty & Grooming;Deodorants', 193: 'Personal Care;Beauty & Grooming;Hair Colouring', 194: 'Fresh Foods & Bakery;Bakery;Fresh Biscuits & Slices', 195: 'Beer, Cider & Wine;Beer & Cider;Lighter Alcohol Beers', 196: 'Pantry;Spices & Seasonings;Freshly Ground Herbs', 197: 'Pantry;Sauces, Stock & Marinades;Specialty Sauces', 198: 'Pantry;Condiments & Dressings;Olives', 199: 'Chilled, Frozen & Desserts;Dairy & Eggs;Eggs', 200: 'Chilled, Frozen & Desserts;Desserts;Frozen Dessert Pastries', 201: 'Fresh Foods & Bakery;Butchery;PrePacked Chicken & Poultry', 202: 'Pantry;Sauces, Stock & Marinades;Packet Sauces', 203: 'Fresh Foods & Bakery;Bulk & Loose Foods;Bulk Dried Fruit', 204: 'Kitchen, Dining & Household;Cleaning Products;Cleaning Accessories', 205: 'Beer, Cider & Wine;Beer & Cider;Pale Ale', 206: 'Chilled, Frozen & Desserts;Frozen Foods;Frozen Beef, Lamb & Pork', 207: 'Chilled, Frozen & Desserts;Desserts;Frozen Bavarians & Cheesecake', 208: 'Pets;Pet Supplies;Dog Treats', 209: 'Fresh Foods & Bakery;Butchery;PrePacked Sausages', 210: 'Pets;Pet Supplies;Cat Treats', 211: 'Pantry;Condiments & Dressings;Pickles', 212: 'Beer, Cider & Wine;Beer & Cider;American-style Ale', 213: 'Pantry;Canned & Prepared Foods;Packet Soup', 214: 'Chilled, Frozen & Desserts;Dairy & Eggs;Fresh Milk', 215: 'Kitchen, Dining & Household;Household;Manchester', 216: 'Pantry;World Foods;UK', 217: 'Drinks;Hot Drinks;Instant Coffees', 218: 'Kitchen, Dining & Household;Household;Cooking & Bakeware', 219: 'Baby, Toddler & Kids;Baby Care;Baby Bathing & Skin Care', 220: 'Pantry;Jams, Honey & Spreads;Honey', 221: 'Drinks;Hot Drinks;Malt Milk Drink Mixes', 222: 'Kitchen, Dining & Household;Laundry;Clothes Pegs', 223: 'Chilled, Frozen & Desserts;Frozen Foods;Frozen Bread & Dough', 224: 'Pantry;Hot Drinks;Coffee Substitutes', 225: 'Meal Spot;Ready to Eat;Deli Salads', 226: 'Pantry;Pasta, Rice & Noodles;Noodle Meals', 227: 'Personal Care;Health & Wellness;Stop Smoking', 228: 'Chilled, Frozen & Desserts;Frozen Foods;Frozen Fruit', 229: 'Pantry;Baking Supplies & Sugar;Baking Additives', 230: 'Pantry;Confectionery;Liquorice', 231: 'Personal Care;Health & Wellness;Wellness & Sports Nutrition', 232: 'Pantry;World Foods;Japanese', 233: 'Meal Spot;Ready to Eat;Fresh Deli Savouries', 234: 'Chilled, Frozen & Desserts;Dairy & Eggs;Fresh Organic Milk', 235: 'Kitchen, Dining & Household;Garage & Outdoor;Gardening Supplies', 236: 'Personal Care;Beauty & Grooming;Hand & Body Care', 237: 'Drinks;Hot Drinks;Fruit & Herbal Teas', 238: 'Drinks;Cold Drinks;Sports & Energy Drinks', 239: 'Fresh Foods & Bakery;Deli, Salads & Cooked Meats;Specialty Dry Goods', 240: 'Pantry;Canned & Prepared Foods;Syrups & Sauces', 241: 'Chilled, Frozen & Desserts;Desserts;Jelly & Powdered Desserts', 242: 'Pantry;Hot Drinks;Fruit & Herbal Teas', 243: 'Fresh Foods & Bakery;Deli, Salads & Cooked Meats;Gourmet Oils & Condiments', 244: 'Pantry;Hot Drinks;Green Teas', 245: 'Fresh Foods & Bakery;Seafood;Fresh Whole Fish', 246: 'Pantry;Sauces, Stock & Marinades;Curry Pastes & Sauces', 247: 'Pantry;Canned & Prepared Foods;Canned Fruit', 248: 'Drinks;Hot Drinks;Chai Teas', 249: 'Fresh Foods & Bakery;Dairy & Eggs;Fresh Cream', 250: 'Kitchen, Dining & Household;Laundry;Fine Fabric Washers', 251: 'Kitchen, Dining & Household;Laundry;Laundry Powders', 252: 'Pantry;World Foods;Mexican', 253: 'Fresh Foods & Bakery;Bakery;Sliced Bread', 254: 'Pantry;Condiments & Dressings;Relish', 255: 'Pets;Pet Supplies;Pet Accessories', 256: 'Fresh Foods & Bakery;Butchery;PrePacked Beef & Lamb', 257: 'Pantry;Biscuits & Crackers;Gourmet Biscuits & Crackers', 258: 'Pantry;Snack Foods;Popcorn', 259: 'Pantry;Snack Foods;Snack Mixes', 260: 'Meal Spot;Ready to Eat;Seafood Salad', 261: 'Personal Care;Beauty & Grooming;Hair Styling & Accessories', 262: 'Chilled, Frozen & Desserts;Dairy & Eggs;Yoghurt Bases', 263: 'Pantry;Condiments & Dressings;Salad Dressings', 264: 'Pantry;Spices & Seasonings;Chilli & Paprika', 265: 'Pantry;Sauces, Stock & Marinades;Soy Sauce', 266: 'Fresh Foods & Bakery;Bakery;Fresh Desserts & Pastries', 267: 'Pantry;Confectionery;Chocolate Family Bags', 268: 'Chilled, Frozen & Desserts;Cheese;Deli Cheeseboards', 269: 'Kitchen, Dining & Household;Household;Homeware', 270: 'Fresh Foods & Bakery;Deli, Salads & Cooked Meats;Ham & Pork', 271: 'Drinks;Cold Drinks;Flavoured Water', 272: 'Kitchen, Dining & Household;Garage & Outdoor;Hooks', 273: 'Personal Care;Health & Wellness;Cough, Cold & Flu', 274: 'Fresh Foods & Bakery;Butchery;Fresh Chicken & Poultry', 275: 'Chilled, Frozen & Desserts;Desserts;Ice Cream & Frozen Yoghurt', 276: 'Fresh Foods & Bakery;Deli, Salads & Cooked Meats;Deli Salads', 277: 'Personal Care;Health & Wellness;Sanitary Protection', 278: 'Pantry;Snack Foods;Fruit Snacks', 279: 'Pantry;Confectionery;Chocolate Blocks', 280: 'Pantry;Baking Supplies & Sugar;Baking Mixes', 281: 'Kitchen, Dining & Household;Laundry;Fabric Softeners', 282: 'Pantry;Hot Drinks;Instant Coffees', 283: 'Pantry;Confectionery;Lollies Family Bags', 284: 'Fresh Foods & Bakery;Deli, Salads & Cooked Meats;Bacon', 285: 'Pantry;Condiments & Dressings;Chutneys', 286: 'Baby, Toddler & Kids;Baby Care;Baby Wipes', 287: 'Pantry;Hot Drinks;Coffee Capsules', 288: 'Fresh Foods & Bakery;Bakery;Specialty Breads', 289: 'Drinks;Cold Drinks;Milk Drink Mixes', 290: 'Meal Spot;Ready to Heat;Canned Soup', 291: 'Beer, Cider & Wine;Wine;Other White Wine', 292: 'Baby, Toddler & Kids;Baby Care;Baby Hair Care', 293: 'Fresh Foods & Bakery;Deli, Salads & Cooked Meats;PreCooked Chicken & Poultry', 294: 'Fresh Foods & Bakery;Deli, Salads & Cooked Meats;Hummus', 295: 'Pantry;Pasta, Rice & Noodles;Long Grain Rices', 296: 'Personal Care;Health & Wellness;First Aid', 297: 'Pantry;Condiments & Dressings;Fruit Sauces', 298: 'Personal Care;Beauty & Grooming;Shaving & Hair Removal', 299: 'Meal Spot;Ready to Heat;Frozen Ready Meals', 300: 'Fresh Foods & Bakery;Bakery;Organic & Gluten Free', 301: 'Pantry;Canned & Prepared Foods;Pizza & Pizza Bases', 302: 'Drinks;Cold Drinks;Still Water', 303: 'Pantry;Snack Foods;Corn Chips', 304: 'Chilled, Frozen & Desserts;Frozen Foods;Frozen Vegetables', 305: 'Pantry;Salad & Cooking Oils;Other Oils', 306: 'Fresh Foods & Bakery;Bulk & Loose Foods;Bulk Snacks & Mixes', 307: 'Fresh Foods & Bakery;Bakery;Cakes & Muffins', 308: 'Pantry;Breakfast Cereals;Flake/Fibre Cereals', 309: 'Pantry;Biscuits & Crackers;Crème & Jam Biscuits', 310: 'Fresh Foods & Bakery;Butchery;Fresh Sausages', 311: 'Pantry;Salad & Cooking Oils;Avocado Oils', 312: 'Chilled, Frozen & Desserts;Dairy & Eggs;Fresh Cream', 313: 'Drinks;Cold Drinks;Soft Drinks', 314: 'Pantry;World Foods;Indian', 315: 'Meal Spot;Ready to Heat;Pizza & Pizza Bases', 316: 'Pets;Pet Supplies;Dog Food', 317: 'Chilled, Frozen & Desserts;Frozen Foods;Frozen Ready Meals', 318: 'Beer, Cider & Wine;Beer & Cider;Lager', 319: 'Personal Care;Health & Wellness;Vitamins & Supplements', 320: 'Chilled, Frozen & Desserts;Frozen Foods;Frozen Pizza & Bases', 321: 'Drinks;Cold Drinks;Sparkling Juices', 322: 'Kitchen, Dining & Household;Laundry;Laundry Liquid & Capsules', 323: 'Pets;Pet Supplies;Fish & Aquatic Pet Supplies', 324: 'Chilled, Frozen & Desserts;Dairy & Eggs;Sour Cream & Crème Fraiche', 325: 'Pantry;Confectionery;Boxed Chocolates', 326: 'Fresh Foods & Bakery;Deli, Salads & Cooked Meats;Olives & Antipasti Mixes', 327: 'Pantry;Confectionery;Christmas', 328: 'Pantry;Snack Foods;Cereal & Snack Bars', 329: 'Pantry;Salad & Cooking Oils;Rice Bran Oils', 330: 'Kitchen, Dining & Household;Household;Fire Needs', 331: 'Fresh Foods & Bakery;Butchery;Fresh Beef & Lamb', 332: 'Kitchen, Dining & Household;Cleaning Products;Dishwasher Detergents', 333: 'Kitchen, Dining & Household;Household;Tissues & Toilet Paper', 334: 'Chilled, Frozen & Desserts;Cheese;Grated Cheese', 335: 'Personal Care;Health & Wellness;Foot Care', 336: 'Chilled, Frozen & Desserts;Cheese;Deli Specialty Cheeses', 337: 'Chilled, Frozen & Desserts;Frozen Foods;Frozen Fries & Potatoes', 338: 'Fresh Foods & Bakery;Bakery;Wraps & Pita Breads', 339: 'Kitchen, Dining & Household;Household;Electrical', 340: 'Kitchen, Dining & Household;Household;Shoe Care', 341: 'Pantry;Biscuits & Crackers;Plain Sweet Biscuits', 342: 'Baby, Toddler & Kids;Baby Care;Baby Health', 343: 'Beer, Cider & Wine;Beer & Cider;Brewing Supplies', 344: 'Kitchen, Dining & Household;Garage & Outdoor;Hardware & Tools', 345: 'Drinks;Hot Drinks;Coffee Flavoured Sachets', 346: 'Drinks;Cold Drinks;Non Dairy Milks', 347: 'Pantry;Snack Foods;Potato Chips', 348: 'Kitchen, Dining & Household;Household;Air Fresheners & Deodorisers', 349: 'Pantry;Canned & Prepared Foods;Vegetarian', 350: 'Pantry;Snack Foods;Chips', 351: 'Fresh Foods & Bakery;Seafood;Fresh Smoked Fish', 352: 'Drinks;Cold Drinks;Iced Teas', 353: 'Fresh Foods & Bakery;Dairy & Eggs;Eggs', 354: 'Chilled, Frozen & Desserts;Frozen Foods;Frozen Fish', 355: 'Pantry;Condiments & Dressings;Worcestershire Sauces', 356: 'Meal Spot;Ready to Heat;Frozen Savouries', 357: 'Pantry;Biscuits & Crackers;Biscuits & Cookies', 358: 'Chilled, Frozen & Desserts;Desserts;Meringues & Pavlovas', 359: 'Fresh Foods & Bakery;Fruit & Vegetables;Fresh Fruit', 360: 'Beer, Cider & Wine;Wine;Pinot Noir', 361: 'Fresh Foods & Bakery;Bulk & Loose Foods;Bulk Breakfast Cereals', 362: 'Pantry;Sauces, Stock & Marinades;Gravies', 363: 'Pantry;Pasta, Rice & Noodles;Rice Meals', 364: 'Pantry;Jams, Honey & Spreads;Sweet Spreads', 365: 'Pantry;Condiments & Dressings;Mayonnaise', 366: 'Kitchen, Dining & Household;Cleaning Products;Paper Towels', 367: 'Pantry;World Foods;South East Asian', 368: 'Meal Spot;Ready to Cook;Simply DINNER', 369: 'Pantry;Condiments & Dressings;Chilli & Pepper Sauces', 370: 'Fresh Foods & Bakery;Deli, Salads & Cooked Meats;PreCooked Beef & Lamb', 371: 'Fresh Foods & Bakery;Fruit & Vegetables;Fresh Herbs', 372: 'Pantry;Salad & Cooking Oils;Coconut Oils', 373: 'Chilled, Frozen & Desserts;Dairy & Eggs;Yoghurt & Dairy Food', 374: 'Pantry;Jams, Honey & Spreads;Savoury Spreads', 375: 'Pantry;Sauces, Stock & Marinades;Simmer & Stir-Through Sauces', 376: 'Kitchen, Dining & Household;Laundry;Pre Wash Stain Removers', 377: 'Fresh Foods & Bakery;Dairy & Eggs;Yoghurt & Dairy Food', 378: 'Chilled, Frozen & Desserts;Desserts;Frozen Puddings', 379: 'Kitchen, Dining & Household;Household;Rubbish & Vacuum Bags', 380: 'Chilled, Frozen & Desserts;Desserts;Ready To Serve Puddings', 381: 'Fresh Foods & Bakery;Fruit & Vegetables;Fresh Vegetables', 382: 'Pantry;Spices & Seasonings;Dried Herbs', 383: 'Pantry;Biscuits & Crackers;Assorted Biscuits & Crackers', 384: 'Kitchen, Dining & Household;Household;Food Storage', 385: 'Fresh Foods & Bakery;Seafood;Fresh Fish Heads', 386: 'Pets;Pet Supplies;Pet Treatments', 387: 'Pantry;World Foods;USA', 388: 'Drinks;Cold Drinks;Chilled Fruit Juices', 389: 'Pantry;Condiments & Dressings;Vinegars', 390: 'Fresh Foods & Bakery;Meal Kits;Simply DINNER', 391: 'Kitchen, Dining & Household;Laundry;Clothing Dyes', 392: 'Pantry;Snack Foods;Meat Snacks', 393: 'Fresh Foods & Bakery;Bulk & Loose Foods;Bulk Confectionery', 394: 'Beer, Cider & Wine;Beer & Cider;Spirits', 395: 'Beer, Cider & Wine;Beer & Cider;Stout, Porter & Black Beer', 396: 'Kitchen, Dining & Household;Cleaning Products;Dishwasher Rinse & Clean', 397: 'Pantry;Canned & Prepared Foods;Canned Meat', 398: 'Fresh Foods & Bakery;Dairy & Eggs;Fresh Organic Milk', 399: 'Personal Care;Beauty & Grooming;Face & Lip Skin Care', 400: 'Fresh Foods & Bakery;Dairy & Eggs;Fresh Milk', 401: 'Pantry;Sauces, Stock & Marinades;Chilled Pasta Sauces', 402: 'Kitchen, Dining & Household;Household;Disposable Tableware', 403: 'Pantry;Confectionery;Novelty Bars & Singles', 404: 'Fresh Foods & Bakery;Bakery;Muffin Splits & Crumpets', 405: 'Kitchen, Dining & Household;Household;Batteries & Light Bulbs', 406: 'Fresh Foods & Bakery;Deli, Salads & Cooked Meats;Deli Meats', 407: 'Baby, Toddler & Kids;Baby Care;Baby Dental Care', 408: 'Pets;Pet Supplies;Cat Accessories', 409: 'Pantry;Pasta, Rice & Noodles;Noodles', 410: 'Chilled, Frozen & Desserts;Cheese;Cheese Blocks', 411: 'Beer, Cider & Wine;Wine;Rose', 412: 'Beer, Cider & Wine;Wine;Cabernet', 413: 'Fresh Foods & Bakery;Butchery;PrePacked Pork', 414: 'Meal Spot;Ready to Heat;Packet Soup', 415: 'Pantry;Condiments & Dressings;Mint Sauces', 416: 'Pantry;Baking Supplies & Sugar;Sugar Substitutes', 417: 'Pantry;Snack Foods;Vege Snacks', 418: 'Kitchen, Dining & Household;Household;Pest & Insect Control', 419: 'Pantry;Baking Supplies & Sugar;Essences & Colourings', 420: 'Kitchen, Dining & Household;Garage & Outdoor;Car Care', 421: 'Pantry;Sauces, Stock & Marinades;Tartare & Seafood Sauces', 422: 'Fresh Foods & Bakery;Butchery;Fresh Pork', 423: 'Personal Care;Beauty & Grooming;Oral Health', 424: 'Pantry;Condiments & Dressings;Mustards', 425: 'Pantry;Pasta, Rice & Noodles;Short & Medium Grain Rices', 426: 'Chilled, Frozen & Desserts;Dairy & Eggs;Long Life Milk & Milk Powder', 427: 'Pantry;World Foods;Thai', 428: 'Pantry;World Foods;Korean'}\n"
     ]
    }
   ],
   "source": [
    "label2id = {l: i for i, l in enumerate(set(labels))}\n",
    "id2label = {i: l for l, i in label2id.items()}\n",
    "labels = [label2id[l] for l in labels]\n",
    "texts = df[\"ProductName\"].tolist()\n",
    "vectorizer = TfidfVectorizer()\n",
    "features = vectorizer.fit_transform(texts)\n",
    "print(\"data len:\", len(texts))\n",
    "print(\"id2label\", id2label)"
   ],
   "metadata": {
    "collapsed": false,
    "pycharm": {
     "name": "#%%\n"
    }
   }
  },
  {
   "cell_type": "code",
   "execution_count": 18,
   "outputs": [],
   "source": [
    "x_train, x_test, y_train, y_test = train_test_split(features, labels, test_size=0.25, random_state=3)"
   ],
   "metadata": {
    "collapsed": false,
    "pycharm": {
     "name": "#%%\n"
    }
   }
  },
  {
   "cell_type": "code",
   "execution_count": 18,
   "outputs": [],
   "source": [],
   "metadata": {
    "collapsed": false,
    "pycharm": {
     "name": "#%%\n"
    }
   }
  }
 ],
 "metadata": {
  "kernelspec": {
   "display_name": "Python 3",
   "language": "python",
   "name": "python3"
  },
  "language_info": {
   "codemirror_mode": {
    "name": "ipython",
    "version": 2
   },
   "file_extension": ".py",
   "mimetype": "text/x-python",
   "name": "python",
   "nbconvert_exporter": "python",
   "pygments_lexer": "ipython2",
   "version": "2.7.6"
  }
 },
 "nbformat": 4,
 "nbformat_minor": 0
}