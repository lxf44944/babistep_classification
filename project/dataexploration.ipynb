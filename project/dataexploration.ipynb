{
 "cells": [
  {
   "cell_type": "code",
   "execution_count": 1,
   "metadata": {
    "collapsed": true
   },
   "outputs": [],
   "source": [
    "import pandas as pd\n",
    "import matplotlib.pyplot as plot\n",
    "import re\n",
    "from sklearn.metrics import accuracy_score, recall_score, f1_score, classification_report\n",
    "from sklearn.feature_extraction.text import TfidfVectorizer\n"
   ]
  },
  {
   "cell_type": "code",
   "execution_count": 2,
   "outputs": [
    {
     "data": {
      "text/plain": "                                        ProductName               level_1  \\\n0                             Johnson's Baby Lotion  Baby, Toddler & Kids   \n1                                Johnson's Baby Oil  Baby, Toddler & Kids   \n2  SMA Balanced Nutrition From Birth Infant Formula  Baby, Toddler & Kids   \n3                             Johnson's Baby Powder  Baby, Toddler & Kids   \n4                             Johnson's Baby Powder  Baby, Toddler & Kids   \n\n     level_2                      level_3  PricePerItem PriceMode  \\\n0  Baby Care     Baby Bathing & Skin Care          4.89        ea   \n1  Baby Care     Baby Bathing & Skin Care          4.89        ea   \n2  Baby Care  Baby Formula & Toddler Food         17.99        ea   \n3  Baby Care           Nappies & Changing          2.99        ea   \n4  Baby Care           Nappies & Changing          4.89        ea   \n\n   HasMultiBuyDeal MultiBuyDeal  MultiBuyBasePrice  MultiBuyPrice  \\\n0            False          NaN               4.89            NaN   \n1            False          NaN               4.89            NaN   \n2            False          NaN              17.99          17.99   \n3            False          NaN               2.99           2.99   \n4            False          NaN               4.89            NaN   \n\n   MultiBuyQuantity PromoBadgeImageLabel  \n0               NaN                  NaN  \n1               NaN                  NaN  \n2               1.0                Saver  \n3               1.0                Saver  \n4               NaN                  NaN  ",
      "text/html": "<div>\n<style scoped>\n    .dataframe tbody tr th:only-of-type {\n        vertical-align: middle;\n    }\n\n    .dataframe tbody tr th {\n        vertical-align: top;\n    }\n\n    .dataframe thead th {\n        text-align: right;\n    }\n</style>\n<table border=\"1\" class=\"dataframe\">\n  <thead>\n    <tr style=\"text-align: right;\">\n      <th></th>\n      <th>ProductName</th>\n      <th>level_1</th>\n      <th>level_2</th>\n      <th>level_3</th>\n      <th>PricePerItem</th>\n      <th>PriceMode</th>\n      <th>HasMultiBuyDeal</th>\n      <th>MultiBuyDeal</th>\n      <th>MultiBuyBasePrice</th>\n      <th>MultiBuyPrice</th>\n      <th>MultiBuyQuantity</th>\n      <th>PromoBadgeImageLabel</th>\n    </tr>\n  </thead>\n  <tbody>\n    <tr>\n      <th>0</th>\n      <td>Johnson's Baby Lotion</td>\n      <td>Baby, Toddler &amp; Kids</td>\n      <td>Baby Care</td>\n      <td>Baby Bathing &amp; Skin Care</td>\n      <td>4.89</td>\n      <td>ea</td>\n      <td>False</td>\n      <td>NaN</td>\n      <td>4.89</td>\n      <td>NaN</td>\n      <td>NaN</td>\n      <td>NaN</td>\n    </tr>\n    <tr>\n      <th>1</th>\n      <td>Johnson's Baby Oil</td>\n      <td>Baby, Toddler &amp; Kids</td>\n      <td>Baby Care</td>\n      <td>Baby Bathing &amp; Skin Care</td>\n      <td>4.89</td>\n      <td>ea</td>\n      <td>False</td>\n      <td>NaN</td>\n      <td>4.89</td>\n      <td>NaN</td>\n      <td>NaN</td>\n      <td>NaN</td>\n    </tr>\n    <tr>\n      <th>2</th>\n      <td>SMA Balanced Nutrition From Birth Infant Formula</td>\n      <td>Baby, Toddler &amp; Kids</td>\n      <td>Baby Care</td>\n      <td>Baby Formula &amp; Toddler Food</td>\n      <td>17.99</td>\n      <td>ea</td>\n      <td>False</td>\n      <td>NaN</td>\n      <td>17.99</td>\n      <td>17.99</td>\n      <td>1.0</td>\n      <td>Saver</td>\n    </tr>\n    <tr>\n      <th>3</th>\n      <td>Johnson's Baby Powder</td>\n      <td>Baby, Toddler &amp; Kids</td>\n      <td>Baby Care</td>\n      <td>Nappies &amp; Changing</td>\n      <td>2.99</td>\n      <td>ea</td>\n      <td>False</td>\n      <td>NaN</td>\n      <td>2.99</td>\n      <td>2.99</td>\n      <td>1.0</td>\n      <td>Saver</td>\n    </tr>\n    <tr>\n      <th>4</th>\n      <td>Johnson's Baby Powder</td>\n      <td>Baby, Toddler &amp; Kids</td>\n      <td>Baby Care</td>\n      <td>Nappies &amp; Changing</td>\n      <td>4.89</td>\n      <td>ea</td>\n      <td>False</td>\n      <td>NaN</td>\n      <td>4.89</td>\n      <td>NaN</td>\n      <td>NaN</td>\n      <td>NaN</td>\n    </tr>\n  </tbody>\n</table>\n</div>"
     },
     "execution_count": 2,
     "metadata": {},
     "output_type": "execute_result"
    }
   ],
   "source": [
    "from sklearn.model_selection import train_test_split\n",
    "\n",
    "columns = [\"ProductName\", \"level_1\", \"level_2\", \"level_3\", \"PricePerItem\", \"PriceMode\", \"HasMultiBuyDeal\",\n",
    "           \"MultiBuyDeal\", \"MultiBuyBasePrice\", \"MultiBuyPrice\", \"MultiBuyQuantity\", \"PromoBadgeImageLabel\"]\n",
    "df = pd.read_csv(\"data.csv\", usecols=columns)\n",
    "df.drop_duplicates(inplace=True)\n",
    "df.head(5)"
   ],
   "metadata": {
    "collapsed": false,
    "pycharm": {
     "name": "#%%\n"
    }
   }
  },
  {
   "cell_type": "code",
   "execution_count": 3,
   "outputs": [
    {
     "data": {
      "text/plain": "                                        ProductName               level_1  \\\n0                              johnsons baby lotion  Baby, Toddler & Kids   \n1                                 johnsons baby oil  Baby, Toddler & Kids   \n2  sma balanced nutrition from birth infant formula  Baby, Toddler & Kids   \n3                              johnsons baby powder  Baby, Toddler & Kids   \n4                              johnsons baby powder  Baby, Toddler & Kids   \n\n     level_2                      level_3  PricePerItem PriceMode  \\\n0  Baby Care     Baby Bathing & Skin Care          4.89        ea   \n1  Baby Care     Baby Bathing & Skin Care          4.89        ea   \n2  Baby Care  Baby Formula & Toddler Food         17.99        ea   \n3  Baby Care           Nappies & Changing          2.99        ea   \n4  Baby Care           Nappies & Changing          4.89        ea   \n\n   HasMultiBuyDeal MultiBuyDeal  MultiBuyBasePrice  MultiBuyPrice  \\\n0            False          NaN               4.89            NaN   \n1            False          NaN               4.89            NaN   \n2            False          NaN              17.99          17.99   \n3            False          NaN               2.99           2.99   \n4            False          NaN               4.89            NaN   \n\n   MultiBuyQuantity PromoBadgeImageLabel  \n0               NaN                  NaN  \n1               NaN                  NaN  \n2               1.0                Saver  \n3               1.0                Saver  \n4               NaN                  NaN  ",
      "text/html": "<div>\n<style scoped>\n    .dataframe tbody tr th:only-of-type {\n        vertical-align: middle;\n    }\n\n    .dataframe tbody tr th {\n        vertical-align: top;\n    }\n\n    .dataframe thead th {\n        text-align: right;\n    }\n</style>\n<table border=\"1\" class=\"dataframe\">\n  <thead>\n    <tr style=\"text-align: right;\">\n      <th></th>\n      <th>ProductName</th>\n      <th>level_1</th>\n      <th>level_2</th>\n      <th>level_3</th>\n      <th>PricePerItem</th>\n      <th>PriceMode</th>\n      <th>HasMultiBuyDeal</th>\n      <th>MultiBuyDeal</th>\n      <th>MultiBuyBasePrice</th>\n      <th>MultiBuyPrice</th>\n      <th>MultiBuyQuantity</th>\n      <th>PromoBadgeImageLabel</th>\n    </tr>\n  </thead>\n  <tbody>\n    <tr>\n      <th>0</th>\n      <td>johnsons baby lotion</td>\n      <td>Baby, Toddler &amp; Kids</td>\n      <td>Baby Care</td>\n      <td>Baby Bathing &amp; Skin Care</td>\n      <td>4.89</td>\n      <td>ea</td>\n      <td>False</td>\n      <td>NaN</td>\n      <td>4.89</td>\n      <td>NaN</td>\n      <td>NaN</td>\n      <td>NaN</td>\n    </tr>\n    <tr>\n      <th>1</th>\n      <td>johnsons baby oil</td>\n      <td>Baby, Toddler &amp; Kids</td>\n      <td>Baby Care</td>\n      <td>Baby Bathing &amp; Skin Care</td>\n      <td>4.89</td>\n      <td>ea</td>\n      <td>False</td>\n      <td>NaN</td>\n      <td>4.89</td>\n      <td>NaN</td>\n      <td>NaN</td>\n      <td>NaN</td>\n    </tr>\n    <tr>\n      <th>2</th>\n      <td>sma balanced nutrition from birth infant formula</td>\n      <td>Baby, Toddler &amp; Kids</td>\n      <td>Baby Care</td>\n      <td>Baby Formula &amp; Toddler Food</td>\n      <td>17.99</td>\n      <td>ea</td>\n      <td>False</td>\n      <td>NaN</td>\n      <td>17.99</td>\n      <td>17.99</td>\n      <td>1.0</td>\n      <td>Saver</td>\n    </tr>\n    <tr>\n      <th>3</th>\n      <td>johnsons baby powder</td>\n      <td>Baby, Toddler &amp; Kids</td>\n      <td>Baby Care</td>\n      <td>Nappies &amp; Changing</td>\n      <td>2.99</td>\n      <td>ea</td>\n      <td>False</td>\n      <td>NaN</td>\n      <td>2.99</td>\n      <td>2.99</td>\n      <td>1.0</td>\n      <td>Saver</td>\n    </tr>\n    <tr>\n      <th>4</th>\n      <td>johnsons baby powder</td>\n      <td>Baby, Toddler &amp; Kids</td>\n      <td>Baby Care</td>\n      <td>Nappies &amp; Changing</td>\n      <td>4.89</td>\n      <td>ea</td>\n      <td>False</td>\n      <td>NaN</td>\n      <td>4.89</td>\n      <td>NaN</td>\n      <td>NaN</td>\n      <td>NaN</td>\n    </tr>\n  </tbody>\n</table>\n</div>"
     },
     "execution_count": 3,
     "metadata": {},
     "output_type": "execute_result"
    }
   ],
   "source": [
    "punctuations = re.compile(r'[^a-zA-Z\\s]+')\n",
    "df[\"ProductName\"] = [\" \".join(punctuations.sub('', x).lower().split()) for x in df[\"ProductName\"].tolist()]\n",
    "df.head(5)"
   ],
   "metadata": {
    "collapsed": false,
    "pycharm": {
     "name": "#%%\n"
    }
   }
  },
  {
   "cell_type": "code",
   "execution_count": 4,
   "outputs": [
    {
     "data": {
      "text/plain": "                                        ProductName               level_1  \\\n0                              johnsons baby lotion  Baby, Toddler & Kids   \n1                                 johnsons baby oil  Baby, Toddler & Kids   \n2  sma balanced nutrition from birth infant formula  Baby, Toddler & Kids   \n3                              johnsons baby powder  Baby, Toddler & Kids   \n4                              johnsons baby powder  Baby, Toddler & Kids   \n\n     level_2                      level_3  PricePerItem PriceMode  \\\n0  Baby Care     Baby Bathing & Skin Care          4.89        ea   \n1  Baby Care     Baby Bathing & Skin Care          4.89        ea   \n2  Baby Care  Baby Formula & Toddler Food         17.99        ea   \n3  Baby Care           Nappies & Changing          2.99        ea   \n4  Baby Care           Nappies & Changing          4.89        ea   \n\n   HasMultiBuyDeal  MultiBuyDeal  MultiBuyBasePrice  MultiBuyPrice  \\\n0            False             0               4.89            NaN   \n1            False             0               4.89            NaN   \n2            False             0              17.99          17.99   \n3            False             0               2.99           2.99   \n4            False             0               4.89            NaN   \n\n   MultiBuyQuantity PromoBadgeImageLabel  \n0               NaN                  NaN  \n1               NaN                  NaN  \n2               1.0                Saver  \n3               1.0                Saver  \n4               NaN                  NaN  ",
      "text/html": "<div>\n<style scoped>\n    .dataframe tbody tr th:only-of-type {\n        vertical-align: middle;\n    }\n\n    .dataframe tbody tr th {\n        vertical-align: top;\n    }\n\n    .dataframe thead th {\n        text-align: right;\n    }\n</style>\n<table border=\"1\" class=\"dataframe\">\n  <thead>\n    <tr style=\"text-align: right;\">\n      <th></th>\n      <th>ProductName</th>\n      <th>level_1</th>\n      <th>level_2</th>\n      <th>level_3</th>\n      <th>PricePerItem</th>\n      <th>PriceMode</th>\n      <th>HasMultiBuyDeal</th>\n      <th>MultiBuyDeal</th>\n      <th>MultiBuyBasePrice</th>\n      <th>MultiBuyPrice</th>\n      <th>MultiBuyQuantity</th>\n      <th>PromoBadgeImageLabel</th>\n    </tr>\n  </thead>\n  <tbody>\n    <tr>\n      <th>0</th>\n      <td>johnsons baby lotion</td>\n      <td>Baby, Toddler &amp; Kids</td>\n      <td>Baby Care</td>\n      <td>Baby Bathing &amp; Skin Care</td>\n      <td>4.89</td>\n      <td>ea</td>\n      <td>False</td>\n      <td>0</td>\n      <td>4.89</td>\n      <td>NaN</td>\n      <td>NaN</td>\n      <td>NaN</td>\n    </tr>\n    <tr>\n      <th>1</th>\n      <td>johnsons baby oil</td>\n      <td>Baby, Toddler &amp; Kids</td>\n      <td>Baby Care</td>\n      <td>Baby Bathing &amp; Skin Care</td>\n      <td>4.89</td>\n      <td>ea</td>\n      <td>False</td>\n      <td>0</td>\n      <td>4.89</td>\n      <td>NaN</td>\n      <td>NaN</td>\n      <td>NaN</td>\n    </tr>\n    <tr>\n      <th>2</th>\n      <td>sma balanced nutrition from birth infant formula</td>\n      <td>Baby, Toddler &amp; Kids</td>\n      <td>Baby Care</td>\n      <td>Baby Formula &amp; Toddler Food</td>\n      <td>17.99</td>\n      <td>ea</td>\n      <td>False</td>\n      <td>0</td>\n      <td>17.99</td>\n      <td>17.99</td>\n      <td>1.0</td>\n      <td>Saver</td>\n    </tr>\n    <tr>\n      <th>3</th>\n      <td>johnsons baby powder</td>\n      <td>Baby, Toddler &amp; Kids</td>\n      <td>Baby Care</td>\n      <td>Nappies &amp; Changing</td>\n      <td>2.99</td>\n      <td>ea</td>\n      <td>False</td>\n      <td>0</td>\n      <td>2.99</td>\n      <td>2.99</td>\n      <td>1.0</td>\n      <td>Saver</td>\n    </tr>\n    <tr>\n      <th>4</th>\n      <td>johnsons baby powder</td>\n      <td>Baby, Toddler &amp; Kids</td>\n      <td>Baby Care</td>\n      <td>Nappies &amp; Changing</td>\n      <td>4.89</td>\n      <td>ea</td>\n      <td>False</td>\n      <td>0</td>\n      <td>4.89</td>\n      <td>NaN</td>\n      <td>NaN</td>\n      <td>NaN</td>\n    </tr>\n  </tbody>\n</table>\n</div>"
     },
     "execution_count": 4,
     "metadata": {},
     "output_type": "execute_result"
    }
   ],
   "source": [
    "df[\"MultiBuyDeal\"] = [\" \".join(punctuations.sub('', y).lower().split()) if y == y else [] for y in\n",
    "                      df[\"MultiBuyDeal\"].tolist()]\n",
    "df[\"MultiBuyDeal\"] = [1 if y == \"buy for\" else (2 if y == \"buy for limit assorted\" else (\n",
    "    3 if y == \"limit assorted\" else (4 if y == \"limit\" else 0))) for y in df[\"MultiBuyDeal\"].tolist()]\n",
    "df.head(5)"
   ],
   "metadata": {
    "collapsed": false,
    "pycharm": {
     "name": "#%%\n"
    }
   }
  },
  {
   "cell_type": "code",
   "execution_count": 5,
   "outputs": [
    {
     "data": {
      "text/plain": "                                        ProductName               level_1  \\\n0                              johnsons baby lotion  Baby, Toddler & Kids   \n1                                 johnsons baby oil  Baby, Toddler & Kids   \n2  sma balanced nutrition from birth infant formula  Baby, Toddler & Kids   \n3                              johnsons baby powder  Baby, Toddler & Kids   \n4                              johnsons baby powder  Baby, Toddler & Kids   \n\n     level_2                      level_3  PricePerItem PriceMode  \\\n0  Baby Care     Baby Bathing & Skin Care          4.89        ea   \n1  Baby Care     Baby Bathing & Skin Care          4.89        ea   \n2  Baby Care  Baby Formula & Toddler Food         17.99        ea   \n3  Baby Care           Nappies & Changing          2.99        ea   \n4  Baby Care           Nappies & Changing          4.89        ea   \n\n   HasMultiBuyDeal  MultiBuyDeal  MultiBuyBasePrice  MultiBuyPrice  \\\n0            False             0               4.89            NaN   \n1            False             0               4.89            NaN   \n2            False             0              17.99          17.99   \n3            False             0               2.99           2.99   \n4            False             0               4.89            NaN   \n\n   MultiBuyQuantity PromoBadgeImageLabel  \n0               NaN                   []  \n1               NaN                   []  \n2               1.0              [saver]  \n3               1.0              [saver]  \n4               NaN                   []  ",
      "text/html": "<div>\n<style scoped>\n    .dataframe tbody tr th:only-of-type {\n        vertical-align: middle;\n    }\n\n    .dataframe tbody tr th {\n        vertical-align: top;\n    }\n\n    .dataframe thead th {\n        text-align: right;\n    }\n</style>\n<table border=\"1\" class=\"dataframe\">\n  <thead>\n    <tr style=\"text-align: right;\">\n      <th></th>\n      <th>ProductName</th>\n      <th>level_1</th>\n      <th>level_2</th>\n      <th>level_3</th>\n      <th>PricePerItem</th>\n      <th>PriceMode</th>\n      <th>HasMultiBuyDeal</th>\n      <th>MultiBuyDeal</th>\n      <th>MultiBuyBasePrice</th>\n      <th>MultiBuyPrice</th>\n      <th>MultiBuyQuantity</th>\n      <th>PromoBadgeImageLabel</th>\n    </tr>\n  </thead>\n  <tbody>\n    <tr>\n      <th>0</th>\n      <td>johnsons baby lotion</td>\n      <td>Baby, Toddler &amp; Kids</td>\n      <td>Baby Care</td>\n      <td>Baby Bathing &amp; Skin Care</td>\n      <td>4.89</td>\n      <td>ea</td>\n      <td>False</td>\n      <td>0</td>\n      <td>4.89</td>\n      <td>NaN</td>\n      <td>NaN</td>\n      <td>[]</td>\n    </tr>\n    <tr>\n      <th>1</th>\n      <td>johnsons baby oil</td>\n      <td>Baby, Toddler &amp; Kids</td>\n      <td>Baby Care</td>\n      <td>Baby Bathing &amp; Skin Care</td>\n      <td>4.89</td>\n      <td>ea</td>\n      <td>False</td>\n      <td>0</td>\n      <td>4.89</td>\n      <td>NaN</td>\n      <td>NaN</td>\n      <td>[]</td>\n    </tr>\n    <tr>\n      <th>2</th>\n      <td>sma balanced nutrition from birth infant formula</td>\n      <td>Baby, Toddler &amp; Kids</td>\n      <td>Baby Care</td>\n      <td>Baby Formula &amp; Toddler Food</td>\n      <td>17.99</td>\n      <td>ea</td>\n      <td>False</td>\n      <td>0</td>\n      <td>17.99</td>\n      <td>17.99</td>\n      <td>1.0</td>\n      <td>[saver]</td>\n    </tr>\n    <tr>\n      <th>3</th>\n      <td>johnsons baby powder</td>\n      <td>Baby, Toddler &amp; Kids</td>\n      <td>Baby Care</td>\n      <td>Nappies &amp; Changing</td>\n      <td>2.99</td>\n      <td>ea</td>\n      <td>False</td>\n      <td>0</td>\n      <td>2.99</td>\n      <td>2.99</td>\n      <td>1.0</td>\n      <td>[saver]</td>\n    </tr>\n    <tr>\n      <th>4</th>\n      <td>johnsons baby powder</td>\n      <td>Baby, Toddler &amp; Kids</td>\n      <td>Baby Care</td>\n      <td>Nappies &amp; Changing</td>\n      <td>4.89</td>\n      <td>ea</td>\n      <td>False</td>\n      <td>0</td>\n      <td>4.89</td>\n      <td>NaN</td>\n      <td>NaN</td>\n      <td>[]</td>\n    </tr>\n  </tbody>\n</table>\n</div>"
     },
     "execution_count": 5,
     "metadata": {},
     "output_type": "execute_result"
    }
   ],
   "source": [
    "df[\"PromoBadgeImageLabel\"] = [punctuations.sub('', z).lower().split() if z == z else [] for z in\n",
    "                              df[\"PromoBadgeImageLabel\"].tolist()]\n",
    "df.head(5)"
   ],
   "metadata": {
    "collapsed": false,
    "pycharm": {
     "name": "#%%\n"
    }
   }
  },
  {
   "cell_type": "code",
   "execution_count": 6,
   "outputs": [
    {
     "data": {
      "text/plain": "                                        ProductName               level_1  \\\n0                              johnsons baby lotion  Baby, Toddler & Kids   \n1                                 johnsons baby oil  Baby, Toddler & Kids   \n2  sma balanced nutrition from birth infant formula  Baby, Toddler & Kids   \n3                              johnsons baby powder  Baby, Toddler & Kids   \n4                              johnsons baby powder  Baby, Toddler & Kids   \n\n     level_2                      level_3  PricePerItem PriceMode  \\\n0  Baby Care     Baby Bathing & Skin Care          4.89        ea   \n1  Baby Care     Baby Bathing & Skin Care          4.89        ea   \n2  Baby Care  Baby Formula & Toddler Food         17.99        ea   \n3  Baby Care           Nappies & Changing          2.99        ea   \n4  Baby Care           Nappies & Changing          4.89        ea   \n\n   HasMultiBuyDeal  MultiBuyDeal  MultiBuyBasePrice  MultiBuyPrice  \\\n0            False             0               4.89           0.00   \n1            False             0               4.89           0.00   \n2            False             0              17.99          17.99   \n3            False             0               2.99           2.99   \n4            False             0               4.89           0.00   \n\n   MultiBuyQuantity PromoBadgeImageLabel  \n0               0.0                   []  \n1               0.0                   []  \n2               1.0              [saver]  \n3               1.0              [saver]  \n4               0.0                   []  ",
      "text/html": "<div>\n<style scoped>\n    .dataframe tbody tr th:only-of-type {\n        vertical-align: middle;\n    }\n\n    .dataframe tbody tr th {\n        vertical-align: top;\n    }\n\n    .dataframe thead th {\n        text-align: right;\n    }\n</style>\n<table border=\"1\" class=\"dataframe\">\n  <thead>\n    <tr style=\"text-align: right;\">\n      <th></th>\n      <th>ProductName</th>\n      <th>level_1</th>\n      <th>level_2</th>\n      <th>level_3</th>\n      <th>PricePerItem</th>\n      <th>PriceMode</th>\n      <th>HasMultiBuyDeal</th>\n      <th>MultiBuyDeal</th>\n      <th>MultiBuyBasePrice</th>\n      <th>MultiBuyPrice</th>\n      <th>MultiBuyQuantity</th>\n      <th>PromoBadgeImageLabel</th>\n    </tr>\n  </thead>\n  <tbody>\n    <tr>\n      <th>0</th>\n      <td>johnsons baby lotion</td>\n      <td>Baby, Toddler &amp; Kids</td>\n      <td>Baby Care</td>\n      <td>Baby Bathing &amp; Skin Care</td>\n      <td>4.89</td>\n      <td>ea</td>\n      <td>False</td>\n      <td>0</td>\n      <td>4.89</td>\n      <td>0.00</td>\n      <td>0.0</td>\n      <td>[]</td>\n    </tr>\n    <tr>\n      <th>1</th>\n      <td>johnsons baby oil</td>\n      <td>Baby, Toddler &amp; Kids</td>\n      <td>Baby Care</td>\n      <td>Baby Bathing &amp; Skin Care</td>\n      <td>4.89</td>\n      <td>ea</td>\n      <td>False</td>\n      <td>0</td>\n      <td>4.89</td>\n      <td>0.00</td>\n      <td>0.0</td>\n      <td>[]</td>\n    </tr>\n    <tr>\n      <th>2</th>\n      <td>sma balanced nutrition from birth infant formula</td>\n      <td>Baby, Toddler &amp; Kids</td>\n      <td>Baby Care</td>\n      <td>Baby Formula &amp; Toddler Food</td>\n      <td>17.99</td>\n      <td>ea</td>\n      <td>False</td>\n      <td>0</td>\n      <td>17.99</td>\n      <td>17.99</td>\n      <td>1.0</td>\n      <td>[saver]</td>\n    </tr>\n    <tr>\n      <th>3</th>\n      <td>johnsons baby powder</td>\n      <td>Baby, Toddler &amp; Kids</td>\n      <td>Baby Care</td>\n      <td>Nappies &amp; Changing</td>\n      <td>2.99</td>\n      <td>ea</td>\n      <td>False</td>\n      <td>0</td>\n      <td>2.99</td>\n      <td>2.99</td>\n      <td>1.0</td>\n      <td>[saver]</td>\n    </tr>\n    <tr>\n      <th>4</th>\n      <td>johnsons baby powder</td>\n      <td>Baby, Toddler &amp; Kids</td>\n      <td>Baby Care</td>\n      <td>Nappies &amp; Changing</td>\n      <td>4.89</td>\n      <td>ea</td>\n      <td>False</td>\n      <td>0</td>\n      <td>4.89</td>\n      <td>0.00</td>\n      <td>0.0</td>\n      <td>[]</td>\n    </tr>\n  </tbody>\n</table>\n</div>"
     },
     "execution_count": 6,
     "metadata": {},
     "output_type": "execute_result"
    }
   ],
   "source": [
    "df[\"MultiBuyPrice\"].fillna(0, inplace=True)\n",
    "df[\"MultiBuyQuantity\"].fillna(0, inplace=True)\n",
    "df.head(5)"
   ],
   "metadata": {
    "collapsed": false,
    "pycharm": {
     "name": "#%%\n"
    }
   }
  },
  {
   "cell_type": "code",
   "execution_count": 7,
   "outputs": [
    {
     "data": {
      "text/plain": "<BarContainer object of 449 artists>"
     },
     "execution_count": 7,
     "metadata": {},
     "output_type": "execute_result"
    },
    {
     "data": {
      "text/plain": "<Figure size 432x288 with 1 Axes>",
      "image/png": "[encoded data removed]"
     },
     "metadata": {
      "needs_background": "light"
     },
     "output_type": "display_data"
    }
   ],
   "source": [
    "typesa = df.value_counts(columns[1:4])\n",
    "plot.bar([a for a in range(typesa.size)], typesa)"
   ],
   "metadata": {
    "collapsed": false,
    "pycharm": {
     "name": "#%%\n"
    }
   }
  },
  {
   "cell_type": "code",
   "execution_count": 8,
   "outputs": [
    {
     "data": {
      "text/plain": "<BarContainer object of 43 artists>"
     },
     "execution_count": 8,
     "metadata": {},
     "output_type": "execute_result"
    },
    {
     "data": {
      "text/plain": "<Figure size 432x288 with 1 Axes>",
      "image/png": "[encoded data removed]"
     },
     "metadata": {
      "needs_background": "light"
     },
     "output_type": "display_data"
    }
   ],
   "source": [
    "typesb = df.value_counts(columns[1:3])\n",
    "plot.bar([a for a in range(typesb.size)], typesb)"
   ],
   "metadata": {
    "collapsed": false,
    "pycharm": {
     "name": "#%%\n"
    }
   }
  },
  {
   "cell_type": "code",
   "execution_count": 9,
   "outputs": [
    {
     "data": {
      "text/plain": "level_1                    \nPantry                         4740\nPersonal Care                  1778\nFresh Foods & Bakery           1721\nChilled, Frozen & Desserts     1426\nBeer, Cider & Wine             1232\nKitchen, Dining & Household    1182\nDrinks                         1063\nPets                            512\nMeal Spot                       456\nBaby, Toddler & Kids            354\nFeatured                        121\ndtype: int64"
     },
     "execution_count": 9,
     "metadata": {},
     "output_type": "execute_result"
    }
   ],
   "source": [
    "typesc = df.value_counts(columns[1:2])\n",
    "typesc"
   ],
   "metadata": {
    "collapsed": false,
    "pycharm": {
     "name": "#%%\n"
    }
   }
  },
  {
   "cell_type": "code",
   "execution_count": 10,
   "outputs": [
    {
     "data": {
      "text/plain": "                                        ProductName               level_1  \\\n0                              johnsons baby lotion  Baby, Toddler & Kids   \n1                                 johnsons baby oil  Baby, Toddler & Kids   \n2  sma balanced nutrition from birth infant formula  Baby, Toddler & Kids   \n3                              johnsons baby powder  Baby, Toddler & Kids   \n4                              johnsons baby powder  Baby, Toddler & Kids   \n\n     level_2                      level_3  PricePerItem PriceMode  \\\n0  Baby Care     Baby Bathing & Skin Care          4.89        ea   \n1  Baby Care     Baby Bathing & Skin Care          4.89        ea   \n2  Baby Care  Baby Formula & Toddler Food         17.99        ea   \n3  Baby Care           Nappies & Changing          2.99        ea   \n4  Baby Care           Nappies & Changing          4.89        ea   \n\n   HasMultiBuyDeal  MultiBuyDeal  MultiBuyBasePrice  MultiBuyPrice  \\\n0            False             0               4.89           0.00   \n1            False             0               4.89           0.00   \n2            False             0              17.99          17.99   \n3            False             0               2.99           2.99   \n4            False             0               4.89           0.00   \n\n   MultiBuyQuantity PromoBadgeImageLabel  \n0               0.0                   []  \n1               0.0                   []  \n2               1.0              [saver]  \n3               1.0              [saver]  \n4               0.0                   []  ",
      "text/html": "<div>\n<style scoped>\n    .dataframe tbody tr th:only-of-type {\n        vertical-align: middle;\n    }\n\n    .dataframe tbody tr th {\n        vertical-align: top;\n    }\n\n    .dataframe thead th {\n        text-align: right;\n    }\n</style>\n<table border=\"1\" class=\"dataframe\">\n  <thead>\n    <tr style=\"text-align: right;\">\n      <th></th>\n      <th>ProductName</th>\n      <th>level_1</th>\n      <th>level_2</th>\n      <th>level_3</th>\n      <th>PricePerItem</th>\n      <th>PriceMode</th>\n      <th>HasMultiBuyDeal</th>\n      <th>MultiBuyDeal</th>\n      <th>MultiBuyBasePrice</th>\n      <th>MultiBuyPrice</th>\n      <th>MultiBuyQuantity</th>\n      <th>PromoBadgeImageLabel</th>\n    </tr>\n  </thead>\n  <tbody>\n    <tr>\n      <th>0</th>\n      <td>johnsons baby lotion</td>\n      <td>Baby, Toddler &amp; Kids</td>\n      <td>Baby Care</td>\n      <td>Baby Bathing &amp; Skin Care</td>\n      <td>4.89</td>\n      <td>ea</td>\n      <td>False</td>\n      <td>0</td>\n      <td>4.89</td>\n      <td>0.00</td>\n      <td>0.0</td>\n      <td>[]</td>\n    </tr>\n    <tr>\n      <th>1</th>\n      <td>johnsons baby oil</td>\n      <td>Baby, Toddler &amp; Kids</td>\n      <td>Baby Care</td>\n      <td>Baby Bathing &amp; Skin Care</td>\n      <td>4.89</td>\n      <td>ea</td>\n      <td>False</td>\n      <td>0</td>\n      <td>4.89</td>\n      <td>0.00</td>\n      <td>0.0</td>\n      <td>[]</td>\n    </tr>\n    <tr>\n      <th>2</th>\n      <td>sma balanced nutrition from birth infant formula</td>\n      <td>Baby, Toddler &amp; Kids</td>\n      <td>Baby Care</td>\n      <td>Baby Formula &amp; Toddler Food</td>\n      <td>17.99</td>\n      <td>ea</td>\n      <td>False</td>\n      <td>0</td>\n      <td>17.99</td>\n      <td>17.99</td>\n      <td>1.0</td>\n      <td>[saver]</td>\n    </tr>\n    <tr>\n      <th>3</th>\n      <td>johnsons baby powder</td>\n      <td>Baby, Toddler &amp; Kids</td>\n      <td>Baby Care</td>\n      <td>Nappies &amp; Changing</td>\n      <td>2.99</td>\n      <td>ea</td>\n      <td>False</td>\n      <td>0</td>\n      <td>2.99</td>\n      <td>2.99</td>\n      <td>1.0</td>\n      <td>[saver]</td>\n    </tr>\n    <tr>\n      <th>4</th>\n      <td>johnsons baby powder</td>\n      <td>Baby, Toddler &amp; Kids</td>\n      <td>Baby Care</td>\n      <td>Nappies &amp; Changing</td>\n      <td>4.89</td>\n      <td>ea</td>\n      <td>False</td>\n      <td>0</td>\n      <td>4.89</td>\n      <td>0.00</td>\n      <td>0.0</td>\n      <td>[]</td>\n    </tr>\n  </tbody>\n</table>\n</div>"
     },
     "execution_count": 10,
     "metadata": {},
     "output_type": "execute_result"
    }
   ],
   "source": [
    "df = df[df[\"level_1\"] != \"Featured\"]\n",
    "df.head(5)"
   ],
   "metadata": {
    "collapsed": false,
    "pycharm": {
     "name": "#%%\n"
    }
   }
  },
  {
   "cell_type": "code",
   "execution_count": 11,
   "outputs": [
    {
     "data": {
      "text/plain": "(array([1.974e+03, 4.555e+03, 3.223e+03, 1.367e+03, 9.790e+02, 5.380e+02,\n        5.470e+02, 1.890e+02, 2.290e+02, 1.670e+02, 1.250e+02, 7.600e+01,\n        2.800e+01, 2.000e+01, 2.800e+01, 1.200e+01, 2.200e+01, 6.000e+00,\n        1.200e+01, 1.000e+00, 1.200e+01, 0.000e+00, 2.000e+00, 0.000e+00,\n        1.000e+00, 0.000e+00, 0.000e+00, 0.000e+00, 2.000e+00, 0.000e+00,\n        1.000e+00, 0.000e+00, 0.000e+00, 2.000e+00, 0.000e+00, 1.000e+00,\n        0.000e+00, 1.000e+00, 0.000e+00, 1.000e+00, 0.000e+00, 2.000e+00,\n        0.000e+00, 0.000e+00, 0.000e+00, 0.000e+00, 0.000e+00, 0.000e+00,\n        0.000e+00, 1.000e+00]),\n array([  0.15  ,   2.5668,   4.9836,   7.4004,   9.8172,  12.234 ,\n         14.6508,  17.0676,  19.4844,  21.9012,  24.318 ,  26.7348,\n         29.1516,  31.5684,  33.9852,  36.402 ,  38.8188,  41.2356,\n         43.6524,  46.0692,  48.486 ,  50.9028,  53.3196,  55.7364,\n         58.1532,  60.57  ,  62.9868,  65.4036,  67.8204,  70.2372,\n         72.654 ,  75.0708,  77.4876,  79.9044,  82.3212,  84.738 ,\n         87.1548,  89.5716,  91.9884,  94.4052,  96.822 ,  99.2388,\n        101.6556, 104.0724, 106.4892, 108.906 , 111.3228, 113.7396,\n        116.1564, 118.5732, 120.99  ]),\n <BarContainer object of 50 artists>)"
     },
     "execution_count": 11,
     "metadata": {},
     "output_type": "execute_result"
    },
    {
     "data": {
      "text/plain": "<Figure size 432x288 with 1 Axes>",
      "image/png": "[encoded data removed]"
     },
     "metadata": {
      "needs_background": "light"
     },
     "output_type": "display_data"
    }
   ],
   "source": [
    "dfea = df[df[\"PriceMode\"] == \"ea\"]\n",
    "plot.hist(dfea[\"PricePerItem\"].tolist(), bins=50)"
   ],
   "metadata": {
    "collapsed": false,
    "pycharm": {
     "name": "#%%\n"
    }
   }
  },
  {
   "cell_type": "code",
   "execution_count": 12,
   "outputs": [
    {
     "data": {
      "text/plain": "(array([13., 21., 25., 13., 22., 30., 33.,  9., 41., 19., 45., 11.,  9.,\n        14.,  9.,  1.,  3.,  3.,  7.,  2.,  2.,  1.,  0.,  1.,  0.,  0.,\n         1.,  0.,  0.,  0.,  1.,  2.,  0.,  0.,  0.,  0.,  0.,  0.,  1.,\n         0.,  0.,  0.,  0.,  0.,  0.,  0.,  0.,  0.,  0.,  1.]),\n array([  2.29  ,   4.8422,   7.3944,   9.9466,  12.4988,  15.051 ,\n         17.6032,  20.1554,  22.7076,  25.2598,  27.812 ,  30.3642,\n         32.9164,  35.4686,  38.0208,  40.573 ,  43.1252,  45.6774,\n         48.2296,  50.7818,  53.334 ,  55.8862,  58.4384,  60.9906,\n         63.5428,  66.095 ,  68.6472,  71.1994,  73.7516,  76.3038,\n         78.856 ,  81.4082,  83.9604,  86.5126,  89.0648,  91.617 ,\n         94.1692,  96.7214,  99.2736, 101.8258, 104.378 , 106.9302,\n        109.4824, 112.0346, 114.5868, 117.139 , 119.6912, 122.2434,\n        124.7956, 127.3478, 129.9   ]),\n <BarContainer object of 50 artists>)"
     },
     "execution_count": 12,
     "metadata": {},
     "output_type": "execute_result"
    },
    {
     "data": {
      "text/plain": "<Figure size 432x288 with 1 Axes>",
      "image/png": "[encoded data removed]"
     },
     "metadata": {
      "needs_background": "light"
     },
     "output_type": "display_data"
    }
   ],
   "source": [
    "dfkg = df[df[\"PriceMode\"] == \"kg\"]\n",
    "plot.hist(dfkg[\"PricePerItem\"].tolist(), bins=50)"
   ],
   "metadata": {
    "collapsed": false,
    "pycharm": {
     "name": "#%%\n"
    }
   }
  },
  {
   "cell_type": "code",
   "execution_count": 13,
   "outputs": [
    {
     "data": {
      "text/plain": "                                        ProductName               level_1  \\\n0                              johnsons baby lotion  Baby, Toddler & Kids   \n1                                 johnsons baby oil  Baby, Toddler & Kids   \n2  sma balanced nutrition from birth infant formula  Baby, Toddler & Kids   \n3                              johnsons baby powder  Baby, Toddler & Kids   \n4                              johnsons baby powder  Baby, Toddler & Kids   \n\n     level_2                      level_3  PricePerItem PriceMode  \\\n0  Baby Care     Baby Bathing & Skin Care             5        ea   \n1  Baby Care     Baby Bathing & Skin Care             5        ea   \n2  Baby Care  Baby Formula & Toddler Food            20        ea   \n3  Baby Care           Nappies & Changing             5        ea   \n4  Baby Care           Nappies & Changing             5        ea   \n\n   HasMultiBuyDeal  MultiBuyDeal  MultiBuyBasePrice  MultiBuyPrice  \\\n0            False             0                  5              0   \n1            False             0                  5              0   \n2            False             0                 20             20   \n3            False             0                  5              5   \n4            False             0                  5              0   \n\n   MultiBuyQuantity PromoBadgeImageLabel  \n0                 0                   []  \n1                 0                   []  \n2                 1              [saver]  \n3                 1              [saver]  \n4                 0                   []  ",
      "text/html": "<div>\n<style scoped>\n    .dataframe tbody tr th:only-of-type {\n        vertical-align: middle;\n    }\n\n    .dataframe tbody tr th {\n        vertical-align: top;\n    }\n\n    .dataframe thead th {\n        text-align: right;\n    }\n</style>\n<table border=\"1\" class=\"dataframe\">\n  <thead>\n    <tr style=\"text-align: right;\">\n      <th></th>\n      <th>ProductName</th>\n      <th>level_1</th>\n      <th>level_2</th>\n      <th>level_3</th>\n      <th>PricePerItem</th>\n      <th>PriceMode</th>\n      <th>HasMultiBuyDeal</th>\n      <th>MultiBuyDeal</th>\n      <th>MultiBuyBasePrice</th>\n      <th>MultiBuyPrice</th>\n      <th>MultiBuyQuantity</th>\n      <th>PromoBadgeImageLabel</th>\n    </tr>\n  </thead>\n  <tbody>\n    <tr>\n      <th>0</th>\n      <td>johnsons baby lotion</td>\n      <td>Baby, Toddler &amp; Kids</td>\n      <td>Baby Care</td>\n      <td>Baby Bathing &amp; Skin Care</td>\n      <td>5</td>\n      <td>ea</td>\n      <td>False</td>\n      <td>0</td>\n      <td>5</td>\n      <td>0</td>\n      <td>0</td>\n      <td>[]</td>\n    </tr>\n    <tr>\n      <th>1</th>\n      <td>johnsons baby oil</td>\n      <td>Baby, Toddler &amp; Kids</td>\n      <td>Baby Care</td>\n      <td>Baby Bathing &amp; Skin Care</td>\n      <td>5</td>\n      <td>ea</td>\n      <td>False</td>\n      <td>0</td>\n      <td>5</td>\n      <td>0</td>\n      <td>0</td>\n      <td>[]</td>\n    </tr>\n    <tr>\n      <th>2</th>\n      <td>sma balanced nutrition from birth infant formula</td>\n      <td>Baby, Toddler &amp; Kids</td>\n      <td>Baby Care</td>\n      <td>Baby Formula &amp; Toddler Food</td>\n      <td>20</td>\n      <td>ea</td>\n      <td>False</td>\n      <td>0</td>\n      <td>20</td>\n      <td>20</td>\n      <td>1</td>\n      <td>[saver]</td>\n    </tr>\n    <tr>\n      <th>3</th>\n      <td>johnsons baby powder</td>\n      <td>Baby, Toddler &amp; Kids</td>\n      <td>Baby Care</td>\n      <td>Nappies &amp; Changing</td>\n      <td>5</td>\n      <td>ea</td>\n      <td>False</td>\n      <td>0</td>\n      <td>5</td>\n      <td>5</td>\n      <td>1</td>\n      <td>[saver]</td>\n    </tr>\n    <tr>\n      <th>4</th>\n      <td>johnsons baby powder</td>\n      <td>Baby, Toddler &amp; Kids</td>\n      <td>Baby Care</td>\n      <td>Nappies &amp; Changing</td>\n      <td>5</td>\n      <td>ea</td>\n      <td>False</td>\n      <td>0</td>\n      <td>5</td>\n      <td>0</td>\n      <td>0</td>\n      <td>[]</td>\n    </tr>\n  </tbody>\n</table>\n</div>"
     },
     "execution_count": 13,
     "metadata": {},
     "output_type": "execute_result"
    }
   ],
   "source": [
    "df[\"PricePerItem\"] = [round(p / 5) * 5 for p in df[\"PricePerItem\"].tolist()]\n",
    "df[\"MultiBuyPrice\"] = [round(p / 5) * 5 for p in df[\"MultiBuyPrice\"].tolist()]\n",
    "df[\"MultiBuyBasePrice\"] = [round(p / 5) * 5 for p in df[\"MultiBuyBasePrice\"].tolist()]\n",
    "df[\"MultiBuyQuantity\"] = [int(q) for q in df[\"MultiBuyQuantity\"].tolist()]\n",
    "df.head(5)"
   ],
   "metadata": {
    "collapsed": false,
    "pycharm": {
     "name": "#%%\n"
    }
   }
  },
  {
   "cell_type": "code",
   "execution_count": 14,
   "outputs": [
    {
     "data": {
      "text/plain": "<BarContainer object of 429 artists>"
     },
     "execution_count": 14,
     "metadata": {},
     "output_type": "execute_result"
    },
    {
     "data": {
      "text/plain": "<Figure size 432x288 with 1 Axes>",
      "image/png": "[encoded data removed]"
     },
     "metadata": {
      "needs_background": "light"
     },
     "output_type": "display_data"
    }
   ],
   "source": [
    "types = []\n",
    "countt = []\n",
    "countf = []\n",
    "levela = df[\"level_1\"].tolist()\n",
    "levelb = df[\"level_2\"].tolist()\n",
    "levelc = df[\"level_3\"].tolist()\n",
    "state = df[\"HasMultiBuyDeal\"].tolist()\n",
    "labels = [\";\".join([levela[i], levelb[i], levelc[i]]) for i in range(len(levela))]\n",
    "for i in range(len(labels)):\n",
    "    if labels[i] in types:\n",
    "        if state[i]:\n",
    "            countt[types.index(labels[i])] += 1\n",
    "        else:\n",
    "            countf[types.index(labels[i])] += 1\n",
    "    else:\n",
    "        types.append(labels[i])\n",
    "        countt.append(0)\n",
    "        countf.append(0)\n",
    "plot.bar([a for a in range(len(types))], countt)\n",
    "plot.bar([a for a in range(len(types))], countf, bottom=countt)"
   ],
   "metadata": {
    "collapsed": false,
    "pycharm": {
     "name": "#%%\n"
    }
   }
  },
  {
   "cell_type": "code",
   "execution_count": 15,
   "outputs": [],
   "source": [
    "def evaluation(predictions, labels, id2label, model_name=None):\n",
    "    acc = accuracy_score(labels, predictions)\n",
    "    recall = recall_score(labels, predictions, average=\"macro\")\n",
    "    f1 = f1_score(labels, predictions, average=\"macro\")\n",
    "    report = classification_report(labels, predictions,\n",
    "                                   target_names=[id2label[i] for i in range(len(id2label))])\n",
    "    info = \"acc:%s, recall:%s, f1 score:%s\" % (acc, recall, f1)\n",
    "    if model_name is not None:\n",
    "        info = \"%s: %s\" % (model_name, info)\n",
    "    print(info)\n",
    "    print(report)"
   ],
   "metadata": {
    "collapsed": false,
    "pycharm": {
     "name": "#%%\n"
    }
   }
  },
  {
   "cell_type": "code",
   "execution_count": 16,
   "outputs": [
    {
     "name": "stdout",
     "output_type": "stream",
     "text": [
      "data len: 14464\n",
      "id2label {0: 'Pantry;Confectionery;Novelty Bars & Singles', 1: 'Drinks;Hot Drinks;Black Teas', 2: 'Chilled, Frozen & Desserts;Cheese;Specialty Cheeses', 3: 'Pantry;Salad & Cooking Oils;Rice Bran Oils', 4: 'Chilled, Frozen & Desserts;Desserts;Frozen Bavarians & Cheesecake', 5: 'Fresh Foods & Bakery;Bakery;Pies & Pastries', 6: 'Pantry;Snack Foods;Nutritional Bars', 7: 'Pantry;Pasta, Rice & Noodles;Fresh Pastas', 8: 'Pantry;Salad & Cooking Oils;Oil Sprays', 9: 'Pantry;Sauces, Stock & Marinades;Stir Fry Sauces', 10: 'Chilled, Frozen & Desserts;Frozen Foods;Frozen Beef, Lamb & Pork', 11: 'Kitchen, Dining & Household;Stationery & Entertainment;Stationery & Craft', 12: 'Drinks;Cold Drinks;Sparkling Water', 13: 'Pantry;Pasta, Rice & Noodles;Instant Rices', 14: 'Pantry;Baking Supplies & Sugar;Baking Mixes', 15: 'Pantry;Jams, Honey & Spreads;Honey', 16: 'Fresh Foods & Bakery;Bulk & Loose Foods;Bulk Snacks & Mixes', 17: 'Fresh Foods & Bakery;Butchery;PreCooked Sausages', 18: 'Drinks;Hot Drinks;Chai Teas', 19: 'Pantry;Snack Foods;Muesli Bars', 20: 'Chilled, Frozen & Desserts;Dairy & Eggs;Long Life Milk & Milk Powder', 21: 'Chilled, Frozen & Desserts;Dairy & Eggs;Butter & Spreads', 22: 'Fresh Foods & Bakery;Bulk & Loose Foods;Bulk Breakfast Cereals', 23: 'Pantry;Canned & Prepared Foods;Canned Milk & Cream', 24: 'Pantry;Snack Foods;Bread Snacks', 25: 'Pantry;Hot Drinks;Coffee Substitutes', 26: 'Fresh Foods & Bakery;Butchery;PrePacked Chicken & Poultry', 27: 'Fresh Foods & Bakery;Deli, Salads & Cooked Meats;PreCooked Chicken & Poultry', 28: 'Pantry;Sauces, Stock & Marinades;Curry Pastes & Sauces', 29: 'Kitchen, Dining & Household;Household;Rubbish & Vacuum Bags', 30: 'Personal Care;Beauty & Grooming;Suncare & Self Tan', 31: 'Pantry;Hot Drinks;Black Teas', 32: 'Meal Spot;Ready to Cook;Mexican', 33: 'Beer, Cider & Wine;Beer & Cider;Fruit & Flavoured Cider', 34: 'Drinks;Cold Drinks;Vegetable Juices', 35: 'Personal Care;Health & Wellness;First Aid', 36: 'Fresh Foods & Bakery;Dairy & Eggs;Fresh Milk', 37: 'Meal Spot;Ready to Heat;Chilled Soups', 38: 'Chilled, Frozen & Desserts;Dairy & Eggs;Fresh Cream', 39: 'Pantry;Snack Foods;Potato Chips', 40: 'Pantry;Baking Supplies & Sugar;Sugar Substitutes', 41: 'Meal Spot;Ready to Eat;Fresh Salads', 42: 'Chilled, Frozen & Desserts;Dairy & Eggs;Fresh Organic Milk', 43: 'Kitchen, Dining & Household;Laundry;Laundry Supplies', 44: 'Pantry;Pasta, Rice & Noodles;Basmati Rices', 45: 'Fresh Foods & Bakery;Bulk & Loose Foods;Bulk Confectionery', 46: 'Pantry;Hot Drinks;Coffee Flavoured Sachets', 47: 'Chilled, Frozen & Desserts;Frozen Foods;Frozen Pastry', 48: 'Drinks;Cold Drinks;Iced Teas', 49: 'Fresh Foods & Bakery;Bakery;Organic & Gluten Free', 50: 'Fresh Foods & Bakery;Seafood;Frozen Fish & Seafood', 51: 'Meal Spot;Ready to Cook;Vege Bags', 52: 'Chilled, Frozen & Desserts;Frozen Foods;Frozen Pies', 53: 'Fresh Foods & Bakery;Bakery;Cakes & Muffins', 54: 'Pantry;Pasta, Rice & Noodles;Noodles', 55: 'Beer, Cider & Wine;Beer & Cider;Specialty & Flavoured Beer', 56: 'Kitchen, Dining & Household;Household;Kitchenware', 57: 'Pantry;Condiments & Dressings;Chilli & Pepper Sauces', 58: 'Kitchen, Dining & Household;Cleaning Products;Carpet & Floor Cleaners', 59: 'Fresh Foods & Bakery;Deli, Salads & Cooked Meats;Deli Meats', 60: 'Kitchen, Dining & Household;Household;Homeware', 61: 'Pantry;Breakfast Cereals;Flake/Fibre Cereals', 62: 'Fresh Foods & Bakery;Deli, Salads & Cooked Meats;Bacon', 63: 'Kitchen, Dining & Household;Garage & Outdoor;Hardware & Tools', 64: 'Beer, Cider & Wine;Beer & Cider;Wheat & Other Grain Beer', 65: 'Chilled, Frozen & Desserts;Desserts;Frozen Puddings', 66: 'Beer, Cider & Wine;Beer & Cider;Pale Ale', 67: 'Pantry;Breakfast Cereals;Breakfast On The Go', 68: 'Pets;Pet Supplies;Bird Supplies', 69: 'Fresh Foods & Bakery;Deli, Salads & Cooked Meats;Hummus', 70: 'Personal Care;Health & Wellness;Family Planning', 71: 'Chilled, Frozen & Desserts;Desserts;Meringues & Pavlovas', 72: 'Pets;Pet Supplies;Small Animal Supplies', 73: 'Kitchen, Dining & Household;Cleaning Products;All Purpose Cleaners', 74: 'Personal Care;Health & Wellness;Digestion, Nausea & Laxatives', 75: 'Fresh Foods & Bakery;Seafood;Fresh Whole Fish', 76: 'Fresh Foods & Bakery;Deli, Salads & Cooked Meats;Specialty Dry Goods', 77: 'Beer, Cider & Wine;Beer & Cider;Lager', 78: 'Pantry;Biscuits & Crackers;Gourmet Biscuits & Crackers', 79: 'Fresh Foods & Bakery;Bakery;Sliced Bread', 80: 'Chilled, Frozen & Desserts;Dairy & Eggs;Fresh Milk', 81: 'Drinks;Hot Drinks;Fruit & Herbal Teas', 82: 'Beer, Cider & Wine;Beer & Cider;Brewing Supplies', 83: 'Fresh Foods & Bakery;Butchery;PrePacked Sausages', 84: 'Pantry;Canned & Prepared Foods;Canned & Dried Vegetables', 85: 'Chilled, Frozen & Desserts;Dairy & Eggs;Eggs', 86: 'Pantry;World Foods;South African', 87: 'Kitchen, Dining & Household;Household;Pest & Insect Control', 88: 'Personal Care;Beauty & Grooming;Hair Care & Treatments', 89: 'Kitchen, Dining & Household;Cleaning Products;Paper Towels', 90: 'Chilled, Frozen & Desserts;Desserts;Chilled Custards', 91: 'Fresh Foods & Bakery;Butchery;PrePacked Beef & Lamb', 92: 'Kitchen, Dining & Household;Cleaning Products;Dishwashing Liquid', 93: 'Pantry;Salad & Cooking Oils;Olive Oils', 94: 'Chilled, Frozen & Desserts;Frozen Foods;Frozen Vegetables', 95: 'Pantry;Sauces, Stock & Marinades;Simmer & Stir-Through Sauces', 96: 'Drinks;Hot Drinks;Coffee Flavoured Sachets', 97: 'Fresh Foods & Bakery;Butchery;Fresh Venison & Game Meat', 98: 'Chilled, Frozen & Desserts;Desserts;Jelly & Powdered Desserts', 99: 'Kitchen, Dining & Household;Household;Food Storage', 100: 'Chilled, Frozen & Desserts;Frozen Foods;Frozen Chicken & Poultry', 101: 'Fresh Foods & Bakery;Seafood;Fresh Fish Heads', 102: 'Kitchen, Dining & Household;Cleaning Products;Dishwasher Detergents', 103: 'Fresh Foods & Bakery;Fruit & Vegetables;Vege Bags', 104: 'Fresh Foods & Bakery;Deli, Salads & Cooked Meats;Fresh Deli Savouries', 105: 'Meal Spot;Ready to Eat;Seafood Salad', 106: 'Drinks;Cold Drinks;Sparkling Juices', 107: 'Baby, Toddler & Kids;Baby Care;Baby Bathing & Skin Care', 108: 'Drinks;Hot Drinks;Coffee Capsules', 109: 'Personal Care;Health & Wellness;Allergy & Sinus', 110: 'Pantry;World Foods;UK', 111: 'Pantry;Condiments & Dressings;Mint Sauces', 112: 'Pantry;Sauces, Stock & Marinades;Marinades', 113: 'Pantry;Snack Foods;Dips & Salsas', 114: 'Kitchen, Dining & Household;Stationery & Entertainment;Magazines', 115: 'Fresh Foods & Bakery;Bakery;Fresh Breads & Rolls', 116: 'Chilled, Frozen & Desserts;Cheese;Grated Cheese', 117: 'Fresh Foods & Bakery;Bakery;Bread Rolls & Buns', 118: 'Beer, Cider & Wine;Beer & Cider;Lighter Alcohol Beers', 119: 'Baby, Toddler & Kids;Baby Care;Nappies & Changing', 120: 'Beer, Cider & Wine;Beer & Cider;American-style Ale', 121: 'Pantry;Condiments & Dressings;Vinegars', 122: 'Pantry;Snack Foods;Chips', 123: 'Kitchen, Dining & Household;Household;Tissues & Toilet Paper', 124: 'Pantry;Snack Foods;Cereal & Snack Bars', 125: 'Pantry;Hot Drinks;Fruit & Herbal Teas', 126: 'Kitchen, Dining & Household;Cleaning Products;Dishwasher Rinse & Clean', 127: 'Kitchen, Dining & Household;Household;Fire Needs', 128: 'Personal Care;Health & Wellness;Cough, Cold & Flu', 129: 'Drinks;Cold Drinks;Milk Drink Mixes', 130: 'Chilled, Frozen & Desserts;Frozen Foods;Frozen Pizza & Bases', 131: 'Chilled, Frozen & Desserts;Frozen Foods;Frozen Seafood', 132: 'Personal Care;Beauty & Grooming;Shaving & Hair Removal', 133: 'Drinks;Hot Drinks;Coffee Additives & Filters', 134: 'Pantry;Spices & Seasonings;Chilli & Paprika', 135: 'Pantry;Jams, Honey & Spreads;Savoury Spreads', 136: 'Pantry;Canned & Prepared Foods;Canned Fruit', 137: 'Pantry;Canned & Prepared Foods;Packet Soup', 138: 'Kitchen, Dining & Household;Stationery & Entertainment;Toys & Recreation', 139: 'Kitchen, Dining & Household;Household;Disposable Tableware', 140: 'Fresh Foods & Bakery;Fruit & Vegetables;Salad Bags', 141: 'Baby, Toddler & Kids;Baby Care;Baby Hair Care', 142: 'Pantry;Pasta, Rice & Noodles;Jasmine Rices', 143: 'Personal Care;Beauty & Grooming;Face & Lip Skin Care', 144: 'Kitchen, Dining & Household;Household;Shoe Care', 145: 'Fresh Foods & Bakery;Seafood;Fresh Fish Fillets & Steaks', 146: 'Kitchen, Dining & Household;Household;Manchester', 147: 'Drinks;Cold Drinks;Powdered Drinks', 148: 'Chilled, Frozen & Desserts;Dairy & Eggs;Yoghurt & Dairy Food', 149: 'Pantry;Canned & Prepared Foods;Chilled Soups', 150: 'Fresh Foods & Bakery;Dairy & Eggs;Yoghurt & Dairy Food', 151: 'Drinks;Cold Drinks;Drinking Yoghurt & Smoothies', 152: 'Chilled, Frozen & Desserts;Dairy & Eggs;Sour Cream & Crème Fraiche', 153: 'Pantry;Condiments & Dressings;Mustards', 154: 'Pantry;Condiments & Dressings;Aioli', 155: 'Kitchen, Dining & Household;Household;Food Wraps & Bags', 156: 'Fresh Foods & Bakery;Deli, Salads & Cooked Meats;Continental Sausage & Salami', 157: 'Drinks;Cold Drinks;Coconut Water', 158: 'Chilled, Frozen & Desserts;Desserts;Canned Desserts', 159: 'Kitchen, Dining & Household;Laundry;Laundry Soap', 160: 'Beer, Cider & Wine;Wine;Pinot Noir', 161: 'Pantry;Sauces, Stock & Marinades;Tartare & Seafood Sauces', 162: 'Meal Spot;Ready to Cook;Noodle Meals', 163: 'Meal Spot;Ready to Heat;Packet Soup', 164: 'Personal Care;Beauty & Grooming;Deodorants', 165: 'Baby, Toddler & Kids;Baby Care;Baby Dental Care', 166: 'Beer, Cider & Wine;Wine;Merlot', 167: 'Kitchen, Dining & Household;Cleaning Products;Cleaning Accessories', 168: 'Pantry;Confectionery;Christmas', 169: 'Pantry;Canned & Prepared Foods;Baked Beans & Spaghetti', 170: 'Kitchen, Dining & Household;Household;Air Fresheners & Deodorisers', 171: 'Pantry;Biscuits & Crackers;Rice Crackers', 172: 'Kitchen, Dining & Household;Laundry;Fabric Softeners', 173: 'Pets;Pet Supplies;Fish & Aquatic Pet Supplies', 174: 'Kitchen, Dining & Household;Laundry;Clothes Pegs', 175: 'Chilled, Frozen & Desserts;Desserts;Ready To Serve Puddings', 176: 'Fresh Foods & Bakery;Seafood;Fresh Seafood', 177: 'Pantry;Biscuits & Crackers;Assorted Biscuits & Crackers', 178: 'Fresh Foods & Bakery;Bakery;Fresh Biscuits & Slices', 179: 'Pantry;Pasta, Rice & Noodles;Rice Meals', 180: 'Beer, Cider & Wine;Wine;Other White Wine', 181: 'Kitchen, Dining & Household;Garage & Outdoor;BBQ', 182: 'Pantry;World Foods;Japanese', 183: 'Pantry;Hot Drinks;Malt Milk Drink Mixes', 184: 'Pets;Pet Supplies;Dog Food', 185: 'Pantry;Sauces, Stock & Marinades;Pasta Sauces', 186: 'Pantry;Condiments & Dressings;Chutneys', 187: 'Chilled, Frozen & Desserts;Cheese;Deli Specialty Cheeses', 188: 'Pantry;Biscuits & Crackers;Crackers', 189: 'Pantry;Snack Foods;Snack Mixes', 190: 'Beer, Cider & Wine;Wine;Sauvignon Blanc', 191: 'Pantry;Sauces, Stock & Marinades;Soy Sauce', 192: 'Pantry;Biscuits & Crackers;Chocolate Biscuits', 193: 'Pantry;Pasta, Rice & Noodles;Short & Medium Grain Rices', 194: 'Kitchen, Dining & Household;Cleaning Products;Furniture & Metal Polishes', 195: 'Fresh Foods & Bakery;Dairy & Eggs;Eggs', 196: 'Pantry;Condiments & Dressings;Pickles', 197: 'Kitchen, Dining & Household;Household;Cooking & Bakeware', 198: 'Chilled, Frozen & Desserts;Cheese;Cheese Slices', 199: 'Chilled, Frozen & Desserts;Frozen Foods;Frozen Fish', 200: 'Kitchen, Dining & Household;Garage & Outdoor;Hooks', 201: 'Kitchen, Dining & Household;Laundry;Laundry Powders', 202: 'Fresh Foods & Bakery;Dairy & Eggs;Fresh Cream', 203: 'Fresh Foods & Bakery;Bakery;Fresh Cakes & Muffins', 204: 'Beer, Cider & Wine;Wine;Champagne & Sparkling Wine', 205: 'Pantry;Confectionery;Boxed Chocolates', 206: 'Drinks;Cold Drinks;Non Dairy Milks', 207: 'Pantry;Hot Drinks;Fresh Coffees', 208: 'Personal Care;Beauty & Grooming;Apparel & Hosiery', 209: 'Beer, Cider & Wine;Wine;Pinot Gris', 210: 'Pantry;World Foods;Korean', 211: 'Pantry;World Foods;Indian', 212: 'Personal Care;Health & Wellness;Foot Care', 213: 'Pantry;Jams, Honey & Spreads;Marmite & Vegemite', 214: 'Baby, Toddler & Kids;Baby Care;Baby Health', 215: 'Chilled, Frozen & Desserts;Frozen Foods;Frozen Savouries', 216: 'Pantry;Breakfast Cereals;Muesli', 217: 'Chilled, Frozen & Desserts;Cheese;Cream Cheese', 218: 'Chilled, Frozen & Desserts;Frozen Foods;Frozen Fries & Potatoes', 219: 'Pets;Pet Supplies;Cat Food', 220: 'Pantry;Pasta, Rice & Noodles;Pasta Meals', 221: 'Pantry;Baking Supplies & Sugar;Dried Fruit', 222: 'Pantry;Sauces, Stock & Marinades;Tomato Pastes & Purees', 223: 'Chilled, Frozen & Desserts;Dairy & Eggs;Yoghurt Bases', 224: 'Chilled, Frozen & Desserts;Frozen Foods;Frozen Vegetarian', 225: 'Personal Care;Health & Wellness;Sanitary Protection', 226: 'Pantry;Baking Supplies & Sugar;Flour', 227: 'Pantry;Hot Drinks;Green Teas', 228: 'Fresh Foods & Bakery;Fruit & Vegetables;Fresh Herbs', 229: 'Fresh Foods & Bakery;Seafood;Fresh Shellfish', 230: 'Chilled, Frozen & Desserts;Desserts;Ice Cream Cones & Wafers', 231: 'Pets;Pet Supplies;Cat Accessories', 232: 'Beer, Cider & Wine;Wine;Other Red Wine', 233: 'Pantry;Snack Foods;Meat Snacks', 234: 'Pantry;Snack Foods;Nut Bars & Snacks', 235: 'Chilled, Frozen & Desserts;Cheese;Deli Cheeseboards', 236: 'Pantry;Sauces, Stock & Marinades;Tomato Sauces', 237: 'Drinks;Hot Drinks;Instant Coffees', 238: 'Pantry;World Foods;Other Countries', 239: 'Meal Spot;Ready to Heat;Frozen Pizza & Bases', 240: 'Pantry;Salad & Cooking Oils;Vegetable Oils', 241: 'Chilled, Frozen & Desserts;Cheese;Cottage Cheese', 242: 'Fresh Foods & Bakery;Bakery;Muffin Splits & Crumpets', 243: 'Fresh Foods & Bakery;Bulk & Loose Foods;Bulk Nuts', 244: 'Personal Care;Beauty & Grooming;Oral Health', 245: 'Kitchen, Dining & Household;Cleaning Products;Kitchen Cleaners', 246: 'Fresh Foods & Bakery;Fruit & Vegetables;Fresh Salads', 247: 'Pantry;Confectionery;Chocolate Family Bags', 248: 'Fresh Foods & Bakery;Dairy & Eggs;Sour Cream & Crème Fraiche', 249: 'Pantry;Sauces, Stock & Marinades;Stock', 250: 'Pantry;Snack Foods;Popcorn', 251: 'Kitchen, Dining & Household;Laundry;Clothing Dyes', 252: 'Beer, Cider & Wine;Beer & Cider;IPA', 253: 'Pantry;Baking Supplies & Sugar;Breadcrumbs & Coatings', 254: 'Meal Spot;Ready to Cook;Pasta Meals', 255: 'Drinks;Cold Drinks;Sports & Energy Drinks', 256: 'Fresh Foods & Bakery;Seafood;Fresh Smoked Fish', 257: 'Pantry;Salad & Cooking Oils;Avocado Oils', 258: 'Kitchen, Dining & Household;Laundry;Fine Fabric Washers', 259: 'Beer, Cider & Wine;Beer & Cider;Apple & Pear Cider', 260: 'Meal Spot;Ready to Heat;Chilled Pies & Pastries', 261: 'Fresh Foods & Bakery;Butchery;Fresh Chicken & Poultry', 262: 'Pantry;Canned & Prepared Foods;Syrups & Sauces', 263: 'Personal Care;Health & Wellness;Wellness & Sports Nutrition', 264: 'Fresh Foods & Bakery;Bulk & Loose Foods;Bulk Dried Fruit', 265: 'Chilled, Frozen & Desserts;Desserts;Frozen Dessert Pastries', 266: 'Kitchen, Dining & Household;Household;Batteries & Light Bulbs', 267: 'Pantry;World Foods;USA', 268: 'Drinks;Cold Drinks;Fruit Drinks & Juices', 269: 'Fresh Foods & Bakery;Seafood;Seafood Salad', 270: 'Chilled, Frozen & Desserts;Cheese;Deli Cabinet Cheeses', 271: 'Pantry;Baking Supplies & Sugar;Cooking Chocolate', 272: 'Beer, Cider & Wine;Wine;Rose', 273: 'Personal Care;Beauty & Grooming;Hair Styling & Accessories', 274: 'Fresh Foods & Bakery;Bakery;Wraps & Pita Breads', 275: 'Drinks;Hot Drinks;Fresh Coffees', 276: 'Pantry;World Foods;South East Asian', 277: 'Fresh Foods & Bakery;Deli, Salads & Cooked Meats;Olives & Antipasti Mixes', 278: 'Fresh Foods & Bakery;Butchery;Fresh Beef & Lamb', 279: 'Baby, Toddler & Kids;Baby Care;Baby Formula & Toddler Food', 280: 'Pantry;Spices & Seasonings;Dried Herbs', 281: 'Kitchen, Dining & Household;Cleaning Products;Bleaches', 282: 'Drinks;Cold Drinks;Chilled Fruit Juices', 283: 'Pantry;Baking Supplies & Sugar;Baking Syrups', 284: 'Pantry;Canned & Prepared Foods;Ready Meals', 285: 'Drinks;Cold Drinks;Still Water', 286: 'Pantry;Sauces, Stock & Marinades;Chilled Pasta Sauces', 287: 'Personal Care;Health & Wellness;Pain Relief', 288: 'Pets;Pet Supplies;Dog Treats', 289: 'Pantry;Breakfast Cereals;Cold Cereals', 290: 'Pantry;Hot Drinks;Coffee Capsules', 291: 'Pantry;Biscuits & Crackers;Biscuits & Cookies', 292: 'Pantry;Spices & Seasonings;Garlic & Ginger', 293: 'Fresh Foods & Bakery;Deli, Salads & Cooked Meats;Dips, Pesto & Pate', 294: 'Meal Spot;Ready to Heat;Pizza & Pizza Bases', 295: 'Pantry;Snack Foods;Fruit Snacks', 296: 'Pets;Pet Supplies;Dog Accessories', 297: 'Meal Spot;Ready to Heat;Ready Meals', 298: 'Pantry;Condiments & Dressings;Worcestershire Sauces', 299: 'Pantry;Breakfast Cereals;Hot Cereals', 300: 'Baby, Toddler & Kids;Baby Care;Nursing & Feeding', 301: 'Personal Care;Health & Wellness;Insect Repellent', 302: 'Beer, Cider & Wine;Beer & Cider;Spirits', 303: 'Personal Care;Beauty & Grooming;Hand & Body Care', 304: 'Pantry;Condiments & Dressings;Olives', 305: 'Pantry;Hot Drinks;Instant Coffees', 306: 'Pantry;Canned & Prepared Foods;Soup Mixes', 307: 'Pantry;Spices & Seasonings;Dried Spices', 308: 'Personal Care;Beauty & Grooming;Hair Colouring', 309: 'Fresh Foods & Bakery;Dairy & Eggs;Dairy & Lactose Free', 310: 'Kitchen, Dining & Household;Laundry;Laundry Liquid & Capsules', 311: 'Drinks;Hot Drinks;Coffee Substitutes', 312: 'Pantry;World Foods;Mexican', 313: 'Pantry;Canned & Prepared Foods;Vegetarian', 314: 'Kitchen, Dining & Household;Cleaning Products;Bathroom & Shower Cleaners', 315: 'Chilled, Frozen & Desserts;Frozen Foods;Frozen Fruit', 316: 'Pantry;Confectionery;Chocolate Blocks', 317: 'Fresh Foods & Bakery;Bulk & Loose Foods;Bulk Seeds, Legumes & Grains', 318: 'Kitchen, Dining & Household;Garage & Outdoor;Car Care', 319: 'Fresh Foods & Bakery;Bakery;Biscuits & Slices', 320: 'Fresh Foods & Bakery;Bakery;Specialty Breads', 321: 'Fresh Foods & Bakery;Butchery;Fresh Sausages', 322: 'Pantry;Canned & Prepared Foods;Canned Meat', 323: 'Meal Spot;Ready to Heat;Canned Soup', 324: 'Fresh Foods & Bakery;Deli, Salads & Cooked Meats;Ham & Pork', 325: 'Fresh Foods & Bakery;Deli, Salads & Cooked Meats;Deli Salads', 326: 'Pantry;Hot Drinks;Chocolate Milk Drink Mixes', 327: 'Pantry;Canned & Prepared Foods;Canned Soup', 328: 'Pantry;Condiments & Dressings;Fruit Sauces', 329: 'Pantry;Jams, Honey & Spreads;Jam & Marmalade', 330: 'Pantry;Hot Drinks;Chai Teas', 331: 'Pantry;Canned & Prepared Foods;Canned Fish', 332: 'Beer, Cider & Wine;Wine;Chardonnay', 333: 'Pantry;Baking Supplies & Sugar;Sugar', 334: 'Pantry;Pasta, Rice & Noodles;Wild & Coloured Rices', 335: 'Meal Spot;Ready to Eat;Fresh Deli Savouries', 336: 'Meal Spot;Ready to Eat;Deli Salads', 337: 'Beer, Cider & Wine;Beer & Cider;British-style Ale', 338: 'Pets;Pet Supplies;Cat Treats', 339: 'Meal Spot;Ready to Cook;Simply DINNER', 340: 'Kitchen, Dining & Household;Stationery & Entertainment;Newspapers', 341: 'Fresh Foods & Bakery;Dairy & Eggs;Flavoured Milk', 342: 'Fresh Foods & Bakery;Fruit & Vegetables;Fresh Vegetables', 343: 'Fresh Foods & Bakery;Deli, Salads & Cooked Meats;Chilled Pies & Pastries', 344: 'Pets;Pet Supplies;Pet Accessories', 345: 'Chilled, Frozen & Desserts;Desserts;Ice Blocks & Ice Pops', 346: 'Pantry;Condiments & Dressings;Barbeque Sauces', 347: 'Pantry;Canned & Prepared Foods;Coconut Cream & Milk', 348: 'Pantry;Canned & Prepared Foods;Pizza & Pizza Bases', 349: 'Chilled, Frozen & Desserts;Frozen Foods;Frozen Bread & Dough', 350: 'Pantry;Confectionery;Liquorice', 351: 'Personal Care;Health & Wellness;Stop Smoking', 352: 'Pantry;Jams, Honey & Spreads;Nut Spreads', 353: 'Personal Care;Beauty & Grooming;Makeup & Cosmetics', 354: 'Beer, Cider & Wine;Wine;Cask Wine', 355: 'Beer, Cider & Wine;Beer & Cider;Pilsner', 356: 'Fresh Foods & Bakery;Dairy & Eggs;Fresh Organic Milk', 357: 'Kitchen, Dining & Household;Laundry;Pre Wash Stain Removers', 358: 'Pantry;Baking Supplies & Sugar;Essences & Colourings', 359: 'Pantry;Baking Supplies & Sugar;Baking Additives', 360: 'Drinks;Hot Drinks;Green Teas', 361: 'Fresh Foods & Bakery;Fruit & Vegetables;PrePacked Fresh Vegetables', 362: 'Pantry;Sauces, Stock & Marinades;Gravies', 363: 'Pantry;Biscuits & Crackers;Plain Sweet Biscuits', 364: 'Fresh Foods & Bakery;Dairy & Eggs;Butter & Spreads', 365: 'Pantry;Confectionery;Chewing Gum & Mints', 366: 'Pantry;Pasta, Rice & Noodles;Specialty Grains & Seeds', 367: 'Personal Care;Health & Wellness;Adult Care', 368: 'Pantry;Condiments & Dressings;Mayonnaise', 369: 'Pantry;Salad & Cooking Oils;Other Oils', 370: 'Pantry;Salad & Cooking Oils;Cooking Fat', 371: 'Fresh Foods & Bakery;Deli, Salads & Cooked Meats;Gourmet Oils & Condiments', 372: 'Fresh Foods & Bakery;Fruit & Vegetables;Fresh Cut Fruit', 373: 'Drinks;Cold Drinks;Soft Drinks', 374: 'Fresh Foods & Bakery;Meal Kits;Simply DINNER', 375: 'Pantry;Jams, Honey & Spreads;Sweet Spreads', 376: 'Pantry;Condiments & Dressings;Salad Dressings', 377: 'Pantry;World Foods;Chinese', 378: 'Fresh Foods & Bakery;Butchery;Fresh Pork', 379: 'Chilled, Frozen & Desserts;Desserts;Ice Cream & Frozen Yoghurt', 380: 'Pantry;Spices & Seasonings;Salt & Pepper', 381: 'Pantry;Baking Supplies & Sugar;Baking Nuts & Seeds', 382: 'Meal Spot;Ready to Heat;Frozen Savouries', 383: 'Pantry;Snack Foods;Corn Chips', 384: 'Kitchen, Dining & Household;Garage & Outdoor;Gardening Supplies', 385: 'Pantry;Pasta, Rice & Noodles;Long Grain Rices', 386: 'Kitchen, Dining & Household;Household;Electrical', 387: 'Fresh Foods & Bakery;Bakery;Fresh Desserts & Pastries', 388: 'Pantry;Spices & Seasonings;Freshly Ground Herbs', 389: 'Drinks;Hot Drinks;Malt Milk Drink Mixes', 390: 'Pantry;Salad & Cooking Oils;Coconut Oils', 391: 'Fresh Foods & Bakery;Bakery;Garlic & Herb Breads', 392: 'Pantry;Salad & Cooking Oils;Nut & Seed Oils', 393: 'Pantry;Condiments & Dressings;Relish', 394: 'Personal Care;Health & Wellness;Vitamins & Supplements', 395: 'Fresh Foods & Bakery;Fruit & Vegetables;Fresh Fruit', 396: 'Pantry;Sauces, Stock & Marinades;Packet Sauces', 397: 'Beer, Cider & Wine;Beer & Cider;European-style Ale', 398: 'Personal Care;Health & Wellness;Contact Lens & Eye Care', 399: 'Pantry;Pasta, Rice & Noodles;Dried Pastas', 400: 'Pantry;Confectionery;Lollies Family Bags', 401: 'Baby, Toddler & Kids;Baby Care;Baby Wipes', 402: 'Drinks;Hot Drinks;Chocolate Milk Drink Mixes', 403: 'Pantry;Hot Drinks;Coffee Additives & Filters', 404: 'Chilled, Frozen & Desserts;Dairy & Eggs;Dairy & Lactose Free', 405: 'Drinks;Cold Drinks;Flavoured Water', 406: 'Pantry;Biscuits & Crackers;Crème & Jam Biscuits', 407: 'Drinks;Cold Drinks;Squash, Syrups & Cordials', 408: 'Beer, Cider & Wine;Beer & Cider;Stout, Porter & Black Beer', 409: 'Chilled, Frozen & Desserts;Dairy & Eggs;Flavoured Milk', 410: 'Pantry;Biscuits & Crackers;Rice Cakes', 411: 'Pantry;Sauces, Stock & Marinades;Specialty Sauces', 412: 'Chilled, Frozen & Desserts;Cheese;Cheese Blocks', 413: 'Pantry;Pasta, Rice & Noodles;Noodle Meals', 414: 'Pets;Pet Supplies;Pet Treatments', 415: 'Pantry;Baking Supplies & Sugar;Icing & Decorating', 416: 'Kitchen, Dining & Household;Laundry;Washing Machine Cleaners', 417: 'Fresh Foods & Bakery;Dairy & Eggs;Long Life Milk & Milk Powder', 418: 'Pantry;Snack Foods;Vege Snacks', 419: 'Fresh Foods & Bakery;Dairy & Eggs;Yoghurt Bases', 420: 'Kitchen, Dining & Household;Cleaning Products;Glass Cleaners', 421: 'Fresh Foods & Bakery;Deli, Salads & Cooked Meats;PreCooked Beef & Lamb', 422: 'Pantry;World Foods;Thai', 423: 'Beer, Cider & Wine;Wine;Shiraz', 424: 'Beer, Cider & Wine;Wine;Cabernet', 425: 'Meal Spot;Ready to Heat;Frozen Ready Meals', 426: 'Chilled, Frozen & Desserts;Frozen Foods;Frozen Ready Meals', 427: 'Kitchen, Dining & Household;Household;Party Supplies', 428: 'Fresh Foods & Bakery;Butchery;PrePacked Pork'}\n"
     ]
    }
   ],
   "source": [
    "label2id = {l: i for i, l in enumerate(set(labels))}\n",
    "id2label = {i: l for l, i in label2id.items()}\n",
    "labels = [label2id[l] for l in labels]\n",
    "texts = df[\"ProductName\"].tolist()\n",
    "vectorizer = TfidfVectorizer()\n",
    "features = vectorizer.fit_transform(texts)\n",
    "print(\"data len:\", len(texts))\n",
    "print(\"id2label\", id2label)"
   ],
   "metadata": {
    "collapsed": false,
    "pycharm": {
     "name": "#%%\n"
    }
   }
  },
  {
   "cell_type": "code",
   "execution_count": 17,
   "outputs": [],
   "source": [
    "x_train, x_test, y_train, y_test = train_test_split(features, labels, test_size=0.25, random_state=3)"
   ],
   "metadata": {
    "collapsed": false,
    "pycharm": {
     "name": "#%%\n"
    }
   }
  },
  {
   "cell_type": "code",
   "execution_count": 17,
   "outputs": [],
   "source": [],
   "metadata": {
    "collapsed": false,
    "pycharm": {
     "name": "#%%\n"
    }
   }
  }
 ],
 "metadata": {
  "kernelspec": {
   "display_name": "Python 3",
   "language": "python",
   "name": "python3"
  },
  "language_info": {
   "codemirror_mode": {
    "name": "ipython",
    "version": 2
   },
   "file_extension": ".py",
   "mimetype": "text/x-python",
   "name": "python",
   "nbconvert_exporter": "python",
   "pygments_lexer": "ipython2",
   "version": "2.7.6"
  }
 },
 "nbformat": 4,
 "nbformat_minor": 0
}