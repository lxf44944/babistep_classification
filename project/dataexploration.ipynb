{
 "cells": [
  {
   "cell_type": "code",
   "execution_count": 1,
   "metadata": {
    "collapsed": true
   },
   "outputs": [
    {
     "name": "stderr",
     "output_type": "stream",
     "text": [
      "d:\\python\\lib\\site-packages\\gensim\\similarities\\__init__.py:15: UserWarning: The gensim.similarities.levenshtein submodule is disabled, because the optional Levenshtein package <https://pypi.org/project/python-Levenshtein/> is unavailable. Install Levenhstein (e.g. `pip install python-Levenshtein`) to suppress this warning.\n",
      "  warnings.warn(msg)\n"
     ]
    }
   ],
   "source": [
    "import os\n",
    "import re\n",
    "import warnings\n",
    "\n",
    "import lightgbm as lightgbm\n",
    "import matplotlib.pyplot as plot\n",
    "import numpy as np\n",
    "import pandas as pd\n",
    "import torch\n",
    "from torchtext import vocab\n",
    "from gensim.models import Word2Vec\n",
    "from gensim.parsing import remove_stopwords\n",
    "from sklearn import metrics\n",
    "from sklearn.feature_extraction.text import TfidfVectorizer\n",
    "from sklearn.linear_model import LogisticRegression\n",
    "from sklearn.metrics import classification_report\n",
    "from sklearn.model_selection import cross_val_score, GridSearchCV\n",
    "from sklearn.model_selection import learning_curve\n",
    "from sklearn.model_selection import train_test_split\n",
    "from sklearn.svm import SVC\n",
    "from sklearn.multiclass import OneVsRestClassifier\n",
    "from sklearn.neighbors import KNeighborsClassifier\n",
    "\n",
    "warnings.filterwarnings(\"ignore\")"
   ]
  },
  {
   "cell_type": "code",
   "execution_count": 2,
   "outputs": [
    {
     "data": {
      "text/plain": "                                        ProductName               level_1  \\\n0                             Johnson's Baby Lotion  Baby, Toddler & Kids   \n1                                Johnson's Baby Oil  Baby, Toddler & Kids   \n2  SMA Balanced Nutrition From Birth Infant Formula  Baby, Toddler & Kids   \n3                             Johnson's Baby Powder  Baby, Toddler & Kids   \n4                             Johnson's Baby Powder  Baby, Toddler & Kids   \n\n     level_2                      level_3  PricePerItem PriceMode  \\\n0  Baby Care     Baby Bathing & Skin Care          4.89        ea   \n1  Baby Care     Baby Bathing & Skin Care          4.89        ea   \n2  Baby Care  Baby Formula & Toddler Food         17.99        ea   \n3  Baby Care           Nappies & Changing          2.99        ea   \n4  Baby Care           Nappies & Changing          4.89        ea   \n\n   HasMultiBuyDeal MultiBuyDeal  MultiBuyBasePrice  MultiBuyPrice  \\\n0            False          NaN               4.89            NaN   \n1            False          NaN               4.89            NaN   \n2            False          NaN              17.99          17.99   \n3            False          NaN               2.99           2.99   \n4            False          NaN               4.89            NaN   \n\n   MultiBuyQuantity PromoBadgeImageLabel  \n0               NaN                  NaN  \n1               NaN                  NaN  \n2               1.0                Saver  \n3               1.0                Saver  \n4               NaN                  NaN  ",
      "text/html": "<div>\n<style scoped>\n    .dataframe tbody tr th:only-of-type {\n        vertical-align: middle;\n    }\n\n    .dataframe tbody tr th {\n        vertical-align: top;\n    }\n\n    .dataframe thead th {\n        text-align: right;\n    }\n</style>\n<table border=\"1\" class=\"dataframe\">\n  <thead>\n    <tr style=\"text-align: right;\">\n      <th></th>\n      <th>ProductName</th>\n      <th>level_1</th>\n      <th>level_2</th>\n      <th>level_3</th>\n      <th>PricePerItem</th>\n      <th>PriceMode</th>\n      <th>HasMultiBuyDeal</th>\n      <th>MultiBuyDeal</th>\n      <th>MultiBuyBasePrice</th>\n      <th>MultiBuyPrice</th>\n      <th>MultiBuyQuantity</th>\n      <th>PromoBadgeImageLabel</th>\n    </tr>\n  </thead>\n  <tbody>\n    <tr>\n      <th>0</th>\n      <td>Johnson's Baby Lotion</td>\n      <td>Baby, Toddler &amp; Kids</td>\n      <td>Baby Care</td>\n      <td>Baby Bathing &amp; Skin Care</td>\n      <td>4.89</td>\n      <td>ea</td>\n      <td>False</td>\n      <td>NaN</td>\n      <td>4.89</td>\n      <td>NaN</td>\n      <td>NaN</td>\n      <td>NaN</td>\n    </tr>\n    <tr>\n      <th>1</th>\n      <td>Johnson's Baby Oil</td>\n      <td>Baby, Toddler &amp; Kids</td>\n      <td>Baby Care</td>\n      <td>Baby Bathing &amp; Skin Care</td>\n      <td>4.89</td>\n      <td>ea</td>\n      <td>False</td>\n      <td>NaN</td>\n      <td>4.89</td>\n      <td>NaN</td>\n      <td>NaN</td>\n      <td>NaN</td>\n    </tr>\n    <tr>\n      <th>2</th>\n      <td>SMA Balanced Nutrition From Birth Infant Formula</td>\n      <td>Baby, Toddler &amp; Kids</td>\n      <td>Baby Care</td>\n      <td>Baby Formula &amp; Toddler Food</td>\n      <td>17.99</td>\n      <td>ea</td>\n      <td>False</td>\n      <td>NaN</td>\n      <td>17.99</td>\n      <td>17.99</td>\n      <td>1.0</td>\n      <td>Saver</td>\n    </tr>\n    <tr>\n      <th>3</th>\n      <td>Johnson's Baby Powder</td>\n      <td>Baby, Toddler &amp; Kids</td>\n      <td>Baby Care</td>\n      <td>Nappies &amp; Changing</td>\n      <td>2.99</td>\n      <td>ea</td>\n      <td>False</td>\n      <td>NaN</td>\n      <td>2.99</td>\n      <td>2.99</td>\n      <td>1.0</td>\n      <td>Saver</td>\n    </tr>\n    <tr>\n      <th>4</th>\n      <td>Johnson's Baby Powder</td>\n      <td>Baby, Toddler &amp; Kids</td>\n      <td>Baby Care</td>\n      <td>Nappies &amp; Changing</td>\n      <td>4.89</td>\n      <td>ea</td>\n      <td>False</td>\n      <td>NaN</td>\n      <td>4.89</td>\n      <td>NaN</td>\n      <td>NaN</td>\n      <td>NaN</td>\n    </tr>\n  </tbody>\n</table>\n</div>"
     },
     "execution_count": 2,
     "metadata": {},
     "output_type": "execute_result"
    }
   ],
   "source": [
    "columns = [\"ProductName\", \"level_1\", \"level_2\", \"level_3\", \"PricePerItem\", \"PriceMode\", \"HasMultiBuyDeal\",\n",
    "           \"MultiBuyDeal\", \"MultiBuyBasePrice\", \"MultiBuyPrice\", \"MultiBuyQuantity\", \"PromoBadgeImageLabel\"]\n",
    "df = pd.read_csv(\"data.csv\", usecols=columns)\n",
    "df.drop_duplicates(inplace=True)\n",
    "df.head(5)"
   ],
   "metadata": {
    "collapsed": false,
    "pycharm": {
     "name": "#%%\n"
    }
   }
  },
  {
   "cell_type": "code",
   "execution_count": 3,
   "outputs": [
    {
     "data": {
      "text/plain": "                                        ProductName               level_1  \\\n0                              johnsons baby lotion  Baby, Toddler & Kids   \n1                                 johnsons baby oil  Baby, Toddler & Kids   \n2  sma balanced nutrition from birth infant formula  Baby, Toddler & Kids   \n3                              johnsons baby powder  Baby, Toddler & Kids   \n4                              johnsons baby powder  Baby, Toddler & Kids   \n\n     level_2                      level_3  PricePerItem PriceMode  \\\n0  Baby Care     Baby Bathing & Skin Care          4.89        ea   \n1  Baby Care     Baby Bathing & Skin Care          4.89        ea   \n2  Baby Care  Baby Formula & Toddler Food         17.99        ea   \n3  Baby Care           Nappies & Changing          2.99        ea   \n4  Baby Care           Nappies & Changing          4.89        ea   \n\n   HasMultiBuyDeal MultiBuyDeal  MultiBuyBasePrice  MultiBuyPrice  \\\n0            False          NaN               4.89            NaN   \n1            False          NaN               4.89            NaN   \n2            False          NaN              17.99          17.99   \n3            False          NaN               2.99           2.99   \n4            False          NaN               4.89            NaN   \n\n   MultiBuyQuantity PromoBadgeImageLabel  \n0               NaN                  NaN  \n1               NaN                  NaN  \n2               1.0                Saver  \n3               1.0                Saver  \n4               NaN                  NaN  ",
      "text/html": "<div>\n<style scoped>\n    .dataframe tbody tr th:only-of-type {\n        vertical-align: middle;\n    }\n\n    .dataframe tbody tr th {\n        vertical-align: top;\n    }\n\n    .dataframe thead th {\n        text-align: right;\n    }\n</style>\n<table border=\"1\" class=\"dataframe\">\n  <thead>\n    <tr style=\"text-align: right;\">\n      <th></th>\n      <th>ProductName</th>\n      <th>level_1</th>\n      <th>level_2</th>\n      <th>level_3</th>\n      <th>PricePerItem</th>\n      <th>PriceMode</th>\n      <th>HasMultiBuyDeal</th>\n      <th>MultiBuyDeal</th>\n      <th>MultiBuyBasePrice</th>\n      <th>MultiBuyPrice</th>\n      <th>MultiBuyQuantity</th>\n      <th>PromoBadgeImageLabel</th>\n    </tr>\n  </thead>\n  <tbody>\n    <tr>\n      <th>0</th>\n      <td>johnsons baby lotion</td>\n      <td>Baby, Toddler &amp; Kids</td>\n      <td>Baby Care</td>\n      <td>Baby Bathing &amp; Skin Care</td>\n      <td>4.89</td>\n      <td>ea</td>\n      <td>False</td>\n      <td>NaN</td>\n      <td>4.89</td>\n      <td>NaN</td>\n      <td>NaN</td>\n      <td>NaN</td>\n    </tr>\n    <tr>\n      <th>1</th>\n      <td>johnsons baby oil</td>\n      <td>Baby, Toddler &amp; Kids</td>\n      <td>Baby Care</td>\n      <td>Baby Bathing &amp; Skin Care</td>\n      <td>4.89</td>\n      <td>ea</td>\n      <td>False</td>\n      <td>NaN</td>\n      <td>4.89</td>\n      <td>NaN</td>\n      <td>NaN</td>\n      <td>NaN</td>\n    </tr>\n    <tr>\n      <th>2</th>\n      <td>sma balanced nutrition from birth infant formula</td>\n      <td>Baby, Toddler &amp; Kids</td>\n      <td>Baby Care</td>\n      <td>Baby Formula &amp; Toddler Food</td>\n      <td>17.99</td>\n      <td>ea</td>\n      <td>False</td>\n      <td>NaN</td>\n      <td>17.99</td>\n      <td>17.99</td>\n      <td>1.0</td>\n      <td>Saver</td>\n    </tr>\n    <tr>\n      <th>3</th>\n      <td>johnsons baby powder</td>\n      <td>Baby, Toddler &amp; Kids</td>\n      <td>Baby Care</td>\n      <td>Nappies &amp; Changing</td>\n      <td>2.99</td>\n      <td>ea</td>\n      <td>False</td>\n      <td>NaN</td>\n      <td>2.99</td>\n      <td>2.99</td>\n      <td>1.0</td>\n      <td>Saver</td>\n    </tr>\n    <tr>\n      <th>4</th>\n      <td>johnsons baby powder</td>\n      <td>Baby, Toddler &amp; Kids</td>\n      <td>Baby Care</td>\n      <td>Nappies &amp; Changing</td>\n      <td>4.89</td>\n      <td>ea</td>\n      <td>False</td>\n      <td>NaN</td>\n      <td>4.89</td>\n      <td>NaN</td>\n      <td>NaN</td>\n      <td>NaN</td>\n    </tr>\n  </tbody>\n</table>\n</div>"
     },
     "execution_count": 3,
     "metadata": {},
     "output_type": "execute_result"
    }
   ],
   "source": [
    "punctuations = re.compile(r'[^a-zA-Z\\s]+')\n",
    "df[\"ProductName\"] = [\" \".join(punctuations.sub('', x).lower().split()) for x in df[\"ProductName\"].tolist()]\n",
    "df.head(5)"
   ],
   "metadata": {
    "collapsed": false,
    "pycharm": {
     "name": "#%%\n"
    }
   }
  },
  {
   "cell_type": "code",
   "execution_count": 4,
   "outputs": [
    {
     "data": {
      "text/plain": "                                        ProductName               level_1  \\\n0                              johnsons baby lotion  Baby, Toddler & Kids   \n1                                 johnsons baby oil  Baby, Toddler & Kids   \n2  sma balanced nutrition from birth infant formula  Baby, Toddler & Kids   \n3                              johnsons baby powder  Baby, Toddler & Kids   \n4                              johnsons baby powder  Baby, Toddler & Kids   \n\n     level_2                      level_3  PricePerItem PriceMode  \\\n0  Baby Care     Baby Bathing & Skin Care          4.89        ea   \n1  Baby Care     Baby Bathing & Skin Care          4.89        ea   \n2  Baby Care  Baby Formula & Toddler Food         17.99        ea   \n3  Baby Care           Nappies & Changing          2.99        ea   \n4  Baby Care           Nappies & Changing          4.89        ea   \n\n   HasMultiBuyDeal MultiBuyDeal  MultiBuyBasePrice  MultiBuyPrice  \\\n0            False                            4.89            NaN   \n1            False                            4.89            NaN   \n2            False                           17.99          17.99   \n3            False                            2.99           2.99   \n4            False                            4.89            NaN   \n\n   MultiBuyQuantity PromoBadgeImageLabel  \n0               NaN                  NaN  \n1               NaN                  NaN  \n2               1.0                Saver  \n3               1.0                Saver  \n4               NaN                  NaN  ",
      "text/html": "<div>\n<style scoped>\n    .dataframe tbody tr th:only-of-type {\n        vertical-align: middle;\n    }\n\n    .dataframe tbody tr th {\n        vertical-align: top;\n    }\n\n    .dataframe thead th {\n        text-align: right;\n    }\n</style>\n<table border=\"1\" class=\"dataframe\">\n  <thead>\n    <tr style=\"text-align: right;\">\n      <th></th>\n      <th>ProductName</th>\n      <th>level_1</th>\n      <th>level_2</th>\n      <th>level_3</th>\n      <th>PricePerItem</th>\n      <th>PriceMode</th>\n      <th>HasMultiBuyDeal</th>\n      <th>MultiBuyDeal</th>\n      <th>MultiBuyBasePrice</th>\n      <th>MultiBuyPrice</th>\n      <th>MultiBuyQuantity</th>\n      <th>PromoBadgeImageLabel</th>\n    </tr>\n  </thead>\n  <tbody>\n    <tr>\n      <th>0</th>\n      <td>johnsons baby lotion</td>\n      <td>Baby, Toddler &amp; Kids</td>\n      <td>Baby Care</td>\n      <td>Baby Bathing &amp; Skin Care</td>\n      <td>4.89</td>\n      <td>ea</td>\n      <td>False</td>\n      <td></td>\n      <td>4.89</td>\n      <td>NaN</td>\n      <td>NaN</td>\n      <td>NaN</td>\n    </tr>\n    <tr>\n      <th>1</th>\n      <td>johnsons baby oil</td>\n      <td>Baby, Toddler &amp; Kids</td>\n      <td>Baby Care</td>\n      <td>Baby Bathing &amp; Skin Care</td>\n      <td>4.89</td>\n      <td>ea</td>\n      <td>False</td>\n      <td></td>\n      <td>4.89</td>\n      <td>NaN</td>\n      <td>NaN</td>\n      <td>NaN</td>\n    </tr>\n    <tr>\n      <th>2</th>\n      <td>sma balanced nutrition from birth infant formula</td>\n      <td>Baby, Toddler &amp; Kids</td>\n      <td>Baby Care</td>\n      <td>Baby Formula &amp; Toddler Food</td>\n      <td>17.99</td>\n      <td>ea</td>\n      <td>False</td>\n      <td></td>\n      <td>17.99</td>\n      <td>17.99</td>\n      <td>1.0</td>\n      <td>Saver</td>\n    </tr>\n    <tr>\n      <th>3</th>\n      <td>johnsons baby powder</td>\n      <td>Baby, Toddler &amp; Kids</td>\n      <td>Baby Care</td>\n      <td>Nappies &amp; Changing</td>\n      <td>2.99</td>\n      <td>ea</td>\n      <td>False</td>\n      <td></td>\n      <td>2.99</td>\n      <td>2.99</td>\n      <td>1.0</td>\n      <td>Saver</td>\n    </tr>\n    <tr>\n      <th>4</th>\n      <td>johnsons baby powder</td>\n      <td>Baby, Toddler &amp; Kids</td>\n      <td>Baby Care</td>\n      <td>Nappies &amp; Changing</td>\n      <td>4.89</td>\n      <td>ea</td>\n      <td>False</td>\n      <td></td>\n      <td>4.89</td>\n      <td>NaN</td>\n      <td>NaN</td>\n      <td>NaN</td>\n    </tr>\n  </tbody>\n</table>\n</div>"
     },
     "execution_count": 4,
     "metadata": {},
     "output_type": "execute_result"
    }
   ],
   "source": [
    "df[\"MultiBuyDeal\"] = [\" \".join(punctuations.sub('', y).lower().split()) if y == y else \" \" for y in\n",
    "                      df[\"MultiBuyDeal\"].tolist()]\n",
    "df.head(5)"
   ],
   "metadata": {
    "collapsed": false,
    "pycharm": {
     "name": "#%%\n"
    }
   }
  },
  {
   "cell_type": "code",
   "execution_count": 5,
   "outputs": [
    {
     "data": {
      "text/plain": "                                        ProductName               level_1  \\\n0                              johnsons baby lotion  Baby, Toddler & Kids   \n1                                 johnsons baby oil  Baby, Toddler & Kids   \n2  sma balanced nutrition from birth infant formula  Baby, Toddler & Kids   \n3                              johnsons baby powder  Baby, Toddler & Kids   \n4                              johnsons baby powder  Baby, Toddler & Kids   \n\n     level_2                      level_3  PricePerItem PriceMode  \\\n0  Baby Care     Baby Bathing & Skin Care          4.89        ea   \n1  Baby Care     Baby Bathing & Skin Care          4.89        ea   \n2  Baby Care  Baby Formula & Toddler Food         17.99        ea   \n3  Baby Care           Nappies & Changing          2.99        ea   \n4  Baby Care           Nappies & Changing          4.89        ea   \n\n   HasMultiBuyDeal MultiBuyDeal  MultiBuyBasePrice  MultiBuyPrice  \\\n0            False                            4.89            NaN   \n1            False                            4.89            NaN   \n2            False                           17.99          17.99   \n3            False                            2.99           2.99   \n4            False                            4.89            NaN   \n\n   MultiBuyQuantity PromoBadgeImageLabel  \n0               NaN                       \n1               NaN                       \n2               1.0                saver  \n3               1.0                saver  \n4               NaN                       ",
      "text/html": "<div>\n<style scoped>\n    .dataframe tbody tr th:only-of-type {\n        vertical-align: middle;\n    }\n\n    .dataframe tbody tr th {\n        vertical-align: top;\n    }\n\n    .dataframe thead th {\n        text-align: right;\n    }\n</style>\n<table border=\"1\" class=\"dataframe\">\n  <thead>\n    <tr style=\"text-align: right;\">\n      <th></th>\n      <th>ProductName</th>\n      <th>level_1</th>\n      <th>level_2</th>\n      <th>level_3</th>\n      <th>PricePerItem</th>\n      <th>PriceMode</th>\n      <th>HasMultiBuyDeal</th>\n      <th>MultiBuyDeal</th>\n      <th>MultiBuyBasePrice</th>\n      <th>MultiBuyPrice</th>\n      <th>MultiBuyQuantity</th>\n      <th>PromoBadgeImageLabel</th>\n    </tr>\n  </thead>\n  <tbody>\n    <tr>\n      <th>0</th>\n      <td>johnsons baby lotion</td>\n      <td>Baby, Toddler &amp; Kids</td>\n      <td>Baby Care</td>\n      <td>Baby Bathing &amp; Skin Care</td>\n      <td>4.89</td>\n      <td>ea</td>\n      <td>False</td>\n      <td></td>\n      <td>4.89</td>\n      <td>NaN</td>\n      <td>NaN</td>\n      <td></td>\n    </tr>\n    <tr>\n      <th>1</th>\n      <td>johnsons baby oil</td>\n      <td>Baby, Toddler &amp; Kids</td>\n      <td>Baby Care</td>\n      <td>Baby Bathing &amp; Skin Care</td>\n      <td>4.89</td>\n      <td>ea</td>\n      <td>False</td>\n      <td></td>\n      <td>4.89</td>\n      <td>NaN</td>\n      <td>NaN</td>\n      <td></td>\n    </tr>\n    <tr>\n      <th>2</th>\n      <td>sma balanced nutrition from birth infant formula</td>\n      <td>Baby, Toddler &amp; Kids</td>\n      <td>Baby Care</td>\n      <td>Baby Formula &amp; Toddler Food</td>\n      <td>17.99</td>\n      <td>ea</td>\n      <td>False</td>\n      <td></td>\n      <td>17.99</td>\n      <td>17.99</td>\n      <td>1.0</td>\n      <td>saver</td>\n    </tr>\n    <tr>\n      <th>3</th>\n      <td>johnsons baby powder</td>\n      <td>Baby, Toddler &amp; Kids</td>\n      <td>Baby Care</td>\n      <td>Nappies &amp; Changing</td>\n      <td>2.99</td>\n      <td>ea</td>\n      <td>False</td>\n      <td></td>\n      <td>2.99</td>\n      <td>2.99</td>\n      <td>1.0</td>\n      <td>saver</td>\n    </tr>\n    <tr>\n      <th>4</th>\n      <td>johnsons baby powder</td>\n      <td>Baby, Toddler &amp; Kids</td>\n      <td>Baby Care</td>\n      <td>Nappies &amp; Changing</td>\n      <td>4.89</td>\n      <td>ea</td>\n      <td>False</td>\n      <td></td>\n      <td>4.89</td>\n      <td>NaN</td>\n      <td>NaN</td>\n      <td></td>\n    </tr>\n  </tbody>\n</table>\n</div>"
     },
     "execution_count": 5,
     "metadata": {},
     "output_type": "execute_result"
    }
   ],
   "source": [
    "df[\"PromoBadgeImageLabel\"] = [\" \".join(punctuations.sub('', z).lower().split()) if z == z else \" \" for z in\n",
    "                              df[\"PromoBadgeImageLabel\"].tolist()]\n",
    "df.head(5)"
   ],
   "metadata": {
    "collapsed": false,
    "pycharm": {
     "name": "#%%\n"
    }
   }
  },
  {
   "cell_type": "code",
   "execution_count": 6,
   "outputs": [
    {
     "data": {
      "text/plain": "                                        ProductName               level_1  \\\n0                              johnsons baby lotion  Baby, Toddler & Kids   \n1                                 johnsons baby oil  Baby, Toddler & Kids   \n2  sma balanced nutrition from birth infant formula  Baby, Toddler & Kids   \n3                              johnsons baby powder  Baby, Toddler & Kids   \n4                              johnsons baby powder  Baby, Toddler & Kids   \n\n     level_2                      level_3  PricePerItem PriceMode  \\\n0  Baby Care     Baby Bathing & Skin Care          4.89        ea   \n1  Baby Care     Baby Bathing & Skin Care          4.89        ea   \n2  Baby Care  Baby Formula & Toddler Food         17.99        ea   \n3  Baby Care           Nappies & Changing          2.99        ea   \n4  Baby Care           Nappies & Changing          4.89        ea   \n\n   HasMultiBuyDeal MultiBuyDeal  MultiBuyBasePrice  MultiBuyPrice  \\\n0            False                            4.89           0.00   \n1            False                            4.89           0.00   \n2            False                           17.99          17.99   \n3            False                            2.99           2.99   \n4            False                            4.89           0.00   \n\n   MultiBuyQuantity PromoBadgeImageLabel  \n0               0.0                       \n1               0.0                       \n2               1.0                saver  \n3               1.0                saver  \n4               0.0                       ",
      "text/html": "<div>\n<style scoped>\n    .dataframe tbody tr th:only-of-type {\n        vertical-align: middle;\n    }\n\n    .dataframe tbody tr th {\n        vertical-align: top;\n    }\n\n    .dataframe thead th {\n        text-align: right;\n    }\n</style>\n<table border=\"1\" class=\"dataframe\">\n  <thead>\n    <tr style=\"text-align: right;\">\n      <th></th>\n      <th>ProductName</th>\n      <th>level_1</th>\n      <th>level_2</th>\n      <th>level_3</th>\n      <th>PricePerItem</th>\n      <th>PriceMode</th>\n      <th>HasMultiBuyDeal</th>\n      <th>MultiBuyDeal</th>\n      <th>MultiBuyBasePrice</th>\n      <th>MultiBuyPrice</th>\n      <th>MultiBuyQuantity</th>\n      <th>PromoBadgeImageLabel</th>\n    </tr>\n  </thead>\n  <tbody>\n    <tr>\n      <th>0</th>\n      <td>johnsons baby lotion</td>\n      <td>Baby, Toddler &amp; Kids</td>\n      <td>Baby Care</td>\n      <td>Baby Bathing &amp; Skin Care</td>\n      <td>4.89</td>\n      <td>ea</td>\n      <td>False</td>\n      <td></td>\n      <td>4.89</td>\n      <td>0.00</td>\n      <td>0.0</td>\n      <td></td>\n    </tr>\n    <tr>\n      <th>1</th>\n      <td>johnsons baby oil</td>\n      <td>Baby, Toddler &amp; Kids</td>\n      <td>Baby Care</td>\n      <td>Baby Bathing &amp; Skin Care</td>\n      <td>4.89</td>\n      <td>ea</td>\n      <td>False</td>\n      <td></td>\n      <td>4.89</td>\n      <td>0.00</td>\n      <td>0.0</td>\n      <td></td>\n    </tr>\n    <tr>\n      <th>2</th>\n      <td>sma balanced nutrition from birth infant formula</td>\n      <td>Baby, Toddler &amp; Kids</td>\n      <td>Baby Care</td>\n      <td>Baby Formula &amp; Toddler Food</td>\n      <td>17.99</td>\n      <td>ea</td>\n      <td>False</td>\n      <td></td>\n      <td>17.99</td>\n      <td>17.99</td>\n      <td>1.0</td>\n      <td>saver</td>\n    </tr>\n    <tr>\n      <th>3</th>\n      <td>johnsons baby powder</td>\n      <td>Baby, Toddler &amp; Kids</td>\n      <td>Baby Care</td>\n      <td>Nappies &amp; Changing</td>\n      <td>2.99</td>\n      <td>ea</td>\n      <td>False</td>\n      <td></td>\n      <td>2.99</td>\n      <td>2.99</td>\n      <td>1.0</td>\n      <td>saver</td>\n    </tr>\n    <tr>\n      <th>4</th>\n      <td>johnsons baby powder</td>\n      <td>Baby, Toddler &amp; Kids</td>\n      <td>Baby Care</td>\n      <td>Nappies &amp; Changing</td>\n      <td>4.89</td>\n      <td>ea</td>\n      <td>False</td>\n      <td></td>\n      <td>4.89</td>\n      <td>0.00</td>\n      <td>0.0</td>\n      <td></td>\n    </tr>\n  </tbody>\n</table>\n</div>"
     },
     "execution_count": 6,
     "metadata": {},
     "output_type": "execute_result"
    }
   ],
   "source": [
    "df[\"MultiBuyPrice\"].fillna(0, inplace=True)\n",
    "df[\"MultiBuyQuantity\"].fillna(0, inplace=True)\n",
    "df.head(5)"
   ],
   "metadata": {
    "collapsed": false,
    "pycharm": {
     "name": "#%%\n"
    }
   }
  },
  {
   "cell_type": "code",
   "execution_count": 7,
   "outputs": [
    {
     "data": {
      "text/plain": "<BarContainer object of 449 artists>"
     },
     "execution_count": 7,
     "metadata": {},
     "output_type": "execute_result"
    },
    {
     "data": {
      "text/plain": "<Figure size 432x288 with 1 Axes>",
      "image/png": "[encoded data removed]"
     },
     "metadata": {
      "needs_background": "light"
     },
     "output_type": "display_data"
    }
   ],
   "source": [
    "typesa = df.value_counts(columns[1:4])\n",
    "plot.bar([a for a in range(typesa.size)], typesa)"
   ],
   "metadata": {
    "collapsed": false,
    "pycharm": {
     "name": "#%%\n"
    }
   }
  },
  {
   "cell_type": "code",
   "execution_count": 8,
   "outputs": [
    {
     "data": {
      "text/plain": "<BarContainer object of 43 artists>"
     },
     "execution_count": 8,
     "metadata": {},
     "output_type": "execute_result"
    },
    {
     "data": {
      "text/plain": "<Figure size 432x288 with 1 Axes>",
      "image/png": "[encoded data removed]"
     },
     "metadata": {
      "needs_background": "light"
     },
     "output_type": "display_data"
    }
   ],
   "source": [
    "typesb = df.value_counts(columns[1:3])\n",
    "plot.bar([a for a in range(typesb.size)], typesb)"
   ],
   "metadata": {
    "collapsed": false,
    "pycharm": {
     "name": "#%%\n"
    }
   }
  },
  {
   "cell_type": "code",
   "execution_count": 9,
   "outputs": [
    {
     "data": {
      "text/plain": "level_1                    \nPantry                         4740\nPersonal Care                  1778\nFresh Foods & Bakery           1721\nChilled, Frozen & Desserts     1426\nBeer, Cider & Wine             1232\nKitchen, Dining & Household    1182\nDrinks                         1063\nPets                            512\nMeal Spot                       456\nBaby, Toddler & Kids            354\nFeatured                        121\ndtype: int64"
     },
     "execution_count": 9,
     "metadata": {},
     "output_type": "execute_result"
    }
   ],
   "source": [
    "typesc = df.value_counts(columns[1:2])\n",
    "typesc"
   ],
   "metadata": {
    "collapsed": false,
    "pycharm": {
     "name": "#%%\n"
    }
   }
  },
  {
   "cell_type": "code",
   "execution_count": 10,
   "outputs": [
    {
     "data": {
      "text/plain": "                                        ProductName               level_1  \\\n0                              johnsons baby lotion  Baby, Toddler & Kids   \n1                                 johnsons baby oil  Baby, Toddler & Kids   \n2  sma balanced nutrition from birth infant formula  Baby, Toddler & Kids   \n3                              johnsons baby powder  Baby, Toddler & Kids   \n4                              johnsons baby powder  Baby, Toddler & Kids   \n\n     level_2                      level_3  PricePerItem PriceMode  \\\n0  Baby Care     Baby Bathing & Skin Care          4.89        ea   \n1  Baby Care     Baby Bathing & Skin Care          4.89        ea   \n2  Baby Care  Baby Formula & Toddler Food         17.99        ea   \n3  Baby Care           Nappies & Changing          2.99        ea   \n4  Baby Care           Nappies & Changing          4.89        ea   \n\n   HasMultiBuyDeal MultiBuyDeal  MultiBuyBasePrice  MultiBuyPrice  \\\n0            False                            4.89           0.00   \n1            False                            4.89           0.00   \n2            False                           17.99          17.99   \n3            False                            2.99           2.99   \n4            False                            4.89           0.00   \n\n   MultiBuyQuantity PromoBadgeImageLabel  \n0               0.0                       \n1               0.0                       \n2               1.0                saver  \n3               1.0                saver  \n4               0.0                       ",
      "text/html": "<div>\n<style scoped>\n    .dataframe tbody tr th:only-of-type {\n        vertical-align: middle;\n    }\n\n    .dataframe tbody tr th {\n        vertical-align: top;\n    }\n\n    .dataframe thead th {\n        text-align: right;\n    }\n</style>\n<table border=\"1\" class=\"dataframe\">\n  <thead>\n    <tr style=\"text-align: right;\">\n      <th></th>\n      <th>ProductName</th>\n      <th>level_1</th>\n      <th>level_2</th>\n      <th>level_3</th>\n      <th>PricePerItem</th>\n      <th>PriceMode</th>\n      <th>HasMultiBuyDeal</th>\n      <th>MultiBuyDeal</th>\n      <th>MultiBuyBasePrice</th>\n      <th>MultiBuyPrice</th>\n      <th>MultiBuyQuantity</th>\n      <th>PromoBadgeImageLabel</th>\n    </tr>\n  </thead>\n  <tbody>\n    <tr>\n      <th>0</th>\n      <td>johnsons baby lotion</td>\n      <td>Baby, Toddler &amp; Kids</td>\n      <td>Baby Care</td>\n      <td>Baby Bathing &amp; Skin Care</td>\n      <td>4.89</td>\n      <td>ea</td>\n      <td>False</td>\n      <td></td>\n      <td>4.89</td>\n      <td>0.00</td>\n      <td>0.0</td>\n      <td></td>\n    </tr>\n    <tr>\n      <th>1</th>\n      <td>johnsons baby oil</td>\n      <td>Baby, Toddler &amp; Kids</td>\n      <td>Baby Care</td>\n      <td>Baby Bathing &amp; Skin Care</td>\n      <td>4.89</td>\n      <td>ea</td>\n      <td>False</td>\n      <td></td>\n      <td>4.89</td>\n      <td>0.00</td>\n      <td>0.0</td>\n      <td></td>\n    </tr>\n    <tr>\n      <th>2</th>\n      <td>sma balanced nutrition from birth infant formula</td>\n      <td>Baby, Toddler &amp; Kids</td>\n      <td>Baby Care</td>\n      <td>Baby Formula &amp; Toddler Food</td>\n      <td>17.99</td>\n      <td>ea</td>\n      <td>False</td>\n      <td></td>\n      <td>17.99</td>\n      <td>17.99</td>\n      <td>1.0</td>\n      <td>saver</td>\n    </tr>\n    <tr>\n      <th>3</th>\n      <td>johnsons baby powder</td>\n      <td>Baby, Toddler &amp; Kids</td>\n      <td>Baby Care</td>\n      <td>Nappies &amp; Changing</td>\n      <td>2.99</td>\n      <td>ea</td>\n      <td>False</td>\n      <td></td>\n      <td>2.99</td>\n      <td>2.99</td>\n      <td>1.0</td>\n      <td>saver</td>\n    </tr>\n    <tr>\n      <th>4</th>\n      <td>johnsons baby powder</td>\n      <td>Baby, Toddler &amp; Kids</td>\n      <td>Baby Care</td>\n      <td>Nappies &amp; Changing</td>\n      <td>4.89</td>\n      <td>ea</td>\n      <td>False</td>\n      <td></td>\n      <td>4.89</td>\n      <td>0.00</td>\n      <td>0.0</td>\n      <td></td>\n    </tr>\n  </tbody>\n</table>\n</div>"
     },
     "execution_count": 10,
     "metadata": {},
     "output_type": "execute_result"
    }
   ],
   "source": [
    "df = df[df[\"level_1\"] != \"Featured\"]\n",
    "df = df[df[\"level_1\"] != \"Meal Spot\"]\n",
    "df.head(5)"
   ],
   "metadata": {
    "collapsed": false,
    "pycharm": {
     "name": "#%%\n"
    }
   }
  },
  {
   "cell_type": "code",
   "execution_count": 11,
   "outputs": [
    {
     "data": {
      "text/plain": "(array([1.856e+03, 4.425e+03, 3.087e+03, 1.348e+03, 9.700e+02, 5.280e+02,\n        5.470e+02, 1.880e+02, 2.160e+02, 1.670e+02, 1.250e+02, 7.600e+01,\n        2.800e+01, 2.000e+01, 2.800e+01, 1.200e+01, 2.200e+01, 6.000e+00,\n        1.200e+01, 1.000e+00, 1.200e+01, 0.000e+00, 2.000e+00, 0.000e+00,\n        1.000e+00, 0.000e+00, 0.000e+00, 0.000e+00, 2.000e+00, 0.000e+00,\n        1.000e+00, 0.000e+00, 0.000e+00, 2.000e+00, 0.000e+00, 1.000e+00,\n        0.000e+00, 1.000e+00, 0.000e+00, 1.000e+00, 0.000e+00, 2.000e+00,\n        0.000e+00, 0.000e+00, 0.000e+00, 0.000e+00, 0.000e+00, 0.000e+00,\n        0.000e+00, 1.000e+00]),\n array([  0.15  ,   2.5668,   4.9836,   7.4004,   9.8172,  12.234 ,\n         14.6508,  17.0676,  19.4844,  21.9012,  24.318 ,  26.7348,\n         29.1516,  31.5684,  33.9852,  36.402 ,  38.8188,  41.2356,\n         43.6524,  46.0692,  48.486 ,  50.9028,  53.3196,  55.7364,\n         58.1532,  60.57  ,  62.9868,  65.4036,  67.8204,  70.2372,\n         72.654 ,  75.0708,  77.4876,  79.9044,  82.3212,  84.738 ,\n         87.1548,  89.5716,  91.9884,  94.4052,  96.822 ,  99.2388,\n        101.6556, 104.0724, 106.4892, 108.906 , 111.3228, 113.7396,\n        116.1564, 118.5732, 120.99  ]),\n <BarContainer object of 50 artists>)"
     },
     "execution_count": 11,
     "metadata": {},
     "output_type": "execute_result"
    },
    {
     "data": {
      "text/plain": "<Figure size 432x288 with 1 Axes>",
      "image/png": "[encoded data removed]"
     },
     "metadata": {
      "needs_background": "light"
     },
     "output_type": "display_data"
    }
   ],
   "source": [
    "dfea = df[df[\"PriceMode\"] == \"ea\"]\n",
    "plot.hist(dfea[\"PricePerItem\"].tolist(), bins=50)"
   ],
   "metadata": {
    "collapsed": false,
    "pycharm": {
     "name": "#%%\n"
    }
   }
  },
  {
   "cell_type": "code",
   "execution_count": 12,
   "outputs": [
    {
     "data": {
      "text/plain": "(array([13., 21., 22., 13., 21., 29., 30.,  9., 37., 19., 39.,  9.,  9.,\n        14.,  9.,  1.,  3.,  3.,  7.,  2.,  2.,  1.,  0.,  1.,  0.,  0.,\n         1.,  0.,  0.,  0.,  1.,  2.,  0.,  0.,  0.,  0.,  0.,  0.,  1.,\n         0.,  0.,  0.,  0.,  0.,  0.,  0.,  0.,  0.,  0.,  1.]),\n array([  2.29  ,   4.8422,   7.3944,   9.9466,  12.4988,  15.051 ,\n         17.6032,  20.1554,  22.7076,  25.2598,  27.812 ,  30.3642,\n         32.9164,  35.4686,  38.0208,  40.573 ,  43.1252,  45.6774,\n         48.2296,  50.7818,  53.334 ,  55.8862,  58.4384,  60.9906,\n         63.5428,  66.095 ,  68.6472,  71.1994,  73.7516,  76.3038,\n         78.856 ,  81.4082,  83.9604,  86.5126,  89.0648,  91.617 ,\n         94.1692,  96.7214,  99.2736, 101.8258, 104.378 , 106.9302,\n        109.4824, 112.0346, 114.5868, 117.139 , 119.6912, 122.2434,\n        124.7956, 127.3478, 129.9   ]),\n <BarContainer object of 50 artists>)"
     },
     "execution_count": 12,
     "metadata": {},
     "output_type": "execute_result"
    },
    {
     "data": {
      "text/plain": "<Figure size 432x288 with 1 Axes>",
      "image/png": "[encoded data removed]"
     },
     "metadata": {
      "needs_background": "light"
     },
     "output_type": "display_data"
    }
   ],
   "source": [
    "dfkg = df[df[\"PriceMode\"] == \"kg\"]\n",
    "plot.hist(dfkg[\"PricePerItem\"].tolist(), bins=50)"
   ],
   "metadata": {
    "collapsed": false,
    "pycharm": {
     "name": "#%%\n"
    }
   }
  },
  {
   "cell_type": "code",
   "execution_count": 13,
   "outputs": [
    {
     "data": {
      "text/plain": "                                        ProductName               level_1  \\\n0                              johnsons baby lotion  Baby, Toddler & Kids   \n1                                 johnsons baby oil  Baby, Toddler & Kids   \n2  sma balanced nutrition from birth infant formula  Baby, Toddler & Kids   \n3                              johnsons baby powder  Baby, Toddler & Kids   \n4                              johnsons baby powder  Baby, Toddler & Kids   \n\n     level_2                      level_3  PricePerItem PriceMode  \\\n0  Baby Care     Baby Bathing & Skin Care             5        ea   \n1  Baby Care     Baby Bathing & Skin Care             5        ea   \n2  Baby Care  Baby Formula & Toddler Food            20        ea   \n3  Baby Care           Nappies & Changing             5        ea   \n4  Baby Care           Nappies & Changing             5        ea   \n\n   HasMultiBuyDeal MultiBuyDeal  MultiBuyBasePrice  MultiBuyPrice  \\\n0            False                               5              0   \n1            False                               5              0   \n2            False                              20             20   \n3            False                               5              5   \n4            False                               5              0   \n\n   MultiBuyQuantity PromoBadgeImageLabel  \n0                 0                       \n1                 0                       \n2                 1                saver  \n3                 1                saver  \n4                 0                       ",
      "text/html": "<div>\n<style scoped>\n    .dataframe tbody tr th:only-of-type {\n        vertical-align: middle;\n    }\n\n    .dataframe tbody tr th {\n        vertical-align: top;\n    }\n\n    .dataframe thead th {\n        text-align: right;\n    }\n</style>\n<table border=\"1\" class=\"dataframe\">\n  <thead>\n    <tr style=\"text-align: right;\">\n      <th></th>\n      <th>ProductName</th>\n      <th>level_1</th>\n      <th>level_2</th>\n      <th>level_3</th>\n      <th>PricePerItem</th>\n      <th>PriceMode</th>\n      <th>HasMultiBuyDeal</th>\n      <th>MultiBuyDeal</th>\n      <th>MultiBuyBasePrice</th>\n      <th>MultiBuyPrice</th>\n      <th>MultiBuyQuantity</th>\n      <th>PromoBadgeImageLabel</th>\n    </tr>\n  </thead>\n  <tbody>\n    <tr>\n      <th>0</th>\n      <td>johnsons baby lotion</td>\n      <td>Baby, Toddler &amp; Kids</td>\n      <td>Baby Care</td>\n      <td>Baby Bathing &amp; Skin Care</td>\n      <td>5</td>\n      <td>ea</td>\n      <td>False</td>\n      <td></td>\n      <td>5</td>\n      <td>0</td>\n      <td>0</td>\n      <td></td>\n    </tr>\n    <tr>\n      <th>1</th>\n      <td>johnsons baby oil</td>\n      <td>Baby, Toddler &amp; Kids</td>\n      <td>Baby Care</td>\n      <td>Baby Bathing &amp; Skin Care</td>\n      <td>5</td>\n      <td>ea</td>\n      <td>False</td>\n      <td></td>\n      <td>5</td>\n      <td>0</td>\n      <td>0</td>\n      <td></td>\n    </tr>\n    <tr>\n      <th>2</th>\n      <td>sma balanced nutrition from birth infant formula</td>\n      <td>Baby, Toddler &amp; Kids</td>\n      <td>Baby Care</td>\n      <td>Baby Formula &amp; Toddler Food</td>\n      <td>20</td>\n      <td>ea</td>\n      <td>False</td>\n      <td></td>\n      <td>20</td>\n      <td>20</td>\n      <td>1</td>\n      <td>saver</td>\n    </tr>\n    <tr>\n      <th>3</th>\n      <td>johnsons baby powder</td>\n      <td>Baby, Toddler &amp; Kids</td>\n      <td>Baby Care</td>\n      <td>Nappies &amp; Changing</td>\n      <td>5</td>\n      <td>ea</td>\n      <td>False</td>\n      <td></td>\n      <td>5</td>\n      <td>5</td>\n      <td>1</td>\n      <td>saver</td>\n    </tr>\n    <tr>\n      <th>4</th>\n      <td>johnsons baby powder</td>\n      <td>Baby, Toddler &amp; Kids</td>\n      <td>Baby Care</td>\n      <td>Nappies &amp; Changing</td>\n      <td>5</td>\n      <td>ea</td>\n      <td>False</td>\n      <td></td>\n      <td>5</td>\n      <td>0</td>\n      <td>0</td>\n      <td></td>\n    </tr>\n  </tbody>\n</table>\n</div>"
     },
     "execution_count": 13,
     "metadata": {},
     "output_type": "execute_result"
    }
   ],
   "source": [
    "df[\"PricePerItem\"] = [round(p / 5) * 5 for p in df[\"PricePerItem\"].tolist()]\n",
    "df[\"MultiBuyPrice\"] = [round(p / 5) * 5 for p in df[\"MultiBuyPrice\"].tolist()]\n",
    "df[\"MultiBuyBasePrice\"] = [round(p / 5) * 5 for p in df[\"MultiBuyBasePrice\"].tolist()]\n",
    "df[\"MultiBuyQuantity\"] = [int(q) for q in df[\"MultiBuyQuantity\"].tolist()]\n",
    "df.head(5)"
   ],
   "metadata": {
    "collapsed": false,
    "pycharm": {
     "name": "#%%\n"
    }
   }
  },
  {
   "cell_type": "code",
   "execution_count": 14,
   "outputs": [],
   "source": [
    "levela = df[\"level_1\"].tolist()\n",
    "levelb = df[\"level_2\"].tolist()\n",
    "two = [\";\".join([levela[i], levelb[i]]) for i in range(len(levela))]\n",
    "one = levela"
   ],
   "metadata": {
    "collapsed": false,
    "pycharm": {
     "name": "#%%\n"
    }
   }
  },
  {
   "cell_type": "code",
   "execution_count": 15,
   "outputs": [],
   "source": [
    "texts = df[\"ProductName\"].tolist()\n",
    "vectorizer = TfidfVectorizer(stop_words='english')\n",
    "features = vectorizer.fit_transform(texts)"
   ],
   "metadata": {
    "collapsed": false,
    "pycharm": {
     "name": "#%%\n"
    }
   }
  },
  {
   "cell_type": "code",
   "execution_count": 16,
   "outputs": [],
   "source": [
    "label2idtwo = {l: i for i, l in enumerate(set(two))}\n",
    "id2labeltwo = {i: l for l, i in label2idtwo.items()}\n",
    "two = [label2idtwo[l] for l in two]\n",
    "label2idone = {l: i for i, l in enumerate(set(one))}\n",
    "id2labelone = {i: l for l, i in label2idone.items()}\n",
    "one = [label2idone[l] for l in one]\n",
    "x_traint, x_testt, y_traint, y_testt = train_test_split(features, two, test_size=0.25, random_state=3)\n",
    "x_traino, x_testo, y_traino, y_testo = train_test_split(features, one, test_size=0.25, random_state=3)"
   ],
   "metadata": {
    "collapsed": false,
    "pycharm": {
     "name": "#%%\n"
    }
   }
  },
  {
   "cell_type": "code",
   "execution_count": 17,
   "outputs": [
    {
     "name": "stdout",
     "output_type": "stream",
     "text": [
      "                                                        precision    recall  f1-score   support\n",
      "\n",
      "                           Fresh Foods & Bakery;Bakery       0.94      0.90      0.92        90\n",
      "                               Beer, Cider & Wine;Wine       0.99      0.98      0.98       167\n",
      "                     Fresh Foods & Bakery;Dairy & Eggs       0.22      0.15      0.18       130\n",
      "               Fresh Foods & Bakery;Bulk & Loose Foods       0.97      1.00      0.99        34\n",
      "                          Fresh Foods & Bakery;Seafood       0.87      0.87      0.87        15\n",
      "                                    Pantry;Snack Foods       0.85      0.87      0.86       121\n",
      "                                     Pantry;Hot Drinks       0.20      0.20      0.20        99\n",
      "                   Chilled, Frozen & Desserts;Desserts       0.94      0.77      0.85        61\n",
      "                        Baby, Toddler & Kids;Baby Care       0.98      0.85      0.91        93\n",
      "                      Pantry;Sauces, Stock & Marinades       0.89      0.93      0.91       100\n",
      "                            Pantry;Spices & Seasonings       0.87      0.94      0.90        79\n",
      "                                    Pantry;World Foods       0.87      0.55      0.67        49\n",
      "                        Pantry;Baking Supplies & Sugar       0.73      0.82      0.77        96\n",
      "                              Pantry;Breakfast Cereals       0.93      0.91      0.92        58\n",
      "         Kitchen, Dining & Household;Cleaning Products       0.90      0.84      0.87        67\n",
      "                            Pantry;Biscuits & Crackers       0.94      0.88      0.91        86\n",
      "                        Pantry;Canned & Prepared Foods       0.79      0.85      0.82       159\n",
      "                                    Drinks;Cold Drinks       0.90      0.96      0.93       155\n",
      "      Fresh Foods & Bakery;Deli, Salads & Cooked Meats       0.85      0.86      0.86        81\n",
      "                       Beer, Cider & Wine;Beer & Cider       0.97      0.95      0.96       134\n",
      "                         Fresh Foods & Bakery;Butchery       0.98      0.79      0.87        52\n",
      "                                     Drinks;Hot Drinks       0.18      0.18      0.18        94\n",
      "          Kitchen, Dining & Household;Garage & Outdoor       1.00      0.08      0.14        13\n",
      "                                  Pantry;Confectionery       0.96      0.96      0.96       101\n",
      "                       Personal Care;Beauty & Grooming       0.76      1.00      0.86       282\n",
      "                         Pantry;Condiments & Dressings       0.74      0.76      0.75        75\n",
      "                                     Pets;Pet Supplies       1.00      0.97      0.99       141\n",
      "Kitchen, Dining & Household;Stationery & Entertainment       0.92      0.65      0.76        17\n",
      "               Chilled, Frozen & Desserts;Frozen Foods       0.80      0.80      0.80       128\n",
      "                   Kitchen, Dining & Household;Laundry       1.00      0.82      0.90        38\n",
      "                        Fresh Foods & Bakery;Meal Kits       0.00      0.00      0.00         5\n",
      "                          Pantry;Jams, Honey & Spreads       0.98      0.84      0.90        61\n",
      "                     Chilled, Frozen & Desserts;Cheese       0.88      0.90      0.89        78\n",
      "                       Personal Care;Health & Wellness       0.93      0.87      0.90       158\n",
      "                           Pantry;Salad & Cooking Oils       0.96      0.92      0.94        25\n",
      "               Chilled, Frozen & Desserts;Dairy & Eggs       0.21      0.30      0.25       101\n",
      "               Fresh Foods & Bakery;Fruit & Vegetables       1.00      0.69      0.82        49\n",
      "                          Pantry;Pasta, Rice & Noodles       0.86      0.74      0.80        82\n",
      "                 Kitchen, Dining & Household;Household       0.87      0.96      0.91       128\n",
      "\n",
      "                                              accuracy                           0.80      3502\n",
      "                                             macro avg       0.81      0.75      0.77      3502\n",
      "                                          weighted avg       0.81      0.80      0.80      3502\n",
      "\n"
     ]
    }
   ],
   "source": [
    "model = LogisticRegression(max_iter=500)\n",
    "model.fit(x_traint, y_traint)\n",
    "predict_labelst = model.predict(x_testt)\n",
    "predict_labelst = [np.round(p) for p in predict_labelst]\n",
    "max_labelt = len(id2labeltwo) - 1\n",
    "predict_labelst = [l if max_labelt >= l else max_labelt for l in predict_labelst]\n",
    "min_label = 0\n",
    "predict_labelst = [l if min_label <= l else min_label for l in predict_labelst]\n",
    "print(classification_report(y_testt, predict_labelst, target_names=[id2labeltwo[i] for i in range(len(id2labeltwo))]))"
   ],
   "metadata": {
    "collapsed": false,
    "pycharm": {
     "name": "#%%\n"
    }
   }
  },
  {
   "cell_type": "code",
   "execution_count": 18,
   "outputs": [
    {
     "name": "stdout",
     "output_type": "stream",
     "text": [
      "                             precision    recall  f1-score   support\n",
      "\n",
      "       Fresh Foods & Bakery       0.79      0.68      0.73       456\n",
      "         Beer, Cider & Wine       0.99      0.92      0.96       301\n",
      "                     Pantry       0.80      0.93      0.86      1191\n",
      "                     Drinks       0.70      0.65      0.67       249\n",
      "Kitchen, Dining & Household       0.97      0.89      0.93       263\n",
      "       Baby, Toddler & Kids       0.99      0.81      0.89        93\n",
      "              Personal Care       0.96      0.93      0.95       440\n",
      "                       Pets       1.00      0.91      0.96       141\n",
      " Chilled, Frozen & Desserts       0.69      0.63      0.66       368\n",
      "\n",
      "                   accuracy                           0.84      3502\n",
      "                  macro avg       0.88      0.82      0.84      3502\n",
      "               weighted avg       0.84      0.84      0.84      3502\n",
      "\n"
     ]
    }
   ],
   "source": [
    "model = LogisticRegression(max_iter=500)\n",
    "model.fit(x_traino, y_traino)\n",
    "predict_labelso = model.predict(x_testo)\n",
    "predict_labelso = [np.round(p) for p in predict_labelso]\n",
    "max_labelo = len(id2labelone) - 1\n",
    "predict_labelso = [l if max_labelo >= l else max_labelo for l in predict_labelso]\n",
    "min_label = 0\n",
    "predict_labelso = [l if min_label <= l else min_label for l in predict_labelso]\n",
    "print(classification_report(y_testo, predict_labelso, target_names=[id2labelone[i] for i in range(len(id2labelone))]))"
   ],
   "metadata": {
    "collapsed": false,
    "pycharm": {
     "name": "#%%\n"
    }
   }
  },
  {
   "cell_type": "code",
   "execution_count": 19,
   "outputs": [
    {
     "name": "stdout",
     "output_type": "stream",
     "text": [
      "                                                        precision    recall  f1-score   support\n",
      "\n",
      "                           Fresh Foods & Bakery;Bakery       0.82      0.84      0.83        90\n",
      "                               Beer, Cider & Wine;Wine       0.90      0.96      0.93       167\n",
      "                     Fresh Foods & Bakery;Dairy & Eggs       0.29      0.25      0.27       130\n",
      "               Fresh Foods & Bakery;Bulk & Loose Foods       0.92      1.00      0.96        34\n",
      "                          Fresh Foods & Bakery;Seafood       0.77      0.67      0.71        15\n",
      "                                    Pantry;Snack Foods       0.78      0.74      0.76       121\n",
      "                                     Pantry;Hot Drinks       0.32      0.32      0.32        99\n",
      "                   Chilled, Frozen & Desserts;Desserts       0.81      0.72      0.77        61\n",
      "                        Baby, Toddler & Kids;Baby Care       0.91      0.86      0.88        93\n",
      "                      Pantry;Sauces, Stock & Marinades       0.70      0.92      0.80       100\n",
      "                            Pantry;Spices & Seasonings       0.74      0.92      0.82        79\n",
      "                                    Pantry;World Foods       0.89      0.35      0.50        49\n",
      "                        Pantry;Baking Supplies & Sugar       0.66      0.65      0.65        96\n",
      "                              Pantry;Breakfast Cereals       0.90      0.95      0.92        58\n",
      "         Kitchen, Dining & Household;Cleaning Products       0.86      0.76      0.81        67\n",
      "                            Pantry;Biscuits & Crackers       0.83      0.76      0.79        86\n",
      "                        Pantry;Canned & Prepared Foods       0.71      0.70      0.70       159\n",
      "                                    Drinks;Cold Drinks       0.75      0.97      0.84       155\n",
      "      Fresh Foods & Bakery;Deli, Salads & Cooked Meats       0.85      0.75      0.80        81\n",
      "                       Beer, Cider & Wine;Beer & Cider       0.99      0.88      0.93       134\n",
      "                         Fresh Foods & Bakery;Butchery       0.79      0.79      0.79        52\n",
      "                                     Drinks;Hot Drinks       0.41      0.51      0.46        94\n",
      "          Kitchen, Dining & Household;Garage & Outdoor       1.00      0.23      0.38        13\n",
      "                                  Pantry;Confectionery       0.85      0.89      0.87       101\n",
      "                       Personal Care;Beauty & Grooming       0.87      0.96      0.91       282\n",
      "                         Pantry;Condiments & Dressings       0.68      0.63      0.65        75\n",
      "                                     Pets;Pet Supplies       0.88      0.95      0.91       141\n",
      "Kitchen, Dining & Household;Stationery & Entertainment       0.91      0.59      0.71        17\n",
      "               Chilled, Frozen & Desserts;Frozen Foods       0.71      0.55      0.62       128\n",
      "                   Kitchen, Dining & Household;Laundry       0.84      0.84      0.84        38\n",
      "                        Fresh Foods & Bakery;Meal Kits       0.50      0.40      0.44         5\n",
      "                          Pantry;Jams, Honey & Spreads       0.82      0.67      0.74        61\n",
      "                     Chilled, Frozen & Desserts;Cheese       0.85      0.86      0.85        78\n",
      "                       Personal Care;Health & Wellness       0.90      0.65      0.75       158\n",
      "                           Pantry;Salad & Cooking Oils       0.70      0.92      0.79        25\n",
      "               Chilled, Frozen & Desserts;Dairy & Eggs       0.26      0.38      0.31       101\n",
      "               Fresh Foods & Bakery;Fruit & Vegetables       0.91      0.82      0.86        49\n",
      "                          Pantry;Pasta, Rice & Noodles       0.70      0.66      0.68        82\n",
      "                 Kitchen, Dining & Household;Household       0.88      0.77      0.82       128\n",
      "\n",
      "                                              accuracy                           0.75      3502\n",
      "                                             macro avg       0.77      0.72      0.73      3502\n",
      "                                          weighted avg       0.76      0.75      0.75      3502\n",
      "\n"
     ]
    }
   ],
   "source": [
    "k = len(id2labeltwo)\n",
    "model = KNeighborsClassifier(n_neighbors=k)\n",
    "model.fit(x_traint, y_traint)\n",
    "predict_labelst = model.predict(x_testt)\n",
    "print(classification_report(y_testt, predict_labelst, target_names=[id2labeltwo[i] for i in range(len(id2labeltwo))]))"
   ],
   "metadata": {
    "collapsed": false,
    "pycharm": {
     "name": "#%%\n"
    }
   }
  },
  {
   "cell_type": "code",
   "execution_count": 20,
   "outputs": [
    {
     "name": "stdout",
     "output_type": "stream",
     "text": [
      "                             precision    recall  f1-score   support\n",
      "\n",
      "       Fresh Foods & Bakery       0.73      0.71      0.72       456\n",
      "         Beer, Cider & Wine       0.98      0.96      0.97       301\n",
      "                     Pantry       0.86      0.90      0.88      1191\n",
      "                     Drinks       0.68      0.71      0.69       249\n",
      "Kitchen, Dining & Household       0.95      0.90      0.92       263\n",
      "       Baby, Toddler & Kids       0.99      0.90      0.94        93\n",
      "              Personal Care       0.97      0.90      0.94       440\n",
      "                       Pets       0.99      0.94      0.96       141\n",
      " Chilled, Frozen & Desserts       0.67      0.68      0.68       368\n",
      "\n",
      "                   accuracy                           0.85      3502\n",
      "                  macro avg       0.87      0.85      0.86      3502\n",
      "               weighted avg       0.85      0.85      0.85      3502\n",
      "\n"
     ]
    }
   ],
   "source": [
    "k = len(id2labelone)\n",
    "model = KNeighborsClassifier(n_neighbors=k)\n",
    "model.fit(x_traino, y_traino)\n",
    "predict_labelso = model.predict(x_testo)\n",
    "print(classification_report(y_testo, predict_labelso, target_names=[id2labelone[i] for i in range(len(id2labelone))]))"
   ],
   "metadata": {
    "collapsed": false,
    "pycharm": {
     "name": "#%%\n"
    }
   }
  },
  {
   "cell_type": "code",
   "execution_count": 21,
   "outputs": [],
   "source": [
    "def knn_cross_validation(x_train, y_train):\n",
    "    k_list = list(range(1, 30))\n",
    "    list_scores = []\n",
    "\n",
    "    for k in k_list:\n",
    "        knn = KNeighborsClassifier(n_neighbors=k)\n",
    "        scores = cross_val_score(knn, x_train, y_train, cv=10, scoring='accuracy')\n",
    "        list_scores.append(scores.mean())\n",
    "\n",
    "    MSE = [1 - x for x in list_scores]\n",
    "    optimal_k = k_list[MSE.index(min(MSE))]\n",
    "    print(\"The optimal number of neighbors is %d\" % optimal_k)\n",
    "    plot.plot(k_list, list_scores)\n",
    "    plot.xlabel('Number of Neighbors K')\n",
    "    plot.ylabel('correct classification rate')\n",
    "    plot.show()\n",
    "    return optimal_k"
   ],
   "metadata": {
    "collapsed": false,
    "pycharm": {
     "name": "#%%\n"
    }
   }
  },
  {
   "cell_type": "code",
   "execution_count": 22,
   "outputs": [
    {
     "name": "stdout",
     "output_type": "stream",
     "text": [
      "The optimal number of neighbors is 8\n"
     ]
    },
    {
     "data": {
      "text/plain": "<Figure size 432x288 with 1 Axes>",
      "image/png": "[encoded data removed]"
     },
     "metadata": {
      "needs_background": "light"
     },
     "output_type": "display_data"
    }
   ],
   "source": [
    "ko = knn_cross_validation(x_traino, y_traino)"
   ],
   "metadata": {
    "collapsed": false,
    "pycharm": {
     "name": "#%%\n"
    }
   }
  },
  {
   "cell_type": "code",
   "execution_count": 23,
   "outputs": [
    {
     "name": "stdout",
     "output_type": "stream",
     "text": [
      "The optimal number of neighbors is 1\n"
     ]
    },
    {
     "data": {
      "text/plain": "<Figure size 432x288 with 1 Axes>",
      "image/png": "[encoded data removed]"
     },
     "metadata": {
      "needs_background": "light"
     },
     "output_type": "display_data"
    }
   ],
   "source": [
    "kt = knn_cross_validation(x_traint, y_traint)"
   ],
   "metadata": {
    "collapsed": false,
    "pycharm": {
     "name": "#%%\n"
    }
   }
  },
  {
   "cell_type": "code",
   "execution_count": 24,
   "outputs": [
    {
     "data": {
      "text/plain": "<Figure size 432x288 with 1 Axes>",
      "image/png": "[encoded data removed]"
     },
     "metadata": {
      "needs_background": "light"
     },
     "output_type": "display_data"
    }
   ],
   "source": [
    "knn = KNeighborsClassifier(n_neighbors=kt)\n",
    "train_sizes, train_score, test_score = learning_curve(knn, features, two, train_sizes=[0.1, 0.2, 0.4, 0.6, 0.8, 1],\n",
    "                                                      cv=5, scoring='accuracy')\n",
    "train_error = 1 - np.mean(train_score, axis=1)\n",
    "test_error = 1 - np.mean(test_score, axis=1)\n",
    "plot.plot(train_sizes, train_error, 'o-', color='r', label='training')\n",
    "plot.plot(train_sizes, test_error, 'o-', color='g', label='testing')\n",
    "plot.legend(loc='best')\n",
    "plot.xlabel('traing examples')\n",
    "plot.ylabel('error')\n",
    "plot.show()"
   ],
   "metadata": {
    "collapsed": false,
    "pycharm": {
     "name": "#%%\n"
    }
   }
  },
  {
   "cell_type": "code",
   "execution_count": 25,
   "outputs": [
    {
     "data": {
      "text/plain": "<Figure size 432x288 with 1 Axes>",
      "image/png": "[encoded data removed]"
     },
     "metadata": {
      "needs_background": "light"
     },
     "output_type": "display_data"
    }
   ],
   "source": [
    "knn = KNeighborsClassifier(n_neighbors=ko)\n",
    "train_sizes, train_score, test_score = learning_curve(knn, features, one, train_sizes=[0.1, 0.2, 0.4, 0.6, 0.8, 1],\n",
    "                                                      cv=5, scoring='accuracy')\n",
    "train_error = 1 - np.mean(train_score, axis=1)\n",
    "test_error = 1 - np.mean(test_score, axis=1)\n",
    "plot.plot(train_sizes, train_error, 'o-', color='r', label='training')\n",
    "plot.plot(train_sizes, test_error, 'o-', color='g', label='testing')\n",
    "plot.legend(loc='best')\n",
    "plot.xlabel('traing examples')\n",
    "plot.ylabel('error')\n",
    "plot.show()"
   ],
   "metadata": {
    "collapsed": false,
    "pycharm": {
     "name": "#%%\n"
    }
   }
  },
  {
   "cell_type": "code",
   "execution_count": 26,
   "outputs": [
    {
     "name": "stdout",
     "output_type": "stream",
     "text": [
      "                                                        precision    recall  f1-score   support\n",
      "\n",
      "                           Fresh Foods & Bakery;Bakery       0.96      0.97      0.96        90\n",
      "                               Beer, Cider & Wine;Wine       0.99      0.99      0.99       167\n",
      "                     Fresh Foods & Bakery;Dairy & Eggs       0.14      0.09      0.11       130\n",
      "               Fresh Foods & Bakery;Bulk & Loose Foods       0.92      1.00      0.96        34\n",
      "                          Fresh Foods & Bakery;Seafood       0.82      0.93      0.87        15\n",
      "                                    Pantry;Snack Foods       0.95      0.93      0.94       121\n",
      "                                     Pantry;Hot Drinks       0.16      0.15      0.15        99\n",
      "                   Chilled, Frozen & Desserts;Desserts       0.93      0.87      0.90        61\n",
      "                        Baby, Toddler & Kids;Baby Care       1.00      0.89      0.94        93\n",
      "                      Pantry;Sauces, Stock & Marinades       0.89      0.97      0.93       100\n",
      "                            Pantry;Spices & Seasonings       0.89      0.97      0.93        79\n",
      "                                    Pantry;World Foods       0.89      0.63      0.74        49\n",
      "                        Pantry;Baking Supplies & Sugar       0.88      0.83      0.86        96\n",
      "                              Pantry;Breakfast Cereals       0.98      0.97      0.97        58\n",
      "         Kitchen, Dining & Household;Cleaning Products       0.94      0.93      0.93        67\n",
      "                            Pantry;Biscuits & Crackers       0.96      0.94      0.95        86\n",
      "                        Pantry;Canned & Prepared Foods       0.90      0.87      0.89       159\n",
      "                                    Drinks;Cold Drinks       0.94      0.98      0.96       155\n",
      "      Fresh Foods & Bakery;Deli, Salads & Cooked Meats       0.91      0.91      0.91        81\n",
      "                       Beer, Cider & Wine;Beer & Cider       0.98      0.96      0.97       134\n",
      "                         Fresh Foods & Bakery;Butchery       0.98      0.92      0.95        52\n",
      "                                     Drinks;Hot Drinks       0.14      0.15      0.15        94\n",
      "          Kitchen, Dining & Household;Garage & Outdoor       1.00      0.62      0.76        13\n",
      "                                  Pantry;Confectionery       0.99      0.99      0.99       101\n",
      "                       Personal Care;Beauty & Grooming       0.91      0.99      0.95       282\n",
      "                         Pantry;Condiments & Dressings       0.74      0.88      0.80        75\n",
      "                                     Pets;Pet Supplies       1.00      1.00      1.00       141\n",
      "Kitchen, Dining & Household;Stationery & Entertainment       0.94      0.88      0.91        17\n",
      "               Chilled, Frozen & Desserts;Frozen Foods       0.89      0.85      0.87       128\n",
      "                   Kitchen, Dining & Household;Laundry       0.97      0.92      0.95        38\n",
      "                        Fresh Foods & Bakery;Meal Kits       0.71      1.00      0.83         5\n",
      "                          Pantry;Jams, Honey & Spreads       0.95      0.97      0.96        61\n",
      "                     Chilled, Frozen & Desserts;Cheese       0.95      0.96      0.96        78\n",
      "                       Personal Care;Health & Wellness       0.96      0.93      0.95       158\n",
      "                           Pantry;Salad & Cooking Oils       0.88      0.92      0.90        25\n",
      "               Chilled, Frozen & Desserts;Dairy & Eggs       0.18      0.26      0.21       101\n",
      "               Fresh Foods & Bakery;Fruit & Vegetables       1.00      0.82      0.90        49\n",
      "                          Pantry;Pasta, Rice & Noodles       0.88      0.89      0.88        82\n",
      "                 Kitchen, Dining & Household;Household       0.92      0.95      0.93       128\n",
      "\n",
      "                                              accuracy                           0.84      3502\n",
      "                                             macro avg       0.85      0.84      0.84      3502\n",
      "                                          weighted avg       0.84      0.84      0.84      3502\n",
      "\n"
     ]
    }
   ],
   "source": [
    "model = OneVsRestClassifier(SVC())\n",
    "model.fit(x_traint, y_traint)\n",
    "svm_predict_labelst = model.predict(x_testt)\n",
    "print(\n",
    "    classification_report(y_testt, svm_predict_labelst, target_names=[id2labeltwo[i] for i in range(len(id2labeltwo))]))"
   ],
   "metadata": {
    "collapsed": false,
    "pycharm": {
     "name": "#%%\n"
    }
   }
  },
  {
   "cell_type": "code",
   "execution_count": 27,
   "outputs": [
    {
     "data": {
      "text/plain": "<Figure size 432x288 with 1 Axes>",
      "image/png": "[encoded data removed]"
     },
     "metadata": {
      "needs_background": "light"
     },
     "output_type": "display_data"
    }
   ],
   "source": [
    "train_sizes, train_score, test_score = learning_curve(SVC(), features, two, train_sizes=[0.1, 0.2, 0.4, 0.6, 0.8, 1],\n",
    "                                                      cv=5, scoring='accuracy')\n",
    "train_error = 1 - np.mean(train_score, axis=1)\n",
    "test_error = 1 - np.mean(test_score, axis=1)\n",
    "plot.plot(train_sizes, train_error, 'o-', color='r', label='training')\n",
    "plot.plot(train_sizes, test_error, 'o-', color='g', label='testing')\n",
    "plot.legend(loc='best')\n",
    "plot.xlabel('traing examples')\n",
    "plot.ylabel('error')\n",
    "plot.show()"
   ],
   "metadata": {
    "collapsed": false,
    "pycharm": {
     "name": "#%%\n"
    }
   }
  },
  {
   "cell_type": "code",
   "execution_count": 28,
   "outputs": [
    {
     "name": "stdout",
     "output_type": "stream",
     "text": [
      "# Tuning hyper-parameters for precision\n",
      "\n",
      "Best parameters set found on development set:\n",
      "\n",
      "{'C': 1, 'kernel': 'linear'}\n",
      "\n",
      "Grid scores on development set:\n",
      "\n",
      "0.002 (+/-0.000) for {'C': 1, 'gamma': 0.001, 'kernel': 'rbf'}\n",
      "0.002 (+/-0.000) for {'C': 1, 'gamma': 0.0001, 'kernel': 'rbf'}\n",
      "0.054 (+/-0.032) for {'C': 10, 'gamma': 0.001, 'kernel': 'rbf'}\n",
      "0.002 (+/-0.000) for {'C': 10, 'gamma': 0.0001, 'kernel': 'rbf'}\n",
      "0.776 (+/-0.032) for {'C': 100, 'gamma': 0.001, 'kernel': 'rbf'}\n",
      "0.054 (+/-0.032) for {'C': 100, 'gamma': 0.0001, 'kernel': 'rbf'}\n",
      "0.856 (+/-0.012) for {'C': 1000, 'gamma': 0.001, 'kernel': 'rbf'}\n",
      "0.776 (+/-0.032) for {'C': 1000, 'gamma': 0.0001, 'kernel': 'rbf'}\n",
      "0.859 (+/-0.016) for {'C': 1, 'kernel': 'linear'}\n",
      "0.852 (+/-0.013) for {'C': 10, 'kernel': 'linear'}\n",
      "0.849 (+/-0.012) for {'C': 100, 'kernel': 'linear'}\n",
      "0.849 (+/-0.013) for {'C': 1000, 'kernel': 'linear'}\n",
      "\n",
      "Detailed classification report:\n",
      "\n",
      "The model is trained on the full development set.\n",
      "The scores are computed on the full evaluation set.\n",
      "\n",
      "              precision    recall  f1-score   support\n",
      "\n",
      "           0       0.96      0.94      0.95        90\n",
      "           1       0.99      1.00      1.00       167\n",
      "           2       0.22      0.13      0.16       130\n",
      "           3       1.00      1.00      1.00        34\n",
      "           4       0.87      0.87      0.87        15\n",
      "           5       0.90      0.93      0.91       121\n",
      "           6       0.19      0.15      0.17        99\n",
      "           7       0.91      0.85      0.88        61\n",
      "           8       0.99      0.89      0.94        93\n",
      "           9       0.92      0.93      0.93       100\n",
      "          10       0.93      0.94      0.93        79\n",
      "          11       0.89      0.67      0.77        49\n",
      "          12       0.78      0.85      0.82        96\n",
      "          13       1.00      0.95      0.97        58\n",
      "          14       0.97      0.91      0.94        67\n",
      "          15       0.96      0.94      0.95        86\n",
      "          16       0.80      0.89      0.85       159\n",
      "          17       0.97      0.97      0.97       155\n",
      "          18       0.88      0.89      0.88        81\n",
      "          19       1.00      0.95      0.97       134\n",
      "          20       0.98      0.87      0.92        52\n",
      "          21       0.27      0.34      0.30        94\n",
      "          22       0.88      0.54      0.67        13\n",
      "          23       0.98      0.95      0.96       101\n",
      "          24       0.88      0.99      0.93       282\n",
      "          25       0.81      0.83      0.82        75\n",
      "          26       1.00      0.97      0.99       141\n",
      "          27       0.93      0.76      0.84        17\n",
      "          28       0.87      0.87      0.87       128\n",
      "          29       1.00      0.92      0.96        38\n",
      "          30       0.83      1.00      0.91         5\n",
      "          31       0.95      0.90      0.92        61\n",
      "          32       0.94      0.94      0.94        78\n",
      "          33       0.95      0.92      0.94       158\n",
      "          34       0.82      0.92      0.87        25\n",
      "          35       0.26      0.41      0.32       101\n",
      "          36       1.00      0.69      0.82        49\n",
      "          37       0.89      0.82      0.85        82\n",
      "          38       0.89      0.97      0.93       128\n",
      "\n",
      "    accuracy                           0.84      3502\n",
      "   macro avg       0.85      0.83      0.84      3502\n",
      "weighted avg       0.84      0.84      0.84      3502\n",
      "\n",
      "\n",
      "# Tuning hyper-parameters for recall\n",
      "\n",
      "Best parameters set found on development set:\n",
      "\n",
      "{'C': 1000, 'gamma': 0.001, 'kernel': 'rbf'}\n",
      "\n",
      "Grid scores on development set:\n",
      "\n",
      "0.026 (+/-0.000) for {'C': 1, 'gamma': 0.001, 'kernel': 'rbf'}\n",
      "0.026 (+/-0.000) for {'C': 1, 'gamma': 0.0001, 'kernel': 'rbf'}\n",
      "0.028 (+/-0.002) for {'C': 10, 'gamma': 0.001, 'kernel': 'rbf'}\n",
      "0.026 (+/-0.000) for {'C': 10, 'gamma': 0.0001, 'kernel': 'rbf'}\n",
      "0.667 (+/-0.018) for {'C': 100, 'gamma': 0.001, 'kernel': 'rbf'}\n",
      "0.028 (+/-0.002) for {'C': 100, 'gamma': 0.0001, 'kernel': 'rbf'}\n",
      "0.834 (+/-0.021) for {'C': 1000, 'gamma': 0.001, 'kernel': 'rbf'}\n",
      "0.667 (+/-0.018) for {'C': 1000, 'gamma': 0.0001, 'kernel': 'rbf'}\n",
      "0.827 (+/-0.023) for {'C': 1, 'kernel': 'linear'}\n",
      "0.831 (+/-0.019) for {'C': 10, 'kernel': 'linear'}\n",
      "0.829 (+/-0.019) for {'C': 100, 'kernel': 'linear'}\n",
      "0.829 (+/-0.020) for {'C': 1000, 'kernel': 'linear'}\n",
      "\n",
      "Detailed classification report:\n",
      "\n",
      "The model is trained on the full development set.\n",
      "The scores are computed on the full evaluation set.\n",
      "\n",
      "              precision    recall  f1-score   support\n",
      "\n",
      "           0       0.97      0.96      0.96        90\n",
      "           1       0.99      1.00      0.99       167\n",
      "           2       0.17      0.11      0.13       130\n",
      "           3       1.00      1.00      1.00        34\n",
      "           4       0.83      1.00      0.91        15\n",
      "           5       0.90      0.93      0.91       121\n",
      "           6       0.19      0.18      0.19        99\n",
      "           7       0.93      0.92      0.93        61\n",
      "           8       0.99      0.91      0.95        93\n",
      "           9       0.93      0.92      0.92       100\n",
      "          10       0.92      0.92      0.92        79\n",
      "          11       0.88      0.73      0.80        49\n",
      "          12       0.85      0.88      0.86        96\n",
      "          13       1.00      0.97      0.98        58\n",
      "          14       0.98      0.93      0.95        67\n",
      "          15       0.95      0.97      0.96        86\n",
      "          16       0.82      0.91      0.87       159\n",
      "          17       0.97      0.96      0.97       155\n",
      "          18       0.91      0.90      0.91        81\n",
      "          19       1.00      0.96      0.98       134\n",
      "          20       0.98      0.88      0.93        52\n",
      "          21       0.20      0.21      0.20        94\n",
      "          22       0.89      0.62      0.73        13\n",
      "          23       1.00      0.96      0.98       101\n",
      "          24       0.90      0.99      0.94       282\n",
      "          25       0.80      0.87      0.83        75\n",
      "          26       1.00      0.97      0.99       141\n",
      "          27       0.93      0.76      0.84        17\n",
      "          28       0.89      0.86      0.87       128\n",
      "          29       0.97      0.92      0.95        38\n",
      "          30       1.00      1.00      1.00         5\n",
      "          31       0.95      0.95      0.95        61\n",
      "          32       0.95      0.95      0.95        78\n",
      "          33       0.95      0.93      0.94       158\n",
      "          34       0.85      0.92      0.88        25\n",
      "          35       0.23      0.35      0.27       101\n",
      "          36       1.00      0.76      0.86        49\n",
      "          37       0.92      0.84      0.88        82\n",
      "          38       0.91      0.97      0.94       128\n",
      "\n",
      "    accuracy                           0.84      3502\n",
      "   macro avg       0.86      0.84      0.85      3502\n",
      "weighted avg       0.84      0.84      0.84      3502\n",
      "\n",
      "\n"
     ]
    }
   ],
   "source": [
    "tuned_parameters = [{'kernel': ['rbf'], 'gamma': [1e-3, 1e-4],\n",
    "                     'C': [1, 10, 100, 1000]},\n",
    "                    {'kernel': ['linear'], 'C': [1, 10, 100, 1000]}]\n",
    "\n",
    "scores = ['precision', 'recall']\n",
    "\n",
    "for score in scores:\n",
    "    print(\"# Tuning hyper-parameters for %s\" % score)\n",
    "    print()\n",
    "\n",
    "    clf = GridSearchCV(\n",
    "        SVC(), tuned_parameters, scoring='%s_macro' % score\n",
    "    )\n",
    "    clf.fit(x_traint, y_traint)\n",
    "\n",
    "    print(\"Best parameters set found on development set:\")\n",
    "    print()\n",
    "    print(clf.best_params_)\n",
    "    print()\n",
    "    print(\"Grid scores on development set:\")\n",
    "    print()\n",
    "    means = clf.cv_results_['mean_test_score']\n",
    "    stds = clf.cv_results_['std_test_score']\n",
    "    for mean, std, params in zip(means, stds, clf.cv_results_['params']):\n",
    "        print(\"%0.3f (+/-%0.03f) for %r\"\n",
    "              % (mean, std * 2, params))\n",
    "    print()\n",
    "\n",
    "    print(\"Detailed classification report:\")\n",
    "    print()\n",
    "    print(\"The model is trained on the full development set.\")\n",
    "    print(\"The scores are computed on the full evaluation set.\")\n",
    "    print()\n",
    "    y_truet, y_predt = y_testt, clf.predict(x_testt)\n",
    "    print(classification_report(y_truet, y_predt))\n",
    "    print()"
   ],
   "metadata": {
    "collapsed": false,
    "pycharm": {
     "name": "#%%\n"
    }
   }
  },
  {
   "cell_type": "code",
   "execution_count": 29,
   "outputs": [
    {
     "name": "stdout",
     "output_type": "stream",
     "text": [
      "                             precision    recall  f1-score   support\n",
      "\n",
      "       Fresh Foods & Bakery       0.79      0.67      0.73       456\n",
      "         Beer, Cider & Wine       1.00      0.97      0.98       301\n",
      "                     Pantry       0.86      0.92      0.89      1191\n",
      "                     Drinks       0.65      0.66      0.66       249\n",
      "Kitchen, Dining & Household       0.98      0.95      0.96       263\n",
      "       Baby, Toddler & Kids       1.00      0.89      0.94        93\n",
      "              Personal Care       0.97      0.96      0.96       440\n",
      "                       Pets       1.00      0.99      0.99       141\n",
      " Chilled, Frozen & Desserts       0.68      0.69      0.68       368\n",
      "\n",
      "                   accuracy                           0.86      3502\n",
      "                  macro avg       0.88      0.86      0.87      3502\n",
      "               weighted avg       0.86      0.86      0.86      3502\n",
      "\n"
     ]
    }
   ],
   "source": [
    "model = OneVsRestClassifier(SVC())\n",
    "model.fit(x_traino, y_traino)\n",
    "svm_predict_labelso = model.predict(x_testo)\n",
    "print(\n",
    "    classification_report(y_testo, svm_predict_labelso, target_names=[id2labelone[i] for i in range(len(id2labelone))]))"
   ],
   "metadata": {
    "collapsed": false,
    "pycharm": {
     "name": "#%%\n"
    }
   }
  },
  {
   "cell_type": "code",
   "execution_count": 30,
   "outputs": [
    {
     "data": {
      "text/plain": "<Figure size 432x288 with 1 Axes>",
      "image/png": "[encoded data removed]"
     },
     "metadata": {
      "needs_background": "light"
     },
     "output_type": "display_data"
    }
   ],
   "source": [
    "train_sizes, train_score, test_score = learning_curve(SVC(), features, one, train_sizes=[0.1, 0.2, 0.4, 0.6, 0.8, 1],\n",
    "                                                      cv=5, scoring='accuracy')\n",
    "train_error = 1 - np.mean(train_score, axis=1)\n",
    "test_error = 1 - np.mean(test_score, axis=1)\n",
    "plot.plot(train_sizes, train_error, 'o-', color='r', label='training')\n",
    "plot.plot(train_sizes, test_error, 'o-', color='g', label='testing')\n",
    "plot.legend(loc='best')\n",
    "plot.xlabel('traing examples')\n",
    "plot.ylabel('error')\n",
    "plot.show()"
   ],
   "metadata": {
    "collapsed": false,
    "pycharm": {
     "name": "#%%\n"
    }
   }
  },
  {
   "cell_type": "code",
   "execution_count": 31,
   "outputs": [
    {
     "name": "stdout",
     "output_type": "stream",
     "text": [
      "# Tuning hyper-parameters for precision\n",
      "\n",
      "Best parameters set found on development set:\n",
      "\n",
      "{'C': 100, 'gamma': 0.001, 'kernel': 'rbf'}\n",
      "\n",
      "Grid scores on development set:\n",
      "\n",
      "0.038 (+/-0.000) for {'C': 1, 'gamma': 0.001, 'kernel': 'rbf'}\n",
      "0.038 (+/-0.000) for {'C': 1, 'gamma': 0.0001, 'kernel': 'rbf'}\n",
      "0.060 (+/-0.089) for {'C': 10, 'gamma': 0.001, 'kernel': 'rbf'}\n",
      "0.038 (+/-0.000) for {'C': 10, 'gamma': 0.0001, 'kernel': 'rbf'}\n",
      "0.896 (+/-0.009) for {'C': 100, 'gamma': 0.001, 'kernel': 'rbf'}\n",
      "0.060 (+/-0.089) for {'C': 100, 'gamma': 0.0001, 'kernel': 'rbf'}\n",
      "0.886 (+/-0.009) for {'C': 1000, 'gamma': 0.001, 'kernel': 'rbf'}\n",
      "0.896 (+/-0.009) for {'C': 1000, 'gamma': 0.0001, 'kernel': 'rbf'}\n",
      "0.889 (+/-0.010) for {'C': 1, 'kernel': 'linear'}\n",
      "0.874 (+/-0.013) for {'C': 10, 'kernel': 'linear'}\n",
      "0.865 (+/-0.011) for {'C': 100, 'kernel': 'linear'}\n",
      "0.859 (+/-0.012) for {'C': 1000, 'kernel': 'linear'}\n",
      "\n",
      "Detailed classification report:\n",
      "\n",
      "The model is trained on the full development set.\n",
      "The scores are computed on the full evaluation set.\n",
      "\n",
      "              precision    recall  f1-score   support\n",
      "\n",
      "           0       0.84      0.57      0.68       456\n",
      "           1       0.99      0.90      0.94       301\n",
      "           2       0.70      0.98      0.82      1191\n",
      "           3       0.94      0.53      0.68       249\n",
      "           4       0.98      0.79      0.87       263\n",
      "           5       0.99      0.77      0.87        93\n",
      "           6       0.97      0.85      0.90       440\n",
      "           7       1.00      0.92      0.96       141\n",
      "           8       0.68      0.57      0.62       368\n",
      "\n",
      "    accuracy                           0.81      3502\n",
      "   macro avg       0.90      0.76      0.81      3502\n",
      "weighted avg       0.83      0.81      0.80      3502\n",
      "\n",
      "\n",
      "# Tuning hyper-parameters for recall\n",
      "\n",
      "Best parameters set found on development set:\n",
      "\n",
      "{'C': 1000, 'gamma': 0.001, 'kernel': 'rbf'}\n",
      "\n",
      "Grid scores on development set:\n",
      "\n",
      "0.111 (+/-0.000) for {'C': 1, 'gamma': 0.001, 'kernel': 'rbf'}\n",
      "0.111 (+/-0.000) for {'C': 1, 'gamma': 0.0001, 'kernel': 'rbf'}\n",
      "0.111 (+/-0.001) for {'C': 10, 'gamma': 0.001, 'kernel': 'rbf'}\n",
      "0.111 (+/-0.000) for {'C': 10, 'gamma': 0.0001, 'kernel': 'rbf'}\n",
      "0.750 (+/-0.025) for {'C': 100, 'gamma': 0.001, 'kernel': 'rbf'}\n",
      "0.111 (+/-0.001) for {'C': 100, 'gamma': 0.0001, 'kernel': 'rbf'}\n",
      "0.865 (+/-0.022) for {'C': 1000, 'gamma': 0.001, 'kernel': 'rbf'}\n",
      "0.750 (+/-0.025) for {'C': 1000, 'gamma': 0.0001, 'kernel': 'rbf'}\n",
      "0.857 (+/-0.024) for {'C': 1, 'kernel': 'linear'}\n",
      "0.856 (+/-0.016) for {'C': 10, 'kernel': 'linear'}\n",
      "0.847 (+/-0.016) for {'C': 100, 'kernel': 'linear'}\n",
      "0.841 (+/-0.016) for {'C': 1000, 'kernel': 'linear'}\n",
      "\n",
      "Detailed classification report:\n",
      "\n",
      "The model is trained on the full development set.\n",
      "The scores are computed on the full evaluation set.\n",
      "\n",
      "              precision    recall  f1-score   support\n",
      "\n",
      "           0       0.79      0.69      0.74       456\n",
      "           1       1.00      0.96      0.98       301\n",
      "           2       0.87      0.92      0.89      1191\n",
      "           3       0.68      0.67      0.68       249\n",
      "           4       0.98      0.95      0.97       263\n",
      "           5       1.00      0.91      0.96        93\n",
      "           6       0.98      0.97      0.98       440\n",
      "           7       1.00      0.96      0.98       141\n",
      "           8       0.67      0.72      0.70       368\n",
      "\n",
      "    accuracy                           0.87      3502\n",
      "   macro avg       0.89      0.86      0.87      3502\n",
      "weighted avg       0.87      0.87      0.87      3502\n",
      "\n",
      "\n"
     ]
    }
   ],
   "source": [
    "tuned_parameters = [{'kernel': ['rbf'], 'gamma': [1e-3, 1e-4],\n",
    "                     'C': [1, 10, 100, 1000]},\n",
    "                    {'kernel': ['linear'], 'C': [1, 10, 100, 1000]}]\n",
    "\n",
    "scores = ['precision', 'recall']\n",
    "\n",
    "for score in scores:\n",
    "    print(\"# Tuning hyper-parameters for %s\" % score)\n",
    "    print()\n",
    "\n",
    "    clf = GridSearchCV(\n",
    "        SVC(), tuned_parameters, scoring='%s_macro' % score\n",
    "    )\n",
    "    clf.fit(x_traino, y_traino)\n",
    "\n",
    "    print(\"Best parameters set found on development set:\")\n",
    "    print()\n",
    "    print(clf.best_params_)\n",
    "    print()\n",
    "    print(\"Grid scores on development set:\")\n",
    "    print()\n",
    "    means = clf.cv_results_['mean_test_score']\n",
    "    stds = clf.cv_results_['std_test_score']\n",
    "    for mean, std, params in zip(means, stds, clf.cv_results_['params']):\n",
    "        print(\"%0.3f (+/-%0.03f) for %r\"\n",
    "              % (mean, std * 2, params))\n",
    "    print()\n",
    "\n",
    "    print(\"Detailed classification report:\")\n",
    "    print()\n",
    "    print(\"The model is trained on the full development set.\")\n",
    "    print(\"The scores are computed on the full evaluation set.\")\n",
    "    print()\n",
    "    y_trueo, y_predo = y_testo, clf.predict(x_testo)\n",
    "    print(classification_report(y_trueo, y_predo))\n",
    "    print()"
   ],
   "metadata": {
    "collapsed": false,
    "pycharm": {
     "name": "#%%\n"
    }
   }
  },
  {
   "cell_type": "code",
   "execution_count": 32,
   "outputs": [],
   "source": [
    "def lgb_model(x_train, x_test, y_train, y_test, verbose, id2label, num):\n",
    "    params = {'num_leaves': 60,\n",
    "    'min_data_in_leaf': 30,\n",
    "    'objective': 'multiclass',\n",
    "    'num_class': num,\n",
    "    'max_depth': 7,\n",
    "    'learning_rate': 0.03,\n",
    "    \"min_sum_hessian_in_leaf\": 6,\n",
    "    \"boosting\": \"gbdt\",\n",
    "    \"feature_fraction\": 0.9,\n",
    "    \"bagging_freq\": 1,\n",
    "    \"bagging_fraction\": 0.8,\n",
    "    \"bagging_seed\": 11,\n",
    "    \"lambda_l1\": 0.1,\n",
    "    \"verbosity\": -1,\n",
    "    \"nthread\": 15,\n",
    "    'metric': 'multi_error',\n",
    "    \"random_state\": 2020\n",
    "          }\n",
    "\n",
    "    evals_result = {}\n",
    "    lgb_train = lightgbm.Dataset(x_train, y_train)\n",
    "    lgb_test = lightgbm.Dataset(x_test, y_test, reference=lgb_train)\n",
    "    model = lightgbm.train(params\n",
    "                      , lgb_train\n",
    "                      , num_boost_round = 100000\n",
    "                      , valid_sets = [lgb_train, lgb_test]\n",
    "                      , verbose_eval = verbose\n",
    "                      , early_stopping_rounds = 500\n",
    "                      , evals_result=evals_result\n",
    "                     )\n",
    "\n",
    "    print('Predicting...')\n",
    "    y_prob = model.predict(x_test, num_iteration=model.best_iteration)\n",
    "    lgb_predict_labels = [list(x).index(max(x)) for x in y_prob]\n",
    "    print(\"AUC score: {:<8.5f}\".format(metrics.accuracy_score(lgb_predict_labels, y_test)))\n",
    "    report = metrics.classification_report(y_test, lgb_predict_labels, target_names=[id2label[i] for i in range(len(id2label))])\n",
    "    print(report)\n",
    "    return model, evals_result"
   ],
   "metadata": {
    "collapsed": false,
    "pycharm": {
     "name": "#%%\n"
    }
   }
  },
  {
   "cell_type": "code",
   "execution_count": 33,
   "outputs": [
    {
     "name": "stdout",
     "output_type": "stream",
     "text": [
      "Predicting...\n",
      "AUC score: 0.35123 \n",
      "                                                        precision    recall  f1-score   support\n",
      "\n",
      "                           Fresh Foods & Bakery;Bakery       0.20      0.03      0.06        90\n",
      "                               Beer, Cider & Wine;Wine       0.86      0.53      0.66       167\n",
      "                     Fresh Foods & Bakery;Dairy & Eggs       0.19      0.12      0.14       130\n",
      "               Fresh Foods & Bakery;Bulk & Loose Foods       0.00      0.00      0.00        34\n",
      "                          Fresh Foods & Bakery;Seafood       0.00      0.00      0.00        15\n",
      "                                    Pantry;Snack Foods       0.41      0.50      0.45       121\n",
      "                                     Pantry;Hot Drinks       0.18      0.17      0.17        99\n",
      "                   Chilled, Frozen & Desserts;Desserts       0.00      0.00      0.00        61\n",
      "                        Baby, Toddler & Kids;Baby Care       0.85      0.48      0.62        93\n",
      "                      Pantry;Sauces, Stock & Marinades       0.44      0.50      0.47       100\n",
      "                            Pantry;Spices & Seasonings       0.86      0.46      0.60        79\n",
      "                                    Pantry;World Foods       0.00      0.00      0.00        49\n",
      "                        Pantry;Baking Supplies & Sugar       0.25      0.29      0.27        96\n",
      "                              Pantry;Breakfast Cereals       0.00      0.00      0.00        58\n",
      "         Kitchen, Dining & Household;Cleaning Products       0.29      0.07      0.12        67\n",
      "                            Pantry;Biscuits & Crackers       0.82      0.67      0.74        86\n",
      "                        Pantry;Canned & Prepared Foods       0.53      0.51      0.52       159\n",
      "                                    Drinks;Cold Drinks       0.68      0.77      0.72       155\n",
      "      Fresh Foods & Bakery;Deli, Salads & Cooked Meats       0.00      0.00      0.00        81\n",
      "                       Beer, Cider & Wine;Beer & Cider       0.76      0.23      0.35       134\n",
      "                         Fresh Foods & Bakery;Butchery       0.00      0.00      0.00        52\n",
      "                                     Drinks;Hot Drinks       0.17      0.17      0.17        94\n",
      "          Kitchen, Dining & Household;Garage & Outdoor       0.00      0.00      0.00        13\n",
      "                                  Pantry;Confectionery       0.70      0.46      0.55       101\n",
      "                       Personal Care;Beauty & Grooming       0.67      0.76      0.72       282\n",
      "                         Pantry;Condiments & Dressings       0.00      0.00      0.00        75\n",
      "                                     Pets;Pet Supplies       0.95      0.66      0.78       141\n",
      "Kitchen, Dining & Household;Stationery & Entertainment       0.00      0.00      0.00        17\n",
      "               Chilled, Frozen & Desserts;Frozen Foods       0.33      0.11      0.16       128\n",
      "                   Kitchen, Dining & Household;Laundry       0.00      0.00      0.00        38\n",
      "                        Fresh Foods & Bakery;Meal Kits       0.00      0.00      0.00         5\n",
      "                          Pantry;Jams, Honey & Spreads       0.03      0.52      0.05        61\n",
      "                     Chilled, Frozen & Desserts;Cheese       0.70      0.82      0.76        78\n",
      "                       Personal Care;Health & Wellness       0.57      0.27      0.36       158\n",
      "                           Pantry;Salad & Cooking Oils       0.00      0.00      0.00        25\n",
      "               Chilled, Frozen & Desserts;Dairy & Eggs       0.17      0.23      0.20       101\n",
      "               Fresh Foods & Bakery;Fruit & Vegetables       0.00      0.00      0.00        49\n",
      "                          Pantry;Pasta, Rice & Noodles       0.50      0.26      0.34        82\n",
      "                 Kitchen, Dining & Household;Household       0.35      0.20      0.26       128\n",
      "\n",
      "                                              accuracy                           0.35      3502\n",
      "                                             macro avg       0.32      0.25      0.26      3502\n",
      "                                          weighted avg       0.44      0.35      0.37      3502\n",
      "\n"
     ]
    }
   ],
   "source": [
    "modelt, evals_resultt = lgb_model(x_traint, x_testt, y_traint, y_testt, verbose=False, id2label=id2labeltwo, num=len(id2labeltwo))"
   ],
   "metadata": {
    "collapsed": false,
    "pycharm": {
     "name": "#%%\n"
    }
   }
  },
  {
   "cell_type": "code",
   "execution_count": 34,
   "outputs": [
    {
     "data": {
      "text/plain": "<AxesSubplot:title={'center':'Metric during training'}, xlabel='Iterations', ylabel='multi_error'>"
     },
     "execution_count": 34,
     "metadata": {},
     "output_type": "execute_result"
    },
    {
     "data": {
      "text/plain": "<Figure size 432x288 with 1 Axes>",
      "image/png": "[encoded data removed]"
     },
     "metadata": {
      "needs_background": "light"
     },
     "output_type": "display_data"
    }
   ],
   "source": [
    "lightgbm.plot_metric(evals_resultt)"
   ],
   "metadata": {
    "collapsed": false,
    "pycharm": {
     "name": "#%%\n"
    }
   }
  },
  {
   "cell_type": "code",
   "execution_count": 35,
   "outputs": [
    {
     "name": "stdout",
     "output_type": "stream",
     "text": [
      "Predicting...\n",
      "AUC score: 0.70417 \n",
      "                             precision    recall  f1-score   support\n",
      "\n",
      "       Fresh Foods & Bakery       0.67      0.52      0.58       456\n",
      "         Beer, Cider & Wine       0.96      0.78      0.86       301\n",
      "                     Pantry       0.65      0.87      0.74      1191\n",
      "                     Drinks       0.63      0.65      0.64       249\n",
      "Kitchen, Dining & Household       0.75      0.58      0.66       263\n",
      "       Baby, Toddler & Kids       0.91      0.72      0.80        93\n",
      "              Personal Care       0.87      0.72      0.78       440\n",
      "                       Pets       0.99      0.67      0.80       141\n",
      " Chilled, Frozen & Desserts       0.53      0.45      0.48       368\n",
      "\n",
      "                   accuracy                           0.70      3502\n",
      "                  macro avg       0.77      0.66      0.71      3502\n",
      "               weighted avg       0.72      0.70      0.70      3502\n",
      "\n"
     ]
    }
   ],
   "source": [
    "modelo, evals_resulto = lgb_model(x_traino, x_testo, y_traino, y_testo, verbose=False, id2label=id2labelone, num=len(id2labelone))"
   ],
   "metadata": {
    "collapsed": false,
    "pycharm": {
     "name": "#%%\n"
    }
   }
  },
  {
   "cell_type": "code",
   "execution_count": 36,
   "outputs": [
    {
     "data": {
      "text/plain": "<AxesSubplot:title={'center':'Metric during training'}, xlabel='Iterations', ylabel='multi_error'>"
     },
     "execution_count": 36,
     "metadata": {},
     "output_type": "execute_result"
    },
    {
     "data": {
      "text/plain": "<Figure size 432x288 with 1 Axes>",
      "image/png": "[encoded data removed]"
     },
     "metadata": {
      "needs_background": "light"
     },
     "output_type": "display_data"
    }
   ],
   "source": [
    "lightgbm.plot_metric(evals_resulto)"
   ],
   "metadata": {
    "collapsed": false,
    "pycharm": {
     "name": "#%%\n"
    }
   }
  },
  {
   "cell_type": "code",
   "execution_count": 37,
   "outputs": [],
   "source": [
    "# def load_embeddings():\n",
    "#     cache = '.vector_cache'\n",
    "#     if not os.path.exists(cache):\n",
    "#         os.mkdir(cache)\n",
    "#     word2vec = vocab.Vectors(name=r'./word2vec_300dim.txt', cache=cache)\n",
    "#     return word2vec\n",
    "#\n",
    "#\n",
    "# def encode_text_to_features(vector, text):\n",
    "#     vectors = vector.get_vecs_by_tokens(text.split())\n",
    "#     sentence_vector = torch.mean(vectors, dim=0)\n",
    "#     return sentence_vector.tolist()\n",
    "#\n",
    "#\n",
    "# sentences = []\n",
    "# map(remove_stopwords, texts)\n",
    "# for i in range(len(texts)):\n",
    "#     sentence = texts[i].split()\n",
    "#     sentence.append(levela[i])\n",
    "#     sentence.append(levelb[i])\n",
    "#     sentences.append(sentence)\n",
    "# w2v = Word2Vec(sentences=sentences, vector_size=300, window=5, min_count=1)\n",
    "# w2v.wv.save_word2vec_format(r'./word2vec_300dim.txt', binary=False)\n",
    "# vector = load_embeddings()\n",
    "# features = [encode_text_to_features(vector, text) for text in texts]"
   ],
   "metadata": {
    "collapsed": false,
    "pycharm": {
     "name": "#%%\n"
    }
   }
  },
  {
   "cell_type": "code",
   "execution_count": 38,
   "outputs": [],
   "source": [
    "# x_traint, x_testt, y_traint, y_testt = train_test_split(features, two, test_size=0.25, random_state=3)\n",
    "# x_traino, x_testo, y_traino, y_testo = train_test_split(features, one, test_size=0.25, random_state=3)"
   ],
   "metadata": {
    "collapsed": false,
    "pycharm": {
     "name": "#%%\n"
    }
   }
  },
  {
   "cell_type": "code",
   "execution_count": 39,
   "outputs": [],
   "source": [
    "# model = LogisticRegression(max_iter=500)\n",
    "# model.fit(x_traint, y_traint)\n",
    "# predict_labelst = model.predict(x_testt)\n",
    "# predict_labelst = [np.round(p) for p in predict_labelst]\n",
    "# max_labelt = len(id2labeltwo) - 1\n",
    "# predict_labelst = [l if max_labelt >= l else max_labelt for l in predict_labelst]\n",
    "# min_label = 0\n",
    "# predict_labelst = [l if min_label <= l else min_label for l in predict_labelst]\n",
    "# print(classification_report(y_testt, predict_labelst, target_names=[id2labeltwo[i] for i in range(len(id2labeltwo))]))"
   ],
   "metadata": {
    "collapsed": false,
    "pycharm": {
     "name": "#%%\n"
    }
   }
  },
  {
   "cell_type": "code",
   "execution_count": 40,
   "outputs": [],
   "source": [
    "# model = LogisticRegression(max_iter=500)\n",
    "# model.fit(x_traino, y_traino)\n",
    "# predict_labelso = model.predict(x_testo)\n",
    "# predict_labelso = [np.round(p) for p in predict_labelso]\n",
    "# max_labelo = len(id2labelone) - 1\n",
    "# predict_labelso = [l if max_labelo >= l else max_labelo for l in predict_labelso]\n",
    "# min_label = 0\n",
    "# predict_labelst = [l if min_label <= l else min_label for l in predict_labelso]\n",
    "# print(classification_report(y_testo, predict_labelso, target_names=[id2labelone[i] for i in range(len(id2labelone))]))\n"
   ],
   "metadata": {
    "collapsed": false,
    "pycharm": {
     "name": "#%%\n"
    }
   }
  }
 ],
 "metadata": {
  "kernelspec": {
   "display_name": "Python 3",
   "language": "python",
   "name": "python3"
  },
  "language_info": {
   "codemirror_mode": {
    "name": "ipython",
    "version": 2
   },
   "file_extension": ".py",
   "mimetype": "text/x-python",
   "name": "python",
   "nbconvert_exporter": "python",
   "pygments_lexer": "ipython2",
   "version": "2.7.6"
  }
 },
 "nbformat": 4,
 "nbformat_minor": 0
}