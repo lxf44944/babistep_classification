{
 "cells": [
  {
   "cell_type": "code",
   "execution_count": 27,
   "metadata": {
    "collapsed": true
   },
   "outputs": [
    {
     "data": {
      "text/plain": "   Unnamed: 0         ProductId  \\\n0           0  5000961-EA-000NW   \n1           1  5000962-EA-000NW   \n2           2  5000963-EA-000NW   \n3           3  5000965-EA-000NW   \n4           4  5000966-EA-000NW   \n\n                                        ProductName                Branch  \\\n0                             Johnson's Baby Lotion  New World Mt Roskill   \n1                                Johnson's Baby Oil  New World Mt Roskill   \n2  SMA Balanced Nutrition From Birth Infant Formula  New World Mt Roskill   \n3                             Johnson's Baby Powder  New World Mt Roskill   \n4                             Johnson's Baby Powder  New World Mt Roskill   \n\n                level_1    level_2                      level_3  PricePerItem  \\\n0  Baby, Toddler & Kids  Baby Care     Baby Bathing & Skin Care          4.89   \n1  Baby, Toddler & Kids  Baby Care     Baby Bathing & Skin Care          4.89   \n2  Baby, Toddler & Kids  Baby Care  Baby Formula & Toddler Food         17.99   \n3  Baby, Toddler & Kids  Baby Care           Nappies & Changing          2.99   \n4  Baby, Toddler & Kids  Baby Care           Nappies & Changing          4.89   \n\n  PriceMode  HasMultiBuyDeal MultiBuyDeal  MultiBuyBasePrice  MultiBuyPrice  \\\n0        ea            False          NaN               4.89            NaN   \n1        ea            False          NaN               4.89            NaN   \n2        ea            False          NaN              17.99          17.99   \n3        ea            False          NaN               2.99           2.99   \n4        ea            False          NaN               4.89            NaN   \n\n   MultiBuyQuantity PromoBadgeImageLabel  \n0               NaN                  NaN  \n1               NaN                  NaN  \n2               1.0                Saver  \n3               1.0                Saver  \n4               NaN                  NaN  ",
      "text/html": "<div>\n<style scoped>\n    .dataframe tbody tr th:only-of-type {\n        vertical-align: middle;\n    }\n\n    .dataframe tbody tr th {\n        vertical-align: top;\n    }\n\n    .dataframe thead th {\n        text-align: right;\n    }\n</style>\n<table border=\"1\" class=\"dataframe\">\n  <thead>\n    <tr style=\"text-align: right;\">\n      <th></th>\n      <th>Unnamed: 0</th>\n      <th>ProductId</th>\n      <th>ProductName</th>\n      <th>Branch</th>\n      <th>level_1</th>\n      <th>level_2</th>\n      <th>level_3</th>\n      <th>PricePerItem</th>\n      <th>PriceMode</th>\n      <th>HasMultiBuyDeal</th>\n      <th>MultiBuyDeal</th>\n      <th>MultiBuyBasePrice</th>\n      <th>MultiBuyPrice</th>\n      <th>MultiBuyQuantity</th>\n      <th>PromoBadgeImageLabel</th>\n    </tr>\n  </thead>\n  <tbody>\n    <tr>\n      <th>0</th>\n      <td>0</td>\n      <td>5000961-EA-000NW</td>\n      <td>Johnson's Baby Lotion</td>\n      <td>New World Mt Roskill</td>\n      <td>Baby, Toddler &amp; Kids</td>\n      <td>Baby Care</td>\n      <td>Baby Bathing &amp; Skin Care</td>\n      <td>4.89</td>\n      <td>ea</td>\n      <td>False</td>\n      <td>NaN</td>\n      <td>4.89</td>\n      <td>NaN</td>\n      <td>NaN</td>\n      <td>NaN</td>\n    </tr>\n    <tr>\n      <th>1</th>\n      <td>1</td>\n      <td>5000962-EA-000NW</td>\n      <td>Johnson's Baby Oil</td>\n      <td>New World Mt Roskill</td>\n      <td>Baby, Toddler &amp; Kids</td>\n      <td>Baby Care</td>\n      <td>Baby Bathing &amp; Skin Care</td>\n      <td>4.89</td>\n      <td>ea</td>\n      <td>False</td>\n      <td>NaN</td>\n      <td>4.89</td>\n      <td>NaN</td>\n      <td>NaN</td>\n      <td>NaN</td>\n    </tr>\n    <tr>\n      <th>2</th>\n      <td>2</td>\n      <td>5000963-EA-000NW</td>\n      <td>SMA Balanced Nutrition From Birth Infant Formula</td>\n      <td>New World Mt Roskill</td>\n      <td>Baby, Toddler &amp; Kids</td>\n      <td>Baby Care</td>\n      <td>Baby Formula &amp; Toddler Food</td>\n      <td>17.99</td>\n      <td>ea</td>\n      <td>False</td>\n      <td>NaN</td>\n      <td>17.99</td>\n      <td>17.99</td>\n      <td>1.0</td>\n      <td>Saver</td>\n    </tr>\n    <tr>\n      <th>3</th>\n      <td>3</td>\n      <td>5000965-EA-000NW</td>\n      <td>Johnson's Baby Powder</td>\n      <td>New World Mt Roskill</td>\n      <td>Baby, Toddler &amp; Kids</td>\n      <td>Baby Care</td>\n      <td>Nappies &amp; Changing</td>\n      <td>2.99</td>\n      <td>ea</td>\n      <td>False</td>\n      <td>NaN</td>\n      <td>2.99</td>\n      <td>2.99</td>\n      <td>1.0</td>\n      <td>Saver</td>\n    </tr>\n    <tr>\n      <th>4</th>\n      <td>4</td>\n      <td>5000966-EA-000NW</td>\n      <td>Johnson's Baby Powder</td>\n      <td>New World Mt Roskill</td>\n      <td>Baby, Toddler &amp; Kids</td>\n      <td>Baby Care</td>\n      <td>Nappies &amp; Changing</td>\n      <td>4.89</td>\n      <td>ea</td>\n      <td>False</td>\n      <td>NaN</td>\n      <td>4.89</td>\n      <td>NaN</td>\n      <td>NaN</td>\n      <td>NaN</td>\n    </tr>\n  </tbody>\n</table>\n</div>"
     },
     "execution_count": 27,
     "metadata": {},
     "output_type": "execute_result"
    }
   ],
   "source": [
    "import pandas as pd\n",
    "\n",
    "df = pd.read_csv(\"data.csv\")\n",
    "df.head(5)"
   ]
  },
  {
   "cell_type": "code",
   "execution_count": 28,
   "outputs": [
    {
     "data": {
      "text/plain": "          ProductId                                       ProductName  \\\n0  5000961-EA-000NW                             Johnson's Baby Lotion   \n1  5000962-EA-000NW                                Johnson's Baby Oil   \n2  5000963-EA-000NW  SMA Balanced Nutrition From Birth Infant Formula   \n3  5000965-EA-000NW                             Johnson's Baby Powder   \n4  5000966-EA-000NW                             Johnson's Baby Powder   \n\n                 Branch               level_1    level_2  \\\n0  New World Mt Roskill  Baby, Toddler & Kids  Baby Care   \n1  New World Mt Roskill  Baby, Toddler & Kids  Baby Care   \n2  New World Mt Roskill  Baby, Toddler & Kids  Baby Care   \n3  New World Mt Roskill  Baby, Toddler & Kids  Baby Care   \n4  New World Mt Roskill  Baby, Toddler & Kids  Baby Care   \n\n                       level_3  \n0     Baby Bathing & Skin Care  \n1     Baby Bathing & Skin Care  \n2  Baby Formula & Toddler Food  \n3           Nappies & Changing  \n4           Nappies & Changing  ",
      "text/html": "<div>\n<style scoped>\n    .dataframe tbody tr th:only-of-type {\n        vertical-align: middle;\n    }\n\n    .dataframe tbody tr th {\n        vertical-align: top;\n    }\n\n    .dataframe thead th {\n        text-align: right;\n    }\n</style>\n<table border=\"1\" class=\"dataframe\">\n  <thead>\n    <tr style=\"text-align: right;\">\n      <th></th>\n      <th>ProductId</th>\n      <th>ProductName</th>\n      <th>Branch</th>\n      <th>level_1</th>\n      <th>level_2</th>\n      <th>level_3</th>\n    </tr>\n  </thead>\n  <tbody>\n    <tr>\n      <th>0</th>\n      <td>5000961-EA-000NW</td>\n      <td>Johnson's Baby Lotion</td>\n      <td>New World Mt Roskill</td>\n      <td>Baby, Toddler &amp; Kids</td>\n      <td>Baby Care</td>\n      <td>Baby Bathing &amp; Skin Care</td>\n    </tr>\n    <tr>\n      <th>1</th>\n      <td>5000962-EA-000NW</td>\n      <td>Johnson's Baby Oil</td>\n      <td>New World Mt Roskill</td>\n      <td>Baby, Toddler &amp; Kids</td>\n      <td>Baby Care</td>\n      <td>Baby Bathing &amp; Skin Care</td>\n    </tr>\n    <tr>\n      <th>2</th>\n      <td>5000963-EA-000NW</td>\n      <td>SMA Balanced Nutrition From Birth Infant Formula</td>\n      <td>New World Mt Roskill</td>\n      <td>Baby, Toddler &amp; Kids</td>\n      <td>Baby Care</td>\n      <td>Baby Formula &amp; Toddler Food</td>\n    </tr>\n    <tr>\n      <th>3</th>\n      <td>5000965-EA-000NW</td>\n      <td>Johnson's Baby Powder</td>\n      <td>New World Mt Roskill</td>\n      <td>Baby, Toddler &amp; Kids</td>\n      <td>Baby Care</td>\n      <td>Nappies &amp; Changing</td>\n    </tr>\n    <tr>\n      <th>4</th>\n      <td>5000966-EA-000NW</td>\n      <td>Johnson's Baby Powder</td>\n      <td>New World Mt Roskill</td>\n      <td>Baby, Toddler &amp; Kids</td>\n      <td>Baby Care</td>\n      <td>Nappies &amp; Changing</td>\n    </tr>\n  </tbody>\n</table>\n</div>"
     },
     "execution_count": 28,
     "metadata": {},
     "output_type": "execute_result"
    }
   ],
   "source": [
    "columns = [\"ProductId\", \"ProductName\", \"Branch\", \"level_1\", \"level_2\", \"level_3\"]\n",
    "df = pd.read_csv(\"data.csv\", usecols=columns)\n",
    "df.head(5)"
   ],
   "metadata": {
    "collapsed": false,
    "pycharm": {
     "name": "#%%\n"
    }
   }
  },
  {
   "cell_type": "code",
   "execution_count": 29,
   "outputs": [
    {
     "data": {
      "text/plain": "          ProductId                                        ProductName  \\\n0  5000961-EA-000NW                           [johnsons, baby, lotion]   \n1  5000962-EA-000NW                              [johnsons, baby, oil]   \n2  5000963-EA-000NW  [sma, balanced, nutrition, from, birth, infant...   \n3  5000965-EA-000NW                           [johnsons, baby, powder]   \n4  5000966-EA-000NW                           [johnsons, baby, powder]   \n\n                 Branch               level_1    level_2  \\\n0  New World Mt Roskill  Baby, Toddler & Kids  Baby Care   \n1  New World Mt Roskill  Baby, Toddler & Kids  Baby Care   \n2  New World Mt Roskill  Baby, Toddler & Kids  Baby Care   \n3  New World Mt Roskill  Baby, Toddler & Kids  Baby Care   \n4  New World Mt Roskill  Baby, Toddler & Kids  Baby Care   \n\n                       level_3  \n0     Baby Bathing & Skin Care  \n1     Baby Bathing & Skin Care  \n2  Baby Formula & Toddler Food  \n3           Nappies & Changing  \n4           Nappies & Changing  ",
      "text/html": "<div>\n<style scoped>\n    .dataframe tbody tr th:only-of-type {\n        vertical-align: middle;\n    }\n\n    .dataframe tbody tr th {\n        vertical-align: top;\n    }\n\n    .dataframe thead th {\n        text-align: right;\n    }\n</style>\n<table border=\"1\" class=\"dataframe\">\n  <thead>\n    <tr style=\"text-align: right;\">\n      <th></th>\n      <th>ProductId</th>\n      <th>ProductName</th>\n      <th>Branch</th>\n      <th>level_1</th>\n      <th>level_2</th>\n      <th>level_3</th>\n    </tr>\n  </thead>\n  <tbody>\n    <tr>\n      <th>0</th>\n      <td>5000961-EA-000NW</td>\n      <td>[johnsons, baby, lotion]</td>\n      <td>New World Mt Roskill</td>\n      <td>Baby, Toddler &amp; Kids</td>\n      <td>Baby Care</td>\n      <td>Baby Bathing &amp; Skin Care</td>\n    </tr>\n    <tr>\n      <th>1</th>\n      <td>5000962-EA-000NW</td>\n      <td>[johnsons, baby, oil]</td>\n      <td>New World Mt Roskill</td>\n      <td>Baby, Toddler &amp; Kids</td>\n      <td>Baby Care</td>\n      <td>Baby Bathing &amp; Skin Care</td>\n    </tr>\n    <tr>\n      <th>2</th>\n      <td>5000963-EA-000NW</td>\n      <td>[sma, balanced, nutrition, from, birth, infant...</td>\n      <td>New World Mt Roskill</td>\n      <td>Baby, Toddler &amp; Kids</td>\n      <td>Baby Care</td>\n      <td>Baby Formula &amp; Toddler Food</td>\n    </tr>\n    <tr>\n      <th>3</th>\n      <td>5000965-EA-000NW</td>\n      <td>[johnsons, baby, powder]</td>\n      <td>New World Mt Roskill</td>\n      <td>Baby, Toddler &amp; Kids</td>\n      <td>Baby Care</td>\n      <td>Nappies &amp; Changing</td>\n    </tr>\n    <tr>\n      <th>4</th>\n      <td>5000966-EA-000NW</td>\n      <td>[johnsons, baby, powder]</td>\n      <td>New World Mt Roskill</td>\n      <td>Baby, Toddler &amp; Kids</td>\n      <td>Baby Care</td>\n      <td>Nappies &amp; Changing</td>\n    </tr>\n  </tbody>\n</table>\n</div>"
     },
     "execution_count": 29,
     "metadata": {},
     "output_type": "execute_result"
    }
   ],
   "source": [
    "import re\n",
    "\n",
    "punctuations = re.compile(r'[^a-zA-Z\\s]+')\n",
    "df[\"ProductName\"] = [punctuations.sub('', x).lower().split() for x in df[\"ProductName\"].tolist()]\n",
    "df.head(5)\n"
   ],
   "metadata": {
    "collapsed": false,
    "pycharm": {
     "name": "#%%\n"
    }
   }
  }
 ],
 "metadata": {
  "kernelspec": {
   "display_name": "Python 3",
   "language": "python",
   "name": "python3"
  },
  "language_info": {
   "codemirror_mode": {
    "name": "ipython",
    "version": 2
   },
   "file_extension": ".py",
   "mimetype": "text/x-python",
   "name": "python",
   "nbconvert_exporter": "python",
   "pygments_lexer": "ipython2",
   "version": "2.7.6"
  }
 },
 "nbformat": 4,
 "nbformat_minor": 0
}