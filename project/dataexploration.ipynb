{
 "cells": [
  {
   "cell_type": "code",
   "execution_count": 1,
   "metadata": {
    "collapsed": true
   },
   "outputs": [
    {
     "name": "stderr",
     "output_type": "stream",
     "text": [
      "d:\\python\\lib\\site-packages\\gensim\\similarities\\__init__.py:15: UserWarning: The gensim.similarities.levenshtein submodule is disabled, because the optional Levenshtein package <https://pypi.org/project/python-Levenshtein/> is unavailable. Install Levenhstein (e.g. `pip install python-Levenshtein`) to suppress this warning.\n",
      "  warnings.warn(msg)\n"
     ]
    }
   ],
   "source": [
    "import os\n",
    "import re\n",
    "import matplotlib.pyplot as plot\n",
    "import numpy as np\n",
    "import pandas as pd\n",
    "import torch\n",
    "import torchtext.vocab as vocab\n",
    "from sklearn.feature_extraction.text import TfidfVectorizer\n",
    "from sklearn.linear_model import LogisticRegression\n",
    "from sklearn.neighbors import KNeighborsClassifier\n",
    "from sklearn.model_selection import train_test_split\n",
    "from sklearn.model_selection import learning_curve\n",
    "from sklearn.metrics import classification_report\n",
    "from sklearn.model_selection import cross_val_score\n",
    "from gensim.models import Word2Vec\n",
    "from gensim.parsing.preprocessing import remove_stopwords"
   ]
  },
  {
   "cell_type": "code",
   "execution_count": 2,
   "outputs": [
    {
     "data": {
      "text/plain": "                                        ProductName               level_1  \\\n0                             Johnson's Baby Lotion  Baby, Toddler & Kids   \n1                                Johnson's Baby Oil  Baby, Toddler & Kids   \n2  SMA Balanced Nutrition From Birth Infant Formula  Baby, Toddler & Kids   \n3                             Johnson's Baby Powder  Baby, Toddler & Kids   \n4                             Johnson's Baby Powder  Baby, Toddler & Kids   \n\n     level_2                      level_3  PricePerItem PriceMode  \\\n0  Baby Care     Baby Bathing & Skin Care          4.89        ea   \n1  Baby Care     Baby Bathing & Skin Care          4.89        ea   \n2  Baby Care  Baby Formula & Toddler Food         17.99        ea   \n3  Baby Care           Nappies & Changing          2.99        ea   \n4  Baby Care           Nappies & Changing          4.89        ea   \n\n   HasMultiBuyDeal MultiBuyDeal  MultiBuyBasePrice  MultiBuyPrice  \\\n0            False          NaN               4.89            NaN   \n1            False          NaN               4.89            NaN   \n2            False          NaN              17.99          17.99   \n3            False          NaN               2.99           2.99   \n4            False          NaN               4.89            NaN   \n\n   MultiBuyQuantity PromoBadgeImageLabel  \n0               NaN                  NaN  \n1               NaN                  NaN  \n2               1.0                Saver  \n3               1.0                Saver  \n4               NaN                  NaN  ",
      "text/html": "<div>\n<style scoped>\n    .dataframe tbody tr th:only-of-type {\n        vertical-align: middle;\n    }\n\n    .dataframe tbody tr th {\n        vertical-align: top;\n    }\n\n    .dataframe thead th {\n        text-align: right;\n    }\n</style>\n<table border=\"1\" class=\"dataframe\">\n  <thead>\n    <tr style=\"text-align: right;\">\n      <th></th>\n      <th>ProductName</th>\n      <th>level_1</th>\n      <th>level_2</th>\n      <th>level_3</th>\n      <th>PricePerItem</th>\n      <th>PriceMode</th>\n      <th>HasMultiBuyDeal</th>\n      <th>MultiBuyDeal</th>\n      <th>MultiBuyBasePrice</th>\n      <th>MultiBuyPrice</th>\n      <th>MultiBuyQuantity</th>\n      <th>PromoBadgeImageLabel</th>\n    </tr>\n  </thead>\n  <tbody>\n    <tr>\n      <th>0</th>\n      <td>Johnson's Baby Lotion</td>\n      <td>Baby, Toddler &amp; Kids</td>\n      <td>Baby Care</td>\n      <td>Baby Bathing &amp; Skin Care</td>\n      <td>4.89</td>\n      <td>ea</td>\n      <td>False</td>\n      <td>NaN</td>\n      <td>4.89</td>\n      <td>NaN</td>\n      <td>NaN</td>\n      <td>NaN</td>\n    </tr>\n    <tr>\n      <th>1</th>\n      <td>Johnson's Baby Oil</td>\n      <td>Baby, Toddler &amp; Kids</td>\n      <td>Baby Care</td>\n      <td>Baby Bathing &amp; Skin Care</td>\n      <td>4.89</td>\n      <td>ea</td>\n      <td>False</td>\n      <td>NaN</td>\n      <td>4.89</td>\n      <td>NaN</td>\n      <td>NaN</td>\n      <td>NaN</td>\n    </tr>\n    <tr>\n      <th>2</th>\n      <td>SMA Balanced Nutrition From Birth Infant Formula</td>\n      <td>Baby, Toddler &amp; Kids</td>\n      <td>Baby Care</td>\n      <td>Baby Formula &amp; Toddler Food</td>\n      <td>17.99</td>\n      <td>ea</td>\n      <td>False</td>\n      <td>NaN</td>\n      <td>17.99</td>\n      <td>17.99</td>\n      <td>1.0</td>\n      <td>Saver</td>\n    </tr>\n    <tr>\n      <th>3</th>\n      <td>Johnson's Baby Powder</td>\n      <td>Baby, Toddler &amp; Kids</td>\n      <td>Baby Care</td>\n      <td>Nappies &amp; Changing</td>\n      <td>2.99</td>\n      <td>ea</td>\n      <td>False</td>\n      <td>NaN</td>\n      <td>2.99</td>\n      <td>2.99</td>\n      <td>1.0</td>\n      <td>Saver</td>\n    </tr>\n    <tr>\n      <th>4</th>\n      <td>Johnson's Baby Powder</td>\n      <td>Baby, Toddler &amp; Kids</td>\n      <td>Baby Care</td>\n      <td>Nappies &amp; Changing</td>\n      <td>4.89</td>\n      <td>ea</td>\n      <td>False</td>\n      <td>NaN</td>\n      <td>4.89</td>\n      <td>NaN</td>\n      <td>NaN</td>\n      <td>NaN</td>\n    </tr>\n  </tbody>\n</table>\n</div>"
     },
     "execution_count": 2,
     "metadata": {},
     "output_type": "execute_result"
    }
   ],
   "source": [
    "columns = [\"ProductName\", \"level_1\", \"level_2\", \"level_3\", \"PricePerItem\", \"PriceMode\", \"HasMultiBuyDeal\",\n",
    "           \"MultiBuyDeal\", \"MultiBuyBasePrice\", \"MultiBuyPrice\", \"MultiBuyQuantity\", \"PromoBadgeImageLabel\"]\n",
    "df = pd.read_csv(\"data.csv\", usecols=columns)\n",
    "df.drop_duplicates(inplace=True)\n",
    "df.head(5)"
   ],
   "metadata": {
    "collapsed": false,
    "pycharm": {
     "name": "#%%\n"
    }
   }
  },
  {
   "cell_type": "code",
   "execution_count": 3,
   "outputs": [
    {
     "data": {
      "text/plain": "                                        ProductName               level_1  \\\n0                              johnsons baby lotion  Baby, Toddler & Kids   \n1                                 johnsons baby oil  Baby, Toddler & Kids   \n2  sma balanced nutrition from birth infant formula  Baby, Toddler & Kids   \n3                              johnsons baby powder  Baby, Toddler & Kids   \n4                              johnsons baby powder  Baby, Toddler & Kids   \n\n     level_2                      level_3  PricePerItem PriceMode  \\\n0  Baby Care     Baby Bathing & Skin Care          4.89        ea   \n1  Baby Care     Baby Bathing & Skin Care          4.89        ea   \n2  Baby Care  Baby Formula & Toddler Food         17.99        ea   \n3  Baby Care           Nappies & Changing          2.99        ea   \n4  Baby Care           Nappies & Changing          4.89        ea   \n\n   HasMultiBuyDeal MultiBuyDeal  MultiBuyBasePrice  MultiBuyPrice  \\\n0            False          NaN               4.89            NaN   \n1            False          NaN               4.89            NaN   \n2            False          NaN              17.99          17.99   \n3            False          NaN               2.99           2.99   \n4            False          NaN               4.89            NaN   \n\n   MultiBuyQuantity PromoBadgeImageLabel  \n0               NaN                  NaN  \n1               NaN                  NaN  \n2               1.0                Saver  \n3               1.0                Saver  \n4               NaN                  NaN  ",
      "text/html": "<div>\n<style scoped>\n    .dataframe tbody tr th:only-of-type {\n        vertical-align: middle;\n    }\n\n    .dataframe tbody tr th {\n        vertical-align: top;\n    }\n\n    .dataframe thead th {\n        text-align: right;\n    }\n</style>\n<table border=\"1\" class=\"dataframe\">\n  <thead>\n    <tr style=\"text-align: right;\">\n      <th></th>\n      <th>ProductName</th>\n      <th>level_1</th>\n      <th>level_2</th>\n      <th>level_3</th>\n      <th>PricePerItem</th>\n      <th>PriceMode</th>\n      <th>HasMultiBuyDeal</th>\n      <th>MultiBuyDeal</th>\n      <th>MultiBuyBasePrice</th>\n      <th>MultiBuyPrice</th>\n      <th>MultiBuyQuantity</th>\n      <th>PromoBadgeImageLabel</th>\n    </tr>\n  </thead>\n  <tbody>\n    <tr>\n      <th>0</th>\n      <td>johnsons baby lotion</td>\n      <td>Baby, Toddler &amp; Kids</td>\n      <td>Baby Care</td>\n      <td>Baby Bathing &amp; Skin Care</td>\n      <td>4.89</td>\n      <td>ea</td>\n      <td>False</td>\n      <td>NaN</td>\n      <td>4.89</td>\n      <td>NaN</td>\n      <td>NaN</td>\n      <td>NaN</td>\n    </tr>\n    <tr>\n      <th>1</th>\n      <td>johnsons baby oil</td>\n      <td>Baby, Toddler &amp; Kids</td>\n      <td>Baby Care</td>\n      <td>Baby Bathing &amp; Skin Care</td>\n      <td>4.89</td>\n      <td>ea</td>\n      <td>False</td>\n      <td>NaN</td>\n      <td>4.89</td>\n      <td>NaN</td>\n      <td>NaN</td>\n      <td>NaN</td>\n    </tr>\n    <tr>\n      <th>2</th>\n      <td>sma balanced nutrition from birth infant formula</td>\n      <td>Baby, Toddler &amp; Kids</td>\n      <td>Baby Care</td>\n      <td>Baby Formula &amp; Toddler Food</td>\n      <td>17.99</td>\n      <td>ea</td>\n      <td>False</td>\n      <td>NaN</td>\n      <td>17.99</td>\n      <td>17.99</td>\n      <td>1.0</td>\n      <td>Saver</td>\n    </tr>\n    <tr>\n      <th>3</th>\n      <td>johnsons baby powder</td>\n      <td>Baby, Toddler &amp; Kids</td>\n      <td>Baby Care</td>\n      <td>Nappies &amp; Changing</td>\n      <td>2.99</td>\n      <td>ea</td>\n      <td>False</td>\n      <td>NaN</td>\n      <td>2.99</td>\n      <td>2.99</td>\n      <td>1.0</td>\n      <td>Saver</td>\n    </tr>\n    <tr>\n      <th>4</th>\n      <td>johnsons baby powder</td>\n      <td>Baby, Toddler &amp; Kids</td>\n      <td>Baby Care</td>\n      <td>Nappies &amp; Changing</td>\n      <td>4.89</td>\n      <td>ea</td>\n      <td>False</td>\n      <td>NaN</td>\n      <td>4.89</td>\n      <td>NaN</td>\n      <td>NaN</td>\n      <td>NaN</td>\n    </tr>\n  </tbody>\n</table>\n</div>"
     },
     "execution_count": 3,
     "metadata": {},
     "output_type": "execute_result"
    }
   ],
   "source": [
    "punctuations = re.compile(r'[^a-zA-Z\\s]+')\n",
    "df[\"ProductName\"] = [\" \".join(punctuations.sub('', x).lower().split()) for x in df[\"ProductName\"].tolist()]\n",
    "df.head(5)"
   ],
   "metadata": {
    "collapsed": false,
    "pycharm": {
     "name": "#%%\n"
    }
   }
  },
  {
   "cell_type": "code",
   "execution_count": 4,
   "outputs": [
    {
     "data": {
      "text/plain": "                                        ProductName               level_1  \\\n0                              johnsons baby lotion  Baby, Toddler & Kids   \n1                                 johnsons baby oil  Baby, Toddler & Kids   \n2  sma balanced nutrition from birth infant formula  Baby, Toddler & Kids   \n3                              johnsons baby powder  Baby, Toddler & Kids   \n4                              johnsons baby powder  Baby, Toddler & Kids   \n\n     level_2                      level_3  PricePerItem PriceMode  \\\n0  Baby Care     Baby Bathing & Skin Care          4.89        ea   \n1  Baby Care     Baby Bathing & Skin Care          4.89        ea   \n2  Baby Care  Baby Formula & Toddler Food         17.99        ea   \n3  Baby Care           Nappies & Changing          2.99        ea   \n4  Baby Care           Nappies & Changing          4.89        ea   \n\n   HasMultiBuyDeal MultiBuyDeal  MultiBuyBasePrice  MultiBuyPrice  \\\n0            False                            4.89            NaN   \n1            False                            4.89            NaN   \n2            False                           17.99          17.99   \n3            False                            2.99           2.99   \n4            False                            4.89            NaN   \n\n   MultiBuyQuantity PromoBadgeImageLabel  \n0               NaN                  NaN  \n1               NaN                  NaN  \n2               1.0                Saver  \n3               1.0                Saver  \n4               NaN                  NaN  ",
      "text/html": "<div>\n<style scoped>\n    .dataframe tbody tr th:only-of-type {\n        vertical-align: middle;\n    }\n\n    .dataframe tbody tr th {\n        vertical-align: top;\n    }\n\n    .dataframe thead th {\n        text-align: right;\n    }\n</style>\n<table border=\"1\" class=\"dataframe\">\n  <thead>\n    <tr style=\"text-align: right;\">\n      <th></th>\n      <th>ProductName</th>\n      <th>level_1</th>\n      <th>level_2</th>\n      <th>level_3</th>\n      <th>PricePerItem</th>\n      <th>PriceMode</th>\n      <th>HasMultiBuyDeal</th>\n      <th>MultiBuyDeal</th>\n      <th>MultiBuyBasePrice</th>\n      <th>MultiBuyPrice</th>\n      <th>MultiBuyQuantity</th>\n      <th>PromoBadgeImageLabel</th>\n    </tr>\n  </thead>\n  <tbody>\n    <tr>\n      <th>0</th>\n      <td>johnsons baby lotion</td>\n      <td>Baby, Toddler &amp; Kids</td>\n      <td>Baby Care</td>\n      <td>Baby Bathing &amp; Skin Care</td>\n      <td>4.89</td>\n      <td>ea</td>\n      <td>False</td>\n      <td></td>\n      <td>4.89</td>\n      <td>NaN</td>\n      <td>NaN</td>\n      <td>NaN</td>\n    </tr>\n    <tr>\n      <th>1</th>\n      <td>johnsons baby oil</td>\n      <td>Baby, Toddler &amp; Kids</td>\n      <td>Baby Care</td>\n      <td>Baby Bathing &amp; Skin Care</td>\n      <td>4.89</td>\n      <td>ea</td>\n      <td>False</td>\n      <td></td>\n      <td>4.89</td>\n      <td>NaN</td>\n      <td>NaN</td>\n      <td>NaN</td>\n    </tr>\n    <tr>\n      <th>2</th>\n      <td>sma balanced nutrition from birth infant formula</td>\n      <td>Baby, Toddler &amp; Kids</td>\n      <td>Baby Care</td>\n      <td>Baby Formula &amp; Toddler Food</td>\n      <td>17.99</td>\n      <td>ea</td>\n      <td>False</td>\n      <td></td>\n      <td>17.99</td>\n      <td>17.99</td>\n      <td>1.0</td>\n      <td>Saver</td>\n    </tr>\n    <tr>\n      <th>3</th>\n      <td>johnsons baby powder</td>\n      <td>Baby, Toddler &amp; Kids</td>\n      <td>Baby Care</td>\n      <td>Nappies &amp; Changing</td>\n      <td>2.99</td>\n      <td>ea</td>\n      <td>False</td>\n      <td></td>\n      <td>2.99</td>\n      <td>2.99</td>\n      <td>1.0</td>\n      <td>Saver</td>\n    </tr>\n    <tr>\n      <th>4</th>\n      <td>johnsons baby powder</td>\n      <td>Baby, Toddler &amp; Kids</td>\n      <td>Baby Care</td>\n      <td>Nappies &amp; Changing</td>\n      <td>4.89</td>\n      <td>ea</td>\n      <td>False</td>\n      <td></td>\n      <td>4.89</td>\n      <td>NaN</td>\n      <td>NaN</td>\n      <td>NaN</td>\n    </tr>\n  </tbody>\n</table>\n</div>"
     },
     "execution_count": 4,
     "metadata": {},
     "output_type": "execute_result"
    }
   ],
   "source": [
    "df[\"MultiBuyDeal\"] = [\" \".join(punctuations.sub('', y).lower().split()) if y == y else \" \" for y in\n",
    "                      df[\"MultiBuyDeal\"].tolist()]\n",
    "df.head(5)"
   ],
   "metadata": {
    "collapsed": false,
    "pycharm": {
     "name": "#%%\n"
    }
   }
  },
  {
   "cell_type": "code",
   "execution_count": 5,
   "outputs": [
    {
     "data": {
      "text/plain": "                                        ProductName               level_1  \\\n0                              johnsons baby lotion  Baby, Toddler & Kids   \n1                                 johnsons baby oil  Baby, Toddler & Kids   \n2  sma balanced nutrition from birth infant formula  Baby, Toddler & Kids   \n3                              johnsons baby powder  Baby, Toddler & Kids   \n4                              johnsons baby powder  Baby, Toddler & Kids   \n\n     level_2                      level_3  PricePerItem PriceMode  \\\n0  Baby Care     Baby Bathing & Skin Care          4.89        ea   \n1  Baby Care     Baby Bathing & Skin Care          4.89        ea   \n2  Baby Care  Baby Formula & Toddler Food         17.99        ea   \n3  Baby Care           Nappies & Changing          2.99        ea   \n4  Baby Care           Nappies & Changing          4.89        ea   \n\n   HasMultiBuyDeal MultiBuyDeal  MultiBuyBasePrice  MultiBuyPrice  \\\n0            False                            4.89            NaN   \n1            False                            4.89            NaN   \n2            False                           17.99          17.99   \n3            False                            2.99           2.99   \n4            False                            4.89            NaN   \n\n   MultiBuyQuantity PromoBadgeImageLabel  \n0               NaN                       \n1               NaN                       \n2               1.0                saver  \n3               1.0                saver  \n4               NaN                       ",
      "text/html": "<div>\n<style scoped>\n    .dataframe tbody tr th:only-of-type {\n        vertical-align: middle;\n    }\n\n    .dataframe tbody tr th {\n        vertical-align: top;\n    }\n\n    .dataframe thead th {\n        text-align: right;\n    }\n</style>\n<table border=\"1\" class=\"dataframe\">\n  <thead>\n    <tr style=\"text-align: right;\">\n      <th></th>\n      <th>ProductName</th>\n      <th>level_1</th>\n      <th>level_2</th>\n      <th>level_3</th>\n      <th>PricePerItem</th>\n      <th>PriceMode</th>\n      <th>HasMultiBuyDeal</th>\n      <th>MultiBuyDeal</th>\n      <th>MultiBuyBasePrice</th>\n      <th>MultiBuyPrice</th>\n      <th>MultiBuyQuantity</th>\n      <th>PromoBadgeImageLabel</th>\n    </tr>\n  </thead>\n  <tbody>\n    <tr>\n      <th>0</th>\n      <td>johnsons baby lotion</td>\n      <td>Baby, Toddler &amp; Kids</td>\n      <td>Baby Care</td>\n      <td>Baby Bathing &amp; Skin Care</td>\n      <td>4.89</td>\n      <td>ea</td>\n      <td>False</td>\n      <td></td>\n      <td>4.89</td>\n      <td>NaN</td>\n      <td>NaN</td>\n      <td></td>\n    </tr>\n    <tr>\n      <th>1</th>\n      <td>johnsons baby oil</td>\n      <td>Baby, Toddler &amp; Kids</td>\n      <td>Baby Care</td>\n      <td>Baby Bathing &amp; Skin Care</td>\n      <td>4.89</td>\n      <td>ea</td>\n      <td>False</td>\n      <td></td>\n      <td>4.89</td>\n      <td>NaN</td>\n      <td>NaN</td>\n      <td></td>\n    </tr>\n    <tr>\n      <th>2</th>\n      <td>sma balanced nutrition from birth infant formula</td>\n      <td>Baby, Toddler &amp; Kids</td>\n      <td>Baby Care</td>\n      <td>Baby Formula &amp; Toddler Food</td>\n      <td>17.99</td>\n      <td>ea</td>\n      <td>False</td>\n      <td></td>\n      <td>17.99</td>\n      <td>17.99</td>\n      <td>1.0</td>\n      <td>saver</td>\n    </tr>\n    <tr>\n      <th>3</th>\n      <td>johnsons baby powder</td>\n      <td>Baby, Toddler &amp; Kids</td>\n      <td>Baby Care</td>\n      <td>Nappies &amp; Changing</td>\n      <td>2.99</td>\n      <td>ea</td>\n      <td>False</td>\n      <td></td>\n      <td>2.99</td>\n      <td>2.99</td>\n      <td>1.0</td>\n      <td>saver</td>\n    </tr>\n    <tr>\n      <th>4</th>\n      <td>johnsons baby powder</td>\n      <td>Baby, Toddler &amp; Kids</td>\n      <td>Baby Care</td>\n      <td>Nappies &amp; Changing</td>\n      <td>4.89</td>\n      <td>ea</td>\n      <td>False</td>\n      <td></td>\n      <td>4.89</td>\n      <td>NaN</td>\n      <td>NaN</td>\n      <td></td>\n    </tr>\n  </tbody>\n</table>\n</div>"
     },
     "execution_count": 5,
     "metadata": {},
     "output_type": "execute_result"
    }
   ],
   "source": [
    "df[\"PromoBadgeImageLabel\"] = [\" \".join(punctuations.sub('', z).lower().split()) if z == z else \" \" for z in\n",
    "                              df[\"PromoBadgeImageLabel\"].tolist()]\n",
    "df.head(5)"
   ],
   "metadata": {
    "collapsed": false,
    "pycharm": {
     "name": "#%%\n"
    }
   }
  },
  {
   "cell_type": "code",
   "execution_count": 6,
   "outputs": [
    {
     "data": {
      "text/plain": "                                        ProductName               level_1  \\\n0                              johnsons baby lotion  Baby, Toddler & Kids   \n1                                 johnsons baby oil  Baby, Toddler & Kids   \n2  sma balanced nutrition from birth infant formula  Baby, Toddler & Kids   \n3                              johnsons baby powder  Baby, Toddler & Kids   \n4                              johnsons baby powder  Baby, Toddler & Kids   \n\n     level_2                      level_3  PricePerItem PriceMode  \\\n0  Baby Care     Baby Bathing & Skin Care          4.89        ea   \n1  Baby Care     Baby Bathing & Skin Care          4.89        ea   \n2  Baby Care  Baby Formula & Toddler Food         17.99        ea   \n3  Baby Care           Nappies & Changing          2.99        ea   \n4  Baby Care           Nappies & Changing          4.89        ea   \n\n   HasMultiBuyDeal MultiBuyDeal  MultiBuyBasePrice  MultiBuyPrice  \\\n0            False                            4.89           0.00   \n1            False                            4.89           0.00   \n2            False                           17.99          17.99   \n3            False                            2.99           2.99   \n4            False                            4.89           0.00   \n\n   MultiBuyQuantity PromoBadgeImageLabel  \n0               0.0                       \n1               0.0                       \n2               1.0                saver  \n3               1.0                saver  \n4               0.0                       ",
      "text/html": "<div>\n<style scoped>\n    .dataframe tbody tr th:only-of-type {\n        vertical-align: middle;\n    }\n\n    .dataframe tbody tr th {\n        vertical-align: top;\n    }\n\n    .dataframe thead th {\n        text-align: right;\n    }\n</style>\n<table border=\"1\" class=\"dataframe\">\n  <thead>\n    <tr style=\"text-align: right;\">\n      <th></th>\n      <th>ProductName</th>\n      <th>level_1</th>\n      <th>level_2</th>\n      <th>level_3</th>\n      <th>PricePerItem</th>\n      <th>PriceMode</th>\n      <th>HasMultiBuyDeal</th>\n      <th>MultiBuyDeal</th>\n      <th>MultiBuyBasePrice</th>\n      <th>MultiBuyPrice</th>\n      <th>MultiBuyQuantity</th>\n      <th>PromoBadgeImageLabel</th>\n    </tr>\n  </thead>\n  <tbody>\n    <tr>\n      <th>0</th>\n      <td>johnsons baby lotion</td>\n      <td>Baby, Toddler &amp; Kids</td>\n      <td>Baby Care</td>\n      <td>Baby Bathing &amp; Skin Care</td>\n      <td>4.89</td>\n      <td>ea</td>\n      <td>False</td>\n      <td></td>\n      <td>4.89</td>\n      <td>0.00</td>\n      <td>0.0</td>\n      <td></td>\n    </tr>\n    <tr>\n      <th>1</th>\n      <td>johnsons baby oil</td>\n      <td>Baby, Toddler &amp; Kids</td>\n      <td>Baby Care</td>\n      <td>Baby Bathing &amp; Skin Care</td>\n      <td>4.89</td>\n      <td>ea</td>\n      <td>False</td>\n      <td></td>\n      <td>4.89</td>\n      <td>0.00</td>\n      <td>0.0</td>\n      <td></td>\n    </tr>\n    <tr>\n      <th>2</th>\n      <td>sma balanced nutrition from birth infant formula</td>\n      <td>Baby, Toddler &amp; Kids</td>\n      <td>Baby Care</td>\n      <td>Baby Formula &amp; Toddler Food</td>\n      <td>17.99</td>\n      <td>ea</td>\n      <td>False</td>\n      <td></td>\n      <td>17.99</td>\n      <td>17.99</td>\n      <td>1.0</td>\n      <td>saver</td>\n    </tr>\n    <tr>\n      <th>3</th>\n      <td>johnsons baby powder</td>\n      <td>Baby, Toddler &amp; Kids</td>\n      <td>Baby Care</td>\n      <td>Nappies &amp; Changing</td>\n      <td>2.99</td>\n      <td>ea</td>\n      <td>False</td>\n      <td></td>\n      <td>2.99</td>\n      <td>2.99</td>\n      <td>1.0</td>\n      <td>saver</td>\n    </tr>\n    <tr>\n      <th>4</th>\n      <td>johnsons baby powder</td>\n      <td>Baby, Toddler &amp; Kids</td>\n      <td>Baby Care</td>\n      <td>Nappies &amp; Changing</td>\n      <td>4.89</td>\n      <td>ea</td>\n      <td>False</td>\n      <td></td>\n      <td>4.89</td>\n      <td>0.00</td>\n      <td>0.0</td>\n      <td></td>\n    </tr>\n  </tbody>\n</table>\n</div>"
     },
     "execution_count": 6,
     "metadata": {},
     "output_type": "execute_result"
    }
   ],
   "source": [
    "df[\"MultiBuyPrice\"].fillna(0, inplace=True)\n",
    "df[\"MultiBuyQuantity\"].fillna(0, inplace=True)\n",
    "df.head(5)"
   ],
   "metadata": {
    "collapsed": false,
    "pycharm": {
     "name": "#%%\n"
    }
   }
  },
  {
   "cell_type": "code",
   "execution_count": 7,
   "outputs": [
    {
     "data": {
      "text/plain": "<BarContainer object of 449 artists>"
     },
     "execution_count": 7,
     "metadata": {},
     "output_type": "execute_result"
    },
    {
     "data": {
      "text/plain": "<Figure size 432x288 with 1 Axes>",
      "image/png": "[encoded data removed]"
     },
     "metadata": {
      "needs_background": "light"
     },
     "output_type": "display_data"
    }
   ],
   "source": [
    "typesa = df.value_counts(columns[1:4])\n",
    "plot.bar([a for a in range(typesa.size)], typesa)"
   ],
   "metadata": {
    "collapsed": false,
    "pycharm": {
     "name": "#%%\n"
    }
   }
  },
  {
   "cell_type": "code",
   "execution_count": 8,
   "outputs": [
    {
     "data": {
      "text/plain": "<BarContainer object of 43 artists>"
     },
     "execution_count": 8,
     "metadata": {},
     "output_type": "execute_result"
    },
    {
     "data": {
      "text/plain": "<Figure size 432x288 with 1 Axes>",
      "image/png": "[encoded data removed]"
     },
     "metadata": {
      "needs_background": "light"
     },
     "output_type": "display_data"
    }
   ],
   "source": [
    "typesb = df.value_counts(columns[1:3])\n",
    "plot.bar([a for a in range(typesb.size)], typesb)"
   ],
   "metadata": {
    "collapsed": false,
    "pycharm": {
     "name": "#%%\n"
    }
   }
  },
  {
   "cell_type": "code",
   "execution_count": 9,
   "outputs": [
    {
     "data": {
      "text/plain": "level_1                    \nPantry                         4740\nPersonal Care                  1778\nFresh Foods & Bakery           1721\nChilled, Frozen & Desserts     1426\nBeer, Cider & Wine             1232\nKitchen, Dining & Household    1182\nDrinks                         1063\nPets                            512\nMeal Spot                       456\nBaby, Toddler & Kids            354\nFeatured                        121\ndtype: int64"
     },
     "execution_count": 9,
     "metadata": {},
     "output_type": "execute_result"
    }
   ],
   "source": [
    "typesc = df.value_counts(columns[1:2])\n",
    "typesc"
   ],
   "metadata": {
    "collapsed": false,
    "pycharm": {
     "name": "#%%\n"
    }
   }
  },
  {
   "cell_type": "code",
   "execution_count": 10,
   "outputs": [
    {
     "data": {
      "text/plain": "                                        ProductName               level_1  \\\n0                              johnsons baby lotion  Baby, Toddler & Kids   \n1                                 johnsons baby oil  Baby, Toddler & Kids   \n2  sma balanced nutrition from birth infant formula  Baby, Toddler & Kids   \n3                              johnsons baby powder  Baby, Toddler & Kids   \n4                              johnsons baby powder  Baby, Toddler & Kids   \n\n     level_2                      level_3  PricePerItem PriceMode  \\\n0  Baby Care     Baby Bathing & Skin Care          4.89        ea   \n1  Baby Care     Baby Bathing & Skin Care          4.89        ea   \n2  Baby Care  Baby Formula & Toddler Food         17.99        ea   \n3  Baby Care           Nappies & Changing          2.99        ea   \n4  Baby Care           Nappies & Changing          4.89        ea   \n\n   HasMultiBuyDeal MultiBuyDeal  MultiBuyBasePrice  MultiBuyPrice  \\\n0            False                            4.89           0.00   \n1            False                            4.89           0.00   \n2            False                           17.99          17.99   \n3            False                            2.99           2.99   \n4            False                            4.89           0.00   \n\n   MultiBuyQuantity PromoBadgeImageLabel  \n0               0.0                       \n1               0.0                       \n2               1.0                saver  \n3               1.0                saver  \n4               0.0                       ",
      "text/html": "<div>\n<style scoped>\n    .dataframe tbody tr th:only-of-type {\n        vertical-align: middle;\n    }\n\n    .dataframe tbody tr th {\n        vertical-align: top;\n    }\n\n    .dataframe thead th {\n        text-align: right;\n    }\n</style>\n<table border=\"1\" class=\"dataframe\">\n  <thead>\n    <tr style=\"text-align: right;\">\n      <th></th>\n      <th>ProductName</th>\n      <th>level_1</th>\n      <th>level_2</th>\n      <th>level_3</th>\n      <th>PricePerItem</th>\n      <th>PriceMode</th>\n      <th>HasMultiBuyDeal</th>\n      <th>MultiBuyDeal</th>\n      <th>MultiBuyBasePrice</th>\n      <th>MultiBuyPrice</th>\n      <th>MultiBuyQuantity</th>\n      <th>PromoBadgeImageLabel</th>\n    </tr>\n  </thead>\n  <tbody>\n    <tr>\n      <th>0</th>\n      <td>johnsons baby lotion</td>\n      <td>Baby, Toddler &amp; Kids</td>\n      <td>Baby Care</td>\n      <td>Baby Bathing &amp; Skin Care</td>\n      <td>4.89</td>\n      <td>ea</td>\n      <td>False</td>\n      <td></td>\n      <td>4.89</td>\n      <td>0.00</td>\n      <td>0.0</td>\n      <td></td>\n    </tr>\n    <tr>\n      <th>1</th>\n      <td>johnsons baby oil</td>\n      <td>Baby, Toddler &amp; Kids</td>\n      <td>Baby Care</td>\n      <td>Baby Bathing &amp; Skin Care</td>\n      <td>4.89</td>\n      <td>ea</td>\n      <td>False</td>\n      <td></td>\n      <td>4.89</td>\n      <td>0.00</td>\n      <td>0.0</td>\n      <td></td>\n    </tr>\n    <tr>\n      <th>2</th>\n      <td>sma balanced nutrition from birth infant formula</td>\n      <td>Baby, Toddler &amp; Kids</td>\n      <td>Baby Care</td>\n      <td>Baby Formula &amp; Toddler Food</td>\n      <td>17.99</td>\n      <td>ea</td>\n      <td>False</td>\n      <td></td>\n      <td>17.99</td>\n      <td>17.99</td>\n      <td>1.0</td>\n      <td>saver</td>\n    </tr>\n    <tr>\n      <th>3</th>\n      <td>johnsons baby powder</td>\n      <td>Baby, Toddler &amp; Kids</td>\n      <td>Baby Care</td>\n      <td>Nappies &amp; Changing</td>\n      <td>2.99</td>\n      <td>ea</td>\n      <td>False</td>\n      <td></td>\n      <td>2.99</td>\n      <td>2.99</td>\n      <td>1.0</td>\n      <td>saver</td>\n    </tr>\n    <tr>\n      <th>4</th>\n      <td>johnsons baby powder</td>\n      <td>Baby, Toddler &amp; Kids</td>\n      <td>Baby Care</td>\n      <td>Nappies &amp; Changing</td>\n      <td>4.89</td>\n      <td>ea</td>\n      <td>False</td>\n      <td></td>\n      <td>4.89</td>\n      <td>0.00</td>\n      <td>0.0</td>\n      <td></td>\n    </tr>\n  </tbody>\n</table>\n</div>"
     },
     "execution_count": 10,
     "metadata": {},
     "output_type": "execute_result"
    }
   ],
   "source": [
    "df = df[df[\"level_1\"] != \"Featured\"]\n",
    "df.head(5)"
   ],
   "metadata": {
    "collapsed": false,
    "pycharm": {
     "name": "#%%\n"
    }
   }
  },
  {
   "cell_type": "code",
   "execution_count": 11,
   "outputs": [
    {
     "data": {
      "text/plain": "(array([1.974e+03, 4.555e+03, 3.223e+03, 1.367e+03, 9.790e+02, 5.380e+02,\n        5.470e+02, 1.890e+02, 2.290e+02, 1.670e+02, 1.250e+02, 7.600e+01,\n        2.800e+01, 2.000e+01, 2.800e+01, 1.200e+01, 2.200e+01, 6.000e+00,\n        1.200e+01, 1.000e+00, 1.200e+01, 0.000e+00, 2.000e+00, 0.000e+00,\n        1.000e+00, 0.000e+00, 0.000e+00, 0.000e+00, 2.000e+00, 0.000e+00,\n        1.000e+00, 0.000e+00, 0.000e+00, 2.000e+00, 0.000e+00, 1.000e+00,\n        0.000e+00, 1.000e+00, 0.000e+00, 1.000e+00, 0.000e+00, 2.000e+00,\n        0.000e+00, 0.000e+00, 0.000e+00, 0.000e+00, 0.000e+00, 0.000e+00,\n        0.000e+00, 1.000e+00]),\n array([  0.15  ,   2.5668,   4.9836,   7.4004,   9.8172,  12.234 ,\n         14.6508,  17.0676,  19.4844,  21.9012,  24.318 ,  26.7348,\n         29.1516,  31.5684,  33.9852,  36.402 ,  38.8188,  41.2356,\n         43.6524,  46.0692,  48.486 ,  50.9028,  53.3196,  55.7364,\n         58.1532,  60.57  ,  62.9868,  65.4036,  67.8204,  70.2372,\n         72.654 ,  75.0708,  77.4876,  79.9044,  82.3212,  84.738 ,\n         87.1548,  89.5716,  91.9884,  94.4052,  96.822 ,  99.2388,\n        101.6556, 104.0724, 106.4892, 108.906 , 111.3228, 113.7396,\n        116.1564, 118.5732, 120.99  ]),\n <BarContainer object of 50 artists>)"
     },
     "execution_count": 11,
     "metadata": {},
     "output_type": "execute_result"
    },
    {
     "data": {
      "text/plain": "<Figure size 432x288 with 1 Axes>",
      "image/png": "[encoded data removed]"
     },
     "metadata": {
      "needs_background": "light"
     },
     "output_type": "display_data"
    }
   ],
   "source": [
    "dfea = df[df[\"PriceMode\"] == \"ea\"]\n",
    "plot.hist(dfea[\"PricePerItem\"].tolist(), bins=50)"
   ],
   "metadata": {
    "collapsed": false,
    "pycharm": {
     "name": "#%%\n"
    }
   }
  },
  {
   "cell_type": "code",
   "execution_count": 12,
   "outputs": [
    {
     "data": {
      "text/plain": "(array([13., 21., 25., 13., 22., 30., 33.,  9., 41., 19., 45., 11.,  9.,\n        14.,  9.,  1.,  3.,  3.,  7.,  2.,  2.,  1.,  0.,  1.,  0.,  0.,\n         1.,  0.,  0.,  0.,  1.,  2.,  0.,  0.,  0.,  0.,  0.,  0.,  1.,\n         0.,  0.,  0.,  0.,  0.,  0.,  0.,  0.,  0.,  0.,  1.]),\n array([  2.29  ,   4.8422,   7.3944,   9.9466,  12.4988,  15.051 ,\n         17.6032,  20.1554,  22.7076,  25.2598,  27.812 ,  30.3642,\n         32.9164,  35.4686,  38.0208,  40.573 ,  43.1252,  45.6774,\n         48.2296,  50.7818,  53.334 ,  55.8862,  58.4384,  60.9906,\n         63.5428,  66.095 ,  68.6472,  71.1994,  73.7516,  76.3038,\n         78.856 ,  81.4082,  83.9604,  86.5126,  89.0648,  91.617 ,\n         94.1692,  96.7214,  99.2736, 101.8258, 104.378 , 106.9302,\n        109.4824, 112.0346, 114.5868, 117.139 , 119.6912, 122.2434,\n        124.7956, 127.3478, 129.9   ]),\n <BarContainer object of 50 artists>)"
     },
     "execution_count": 12,
     "metadata": {},
     "output_type": "execute_result"
    },
    {
     "data": {
      "text/plain": "<Figure size 432x288 with 1 Axes>",
      "image/png": "[encoded data removed]"
     },
     "metadata": {
      "needs_background": "light"
     },
     "output_type": "display_data"
    }
   ],
   "source": [
    "dfkg = df[df[\"PriceMode\"] == \"kg\"]\n",
    "plot.hist(dfkg[\"PricePerItem\"].tolist(), bins=50)"
   ],
   "metadata": {
    "collapsed": false,
    "pycharm": {
     "name": "#%%\n"
    }
   }
  },
  {
   "cell_type": "code",
   "execution_count": 13,
   "outputs": [
    {
     "data": {
      "text/plain": "                                        ProductName               level_1  \\\n0                              johnsons baby lotion  Baby, Toddler & Kids   \n1                                 johnsons baby oil  Baby, Toddler & Kids   \n2  sma balanced nutrition from birth infant formula  Baby, Toddler & Kids   \n3                              johnsons baby powder  Baby, Toddler & Kids   \n4                              johnsons baby powder  Baby, Toddler & Kids   \n\n     level_2                      level_3  PricePerItem PriceMode  \\\n0  Baby Care     Baby Bathing & Skin Care             5        ea   \n1  Baby Care     Baby Bathing & Skin Care             5        ea   \n2  Baby Care  Baby Formula & Toddler Food            20        ea   \n3  Baby Care           Nappies & Changing             5        ea   \n4  Baby Care           Nappies & Changing             5        ea   \n\n   HasMultiBuyDeal MultiBuyDeal  MultiBuyBasePrice  MultiBuyPrice  \\\n0            False                               5              0   \n1            False                               5              0   \n2            False                              20             20   \n3            False                               5              5   \n4            False                               5              0   \n\n   MultiBuyQuantity PromoBadgeImageLabel  \n0                 0                       \n1                 0                       \n2                 1                saver  \n3                 1                saver  \n4                 0                       ",
      "text/html": "<div>\n<style scoped>\n    .dataframe tbody tr th:only-of-type {\n        vertical-align: middle;\n    }\n\n    .dataframe tbody tr th {\n        vertical-align: top;\n    }\n\n    .dataframe thead th {\n        text-align: right;\n    }\n</style>\n<table border=\"1\" class=\"dataframe\">\n  <thead>\n    <tr style=\"text-align: right;\">\n      <th></th>\n      <th>ProductName</th>\n      <th>level_1</th>\n      <th>level_2</th>\n      <th>level_3</th>\n      <th>PricePerItem</th>\n      <th>PriceMode</th>\n      <th>HasMultiBuyDeal</th>\n      <th>MultiBuyDeal</th>\n      <th>MultiBuyBasePrice</th>\n      <th>MultiBuyPrice</th>\n      <th>MultiBuyQuantity</th>\n      <th>PromoBadgeImageLabel</th>\n    </tr>\n  </thead>\n  <tbody>\n    <tr>\n      <th>0</th>\n      <td>johnsons baby lotion</td>\n      <td>Baby, Toddler &amp; Kids</td>\n      <td>Baby Care</td>\n      <td>Baby Bathing &amp; Skin Care</td>\n      <td>5</td>\n      <td>ea</td>\n      <td>False</td>\n      <td></td>\n      <td>5</td>\n      <td>0</td>\n      <td>0</td>\n      <td></td>\n    </tr>\n    <tr>\n      <th>1</th>\n      <td>johnsons baby oil</td>\n      <td>Baby, Toddler &amp; Kids</td>\n      <td>Baby Care</td>\n      <td>Baby Bathing &amp; Skin Care</td>\n      <td>5</td>\n      <td>ea</td>\n      <td>False</td>\n      <td></td>\n      <td>5</td>\n      <td>0</td>\n      <td>0</td>\n      <td></td>\n    </tr>\n    <tr>\n      <th>2</th>\n      <td>sma balanced nutrition from birth infant formula</td>\n      <td>Baby, Toddler &amp; Kids</td>\n      <td>Baby Care</td>\n      <td>Baby Formula &amp; Toddler Food</td>\n      <td>20</td>\n      <td>ea</td>\n      <td>False</td>\n      <td></td>\n      <td>20</td>\n      <td>20</td>\n      <td>1</td>\n      <td>saver</td>\n    </tr>\n    <tr>\n      <th>3</th>\n      <td>johnsons baby powder</td>\n      <td>Baby, Toddler &amp; Kids</td>\n      <td>Baby Care</td>\n      <td>Nappies &amp; Changing</td>\n      <td>5</td>\n      <td>ea</td>\n      <td>False</td>\n      <td></td>\n      <td>5</td>\n      <td>5</td>\n      <td>1</td>\n      <td>saver</td>\n    </tr>\n    <tr>\n      <th>4</th>\n      <td>johnsons baby powder</td>\n      <td>Baby, Toddler &amp; Kids</td>\n      <td>Baby Care</td>\n      <td>Nappies &amp; Changing</td>\n      <td>5</td>\n      <td>ea</td>\n      <td>False</td>\n      <td></td>\n      <td>5</td>\n      <td>0</td>\n      <td>0</td>\n      <td></td>\n    </tr>\n  </tbody>\n</table>\n</div>"
     },
     "execution_count": 13,
     "metadata": {},
     "output_type": "execute_result"
    }
   ],
   "source": [
    "df[\"PricePerItem\"] = [round(p / 5) * 5 for p in df[\"PricePerItem\"].tolist()]\n",
    "df[\"MultiBuyPrice\"] = [round(p / 5) * 5 for p in df[\"MultiBuyPrice\"].tolist()]\n",
    "df[\"MultiBuyBasePrice\"] = [round(p / 5) * 5 for p in df[\"MultiBuyBasePrice\"].tolist()]\n",
    "df[\"MultiBuyQuantity\"] = [int(q) for q in df[\"MultiBuyQuantity\"].tolist()]\n",
    "df.head(5)"
   ],
   "metadata": {
    "collapsed": false,
    "pycharm": {
     "name": "#%%\n"
    }
   }
  },
  {
   "cell_type": "code",
   "execution_count": 14,
   "outputs": [],
   "source": [
    "levela = df[\"level_1\"].tolist()\n",
    "levelb = df[\"level_2\"].tolist()\n",
    "two = [\";\".join([levela[i], levelb[i]]) for i in range(len(levela))]\n",
    "one = levela"
   ],
   "metadata": {
    "collapsed": false,
    "pycharm": {
     "name": "#%%\n"
    }
   }
  },
  {
   "cell_type": "code",
   "execution_count": 15,
   "outputs": [],
   "source": [
    "texts = df[\"ProductName\"].tolist()\n",
    "vectorizer = TfidfVectorizer(stop_words='english')\n",
    "features = vectorizer.fit_transform(texts)"
   ],
   "metadata": {
    "collapsed": false,
    "pycharm": {
     "name": "#%%\n"
    }
   }
  },
  {
   "cell_type": "code",
   "execution_count": 16,
   "outputs": [],
   "source": [
    "label2idtwo = {l: i for i, l in enumerate(set(two))}\n",
    "id2labeltwo = {i: l for l, i in label2idtwo.items()}\n",
    "two = [label2idtwo[l] for l in two]\n",
    "label2idone = {l: i for i, l in enumerate(set(one))}\n",
    "id2labelone = {i: l for l, i in label2idone.items()}\n",
    "one = [label2idone[l] for l in one]\n",
    "x_traint, x_testt, y_traint, y_testt = train_test_split(features, two, test_size=0.25, random_state=3)\n",
    "x_traino, x_testo, y_traino, y_testo = train_test_split(features, one, test_size=0.25, random_state=3)"
   ],
   "metadata": {
    "collapsed": false,
    "pycharm": {
     "name": "#%%\n"
    }
   }
  },
  {
   "cell_type": "code",
   "execution_count": 17,
   "outputs": [
    {
     "name": "stdout",
     "output_type": "stream",
     "text": [
      "                                                        precision    recall  f1-score   support\n",
      "\n",
      "                     Chilled, Frozen & Desserts;Cheese       0.87      0.91      0.89        76\n",
      "                 Kitchen, Dining & Household;Household       0.87      0.97      0.92       140\n",
      "               Fresh Foods & Bakery;Bulk & Loose Foods       0.97      1.00      0.98        32\n",
      "                                  Pantry;Confectionery       0.89      0.95      0.92       104\n",
      "                              Pantry;Breakfast Cereals       0.95      0.87      0.91        61\n",
      "                                    Pantry;World Foods       0.87      0.46      0.60        56\n",
      "                        Fresh Foods & Bakery;Meal Kits       0.00      0.00      0.00         3\n",
      "                         Pantry;Condiments & Dressings       0.84      0.79      0.81        96\n",
      "                       Personal Care;Beauty & Grooming       0.77      0.98      0.86       288\n",
      "                            Pantry;Biscuits & Crackers       0.97      0.82      0.89        89\n",
      "                            Pantry;Spices & Seasonings       0.91      0.99      0.94        69\n",
      "                          Fresh Foods & Bakery;Seafood       0.80      0.75      0.77        16\n",
      "                               Meal Spot;Ready to Cook       0.20      0.19      0.19        27\n",
      "                                     Pantry;Hot Drinks       0.25      0.22      0.23       109\n",
      "                           Fresh Foods & Bakery;Bakery       0.94      0.92      0.93        90\n",
      "         Kitchen, Dining & Household;Cleaning Products       0.94      0.82      0.87        72\n",
      "                                     Pets;Pet Supplies       1.00      0.98      0.99       126\n",
      "                                    Drinks;Cold Drinks       0.89      0.95      0.92       152\n",
      "                     Fresh Foods & Bakery;Dairy & Eggs       0.20      0.16      0.18       119\n",
      "          Kitchen, Dining & Household;Garage & Outdoor       0.00      0.00      0.00         7\n",
      "                   Kitchen, Dining & Household;Laundry       1.00      0.77      0.87        44\n",
      "                                    Pantry;Snack Foods       0.90      0.86      0.88       146\n",
      "               Fresh Foods & Bakery;Fruit & Vegetables       0.94      0.68      0.79        44\n",
      "                               Beer, Cider & Wine;Wine       0.97      0.97      0.97       171\n",
      "                                Meal Spot;Ready to Eat       0.00      0.00      0.00        11\n",
      "                                     Drinks;Hot Drinks       0.24      0.27      0.25        97\n",
      "                        Pantry;Baking Supplies & Sugar       0.76      0.84      0.80        96\n",
      "                           Pantry;Salad & Cooking Oils       0.94      0.88      0.91        33\n",
      "                      Pantry;Sauces, Stock & Marinades       0.82      0.92      0.87       105\n",
      "Kitchen, Dining & Household;Stationery & Entertainment       1.00      0.68      0.81        25\n",
      "               Chilled, Frozen & Desserts;Dairy & Eggs       0.23      0.29      0.25       104\n",
      "                          Pantry;Pasta, Rice & Noodles       0.66      0.62      0.64        82\n",
      "                       Beer, Cider & Wine;Beer & Cider       0.96      0.94      0.95       130\n",
      "                          Pantry;Jams, Honey & Spreads       0.90      0.79      0.84        48\n",
      "                        Pantry;Canned & Prepared Foods       0.60      0.73      0.65       142\n",
      "                       Personal Care;Health & Wellness       0.88      0.87      0.87       123\n",
      "                         Fresh Foods & Bakery;Butchery       0.98      0.77      0.86        53\n",
      "                        Baby, Toddler & Kids;Baby Care       0.99      0.84      0.91        93\n",
      "                   Chilled, Frozen & Desserts;Desserts       0.96      0.79      0.87        57\n",
      "      Fresh Foods & Bakery;Deli, Salads & Cooked Meats       0.76      0.80      0.78        79\n",
      "               Chilled, Frozen & Desserts;Frozen Foods       0.72      0.72      0.72       129\n",
      "                               Meal Spot;Ready to Heat       0.19      0.15      0.17        72\n",
      "\n",
      "                                              accuracy                           0.77      3616\n",
      "                                             macro avg       0.73      0.69      0.70      3616\n",
      "                                          weighted avg       0.77      0.77      0.76      3616\n",
      "\n"
     ]
    },
    {
     "name": "stderr",
     "output_type": "stream",
     "text": [
      "d:\\python\\lib\\site-packages\\sklearn\\metrics\\_classification.py:1245: UndefinedMetricWarning: Precision and F-score are ill-defined and being set to 0.0 in labels with no predicted samples. Use `zero_division` parameter to control this behavior.\n",
      "  _warn_prf(average, modifier, msg_start, len(result))\n",
      "d:\\python\\lib\\site-packages\\sklearn\\metrics\\_classification.py:1245: UndefinedMetricWarning: Precision and F-score are ill-defined and being set to 0.0 in labels with no predicted samples. Use `zero_division` parameter to control this behavior.\n",
      "  _warn_prf(average, modifier, msg_start, len(result))\n",
      "d:\\python\\lib\\site-packages\\sklearn\\metrics\\_classification.py:1245: UndefinedMetricWarning: Precision and F-score are ill-defined and being set to 0.0 in labels with no predicted samples. Use `zero_division` parameter to control this behavior.\n",
      "  _warn_prf(average, modifier, msg_start, len(result))\n"
     ]
    }
   ],
   "source": [
    "model = LogisticRegression(max_iter=500)\n",
    "model.fit(x_traint, y_traint)\n",
    "predict_labelst = model.predict(x_testt)\n",
    "predict_labelst = [np.round(p) for p in predict_labelst]\n",
    "max_labelt = len(id2labeltwo) - 1\n",
    "predict_labelst = [l if max_labelt >= l else max_labelt for l in predict_labelst]\n",
    "min_label = 0\n",
    "predict_labelst = [l if min_label <= l else min_label for l in predict_labelst]\n",
    "print(classification_report(y_testt, predict_labelst, target_names=[id2labeltwo[i] for i in range(len(id2labeltwo))]))"
   ],
   "metadata": {
    "collapsed": false,
    "pycharm": {
     "name": "#%%\n"
    }
   }
  },
  {
   "cell_type": "code",
   "execution_count": 18,
   "outputs": [
    {
     "name": "stdout",
     "output_type": "stream",
     "text": [
      "                             precision    recall  f1-score   support\n",
      "\n",
      "Kitchen, Dining & Household       0.98      0.88      0.93       288\n",
      "                  Meal Spot       0.24      0.13      0.17       110\n",
      "              Personal Care       0.95      0.94      0.95       411\n",
      "       Baby, Toddler & Kids       1.00      0.82      0.90        93\n",
      "         Beer, Cider & Wine       0.99      0.92      0.95       301\n",
      "                     Drinks       0.70      0.63      0.66       249\n",
      "                       Pets       1.00      0.94      0.97       126\n",
      " Chilled, Frozen & Desserts       0.66      0.59      0.62       366\n",
      "       Fresh Foods & Bakery       0.74      0.67      0.70       436\n",
      "                     Pantry       0.77      0.92      0.84      1236\n",
      "\n",
      "                   accuracy                           0.81      3616\n",
      "                  macro avg       0.80      0.74      0.77      3616\n",
      "               weighted avg       0.80      0.81      0.80      3616\n",
      "\n"
     ]
    }
   ],
   "source": [
    "model = LogisticRegression(max_iter=500)\n",
    "model.fit(x_traino, y_traino)\n",
    "predict_labelso = model.predict(x_testo)\n",
    "predict_labelso = [np.round(p) for p in predict_labelso]\n",
    "max_labelo = len(id2labelone) - 1\n",
    "predict_labelso = [l if max_labelo >= l else max_labelo for l in predict_labelso]\n",
    "min_label = 0\n",
    "predict_labelso = [l if min_label <= l else min_label for l in predict_labelso]\n",
    "print(classification_report(y_testo, predict_labelso, target_names=[id2labelone[i] for i in range(len(id2labelone))]))"
   ],
   "metadata": {
    "collapsed": false,
    "pycharm": {
     "name": "#%%\n"
    }
   }
  },
  {
   "cell_type": "code",
   "execution_count": 19,
   "outputs": [
    {
     "name": "stdout",
     "output_type": "stream",
     "text": [
      "                                                        precision    recall  f1-score   support\n",
      "\n",
      "                     Chilled, Frozen & Desserts;Cheese       0.84      0.86      0.85        76\n",
      "                 Kitchen, Dining & Household;Household       0.86      0.76      0.81       140\n",
      "               Fresh Foods & Bakery;Bulk & Loose Foods       0.97      1.00      0.98        32\n",
      "                                  Pantry;Confectionery       0.77      0.93      0.84       104\n",
      "                              Pantry;Breakfast Cereals       0.93      0.90      0.92        61\n",
      "                                    Pantry;World Foods       0.71      0.27      0.39        56\n",
      "                        Fresh Foods & Bakery;Meal Kits       0.00      0.00      0.00         3\n",
      "                         Pantry;Condiments & Dressings       0.84      0.64      0.72        96\n",
      "                       Personal Care;Beauty & Grooming       0.82      0.96      0.89       288\n",
      "                            Pantry;Biscuits & Crackers       0.90      0.80      0.85        89\n",
      "                            Pantry;Spices & Seasonings       0.73      0.99      0.84        69\n",
      "                          Fresh Foods & Bakery;Seafood       0.79      0.69      0.73        16\n",
      "                               Meal Spot;Ready to Cook       0.35      0.41      0.38        27\n",
      "                                     Pantry;Hot Drinks       0.41      0.43      0.42       109\n",
      "                           Fresh Foods & Bakery;Bakery       0.79      0.87      0.83        90\n",
      "         Kitchen, Dining & Household;Cleaning Products       0.82      0.71      0.76        72\n",
      "                                     Pets;Pet Supplies       0.92      0.98      0.95       126\n",
      "                                    Drinks;Cold Drinks       0.76      0.95      0.85       152\n",
      "                     Fresh Foods & Bakery;Dairy & Eggs       0.32      0.32      0.32       119\n",
      "          Kitchen, Dining & Household;Garage & Outdoor       1.00      0.14      0.25         7\n",
      "                   Kitchen, Dining & Household;Laundry       0.85      0.80      0.82        44\n",
      "                                    Pantry;Snack Foods       0.84      0.75      0.79       146\n",
      "               Fresh Foods & Bakery;Fruit & Vegetables       0.80      0.82      0.81        44\n",
      "                               Beer, Cider & Wine;Wine       0.95      0.96      0.96       171\n",
      "                                Meal Spot;Ready to Eat       0.40      0.18      0.25        11\n",
      "                                     Drinks;Hot Drinks       0.41      0.45      0.43        97\n",
      "                        Pantry;Baking Supplies & Sugar       0.67      0.69      0.68        96\n",
      "                           Pantry;Salad & Cooking Oils       0.68      0.85      0.76        33\n",
      "                      Pantry;Sauces, Stock & Marinades       0.68      0.87      0.76       105\n",
      "Kitchen, Dining & Household;Stationery & Entertainment       0.94      0.60      0.73        25\n",
      "               Chilled, Frozen & Desserts;Dairy & Eggs       0.29      0.38      0.33       104\n",
      "                          Pantry;Pasta, Rice & Noodles       0.70      0.65      0.67        82\n",
      "                       Beer, Cider & Wine;Beer & Cider       0.97      0.88      0.92       130\n",
      "                          Pantry;Jams, Honey & Spreads       0.67      0.69      0.68        48\n",
      "                        Pantry;Canned & Prepared Foods       0.55      0.63      0.59       142\n",
      "                       Personal Care;Health & Wellness       0.89      0.76      0.82       123\n",
      "                         Fresh Foods & Bakery;Butchery       0.84      0.77      0.80        53\n",
      "                        Baby, Toddler & Kids;Baby Care       0.97      0.82      0.89        93\n",
      "                   Chilled, Frozen & Desserts;Desserts       0.87      0.70      0.78        57\n",
      "      Fresh Foods & Bakery;Deli, Salads & Cooked Meats       0.74      0.67      0.70        79\n",
      "               Chilled, Frozen & Desserts;Frozen Foods       0.76      0.55      0.64       129\n",
      "                               Meal Spot;Ready to Heat       0.27      0.19      0.23        72\n",
      "\n",
      "                                              accuracy                           0.74      3616\n",
      "                                             macro avg       0.72      0.67      0.68      3616\n",
      "                                          weighted avg       0.74      0.74      0.73      3616\n",
      "\n"
     ]
    }
   ],
   "source": [
    "k = len(id2labeltwo)\n",
    "model = KNeighborsClassifier(n_neighbors=k)\n",
    "model.fit(x_traint, y_traint)\n",
    "predict_labelst = model.predict(x_testt)\n",
    "print(classification_report(y_testt, predict_labelst, target_names=[id2labeltwo[i] for i in range(len(id2labeltwo))]))"
   ],
   "metadata": {
    "collapsed": false,
    "pycharm": {
     "name": "#%%\n"
    }
   }
  },
  {
   "cell_type": "code",
   "execution_count": 20,
   "outputs": [
    {
     "name": "stdout",
     "output_type": "stream",
     "text": [
      "                             precision    recall  f1-score   support\n",
      "\n",
      "Kitchen, Dining & Household       0.94      0.90      0.92       288\n",
      "                  Meal Spot       0.31      0.35      0.32       110\n",
      "              Personal Care       0.94      0.93      0.94       411\n",
      "       Baby, Toddler & Kids       0.98      0.89      0.93        93\n",
      "         Beer, Cider & Wine       0.97      0.95      0.96       301\n",
      "                     Drinks       0.65      0.82      0.73       249\n",
      "                       Pets       0.98      0.96      0.97       126\n",
      " Chilled, Frozen & Desserts       0.63      0.73      0.68       366\n",
      "       Fresh Foods & Bakery       0.75      0.66      0.70       436\n",
      "                     Pantry       0.87      0.83      0.85      1236\n",
      "\n",
      "                   accuracy                           0.82      3616\n",
      "                  macro avg       0.80      0.80      0.80      3616\n",
      "               weighted avg       0.83      0.82      0.82      3616\n",
      "\n"
     ]
    }
   ],
   "source": [
    "k = len(id2labelone)\n",
    "model = KNeighborsClassifier(n_neighbors=k)\n",
    "model.fit(x_traino, y_traino)\n",
    "predict_labelso = model.predict(x_testo)\n",
    "print(classification_report(y_testo, predict_labelso, target_names=[id2labelone[i] for i in range(len(id2labelone))]))"
   ],
   "metadata": {
    "collapsed": false,
    "pycharm": {
     "name": "#%%\n"
    }
   }
  },
  {
   "cell_type": "code",
   "execution_count": 21,
   "outputs": [],
   "source": [
    "def knn_cross_validation(x_train, y_train):\n",
    "    k_list = list(range(1, 30))\n",
    "    list_scores = []\n",
    "\n",
    "    for k in k_list:\n",
    "        knn = KNeighborsClassifier(n_neighbors=k)\n",
    "        scores = cross_val_score(knn, x_train, y_train, cv=10, scoring='accuracy')\n",
    "        list_scores.append(scores.mean())\n",
    "\n",
    "    MSE = [1 - x for x in list_scores]\n",
    "    optimal_k = k_list[MSE.index(min(MSE))]\n",
    "    print(\"The optimal number of neighbors is %d\" % optimal_k)\n",
    "    plot.plot(k_list, list_scores)\n",
    "    plot.xlabel('Number of Neighbors K')\n",
    "    plot.ylabel('correct classification rate')\n",
    "    plot.show()\n",
    "    return optimal_k"
   ],
   "metadata": {
    "collapsed": false,
    "pycharm": {
     "name": "#%%\n"
    }
   }
  },
  {
   "cell_type": "code",
   "execution_count": 22,
   "outputs": [
    {
     "name": "stdout",
     "output_type": "stream",
     "text": [
      "The optimal number of neighbors is 6\n"
     ]
    },
    {
     "data": {
      "text/plain": "<Figure size 432x288 with 1 Axes>",
      "image/png": "[encoded data removed]"
     },
     "metadata": {
      "needs_background": "light"
     },
     "output_type": "display_data"
    }
   ],
   "source": [
    "ko = knn_cross_validation(x_traino, y_traino)"
   ],
   "metadata": {
    "collapsed": false,
    "pycharm": {
     "name": "#%%\n"
    }
   }
  },
  {
   "cell_type": "code",
   "execution_count": 23,
   "outputs": [
    {
     "name": "stdout",
     "output_type": "stream",
     "text": [
      "The optimal number of neighbors is 4\n"
     ]
    },
    {
     "data": {
      "text/plain": "<Figure size 432x288 with 1 Axes>",
      "image/png": "[encoded data removed]"
     },
     "metadata": {
      "needs_background": "light"
     },
     "output_type": "display_data"
    }
   ],
   "source": [
    "kt = knn_cross_validation(x_traint, y_traint)"
   ],
   "metadata": {
    "collapsed": false,
    "pycharm": {
     "name": "#%%\n"
    }
   }
  },
  {
   "cell_type": "code",
   "execution_count": 24,
   "outputs": [
    {
     "data": {
      "text/plain": "<Figure size 432x288 with 1 Axes>",
      "image/png": "[encoded data removed]"
     },
     "metadata": {
      "needs_background": "light"
     },
     "output_type": "display_data"
    }
   ],
   "source": [
    "knn = KNeighborsClassifier(n_neighbors=kt)\n",
    "train_sizes, train_score, test_score = learning_curve(knn, features, two, train_sizes=[0.1, 0.2, 0.4, 0.6, 0.8, 1],\n",
    "                                                      cv=5, scoring='accuracy')\n",
    "train_error = 1 - np.mean(train_score, axis=1)\n",
    "test_error = 1 - np.mean(test_score, axis=1)\n",
    "plot.plot(train_sizes, train_error, 'o-', color='r', label='training')\n",
    "plot.plot(train_sizes, test_error, 'o-', color='g', label='testing')\n",
    "plot.legend(loc='best')\n",
    "plot.xlabel('traing examples')\n",
    "plot.ylabel('error')\n",
    "plot.show()"
   ],
   "metadata": {
    "collapsed": false,
    "pycharm": {
     "name": "#%%\n"
    }
   }
  },
  {
   "cell_type": "code",
   "execution_count": 25,
   "outputs": [
    {
     "data": {
      "text/plain": "<Figure size 432x288 with 1 Axes>",
      "image/png": "[encoded data removed]"
     },
     "metadata": {
      "needs_background": "light"
     },
     "output_type": "display_data"
    }
   ],
   "source": [
    "knn = KNeighborsClassifier(n_neighbors=ko)\n",
    "train_sizes, train_score, test_score = learning_curve(knn, features, one, train_sizes=[0.1, 0.2, 0.4, 0.6, 0.8, 1],\n",
    "                                                      cv=5, scoring='accuracy')\n",
    "train_error = 1 - np.mean(train_score, axis=1)\n",
    "test_error = 1 - np.mean(test_score, axis=1)\n",
    "plot.plot(train_sizes, train_error, 'o-', color='r', label='training')\n",
    "plot.plot(train_sizes, test_error, 'o-', color='g', label='testing')\n",
    "plot.legend(loc='best')\n",
    "plot.xlabel('traing examples')\n",
    "plot.ylabel('error')\n",
    "plot.show()"
   ],
   "metadata": {
    "collapsed": false,
    "pycharm": {
     "name": "#%%\n"
    }
   }
  },
  {
   "cell_type": "code",
   "execution_count": 26,
   "outputs": [],
   "source": [
    "def load_embeddings():\n",
    "    cache = '.vector_cache'\n",
    "    if not os.path.exists(cache):\n",
    "        os.mkdir(cache)\n",
    "    word2vec = vocab.Vectors(name=r'./word2vec_300dim.txt', cache=cache)\n",
    "    return word2vec\n",
    "\n",
    "\n",
    "def encode_text_to_features(vector, text):\n",
    "    vectors = vector.get_vecs_by_tokens(text.split())\n",
    "    sentence_vector = torch.mean(vectors, dim=0)\n",
    "    return sentence_vector.tolist()\n",
    "\n",
    "# sentences = []\n",
    "# map(remove_stopwords,texts)\n",
    "# for sentence in texts:\n",
    "#     sentences.append(sentence.split())\n",
    "# w2v = Word2Vec(sentences=sentences, vector_size=300, window=5, min_count=10, sample=1e-5)\n",
    "# w2v.wv.save_word2vec_format(r'./word2vec_300dim.txt', binary=False)\n",
    "# vector = load_embeddings()\n",
    "# features = [encode_text_to_features(vector, text) for text in texts]"
   ],
   "metadata": {
    "collapsed": false,
    "pycharm": {
     "name": "#%%\n"
    }
   }
  },
  {
   "cell_type": "code",
   "execution_count": 27,
   "outputs": [],
   "source": [
    "# x_traint, x_testt, y_traint, y_testt = train_test_split(features, two, test_size=0.25, random_state=3)\n",
    "# x_traino, x_testo, y_traino, y_testo = train_test_split(features, one, test_size=0.25, random_state=3)"
   ],
   "metadata": {
    "collapsed": false,
    "pycharm": {
     "name": "#%%\n"
    }
   }
  },
  {
   "cell_type": "code",
   "execution_count": 28,
   "outputs": [],
   "source": [
    "# model = LogisticRegression(max_iter=500)\n",
    "# model.fit(x_traint, y_traint)\n",
    "# predict_labelst = model.predict(x_testt)\n",
    "# predict_labelst = [np.round(p) for p in predict_labelst]\n",
    "# max_labelt = len(id2labeltwo) - 1\n",
    "# predict_labelst = [l if max_labelt >= l else max_labelt for l in predict_labelst]\n",
    "# min_label = 0\n",
    "# predict_labelst = [l if min_label <= l else min_label for l in predict_labelst]\n",
    "# print(classification_report(y_testt, predict_labelst, target_names=[id2labeltwo[i] for i in range(len(id2labeltwo))]))"
   ],
   "metadata": {
    "collapsed": false,
    "pycharm": {
     "name": "#%%\n"
    }
   }
  },
  {
   "cell_type": "code",
   "execution_count": 29,
   "outputs": [],
   "source": [
    "# model = LogisticRegression(max_iter=500)\n",
    "# model.fit(x_traino, y_traino)\n",
    "# predict_labelso = model.predict(x_testo)\n",
    "# predict_labelso = [np.round(p) for p in predict_labelso]\n",
    "# max_labelo = len(id2labelone) - 1\n",
    "# predict_labelso = [l if max_labelo >= l else max_labelo for l in predict_labelso]\n",
    "# min_label = 0\n",
    "# predict_labelst = [l if min_label <= l else min_label for l in predict_labelso]\n",
    "# print(classification_report(y_testo, predict_labelso, target_names=[id2labelone[i] for i in range(len(id2labelone))]))\n"
   ],
   "metadata": {
    "collapsed": false,
    "pycharm": {
     "name": "#%%\n"
    }
   }
  }
 ],
 "metadata": {
  "kernelspec": {
   "display_name": "Python 3",
   "language": "python",
   "name": "python3"
  },
  "language_info": {
   "codemirror_mode": {
    "name": "ipython",
    "version": 2
   },
   "file_extension": ".py",
   "mimetype": "text/x-python",
   "name": "python",
   "nbconvert_exporter": "python",
   "pygments_lexer": "ipython2",
   "version": "2.7.6"
  }
 },
 "nbformat": 4,
 "nbformat_minor": 0
}