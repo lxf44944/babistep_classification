{
 "cells": [
  {
   "cell_type": "code",
   "execution_count": 1,
   "metadata": {
    "collapsed": true
   },
   "outputs": [],
   "source": [
    "import re\n",
    "import matplotlib.pyplot as plot\n",
    "import numpy as np\n",
    "import pandas as pd\n",
    "from sklearn.feature_extraction.text import TfidfVectorizer\n",
    "from sklearn.linear_model import LogisticRegression\n",
    "from sklearn.metrics import accuracy_score, recall_score, f1_score, classification_report\n"
   ]
  },
  {
   "cell_type": "code",
   "execution_count": 2,
   "outputs": [
    {
     "data": {
      "text/plain": "                                        ProductName               level_1  \\\n0                             Johnson's Baby Lotion  Baby, Toddler & Kids   \n1                                Johnson's Baby Oil  Baby, Toddler & Kids   \n2  SMA Balanced Nutrition From Birth Infant Formula  Baby, Toddler & Kids   \n3                             Johnson's Baby Powder  Baby, Toddler & Kids   \n4                             Johnson's Baby Powder  Baby, Toddler & Kids   \n\n     level_2                      level_3  PricePerItem PriceMode  \\\n0  Baby Care     Baby Bathing & Skin Care          4.89        ea   \n1  Baby Care     Baby Bathing & Skin Care          4.89        ea   \n2  Baby Care  Baby Formula & Toddler Food         17.99        ea   \n3  Baby Care           Nappies & Changing          2.99        ea   \n4  Baby Care           Nappies & Changing          4.89        ea   \n\n   HasMultiBuyDeal MultiBuyDeal  MultiBuyBasePrice  MultiBuyPrice  \\\n0            False          NaN               4.89            NaN   \n1            False          NaN               4.89            NaN   \n2            False          NaN              17.99          17.99   \n3            False          NaN               2.99           2.99   \n4            False          NaN               4.89            NaN   \n\n   MultiBuyQuantity PromoBadgeImageLabel  \n0               NaN                  NaN  \n1               NaN                  NaN  \n2               1.0                Saver  \n3               1.0                Saver  \n4               NaN                  NaN  ",
      "text/html": "<div>\n<style scoped>\n    .dataframe tbody tr th:only-of-type {\n        vertical-align: middle;\n    }\n\n    .dataframe tbody tr th {\n        vertical-align: top;\n    }\n\n    .dataframe thead th {\n        text-align: right;\n    }\n</style>\n<table border=\"1\" class=\"dataframe\">\n  <thead>\n    <tr style=\"text-align: right;\">\n      <th></th>\n      <th>ProductName</th>\n      <th>level_1</th>\n      <th>level_2</th>\n      <th>level_3</th>\n      <th>PricePerItem</th>\n      <th>PriceMode</th>\n      <th>HasMultiBuyDeal</th>\n      <th>MultiBuyDeal</th>\n      <th>MultiBuyBasePrice</th>\n      <th>MultiBuyPrice</th>\n      <th>MultiBuyQuantity</th>\n      <th>PromoBadgeImageLabel</th>\n    </tr>\n  </thead>\n  <tbody>\n    <tr>\n      <th>0</th>\n      <td>Johnson's Baby Lotion</td>\n      <td>Baby, Toddler &amp; Kids</td>\n      <td>Baby Care</td>\n      <td>Baby Bathing &amp; Skin Care</td>\n      <td>4.89</td>\n      <td>ea</td>\n      <td>False</td>\n      <td>NaN</td>\n      <td>4.89</td>\n      <td>NaN</td>\n      <td>NaN</td>\n      <td>NaN</td>\n    </tr>\n    <tr>\n      <th>1</th>\n      <td>Johnson's Baby Oil</td>\n      <td>Baby, Toddler &amp; Kids</td>\n      <td>Baby Care</td>\n      <td>Baby Bathing &amp; Skin Care</td>\n      <td>4.89</td>\n      <td>ea</td>\n      <td>False</td>\n      <td>NaN</td>\n      <td>4.89</td>\n      <td>NaN</td>\n      <td>NaN</td>\n      <td>NaN</td>\n    </tr>\n    <tr>\n      <th>2</th>\n      <td>SMA Balanced Nutrition From Birth Infant Formula</td>\n      <td>Baby, Toddler &amp; Kids</td>\n      <td>Baby Care</td>\n      <td>Baby Formula &amp; Toddler Food</td>\n      <td>17.99</td>\n      <td>ea</td>\n      <td>False</td>\n      <td>NaN</td>\n      <td>17.99</td>\n      <td>17.99</td>\n      <td>1.0</td>\n      <td>Saver</td>\n    </tr>\n    <tr>\n      <th>3</th>\n      <td>Johnson's Baby Powder</td>\n      <td>Baby, Toddler &amp; Kids</td>\n      <td>Baby Care</td>\n      <td>Nappies &amp; Changing</td>\n      <td>2.99</td>\n      <td>ea</td>\n      <td>False</td>\n      <td>NaN</td>\n      <td>2.99</td>\n      <td>2.99</td>\n      <td>1.0</td>\n      <td>Saver</td>\n    </tr>\n    <tr>\n      <th>4</th>\n      <td>Johnson's Baby Powder</td>\n      <td>Baby, Toddler &amp; Kids</td>\n      <td>Baby Care</td>\n      <td>Nappies &amp; Changing</td>\n      <td>4.89</td>\n      <td>ea</td>\n      <td>False</td>\n      <td>NaN</td>\n      <td>4.89</td>\n      <td>NaN</td>\n      <td>NaN</td>\n      <td>NaN</td>\n    </tr>\n  </tbody>\n</table>\n</div>"
     },
     "execution_count": 2,
     "metadata": {},
     "output_type": "execute_result"
    }
   ],
   "source": [
    "from sklearn.model_selection import train_test_split\n",
    "\n",
    "columns = [\"ProductName\", \"level_1\", \"level_2\", \"level_3\", \"PricePerItem\", \"PriceMode\", \"HasMultiBuyDeal\",\n",
    "           \"MultiBuyDeal\", \"MultiBuyBasePrice\", \"MultiBuyPrice\", \"MultiBuyQuantity\", \"PromoBadgeImageLabel\"]\n",
    "df = pd.read_csv(\"data.csv\", usecols=columns)\n",
    "df.drop_duplicates(inplace=True)\n",
    "df.head(5)"
   ],
   "metadata": {
    "collapsed": false,
    "pycharm": {
     "name": "#%%\n"
    }
   }
  },
  {
   "cell_type": "code",
   "execution_count": 3,
   "outputs": [
    {
     "data": {
      "text/plain": "                                        ProductName               level_1  \\\n0                              johnsons baby lotion  Baby, Toddler & Kids   \n1                                 johnsons baby oil  Baby, Toddler & Kids   \n2  sma balanced nutrition from birth infant formula  Baby, Toddler & Kids   \n3                              johnsons baby powder  Baby, Toddler & Kids   \n4                              johnsons baby powder  Baby, Toddler & Kids   \n\n     level_2                      level_3  PricePerItem PriceMode  \\\n0  Baby Care     Baby Bathing & Skin Care          4.89        ea   \n1  Baby Care     Baby Bathing & Skin Care          4.89        ea   \n2  Baby Care  Baby Formula & Toddler Food         17.99        ea   \n3  Baby Care           Nappies & Changing          2.99        ea   \n4  Baby Care           Nappies & Changing          4.89        ea   \n\n   HasMultiBuyDeal MultiBuyDeal  MultiBuyBasePrice  MultiBuyPrice  \\\n0            False          NaN               4.89            NaN   \n1            False          NaN               4.89            NaN   \n2            False          NaN              17.99          17.99   \n3            False          NaN               2.99           2.99   \n4            False          NaN               4.89            NaN   \n\n   MultiBuyQuantity PromoBadgeImageLabel  \n0               NaN                  NaN  \n1               NaN                  NaN  \n2               1.0                Saver  \n3               1.0                Saver  \n4               NaN                  NaN  ",
      "text/html": "<div>\n<style scoped>\n    .dataframe tbody tr th:only-of-type {\n        vertical-align: middle;\n    }\n\n    .dataframe tbody tr th {\n        vertical-align: top;\n    }\n\n    .dataframe thead th {\n        text-align: right;\n    }\n</style>\n<table border=\"1\" class=\"dataframe\">\n  <thead>\n    <tr style=\"text-align: right;\">\n      <th></th>\n      <th>ProductName</th>\n      <th>level_1</th>\n      <th>level_2</th>\n      <th>level_3</th>\n      <th>PricePerItem</th>\n      <th>PriceMode</th>\n      <th>HasMultiBuyDeal</th>\n      <th>MultiBuyDeal</th>\n      <th>MultiBuyBasePrice</th>\n      <th>MultiBuyPrice</th>\n      <th>MultiBuyQuantity</th>\n      <th>PromoBadgeImageLabel</th>\n    </tr>\n  </thead>\n  <tbody>\n    <tr>\n      <th>0</th>\n      <td>johnsons baby lotion</td>\n      <td>Baby, Toddler &amp; Kids</td>\n      <td>Baby Care</td>\n      <td>Baby Bathing &amp; Skin Care</td>\n      <td>4.89</td>\n      <td>ea</td>\n      <td>False</td>\n      <td>NaN</td>\n      <td>4.89</td>\n      <td>NaN</td>\n      <td>NaN</td>\n      <td>NaN</td>\n    </tr>\n    <tr>\n      <th>1</th>\n      <td>johnsons baby oil</td>\n      <td>Baby, Toddler &amp; Kids</td>\n      <td>Baby Care</td>\n      <td>Baby Bathing &amp; Skin Care</td>\n      <td>4.89</td>\n      <td>ea</td>\n      <td>False</td>\n      <td>NaN</td>\n      <td>4.89</td>\n      <td>NaN</td>\n      <td>NaN</td>\n      <td>NaN</td>\n    </tr>\n    <tr>\n      <th>2</th>\n      <td>sma balanced nutrition from birth infant formula</td>\n      <td>Baby, Toddler &amp; Kids</td>\n      <td>Baby Care</td>\n      <td>Baby Formula &amp; Toddler Food</td>\n      <td>17.99</td>\n      <td>ea</td>\n      <td>False</td>\n      <td>NaN</td>\n      <td>17.99</td>\n      <td>17.99</td>\n      <td>1.0</td>\n      <td>Saver</td>\n    </tr>\n    <tr>\n      <th>3</th>\n      <td>johnsons baby powder</td>\n      <td>Baby, Toddler &amp; Kids</td>\n      <td>Baby Care</td>\n      <td>Nappies &amp; Changing</td>\n      <td>2.99</td>\n      <td>ea</td>\n      <td>False</td>\n      <td>NaN</td>\n      <td>2.99</td>\n      <td>2.99</td>\n      <td>1.0</td>\n      <td>Saver</td>\n    </tr>\n    <tr>\n      <th>4</th>\n      <td>johnsons baby powder</td>\n      <td>Baby, Toddler &amp; Kids</td>\n      <td>Baby Care</td>\n      <td>Nappies &amp; Changing</td>\n      <td>4.89</td>\n      <td>ea</td>\n      <td>False</td>\n      <td>NaN</td>\n      <td>4.89</td>\n      <td>NaN</td>\n      <td>NaN</td>\n      <td>NaN</td>\n    </tr>\n  </tbody>\n</table>\n</div>"
     },
     "execution_count": 3,
     "metadata": {},
     "output_type": "execute_result"
    }
   ],
   "source": [
    "punctuations = re.compile(r'[^a-zA-Z\\s]+')\n",
    "df[\"ProductName\"] = [\" \".join(punctuations.sub('', x).lower().split()) for x in df[\"ProductName\"].tolist()]\n",
    "df.head(5)"
   ],
   "metadata": {
    "collapsed": false,
    "pycharm": {
     "name": "#%%\n"
    }
   }
  },
  {
   "cell_type": "code",
   "execution_count": 4,
   "outputs": [
    {
     "data": {
      "text/plain": "                                        ProductName               level_1  \\\n0                              johnsons baby lotion  Baby, Toddler & Kids   \n1                                 johnsons baby oil  Baby, Toddler & Kids   \n2  sma balanced nutrition from birth infant formula  Baby, Toddler & Kids   \n3                              johnsons baby powder  Baby, Toddler & Kids   \n4                              johnsons baby powder  Baby, Toddler & Kids   \n\n     level_2                      level_3  PricePerItem PriceMode  \\\n0  Baby Care     Baby Bathing & Skin Care          4.89        ea   \n1  Baby Care     Baby Bathing & Skin Care          4.89        ea   \n2  Baby Care  Baby Formula & Toddler Food         17.99        ea   \n3  Baby Care           Nappies & Changing          2.99        ea   \n4  Baby Care           Nappies & Changing          4.89        ea   \n\n   HasMultiBuyDeal MultiBuyDeal  MultiBuyBasePrice  MultiBuyPrice  \\\n0            False                            4.89            NaN   \n1            False                            4.89            NaN   \n2            False                           17.99          17.99   \n3            False                            2.99           2.99   \n4            False                            4.89            NaN   \n\n   MultiBuyQuantity PromoBadgeImageLabel  \n0               NaN                  NaN  \n1               NaN                  NaN  \n2               1.0                Saver  \n3               1.0                Saver  \n4               NaN                  NaN  ",
      "text/html": "<div>\n<style scoped>\n    .dataframe tbody tr th:only-of-type {\n        vertical-align: middle;\n    }\n\n    .dataframe tbody tr th {\n        vertical-align: top;\n    }\n\n    .dataframe thead th {\n        text-align: right;\n    }\n</style>\n<table border=\"1\" class=\"dataframe\">\n  <thead>\n    <tr style=\"text-align: right;\">\n      <th></th>\n      <th>ProductName</th>\n      <th>level_1</th>\n      <th>level_2</th>\n      <th>level_3</th>\n      <th>PricePerItem</th>\n      <th>PriceMode</th>\n      <th>HasMultiBuyDeal</th>\n      <th>MultiBuyDeal</th>\n      <th>MultiBuyBasePrice</th>\n      <th>MultiBuyPrice</th>\n      <th>MultiBuyQuantity</th>\n      <th>PromoBadgeImageLabel</th>\n    </tr>\n  </thead>\n  <tbody>\n    <tr>\n      <th>0</th>\n      <td>johnsons baby lotion</td>\n      <td>Baby, Toddler &amp; Kids</td>\n      <td>Baby Care</td>\n      <td>Baby Bathing &amp; Skin Care</td>\n      <td>4.89</td>\n      <td>ea</td>\n      <td>False</td>\n      <td></td>\n      <td>4.89</td>\n      <td>NaN</td>\n      <td>NaN</td>\n      <td>NaN</td>\n    </tr>\n    <tr>\n      <th>1</th>\n      <td>johnsons baby oil</td>\n      <td>Baby, Toddler &amp; Kids</td>\n      <td>Baby Care</td>\n      <td>Baby Bathing &amp; Skin Care</td>\n      <td>4.89</td>\n      <td>ea</td>\n      <td>False</td>\n      <td></td>\n      <td>4.89</td>\n      <td>NaN</td>\n      <td>NaN</td>\n      <td>NaN</td>\n    </tr>\n    <tr>\n      <th>2</th>\n      <td>sma balanced nutrition from birth infant formula</td>\n      <td>Baby, Toddler &amp; Kids</td>\n      <td>Baby Care</td>\n      <td>Baby Formula &amp; Toddler Food</td>\n      <td>17.99</td>\n      <td>ea</td>\n      <td>False</td>\n      <td></td>\n      <td>17.99</td>\n      <td>17.99</td>\n      <td>1.0</td>\n      <td>Saver</td>\n    </tr>\n    <tr>\n      <th>3</th>\n      <td>johnsons baby powder</td>\n      <td>Baby, Toddler &amp; Kids</td>\n      <td>Baby Care</td>\n      <td>Nappies &amp; Changing</td>\n      <td>2.99</td>\n      <td>ea</td>\n      <td>False</td>\n      <td></td>\n      <td>2.99</td>\n      <td>2.99</td>\n      <td>1.0</td>\n      <td>Saver</td>\n    </tr>\n    <tr>\n      <th>4</th>\n      <td>johnsons baby powder</td>\n      <td>Baby, Toddler &amp; Kids</td>\n      <td>Baby Care</td>\n      <td>Nappies &amp; Changing</td>\n      <td>4.89</td>\n      <td>ea</td>\n      <td>False</td>\n      <td></td>\n      <td>4.89</td>\n      <td>NaN</td>\n      <td>NaN</td>\n      <td>NaN</td>\n    </tr>\n  </tbody>\n</table>\n</div>"
     },
     "execution_count": 4,
     "metadata": {},
     "output_type": "execute_result"
    }
   ],
   "source": [
    "df[\"MultiBuyDeal\"] = [\" \".join(punctuations.sub('', y).lower().split()) if y == y else \" \" for y in\n",
    "                      df[\"MultiBuyDeal\"].tolist()]\n",
    "df.head(5)"
   ],
   "metadata": {
    "collapsed": false,
    "pycharm": {
     "name": "#%%\n"
    }
   }
  },
  {
   "cell_type": "code",
   "execution_count": 5,
   "outputs": [
    {
     "data": {
      "text/plain": "                                        ProductName               level_1  \\\n0                              johnsons baby lotion  Baby, Toddler & Kids   \n1                                 johnsons baby oil  Baby, Toddler & Kids   \n2  sma balanced nutrition from birth infant formula  Baby, Toddler & Kids   \n3                              johnsons baby powder  Baby, Toddler & Kids   \n4                              johnsons baby powder  Baby, Toddler & Kids   \n\n     level_2                      level_3  PricePerItem PriceMode  \\\n0  Baby Care     Baby Bathing & Skin Care          4.89        ea   \n1  Baby Care     Baby Bathing & Skin Care          4.89        ea   \n2  Baby Care  Baby Formula & Toddler Food         17.99        ea   \n3  Baby Care           Nappies & Changing          2.99        ea   \n4  Baby Care           Nappies & Changing          4.89        ea   \n\n   HasMultiBuyDeal MultiBuyDeal  MultiBuyBasePrice  MultiBuyPrice  \\\n0            False                            4.89            NaN   \n1            False                            4.89            NaN   \n2            False                           17.99          17.99   \n3            False                            2.99           2.99   \n4            False                            4.89            NaN   \n\n   MultiBuyQuantity PromoBadgeImageLabel  \n0               NaN                       \n1               NaN                       \n2               1.0                saver  \n3               1.0                saver  \n4               NaN                       ",
      "text/html": "<div>\n<style scoped>\n    .dataframe tbody tr th:only-of-type {\n        vertical-align: middle;\n    }\n\n    .dataframe tbody tr th {\n        vertical-align: top;\n    }\n\n    .dataframe thead th {\n        text-align: right;\n    }\n</style>\n<table border=\"1\" class=\"dataframe\">\n  <thead>\n    <tr style=\"text-align: right;\">\n      <th></th>\n      <th>ProductName</th>\n      <th>level_1</th>\n      <th>level_2</th>\n      <th>level_3</th>\n      <th>PricePerItem</th>\n      <th>PriceMode</th>\n      <th>HasMultiBuyDeal</th>\n      <th>MultiBuyDeal</th>\n      <th>MultiBuyBasePrice</th>\n      <th>MultiBuyPrice</th>\n      <th>MultiBuyQuantity</th>\n      <th>PromoBadgeImageLabel</th>\n    </tr>\n  </thead>\n  <tbody>\n    <tr>\n      <th>0</th>\n      <td>johnsons baby lotion</td>\n      <td>Baby, Toddler &amp; Kids</td>\n      <td>Baby Care</td>\n      <td>Baby Bathing &amp; Skin Care</td>\n      <td>4.89</td>\n      <td>ea</td>\n      <td>False</td>\n      <td></td>\n      <td>4.89</td>\n      <td>NaN</td>\n      <td>NaN</td>\n      <td></td>\n    </tr>\n    <tr>\n      <th>1</th>\n      <td>johnsons baby oil</td>\n      <td>Baby, Toddler &amp; Kids</td>\n      <td>Baby Care</td>\n      <td>Baby Bathing &amp; Skin Care</td>\n      <td>4.89</td>\n      <td>ea</td>\n      <td>False</td>\n      <td></td>\n      <td>4.89</td>\n      <td>NaN</td>\n      <td>NaN</td>\n      <td></td>\n    </tr>\n    <tr>\n      <th>2</th>\n      <td>sma balanced nutrition from birth infant formula</td>\n      <td>Baby, Toddler &amp; Kids</td>\n      <td>Baby Care</td>\n      <td>Baby Formula &amp; Toddler Food</td>\n      <td>17.99</td>\n      <td>ea</td>\n      <td>False</td>\n      <td></td>\n      <td>17.99</td>\n      <td>17.99</td>\n      <td>1.0</td>\n      <td>saver</td>\n    </tr>\n    <tr>\n      <th>3</th>\n      <td>johnsons baby powder</td>\n      <td>Baby, Toddler &amp; Kids</td>\n      <td>Baby Care</td>\n      <td>Nappies &amp; Changing</td>\n      <td>2.99</td>\n      <td>ea</td>\n      <td>False</td>\n      <td></td>\n      <td>2.99</td>\n      <td>2.99</td>\n      <td>1.0</td>\n      <td>saver</td>\n    </tr>\n    <tr>\n      <th>4</th>\n      <td>johnsons baby powder</td>\n      <td>Baby, Toddler &amp; Kids</td>\n      <td>Baby Care</td>\n      <td>Nappies &amp; Changing</td>\n      <td>4.89</td>\n      <td>ea</td>\n      <td>False</td>\n      <td></td>\n      <td>4.89</td>\n      <td>NaN</td>\n      <td>NaN</td>\n      <td></td>\n    </tr>\n  </tbody>\n</table>\n</div>"
     },
     "execution_count": 5,
     "metadata": {},
     "output_type": "execute_result"
    }
   ],
   "source": [
    "df[\"PromoBadgeImageLabel\"] = [\" \".join(punctuations.sub('', z).lower().split()) if z == z else \" \" for z in\n",
    "                              df[\"PromoBadgeImageLabel\"].tolist()]\n",
    "df.head(5)"
   ],
   "metadata": {
    "collapsed": false,
    "pycharm": {
     "name": "#%%\n"
    }
   }
  },
  {
   "cell_type": "code",
   "execution_count": 6,
   "outputs": [
    {
     "data": {
      "text/plain": "                                        ProductName               level_1  \\\n0                              johnsons baby lotion  Baby, Toddler & Kids   \n1                                 johnsons baby oil  Baby, Toddler & Kids   \n2  sma balanced nutrition from birth infant formula  Baby, Toddler & Kids   \n3                              johnsons baby powder  Baby, Toddler & Kids   \n4                              johnsons baby powder  Baby, Toddler & Kids   \n\n     level_2                      level_3  PricePerItem PriceMode  \\\n0  Baby Care     Baby Bathing & Skin Care          4.89        ea   \n1  Baby Care     Baby Bathing & Skin Care          4.89        ea   \n2  Baby Care  Baby Formula & Toddler Food         17.99        ea   \n3  Baby Care           Nappies & Changing          2.99        ea   \n4  Baby Care           Nappies & Changing          4.89        ea   \n\n   HasMultiBuyDeal MultiBuyDeal  MultiBuyBasePrice  MultiBuyPrice  \\\n0            False                            4.89           0.00   \n1            False                            4.89           0.00   \n2            False                           17.99          17.99   \n3            False                            2.99           2.99   \n4            False                            4.89           0.00   \n\n   MultiBuyQuantity PromoBadgeImageLabel  \n0               0.0                       \n1               0.0                       \n2               1.0                saver  \n3               1.0                saver  \n4               0.0                       ",
      "text/html": "<div>\n<style scoped>\n    .dataframe tbody tr th:only-of-type {\n        vertical-align: middle;\n    }\n\n    .dataframe tbody tr th {\n        vertical-align: top;\n    }\n\n    .dataframe thead th {\n        text-align: right;\n    }\n</style>\n<table border=\"1\" class=\"dataframe\">\n  <thead>\n    <tr style=\"text-align: right;\">\n      <th></th>\n      <th>ProductName</th>\n      <th>level_1</th>\n      <th>level_2</th>\n      <th>level_3</th>\n      <th>PricePerItem</th>\n      <th>PriceMode</th>\n      <th>HasMultiBuyDeal</th>\n      <th>MultiBuyDeal</th>\n      <th>MultiBuyBasePrice</th>\n      <th>MultiBuyPrice</th>\n      <th>MultiBuyQuantity</th>\n      <th>PromoBadgeImageLabel</th>\n    </tr>\n  </thead>\n  <tbody>\n    <tr>\n      <th>0</th>\n      <td>johnsons baby lotion</td>\n      <td>Baby, Toddler &amp; Kids</td>\n      <td>Baby Care</td>\n      <td>Baby Bathing &amp; Skin Care</td>\n      <td>4.89</td>\n      <td>ea</td>\n      <td>False</td>\n      <td></td>\n      <td>4.89</td>\n      <td>0.00</td>\n      <td>0.0</td>\n      <td></td>\n    </tr>\n    <tr>\n      <th>1</th>\n      <td>johnsons baby oil</td>\n      <td>Baby, Toddler &amp; Kids</td>\n      <td>Baby Care</td>\n      <td>Baby Bathing &amp; Skin Care</td>\n      <td>4.89</td>\n      <td>ea</td>\n      <td>False</td>\n      <td></td>\n      <td>4.89</td>\n      <td>0.00</td>\n      <td>0.0</td>\n      <td></td>\n    </tr>\n    <tr>\n      <th>2</th>\n      <td>sma balanced nutrition from birth infant formula</td>\n      <td>Baby, Toddler &amp; Kids</td>\n      <td>Baby Care</td>\n      <td>Baby Formula &amp; Toddler Food</td>\n      <td>17.99</td>\n      <td>ea</td>\n      <td>False</td>\n      <td></td>\n      <td>17.99</td>\n      <td>17.99</td>\n      <td>1.0</td>\n      <td>saver</td>\n    </tr>\n    <tr>\n      <th>3</th>\n      <td>johnsons baby powder</td>\n      <td>Baby, Toddler &amp; Kids</td>\n      <td>Baby Care</td>\n      <td>Nappies &amp; Changing</td>\n      <td>2.99</td>\n      <td>ea</td>\n      <td>False</td>\n      <td></td>\n      <td>2.99</td>\n      <td>2.99</td>\n      <td>1.0</td>\n      <td>saver</td>\n    </tr>\n    <tr>\n      <th>4</th>\n      <td>johnsons baby powder</td>\n      <td>Baby, Toddler &amp; Kids</td>\n      <td>Baby Care</td>\n      <td>Nappies &amp; Changing</td>\n      <td>4.89</td>\n      <td>ea</td>\n      <td>False</td>\n      <td></td>\n      <td>4.89</td>\n      <td>0.00</td>\n      <td>0.0</td>\n      <td></td>\n    </tr>\n  </tbody>\n</table>\n</div>"
     },
     "execution_count": 6,
     "metadata": {},
     "output_type": "execute_result"
    }
   ],
   "source": [
    "df[\"MultiBuyPrice\"].fillna(0, inplace=True)\n",
    "df[\"MultiBuyQuantity\"].fillna(0, inplace=True)\n",
    "df.head(5)"
   ],
   "metadata": {
    "collapsed": false,
    "pycharm": {
     "name": "#%%\n"
    }
   }
  },
  {
   "cell_type": "code",
   "execution_count": 7,
   "outputs": [
    {
     "data": {
      "text/plain": "<BarContainer object of 449 artists>"
     },
     "execution_count": 7,
     "metadata": {},
     "output_type": "execute_result"
    },
    {
     "data": {
      "text/plain": "<Figure size 432x288 with 1 Axes>",
      "image/png": "[encoded data removed]"
     },
     "metadata": {
      "needs_background": "light"
     },
     "output_type": "display_data"
    }
   ],
   "source": [
    "typesa = df.value_counts(columns[1:4])\n",
    "plot.bar([a for a in range(typesa.size)], typesa)"
   ],
   "metadata": {
    "collapsed": false,
    "pycharm": {
     "name": "#%%\n"
    }
   }
  },
  {
   "cell_type": "code",
   "execution_count": 8,
   "outputs": [
    {
     "data": {
      "text/plain": "<BarContainer object of 43 artists>"
     },
     "execution_count": 8,
     "metadata": {},
     "output_type": "execute_result"
    },
    {
     "data": {
      "text/plain": "<Figure size 432x288 with 1 Axes>",
      "image/png": "[encoded data removed]"
     },
     "metadata": {
      "needs_background": "light"
     },
     "output_type": "display_data"
    }
   ],
   "source": [
    "typesb = df.value_counts(columns[1:3])\n",
    "plot.bar([a for a in range(typesb.size)], typesb)"
   ],
   "metadata": {
    "collapsed": false,
    "pycharm": {
     "name": "#%%\n"
    }
   }
  },
  {
   "cell_type": "code",
   "execution_count": 9,
   "outputs": [
    {
     "data": {
      "text/plain": "level_1                    \nPantry                         4740\nPersonal Care                  1778\nFresh Foods & Bakery           1721\nChilled, Frozen & Desserts     1426\nBeer, Cider & Wine             1232\nKitchen, Dining & Household    1182\nDrinks                         1063\nPets                            512\nMeal Spot                       456\nBaby, Toddler & Kids            354\nFeatured                        121\ndtype: int64"
     },
     "execution_count": 9,
     "metadata": {},
     "output_type": "execute_result"
    }
   ],
   "source": [
    "typesc = df.value_counts(columns[1:2])\n",
    "typesc"
   ],
   "metadata": {
    "collapsed": false,
    "pycharm": {
     "name": "#%%\n"
    }
   }
  },
  {
   "cell_type": "code",
   "execution_count": 10,
   "outputs": [
    {
     "data": {
      "text/plain": "                                        ProductName               level_1  \\\n0                              johnsons baby lotion  Baby, Toddler & Kids   \n1                                 johnsons baby oil  Baby, Toddler & Kids   \n2  sma balanced nutrition from birth infant formula  Baby, Toddler & Kids   \n3                              johnsons baby powder  Baby, Toddler & Kids   \n4                              johnsons baby powder  Baby, Toddler & Kids   \n\n     level_2                      level_3  PricePerItem PriceMode  \\\n0  Baby Care     Baby Bathing & Skin Care          4.89        ea   \n1  Baby Care     Baby Bathing & Skin Care          4.89        ea   \n2  Baby Care  Baby Formula & Toddler Food         17.99        ea   \n3  Baby Care           Nappies & Changing          2.99        ea   \n4  Baby Care           Nappies & Changing          4.89        ea   \n\n   HasMultiBuyDeal MultiBuyDeal  MultiBuyBasePrice  MultiBuyPrice  \\\n0            False                            4.89           0.00   \n1            False                            4.89           0.00   \n2            False                           17.99          17.99   \n3            False                            2.99           2.99   \n4            False                            4.89           0.00   \n\n   MultiBuyQuantity PromoBadgeImageLabel  \n0               0.0                       \n1               0.0                       \n2               1.0                saver  \n3               1.0                saver  \n4               0.0                       ",
      "text/html": "<div>\n<style scoped>\n    .dataframe tbody tr th:only-of-type {\n        vertical-align: middle;\n    }\n\n    .dataframe tbody tr th {\n        vertical-align: top;\n    }\n\n    .dataframe thead th {\n        text-align: right;\n    }\n</style>\n<table border=\"1\" class=\"dataframe\">\n  <thead>\n    <tr style=\"text-align: right;\">\n      <th></th>\n      <th>ProductName</th>\n      <th>level_1</th>\n      <th>level_2</th>\n      <th>level_3</th>\n      <th>PricePerItem</th>\n      <th>PriceMode</th>\n      <th>HasMultiBuyDeal</th>\n      <th>MultiBuyDeal</th>\n      <th>MultiBuyBasePrice</th>\n      <th>MultiBuyPrice</th>\n      <th>MultiBuyQuantity</th>\n      <th>PromoBadgeImageLabel</th>\n    </tr>\n  </thead>\n  <tbody>\n    <tr>\n      <th>0</th>\n      <td>johnsons baby lotion</td>\n      <td>Baby, Toddler &amp; Kids</td>\n      <td>Baby Care</td>\n      <td>Baby Bathing &amp; Skin Care</td>\n      <td>4.89</td>\n      <td>ea</td>\n      <td>False</td>\n      <td></td>\n      <td>4.89</td>\n      <td>0.00</td>\n      <td>0.0</td>\n      <td></td>\n    </tr>\n    <tr>\n      <th>1</th>\n      <td>johnsons baby oil</td>\n      <td>Baby, Toddler &amp; Kids</td>\n      <td>Baby Care</td>\n      <td>Baby Bathing &amp; Skin Care</td>\n      <td>4.89</td>\n      <td>ea</td>\n      <td>False</td>\n      <td></td>\n      <td>4.89</td>\n      <td>0.00</td>\n      <td>0.0</td>\n      <td></td>\n    </tr>\n    <tr>\n      <th>2</th>\n      <td>sma balanced nutrition from birth infant formula</td>\n      <td>Baby, Toddler &amp; Kids</td>\n      <td>Baby Care</td>\n      <td>Baby Formula &amp; Toddler Food</td>\n      <td>17.99</td>\n      <td>ea</td>\n      <td>False</td>\n      <td></td>\n      <td>17.99</td>\n      <td>17.99</td>\n      <td>1.0</td>\n      <td>saver</td>\n    </tr>\n    <tr>\n      <th>3</th>\n      <td>johnsons baby powder</td>\n      <td>Baby, Toddler &amp; Kids</td>\n      <td>Baby Care</td>\n      <td>Nappies &amp; Changing</td>\n      <td>2.99</td>\n      <td>ea</td>\n      <td>False</td>\n      <td></td>\n      <td>2.99</td>\n      <td>2.99</td>\n      <td>1.0</td>\n      <td>saver</td>\n    </tr>\n    <tr>\n      <th>4</th>\n      <td>johnsons baby powder</td>\n      <td>Baby, Toddler &amp; Kids</td>\n      <td>Baby Care</td>\n      <td>Nappies &amp; Changing</td>\n      <td>4.89</td>\n      <td>ea</td>\n      <td>False</td>\n      <td></td>\n      <td>4.89</td>\n      <td>0.00</td>\n      <td>0.0</td>\n      <td></td>\n    </tr>\n  </tbody>\n</table>\n</div>"
     },
     "execution_count": 10,
     "metadata": {},
     "output_type": "execute_result"
    }
   ],
   "source": [
    "df = df[df[\"level_1\"] != \"Featured\"]\n",
    "df.head(5)"
   ],
   "metadata": {
    "collapsed": false,
    "pycharm": {
     "name": "#%%\n"
    }
   }
  },
  {
   "cell_type": "code",
   "execution_count": 11,
   "outputs": [
    {
     "data": {
      "text/plain": "(array([1.974e+03, 4.555e+03, 3.223e+03, 1.367e+03, 9.790e+02, 5.380e+02,\n        5.470e+02, 1.890e+02, 2.290e+02, 1.670e+02, 1.250e+02, 7.600e+01,\n        2.800e+01, 2.000e+01, 2.800e+01, 1.200e+01, 2.200e+01, 6.000e+00,\n        1.200e+01, 1.000e+00, 1.200e+01, 0.000e+00, 2.000e+00, 0.000e+00,\n        1.000e+00, 0.000e+00, 0.000e+00, 0.000e+00, 2.000e+00, 0.000e+00,\n        1.000e+00, 0.000e+00, 0.000e+00, 2.000e+00, 0.000e+00, 1.000e+00,\n        0.000e+00, 1.000e+00, 0.000e+00, 1.000e+00, 0.000e+00, 2.000e+00,\n        0.000e+00, 0.000e+00, 0.000e+00, 0.000e+00, 0.000e+00, 0.000e+00,\n        0.000e+00, 1.000e+00]),\n array([  0.15  ,   2.5668,   4.9836,   7.4004,   9.8172,  12.234 ,\n         14.6508,  17.0676,  19.4844,  21.9012,  24.318 ,  26.7348,\n         29.1516,  31.5684,  33.9852,  36.402 ,  38.8188,  41.2356,\n         43.6524,  46.0692,  48.486 ,  50.9028,  53.3196,  55.7364,\n         58.1532,  60.57  ,  62.9868,  65.4036,  67.8204,  70.2372,\n         72.654 ,  75.0708,  77.4876,  79.9044,  82.3212,  84.738 ,\n         87.1548,  89.5716,  91.9884,  94.4052,  96.822 ,  99.2388,\n        101.6556, 104.0724, 106.4892, 108.906 , 111.3228, 113.7396,\n        116.1564, 118.5732, 120.99  ]),\n <BarContainer object of 50 artists>)"
     },
     "execution_count": 11,
     "metadata": {},
     "output_type": "execute_result"
    },
    {
     "data": {
      "text/plain": "<Figure size 432x288 with 1 Axes>",
      "image/png": "[encoded data removed]"
     },
     "metadata": {
      "needs_background": "light"
     },
     "output_type": "display_data"
    }
   ],
   "source": [
    "dfea = df[df[\"PriceMode\"] == \"ea\"]\n",
    "plot.hist(dfea[\"PricePerItem\"].tolist(), bins=50)"
   ],
   "metadata": {
    "collapsed": false,
    "pycharm": {
     "name": "#%%\n"
    }
   }
  },
  {
   "cell_type": "code",
   "execution_count": 12,
   "outputs": [
    {
     "data": {
      "text/plain": "(array([13., 21., 25., 13., 22., 30., 33.,  9., 41., 19., 45., 11.,  9.,\n        14.,  9.,  1.,  3.,  3.,  7.,  2.,  2.,  1.,  0.,  1.,  0.,  0.,\n         1.,  0.,  0.,  0.,  1.,  2.,  0.,  0.,  0.,  0.,  0.,  0.,  1.,\n         0.,  0.,  0.,  0.,  0.,  0.,  0.,  0.,  0.,  0.,  1.]),\n array([  2.29  ,   4.8422,   7.3944,   9.9466,  12.4988,  15.051 ,\n         17.6032,  20.1554,  22.7076,  25.2598,  27.812 ,  30.3642,\n         32.9164,  35.4686,  38.0208,  40.573 ,  43.1252,  45.6774,\n         48.2296,  50.7818,  53.334 ,  55.8862,  58.4384,  60.9906,\n         63.5428,  66.095 ,  68.6472,  71.1994,  73.7516,  76.3038,\n         78.856 ,  81.4082,  83.9604,  86.5126,  89.0648,  91.617 ,\n         94.1692,  96.7214,  99.2736, 101.8258, 104.378 , 106.9302,\n        109.4824, 112.0346, 114.5868, 117.139 , 119.6912, 122.2434,\n        124.7956, 127.3478, 129.9   ]),\n <BarContainer object of 50 artists>)"
     },
     "execution_count": 12,
     "metadata": {},
     "output_type": "execute_result"
    },
    {
     "data": {
      "text/plain": "<Figure size 432x288 with 1 Axes>",
      "image/png": "[encoded data removed]"
     },
     "metadata": {
      "needs_background": "light"
     },
     "output_type": "display_data"
    }
   ],
   "source": [
    "dfkg = df[df[\"PriceMode\"] == \"kg\"]\n",
    "plot.hist(dfkg[\"PricePerItem\"].tolist(), bins=50)"
   ],
   "metadata": {
    "collapsed": false,
    "pycharm": {
     "name": "#%%\n"
    }
   }
  },
  {
   "cell_type": "code",
   "execution_count": 13,
   "outputs": [
    {
     "data": {
      "text/plain": "                                        ProductName               level_1  \\\n0                              johnsons baby lotion  Baby, Toddler & Kids   \n1                                 johnsons baby oil  Baby, Toddler & Kids   \n2  sma balanced nutrition from birth infant formula  Baby, Toddler & Kids   \n3                              johnsons baby powder  Baby, Toddler & Kids   \n4                              johnsons baby powder  Baby, Toddler & Kids   \n\n     level_2                      level_3  PricePerItem PriceMode  \\\n0  Baby Care     Baby Bathing & Skin Care             5        ea   \n1  Baby Care     Baby Bathing & Skin Care             5        ea   \n2  Baby Care  Baby Formula & Toddler Food            20        ea   \n3  Baby Care           Nappies & Changing             5        ea   \n4  Baby Care           Nappies & Changing             5        ea   \n\n   HasMultiBuyDeal MultiBuyDeal  MultiBuyBasePrice  MultiBuyPrice  \\\n0            False                               5              0   \n1            False                               5              0   \n2            False                              20             20   \n3            False                               5              5   \n4            False                               5              0   \n\n   MultiBuyQuantity PromoBadgeImageLabel  \n0                 0                       \n1                 0                       \n2                 1                saver  \n3                 1                saver  \n4                 0                       ",
      "text/html": "<div>\n<style scoped>\n    .dataframe tbody tr th:only-of-type {\n        vertical-align: middle;\n    }\n\n    .dataframe tbody tr th {\n        vertical-align: top;\n    }\n\n    .dataframe thead th {\n        text-align: right;\n    }\n</style>\n<table border=\"1\" class=\"dataframe\">\n  <thead>\n    <tr style=\"text-align: right;\">\n      <th></th>\n      <th>ProductName</th>\n      <th>level_1</th>\n      <th>level_2</th>\n      <th>level_3</th>\n      <th>PricePerItem</th>\n      <th>PriceMode</th>\n      <th>HasMultiBuyDeal</th>\n      <th>MultiBuyDeal</th>\n      <th>MultiBuyBasePrice</th>\n      <th>MultiBuyPrice</th>\n      <th>MultiBuyQuantity</th>\n      <th>PromoBadgeImageLabel</th>\n    </tr>\n  </thead>\n  <tbody>\n    <tr>\n      <th>0</th>\n      <td>johnsons baby lotion</td>\n      <td>Baby, Toddler &amp; Kids</td>\n      <td>Baby Care</td>\n      <td>Baby Bathing &amp; Skin Care</td>\n      <td>5</td>\n      <td>ea</td>\n      <td>False</td>\n      <td></td>\n      <td>5</td>\n      <td>0</td>\n      <td>0</td>\n      <td></td>\n    </tr>\n    <tr>\n      <th>1</th>\n      <td>johnsons baby oil</td>\n      <td>Baby, Toddler &amp; Kids</td>\n      <td>Baby Care</td>\n      <td>Baby Bathing &amp; Skin Care</td>\n      <td>5</td>\n      <td>ea</td>\n      <td>False</td>\n      <td></td>\n      <td>5</td>\n      <td>0</td>\n      <td>0</td>\n      <td></td>\n    </tr>\n    <tr>\n      <th>2</th>\n      <td>sma balanced nutrition from birth infant formula</td>\n      <td>Baby, Toddler &amp; Kids</td>\n      <td>Baby Care</td>\n      <td>Baby Formula &amp; Toddler Food</td>\n      <td>20</td>\n      <td>ea</td>\n      <td>False</td>\n      <td></td>\n      <td>20</td>\n      <td>20</td>\n      <td>1</td>\n      <td>saver</td>\n    </tr>\n    <tr>\n      <th>3</th>\n      <td>johnsons baby powder</td>\n      <td>Baby, Toddler &amp; Kids</td>\n      <td>Baby Care</td>\n      <td>Nappies &amp; Changing</td>\n      <td>5</td>\n      <td>ea</td>\n      <td>False</td>\n      <td></td>\n      <td>5</td>\n      <td>5</td>\n      <td>1</td>\n      <td>saver</td>\n    </tr>\n    <tr>\n      <th>4</th>\n      <td>johnsons baby powder</td>\n      <td>Baby, Toddler &amp; Kids</td>\n      <td>Baby Care</td>\n      <td>Nappies &amp; Changing</td>\n      <td>5</td>\n      <td>ea</td>\n      <td>False</td>\n      <td></td>\n      <td>5</td>\n      <td>0</td>\n      <td>0</td>\n      <td></td>\n    </tr>\n  </tbody>\n</table>\n</div>"
     },
     "execution_count": 13,
     "metadata": {},
     "output_type": "execute_result"
    }
   ],
   "source": [
    "df[\"PricePerItem\"] = [round(p / 5) * 5 for p in df[\"PricePerItem\"].tolist()]\n",
    "df[\"MultiBuyPrice\"] = [round(p / 5) * 5 for p in df[\"MultiBuyPrice\"].tolist()]\n",
    "df[\"MultiBuyBasePrice\"] = [round(p / 5) * 5 for p in df[\"MultiBuyBasePrice\"].tolist()]\n",
    "df[\"MultiBuyQuantity\"] = [int(q) for q in df[\"MultiBuyQuantity\"].tolist()]\n",
    "df.head(5)"
   ],
   "metadata": {
    "collapsed": false,
    "pycharm": {
     "name": "#%%\n"
    }
   }
  },
  {
   "cell_type": "code",
   "execution_count": 14,
   "outputs": [
    {
     "data": {
      "text/plain": "<BarContainer object of 429 artists>"
     },
     "execution_count": 14,
     "metadata": {},
     "output_type": "execute_result"
    },
    {
     "data": {
      "text/plain": "<Figure size 432x288 with 1 Axes>",
      "image/png": "[encoded data removed]"
     },
     "metadata": {
      "needs_background": "light"
     },
     "output_type": "display_data"
    }
   ],
   "source": [
    "types = []\n",
    "countt = []\n",
    "countf = []\n",
    "levela = df[\"level_1\"].tolist()\n",
    "levelb = df[\"level_2\"].tolist()\n",
    "levelc = df[\"level_3\"].tolist()\n",
    "state = df[\"HasMultiBuyDeal\"].tolist()\n",
    "labels = [\";\".join([levela[i], levelb[i], levelc[i]]) for i in range(len(levela))]\n",
    "for i in range(len(labels)):\n",
    "    if labels[i] in types:\n",
    "        if state[i]:\n",
    "            countt[types.index(labels[i])] += 1\n",
    "        else:\n",
    "            countf[types.index(labels[i])] += 1\n",
    "    else:\n",
    "        types.append(labels[i])\n",
    "        countt.append(0)\n",
    "        countf.append(0)\n",
    "plot.bar([a for a in range(len(types))], countt)\n",
    "plot.bar([a for a in range(len(types))], countf, bottom=countt)"
   ],
   "metadata": {
    "collapsed": false,
    "pycharm": {
     "name": "#%%\n"
    }
   }
  },
  {
   "cell_type": "code",
   "execution_count": 15,
   "outputs": [
    {
     "data": {
      "text/plain": "<BarContainer object of 429 artists>"
     },
     "execution_count": 15,
     "metadata": {},
     "output_type": "execute_result"
    },
    {
     "data": {
      "text/plain": "<Figure size 432x288 with 1 Axes>",
      "image/png": "[encoded data removed]"
     },
     "metadata": {
      "needs_background": "light"
     },
     "output_type": "display_data"
    }
   ],
   "source": [
    "types = []\n",
    "countt = []\n",
    "countf = []\n",
    "levela = df[\"level_1\"].tolist()\n",
    "levelb = df[\"level_2\"].tolist()\n",
    "levelc = df[\"level_3\"].tolist()\n",
    "state = df[\"PromoBadgeImageLabel\"].tolist()\n",
    "labels = [\";\".join([levela[i], levelb[i], levelc[i]]) for i in range(len(levela))]\n",
    "for i in range(len(labels)):\n",
    "    if labels[i] in types:\n",
    "        if state[i]:\n",
    "            countt[types.index(labels[i])] += 1\n",
    "        else:\n",
    "            countf[types.index(labels[i])] += 1\n",
    "    else:\n",
    "        types.append(labels[i])\n",
    "        countt.append(0)\n",
    "        countf.append(0)\n",
    "plot.bar([a for a in range(len(types))], countt)\n",
    "plot.bar([a for a in range(len(types))], countf, bottom=countt)"
   ],
   "metadata": {
    "collapsed": false,
    "pycharm": {
     "name": "#%%\n"
    }
   }
  },
  {
   "cell_type": "code",
   "execution_count": 16,
   "outputs": [],
   "source": [
    "def evaluation(predictions, labels, id2label, model_name=None):\n",
    "    acc = accuracy_score(labels, predictions)\n",
    "    recall = recall_score(labels, predictions, average=\"macro\")\n",
    "    f1 = f1_score(labels, predictions, average=\"macro\")\n",
    "    report = classification_report(labels, predictions,\n",
    "                                   target_names=[id2label[i] for i in range(len(id2label))])\n",
    "    info = \"acc:%s, recall:%s, f1 score:%s\" % (acc, recall, f1)\n",
    "    if model_name is not None:\n",
    "        info = \"%s: %s\" % (model_name, info)\n",
    "    print(info)\n",
    "    print(report)"
   ],
   "metadata": {
    "collapsed": false,
    "pycharm": {
     "name": "#%%\n"
    }
   }
  },
  {
   "cell_type": "code",
   "execution_count": 17,
   "outputs": [
    {
     "name": "stdout",
     "output_type": "stream",
     "text": [
      "data len: 14464\n",
      "id2label {0: 'Pantry;Condiments & Dressings;Barbeque Sauces', 1: 'Drinks;Cold Drinks;Milk Drink Mixes', 2: 'Pantry;World Foods;USA', 3: 'Fresh Foods & Bakery;Dairy & Eggs;Yoghurt Bases', 4: 'Fresh Foods & Bakery;Bakery;Wraps & Pita Breads', 5: 'Chilled, Frozen & Desserts;Dairy & Eggs;Fresh Milk', 6: 'Pantry;Sauces, Stock & Marinades;Tomato Sauces', 7: 'Pantry;Salad & Cooking Oils;Cooking Fat', 8: 'Chilled, Frozen & Desserts;Frozen Foods;Frozen Beef, Lamb & Pork', 9: 'Fresh Foods & Bakery;Dairy & Eggs;Dairy & Lactose Free', 10: 'Fresh Foods & Bakery;Deli, Salads & Cooked Meats;Deli Meats', 11: 'Chilled, Frozen & Desserts;Dairy & Eggs;Long Life Milk & Milk Powder', 12: 'Pantry;Biscuits & Crackers;Crème & Jam Biscuits', 13: 'Meal Spot;Ready to Heat;Frozen Savouries', 14: 'Kitchen, Dining & Household;Household;Kitchenware', 15: 'Personal Care;Health & Wellness;Stop Smoking', 16: 'Beer, Cider & Wine;Beer & Cider;Brewing Supplies', 17: 'Meal Spot;Ready to Heat;Frozen Pizza & Bases', 18: 'Pets;Pet Supplies;Dog Food', 19: 'Fresh Foods & Bakery;Dairy & Eggs;Flavoured Milk', 20: 'Fresh Foods & Bakery;Fruit & Vegetables;Fresh Vegetables', 21: 'Pantry;Baking Supplies & Sugar;Breadcrumbs & Coatings', 22: 'Fresh Foods & Bakery;Seafood;Fresh Shellfish', 23: 'Pets;Pet Supplies;Pet Accessories', 24: 'Pantry;Sauces, Stock & Marinades;Curry Pastes & Sauces', 25: 'Beer, Cider & Wine;Beer & Cider;Stout, Porter & Black Beer', 26: 'Chilled, Frozen & Desserts;Desserts;Jelly & Powdered Desserts', 27: 'Kitchen, Dining & Household;Laundry;Fabric Softeners', 28: 'Pantry;Jams, Honey & Spreads;Marmite & Vegemite', 29: 'Pantry;Hot Drinks;Coffee Substitutes', 30: 'Personal Care;Beauty & Grooming;Deodorants', 31: 'Kitchen, Dining & Household;Household;Manchester', 32: 'Beer, Cider & Wine;Wine;Other White Wine', 33: 'Pantry;Salad & Cooking Oils;Olive Oils', 34: 'Pantry;Breakfast Cereals;Muesli', 35: 'Pantry;Pasta, Rice & Noodles;Short & Medium Grain Rices', 36: 'Pantry;World Foods;South African', 37: 'Fresh Foods & Bakery;Deli, Salads & Cooked Meats;Deli Salads', 38: 'Kitchen, Dining & Household;Household;Party Supplies', 39: 'Drinks;Hot Drinks;Chocolate Milk Drink Mixes', 40: 'Pantry;World Foods;UK', 41: 'Pantry;Pasta, Rice & Noodles;Noodle Meals', 42: 'Personal Care;Beauty & Grooming;Hair Colouring', 43: 'Pantry;Condiments & Dressings;Fruit Sauces', 44: 'Pantry;Pasta, Rice & Noodles;Dried Pastas', 45: 'Fresh Foods & Bakery;Bulk & Loose Foods;Bulk Dried Fruit', 46: 'Pantry;Biscuits & Crackers;Rice Cakes', 47: 'Beer, Cider & Wine;Wine;Shiraz', 48: 'Beer, Cider & Wine;Beer & Cider;Pale Ale', 49: 'Baby, Toddler & Kids;Baby Care;Baby Hair Care', 50: 'Pantry;Biscuits & Crackers;Gourmet Biscuits & Crackers', 51: 'Pantry;World Foods;South East Asian', 52: 'Fresh Foods & Bakery;Seafood;Fresh Fish Fillets & Steaks', 53: 'Kitchen, Dining & Household;Cleaning Products;Paper Towels', 54: 'Pantry;Snack Foods;Snack Mixes', 55: 'Personal Care;Beauty & Grooming;Suncare & Self Tan', 56: 'Chilled, Frozen & Desserts;Frozen Foods;Frozen Fries & Potatoes', 57: 'Pantry;World Foods;Indian', 58: 'Pantry;Salad & Cooking Oils;Other Oils', 59: 'Pantry;Condiments & Dressings;Pickles', 60: 'Chilled, Frozen & Desserts;Frozen Foods;Frozen Ready Meals', 61: 'Beer, Cider & Wine;Wine;Sauvignon Blanc', 62: 'Baby, Toddler & Kids;Baby Care;Baby Dental Care', 63: 'Fresh Foods & Bakery;Fruit & Vegetables;PrePacked Fresh Vegetables', 64: 'Pantry;Condiments & Dressings;Mint Sauces', 65: 'Pets;Pet Supplies;Fish & Aquatic Pet Supplies', 66: 'Chilled, Frozen & Desserts;Cheese;Deli Cheeseboards', 67: 'Chilled, Frozen & Desserts;Frozen Foods;Frozen Savouries', 68: 'Fresh Foods & Bakery;Butchery;Fresh Chicken & Poultry', 69: 'Pantry;Condiments & Dressings;Mustards', 70: 'Pantry;Condiments & Dressings;Chutneys', 71: 'Pantry;Jams, Honey & Spreads;Nut Spreads', 72: 'Drinks;Cold Drinks;Coconut Water', 73: 'Fresh Foods & Bakery;Fruit & Vegetables;Vege Bags', 74: 'Kitchen, Dining & Household;Cleaning Products;Bleaches', 75: 'Kitchen, Dining & Household;Cleaning Products;Glass Cleaners', 76: 'Pantry;Pasta, Rice & Noodles;Instant Rices', 77: 'Pantry;Condiments & Dressings;Aioli', 78: 'Meal Spot;Ready to Heat;Chilled Pies & Pastries', 79: 'Pantry;Baking Supplies & Sugar;Baking Syrups', 80: 'Kitchen, Dining & Household;Household;Food Wraps & Bags', 81: 'Fresh Foods & Bakery;Seafood;Fresh Smoked Fish', 82: 'Chilled, Frozen & Desserts;Desserts;Canned Desserts', 83: 'Pantry;Sauces, Stock & Marinades;Specialty Sauces', 84: 'Pantry;Canned & Prepared Foods;Canned Fruit', 85: 'Kitchen, Dining & Household;Cleaning Products;Dishwasher Detergents', 86: 'Chilled, Frozen & Desserts;Frozen Foods;Frozen Vegetables', 87: 'Pantry;Pasta, Rice & Noodles;Fresh Pastas', 88: 'Pantry;Canned & Prepared Foods;Vegetarian', 89: 'Chilled, Frozen & Desserts;Dairy & Eggs;Fresh Cream', 90: 'Pantry;Pasta, Rice & Noodles;Rice Meals', 91: 'Personal Care;Health & Wellness;Sanitary Protection', 92: 'Chilled, Frozen & Desserts;Frozen Foods;Frozen Seafood', 93: 'Pantry;Spices & Seasonings;Dried Spices', 94: 'Pantry;Hot Drinks;Green Teas', 95: 'Pantry;Salad & Cooking Oils;Vegetable Oils', 96: 'Drinks;Hot Drinks;Green Teas', 97: 'Fresh Foods & Bakery;Butchery;Fresh Pork', 98: 'Pantry;Baking Supplies & Sugar;Cooking Chocolate', 99: 'Drinks;Hot Drinks;Coffee Substitutes', 100: 'Personal Care;Health & Wellness;Pain Relief', 101: 'Pantry;Canned & Prepared Foods;Canned & Dried Vegetables', 102: 'Kitchen, Dining & Household;Cleaning Products;Furniture & Metal Polishes', 103: 'Pantry;Baking Supplies & Sugar;Flour', 104: 'Fresh Foods & Bakery;Deli, Salads & Cooked Meats;Bacon', 105: 'Pantry;Pasta, Rice & Noodles;Basmati Rices', 106: 'Pantry;Condiments & Dressings;Relish', 107: 'Fresh Foods & Bakery;Deli, Salads & Cooked Meats;Chilled Pies & Pastries', 108: 'Personal Care;Health & Wellness;Wellness & Sports Nutrition', 109: 'Chilled, Frozen & Desserts;Desserts;Meringues & Pavlovas', 110: 'Chilled, Frozen & Desserts;Frozen Foods;Frozen Bread & Dough', 111: 'Pantry;Snack Foods;Vege Snacks', 112: 'Chilled, Frozen & Desserts;Desserts;Ready To Serve Puddings', 113: 'Chilled, Frozen & Desserts;Cheese;Cream Cheese', 114: 'Drinks;Cold Drinks;Soft Drinks', 115: 'Pets;Pet Supplies;Cat Food', 116: 'Fresh Foods & Bakery;Bakery;Organic & Gluten Free', 117: 'Chilled, Frozen & Desserts;Desserts;Chilled Custards', 118: 'Pantry;Breakfast Cereals;Hot Cereals', 119: 'Pantry;Canned & Prepared Foods;Canned Milk & Cream', 120: 'Drinks;Hot Drinks;Fruit & Herbal Teas', 121: 'Pantry;Hot Drinks;Black Teas', 122: 'Kitchen, Dining & Household;Stationery & Entertainment;Stationery & Craft', 123: 'Pantry;Confectionery;Lollies Family Bags', 124: 'Pantry;Sauces, Stock & Marinades;Simmer & Stir-Through Sauces', 125: 'Chilled, Frozen & Desserts;Dairy & Eggs;Flavoured Milk', 126: 'Pantry;Jams, Honey & Spreads;Savoury Spreads', 127: 'Chilled, Frozen & Desserts;Dairy & Eggs;Eggs', 128: 'Pantry;Condiments & Dressings;Salad Dressings', 129: 'Fresh Foods & Bakery;Deli, Salads & Cooked Meats;Specialty Dry Goods', 130: 'Fresh Foods & Bakery;Deli, Salads & Cooked Meats;PreCooked Beef & Lamb', 131: 'Pantry;Canned & Prepared Foods;Pizza & Pizza Bases', 132: 'Pantry;Snack Foods;Meat Snacks', 133: 'Pantry;Snack Foods;Corn Chips', 134: 'Drinks;Cold Drinks;Non Dairy Milks', 135: 'Drinks;Cold Drinks;Fruit Drinks & Juices', 136: 'Drinks;Hot Drinks;Chai Teas', 137: 'Kitchen, Dining & Household;Garage & Outdoor;BBQ', 138: 'Meal Spot;Ready to Heat;Canned Soup', 139: 'Pantry;Canned & Prepared Foods;Ready Meals', 140: 'Fresh Foods & Bakery;Meal Kits;Simply DINNER', 141: 'Fresh Foods & Bakery;Bakery;Garlic & Herb Breads', 142: 'Chilled, Frozen & Desserts;Frozen Foods;Frozen Fish', 143: 'Chilled, Frozen & Desserts;Dairy & Eggs;Dairy & Lactose Free', 144: 'Pantry;Pasta, Rice & Noodles;Pasta Meals', 145: 'Pantry;Salad & Cooking Oils;Oil Sprays', 146: 'Drinks;Cold Drinks;Still Water', 147: 'Kitchen, Dining & Household;Laundry;Clothes Pegs', 148: 'Pantry;Pasta, Rice & Noodles;Jasmine Rices', 149: 'Pantry;Breakfast Cereals;Cold Cereals', 150: 'Fresh Foods & Bakery;Bulk & Loose Foods;Bulk Seeds, Legumes & Grains', 151: 'Personal Care;Beauty & Grooming;Face & Lip Skin Care', 152: 'Pantry;Jams, Honey & Spreads;Sweet Spreads', 153: 'Personal Care;Health & Wellness;Contact Lens & Eye Care', 154: 'Fresh Foods & Bakery;Butchery;PrePacked Pork', 155: 'Kitchen, Dining & Household;Household;Homeware', 156: 'Pets;Pet Supplies;Dog Accessories', 157: 'Pets;Pet Supplies;Bird Supplies', 158: 'Fresh Foods & Bakery;Bulk & Loose Foods;Bulk Nuts', 159: 'Fresh Foods & Bakery;Deli, Salads & Cooked Meats;Continental Sausage & Salami', 160: 'Pantry;Snack Foods;Dips & Salsas', 161: 'Pantry;Snack Foods;Popcorn', 162: 'Pantry;Baking Supplies & Sugar;Essences & Colourings', 163: 'Kitchen, Dining & Household;Cleaning Products;Bathroom & Shower Cleaners', 164: 'Kitchen, Dining & Household;Stationery & Entertainment;Toys & Recreation', 165: 'Fresh Foods & Bakery;Bakery;Fresh Breads & Rolls', 166: 'Pantry;Hot Drinks;Fruit & Herbal Teas', 167: 'Drinks;Cold Drinks;Sports & Energy Drinks', 168: 'Pantry;Spices & Seasonings;Chilli & Paprika', 169: 'Meal Spot;Ready to Cook;Simply DINNER', 170: 'Fresh Foods & Bakery;Deli, Salads & Cooked Meats;Hummus', 171: 'Chilled, Frozen & Desserts;Dairy & Eggs;Yoghurt Bases', 172: 'Kitchen, Dining & Household;Household;Air Fresheners & Deodorisers', 173: 'Fresh Foods & Bakery;Seafood;Frozen Fish & Seafood', 174: 'Pantry;Canned & Prepared Foods;Packet Soup', 175: 'Personal Care;Beauty & Grooming;Makeup & Cosmetics', 176: 'Pantry;Sauces, Stock & Marinades;Stir Fry Sauces', 177: 'Pantry;Confectionery;Chewing Gum & Mints', 178: 'Kitchen, Dining & Household;Household;Cooking & Bakeware', 179: 'Pantry;Snack Foods;Nutritional Bars', 180: 'Pantry;Condiments & Dressings;Vinegars', 181: 'Chilled, Frozen & Desserts;Frozen Foods;Frozen Vegetarian', 182: 'Fresh Foods & Bakery;Deli, Salads & Cooked Meats;Gourmet Oils & Condiments', 183: 'Chilled, Frozen & Desserts;Frozen Foods;Frozen Pies', 184: 'Meal Spot;Ready to Heat;Ready Meals', 185: 'Beer, Cider & Wine;Wine;Other Red Wine', 186: 'Meal Spot;Ready to Cook;Vege Bags', 187: 'Beer, Cider & Wine;Beer & Cider;American-style Ale', 188: 'Kitchen, Dining & Household;Laundry;Clothing Dyes', 189: 'Pantry;Baking Supplies & Sugar;Icing & Decorating', 190: 'Kitchen, Dining & Household;Garage & Outdoor;Car Care', 191: 'Beer, Cider & Wine;Beer & Cider;Lighter Alcohol Beers', 192: 'Pantry;Sauces, Stock & Marinades;Chilled Pasta Sauces', 193: 'Pantry;Biscuits & Crackers;Rice Crackers', 194: 'Fresh Foods & Bakery;Bakery;Pies & Pastries', 195: 'Fresh Foods & Bakery;Butchery;PreCooked Sausages', 196: 'Fresh Foods & Bakery;Seafood;Fresh Seafood', 197: 'Pantry;Sauces, Stock & Marinades;Soy Sauce', 198: 'Pantry;Canned & Prepared Foods;Canned Soup', 199: 'Fresh Foods & Bakery;Butchery;Fresh Sausages', 200: 'Fresh Foods & Bakery;Bulk & Loose Foods;Bulk Snacks & Mixes', 201: 'Personal Care;Health & Wellness;Insect Repellent', 202: 'Pantry;Snack Foods;Potato Chips', 203: 'Chilled, Frozen & Desserts;Desserts;Ice Cream & Frozen Yoghurt', 204: 'Personal Care;Beauty & Grooming;Oral Health', 205: 'Chilled, Frozen & Desserts;Cheese;Cheese Slices', 206: 'Fresh Foods & Bakery;Dairy & Eggs;Sour Cream & Crème Fraiche', 207: 'Beer, Cider & Wine;Beer & Cider;European-style Ale', 208: 'Chilled, Frozen & Desserts;Desserts;Frozen Dessert Pastries', 209: 'Pantry;Breakfast Cereals;Flake/Fibre Cereals', 210: 'Pantry;Canned & Prepared Foods;Baked Beans & Spaghetti', 211: 'Beer, Cider & Wine;Beer & Cider;IPA', 212: 'Beer, Cider & Wine;Wine;Chardonnay', 213: 'Drinks;Hot Drinks;Malt Milk Drink Mixes', 214: 'Pantry;Hot Drinks;Fresh Coffees', 215: 'Pantry;Hot Drinks;Instant Coffees', 216: 'Fresh Foods & Bakery;Seafood;Seafood Salad', 217: 'Pantry;Salad & Cooking Oils;Nut & Seed Oils', 218: 'Drinks;Cold Drinks;Flavoured Water', 219: 'Chilled, Frozen & Desserts;Desserts;Frozen Puddings', 220: 'Drinks;Hot Drinks;Black Teas', 221: 'Pantry;Biscuits & Crackers;Biscuits & Cookies', 222: 'Pantry;Salad & Cooking Oils;Coconut Oils', 223: 'Personal Care;Health & Wellness;Foot Care', 224: 'Chilled, Frozen & Desserts;Cheese;Grated Cheese', 225: 'Pantry;Confectionery;Novelty Bars & Singles', 226: 'Meal Spot;Ready to Eat;Fresh Salads', 227: 'Kitchen, Dining & Household;Cleaning Products;Carpet & Floor Cleaners', 228: 'Meal Spot;Ready to Cook;Noodle Meals', 229: 'Fresh Foods & Bakery;Dairy & Eggs;Long Life Milk & Milk Powder', 230: 'Meal Spot;Ready to Eat;Fresh Deli Savouries', 231: 'Beer, Cider & Wine;Wine;Pinot Gris', 232: 'Fresh Foods & Bakery;Dairy & Eggs;Fresh Organic Milk', 233: 'Pantry;Sauces, Stock & Marinades;Tomato Pastes & Purees', 234: 'Kitchen, Dining & Household;Household;Batteries & Light Bulbs', 235: 'Pantry;Hot Drinks;Chai Teas', 236: 'Meal Spot;Ready to Heat;Packet Soup', 237: 'Pantry;Jams, Honey & Spreads;Jam & Marmalade', 238: 'Beer, Cider & Wine;Wine;Cabernet', 239: 'Beer, Cider & Wine;Wine;Champagne & Sparkling Wine', 240: 'Kitchen, Dining & Household;Household;Pest & Insect Control', 241: 'Kitchen, Dining & Household;Laundry;Laundry Powders', 242: 'Fresh Foods & Bakery;Deli, Salads & Cooked Meats;Ham & Pork', 243: 'Pantry;World Foods;Japanese', 244: 'Meal Spot;Ready to Heat;Pizza & Pizza Bases', 245: 'Fresh Foods & Bakery;Bulk & Loose Foods;Bulk Breakfast Cereals', 246: 'Kitchen, Dining & Household;Laundry;Washing Machine Cleaners', 247: 'Kitchen, Dining & Household;Household;Fire Needs', 248: 'Kitchen, Dining & Household;Stationery & Entertainment;Magazines', 249: 'Kitchen, Dining & Household;Laundry;Laundry Liquid & Capsules', 250: 'Fresh Foods & Bakery;Bakery;Specialty Breads', 251: 'Fresh Foods & Bakery;Bulk & Loose Foods;Bulk Confectionery', 252: 'Chilled, Frozen & Desserts;Frozen Foods;Frozen Fruit', 253: 'Pantry;Snack Foods;Bread Snacks', 254: 'Fresh Foods & Bakery;Bakery;Biscuits & Slices', 255: 'Fresh Foods & Bakery;Deli, Salads & Cooked Meats;PreCooked Chicken & Poultry', 256: 'Fresh Foods & Bakery;Deli, Salads & Cooked Meats;Dips, Pesto & Pate', 257: 'Kitchen, Dining & Household;Garage & Outdoor;Gardening Supplies', 258: 'Drinks;Cold Drinks;Powdered Drinks', 259: 'Kitchen, Dining & Household;Laundry;Pre Wash Stain Removers', 260: 'Kitchen, Dining & Household;Cleaning Products;Cleaning Accessories', 261: 'Pantry;Baking Supplies & Sugar;Baking Nuts & Seeds', 262: 'Chilled, Frozen & Desserts;Desserts;Frozen Bavarians & Cheesecake', 263: 'Pantry;Snack Foods;Muesli Bars', 264: 'Pantry;Baking Supplies & Sugar;Sugar Substitutes', 265: 'Pantry;Sauces, Stock & Marinades;Packet Sauces', 266: 'Pantry;Sauces, Stock & Marinades;Tartare & Seafood Sauces', 267: 'Pantry;Spices & Seasonings;Freshly Ground Herbs', 268: 'Kitchen, Dining & Household;Household;Food Storage', 269: 'Pantry;Sauces, Stock & Marinades;Gravies', 270: 'Pantry;Hot Drinks;Malt Milk Drink Mixes', 271: 'Pets;Pet Supplies;Dog Treats', 272: 'Personal Care;Beauty & Grooming;Hair Styling & Accessories', 273: 'Chilled, Frozen & Desserts;Desserts;Ice Blocks & Ice Pops', 274: 'Beer, Cider & Wine;Beer & Cider;British-style Ale', 275: 'Fresh Foods & Bakery;Dairy & Eggs;Butter & Spreads', 276: 'Kitchen, Dining & Household;Household;Rubbish & Vacuum Bags', 277: 'Pantry;Spices & Seasonings;Dried Herbs', 278: 'Pantry;Confectionery;Boxed Chocolates', 279: 'Pantry;Pasta, Rice & Noodles;Noodles', 280: 'Kitchen, Dining & Household;Cleaning Products;Dishwashing Liquid', 281: 'Kitchen, Dining & Household;Garage & Outdoor;Hardware & Tools', 282: 'Pantry;Snack Foods;Cereal & Snack Bars', 283: 'Pantry;Sauces, Stock & Marinades;Stock', 284: 'Pantry;Pasta, Rice & Noodles;Long Grain Rices', 285: 'Fresh Foods & Bakery;Deli, Salads & Cooked Meats;Fresh Deli Savouries', 286: 'Beer, Cider & Wine;Wine;Pinot Noir', 287: 'Pantry;Canned & Prepared Foods;Soup Mixes', 288: 'Pantry;Spices & Seasonings;Garlic & Ginger', 289: 'Pantry;World Foods;Thai', 290: 'Personal Care;Beauty & Grooming;Apparel & Hosiery', 291: 'Pantry;Baking Supplies & Sugar;Baking Mixes', 292: 'Beer, Cider & Wine;Wine;Cask Wine', 293: 'Drinks;Cold Drinks;Sparkling Juices', 294: 'Pantry;Pasta, Rice & Noodles;Wild & Coloured Rices', 295: 'Chilled, Frozen & Desserts;Cheese;Cheese Blocks', 296: 'Fresh Foods & Bakery;Seafood;Fresh Whole Fish', 297: 'Kitchen, Dining & Household;Household;Tissues & Toilet Paper', 298: 'Pantry;Baking Supplies & Sugar;Sugar', 299: 'Pantry;Hot Drinks;Coffee Additives & Filters', 300: 'Pantry;Snack Foods;Nut Bars & Snacks', 301: 'Pantry;Confectionery;Chocolate Blocks', 302: 'Fresh Foods & Bakery;Butchery;PrePacked Beef & Lamb', 303: 'Fresh Foods & Bakery;Fruit & Vegetables;Salad Bags', 304: 'Personal Care;Health & Wellness;Adult Care', 305: 'Personal Care;Health & Wellness;Cough, Cold & Flu', 306: 'Personal Care;Health & Wellness;Allergy & Sinus', 307: 'Kitchen, Dining & Household;Stationery & Entertainment;Newspapers', 308: 'Chilled, Frozen & Desserts;Dairy & Eggs;Fresh Organic Milk', 309: 'Drinks;Cold Drinks;Chilled Fruit Juices', 310: 'Pantry;Biscuits & Crackers;Chocolate Biscuits', 311: 'Pantry;Salad & Cooking Oils;Avocado Oils', 312: 'Drinks;Hot Drinks;Coffee Flavoured Sachets', 313: 'Chilled, Frozen & Desserts;Dairy & Eggs;Sour Cream & Crème Fraiche', 314: 'Chilled, Frozen & Desserts;Frozen Foods;Frozen Pastry', 315: 'Personal Care;Health & Wellness;Vitamins & Supplements', 316: 'Kitchen, Dining & Household;Household;Electrical', 317: 'Meal Spot;Ready to Eat;Deli Salads', 318: 'Pantry;Snack Foods;Chips', 319: 'Pets;Pet Supplies;Cat Treats', 320: 'Pantry;Baking Supplies & Sugar;Dried Fruit', 321: 'Drinks;Hot Drinks;Coffee Capsules', 322: 'Fresh Foods & Bakery;Bakery;Sliced Bread', 323: 'Beer, Cider & Wine;Wine;Rose', 324: 'Pantry;Biscuits & Crackers;Plain Sweet Biscuits', 325: 'Baby, Toddler & Kids;Baby Care;Baby Wipes', 326: 'Fresh Foods & Bakery;Butchery;Fresh Beef & Lamb', 327: 'Fresh Foods & Bakery;Dairy & Eggs;Fresh Cream', 328: 'Baby, Toddler & Kids;Baby Care;Baby Bathing & Skin Care', 329: 'Chilled, Frozen & Desserts;Cheese;Specialty Cheeses', 330: 'Kitchen, Dining & Household;Cleaning Products;Dishwasher Rinse & Clean', 331: 'Fresh Foods & Bakery;Deli, Salads & Cooked Meats;Olives & Antipasti Mixes', 332: 'Chilled, Frozen & Desserts;Frozen Foods;Frozen Pizza & Bases', 333: 'Pantry;Canned & Prepared Foods;Canned Fish', 334: 'Chilled, Frozen & Desserts;Frozen Foods;Frozen Chicken & Poultry', 335: 'Pantry;Hot Drinks;Coffee Flavoured Sachets', 336: 'Pantry;Canned & Prepared Foods;Coconut Cream & Milk', 337: 'Chilled, Frozen & Desserts;Cheese;Deli Cabinet Cheeses', 338: 'Pantry;Hot Drinks;Coffee Capsules', 339: 'Pantry;Baking Supplies & Sugar;Baking Additives', 340: 'Beer, Cider & Wine;Beer & Cider;Fruit & Flavoured Cider', 341: 'Drinks;Hot Drinks;Coffee Additives & Filters', 342: 'Meal Spot;Ready to Eat;Seafood Salad', 343: 'Beer, Cider & Wine;Beer & Cider;Specialty & Flavoured Beer', 344: 'Fresh Foods & Bakery;Fruit & Vegetables;Fresh Salads', 345: 'Pantry;Confectionery;Chocolate Family Bags', 346: 'Fresh Foods & Bakery;Bakery;Bread Rolls & Buns', 347: 'Pantry;Sauces, Stock & Marinades;Marinades', 348: 'Fresh Foods & Bakery;Fruit & Vegetables;Fresh Cut Fruit', 349: 'Chilled, Frozen & Desserts;Cheese;Deli Specialty Cheeses', 350: 'Fresh Foods & Bakery;Fruit & Vegetables;Fresh Herbs', 351: 'Meal Spot;Ready to Heat;Frozen Ready Meals', 352: 'Drinks;Hot Drinks;Fresh Coffees', 353: 'Kitchen, Dining & Household;Cleaning Products;Kitchen Cleaners', 354: 'Pantry;Jams, Honey & Spreads;Honey', 355: 'Pantry;Breakfast Cereals;Breakfast On The Go', 356: 'Fresh Foods & Bakery;Bakery;Fresh Biscuits & Slices', 357: 'Kitchen, Dining & Household;Laundry;Laundry Soap', 358: 'Meal Spot;Ready to Cook;Mexican', 359: 'Pantry;World Foods;Mexican', 360: 'Pantry;Spices & Seasonings;Salt & Pepper', 361: 'Pantry;Pasta, Rice & Noodles;Specialty Grains & Seeds', 362: 'Beer, Cider & Wine;Beer & Cider;Apple & Pear Cider', 363: 'Drinks;Cold Drinks;Drinking Yoghurt & Smoothies', 364: 'Fresh Foods & Bakery;Bakery;Cakes & Muffins', 365: 'Pantry;Canned & Prepared Foods;Chilled Soups', 366: 'Fresh Foods & Bakery;Dairy & Eggs;Fresh Milk', 367: 'Drinks;Cold Drinks;Iced Teas', 368: 'Kitchen, Dining & Household;Cleaning Products;All Purpose Cleaners', 369: 'Baby, Toddler & Kids;Baby Care;Baby Health', 370: 'Chilled, Frozen & Desserts;Desserts;Ice Cream Cones & Wafers', 371: 'Chilled, Frozen & Desserts;Dairy & Eggs;Butter & Spreads', 372: 'Pantry;World Foods;Other Countries', 373: 'Beer, Cider & Wine;Beer & Cider;Wheat & Other Grain Beer', 374: 'Personal Care;Beauty & Grooming;Hand & Body Care', 375: 'Pets;Pet Supplies;Cat Accessories', 376: 'Kitchen, Dining & Household;Household;Shoe Care', 377: 'Pantry;Canned & Prepared Foods;Canned Meat', 378: 'Personal Care;Beauty & Grooming;Hair Care & Treatments', 379: 'Beer, Cider & Wine;Beer & Cider;Pilsner', 380: 'Fresh Foods & Bakery;Bakery;Muffin Splits & Crumpets', 381: 'Kitchen, Dining & Household;Laundry;Fine Fabric Washers', 382: 'Pantry;Snack Foods;Fruit Snacks', 383: 'Kitchen, Dining & Household;Laundry;Laundry Supplies', 384: 'Drinks;Cold Drinks;Squash, Syrups & Cordials', 385: 'Personal Care;Beauty & Grooming;Shaving & Hair Removal', 386: 'Pets;Pet Supplies;Small Animal Supplies', 387: 'Personal Care;Health & Wellness;Family Planning', 388: 'Baby, Toddler & Kids;Baby Care;Nursing & Feeding', 389: 'Fresh Foods & Bakery;Butchery;PrePacked Chicken & Poultry', 390: 'Drinks;Cold Drinks;Vegetable Juices', 391: 'Baby, Toddler & Kids;Baby Care;Nappies & Changing', 392: 'Pantry;World Foods;Korean', 393: 'Pantry;Condiments & Dressings;Olives', 394: 'Fresh Foods & Bakery;Bakery;Fresh Desserts & Pastries', 395: 'Kitchen, Dining & Household;Garage & Outdoor;Hooks', 396: 'Baby, Toddler & Kids;Baby Care;Baby Formula & Toddler Food', 397: 'Pantry;Sauces, Stock & Marinades;Pasta Sauces', 398: 'Fresh Foods & Bakery;Fruit & Vegetables;Fresh Fruit', 399: 'Beer, Cider & Wine;Beer & Cider;Lager', 400: 'Pantry;Condiments & Dressings;Mayonnaise', 401: 'Pantry;Condiments & Dressings;Chilli & Pepper Sauces', 402: 'Chilled, Frozen & Desserts;Dairy & Eggs;Yoghurt & Dairy Food', 403: 'Pantry;Confectionery;Liquorice', 404: 'Pantry;Salad & Cooking Oils;Rice Bran Oils', 405: 'Drinks;Cold Drinks;Sparkling Water', 406: 'Meal Spot;Ready to Heat;Chilled Soups', 407: 'Beer, Cider & Wine;Beer & Cider;Spirits', 408: 'Beer, Cider & Wine;Wine;Merlot', 409: 'Personal Care;Health & Wellness;First Aid', 410: 'Pantry;Confectionery;Christmas', 411: 'Kitchen, Dining & Household;Household;Disposable Tableware', 412: 'Pantry;Hot Drinks;Chocolate Milk Drink Mixes', 413: 'Pantry;Condiments & Dressings;Worcestershire Sauces', 414: 'Personal Care;Health & Wellness;Digestion, Nausea & Laxatives', 415: 'Drinks;Hot Drinks;Instant Coffees', 416: 'Fresh Foods & Bakery;Bakery;Fresh Cakes & Muffins', 417: 'Fresh Foods & Bakery;Butchery;Fresh Venison & Game Meat', 418: 'Pantry;Biscuits & Crackers;Assorted Biscuits & Crackers', 419: 'Pets;Pet Supplies;Pet Treatments', 420: 'Fresh Foods & Bakery;Seafood;Fresh Fish Heads', 421: 'Fresh Foods & Bakery;Dairy & Eggs;Eggs', 422: 'Chilled, Frozen & Desserts;Cheese;Cottage Cheese', 423: 'Meal Spot;Ready to Cook;Pasta Meals', 424: 'Pantry;World Foods;Chinese', 425: 'Fresh Foods & Bakery;Butchery;PrePacked Sausages', 426: 'Pantry;Biscuits & Crackers;Crackers', 427: 'Pantry;Canned & Prepared Foods;Syrups & Sauces', 428: 'Fresh Foods & Bakery;Dairy & Eggs;Yoghurt & Dairy Food'}\n"
     ]
    }
   ],
   "source": [
    "label2id = {l: i for i, l in enumerate(set(labels))}\n",
    "id2label = {i: l for l, i in label2id.items()}\n",
    "labels = [label2id[l] for l in labels]\n",
    "texts = df[\"ProductName\"].tolist()\n",
    "price = df[\"PricePerItem\"].tolist()\n",
    "promotion = df[\"PromoBadgeImageLabel\"].tolist()\n",
    "multi = df[\"MultiBuyDeal\"].tolist()\n",
    "combind = [\" \".join([texts[index], str(price[index]) , promotion[index], multi[index]]) for index in range(14464)]\n",
    "vectorizer = TfidfVectorizer()\n",
    "features = vectorizer.fit_transform(combind)\n",
    "print(\"data len:\", len(texts))\n",
    "print(\"id2label\", id2label)"
   ],
   "metadata": {
    "collapsed": false,
    "pycharm": {
     "name": "#%%\n"
    }
   }
  },
  {
   "cell_type": "code",
   "execution_count": 18,
   "outputs": [],
   "source": [
    "x_train, x_test, y_train, y_test = train_test_split(features, labels, test_size=0.25, random_state=3)"
   ],
   "metadata": {
    "collapsed": false,
    "pycharm": {
     "name": "#%%\n"
    }
   }
  },
  {
   "cell_type": "code",
   "execution_count": 19,
   "outputs": [
    {
     "name": "stderr",
     "output_type": "stream",
     "text": [
      "d:\\python\\lib\\site-packages\\sklearn\\metrics\\_classification.py:1245: UndefinedMetricWarning: Recall is ill-defined and being set to 0.0 in labels with no true samples. Use `zero_division` parameter to control this behavior.\n",
      "  _warn_prf(average, modifier, msg_start, len(result))\n"
     ]
    },
    {
     "ename": "ValueError",
     "evalue": "Number of classes, 401, does not match size of target_names, 429. Try specifying the labels parameter",
     "output_type": "error",
     "traceback": [
      "\u001B[1;31m---------------------------------------------------------------------------\u001B[0m",
      "\u001B[1;31mValueError\u001B[0m                                Traceback (most recent call last)",
      "\u001B[1;32m<ipython-input-19-d8b0d8083955>\u001B[0m in \u001B[0;36m<module>\u001B[1;34m\u001B[0m\n\u001B[0;32m      7\u001B[0m \u001B[0mmin_label\u001B[0m \u001B[1;33m=\u001B[0m \u001B[1;36m0\u001B[0m\u001B[1;33m\u001B[0m\u001B[1;33m\u001B[0m\u001B[0m\n\u001B[0;32m      8\u001B[0m \u001B[0mpredict_labels\u001B[0m \u001B[1;33m=\u001B[0m \u001B[1;33m[\u001B[0m\u001B[0ml\u001B[0m \u001B[1;32mif\u001B[0m \u001B[0mmin_label\u001B[0m \u001B[1;33m<=\u001B[0m \u001B[0ml\u001B[0m \u001B[1;32melse\u001B[0m \u001B[0mmin_label\u001B[0m \u001B[1;32mfor\u001B[0m \u001B[0ml\u001B[0m \u001B[1;32min\u001B[0m \u001B[0mpredict_labels\u001B[0m\u001B[1;33m]\u001B[0m\u001B[1;33m\u001B[0m\u001B[1;33m\u001B[0m\u001B[0m\n\u001B[1;32m----> 9\u001B[1;33m \u001B[0mevaluation\u001B[0m\u001B[1;33m(\u001B[0m\u001B[0mpredict_labels\u001B[0m\u001B[1;33m,\u001B[0m \u001B[0my_test\u001B[0m\u001B[1;33m,\u001B[0m \u001B[0mid2label\u001B[0m\u001B[1;33m,\u001B[0m \u001B[1;34m\"logistic\"\u001B[0m\u001B[1;33m)\u001B[0m\u001B[1;33m\u001B[0m\u001B[1;33m\u001B[0m\u001B[0m\n\u001B[0m",
      "\u001B[1;32m<ipython-input-16-a15f1e152aee>\u001B[0m in \u001B[0;36mevaluation\u001B[1;34m(predictions, labels, id2label, model_name)\u001B[0m\n\u001B[0;32m      3\u001B[0m     \u001B[0mrecall\u001B[0m \u001B[1;33m=\u001B[0m \u001B[0mrecall_score\u001B[0m\u001B[1;33m(\u001B[0m\u001B[0mlabels\u001B[0m\u001B[1;33m,\u001B[0m \u001B[0mpredictions\u001B[0m\u001B[1;33m,\u001B[0m \u001B[0maverage\u001B[0m\u001B[1;33m=\u001B[0m\u001B[1;34m\"macro\"\u001B[0m\u001B[1;33m)\u001B[0m\u001B[1;33m\u001B[0m\u001B[1;33m\u001B[0m\u001B[0m\n\u001B[0;32m      4\u001B[0m     \u001B[0mf1\u001B[0m \u001B[1;33m=\u001B[0m \u001B[0mf1_score\u001B[0m\u001B[1;33m(\u001B[0m\u001B[0mlabels\u001B[0m\u001B[1;33m,\u001B[0m \u001B[0mpredictions\u001B[0m\u001B[1;33m,\u001B[0m \u001B[0maverage\u001B[0m\u001B[1;33m=\u001B[0m\u001B[1;34m\"macro\"\u001B[0m\u001B[1;33m)\u001B[0m\u001B[1;33m\u001B[0m\u001B[1;33m\u001B[0m\u001B[0m\n\u001B[1;32m----> 5\u001B[1;33m     report = classification_report(labels, predictions,\n\u001B[0m\u001B[0;32m      6\u001B[0m                                    target_names=[id2label[i] for i in range(len(id2label))])\n\u001B[0;32m      7\u001B[0m     \u001B[0minfo\u001B[0m \u001B[1;33m=\u001B[0m \u001B[1;34m\"acc:%s, recall:%s, f1 score:%s\"\u001B[0m \u001B[1;33m%\u001B[0m \u001B[1;33m(\u001B[0m\u001B[0macc\u001B[0m\u001B[1;33m,\u001B[0m \u001B[0mrecall\u001B[0m\u001B[1;33m,\u001B[0m \u001B[0mf1\u001B[0m\u001B[1;33m)\u001B[0m\u001B[1;33m\u001B[0m\u001B[1;33m\u001B[0m\u001B[0m\n",
      "\u001B[1;32md:\\python\\lib\\site-packages\\sklearn\\utils\\validation.py\u001B[0m in \u001B[0;36minner_f\u001B[1;34m(*args, **kwargs)\u001B[0m\n\u001B[0;32m     61\u001B[0m             \u001B[0mextra_args\u001B[0m \u001B[1;33m=\u001B[0m \u001B[0mlen\u001B[0m\u001B[1;33m(\u001B[0m\u001B[0margs\u001B[0m\u001B[1;33m)\u001B[0m \u001B[1;33m-\u001B[0m \u001B[0mlen\u001B[0m\u001B[1;33m(\u001B[0m\u001B[0mall_args\u001B[0m\u001B[1;33m)\u001B[0m\u001B[1;33m\u001B[0m\u001B[1;33m\u001B[0m\u001B[0m\n\u001B[0;32m     62\u001B[0m             \u001B[1;32mif\u001B[0m \u001B[0mextra_args\u001B[0m \u001B[1;33m<=\u001B[0m \u001B[1;36m0\u001B[0m\u001B[1;33m:\u001B[0m\u001B[1;33m\u001B[0m\u001B[1;33m\u001B[0m\u001B[0m\n\u001B[1;32m---> 63\u001B[1;33m                 \u001B[1;32mreturn\u001B[0m \u001B[0mf\u001B[0m\u001B[1;33m(\u001B[0m\u001B[1;33m*\u001B[0m\u001B[0margs\u001B[0m\u001B[1;33m,\u001B[0m \u001B[1;33m**\u001B[0m\u001B[0mkwargs\u001B[0m\u001B[1;33m)\u001B[0m\u001B[1;33m\u001B[0m\u001B[1;33m\u001B[0m\u001B[0m\n\u001B[0m\u001B[0;32m     64\u001B[0m \u001B[1;33m\u001B[0m\u001B[0m\n\u001B[0;32m     65\u001B[0m             \u001B[1;31m# extra_args > 0\u001B[0m\u001B[1;33m\u001B[0m\u001B[1;33m\u001B[0m\u001B[1;33m\u001B[0m\u001B[0m\n",
      "\u001B[1;32md:\\python\\lib\\site-packages\\sklearn\\metrics\\_classification.py\u001B[0m in \u001B[0;36mclassification_report\u001B[1;34m(y_true, y_pred, labels, target_names, sample_weight, digits, output_dict, zero_division)\u001B[0m\n\u001B[0;32m   1985\u001B[0m             )\n\u001B[0;32m   1986\u001B[0m         \u001B[1;32melse\u001B[0m\u001B[1;33m:\u001B[0m\u001B[1;33m\u001B[0m\u001B[1;33m\u001B[0m\u001B[0m\n\u001B[1;32m-> 1987\u001B[1;33m             raise ValueError(\n\u001B[0m\u001B[0;32m   1988\u001B[0m                 \u001B[1;34m\"Number of classes, {0}, does not match size of \"\u001B[0m\u001B[1;33m\u001B[0m\u001B[1;33m\u001B[0m\u001B[0m\n\u001B[0;32m   1989\u001B[0m                 \u001B[1;34m\"target_names, {1}. Try specifying the labels \"\u001B[0m\u001B[1;33m\u001B[0m\u001B[1;33m\u001B[0m\u001B[0m\n",
      "\u001B[1;31mValueError\u001B[0m: Number of classes, 401, does not match size of target_names, 429. Try specifying the labels parameter"
     ]
    }
   ],
   "source": [
    "model = LogisticRegression()\n",
    "model.fit(x_train, y_train)\n",
    "predict_labels = model.predict(x_test)\n",
    "predict_labels = [np.round(p) for p in predict_labels]\n",
    "max_label = len(id2label) - 1\n",
    "predict_labels = [l if max_label >= l else max_label for l in predict_labels]\n",
    "min_label = 0\n",
    "predict_labels = [l if min_label <= l else min_label for l in predict_labels]\n",
    "evaluation(predict_labels, y_test, id2label, \"logistic\")"
   ],
   "metadata": {
    "collapsed": false,
    "pycharm": {
     "name": "#%%\n"
    }
   }
  }
 ],
 "metadata": {
  "kernelspec": {
   "display_name": "Python 3",
   "language": "python",
   "name": "python3"
  },
  "language_info": {
   "codemirror_mode": {
    "name": "ipython",
    "version": 2
   },
   "file_extension": ".py",
   "mimetype": "text/x-python",
   "name": "python",
   "nbconvert_exporter": "python",
   "pygments_lexer": "ipython2",
   "version": "2.7.6"
  }
 },
 "nbformat": 4,
 "nbformat_minor": 0
}