{
 "cells": [
  {
   "cell_type": "code",
   "execution_count": 1,
   "metadata": {
    "collapsed": true
   },
   "outputs": [],
   "source": [
    "import re\n",
    "import matplotlib.pyplot as plot\n",
    "import numpy as np\n",
    "import pandas as pd\n",
    "from sklearn.feature_extraction.text import TfidfVectorizer\n",
    "from sklearn.linear_model import LogisticRegression\n",
    "from sklearn.metrics import accuracy_score, recall_score, f1_score, classification_report\n"
   ]
  },
  {
   "cell_type": "code",
   "execution_count": 2,
   "outputs": [
    {
     "data": {
      "text/plain": "                                        ProductName               level_1  \\\n0                             Johnson's Baby Lotion  Baby, Toddler & Kids   \n1                                Johnson's Baby Oil  Baby, Toddler & Kids   \n2  SMA Balanced Nutrition From Birth Infant Formula  Baby, Toddler & Kids   \n3                             Johnson's Baby Powder  Baby, Toddler & Kids   \n4                             Johnson's Baby Powder  Baby, Toddler & Kids   \n\n     level_2                      level_3  PricePerItem PriceMode  \\\n0  Baby Care     Baby Bathing & Skin Care          4.89        ea   \n1  Baby Care     Baby Bathing & Skin Care          4.89        ea   \n2  Baby Care  Baby Formula & Toddler Food         17.99        ea   \n3  Baby Care           Nappies & Changing          2.99        ea   \n4  Baby Care           Nappies & Changing          4.89        ea   \n\n   HasMultiBuyDeal MultiBuyDeal  MultiBuyBasePrice  MultiBuyPrice  \\\n0            False          NaN               4.89            NaN   \n1            False          NaN               4.89            NaN   \n2            False          NaN              17.99          17.99   \n3            False          NaN               2.99           2.99   \n4            False          NaN               4.89            NaN   \n\n   MultiBuyQuantity PromoBadgeImageLabel  \n0               NaN                  NaN  \n1               NaN                  NaN  \n2               1.0                Saver  \n3               1.0                Saver  \n4               NaN                  NaN  ",
      "text/html": "<div>\n<style scoped>\n    .dataframe tbody tr th:only-of-type {\n        vertical-align: middle;\n    }\n\n    .dataframe tbody tr th {\n        vertical-align: top;\n    }\n\n    .dataframe thead th {\n        text-align: right;\n    }\n</style>\n<table border=\"1\" class=\"dataframe\">\n  <thead>\n    <tr style=\"text-align: right;\">\n      <th></th>\n      <th>ProductName</th>\n      <th>level_1</th>\n      <th>level_2</th>\n      <th>level_3</th>\n      <th>PricePerItem</th>\n      <th>PriceMode</th>\n      <th>HasMultiBuyDeal</th>\n      <th>MultiBuyDeal</th>\n      <th>MultiBuyBasePrice</th>\n      <th>MultiBuyPrice</th>\n      <th>MultiBuyQuantity</th>\n      <th>PromoBadgeImageLabel</th>\n    </tr>\n  </thead>\n  <tbody>\n    <tr>\n      <th>0</th>\n      <td>Johnson's Baby Lotion</td>\n      <td>Baby, Toddler &amp; Kids</td>\n      <td>Baby Care</td>\n      <td>Baby Bathing &amp; Skin Care</td>\n      <td>4.89</td>\n      <td>ea</td>\n      <td>False</td>\n      <td>NaN</td>\n      <td>4.89</td>\n      <td>NaN</td>\n      <td>NaN</td>\n      <td>NaN</td>\n    </tr>\n    <tr>\n      <th>1</th>\n      <td>Johnson's Baby Oil</td>\n      <td>Baby, Toddler &amp; Kids</td>\n      <td>Baby Care</td>\n      <td>Baby Bathing &amp; Skin Care</td>\n      <td>4.89</td>\n      <td>ea</td>\n      <td>False</td>\n      <td>NaN</td>\n      <td>4.89</td>\n      <td>NaN</td>\n      <td>NaN</td>\n      <td>NaN</td>\n    </tr>\n    <tr>\n      <th>2</th>\n      <td>SMA Balanced Nutrition From Birth Infant Formula</td>\n      <td>Baby, Toddler &amp; Kids</td>\n      <td>Baby Care</td>\n      <td>Baby Formula &amp; Toddler Food</td>\n      <td>17.99</td>\n      <td>ea</td>\n      <td>False</td>\n      <td>NaN</td>\n      <td>17.99</td>\n      <td>17.99</td>\n      <td>1.0</td>\n      <td>Saver</td>\n    </tr>\n    <tr>\n      <th>3</th>\n      <td>Johnson's Baby Powder</td>\n      <td>Baby, Toddler &amp; Kids</td>\n      <td>Baby Care</td>\n      <td>Nappies &amp; Changing</td>\n      <td>2.99</td>\n      <td>ea</td>\n      <td>False</td>\n      <td>NaN</td>\n      <td>2.99</td>\n      <td>2.99</td>\n      <td>1.0</td>\n      <td>Saver</td>\n    </tr>\n    <tr>\n      <th>4</th>\n      <td>Johnson's Baby Powder</td>\n      <td>Baby, Toddler &amp; Kids</td>\n      <td>Baby Care</td>\n      <td>Nappies &amp; Changing</td>\n      <td>4.89</td>\n      <td>ea</td>\n      <td>False</td>\n      <td>NaN</td>\n      <td>4.89</td>\n      <td>NaN</td>\n      <td>NaN</td>\n      <td>NaN</td>\n    </tr>\n  </tbody>\n</table>\n</div>"
     },
     "execution_count": 2,
     "metadata": {},
     "output_type": "execute_result"
    }
   ],
   "source": [
    "from sklearn.model_selection import train_test_split\n",
    "\n",
    "columns = [\"ProductName\", \"level_1\", \"level_2\", \"level_3\", \"PricePerItem\", \"PriceMode\", \"HasMultiBuyDeal\",\n",
    "           \"MultiBuyDeal\", \"MultiBuyBasePrice\", \"MultiBuyPrice\", \"MultiBuyQuantity\", \"PromoBadgeImageLabel\"]\n",
    "df = pd.read_csv(\"data.csv\", usecols=columns)\n",
    "df.drop_duplicates(inplace=True)\n",
    "df.head(5)"
   ],
   "metadata": {
    "collapsed": false,
    "pycharm": {
     "name": "#%%\n"
    }
   }
  },
  {
   "cell_type": "code",
   "execution_count": 3,
   "outputs": [
    {
     "data": {
      "text/plain": "                                        ProductName               level_1  \\\n0                              johnsons baby lotion  Baby, Toddler & Kids   \n1                                 johnsons baby oil  Baby, Toddler & Kids   \n2  sma balanced nutrition from birth infant formula  Baby, Toddler & Kids   \n3                              johnsons baby powder  Baby, Toddler & Kids   \n4                              johnsons baby powder  Baby, Toddler & Kids   \n\n     level_2                      level_3  PricePerItem PriceMode  \\\n0  Baby Care     Baby Bathing & Skin Care          4.89        ea   \n1  Baby Care     Baby Bathing & Skin Care          4.89        ea   \n2  Baby Care  Baby Formula & Toddler Food         17.99        ea   \n3  Baby Care           Nappies & Changing          2.99        ea   \n4  Baby Care           Nappies & Changing          4.89        ea   \n\n   HasMultiBuyDeal MultiBuyDeal  MultiBuyBasePrice  MultiBuyPrice  \\\n0            False          NaN               4.89            NaN   \n1            False          NaN               4.89            NaN   \n2            False          NaN              17.99          17.99   \n3            False          NaN               2.99           2.99   \n4            False          NaN               4.89            NaN   \n\n   MultiBuyQuantity PromoBadgeImageLabel  \n0               NaN                  NaN  \n1               NaN                  NaN  \n2               1.0                Saver  \n3               1.0                Saver  \n4               NaN                  NaN  ",
      "text/html": "<div>\n<style scoped>\n    .dataframe tbody tr th:only-of-type {\n        vertical-align: middle;\n    }\n\n    .dataframe tbody tr th {\n        vertical-align: top;\n    }\n\n    .dataframe thead th {\n        text-align: right;\n    }\n</style>\n<table border=\"1\" class=\"dataframe\">\n  <thead>\n    <tr style=\"text-align: right;\">\n      <th></th>\n      <th>ProductName</th>\n      <th>level_1</th>\n      <th>level_2</th>\n      <th>level_3</th>\n      <th>PricePerItem</th>\n      <th>PriceMode</th>\n      <th>HasMultiBuyDeal</th>\n      <th>MultiBuyDeal</th>\n      <th>MultiBuyBasePrice</th>\n      <th>MultiBuyPrice</th>\n      <th>MultiBuyQuantity</th>\n      <th>PromoBadgeImageLabel</th>\n    </tr>\n  </thead>\n  <tbody>\n    <tr>\n      <th>0</th>\n      <td>johnsons baby lotion</td>\n      <td>Baby, Toddler &amp; Kids</td>\n      <td>Baby Care</td>\n      <td>Baby Bathing &amp; Skin Care</td>\n      <td>4.89</td>\n      <td>ea</td>\n      <td>False</td>\n      <td>NaN</td>\n      <td>4.89</td>\n      <td>NaN</td>\n      <td>NaN</td>\n      <td>NaN</td>\n    </tr>\n    <tr>\n      <th>1</th>\n      <td>johnsons baby oil</td>\n      <td>Baby, Toddler &amp; Kids</td>\n      <td>Baby Care</td>\n      <td>Baby Bathing &amp; Skin Care</td>\n      <td>4.89</td>\n      <td>ea</td>\n      <td>False</td>\n      <td>NaN</td>\n      <td>4.89</td>\n      <td>NaN</td>\n      <td>NaN</td>\n      <td>NaN</td>\n    </tr>\n    <tr>\n      <th>2</th>\n      <td>sma balanced nutrition from birth infant formula</td>\n      <td>Baby, Toddler &amp; Kids</td>\n      <td>Baby Care</td>\n      <td>Baby Formula &amp; Toddler Food</td>\n      <td>17.99</td>\n      <td>ea</td>\n      <td>False</td>\n      <td>NaN</td>\n      <td>17.99</td>\n      <td>17.99</td>\n      <td>1.0</td>\n      <td>Saver</td>\n    </tr>\n    <tr>\n      <th>3</th>\n      <td>johnsons baby powder</td>\n      <td>Baby, Toddler &amp; Kids</td>\n      <td>Baby Care</td>\n      <td>Nappies &amp; Changing</td>\n      <td>2.99</td>\n      <td>ea</td>\n      <td>False</td>\n      <td>NaN</td>\n      <td>2.99</td>\n      <td>2.99</td>\n      <td>1.0</td>\n      <td>Saver</td>\n    </tr>\n    <tr>\n      <th>4</th>\n      <td>johnsons baby powder</td>\n      <td>Baby, Toddler &amp; Kids</td>\n      <td>Baby Care</td>\n      <td>Nappies &amp; Changing</td>\n      <td>4.89</td>\n      <td>ea</td>\n      <td>False</td>\n      <td>NaN</td>\n      <td>4.89</td>\n      <td>NaN</td>\n      <td>NaN</td>\n      <td>NaN</td>\n    </tr>\n  </tbody>\n</table>\n</div>"
     },
     "execution_count": 3,
     "metadata": {},
     "output_type": "execute_result"
    }
   ],
   "source": [
    "punctuations = re.compile(r'[^a-zA-Z\\s]+')\n",
    "df[\"ProductName\"] = [\" \".join(punctuations.sub('', x).lower().split()) for x in df[\"ProductName\"].tolist()]\n",
    "df.head(5)"
   ],
   "metadata": {
    "collapsed": false,
    "pycharm": {
     "name": "#%%\n"
    }
   }
  },
  {
   "cell_type": "code",
   "execution_count": 4,
   "outputs": [
    {
     "data": {
      "text/plain": "                                        ProductName               level_1  \\\n0                              johnsons baby lotion  Baby, Toddler & Kids   \n1                                 johnsons baby oil  Baby, Toddler & Kids   \n2  sma balanced nutrition from birth infant formula  Baby, Toddler & Kids   \n3                              johnsons baby powder  Baby, Toddler & Kids   \n4                              johnsons baby powder  Baby, Toddler & Kids   \n\n     level_2                      level_3  PricePerItem PriceMode  \\\n0  Baby Care     Baby Bathing & Skin Care          4.89        ea   \n1  Baby Care     Baby Bathing & Skin Care          4.89        ea   \n2  Baby Care  Baby Formula & Toddler Food         17.99        ea   \n3  Baby Care           Nappies & Changing          2.99        ea   \n4  Baby Care           Nappies & Changing          4.89        ea   \n\n   HasMultiBuyDeal MultiBuyDeal  MultiBuyBasePrice  MultiBuyPrice  \\\n0            False                            4.89            NaN   \n1            False                            4.89            NaN   \n2            False                           17.99          17.99   \n3            False                            2.99           2.99   \n4            False                            4.89            NaN   \n\n   MultiBuyQuantity PromoBadgeImageLabel  \n0               NaN                  NaN  \n1               NaN                  NaN  \n2               1.0                Saver  \n3               1.0                Saver  \n4               NaN                  NaN  ",
      "text/html": "<div>\n<style scoped>\n    .dataframe tbody tr th:only-of-type {\n        vertical-align: middle;\n    }\n\n    .dataframe tbody tr th {\n        vertical-align: top;\n    }\n\n    .dataframe thead th {\n        text-align: right;\n    }\n</style>\n<table border=\"1\" class=\"dataframe\">\n  <thead>\n    <tr style=\"text-align: right;\">\n      <th></th>\n      <th>ProductName</th>\n      <th>level_1</th>\n      <th>level_2</th>\n      <th>level_3</th>\n      <th>PricePerItem</th>\n      <th>PriceMode</th>\n      <th>HasMultiBuyDeal</th>\n      <th>MultiBuyDeal</th>\n      <th>MultiBuyBasePrice</th>\n      <th>MultiBuyPrice</th>\n      <th>MultiBuyQuantity</th>\n      <th>PromoBadgeImageLabel</th>\n    </tr>\n  </thead>\n  <tbody>\n    <tr>\n      <th>0</th>\n      <td>johnsons baby lotion</td>\n      <td>Baby, Toddler &amp; Kids</td>\n      <td>Baby Care</td>\n      <td>Baby Bathing &amp; Skin Care</td>\n      <td>4.89</td>\n      <td>ea</td>\n      <td>False</td>\n      <td></td>\n      <td>4.89</td>\n      <td>NaN</td>\n      <td>NaN</td>\n      <td>NaN</td>\n    </tr>\n    <tr>\n      <th>1</th>\n      <td>johnsons baby oil</td>\n      <td>Baby, Toddler &amp; Kids</td>\n      <td>Baby Care</td>\n      <td>Baby Bathing &amp; Skin Care</td>\n      <td>4.89</td>\n      <td>ea</td>\n      <td>False</td>\n      <td></td>\n      <td>4.89</td>\n      <td>NaN</td>\n      <td>NaN</td>\n      <td>NaN</td>\n    </tr>\n    <tr>\n      <th>2</th>\n      <td>sma balanced nutrition from birth infant formula</td>\n      <td>Baby, Toddler &amp; Kids</td>\n      <td>Baby Care</td>\n      <td>Baby Formula &amp; Toddler Food</td>\n      <td>17.99</td>\n      <td>ea</td>\n      <td>False</td>\n      <td></td>\n      <td>17.99</td>\n      <td>17.99</td>\n      <td>1.0</td>\n      <td>Saver</td>\n    </tr>\n    <tr>\n      <th>3</th>\n      <td>johnsons baby powder</td>\n      <td>Baby, Toddler &amp; Kids</td>\n      <td>Baby Care</td>\n      <td>Nappies &amp; Changing</td>\n      <td>2.99</td>\n      <td>ea</td>\n      <td>False</td>\n      <td></td>\n      <td>2.99</td>\n      <td>2.99</td>\n      <td>1.0</td>\n      <td>Saver</td>\n    </tr>\n    <tr>\n      <th>4</th>\n      <td>johnsons baby powder</td>\n      <td>Baby, Toddler &amp; Kids</td>\n      <td>Baby Care</td>\n      <td>Nappies &amp; Changing</td>\n      <td>4.89</td>\n      <td>ea</td>\n      <td>False</td>\n      <td></td>\n      <td>4.89</td>\n      <td>NaN</td>\n      <td>NaN</td>\n      <td>NaN</td>\n    </tr>\n  </tbody>\n</table>\n</div>"
     },
     "execution_count": 4,
     "metadata": {},
     "output_type": "execute_result"
    }
   ],
   "source": [
    "df[\"MultiBuyDeal\"] = [\" \".join(punctuations.sub('', y).lower().split()) if y == y else \" \" for y in\n",
    "                      df[\"MultiBuyDeal\"].tolist()]\n",
    "df.head(5)"
   ],
   "metadata": {
    "collapsed": false,
    "pycharm": {
     "name": "#%%\n"
    }
   }
  },
  {
   "cell_type": "code",
   "execution_count": 5,
   "outputs": [
    {
     "data": {
      "text/plain": "                                        ProductName               level_1  \\\n0                              johnsons baby lotion  Baby, Toddler & Kids   \n1                                 johnsons baby oil  Baby, Toddler & Kids   \n2  sma balanced nutrition from birth infant formula  Baby, Toddler & Kids   \n3                              johnsons baby powder  Baby, Toddler & Kids   \n4                              johnsons baby powder  Baby, Toddler & Kids   \n\n     level_2                      level_3  PricePerItem PriceMode  \\\n0  Baby Care     Baby Bathing & Skin Care          4.89        ea   \n1  Baby Care     Baby Bathing & Skin Care          4.89        ea   \n2  Baby Care  Baby Formula & Toddler Food         17.99        ea   \n3  Baby Care           Nappies & Changing          2.99        ea   \n4  Baby Care           Nappies & Changing          4.89        ea   \n\n   HasMultiBuyDeal MultiBuyDeal  MultiBuyBasePrice  MultiBuyPrice  \\\n0            False                            4.89            NaN   \n1            False                            4.89            NaN   \n2            False                           17.99          17.99   \n3            False                            2.99           2.99   \n4            False                            4.89            NaN   \n\n   MultiBuyQuantity PromoBadgeImageLabel  \n0               NaN                       \n1               NaN                       \n2               1.0                saver  \n3               1.0                saver  \n4               NaN                       ",
      "text/html": "<div>\n<style scoped>\n    .dataframe tbody tr th:only-of-type {\n        vertical-align: middle;\n    }\n\n    .dataframe tbody tr th {\n        vertical-align: top;\n    }\n\n    .dataframe thead th {\n        text-align: right;\n    }\n</style>\n<table border=\"1\" class=\"dataframe\">\n  <thead>\n    <tr style=\"text-align: right;\">\n      <th></th>\n      <th>ProductName</th>\n      <th>level_1</th>\n      <th>level_2</th>\n      <th>level_3</th>\n      <th>PricePerItem</th>\n      <th>PriceMode</th>\n      <th>HasMultiBuyDeal</th>\n      <th>MultiBuyDeal</th>\n      <th>MultiBuyBasePrice</th>\n      <th>MultiBuyPrice</th>\n      <th>MultiBuyQuantity</th>\n      <th>PromoBadgeImageLabel</th>\n    </tr>\n  </thead>\n  <tbody>\n    <tr>\n      <th>0</th>\n      <td>johnsons baby lotion</td>\n      <td>Baby, Toddler &amp; Kids</td>\n      <td>Baby Care</td>\n      <td>Baby Bathing &amp; Skin Care</td>\n      <td>4.89</td>\n      <td>ea</td>\n      <td>False</td>\n      <td></td>\n      <td>4.89</td>\n      <td>NaN</td>\n      <td>NaN</td>\n      <td></td>\n    </tr>\n    <tr>\n      <th>1</th>\n      <td>johnsons baby oil</td>\n      <td>Baby, Toddler &amp; Kids</td>\n      <td>Baby Care</td>\n      <td>Baby Bathing &amp; Skin Care</td>\n      <td>4.89</td>\n      <td>ea</td>\n      <td>False</td>\n      <td></td>\n      <td>4.89</td>\n      <td>NaN</td>\n      <td>NaN</td>\n      <td></td>\n    </tr>\n    <tr>\n      <th>2</th>\n      <td>sma balanced nutrition from birth infant formula</td>\n      <td>Baby, Toddler &amp; Kids</td>\n      <td>Baby Care</td>\n      <td>Baby Formula &amp; Toddler Food</td>\n      <td>17.99</td>\n      <td>ea</td>\n      <td>False</td>\n      <td></td>\n      <td>17.99</td>\n      <td>17.99</td>\n      <td>1.0</td>\n      <td>saver</td>\n    </tr>\n    <tr>\n      <th>3</th>\n      <td>johnsons baby powder</td>\n      <td>Baby, Toddler &amp; Kids</td>\n      <td>Baby Care</td>\n      <td>Nappies &amp; Changing</td>\n      <td>2.99</td>\n      <td>ea</td>\n      <td>False</td>\n      <td></td>\n      <td>2.99</td>\n      <td>2.99</td>\n      <td>1.0</td>\n      <td>saver</td>\n    </tr>\n    <tr>\n      <th>4</th>\n      <td>johnsons baby powder</td>\n      <td>Baby, Toddler &amp; Kids</td>\n      <td>Baby Care</td>\n      <td>Nappies &amp; Changing</td>\n      <td>4.89</td>\n      <td>ea</td>\n      <td>False</td>\n      <td></td>\n      <td>4.89</td>\n      <td>NaN</td>\n      <td>NaN</td>\n      <td></td>\n    </tr>\n  </tbody>\n</table>\n</div>"
     },
     "execution_count": 5,
     "metadata": {},
     "output_type": "execute_result"
    }
   ],
   "source": [
    "df[\"PromoBadgeImageLabel\"] = [\" \".join(punctuations.sub('', z).lower().split()) if z == z else \" \" for z in\n",
    "                              df[\"PromoBadgeImageLabel\"].tolist()]\n",
    "df.head(5)"
   ],
   "metadata": {
    "collapsed": false,
    "pycharm": {
     "name": "#%%\n"
    }
   }
  },
  {
   "cell_type": "code",
   "execution_count": 6,
   "outputs": [
    {
     "data": {
      "text/plain": "                                        ProductName               level_1  \\\n0                              johnsons baby lotion  Baby, Toddler & Kids   \n1                                 johnsons baby oil  Baby, Toddler & Kids   \n2  sma balanced nutrition from birth infant formula  Baby, Toddler & Kids   \n3                              johnsons baby powder  Baby, Toddler & Kids   \n4                              johnsons baby powder  Baby, Toddler & Kids   \n\n     level_2                      level_3  PricePerItem PriceMode  \\\n0  Baby Care     Baby Bathing & Skin Care          4.89        ea   \n1  Baby Care     Baby Bathing & Skin Care          4.89        ea   \n2  Baby Care  Baby Formula & Toddler Food         17.99        ea   \n3  Baby Care           Nappies & Changing          2.99        ea   \n4  Baby Care           Nappies & Changing          4.89        ea   \n\n   HasMultiBuyDeal MultiBuyDeal  MultiBuyBasePrice  MultiBuyPrice  \\\n0            False                            4.89           0.00   \n1            False                            4.89           0.00   \n2            False                           17.99          17.99   \n3            False                            2.99           2.99   \n4            False                            4.89           0.00   \n\n   MultiBuyQuantity PromoBadgeImageLabel  \n0               0.0                       \n1               0.0                       \n2               1.0                saver  \n3               1.0                saver  \n4               0.0                       ",
      "text/html": "<div>\n<style scoped>\n    .dataframe tbody tr th:only-of-type {\n        vertical-align: middle;\n    }\n\n    .dataframe tbody tr th {\n        vertical-align: top;\n    }\n\n    .dataframe thead th {\n        text-align: right;\n    }\n</style>\n<table border=\"1\" class=\"dataframe\">\n  <thead>\n    <tr style=\"text-align: right;\">\n      <th></th>\n      <th>ProductName</th>\n      <th>level_1</th>\n      <th>level_2</th>\n      <th>level_3</th>\n      <th>PricePerItem</th>\n      <th>PriceMode</th>\n      <th>HasMultiBuyDeal</th>\n      <th>MultiBuyDeal</th>\n      <th>MultiBuyBasePrice</th>\n      <th>MultiBuyPrice</th>\n      <th>MultiBuyQuantity</th>\n      <th>PromoBadgeImageLabel</th>\n    </tr>\n  </thead>\n  <tbody>\n    <tr>\n      <th>0</th>\n      <td>johnsons baby lotion</td>\n      <td>Baby, Toddler &amp; Kids</td>\n      <td>Baby Care</td>\n      <td>Baby Bathing &amp; Skin Care</td>\n      <td>4.89</td>\n      <td>ea</td>\n      <td>False</td>\n      <td></td>\n      <td>4.89</td>\n      <td>0.00</td>\n      <td>0.0</td>\n      <td></td>\n    </tr>\n    <tr>\n      <th>1</th>\n      <td>johnsons baby oil</td>\n      <td>Baby, Toddler &amp; Kids</td>\n      <td>Baby Care</td>\n      <td>Baby Bathing &amp; Skin Care</td>\n      <td>4.89</td>\n      <td>ea</td>\n      <td>False</td>\n      <td></td>\n      <td>4.89</td>\n      <td>0.00</td>\n      <td>0.0</td>\n      <td></td>\n    </tr>\n    <tr>\n      <th>2</th>\n      <td>sma balanced nutrition from birth infant formula</td>\n      <td>Baby, Toddler &amp; Kids</td>\n      <td>Baby Care</td>\n      <td>Baby Formula &amp; Toddler Food</td>\n      <td>17.99</td>\n      <td>ea</td>\n      <td>False</td>\n      <td></td>\n      <td>17.99</td>\n      <td>17.99</td>\n      <td>1.0</td>\n      <td>saver</td>\n    </tr>\n    <tr>\n      <th>3</th>\n      <td>johnsons baby powder</td>\n      <td>Baby, Toddler &amp; Kids</td>\n      <td>Baby Care</td>\n      <td>Nappies &amp; Changing</td>\n      <td>2.99</td>\n      <td>ea</td>\n      <td>False</td>\n      <td></td>\n      <td>2.99</td>\n      <td>2.99</td>\n      <td>1.0</td>\n      <td>saver</td>\n    </tr>\n    <tr>\n      <th>4</th>\n      <td>johnsons baby powder</td>\n      <td>Baby, Toddler &amp; Kids</td>\n      <td>Baby Care</td>\n      <td>Nappies &amp; Changing</td>\n      <td>4.89</td>\n      <td>ea</td>\n      <td>False</td>\n      <td></td>\n      <td>4.89</td>\n      <td>0.00</td>\n      <td>0.0</td>\n      <td></td>\n    </tr>\n  </tbody>\n</table>\n</div>"
     },
     "execution_count": 6,
     "metadata": {},
     "output_type": "execute_result"
    }
   ],
   "source": [
    "df[\"MultiBuyPrice\"].fillna(0, inplace=True)\n",
    "df[\"MultiBuyQuantity\"].fillna(0, inplace=True)\n",
    "df.head(5)"
   ],
   "metadata": {
    "collapsed": false,
    "pycharm": {
     "name": "#%%\n"
    }
   }
  },
  {
   "cell_type": "code",
   "execution_count": 7,
   "outputs": [
    {
     "data": {
      "text/plain": "<BarContainer object of 449 artists>"
     },
     "execution_count": 7,
     "metadata": {},
     "output_type": "execute_result"
    },
    {
     "data": {
      "text/plain": "<Figure size 432x288 with 1 Axes>",
      "image/png": "[encoded data removed]"
     },
     "metadata": {
      "needs_background": "light"
     },
     "output_type": "display_data"
    }
   ],
   "source": [
    "typesa = df.value_counts(columns[1:4])\n",
    "plot.bar([a for a in range(typesa.size)], typesa)"
   ],
   "metadata": {
    "collapsed": false,
    "pycharm": {
     "name": "#%%\n"
    }
   }
  },
  {
   "cell_type": "code",
   "execution_count": 8,
   "outputs": [
    {
     "data": {
      "text/plain": "<BarContainer object of 43 artists>"
     },
     "execution_count": 8,
     "metadata": {},
     "output_type": "execute_result"
    },
    {
     "data": {
      "text/plain": "<Figure size 432x288 with 1 Axes>",
      "image/png": "[encoded data removed]"
     },
     "metadata": {
      "needs_background": "light"
     },
     "output_type": "display_data"
    }
   ],
   "source": [
    "typesb = df.value_counts(columns[1:3])\n",
    "plot.bar([a for a in range(typesb.size)], typesb)"
   ],
   "metadata": {
    "collapsed": false,
    "pycharm": {
     "name": "#%%\n"
    }
   }
  },
  {
   "cell_type": "code",
   "execution_count": 9,
   "outputs": [
    {
     "data": {
      "text/plain": "level_1                    \nPantry                         4740\nPersonal Care                  1778\nFresh Foods & Bakery           1721\nChilled, Frozen & Desserts     1426\nBeer, Cider & Wine             1232\nKitchen, Dining & Household    1182\nDrinks                         1063\nPets                            512\nMeal Spot                       456\nBaby, Toddler & Kids            354\nFeatured                        121\ndtype: int64"
     },
     "execution_count": 9,
     "metadata": {},
     "output_type": "execute_result"
    }
   ],
   "source": [
    "typesc = df.value_counts(columns[1:2])\n",
    "typesc"
   ],
   "metadata": {
    "collapsed": false,
    "pycharm": {
     "name": "#%%\n"
    }
   }
  },
  {
   "cell_type": "code",
   "execution_count": 10,
   "outputs": [
    {
     "data": {
      "text/plain": "                                        ProductName               level_1  \\\n0                              johnsons baby lotion  Baby, Toddler & Kids   \n1                                 johnsons baby oil  Baby, Toddler & Kids   \n2  sma balanced nutrition from birth infant formula  Baby, Toddler & Kids   \n3                              johnsons baby powder  Baby, Toddler & Kids   \n4                              johnsons baby powder  Baby, Toddler & Kids   \n\n     level_2                      level_3  PricePerItem PriceMode  \\\n0  Baby Care     Baby Bathing & Skin Care          4.89        ea   \n1  Baby Care     Baby Bathing & Skin Care          4.89        ea   \n2  Baby Care  Baby Formula & Toddler Food         17.99        ea   \n3  Baby Care           Nappies & Changing          2.99        ea   \n4  Baby Care           Nappies & Changing          4.89        ea   \n\n   HasMultiBuyDeal MultiBuyDeal  MultiBuyBasePrice  MultiBuyPrice  \\\n0            False                            4.89           0.00   \n1            False                            4.89           0.00   \n2            False                           17.99          17.99   \n3            False                            2.99           2.99   \n4            False                            4.89           0.00   \n\n   MultiBuyQuantity PromoBadgeImageLabel  \n0               0.0                       \n1               0.0                       \n2               1.0                saver  \n3               1.0                saver  \n4               0.0                       ",
      "text/html": "<div>\n<style scoped>\n    .dataframe tbody tr th:only-of-type {\n        vertical-align: middle;\n    }\n\n    .dataframe tbody tr th {\n        vertical-align: top;\n    }\n\n    .dataframe thead th {\n        text-align: right;\n    }\n</style>\n<table border=\"1\" class=\"dataframe\">\n  <thead>\n    <tr style=\"text-align: right;\">\n      <th></th>\n      <th>ProductName</th>\n      <th>level_1</th>\n      <th>level_2</th>\n      <th>level_3</th>\n      <th>PricePerItem</th>\n      <th>PriceMode</th>\n      <th>HasMultiBuyDeal</th>\n      <th>MultiBuyDeal</th>\n      <th>MultiBuyBasePrice</th>\n      <th>MultiBuyPrice</th>\n      <th>MultiBuyQuantity</th>\n      <th>PromoBadgeImageLabel</th>\n    </tr>\n  </thead>\n  <tbody>\n    <tr>\n      <th>0</th>\n      <td>johnsons baby lotion</td>\n      <td>Baby, Toddler &amp; Kids</td>\n      <td>Baby Care</td>\n      <td>Baby Bathing &amp; Skin Care</td>\n      <td>4.89</td>\n      <td>ea</td>\n      <td>False</td>\n      <td></td>\n      <td>4.89</td>\n      <td>0.00</td>\n      <td>0.0</td>\n      <td></td>\n    </tr>\n    <tr>\n      <th>1</th>\n      <td>johnsons baby oil</td>\n      <td>Baby, Toddler &amp; Kids</td>\n      <td>Baby Care</td>\n      <td>Baby Bathing &amp; Skin Care</td>\n      <td>4.89</td>\n      <td>ea</td>\n      <td>False</td>\n      <td></td>\n      <td>4.89</td>\n      <td>0.00</td>\n      <td>0.0</td>\n      <td></td>\n    </tr>\n    <tr>\n      <th>2</th>\n      <td>sma balanced nutrition from birth infant formula</td>\n      <td>Baby, Toddler &amp; Kids</td>\n      <td>Baby Care</td>\n      <td>Baby Formula &amp; Toddler Food</td>\n      <td>17.99</td>\n      <td>ea</td>\n      <td>False</td>\n      <td></td>\n      <td>17.99</td>\n      <td>17.99</td>\n      <td>1.0</td>\n      <td>saver</td>\n    </tr>\n    <tr>\n      <th>3</th>\n      <td>johnsons baby powder</td>\n      <td>Baby, Toddler &amp; Kids</td>\n      <td>Baby Care</td>\n      <td>Nappies &amp; Changing</td>\n      <td>2.99</td>\n      <td>ea</td>\n      <td>False</td>\n      <td></td>\n      <td>2.99</td>\n      <td>2.99</td>\n      <td>1.0</td>\n      <td>saver</td>\n    </tr>\n    <tr>\n      <th>4</th>\n      <td>johnsons baby powder</td>\n      <td>Baby, Toddler &amp; Kids</td>\n      <td>Baby Care</td>\n      <td>Nappies &amp; Changing</td>\n      <td>4.89</td>\n      <td>ea</td>\n      <td>False</td>\n      <td></td>\n      <td>4.89</td>\n      <td>0.00</td>\n      <td>0.0</td>\n      <td></td>\n    </tr>\n  </tbody>\n</table>\n</div>"
     },
     "execution_count": 10,
     "metadata": {},
     "output_type": "execute_result"
    }
   ],
   "source": [
    "df = df[df[\"level_1\"] != \"Featured\"]\n",
    "df.head(5)"
   ],
   "metadata": {
    "collapsed": false,
    "pycharm": {
     "name": "#%%\n"
    }
   }
  },
  {
   "cell_type": "code",
   "execution_count": 11,
   "outputs": [
    {
     "data": {
      "text/plain": "(array([1.974e+03, 4.555e+03, 3.223e+03, 1.367e+03, 9.790e+02, 5.380e+02,\n        5.470e+02, 1.890e+02, 2.290e+02, 1.670e+02, 1.250e+02, 7.600e+01,\n        2.800e+01, 2.000e+01, 2.800e+01, 1.200e+01, 2.200e+01, 6.000e+00,\n        1.200e+01, 1.000e+00, 1.200e+01, 0.000e+00, 2.000e+00, 0.000e+00,\n        1.000e+00, 0.000e+00, 0.000e+00, 0.000e+00, 2.000e+00, 0.000e+00,\n        1.000e+00, 0.000e+00, 0.000e+00, 2.000e+00, 0.000e+00, 1.000e+00,\n        0.000e+00, 1.000e+00, 0.000e+00, 1.000e+00, 0.000e+00, 2.000e+00,\n        0.000e+00, 0.000e+00, 0.000e+00, 0.000e+00, 0.000e+00, 0.000e+00,\n        0.000e+00, 1.000e+00]),\n array([  0.15  ,   2.5668,   4.9836,   7.4004,   9.8172,  12.234 ,\n         14.6508,  17.0676,  19.4844,  21.9012,  24.318 ,  26.7348,\n         29.1516,  31.5684,  33.9852,  36.402 ,  38.8188,  41.2356,\n         43.6524,  46.0692,  48.486 ,  50.9028,  53.3196,  55.7364,\n         58.1532,  60.57  ,  62.9868,  65.4036,  67.8204,  70.2372,\n         72.654 ,  75.0708,  77.4876,  79.9044,  82.3212,  84.738 ,\n         87.1548,  89.5716,  91.9884,  94.4052,  96.822 ,  99.2388,\n        101.6556, 104.0724, 106.4892, 108.906 , 111.3228, 113.7396,\n        116.1564, 118.5732, 120.99  ]),\n <BarContainer object of 50 artists>)"
     },
     "execution_count": 11,
     "metadata": {},
     "output_type": "execute_result"
    },
    {
     "data": {
      "text/plain": "<Figure size 432x288 with 1 Axes>",
      "image/png": "[encoded data removed]"
     },
     "metadata": {
      "needs_background": "light"
     },
     "output_type": "display_data"
    }
   ],
   "source": [
    "dfea = df[df[\"PriceMode\"] == \"ea\"]\n",
    "plot.hist(dfea[\"PricePerItem\"].tolist(), bins=50)"
   ],
   "metadata": {
    "collapsed": false,
    "pycharm": {
     "name": "#%%\n"
    }
   }
  },
  {
   "cell_type": "code",
   "execution_count": 12,
   "outputs": [
    {
     "data": {
      "text/plain": "(array([13., 21., 25., 13., 22., 30., 33.,  9., 41., 19., 45., 11.,  9.,\n        14.,  9.,  1.,  3.,  3.,  7.,  2.,  2.,  1.,  0.,  1.,  0.,  0.,\n         1.,  0.,  0.,  0.,  1.,  2.,  0.,  0.,  0.,  0.,  0.,  0.,  1.,\n         0.,  0.,  0.,  0.,  0.,  0.,  0.,  0.,  0.,  0.,  1.]),\n array([  2.29  ,   4.8422,   7.3944,   9.9466,  12.4988,  15.051 ,\n         17.6032,  20.1554,  22.7076,  25.2598,  27.812 ,  30.3642,\n         32.9164,  35.4686,  38.0208,  40.573 ,  43.1252,  45.6774,\n         48.2296,  50.7818,  53.334 ,  55.8862,  58.4384,  60.9906,\n         63.5428,  66.095 ,  68.6472,  71.1994,  73.7516,  76.3038,\n         78.856 ,  81.4082,  83.9604,  86.5126,  89.0648,  91.617 ,\n         94.1692,  96.7214,  99.2736, 101.8258, 104.378 , 106.9302,\n        109.4824, 112.0346, 114.5868, 117.139 , 119.6912, 122.2434,\n        124.7956, 127.3478, 129.9   ]),\n <BarContainer object of 50 artists>)"
     },
     "execution_count": 12,
     "metadata": {},
     "output_type": "execute_result"
    },
    {
     "data": {
      "text/plain": "<Figure size 432x288 with 1 Axes>",
      "image/png": "[encoded data removed]"
     },
     "metadata": {
      "needs_background": "light"
     },
     "output_type": "display_data"
    }
   ],
   "source": [
    "dfkg = df[df[\"PriceMode\"] == \"kg\"]\n",
    "plot.hist(dfkg[\"PricePerItem\"].tolist(), bins=50)"
   ],
   "metadata": {
    "collapsed": false,
    "pycharm": {
     "name": "#%%\n"
    }
   }
  },
  {
   "cell_type": "code",
   "execution_count": 13,
   "outputs": [
    {
     "data": {
      "text/plain": "                                        ProductName               level_1  \\\n0                              johnsons baby lotion  Baby, Toddler & Kids   \n1                                 johnsons baby oil  Baby, Toddler & Kids   \n2  sma balanced nutrition from birth infant formula  Baby, Toddler & Kids   \n3                              johnsons baby powder  Baby, Toddler & Kids   \n4                              johnsons baby powder  Baby, Toddler & Kids   \n\n     level_2                      level_3  PricePerItem PriceMode  \\\n0  Baby Care     Baby Bathing & Skin Care             5        ea   \n1  Baby Care     Baby Bathing & Skin Care             5        ea   \n2  Baby Care  Baby Formula & Toddler Food            20        ea   \n3  Baby Care           Nappies & Changing             5        ea   \n4  Baby Care           Nappies & Changing             5        ea   \n\n   HasMultiBuyDeal MultiBuyDeal  MultiBuyBasePrice  MultiBuyPrice  \\\n0            False                               5              0   \n1            False                               5              0   \n2            False                              20             20   \n3            False                               5              5   \n4            False                               5              0   \n\n   MultiBuyQuantity PromoBadgeImageLabel  \n0                 0                       \n1                 0                       \n2                 1                saver  \n3                 1                saver  \n4                 0                       ",
      "text/html": "<div>\n<style scoped>\n    .dataframe tbody tr th:only-of-type {\n        vertical-align: middle;\n    }\n\n    .dataframe tbody tr th {\n        vertical-align: top;\n    }\n\n    .dataframe thead th {\n        text-align: right;\n    }\n</style>\n<table border=\"1\" class=\"dataframe\">\n  <thead>\n    <tr style=\"text-align: right;\">\n      <th></th>\n      <th>ProductName</th>\n      <th>level_1</th>\n      <th>level_2</th>\n      <th>level_3</th>\n      <th>PricePerItem</th>\n      <th>PriceMode</th>\n      <th>HasMultiBuyDeal</th>\n      <th>MultiBuyDeal</th>\n      <th>MultiBuyBasePrice</th>\n      <th>MultiBuyPrice</th>\n      <th>MultiBuyQuantity</th>\n      <th>PromoBadgeImageLabel</th>\n    </tr>\n  </thead>\n  <tbody>\n    <tr>\n      <th>0</th>\n      <td>johnsons baby lotion</td>\n      <td>Baby, Toddler &amp; Kids</td>\n      <td>Baby Care</td>\n      <td>Baby Bathing &amp; Skin Care</td>\n      <td>5</td>\n      <td>ea</td>\n      <td>False</td>\n      <td></td>\n      <td>5</td>\n      <td>0</td>\n      <td>0</td>\n      <td></td>\n    </tr>\n    <tr>\n      <th>1</th>\n      <td>johnsons baby oil</td>\n      <td>Baby, Toddler &amp; Kids</td>\n      <td>Baby Care</td>\n      <td>Baby Bathing &amp; Skin Care</td>\n      <td>5</td>\n      <td>ea</td>\n      <td>False</td>\n      <td></td>\n      <td>5</td>\n      <td>0</td>\n      <td>0</td>\n      <td></td>\n    </tr>\n    <tr>\n      <th>2</th>\n      <td>sma balanced nutrition from birth infant formula</td>\n      <td>Baby, Toddler &amp; Kids</td>\n      <td>Baby Care</td>\n      <td>Baby Formula &amp; Toddler Food</td>\n      <td>20</td>\n      <td>ea</td>\n      <td>False</td>\n      <td></td>\n      <td>20</td>\n      <td>20</td>\n      <td>1</td>\n      <td>saver</td>\n    </tr>\n    <tr>\n      <th>3</th>\n      <td>johnsons baby powder</td>\n      <td>Baby, Toddler &amp; Kids</td>\n      <td>Baby Care</td>\n      <td>Nappies &amp; Changing</td>\n      <td>5</td>\n      <td>ea</td>\n      <td>False</td>\n      <td></td>\n      <td>5</td>\n      <td>5</td>\n      <td>1</td>\n      <td>saver</td>\n    </tr>\n    <tr>\n      <th>4</th>\n      <td>johnsons baby powder</td>\n      <td>Baby, Toddler &amp; Kids</td>\n      <td>Baby Care</td>\n      <td>Nappies &amp; Changing</td>\n      <td>5</td>\n      <td>ea</td>\n      <td>False</td>\n      <td></td>\n      <td>5</td>\n      <td>0</td>\n      <td>0</td>\n      <td></td>\n    </tr>\n  </tbody>\n</table>\n</div>"
     },
     "execution_count": 13,
     "metadata": {},
     "output_type": "execute_result"
    }
   ],
   "source": [
    "df[\"PricePerItem\"] = [round(p / 5) * 5 for p in df[\"PricePerItem\"].tolist()]\n",
    "df[\"MultiBuyPrice\"] = [round(p / 5) * 5 for p in df[\"MultiBuyPrice\"].tolist()]\n",
    "df[\"MultiBuyBasePrice\"] = [round(p / 5) * 5 for p in df[\"MultiBuyBasePrice\"].tolist()]\n",
    "df[\"MultiBuyQuantity\"] = [int(q) for q in df[\"MultiBuyQuantity\"].tolist()]\n",
    "df.head(5)"
   ],
   "metadata": {
    "collapsed": false,
    "pycharm": {
     "name": "#%%\n"
    }
   }
  },
  {
   "cell_type": "code",
   "execution_count": 14,
   "outputs": [
    {
     "data": {
      "text/plain": "<BarContainer object of 429 artists>"
     },
     "execution_count": 14,
     "metadata": {},
     "output_type": "execute_result"
    },
    {
     "data": {
      "text/plain": "<Figure size 432x288 with 1 Axes>",
      "image/png": "[encoded data removed]"
     },
     "metadata": {
      "needs_background": "light"
     },
     "output_type": "display_data"
    }
   ],
   "source": [
    "types = []\n",
    "countt = []\n",
    "countf = []\n",
    "levela = df[\"level_1\"].tolist()\n",
    "levelb = df[\"level_2\"].tolist()\n",
    "levelc = df[\"level_3\"].tolist()\n",
    "state = df[\"HasMultiBuyDeal\"].tolist()\n",
    "labels = [\";\".join([levela[i], levelb[i], levelc[i]]) for i in range(len(levela))]\n",
    "for i in range(len(labels)):\n",
    "    if labels[i] in types:\n",
    "        if state[i]:\n",
    "            countt[types.index(labels[i])] += 1\n",
    "        else:\n",
    "            countf[types.index(labels[i])] += 1\n",
    "    else:\n",
    "        types.append(labels[i])\n",
    "        countt.append(0)\n",
    "        countf.append(0)\n",
    "plot.bar([a for a in range(len(types))], countt)\n",
    "plot.bar([a for a in range(len(types))], countf, bottom=countt)"
   ],
   "metadata": {
    "collapsed": false,
    "pycharm": {
     "name": "#%%\n"
    }
   }
  },
  {
   "cell_type": "code",
   "execution_count": 15,
   "outputs": [
    {
     "data": {
      "text/plain": "<BarContainer object of 429 artists>"
     },
     "execution_count": 15,
     "metadata": {},
     "output_type": "execute_result"
    },
    {
     "data": {
      "text/plain": "<Figure size 432x288 with 1 Axes>",
      "image/png": "[encoded data removed]"
     },
     "metadata": {
      "needs_background": "light"
     },
     "output_type": "display_data"
    }
   ],
   "source": [
    "types = []\n",
    "countt = []\n",
    "countf = []\n",
    "levela = df[\"level_1\"].tolist()\n",
    "levelb = df[\"level_2\"].tolist()\n",
    "simple = [\";\".join([levela[i], levelb[i]]) for i in range(len(levela))]\n",
    "state = df[\"PromoBadgeImageLabel\"].tolist()\n",
    "for i in range(len(labels)):\n",
    "    if labels[i] in types:\n",
    "        if state[i]:\n",
    "            countt[types.index(labels[i])] += 1\n",
    "        else:\n",
    "            countf[types.index(labels[i])] += 1\n",
    "    else:\n",
    "        types.append(labels[i])\n",
    "        countt.append(0)\n",
    "        countf.append(0)\n",
    "plot.bar([a for a in range(len(types))], countt)\n",
    "plot.bar([a for a in range(len(types))], countf, bottom=countt)"
   ],
   "metadata": {
    "collapsed": false,
    "pycharm": {
     "name": "#%%\n"
    }
   }
  },
  {
   "cell_type": "code",
   "execution_count": 16,
   "outputs": [],
   "source": [
    "def evaluation(predictions, labels, id2label, model_name=None):\n",
    "    acc = accuracy_score(labels, predictions)\n",
    "    recall = recall_score(labels, predictions, average=\"macro\")\n",
    "    f1 = f1_score(labels, predictions, average=\"macro\")\n",
    "    report = classification_report(labels, predictions, target_names=[id2label[i] for i in range(len(id2label))],\n",
    "                                   labels=labels)\n",
    "    info = \"acc:%s, recall:%s, f1 score:%s\" % (acc, recall, f1)\n",
    "    if model_name is not None:\n",
    "        info = \"%s: %s\" % (model_name, info)\n",
    "    print(info)\n",
    "    print(report)"
   ],
   "metadata": {
    "collapsed": false,
    "pycharm": {
     "name": "#%%\n"
    }
   }
  },
  {
   "cell_type": "code",
   "execution_count": 17,
   "outputs": [
    {
     "name": "stdout",
     "output_type": "stream",
     "text": [
      "data len: 14464\n",
      "id2label {0: 'Baby, Toddler & Kids;Baby Care;Baby Health', 1: 'Pantry;World Foods;Mexican', 2: 'Pantry;Salad & Cooking Oils;Oil Sprays', 3: 'Fresh Foods & Bakery;Butchery;PrePacked Chicken & Poultry', 4: 'Pantry;Hot Drinks;Coffee Additives & Filters', 5: 'Chilled, Frozen & Desserts;Dairy & Eggs;Butter & Spreads', 6: 'Kitchen, Dining & Household;Cleaning Products;Glass Cleaners', 7: 'Chilled, Frozen & Desserts;Desserts;Frozen Puddings', 8: 'Chilled, Frozen & Desserts;Dairy & Eggs;Fresh Cream', 9: 'Fresh Foods & Bakery;Dairy & Eggs;Long Life Milk & Milk Powder', 10: 'Pantry;Canned & Prepared Foods;Canned Fruit', 11: 'Chilled, Frozen & Desserts;Dairy & Eggs;Yoghurt Bases', 12: 'Baby, Toddler & Kids;Baby Care;Baby Dental Care', 13: 'Fresh Foods & Bakery;Bakery;Wraps & Pita Breads', 14: 'Pantry;Condiments & Dressings;Chilli & Pepper Sauces', 15: 'Fresh Foods & Bakery;Deli, Salads & Cooked Meats;Ham & Pork', 16: 'Beer, Cider & Wine;Beer & Cider;British-style Ale', 17: 'Pantry;Snack Foods;Meat Snacks', 18: 'Pets;Pet Supplies;Dog Treats', 19: 'Personal Care;Health & Wellness;Insect Repellent', 20: 'Pantry;Confectionery;Novelty Bars & Singles', 21: 'Kitchen, Dining & Household;Laundry;Fine Fabric Washers', 22: 'Pantry;Condiments & Dressings;Aioli', 23: 'Pantry;World Foods;Thai', 24: 'Drinks;Cold Drinks;Flavoured Water', 25: 'Fresh Foods & Bakery;Dairy & Eggs;Sour Cream & Crème Fraiche', 26: 'Fresh Foods & Bakery;Seafood;Fresh Whole Fish', 27: 'Kitchen, Dining & Household;Stationery & Entertainment;Magazines', 28: 'Beer, Cider & Wine;Beer & Cider;IPA', 29: 'Pantry;World Foods;Chinese', 30: 'Fresh Foods & Bakery;Dairy & Eggs;Eggs', 31: 'Fresh Foods & Bakery;Bulk & Loose Foods;Bulk Snacks & Mixes', 32: 'Chilled, Frozen & Desserts;Desserts;Ice Blocks & Ice Pops', 33: 'Pantry;Spices & Seasonings;Salt & Pepper', 34: 'Personal Care;Beauty & Grooming;Hair Care & Treatments', 35: 'Kitchen, Dining & Household;Household;Pest & Insect Control', 36: 'Meal Spot;Ready to Cook;Mexican', 37: 'Pantry;Hot Drinks;Coffee Substitutes', 38: 'Fresh Foods & Bakery;Butchery;Fresh Venison & Game Meat', 39: 'Pantry;Sauces, Stock & Marinades;Marinades', 40: 'Pantry;Canned & Prepared Foods;Canned Soup', 41: 'Pantry;Canned & Prepared Foods;Baked Beans & Spaghetti', 42: 'Fresh Foods & Bakery;Bulk & Loose Foods;Bulk Seeds, Legumes & Grains', 43: 'Drinks;Cold Drinks;Non Dairy Milks', 44: 'Pantry;Confectionery;Chewing Gum & Mints', 45: 'Fresh Foods & Bakery;Seafood;Fresh Fish Heads', 46: 'Personal Care;Health & Wellness;Adult Care', 47: 'Chilled, Frozen & Desserts;Frozen Foods;Frozen Seafood', 48: 'Chilled, Frozen & Desserts;Cheese;Cheese Slices', 49: 'Chilled, Frozen & Desserts;Frozen Foods;Frozen Fruit', 50: 'Beer, Cider & Wine;Wine;Chardonnay', 51: 'Drinks;Hot Drinks;Malt Milk Drink Mixes', 52: 'Fresh Foods & Bakery;Bulk & Loose Foods;Bulk Confectionery', 53: 'Chilled, Frozen & Desserts;Desserts;Canned Desserts', 54: 'Fresh Foods & Bakery;Dairy & Eggs;Fresh Milk', 55: 'Pantry;Salad & Cooking Oils;Coconut Oils', 56: 'Drinks;Cold Drinks;Sports & Energy Drinks', 57: 'Pantry;Hot Drinks;Chai Teas', 58: 'Pantry;Baking Supplies & Sugar;Flour', 59: 'Drinks;Hot Drinks;Chocolate Milk Drink Mixes', 60: 'Drinks;Cold Drinks;Iced Teas', 61: 'Beer, Cider & Wine;Wine;Rose', 62: 'Pantry;Snack Foods;Popcorn', 63: 'Pantry;Snack Foods;Corn Chips', 64: 'Meal Spot;Ready to Heat;Packet Soup', 65: 'Pets;Pet Supplies;Bird Supplies', 66: 'Chilled, Frozen & Desserts;Desserts;Chilled Custards', 67: 'Chilled, Frozen & Desserts;Dairy & Eggs;Flavoured Milk', 68: 'Fresh Foods & Bakery;Meal Kits;Simply DINNER', 69: 'Kitchen, Dining & Household;Laundry;Washing Machine Cleaners', 70: 'Personal Care;Health & Wellness;Allergy & Sinus', 71: 'Kitchen, Dining & Household;Household;Batteries & Light Bulbs', 72: 'Fresh Foods & Bakery;Butchery;Fresh Sausages', 73: 'Pantry;Sauces, Stock & Marinades;Pasta Sauces', 74: 'Pantry;Jams, Honey & Spreads;Nut Spreads', 75: 'Pets;Pet Supplies;Cat Treats', 76: 'Pantry;Confectionery;Chocolate Family Bags', 77: 'Pantry;Sauces, Stock & Marinades;Tomato Pastes & Purees', 78: 'Pantry;Biscuits & Crackers;Plain Sweet Biscuits', 79: 'Pantry;Biscuits & Crackers;Crackers', 80: 'Fresh Foods & Bakery;Deli, Salads & Cooked Meats;Deli Meats', 81: 'Kitchen, Dining & Household;Stationery & Entertainment;Toys & Recreation', 82: 'Drinks;Cold Drinks;Milk Drink Mixes', 83: 'Meal Spot;Ready to Heat;Canned Soup', 84: 'Pantry;Canned & Prepared Foods;Ready Meals', 85: 'Pantry;Spices & Seasonings;Freshly Ground Herbs', 86: 'Pantry;Snack Foods;Nut Bars & Snacks', 87: 'Drinks;Cold Drinks;Chilled Fruit Juices', 88: 'Kitchen, Dining & Household;Household;Cooking & Bakeware', 89: 'Meal Spot;Ready to Heat;Frozen Ready Meals', 90: 'Pantry;World Foods;South African', 91: 'Pantry;Jams, Honey & Spreads;Savoury Spreads', 92: 'Personal Care;Beauty & Grooming;Shaving & Hair Removal', 93: 'Fresh Foods & Bakery;Dairy & Eggs;Fresh Organic Milk', 94: 'Beer, Cider & Wine;Beer & Cider;Lager', 95: 'Pets;Pet Supplies;Small Animal Supplies', 96: 'Beer, Cider & Wine;Wine;Other Red Wine', 97: 'Fresh Foods & Bakery;Bakery;Pies & Pastries', 98: 'Baby, Toddler & Kids;Baby Care;Nursing & Feeding', 99: 'Kitchen, Dining & Household;Garage & Outdoor;Hardware & Tools', 100: 'Kitchen, Dining & Household;Household;Food Storage', 101: 'Pantry;Baking Supplies & Sugar;Baking Nuts & Seeds', 102: 'Pantry;Pasta, Rice & Noodles;Wild & Coloured Rices', 103: 'Pantry;Breakfast Cereals;Flake/Fibre Cereals', 104: 'Pantry;Condiments & Dressings;Salad Dressings', 105: 'Pantry;World Foods;UK', 106: 'Kitchen, Dining & Household;Laundry;Laundry Liquid & Capsules', 107: 'Beer, Cider & Wine;Wine;Other White Wine', 108: 'Kitchen, Dining & Household;Household;Tissues & Toilet Paper', 109: 'Pantry;Spices & Seasonings;Chilli & Paprika', 110: 'Kitchen, Dining & Household;Cleaning Products;Paper Towels', 111: 'Fresh Foods & Bakery;Fruit & Vegetables;Fresh Cut Fruit', 112: 'Personal Care;Beauty & Grooming;Face & Lip Skin Care', 113: 'Beer, Cider & Wine;Wine;Cabernet', 114: 'Pantry;Pasta, Rice & Noodles;Jasmine Rices', 115: 'Fresh Foods & Bakery;Dairy & Eggs;Dairy & Lactose Free', 116: 'Personal Care;Beauty & Grooming;Deodorants', 117: 'Pantry;Canned & Prepared Foods;Canned Fish', 118: 'Pets;Pet Supplies;Fish & Aquatic Pet Supplies', 119: 'Pantry;Condiments & Dressings;Fruit Sauces', 120: 'Meal Spot;Ready to Eat;Seafood Salad', 121: 'Drinks;Hot Drinks;Chai Teas', 122: 'Kitchen, Dining & Household;Cleaning Products;Cleaning Accessories', 123: 'Pantry;Snack Foods;Chips', 124: 'Drinks;Cold Drinks;Sparkling Water', 125: 'Chilled, Frozen & Desserts;Desserts;Jelly & Powdered Desserts', 126: 'Fresh Foods & Bakery;Bulk & Loose Foods;Bulk Dried Fruit', 127: 'Kitchen, Dining & Household;Laundry;Clothing Dyes', 128: 'Kitchen, Dining & Household;Cleaning Products;Dishwashing Liquid', 129: 'Meal Spot;Ready to Eat;Deli Salads', 130: 'Fresh Foods & Bakery;Bulk & Loose Foods;Bulk Nuts', 131: 'Fresh Foods & Bakery;Deli, Salads & Cooked Meats;Bacon', 132: 'Chilled, Frozen & Desserts;Cheese;Specialty Cheeses', 133: 'Pantry;Baking Supplies & Sugar;Baking Syrups', 134: 'Personal Care;Health & Wellness;First Aid', 135: 'Kitchen, Dining & Household;Household;Shoe Care', 136: 'Fresh Foods & Bakery;Deli, Salads & Cooked Meats;Specialty Dry Goods', 137: 'Pantry;Biscuits & Crackers;Crème & Jam Biscuits', 138: 'Fresh Foods & Bakery;Bakery;Cakes & Muffins', 139: 'Chilled, Frozen & Desserts;Desserts;Ice Cream Cones & Wafers', 140: 'Fresh Foods & Bakery;Deli, Salads & Cooked Meats;Dips, Pesto & Pate', 141: 'Pantry;Sauces, Stock & Marinades;Chilled Pasta Sauces', 142: 'Drinks;Cold Drinks;Squash, Syrups & Cordials', 143: 'Kitchen, Dining & Household;Household;Electrical', 144: 'Pantry;Spices & Seasonings;Dried Spices', 145: 'Fresh Foods & Bakery;Deli, Salads & Cooked Meats;PreCooked Beef & Lamb', 146: 'Pantry;Baking Supplies & Sugar;Dried Fruit', 147: 'Fresh Foods & Bakery;Bakery;Fresh Desserts & Pastries', 148: 'Pantry;Sauces, Stock & Marinades;Specialty Sauces', 149: 'Fresh Foods & Bakery;Deli, Salads & Cooked Meats;PreCooked Chicken & Poultry', 150: 'Fresh Foods & Bakery;Bakery;Fresh Cakes & Muffins', 151: 'Pantry;Pasta, Rice & Noodles;Noodles', 152: 'Chilled, Frozen & Desserts;Dairy & Eggs;Long Life Milk & Milk Powder', 153: 'Fresh Foods & Bakery;Bakery;Fresh Biscuits & Slices', 154: 'Personal Care;Beauty & Grooming;Oral Health', 155: 'Kitchen, Dining & Household;Cleaning Products;Bathroom & Shower Cleaners', 156: 'Pets;Pet Supplies;Cat Food', 157: 'Chilled, Frozen & Desserts;Desserts;Frozen Dessert Pastries', 158: 'Beer, Cider & Wine;Wine;Sauvignon Blanc', 159: 'Beer, Cider & Wine;Beer & Cider;Apple & Pear Cider', 160: 'Fresh Foods & Bakery;Bakery;Garlic & Herb Breads', 161: 'Pantry;World Foods;Indian', 162: 'Pantry;Canned & Prepared Foods;Soup Mixes', 163: 'Pantry;Pasta, Rice & Noodles;Fresh Pastas', 164: 'Pantry;Pasta, Rice & Noodles;Specialty Grains & Seeds', 165: 'Meal Spot;Ready to Cook;Pasta Meals', 166: 'Pantry;Condiments & Dressings;Olives', 167: 'Pantry;Biscuits & Crackers;Rice Crackers', 168: 'Pantry;Hot Drinks;Black Teas', 169: 'Fresh Foods & Bakery;Dairy & Eggs;Yoghurt Bases', 170: 'Pantry;Snack Foods;Dips & Salsas', 171: 'Pantry;Biscuits & Crackers;Rice Cakes', 172: 'Fresh Foods & Bakery;Butchery;PrePacked Sausages', 173: 'Chilled, Frozen & Desserts;Dairy & Eggs;Eggs', 174: 'Chilled, Frozen & Desserts;Desserts;Frozen Bavarians & Cheesecake', 175: 'Chilled, Frozen & Desserts;Frozen Foods;Frozen Vegetables', 176: 'Kitchen, Dining & Household;Cleaning Products;Carpet & Floor Cleaners', 177: 'Fresh Foods & Bakery;Dairy & Eggs;Fresh Cream', 178: 'Beer, Cider & Wine;Beer & Cider;Stout, Porter & Black Beer', 179: 'Personal Care;Beauty & Grooming;Apparel & Hosiery', 180: 'Beer, Cider & Wine;Wine;Champagne & Sparkling Wine', 181: 'Pantry;Hot Drinks;Malt Milk Drink Mixes', 182: 'Fresh Foods & Bakery;Bakery;Sliced Bread', 183: 'Baby, Toddler & Kids;Baby Care;Baby Bathing & Skin Care', 184: 'Baby, Toddler & Kids;Baby Care;Baby Wipes', 185: 'Pets;Pet Supplies;Dog Accessories', 186: 'Pantry;Baking Supplies & Sugar;Icing & Decorating', 187: 'Kitchen, Dining & Household;Household;Manchester', 188: 'Pantry;Pasta, Rice & Noodles;Basmati Rices', 189: 'Personal Care;Health & Wellness;Stop Smoking', 190: 'Pantry;Baking Supplies & Sugar;Breadcrumbs & Coatings', 191: 'Meal Spot;Ready to Heat;Chilled Soups', 192: 'Chilled, Frozen & Desserts;Cheese;Cottage Cheese', 193: 'Pantry;Sauces, Stock & Marinades;Stock', 194: 'Pantry;Canned & Prepared Foods;Canned Meat', 195: 'Pantry;Canned & Prepared Foods;Pizza & Pizza Bases', 196: 'Pantry;Pasta, Rice & Noodles;Long Grain Rices', 197: 'Chilled, Frozen & Desserts;Frozen Foods;Frozen Pizza & Bases', 198: 'Chilled, Frozen & Desserts;Cheese;Deli Specialty Cheeses', 199: 'Fresh Foods & Bakery;Bakery;Muffin Splits & Crumpets', 200: 'Kitchen, Dining & Household;Household;Party Supplies', 201: 'Pantry;Sauces, Stock & Marinades;Curry Pastes & Sauces', 202: 'Kitchen, Dining & Household;Garage & Outdoor;Gardening Supplies', 203: 'Kitchen, Dining & Household;Cleaning Products;All Purpose Cleaners', 204: 'Kitchen, Dining & Household;Household;Homeware', 205: 'Personal Care;Health & Wellness;Foot Care', 206: 'Pantry;Jams, Honey & Spreads;Sweet Spreads', 207: 'Chilled, Frozen & Desserts;Frozen Foods;Frozen Bread & Dough', 208: 'Beer, Cider & Wine;Beer & Cider;Wheat & Other Grain Beer', 209: 'Pantry;Salad & Cooking Oils;Cooking Fat', 210: 'Fresh Foods & Bakery;Deli, Salads & Cooked Meats;Fresh Deli Savouries', 211: 'Beer, Cider & Wine;Beer & Cider;Pilsner', 212: 'Drinks;Cold Drinks;Drinking Yoghurt & Smoothies', 213: 'Chilled, Frozen & Desserts;Dairy & Eggs;Dairy & Lactose Free', 214: 'Fresh Foods & Bakery;Bakery;Bread Rolls & Buns', 215: 'Pantry;Condiments & Dressings;Barbeque Sauces', 216: 'Pantry;Canned & Prepared Foods;Chilled Soups', 217: 'Pantry;Snack Foods;Bread Snacks', 218: 'Kitchen, Dining & Household;Cleaning Products;Dishwasher Rinse & Clean', 219: 'Personal Care;Health & Wellness;Digestion, Nausea & Laxatives', 220: 'Pantry;Breakfast Cereals;Muesli', 221: 'Chilled, Frozen & Desserts;Frozen Foods;Frozen Fries & Potatoes', 222: 'Fresh Foods & Bakery;Seafood;Fresh Shellfish', 223: 'Drinks;Hot Drinks;Coffee Capsules', 224: 'Beer, Cider & Wine;Wine;Pinot Gris', 225: 'Fresh Foods & Bakery;Butchery;Fresh Pork', 226: 'Pantry;Sauces, Stock & Marinades;Tartare & Seafood Sauces', 227: 'Kitchen, Dining & Household;Household;Kitchenware', 228: 'Fresh Foods & Bakery;Bakery;Biscuits & Slices', 229: 'Fresh Foods & Bakery;Bakery;Fresh Breads & Rolls', 230: 'Kitchen, Dining & Household;Household;Food Wraps & Bags', 231: 'Pantry;Biscuits & Crackers;Chocolate Biscuits', 232: 'Chilled, Frozen & Desserts;Cheese;Deli Cheeseboards', 233: 'Drinks;Hot Drinks;Instant Coffees', 234: 'Pantry;Salad & Cooking Oils;Rice Bran Oils', 235: 'Pantry;Breakfast Cereals;Breakfast On The Go', 236: 'Chilled, Frozen & Desserts;Frozen Foods;Frozen Ready Meals', 237: 'Kitchen, Dining & Household;Laundry;Laundry Supplies', 238: 'Pantry;Pasta, Rice & Noodles;Noodle Meals', 239: 'Meal Spot;Ready to Heat;Pizza & Pizza Bases', 240: 'Personal Care;Health & Wellness;Pain Relief', 241: 'Pantry;Pasta, Rice & Noodles;Dried Pastas', 242: 'Pantry;Hot Drinks;Chocolate Milk Drink Mixes', 243: 'Fresh Foods & Bakery;Fruit & Vegetables;Fresh Vegetables', 244: 'Kitchen, Dining & Household;Stationery & Entertainment;Newspapers', 245: 'Pantry;Jams, Honey & Spreads;Jam & Marmalade', 246: 'Chilled, Frozen & Desserts;Frozen Foods;Frozen Beef, Lamb & Pork', 247: 'Pantry;Pasta, Rice & Noodles;Pasta Meals', 248: 'Beer, Cider & Wine;Wine;Merlot', 249: 'Kitchen, Dining & Household;Cleaning Products;Furniture & Metal Polishes', 250: 'Pantry;Baking Supplies & Sugar;Baking Mixes', 251: 'Fresh Foods & Bakery;Fruit & Vegetables;Fresh Salads', 252: 'Kitchen, Dining & Household;Garage & Outdoor;Car Care', 253: 'Pantry;Hot Drinks;Fresh Coffees', 254: 'Pantry;Salad & Cooking Oils;Nut & Seed Oils', 255: 'Pantry;Snack Foods;Muesli Bars', 256: 'Personal Care;Health & Wellness;Sanitary Protection', 257: 'Chilled, Frozen & Desserts;Frozen Foods;Frozen Chicken & Poultry', 258: 'Pantry;Biscuits & Crackers;Biscuits & Cookies', 259: 'Chilled, Frozen & Desserts;Frozen Foods;Frozen Pies', 260: 'Fresh Foods & Bakery;Butchery;PrePacked Pork', 261: 'Drinks;Cold Drinks;Powdered Drinks', 262: 'Fresh Foods & Bakery;Fruit & Vegetables;PrePacked Fresh Vegetables', 263: 'Kitchen, Dining & Household;Cleaning Products;Dishwasher Detergents', 264: 'Pantry;Condiments & Dressings;Vinegars', 265: 'Drinks;Hot Drinks;Black Teas', 266: 'Beer, Cider & Wine;Beer & Cider;American-style Ale', 267: 'Baby, Toddler & Kids;Baby Care;Baby Formula & Toddler Food', 268: 'Beer, Cider & Wine;Wine;Cask Wine', 269: 'Fresh Foods & Bakery;Deli, Salads & Cooked Meats;Chilled Pies & Pastries', 270: 'Pantry;Baking Supplies & Sugar;Baking Additives', 271: 'Pets;Pet Supplies;Dog Food', 272: 'Pantry;Baking Supplies & Sugar;Sugar', 273: 'Pantry;Sauces, Stock & Marinades;Simmer & Stir-Through Sauces', 274: 'Baby, Toddler & Kids;Baby Care;Nappies & Changing', 275: 'Pantry;Baking Supplies & Sugar;Essences & Colourings', 276: 'Fresh Foods & Bakery;Bakery;Specialty Breads', 277: 'Pantry;Hot Drinks;Fruit & Herbal Teas', 278: 'Fresh Foods & Bakery;Deli, Salads & Cooked Meats;Hummus', 279: 'Pantry;Condiments & Dressings;Relish', 280: 'Pantry;Pasta, Rice & Noodles;Rice Meals', 281: 'Meal Spot;Ready to Cook;Noodle Meals', 282: 'Meal Spot;Ready to Cook;Simply DINNER', 283: 'Fresh Foods & Bakery;Deli, Salads & Cooked Meats;Olives & Antipasti Mixes', 284: 'Fresh Foods & Bakery;Fruit & Vegetables;Fresh Fruit', 285: 'Fresh Foods & Bakery;Seafood;Frozen Fish & Seafood', 286: 'Pantry;Condiments & Dressings;Worcestershire Sauces', 287: 'Pantry;Hot Drinks;Coffee Capsules', 288: 'Meal Spot;Ready to Heat;Ready Meals', 289: 'Chilled, Frozen & Desserts;Frozen Foods;Frozen Savouries', 290: 'Chilled, Frozen & Desserts;Cheese;Cheese Blocks', 291: 'Beer, Cider & Wine;Wine;Pinot Noir', 292: 'Pantry;Condiments & Dressings;Mint Sauces', 293: 'Chilled, Frozen & Desserts;Cheese;Grated Cheese', 294: 'Pets;Pet Supplies;Pet Accessories', 295: 'Fresh Foods & Bakery;Fruit & Vegetables;Fresh Herbs', 296: 'Kitchen, Dining & Household;Laundry;Laundry Soap', 297: 'Fresh Foods & Bakery;Seafood;Fresh Fish Fillets & Steaks', 298: 'Pantry;Confectionery;Lollies Family Bags', 299: 'Meal Spot;Ready to Eat;Fresh Deli Savouries', 300: 'Fresh Foods & Bakery;Bakery;Organic & Gluten Free', 301: 'Drinks;Cold Drinks;Sparkling Juices', 302: 'Meal Spot;Ready to Eat;Fresh Salads', 303: 'Pantry;Salad & Cooking Oils;Other Oils', 304: 'Beer, Cider & Wine;Beer & Cider;Lighter Alcohol Beers', 305: 'Drinks;Hot Drinks;Coffee Flavoured Sachets', 306: 'Pantry;Salad & Cooking Oils;Vegetable Oils', 307: 'Meal Spot;Ready to Cook;Vege Bags', 308: 'Pantry;World Foods;South East Asian', 309: 'Fresh Foods & Bakery;Butchery;PrePacked Beef & Lamb', 310: 'Personal Care;Beauty & Grooming;Makeup & Cosmetics', 311: 'Personal Care;Beauty & Grooming;Hand & Body Care', 312: 'Pantry;Breakfast Cereals;Hot Cereals', 313: 'Kitchen, Dining & Household;Laundry;Clothes Pegs', 314: 'Pantry;Canned & Prepared Foods;Canned Milk & Cream', 315: 'Chilled, Frozen & Desserts;Desserts;Meringues & Pavlovas', 316: 'Meal Spot;Ready to Heat;Chilled Pies & Pastries', 317: 'Personal Care;Health & Wellness;Contact Lens & Eye Care', 318: 'Personal Care;Beauty & Grooming;Suncare & Self Tan', 319: 'Beer, Cider & Wine;Wine;Shiraz', 320: 'Fresh Foods & Bakery;Fruit & Vegetables;Salad Bags', 321: 'Pantry;Snack Foods;Potato Chips', 322: 'Beer, Cider & Wine;Beer & Cider;Brewing Supplies', 323: 'Chilled, Frozen & Desserts;Desserts;Ice Cream & Frozen Yoghurt', 324: 'Chilled, Frozen & Desserts;Desserts;Ready To Serve Puddings', 325: 'Meal Spot;Ready to Heat;Frozen Savouries', 326: 'Pantry;World Foods;Japanese', 327: 'Personal Care;Health & Wellness;Vitamins & Supplements', 328: 'Chilled, Frozen & Desserts;Frozen Foods;Frozen Pastry', 329: 'Beer, Cider & Wine;Beer & Cider;Spirits', 330: 'Personal Care;Health & Wellness;Wellness & Sports Nutrition', 331: 'Pantry;Sauces, Stock & Marinades;Tomato Sauces', 332: 'Fresh Foods & Bakery;Fruit & Vegetables;Vege Bags', 333: 'Pantry;Jams, Honey & Spreads;Honey', 334: 'Pantry;Hot Drinks;Instant Coffees', 335: 'Kitchen, Dining & Household;Laundry;Pre Wash Stain Removers', 336: 'Drinks;Hot Drinks;Coffee Additives & Filters', 337: 'Fresh Foods & Bakery;Seafood;Seafood Salad', 338: 'Chilled, Frozen & Desserts;Frozen Foods;Frozen Vegetarian', 339: 'Drinks;Cold Drinks;Coconut Water', 340: 'Pantry;Canned & Prepared Foods;Vegetarian', 341: 'Kitchen, Dining & Household;Stationery & Entertainment;Stationery & Craft', 342: 'Chilled, Frozen & Desserts;Dairy & Eggs;Yoghurt & Dairy Food', 343: 'Pantry;Sauces, Stock & Marinades;Soy Sauce', 344: 'Pantry;Hot Drinks;Coffee Flavoured Sachets', 345: 'Pantry;World Foods;Other Countries', 346: 'Pantry;Confectionery;Chocolate Blocks', 347: 'Kitchen, Dining & Household;Household;Fire Needs', 348: 'Kitchen, Dining & Household;Garage & Outdoor;BBQ', 349: 'Chilled, Frozen & Desserts;Cheese;Deli Cabinet Cheeses', 350: 'Pantry;Snack Foods;Snack Mixes', 351: 'Chilled, Frozen & Desserts;Frozen Foods;Frozen Fish', 352: 'Pantry;Jams, Honey & Spreads;Marmite & Vegemite', 353: 'Chilled, Frozen & Desserts;Dairy & Eggs;Sour Cream & Crème Fraiche', 354: 'Pantry;Salad & Cooking Oils;Avocado Oils', 355: 'Personal Care;Health & Wellness;Family Planning', 356: 'Pantry;Pasta, Rice & Noodles;Instant Rices', 357: 'Pets;Pet Supplies;Pet Treatments', 358: 'Beer, Cider & Wine;Beer & Cider;Fruit & Flavoured Cider', 359: 'Kitchen, Dining & Household;Cleaning Products;Kitchen Cleaners', 360: 'Pantry;Spices & Seasonings;Dried Herbs', 361: 'Pantry;Condiments & Dressings;Mayonnaise', 362: 'Fresh Foods & Bakery;Seafood;Fresh Seafood', 363: 'Kitchen, Dining & Household;Laundry;Laundry Powders', 364: 'Pantry;Snack Foods;Cereal & Snack Bars', 365: 'Kitchen, Dining & Household;Laundry;Fabric Softeners', 366: 'Pantry;Sauces, Stock & Marinades;Packet Sauces', 367: 'Beer, Cider & Wine;Beer & Cider;Specialty & Flavoured Beer', 368: 'Fresh Foods & Bakery;Dairy & Eggs;Yoghurt & Dairy Food', 369: 'Pantry;World Foods;USA', 370: 'Pantry;Canned & Prepared Foods;Packet Soup', 371: 'Drinks;Cold Drinks;Fruit Drinks & Juices', 372: 'Drinks;Hot Drinks;Fresh Coffees', 373: 'Pantry;Snack Foods;Fruit Snacks', 374: 'Fresh Foods & Bakery;Butchery;Fresh Beef & Lamb', 375: 'Drinks;Hot Drinks;Fruit & Herbal Teas', 376: 'Fresh Foods & Bakery;Bulk & Loose Foods;Bulk Breakfast Cereals', 377: 'Pantry;Confectionery;Boxed Chocolates', 378: 'Personal Care;Beauty & Grooming;Hair Styling & Accessories', 379: 'Personal Care;Beauty & Grooming;Hair Colouring', 380: 'Pantry;Snack Foods;Vege Snacks', 381: 'Kitchen, Dining & Household;Household;Air Fresheners & Deodorisers', 382: 'Personal Care;Health & Wellness;Cough, Cold & Flu', 383: 'Drinks;Hot Drinks;Green Teas', 384: 'Pantry;Biscuits & Crackers;Gourmet Biscuits & Crackers', 385: 'Pantry;Baking Supplies & Sugar;Sugar Substitutes', 386: 'Pantry;Sauces, Stock & Marinades;Stir Fry Sauces', 387: 'Fresh Foods & Bakery;Deli, Salads & Cooked Meats;Continental Sausage & Salami', 388: 'Pantry;Confectionery;Liquorice', 389: 'Baby, Toddler & Kids;Baby Care;Baby Hair Care', 390: 'Kitchen, Dining & Household;Household;Rubbish & Vacuum Bags', 391: 'Chilled, Frozen & Desserts;Dairy & Eggs;Fresh Milk', 392: 'Fresh Foods & Bakery;Seafood;Fresh Smoked Fish', 393: 'Meal Spot;Ready to Heat;Frozen Pizza & Bases', 394: 'Pantry;Canned & Prepared Foods;Canned & Dried Vegetables', 395: 'Beer, Cider & Wine;Beer & Cider;Pale Ale', 396: 'Pantry;Sauces, Stock & Marinades;Gravies', 397: 'Fresh Foods & Bakery;Dairy & Eggs;Flavoured Milk', 398: 'Pantry;Hot Drinks;Green Teas', 399: 'Pantry;Salad & Cooking Oils;Olive Oils', 400: 'Chilled, Frozen & Desserts;Dairy & Eggs;Fresh Organic Milk', 401: 'Pantry;Condiments & Dressings;Pickles', 402: 'Pantry;Spices & Seasonings;Garlic & Ginger', 403: 'Fresh Foods & Bakery;Butchery;PreCooked Sausages', 404: 'Fresh Foods & Bakery;Deli, Salads & Cooked Meats;Deli Salads', 405: 'Pantry;Biscuits & Crackers;Assorted Biscuits & Crackers', 406: 'Pantry;Condiments & Dressings;Chutneys', 407: 'Pantry;Condiments & Dressings;Mustards', 408: 'Pantry;Canned & Prepared Foods;Coconut Cream & Milk', 409: 'Kitchen, Dining & Household;Garage & Outdoor;Hooks', 410: 'Fresh Foods & Bakery;Deli, Salads & Cooked Meats;Gourmet Oils & Condiments', 411: 'Kitchen, Dining & Household;Cleaning Products;Bleaches', 412: 'Pantry;Pasta, Rice & Noodles;Short & Medium Grain Rices', 413: 'Chilled, Frozen & Desserts;Cheese;Cream Cheese', 414: 'Pantry;Baking Supplies & Sugar;Cooking Chocolate', 415: 'Pantry;Breakfast Cereals;Cold Cereals', 416: 'Kitchen, Dining & Household;Household;Disposable Tableware', 417: 'Pantry;Canned & Prepared Foods;Syrups & Sauces', 418: 'Pets;Pet Supplies;Cat Accessories', 419: 'Drinks;Cold Drinks;Vegetable Juices', 420: 'Fresh Foods & Bakery;Butchery;Fresh Chicken & Poultry', 421: 'Beer, Cider & Wine;Beer & Cider;European-style Ale', 422: 'Drinks;Cold Drinks;Still Water', 423: 'Pantry;Confectionery;Christmas', 424: 'Fresh Foods & Bakery;Dairy & Eggs;Butter & Spreads', 425: 'Pantry;Snack Foods;Nutritional Bars', 426: 'Drinks;Cold Drinks;Soft Drinks', 427: 'Drinks;Hot Drinks;Coffee Substitutes', 428: 'Pantry;World Foods;Korean'}\n"
     ]
    }
   ],
   "source": [
    "label2id = {l: i for i, l in enumerate(set(labels))}\n",
    "id2label = {i: l for l, i in label2id.items()}\n",
    "labels = [label2id[l] for l in labels]\n",
    "texts = df[\"ProductName\"].tolist()\n",
    "price = df[\"PricePerItem\"].tolist()\n",
    "promotion = df[\"PromoBadgeImageLabel\"].tolist()\n",
    "multi = df[\"MultiBuyDeal\"].tolist()\n",
    "combind = [\" \".join([texts[index], str(price[index]), promotion[index], multi[index]]) for index in range(14464)]\n",
    "vectorizer = TfidfVectorizer()\n",
    "features = vectorizer.fit_transform(combind)\n",
    "reduced = vectorizer.fit_transform(texts)\n",
    "print(\"data len:\", len(texts))\n",
    "print(\"id2label\", id2label)"
   ],
   "metadata": {
    "collapsed": false,
    "pycharm": {
     "name": "#%%\n"
    }
   }
  },
  {
   "cell_type": "code",
   "execution_count": 18,
   "outputs": [],
   "source": [
    "x_train, x_test, y_train, y_test = train_test_split(features, labels, test_size=0.25, random_state=3)"
   ],
   "metadata": {
    "collapsed": false,
    "pycharm": {
     "name": "#%%\n"
    }
   }
  },
  {
   "cell_type": "code",
   "execution_count": 19,
   "outputs": [
    {
     "name": "stdout",
     "output_type": "stream",
     "text": [
      "logistic: acc:0.6208517699115044, recall:0.4064241727389475, f1 score:0.4037162731945845\n",
      "                                                                               precision    recall  f1-score   support\n",
      "\n",
      "                                   Baby, Toddler & Kids;Baby Care;Baby Health       1.00      0.25      0.40         4\n",
      "                                                   Pantry;World Foods;Mexican       0.92      0.92      0.92        12\n",
      "                                       Pantry;Salad & Cooking Oils;Oil Sprays       0.00      0.00      0.00         2\n",
      "                    Fresh Foods & Bakery;Butchery;PrePacked Chicken & Poultry       0.62      1.00      0.76        45\n",
      "                                 Pantry;Hot Drinks;Coffee Additives & Filters       0.00      0.00      0.00        11\n",
      "                     Chilled, Frozen & Desserts;Dairy & Eggs;Butter & Spreads       0.89      1.00      0.94        40\n",
      "                 Kitchen, Dining & Household;Cleaning Products;Glass Cleaners       0.92      0.92      0.92        12\n",
      "                          Chilled, Frozen & Desserts;Desserts;Frozen Puddings       0.00      0.00      0.00         5\n",
      "                          Chilled, Frozen & Desserts;Dairy & Eggs;Fresh Cream       1.00      0.62      0.76        13\n",
      "               Fresh Foods & Bakery;Dairy & Eggs;Long Life Milk & Milk Powder       0.88      1.00      0.94        15\n",
      "                                  Pantry;Canned & Prepared Foods;Canned Fruit       0.67      0.95      0.78        19\n",
      "                        Chilled, Frozen & Desserts;Dairy & Eggs;Yoghurt Bases       0.55      0.90      0.68        40\n",
      "                              Baby, Toddler & Kids;Baby Care;Baby Dental Care       0.72      0.67      0.69        27\n",
      "                              Fresh Foods & Bakery;Bakery;Wraps & Pita Breads       1.00      0.38      0.55        16\n",
      "                         Pantry;Condiments & Dressings;Chilli & Pepper Sauces       0.00      0.00      0.00         4\n",
      "                  Fresh Foods & Bakery;Deli, Salads & Cooked Meats;Ham & Pork       0.75      0.83      0.79        18\n",
      "                            Beer, Cider & Wine;Beer & Cider;British-style Ale       1.00      0.80      0.89        15\n",
      "                                               Pantry;Snack Foods;Meat Snacks       0.88      0.98      0.93        53\n",
      "                                                 Pets;Pet Supplies;Dog Treats       1.00      0.62      0.76        13\n",
      "                             Personal Care;Health & Wellness;Insect Repellent       0.91      0.83      0.87        12\n",
      "                                  Pantry;Confectionery;Novelty Bars & Singles       0.25      0.20      0.22        10\n",
      "                      Kitchen, Dining & Household;Laundry;Fine Fabric Washers       0.00      0.00      0.00         6\n",
      "                                          Pantry;Condiments & Dressings;Aioli       0.61      1.00      0.76        11\n",
      "                                                      Pantry;World Foods;Thai       0.00      0.00      0.00         4\n",
      "                                           Drinks;Cold Drinks;Flavoured Water       1.00      0.52      0.69        23\n",
      "                 Fresh Foods & Bakery;Dairy & Eggs;Sour Cream & Crème Fraiche       0.00      0.00      0.00         4\n",
      "                                Fresh Foods & Bakery;Seafood;Fresh Whole Fish       0.25      0.20      0.22        10\n",
      "             Kitchen, Dining & Household;Stationery & Entertainment;Magazines       0.88      0.98      0.93        53\n",
      "                                          Beer, Cider & Wine;Beer & Cider;IPA       0.90      1.00      0.95         9\n",
      "                                                   Pantry;World Foods;Chinese       1.00      0.33      0.50         3\n",
      "                                       Fresh Foods & Bakery;Dairy & Eggs;Eggs       0.00      0.00      0.00         1\n",
      "                  Fresh Foods & Bakery;Bulk & Loose Foods;Bulk Snacks & Mixes       1.00      0.38      0.55        16\n",
      "                    Chilled, Frozen & Desserts;Desserts;Ice Blocks & Ice Pops       0.48      0.91      0.62        33\n",
      "                                     Pantry;Spices & Seasonings;Salt & Pepper       0.33      0.40      0.36        10\n",
      "                       Personal Care;Beauty & Grooming;Hair Care & Treatments       0.14      0.09      0.11        11\n",
      "                  Kitchen, Dining & Household;Household;Pest & Insect Control       0.74      0.82      0.78        17\n",
      "                                              Meal Spot;Ready to Cook;Mexican       0.33      0.25      0.29         4\n",
      "                                         Pantry;Hot Drinks;Coffee Substitutes       0.82      0.88      0.85        16\n",
      "                      Fresh Foods & Bakery;Butchery;Fresh Venison & Game Meat       1.00      0.52      0.69        23\n",
      "                                   Pantry;Sauces, Stock & Marinades;Marinades       0.88      1.00      0.93         7\n",
      "                                   Pantry;Canned & Prepared Foods;Canned Soup       1.00      0.80      0.89        15\n",
      "                       Pantry;Canned & Prepared Foods;Baked Beans & Spaghetti       0.00      0.00      0.00         1\n",
      "         Fresh Foods & Bakery;Bulk & Loose Foods;Bulk Seeds, Legumes & Grains       0.50      0.82      0.62        17\n",
      "                                           Drinks;Cold Drinks;Non Dairy Milks       0.00      0.00      0.00         5\n",
      "                                     Pantry;Confectionery;Chewing Gum & Mints       0.93      0.98      0.95        43\n",
      "                                Fresh Foods & Bakery;Seafood;Fresh Fish Heads       0.20      0.15      0.17        20\n",
      "                                   Personal Care;Health & Wellness;Adult Care       1.00      0.82      0.90        11\n",
      "                       Chilled, Frozen & Desserts;Frozen Foods;Frozen Seafood       1.00      0.67      0.80         6\n",
      "                              Chilled, Frozen & Desserts;Cheese;Cheese Slices       0.49      0.78      0.60        23\n",
      "                         Chilled, Frozen & Desserts;Frozen Foods;Frozen Fruit       0.20      0.12      0.15         8\n",
      "                                           Beer, Cider & Wine;Wine;Chardonnay       0.68      0.90      0.78        21\n",
      "                                      Drinks;Hot Drinks;Malt Milk Drink Mixes       0.26      0.36      0.30        14\n",
      "                   Fresh Foods & Bakery;Bulk & Loose Foods;Bulk Confectionery       0.75      0.96      0.84        49\n",
      "                          Chilled, Frozen & Desserts;Desserts;Canned Desserts       0.00      0.00      0.00         5\n",
      "                                 Fresh Foods & Bakery;Dairy & Eggs;Fresh Milk       0.88      1.00      0.94        15\n",
      "                                     Pantry;Salad & Cooking Oils;Coconut Oils       1.00      0.95      0.97        20\n",
      "                                    Drinks;Cold Drinks;Sports & Energy Drinks       0.48      0.61      0.54        23\n",
      "                                                  Pantry;Hot Drinks;Chai Teas       0.00      0.00      0.00         3\n",
      "                                         Pantry;Baking Supplies & Sugar;Flour       1.00      0.62      0.76        13\n",
      "                                 Drinks;Hot Drinks;Chocolate Milk Drink Mixes       0.56      1.00      0.72        41\n",
      "                                                 Drinks;Cold Drinks;Iced Teas       0.89      1.00      0.94        34\n",
      "                                                 Beer, Cider & Wine;Wine;Rose       0.48      0.91      0.62        33\n",
      "                                                   Pantry;Snack Foods;Popcorn       0.80      1.00      0.89        12\n",
      "                                                Pantry;Snack Foods;Corn Chips       1.00      0.08      0.15        12\n",
      "                                          Meal Spot;Ready to Heat;Packet Soup       0.88      0.98      0.93        53\n",
      "                                              Pets;Pet Supplies;Bird Supplies       0.00      0.00      0.00         1\n",
      "                         Chilled, Frozen & Desserts;Desserts;Chilled Custards       0.40      0.67      0.50         6\n",
      "                       Chilled, Frozen & Desserts;Dairy & Eggs;Flavoured Milk       0.21      0.38      0.27        16\n",
      "                                 Fresh Foods & Bakery;Meal Kits;Simply DINNER       1.00      0.88      0.93         8\n",
      "                 Kitchen, Dining & Household;Laundry;Washing Machine Cleaners       1.00      0.44      0.62         9\n",
      "                              Personal Care;Health & Wellness;Allergy & Sinus       0.75      0.96      0.84        49\n",
      "                Kitchen, Dining & Household;Household;Batteries & Light Bulbs       0.48      0.91      0.62        33\n",
      "                                 Fresh Foods & Bakery;Butchery;Fresh Sausages       0.00      0.00      0.00         9\n",
      "                                Pantry;Sauces, Stock & Marinades;Pasta Sauces       1.00      0.50      0.67         8\n",
      "                                     Pantry;Jams, Honey & Spreads;Nut Spreads       0.00      0.00      0.00         4\n",
      "                                                 Pets;Pet Supplies;Cat Treats       0.00      0.00      0.00         2\n",
      "                                   Pantry;Confectionery;Chocolate Family Bags       0.69      1.00      0.82        18\n",
      "                      Pantry;Sauces, Stock & Marinades;Tomato Pastes & Purees       1.00      0.62      0.76        13\n",
      "                              Pantry;Biscuits & Crackers;Plain Sweet Biscuits       0.79      0.96      0.87        28\n",
      "                                          Pantry;Biscuits & Crackers;Crackers       0.86      0.86      0.86         7\n",
      "                  Fresh Foods & Bakery;Deli, Salads & Cooked Meats;Deli Meats       0.48      0.61      0.54        23\n",
      "     Kitchen, Dining & Household;Stationery & Entertainment;Toys & Recreation       0.68      0.90      0.78        21\n",
      "                                          Drinks;Cold Drinks;Milk Drink Mixes       1.00      0.20      0.33         5\n",
      "                                          Meal Spot;Ready to Heat;Canned Soup       0.62      0.73      0.67        11\n",
      "                                   Pantry;Canned & Prepared Foods;Ready Meals       0.65      1.00      0.79        11\n",
      "                              Pantry;Spices & Seasonings;Freshly Ground Herbs       0.69      1.00      0.82        18\n",
      "                                         Pantry;Snack Foods;Nut Bars & Snacks       1.00      1.00      1.00        13\n",
      "                                      Drinks;Cold Drinks;Chilled Fruit Juices       1.00      0.43      0.60         7\n",
      "                     Kitchen, Dining & Household;Household;Cooking & Bakeware       0.00      0.00      0.00         4\n",
      "                                   Meal Spot;Ready to Heat;Frozen Ready Meals       1.00      0.62      0.76        13\n",
      "                                             Pantry;World Foods;South African       0.50      0.82      0.62        17\n",
      "                                 Pantry;Jams, Honey & Spreads;Savoury Spreads       0.00      0.00      0.00         2\n",
      "                       Personal Care;Beauty & Grooming;Shaving & Hair Removal       1.00      0.36      0.53        11\n",
      "                         Fresh Foods & Bakery;Dairy & Eggs;Fresh Organic Milk       0.00      0.00      0.00        12\n",
      "                                        Beer, Cider & Wine;Beer & Cider;Lager       0.55      0.60      0.57        10\n",
      "                                      Pets;Pet Supplies;Small Animal Supplies       0.88      1.00      0.94        15\n",
      "                                       Beer, Cider & Wine;Wine;Other Red Wine       0.00      0.00      0.00         3\n",
      "                                  Fresh Foods & Bakery;Bakery;Pies & Pastries       1.00      1.00      1.00         3\n",
      "                             Baby, Toddler & Kids;Baby Care;Nursing & Feeding       0.89      0.73      0.80        11\n",
      "                Kitchen, Dining & Household;Garage & Outdoor;Hardware & Tools       0.80      1.00      0.89        12\n",
      "                           Kitchen, Dining & Household;Household;Food Storage       0.48      0.91      0.62        33\n",
      "                           Pantry;Baking Supplies & Sugar;Baking Nuts & Seeds       0.65      0.96      0.77        48\n",
      "                           Pantry;Pasta, Rice & Noodles;Wild & Coloured Rices       1.00      0.52      0.69        23\n",
      "                                 Pantry;Breakfast Cereals;Flake/Fibre Cereals       0.20      0.12      0.15         8\n",
      "                                Pantry;Condiments & Dressings;Salad Dressings       0.89      1.00      0.94        34\n",
      "                                                        Pantry;World Foods;UK       1.00      0.88      0.93         8\n",
      "                Kitchen, Dining & Household;Laundry;Laundry Liquid & Capsules       0.72      0.67      0.69        27\n",
      "                                     Beer, Cider & Wine;Wine;Other White Wine       0.57      1.00      0.73        12\n",
      "                 Kitchen, Dining & Household;Household;Tissues & Toilet Paper       0.96      0.93      0.94        27\n",
      "                                  Pantry;Spices & Seasonings;Chilli & Paprika       0.00      0.00      0.00         4\n",
      "                   Kitchen, Dining & Household;Cleaning Products;Paper Towels       0.93      0.98      0.95        43\n",
      "                      Fresh Foods & Bakery;Fruit & Vegetables;Fresh Cut Fruit       0.50      0.82      0.62        17\n",
      "                         Personal Care;Beauty & Grooming;Face & Lip Skin Care       0.48      0.61      0.54        23\n",
      "                                             Beer, Cider & Wine;Wine;Cabernet       1.00      0.95      0.97        20\n",
      "                                   Pantry;Pasta, Rice & Noodles;Jasmine Rices       0.90      1.00      0.95         9\n",
      "                       Fresh Foods & Bakery;Dairy & Eggs;Dairy & Lactose Free       0.86      0.86      0.86         7\n",
      "                                   Personal Care;Beauty & Grooming;Deodorants       0.73      0.65      0.69        17\n",
      "                                   Pantry;Canned & Prepared Foods;Canned Fish       1.00      0.92      0.96        13\n",
      "                                Pets;Pet Supplies;Fish & Aquatic Pet Supplies       0.89      1.00      0.94        40\n",
      "                                   Pantry;Condiments & Dressings;Fruit Sauces       0.88      0.98      0.93        53\n",
      "                                         Meal Spot;Ready to Eat;Seafood Salad       0.91      0.53      0.67        19\n",
      "                                                  Drinks;Hot Drinks;Chai Teas       0.62      1.00      0.76        45\n",
      "           Kitchen, Dining & Household;Cleaning Products;Cleaning Accessories       0.12      0.20      0.15        35\n",
      "                                                     Pantry;Snack Foods;Chips       0.45      0.69      0.55        13\n",
      "                                           Drinks;Cold Drinks;Sparkling Water       0.72      0.67      0.69        27\n",
      "                Chilled, Frozen & Desserts;Desserts;Jelly & Powdered Desserts       0.67      0.90      0.77        20\n",
      "                     Fresh Foods & Bakery;Bulk & Loose Foods;Bulk Dried Fruit       0.00      0.00      0.00         1\n",
      "                            Kitchen, Dining & Household;Laundry;Clothing Dyes       1.00      0.92      0.96        13\n",
      "             Kitchen, Dining & Household;Cleaning Products;Dishwashing Liquid       1.00      0.25      0.40         4\n",
      "                                           Meal Spot;Ready to Eat;Deli Salads       0.48      0.61      0.54        23\n",
      "                            Fresh Foods & Bakery;Bulk & Loose Foods;Bulk Nuts       1.00      0.50      0.67         8\n",
      "                       Fresh Foods & Bakery;Deli, Salads & Cooked Meats;Bacon       0.75      0.64      0.69        14\n",
      "                          Chilled, Frozen & Desserts;Cheese;Specialty Cheeses       0.86      0.86      0.86        14\n",
      "                                 Pantry;Baking Supplies & Sugar;Baking Syrups       0.33      0.43      0.38        21\n",
      "                                    Personal Care;Health & Wellness;First Aid       0.93      1.00      0.97        14\n",
      "                              Kitchen, Dining & Household;Household;Shoe Care       0.00      0.00      0.00         7\n",
      "         Fresh Foods & Bakery;Deli, Salads & Cooked Meats;Specialty Dry Goods       0.26      0.36      0.30        14\n",
      "                              Pantry;Biscuits & Crackers;Crème & Jam Biscuits       0.55      0.90      0.68        40\n",
      "                                  Fresh Foods & Bakery;Bakery;Cakes & Muffins       0.12      0.11      0.12        45\n",
      "                 Chilled, Frozen & Desserts;Desserts;Ice Cream Cones & Wafers       0.82      0.91      0.86        35\n",
      "          Fresh Foods & Bakery;Deli, Salads & Cooked Meats;Dips, Pesto & Pate       0.00      0.00      0.00         2\n",
      "                        Pantry;Sauces, Stock & Marinades;Chilled Pasta Sauces       0.48      0.91      0.62        33\n",
      "                                 Drinks;Cold Drinks;Squash, Syrups & Cordials       1.00      0.90      0.95        10\n",
      "                             Kitchen, Dining & Household;Household;Electrical       0.62      1.00      0.76        45\n",
      "                                      Pantry;Spices & Seasonings;Dried Spices       1.00      0.60      0.75         5\n",
      "       Fresh Foods & Bakery;Deli, Salads & Cooked Meats;PreCooked Beef & Lamb       0.33      0.43      0.38        21\n",
      "                                   Pantry;Baking Supplies & Sugar;Dried Fruit       1.00      0.50      0.67        12\n",
      "                        Fresh Foods & Bakery;Bakery;Fresh Desserts & Pastries       0.00      0.00      0.00        12\n",
      "                            Pantry;Sauces, Stock & Marinades;Specialty Sauces       0.20      0.15      0.17        20\n",
      " Fresh Foods & Bakery;Deli, Salads & Cooked Meats;PreCooked Chicken & Poultry       0.95      0.95      0.95        22\n",
      "                            Fresh Foods & Bakery;Bakery;Fresh Cakes & Muffins       0.00      0.00      0.00         3\n",
      "                                         Pantry;Pasta, Rice & Noodles;Noodles       0.49      0.78      0.60        23\n",
      "         Chilled, Frozen & Desserts;Dairy & Eggs;Long Life Milk & Milk Powder       0.09      0.18      0.12        17\n",
      "                          Fresh Foods & Bakery;Bakery;Fresh Biscuits & Slices       0.50      0.33      0.40         3\n",
      "                                  Personal Care;Beauty & Grooming;Oral Health       0.64      0.91      0.75        23\n",
      "     Kitchen, Dining & Household;Cleaning Products;Bathroom & Shower Cleaners       1.00      0.20      0.33         5\n",
      "                                                   Pets;Pet Supplies;Cat Food       0.85      0.85      0.85        27\n",
      "                  Chilled, Frozen & Desserts;Desserts;Frozen Dessert Pastries       0.55      0.60      0.57        10\n",
      "                                      Beer, Cider & Wine;Wine;Sauvignon Blanc       0.88      0.98      0.93        53\n",
      "                           Beer, Cider & Wine;Beer & Cider;Apple & Pear Cider       0.67      0.20      0.31        10\n",
      "                             Fresh Foods & Bakery;Bakery;Garlic & Herb Breads       0.79      1.00      0.88        19\n",
      "                                                    Pantry;World Foods;Indian       1.00      0.52      0.69        23\n",
      "                                    Pantry;Canned & Prepared Foods;Soup Mixes       0.00      0.00      0.00         7\n",
      "                                    Pantry;Pasta, Rice & Noodles;Fresh Pastas       0.89      1.00      0.94        40\n",
      "                        Pantry;Pasta, Rice & Noodles;Specialty Grains & Seeds       0.11      0.09      0.10        11\n",
      "                                          Meal Spot;Ready to Cook;Pasta Meals       1.00      1.00      1.00        24\n",
      "                                         Pantry;Condiments & Dressings;Olives       1.00      0.50      0.67         2\n",
      "                                     Pantry;Biscuits & Crackers;Rice Crackers       1.00      1.00      1.00         9\n",
      "                                                 Pantry;Hot Drinks;Black Teas       1.00      0.88      0.93         8\n",
      "                              Fresh Foods & Bakery;Dairy & Eggs;Yoghurt Bases       0.11      0.09      0.10        11\n",
      "                                             Pantry;Snack Foods;Dips & Salsas       1.00      0.33      0.50         9\n",
      "                                        Pantry;Biscuits & Crackers;Rice Cakes       1.00      0.95      0.97        20\n",
      "                             Fresh Foods & Bakery;Butchery;PrePacked Sausages       0.82      0.88      0.85        16\n",
      "                                 Chilled, Frozen & Desserts;Dairy & Eggs;Eggs       0.48      0.61      0.54        23\n",
      "            Chilled, Frozen & Desserts;Desserts;Frozen Bavarians & Cheesecake       0.67      0.93      0.78        15\n",
      "                    Chilled, Frozen & Desserts;Frozen Foods;Frozen Vegetables       1.00      0.88      0.93        24\n",
      "        Kitchen, Dining & Household;Cleaning Products;Carpet & Floor Cleaners       0.00      0.00      0.00         6\n",
      "                                Fresh Foods & Bakery;Dairy & Eggs;Fresh Cream       0.17      0.12      0.14        16\n",
      "                   Beer, Cider & Wine;Beer & Cider;Stout, Porter & Black Beer       0.62      1.00      0.76        45\n",
      "                            Personal Care;Beauty & Grooming;Apparel & Hosiery       0.83      0.91      0.87        11\n",
      "                           Beer, Cider & Wine;Wine;Champagne & Sparkling Wine       1.00      0.96      0.98        26\n",
      "                                      Pantry;Hot Drinks;Malt Milk Drink Mixes       1.00      0.88      0.93         8\n",
      "                                     Fresh Foods & Bakery;Bakery;Sliced Bread       0.49      0.78      0.60        23\n",
      "                      Baby, Toddler & Kids;Baby Care;Baby Bathing & Skin Care       0.62      1.00      0.76        45\n",
      "                                    Baby, Toddler & Kids;Baby Care;Baby Wipes       1.00      0.38      0.55        16\n",
      "                                            Pets;Pet Supplies;Dog Accessories       0.73      0.96      0.83        28\n",
      "                            Pantry;Baking Supplies & Sugar;Icing & Decorating       0.00      0.00      0.00         7\n",
      "                             Kitchen, Dining & Household;Household;Manchester       0.49      0.78      0.60        23\n",
      "                                   Pantry;Pasta, Rice & Noodles;Basmati Rices       1.00      0.64      0.78        14\n",
      "                                 Personal Care;Health & Wellness;Stop Smoking       0.40      0.67      0.50         6\n",
      "                        Pantry;Baking Supplies & Sugar;Breadcrumbs & Coatings       0.82      0.91      0.86        35\n",
      "                                        Meal Spot;Ready to Heat;Chilled Soups       0.73      0.96      0.83        28\n",
      "                             Chilled, Frozen & Desserts;Cheese;Cottage Cheese       0.53      1.00      0.69         9\n",
      "                                       Pantry;Sauces, Stock & Marinades;Stock       1.00      0.90      0.95        10\n",
      "                                   Pantry;Canned & Prepared Foods;Canned Meat       1.00      0.89      0.94         9\n",
      "                           Pantry;Canned & Prepared Foods;Pizza & Pizza Bases       1.00      0.50      0.67         8\n",
      "                                Pantry;Pasta, Rice & Noodles;Long Grain Rices       1.00      0.50      0.67        14\n",
      "                 Chilled, Frozen & Desserts;Frozen Foods;Frozen Pizza & Bases       1.00      1.00      1.00        13\n",
      "                     Chilled, Frozen & Desserts;Cheese;Deli Specialty Cheeses       0.56      1.00      0.72        41\n",
      "                         Fresh Foods & Bakery;Bakery;Muffin Splits & Crumpets       0.48      0.61      0.54        23\n",
      "                         Kitchen, Dining & Household;Household;Party Supplies       0.00      0.00      0.00         2\n",
      "                       Pantry;Sauces, Stock & Marinades;Curry Pastes & Sauces       0.86      0.75      0.80         8\n",
      "              Kitchen, Dining & Household;Garage & Outdoor;Gardening Supplies       0.72      0.87      0.79        15\n",
      "           Kitchen, Dining & Household;Cleaning Products;All Purpose Cleaners       0.33      0.43      0.38        21\n",
      "                               Kitchen, Dining & Household;Household;Homeware       0.72      0.87      0.79        15\n",
      "                                    Personal Care;Health & Wellness;Foot Care       0.83      0.77      0.80        26\n",
      "                                   Pantry;Jams, Honey & Spreads;Sweet Spreads       0.82      0.88      0.85        16\n",
      "                 Chilled, Frozen & Desserts;Frozen Foods;Frozen Bread & Dough       0.62      1.00      0.76        45\n",
      "                     Beer, Cider & Wine;Beer & Cider;Wheat & Other Grain Beer       0.55      0.80      0.65        15\n",
      "                                      Pantry;Salad & Cooking Oils;Cooking Fat       0.56      1.00      0.72        41\n",
      "        Fresh Foods & Bakery;Deli, Salads & Cooked Meats;Fresh Deli Savouries       0.00      0.00      0.00         1\n",
      "                                      Beer, Cider & Wine;Beer & Cider;Pilsner       1.00      0.50      0.67        12\n",
      "                              Drinks;Cold Drinks;Drinking Yoghurt & Smoothies       0.25      0.25      0.25         4\n",
      "                 Chilled, Frozen & Desserts;Dairy & Eggs;Dairy & Lactose Free       1.00      0.43      0.60         7\n",
      "                               Fresh Foods & Bakery;Bakery;Bread Rolls & Buns       0.93      1.00      0.97        14\n",
      "                                Pantry;Condiments & Dressings;Barbeque Sauces       0.70      0.64      0.67        11\n",
      "                                 Pantry;Canned & Prepared Foods;Chilled Soups       1.00      0.33      0.50         6\n",
      "                                              Pantry;Snack Foods;Bread Snacks       0.77      0.89      0.83        19\n",
      "       Kitchen, Dining & Household;Cleaning Products;Dishwasher Rinse & Clean       0.89      1.00      0.94        34\n",
      "                Personal Care;Health & Wellness;Digestion, Nausea & Laxatives       0.20      0.15      0.17        20\n",
      "                                              Pantry;Breakfast Cereals;Muesli       0.91      0.53      0.67        19\n",
      "              Chilled, Frozen & Desserts;Frozen Foods;Frozen Fries & Potatoes       0.12      0.11      0.12        45\n",
      "                                 Fresh Foods & Bakery;Seafood;Fresh Shellfish       0.81      0.84      0.82        25\n",
      "                                            Drinks;Hot Drinks;Coffee Capsules       0.92      0.92      0.92        13\n",
      "                                           Beer, Cider & Wine;Wine;Pinot Gris       0.79      0.96      0.87        28\n",
      "                                     Fresh Foods & Bakery;Butchery;Fresh Pork       0.92      0.92      0.92        12\n",
      "                    Pantry;Sauces, Stock & Marinades;Tartare & Seafood Sauces       1.00      0.25      0.40         4\n",
      "                            Kitchen, Dining & Household;Household;Kitchenware       0.00      0.00      0.00         4\n",
      "                                Fresh Foods & Bakery;Bakery;Biscuits & Slices       0.89      0.73      0.80        11\n",
      "                             Fresh Foods & Bakery;Bakery;Fresh Breads & Rolls       0.00      0.00      0.00         3\n",
      "                      Kitchen, Dining & Household;Household;Food Wraps & Bags       0.67      0.93      0.78        15\n",
      "                                Pantry;Biscuits & Crackers;Chocolate Biscuits       0.25      0.33      0.29         6\n",
      "                          Chilled, Frozen & Desserts;Cheese;Deli Cheeseboards       0.62      1.00      0.76        45\n",
      "                                            Drinks;Hot Drinks;Instant Coffees       0.60      0.50      0.55         6\n",
      "                                   Pantry;Salad & Cooking Oils;Rice Bran Oils       0.88      1.00      0.93         7\n",
      "                                 Pantry;Breakfast Cereals;Breakfast On The Go       1.00      0.80      0.89        15\n",
      "                   Chilled, Frozen & Desserts;Frozen Foods;Frozen Ready Meals       0.93      0.98      0.95        43\n",
      "                         Kitchen, Dining & Household;Laundry;Laundry Supplies       0.00      0.00      0.00        11\n",
      "                                    Pantry;Pasta, Rice & Noodles;Noodle Meals       0.64      0.37      0.47        19\n",
      "                                  Meal Spot;Ready to Heat;Pizza & Pizza Bases       1.00      0.50      0.67         2\n",
      "                                  Personal Care;Health & Wellness;Pain Relief       0.75      0.67      0.71        18\n",
      "                                    Pantry;Pasta, Rice & Noodles;Dried Pastas       1.00      0.67      0.80         6\n",
      "                                 Pantry;Hot Drinks;Chocolate Milk Drink Mixes       0.83      1.00      0.91        10\n",
      "                     Fresh Foods & Bakery;Fruit & Vegetables;Fresh Vegetables       0.82      0.91      0.86        35\n",
      "            Kitchen, Dining & Household;Stationery & Entertainment;Newspapers       0.93      0.98      0.95        43\n",
      "                                 Pantry;Jams, Honey & Spreads;Jam & Marmalade       0.75      0.96      0.84        49\n",
      "             Chilled, Frozen & Desserts;Frozen Foods;Frozen Beef, Lamb & Pork       0.90      0.86      0.88        21\n",
      "                                     Pantry;Pasta, Rice & Noodles;Pasta Meals       0.67      0.90      0.77        20\n",
      "                                               Beer, Cider & Wine;Wine;Merlot       0.00      0.00      0.00         4\n",
      "     Kitchen, Dining & Household;Cleaning Products;Furniture & Metal Polishes       0.96      0.93      0.94        27\n",
      "                                  Pantry;Baking Supplies & Sugar;Baking Mixes       1.00      0.33      0.50         9\n",
      "                         Fresh Foods & Bakery;Fruit & Vegetables;Fresh Salads       0.57      0.50      0.53         8\n",
      "                        Kitchen, Dining & Household;Garage & Outdoor;Car Care       0.50      0.82      0.62        17\n",
      "                                              Pantry;Hot Drinks;Fresh Coffees       0.83      0.91      0.87        11\n",
      "                                  Pantry;Salad & Cooking Oils;Nut & Seed Oils       1.00      0.80      0.89        15\n",
      "                                               Pantry;Snack Foods;Muesli Bars       0.55      0.80      0.65        15\n",
      "                          Personal Care;Health & Wellness;Sanitary Protection       0.00      0.00      0.00         3\n",
      "             Chilled, Frozen & Desserts;Frozen Foods;Frozen Chicken & Poultry       1.00      0.92      0.96        13\n",
      "                                Pantry;Biscuits & Crackers;Biscuits & Cookies       0.95      0.95      0.95        22\n",
      "                          Chilled, Frozen & Desserts;Frozen Foods;Frozen Pies       0.00      0.00      0.00         9\n",
      "                                 Fresh Foods & Bakery;Butchery;PrePacked Pork       0.82      0.91      0.86        35\n",
      "                                           Drinks;Cold Drinks;Powdered Drinks       0.64      0.37      0.47        19\n",
      "           Fresh Foods & Bakery;Fruit & Vegetables;PrePacked Fresh Vegetables       0.88      0.98      0.93        53\n",
      "          Kitchen, Dining & Household;Cleaning Products;Dishwasher Detergents       0.82      0.91      0.86        35\n",
      "                                       Pantry;Condiments & Dressings;Vinegars       0.89      1.00      0.94        40\n",
      "                                                 Drinks;Hot Drinks;Black Teas       0.45      0.69      0.55        13\n",
      "                           Beer, Cider & Wine;Beer & Cider;American-style Ale       0.91      0.53      0.67        19\n",
      "                   Baby, Toddler & Kids;Baby Care;Baby Formula & Toddler Food       1.00      0.50      0.67         8\n",
      "                                            Beer, Cider & Wine;Wine;Cask Wine       0.67      0.95      0.78        19\n",
      "     Fresh Foods & Bakery;Deli, Salads & Cooked Meats;Chilled Pies & Pastries       0.10      0.09      0.10        11\n",
      "                              Pantry;Baking Supplies & Sugar;Baking Additives       0.75      0.96      0.84        49\n",
      "                                                   Pets;Pet Supplies;Dog Food       1.00      1.00      1.00        13\n",
      "                                         Pantry;Baking Supplies & Sugar;Sugar       0.79      1.00      0.88        15\n",
      "                Pantry;Sauces, Stock & Marinades;Simmer & Stir-Through Sauces       1.00      0.90      0.95        10\n",
      "                            Baby, Toddler & Kids;Baby Care;Nappies & Changing       1.00      0.80      0.89        15\n",
      "                         Pantry;Baking Supplies & Sugar;Essences & Colourings       0.95      1.00      0.98        20\n",
      "                                 Fresh Foods & Bakery;Bakery;Specialty Breads       0.57      1.00      0.73        12\n",
      "                                        Pantry;Hot Drinks;Fruit & Herbal Teas       0.00      0.00      0.00         3\n",
      "                      Fresh Foods & Bakery;Deli, Salads & Cooked Meats;Hummus       0.50      0.82      0.62        17\n",
      "                                         Pantry;Condiments & Dressings;Relish       0.48      0.91      0.62        33\n",
      "                                      Pantry;Pasta, Rice & Noodles;Rice Meals       0.88      0.98      0.93        53\n",
      "                                         Meal Spot;Ready to Cook;Noodle Meals       0.12      0.20      0.15        35\n",
      "                                        Meal Spot;Ready to Cook;Simply DINNER       0.20      0.12      0.15         8\n",
      "    Fresh Foods & Bakery;Deli, Salads & Cooked Meats;Olives & Antipasti Mixes       0.21      0.38      0.27        16\n",
      "                          Fresh Foods & Bakery;Fruit & Vegetables;Fresh Fruit       0.86      0.86      0.86        14\n",
      "                           Fresh Foods & Bakery;Seafood;Frozen Fish & Seafood       0.22      0.25      0.24         8\n",
      "                          Pantry;Condiments & Dressings;Worcestershire Sauces       1.00      0.96      0.98        26\n",
      "                                            Pantry;Hot Drinks;Coffee Capsules       0.00      0.00      0.00         2\n",
      "                                          Meal Spot;Ready to Heat;Ready Meals       0.22      0.25      0.24         8\n",
      "                     Chilled, Frozen & Desserts;Frozen Foods;Frozen Savouries       0.29      0.30      0.29        20\n",
      "                              Chilled, Frozen & Desserts;Cheese;Cheese Blocks       0.95      0.95      0.95        22\n",
      "                                           Beer, Cider & Wine;Wine;Pinot Noir       0.27      0.96      0.42        51\n",
      "                                    Pantry;Condiments & Dressings;Mint Sauces       1.00      0.92      0.96        13\n",
      "                              Chilled, Frozen & Desserts;Cheese;Grated Cheese       1.00      0.95      0.97        20\n",
      "                                            Pets;Pet Supplies;Pet Accessories       0.69      0.95      0.80        21\n",
      "                          Fresh Foods & Bakery;Fruit & Vegetables;Fresh Herbs       1.00      0.64      0.78        14\n",
      "                             Kitchen, Dining & Household;Laundry;Laundry Soap       1.00      0.50      0.67         8\n",
      "                     Fresh Foods & Bakery;Seafood;Fresh Fish Fillets & Steaks       0.83      1.00      0.91        10\n",
      "                                     Pantry;Confectionery;Lollies Family Bags       1.00      0.94      0.97        16\n",
      "                                  Meal Spot;Ready to Eat;Fresh Deli Savouries       1.00      0.38      0.55        16\n",
      "                            Fresh Foods & Bakery;Bakery;Organic & Gluten Free       0.00      0.00      0.00         5\n",
      "                                          Drinks;Cold Drinks;Sparkling Juices       0.77      0.89      0.83        19\n",
      "                                          Meal Spot;Ready to Eat;Fresh Salads       0.00      0.00      0.00         1\n",
      "                                       Pantry;Salad & Cooking Oils;Other Oils       0.00      0.00      0.00         7\n",
      "                        Beer, Cider & Wine;Beer & Cider;Lighter Alcohol Beers       0.61      1.00      0.76        11\n",
      "                                   Drinks;Hot Drinks;Coffee Flavoured Sachets       0.64      0.91      0.75        23\n",
      "                                   Pantry;Salad & Cooking Oils;Vegetable Oils       1.00      0.52      0.69        23\n",
      "                                            Meal Spot;Ready to Cook;Vege Bags       0.25      0.80      0.38        20\n",
      "                                          Pantry;World Foods;South East Asian       0.33      0.43      0.38        21\n",
      "                          Fresh Foods & Bakery;Butchery;PrePacked Beef & Lamb       0.88      0.98      0.93        53\n",
      "                           Personal Care;Beauty & Grooming;Makeup & Cosmetics       0.00      0.00      0.00         3\n",
      "                             Personal Care;Beauty & Grooming;Hand & Body Care       0.00      0.00      0.00         6\n",
      "                                         Pantry;Breakfast Cereals;Hot Cereals       0.60      1.00      0.75         3\n",
      "                             Kitchen, Dining & Household;Laundry;Clothes Pegs       0.75      0.96      0.84        49\n",
      "                           Pantry;Canned & Prepared Foods;Canned Milk & Cream       1.00      0.20      0.33         5\n",
      "                     Chilled, Frozen & Desserts;Desserts;Meringues & Pavlovas       1.00      0.96      0.98        26\n",
      "                              Meal Spot;Ready to Heat;Chilled Pies & Pastries       0.17      0.15      0.16        20\n",
      "                      Personal Care;Health & Wellness;Contact Lens & Eye Care       0.89      1.00      0.94        40\n",
      "                           Personal Care;Beauty & Grooming;Suncare & Self Tan       0.65      0.96      0.77        48\n",
      "                                               Beer, Cider & Wine;Wine;Shiraz       0.25      0.33      0.29         6\n",
      "                           Fresh Foods & Bakery;Fruit & Vegetables;Salad Bags       0.75      0.56      0.64        16\n",
      "                                              Pantry;Snack Foods;Potato Chips       0.68      0.90      0.78        21\n",
      "                             Beer, Cider & Wine;Beer & Cider;Brewing Supplies       0.89      1.00      0.94        34\n",
      "               Chilled, Frozen & Desserts;Desserts;Ice Cream & Frozen Yoghurt       0.49      0.78      0.60        23\n",
      "                  Chilled, Frozen & Desserts;Desserts;Ready To Serve Puddings       0.65      0.96      0.77        48\n",
      "                                     Meal Spot;Ready to Heat;Frozen Savouries       1.00      0.96      0.98        26\n",
      "                                                  Pantry;World Foods;Japanese       0.00      0.00      0.00         6\n",
      "                       Personal Care;Health & Wellness;Vitamins & Supplements       0.82      0.88      0.85        16\n",
      "                        Chilled, Frozen & Desserts;Frozen Foods;Frozen Pastry       0.85      0.85      0.85        13\n",
      "                                      Beer, Cider & Wine;Beer & Cider;Spirits       0.62      1.00      0.76        45\n",
      "                  Personal Care;Health & Wellness;Wellness & Sports Nutrition       0.75      0.56      0.64        16\n",
      "                               Pantry;Sauces, Stock & Marinades;Tomato Sauces       0.62      0.38      0.48        13\n",
      "                            Fresh Foods & Bakery;Fruit & Vegetables;Vege Bags       0.79      1.00      0.88        15\n",
      "                                           Pantry;Jams, Honey & Spreads;Honey       0.82      0.88      0.85        16\n",
      "                                            Pantry;Hot Drinks;Instant Coffees       0.88      0.98      0.93        53\n",
      "                  Kitchen, Dining & Household;Laundry;Pre Wash Stain Removers       1.00      0.71      0.83         7\n",
      "                                 Drinks;Hot Drinks;Coffee Additives & Filters       0.93      0.98      0.95        43\n",
      "                                   Fresh Foods & Bakery;Seafood;Seafood Salad       0.73      0.96      0.83        28\n",
      "                    Chilled, Frozen & Desserts;Frozen Foods;Frozen Vegetarian       0.20      0.33      0.25        15\n",
      "                                             Drinks;Cold Drinks;Coconut Water       0.64      0.91      0.75        23\n",
      "                                    Pantry;Canned & Prepared Foods;Vegetarian       1.00      0.70      0.82        10\n",
      "    Kitchen, Dining & Household;Stationery & Entertainment;Stationery & Craft       0.88      0.98      0.93        53\n",
      "                 Chilled, Frozen & Desserts;Dairy & Eggs;Yoghurt & Dairy Food       0.93      0.98      0.95        43\n",
      "                                   Pantry;Sauces, Stock & Marinades;Soy Sauce       0.26      0.36      0.30        14\n",
      "                                   Pantry;Hot Drinks;Coffee Flavoured Sachets       1.00      0.14      0.25         7\n",
      "                                           Pantry;World Foods;Other Countries       0.83      0.77      0.80        26\n",
      "                                        Pantry;Confectionery;Chocolate Blocks       0.29      0.30      0.29        20\n",
      "                             Kitchen, Dining & Household;Household;Fire Needs       0.93      0.98      0.95        43\n",
      "                             Kitchen, Dining & Household;Garage & Outdoor;BBQ       0.88      0.98      0.93        53\n",
      "                       Chilled, Frozen & Desserts;Cheese;Deli Cabinet Cheeses       0.80      0.53      0.64        15\n",
      "                                               Pantry;Snack Foods;Snack Mixes       0.84      0.95      0.89        22\n",
      "                          Chilled, Frozen & Desserts;Frozen Foods;Frozen Fish       0.33      0.80      0.47        10\n",
      "                              Pantry;Jams, Honey & Spreads;Marmite & Vegemite       0.75      0.64      0.69        14\n",
      "           Chilled, Frozen & Desserts;Dairy & Eggs;Sour Cream & Crème Fraiche       0.93      1.00      0.97        14\n",
      "                                     Pantry;Salad & Cooking Oils;Avocado Oils       1.00      0.83      0.91         6\n",
      "                              Personal Care;Health & Wellness;Family Planning       1.00      0.20      0.33         5\n",
      "                                   Pantry;Pasta, Rice & Noodles;Instant Rices       0.00      0.00      0.00         7\n",
      "                                             Pets;Pet Supplies;Pet Treatments       0.00      0.00      0.00         4\n",
      "                      Beer, Cider & Wine;Beer & Cider;Fruit & Flavoured Cider       1.00      0.62      0.76        13\n",
      "               Kitchen, Dining & Household;Cleaning Products;Kitchen Cleaners       0.62      1.00      0.76        45\n",
      "                                       Pantry;Spices & Seasonings;Dried Herbs       0.12      0.11      0.12        45\n",
      "                                     Pantry;Condiments & Dressings;Mayonnaise       1.00      1.00      1.00        24\n",
      "                                   Fresh Foods & Bakery;Seafood;Fresh Seafood       0.82      1.00      0.90         9\n",
      "                          Kitchen, Dining & Household;Laundry;Laundry Powders       0.25      0.80      0.38        20\n",
      "                                       Pantry;Snack Foods;Cereal & Snack Bars       0.93      0.98      0.95        43\n",
      "                         Kitchen, Dining & Household;Laundry;Fabric Softeners       0.17      0.08      0.11        12\n",
      "                               Pantry;Sauces, Stock & Marinades;Packet Sauces       0.88      1.00      0.93         7\n",
      "                   Beer, Cider & Wine;Beer & Cider;Specialty & Flavoured Beer       0.79      1.00      0.88        19\n",
      "                       Fresh Foods & Bakery;Dairy & Eggs;Yoghurt & Dairy Food       0.00      0.00      0.00         4\n",
      "                                                       Pantry;World Foods;USA       0.00      0.00      0.00         2\n",
      "                                   Pantry;Canned & Prepared Foods;Packet Soup       0.83      0.83      0.83         6\n",
      "                                     Drinks;Cold Drinks;Fruit Drinks & Juices       0.67      0.95      0.78        19\n",
      "                                              Drinks;Hot Drinks;Fresh Coffees       0.14      0.14      0.14         7\n",
      "                                              Pantry;Snack Foods;Fruit Snacks       0.72      0.87      0.79        15\n",
      "                              Fresh Foods & Bakery;Butchery;Fresh Beef & Lamb       0.17      0.12      0.14        16\n",
      "                                        Drinks;Hot Drinks;Fruit & Herbal Teas       0.56      1.00      0.72        41\n",
      "               Fresh Foods & Bakery;Bulk & Loose Foods;Bulk Breakfast Cereals       0.17      0.12      0.14        16\n",
      "                                        Pantry;Confectionery;Boxed Chocolates       0.00      0.00      0.00         3\n",
      "                   Personal Care;Beauty & Grooming;Hair Styling & Accessories       0.25      0.80      0.38        20\n",
      "                               Personal Care;Beauty & Grooming;Hair Colouring       1.00      0.17      0.29         6\n",
      "                                               Pantry;Snack Foods;Vege Snacks       0.00      0.00      0.00         3\n",
      "           Kitchen, Dining & Household;Household;Air Fresheners & Deodorisers       0.27      0.96      0.42        51\n",
      "                            Personal Care;Health & Wellness;Cough, Cold & Flu       0.48      0.91      0.62        33\n",
      "                                                 Drinks;Hot Drinks;Green Teas       0.56      0.83      0.67         6\n",
      "                       Pantry;Biscuits & Crackers;Gourmet Biscuits & Crackers       1.00      0.88      0.93         8\n",
      "                             Pantry;Baking Supplies & Sugar;Sugar Substitutes       0.85      0.85      0.85        27\n",
      "                             Pantry;Sauces, Stock & Marinades;Stir Fry Sauces       0.00      0.00      0.00         3\n",
      "Fresh Foods & Bakery;Deli, Salads & Cooked Meats;Continental Sausage & Salami       0.88      0.98      0.93        53\n",
      "                                               Pantry;Confectionery;Liquorice       0.64      0.53      0.58        17\n",
      "                                Baby, Toddler & Kids;Baby Care;Baby Hair Care       0.33      0.43      0.38        21\n",
      "                  Kitchen, Dining & Household;Household;Rubbish & Vacuum Bags       1.00      0.50      0.67         4\n",
      "                           Chilled, Frozen & Desserts;Dairy & Eggs;Fresh Milk       0.55      0.90      0.68        40\n",
      "                               Fresh Foods & Bakery;Seafood;Fresh Smoked Fish       0.33      0.33      0.33        21\n",
      "                                 Meal Spot;Ready to Heat;Frozen Pizza & Bases       0.95      0.95      0.95        22\n",
      "                     Pantry;Canned & Prepared Foods;Canned & Dried Vegetables       0.80      1.00      0.89         4\n",
      "                                     Beer, Cider & Wine;Beer & Cider;Pale Ale       0.72      0.87      0.79        15\n",
      "                                     Pantry;Sauces, Stock & Marinades;Gravies       0.00      0.00      0.00         9\n",
      "                             Fresh Foods & Bakery;Dairy & Eggs;Flavoured Milk       0.12      0.20      0.15        35\n",
      "                                                 Pantry;Hot Drinks;Green Teas       1.00      1.00      1.00         9\n",
      "                                       Pantry;Salad & Cooking Oils;Olive Oils       0.31      0.18      0.23        22\n",
      "                   Chilled, Frozen & Desserts;Dairy & Eggs;Fresh Organic Milk       1.00      0.80      0.89        15\n",
      "                                        Pantry;Condiments & Dressings;Pickles       0.79      0.96      0.87        28\n",
      "                                   Pantry;Spices & Seasonings;Garlic & Ginger       0.92      0.92      0.92        12\n",
      "                             Fresh Foods & Bakery;Butchery;PreCooked Sausages       0.67      0.95      0.78        19\n",
      "                 Fresh Foods & Bakery;Deli, Salads & Cooked Meats;Deli Salads       0.73      0.96      0.83        28\n",
      "                      Pantry;Biscuits & Crackers;Assorted Biscuits & Crackers       0.56      0.83      0.67         6\n",
      "                                       Pantry;Condiments & Dressings;Chutneys       0.70      0.64      0.67        11\n",
      "                                       Pantry;Condiments & Dressings;Mustards       0.79      0.96      0.87        28\n",
      "                          Pantry;Canned & Prepared Foods;Coconut Cream & Milk       0.09      0.09      0.09        11\n",
      "                           Kitchen, Dining & Household;Garage & Outdoor;Hooks       0.33      0.43      0.38        21\n",
      "   Fresh Foods & Bakery;Deli, Salads & Cooked Meats;Gourmet Oils & Condiments       0.11      0.09      0.10        11\n",
      "                       Kitchen, Dining & Household;Cleaning Products;Bleaches       0.90      0.86      0.88        21\n",
      "                      Pantry;Pasta, Rice & Noodles;Short & Medium Grain Rices       0.48      0.91      0.62        33\n",
      "                               Chilled, Frozen & Desserts;Cheese;Cream Cheese       0.48      0.61      0.54        23\n",
      "                             Pantry;Baking Supplies & Sugar;Cooking Chocolate       0.17      0.15      0.16        20\n",
      "                                        Pantry;Breakfast Cereals;Cold Cereals       1.00      0.88      0.93         8\n",
      "                   Kitchen, Dining & Household;Household;Disposable Tableware       0.29      0.30      0.29        20\n",
      "                               Pantry;Canned & Prepared Foods;Syrups & Sauces       0.55      0.90      0.68        40\n",
      "                                            Pets;Pet Supplies;Cat Accessories       0.29      0.30      0.29        20\n",
      "                                          Drinks;Cold Drinks;Vegetable Juices       0.64      0.91      0.75        23\n",
      "                        Fresh Foods & Bakery;Butchery;Fresh Chicken & Poultry       0.17      0.08      0.11        12\n",
      "                           Beer, Cider & Wine;Beer & Cider;European-style Ale       0.89      1.00      0.94        40\n",
      "                                               Drinks;Cold Drinks;Still Water       0.33      0.43      0.38        21\n",
      "                                               Pantry;Confectionery;Christmas       1.00      0.88      0.93         8\n",
      "                           Fresh Foods & Bakery;Dairy & Eggs;Butter & Spreads       0.00      0.00      0.00         3\n",
      "                                          Pantry;Snack Foods;Nutritional Bars       0.33      0.43      0.38        21\n",
      "                                               Drinks;Cold Drinks;Soft Drinks       0.00      0.00      0.00         3\n",
      "                                         Drinks;Hot Drinks;Coffee Substitutes       1.00      0.92      0.96        13\n",
      "                                                    Pantry;World Foods;Korean       0.17      0.08      0.11        12\n",
      "\n",
      "                                                                    micro avg       0.61      0.75      0.67     65240\n",
      "                                                                    macro avg       0.61      0.62      0.59     65240\n",
      "                                                                 weighted avg       0.66      0.75      0.67     65240\n",
      "\n"
     ]
    },
    {
     "name": "stderr",
     "output_type": "stream",
     "text": [
      "d:\\python\\lib\\site-packages\\sklearn\\metrics\\_classification.py:1245: UndefinedMetricWarning: Recall is ill-defined and being set to 0.0 in labels with no true samples. Use `zero_division` parameter to control this behavior.\n",
      "  _warn_prf(average, modifier, msg_start, len(result))\n",
      "d:\\python\\lib\\site-packages\\sklearn\\metrics\\_classification.py:1982: UserWarning: labels size, 3616, does not match size of target_names, 429\n",
      "  warnings.warn(\n",
      "d:\\python\\lib\\site-packages\\sklearn\\metrics\\_classification.py:1245: UndefinedMetricWarning: Precision and F-score are ill-defined and being set to 0.0 in labels with no predicted samples. Use `zero_division` parameter to control this behavior.\n",
      "  _warn_prf(average, modifier, msg_start, len(result))\n",
      "d:\\python\\lib\\site-packages\\sklearn\\metrics\\_classification.py:1245: UndefinedMetricWarning: Precision and F-score are ill-defined and being set to 0.0 in labels with no predicted samples. Use `zero_division` parameter to control this behavior.\n",
      "  _warn_prf(average, modifier, msg_start, len(result))\n",
      "d:\\python\\lib\\site-packages\\sklearn\\metrics\\_classification.py:1245: UndefinedMetricWarning: Precision and F-score are ill-defined and being set to 0.0 in labels with no predicted samples. Use `zero_division` parameter to control this behavior.\n",
      "  _warn_prf(average, modifier, msg_start, len(result))\n"
     ]
    }
   ],
   "source": [
    "model = LogisticRegression()\n",
    "model.fit(x_train, y_train)\n",
    "predict_labels = model.predict(x_test)\n",
    "predict_labels = [np.round(p) for p in predict_labels]\n",
    "max_label = len(id2label) - 1\n",
    "predict_labels = [l if max_label >= l else max_label for l in predict_labels]\n",
    "min_label = 0\n",
    "predict_labels = [l if min_label <= l else min_label for l in predict_labels]\n",
    "evaluation(predict_labels, y_test, id2label, \"logistic\")"
   ],
   "metadata": {
    "collapsed": false,
    "pycharm": {
     "name": "#%%\n"
    }
   }
  },
  {
   "cell_type": "code",
   "execution_count": 20,
   "outputs": [
    {
     "name": "stdout",
     "output_type": "stream",
     "text": [
      "logistic: acc:0.6238938053097345, recall:0.4090618916506304, f1 score:0.405383904723313\n",
      "                                                                               precision    recall  f1-score   support\n",
      "\n",
      "                                   Baby, Toddler & Kids;Baby Care;Baby Health       1.00      0.25      0.40         4\n",
      "                                                   Pantry;World Foods;Mexican       0.92      1.00      0.96        12\n",
      "                                       Pantry;Salad & Cooking Oils;Oil Sprays       0.00      0.00      0.00         2\n",
      "                    Fresh Foods & Bakery;Butchery;PrePacked Chicken & Poultry       0.63      1.00      0.78        45\n",
      "                                 Pantry;Hot Drinks;Coffee Additives & Filters       0.00      0.00      0.00        11\n",
      "                     Chilled, Frozen & Desserts;Dairy & Eggs;Butter & Spreads       0.93      1.00      0.96        40\n",
      "                 Kitchen, Dining & Household;Cleaning Products;Glass Cleaners       0.92      1.00      0.96        12\n",
      "                          Chilled, Frozen & Desserts;Desserts;Frozen Puddings       0.00      0.00      0.00         5\n",
      "                          Chilled, Frozen & Desserts;Dairy & Eggs;Fresh Cream       1.00      0.62      0.76        13\n",
      "               Fresh Foods & Bakery;Dairy & Eggs;Long Life Milk & Milk Powder       0.88      1.00      0.94        15\n",
      "                                  Pantry;Canned & Prepared Foods;Canned Fruit       0.67      0.95      0.78        19\n",
      "                        Chilled, Frozen & Desserts;Dairy & Eggs;Yoghurt Bases       0.56      0.90      0.69        40\n",
      "                              Baby, Toddler & Kids;Baby Care;Baby Dental Care       0.72      0.67      0.69        27\n",
      "                              Fresh Foods & Bakery;Bakery;Wraps & Pita Breads       1.00      0.38      0.55        16\n",
      "                         Pantry;Condiments & Dressings;Chilli & Pepper Sauces       0.00      0.00      0.00         4\n",
      "                  Fresh Foods & Bakery;Deli, Salads & Cooked Meats;Ham & Pork       0.79      0.83      0.81        18\n",
      "                            Beer, Cider & Wine;Beer & Cider;British-style Ale       0.86      0.80      0.83        15\n",
      "                                               Pantry;Snack Foods;Meat Snacks       0.88      0.98      0.93        53\n",
      "                                                 Pets;Pet Supplies;Dog Treats       1.00      0.62      0.76        13\n",
      "                             Personal Care;Health & Wellness;Insect Repellent       0.91      0.83      0.87        12\n",
      "                                  Pantry;Confectionery;Novelty Bars & Singles       0.29      0.20      0.24        10\n",
      "                      Kitchen, Dining & Household;Laundry;Fine Fabric Washers       0.00      0.00      0.00         6\n",
      "                                          Pantry;Condiments & Dressings;Aioli       0.52      1.00      0.69        11\n",
      "                                                      Pantry;World Foods;Thai       0.00      0.00      0.00         4\n",
      "                                           Drinks;Cold Drinks;Flavoured Water       1.00      0.52      0.69        23\n",
      "                 Fresh Foods & Bakery;Dairy & Eggs;Sour Cream & Crème Fraiche       0.00      0.00      0.00         4\n",
      "                                Fresh Foods & Bakery;Seafood;Fresh Whole Fish       0.29      0.20      0.24        10\n",
      "             Kitchen, Dining & Household;Stationery & Entertainment;Magazines       0.88      0.98      0.93        53\n",
      "                                          Beer, Cider & Wine;Beer & Cider;IPA       0.90      1.00      0.95         9\n",
      "                                                   Pantry;World Foods;Chinese       1.00      0.33      0.50         3\n",
      "                                       Fresh Foods & Bakery;Dairy & Eggs;Eggs       0.00      0.00      0.00         1\n",
      "                  Fresh Foods & Bakery;Bulk & Loose Foods;Bulk Snacks & Mixes       1.00      0.38      0.55        16\n",
      "                    Chilled, Frozen & Desserts;Desserts;Ice Blocks & Ice Pops       0.49      0.91      0.64        33\n",
      "                                     Pantry;Spices & Seasonings;Salt & Pepper       0.33      0.40      0.36        10\n",
      "                       Personal Care;Beauty & Grooming;Hair Care & Treatments       0.14      0.09      0.11        11\n",
      "                  Kitchen, Dining & Household;Household;Pest & Insect Control       0.70      0.82      0.76        17\n",
      "                                              Meal Spot;Ready to Cook;Mexican       0.33      0.25      0.29         4\n",
      "                                         Pantry;Hot Drinks;Coffee Substitutes       0.82      0.88      0.85        16\n",
      "                      Fresh Foods & Bakery;Butchery;Fresh Venison & Game Meat       1.00      0.52      0.69        23\n",
      "                                   Pantry;Sauces, Stock & Marinades;Marinades       0.78      1.00      0.88         7\n",
      "                                   Pantry;Canned & Prepared Foods;Canned Soup       1.00      0.80      0.89        15\n",
      "                       Pantry;Canned & Prepared Foods;Baked Beans & Spaghetti       0.00      0.00      0.00         1\n",
      "         Fresh Foods & Bakery;Bulk & Loose Foods;Bulk Seeds, Legumes & Grains       0.48      0.82      0.61        17\n",
      "                                           Drinks;Cold Drinks;Non Dairy Milks       0.00      0.00      0.00         5\n",
      "                                     Pantry;Confectionery;Chewing Gum & Mints       0.95      0.98      0.97        43\n",
      "                                Fresh Foods & Bakery;Seafood;Fresh Fish Heads       0.24      0.20      0.22        20\n",
      "                                   Personal Care;Health & Wellness;Adult Care       1.00      0.82      0.90        11\n",
      "                       Chilled, Frozen & Desserts;Frozen Foods;Frozen Seafood       1.00      0.67      0.80         6\n",
      "                              Chilled, Frozen & Desserts;Cheese;Cheese Slices       0.50      0.83      0.62        23\n",
      "                         Chilled, Frozen & Desserts;Frozen Foods;Frozen Fruit       0.20      0.12      0.15         8\n",
      "                                           Beer, Cider & Wine;Wine;Chardonnay       0.68      0.90      0.78        21\n",
      "                                      Drinks;Hot Drinks;Malt Milk Drink Mixes       0.26      0.36      0.30        14\n",
      "                   Fresh Foods & Bakery;Bulk & Loose Foods;Bulk Confectionery       0.75      0.98      0.85        49\n",
      "                          Chilled, Frozen & Desserts;Desserts;Canned Desserts       0.00      0.00      0.00         5\n",
      "                                 Fresh Foods & Bakery;Dairy & Eggs;Fresh Milk       0.88      1.00      0.94        15\n",
      "                                     Pantry;Salad & Cooking Oils;Coconut Oils       1.00      0.95      0.97        20\n",
      "                                    Drinks;Cold Drinks;Sports & Energy Drinks       0.50      0.65      0.57        23\n",
      "                                                  Pantry;Hot Drinks;Chai Teas       0.00      0.00      0.00         3\n",
      "                                         Pantry;Baking Supplies & Sugar;Flour       1.00      0.62      0.76        13\n",
      "                                 Drinks;Hot Drinks;Chocolate Milk Drink Mixes       0.59      1.00      0.75        41\n",
      "                                                 Drinks;Cold Drinks;Iced Teas       0.87      1.00      0.93        34\n",
      "                                                 Beer, Cider & Wine;Wine;Rose       0.49      0.91      0.64        33\n",
      "                                                   Pantry;Snack Foods;Popcorn       0.86      1.00      0.92        12\n",
      "                                                Pantry;Snack Foods;Corn Chips       1.00      0.17      0.29        12\n",
      "                                          Meal Spot;Ready to Heat;Packet Soup       0.88      0.98      0.93        53\n",
      "                                              Pets;Pet Supplies;Bird Supplies       0.00      0.00      0.00         1\n",
      "                         Chilled, Frozen & Desserts;Desserts;Chilled Custards       0.45      0.83      0.59         6\n",
      "                       Chilled, Frozen & Desserts;Dairy & Eggs;Flavoured Milk       0.22      0.44      0.29        16\n",
      "                                 Fresh Foods & Bakery;Meal Kits;Simply DINNER       1.00      0.88      0.93         8\n",
      "                 Kitchen, Dining & Household;Laundry;Washing Machine Cleaners       1.00      0.44      0.62         9\n",
      "                              Personal Care;Health & Wellness;Allergy & Sinus       0.75      0.98      0.85        49\n",
      "                Kitchen, Dining & Household;Household;Batteries & Light Bulbs       0.49      0.91      0.64        33\n",
      "                                 Fresh Foods & Bakery;Butchery;Fresh Sausages       0.00      0.00      0.00         9\n",
      "                                Pantry;Sauces, Stock & Marinades;Pasta Sauces       1.00      0.50      0.67         8\n",
      "                                     Pantry;Jams, Honey & Spreads;Nut Spreads       0.00      0.00      0.00         4\n",
      "                                                 Pets;Pet Supplies;Cat Treats       0.00      0.00      0.00         2\n",
      "                                   Pantry;Confectionery;Chocolate Family Bags       0.72      1.00      0.84        18\n",
      "                      Pantry;Sauces, Stock & Marinades;Tomato Pastes & Purees       1.00      0.62      0.76        13\n",
      "                              Pantry;Biscuits & Crackers;Plain Sweet Biscuits       0.79      0.96      0.87        28\n",
      "                                          Pantry;Biscuits & Crackers;Crackers       0.86      0.86      0.86         7\n",
      "                  Fresh Foods & Bakery;Deli, Salads & Cooked Meats;Deli Meats       0.50      0.65      0.57        23\n",
      "     Kitchen, Dining & Household;Stationery & Entertainment;Toys & Recreation       0.68      0.90      0.78        21\n",
      "                                          Drinks;Cold Drinks;Milk Drink Mixes       1.00      0.20      0.33         5\n",
      "                                          Meal Spot;Ready to Heat;Canned Soup       0.69      0.82      0.75        11\n",
      "                                   Pantry;Canned & Prepared Foods;Ready Meals       0.55      1.00      0.71        11\n",
      "                              Pantry;Spices & Seasonings;Freshly Ground Herbs       0.72      1.00      0.84        18\n",
      "                                         Pantry;Snack Foods;Nut Bars & Snacks       0.93      1.00      0.96        13\n",
      "                                      Drinks;Cold Drinks;Chilled Fruit Juices       1.00      0.43      0.60         7\n",
      "                     Kitchen, Dining & Household;Household;Cooking & Bakeware       0.00      0.00      0.00         4\n",
      "                                   Meal Spot;Ready to Heat;Frozen Ready Meals       1.00      0.62      0.76        13\n",
      "                                             Pantry;World Foods;South African       0.48      0.82      0.61        17\n",
      "                                 Pantry;Jams, Honey & Spreads;Savoury Spreads       0.00      0.00      0.00         2\n",
      "                       Personal Care;Beauty & Grooming;Shaving & Hair Removal       1.00      0.36      0.53        11\n",
      "                         Fresh Foods & Bakery;Dairy & Eggs;Fresh Organic Milk       0.00      0.00      0.00        12\n",
      "                                        Beer, Cider & Wine;Beer & Cider;Lager       0.64      0.70      0.67        10\n",
      "                                      Pets;Pet Supplies;Small Animal Supplies       0.88      1.00      0.94        15\n",
      "                                       Beer, Cider & Wine;Wine;Other Red Wine       0.00      0.00      0.00         3\n",
      "                                  Fresh Foods & Bakery;Bakery;Pies & Pastries       1.00      1.00      1.00         3\n",
      "                             Baby, Toddler & Kids;Baby Care;Nursing & Feeding       0.89      0.73      0.80        11\n",
      "                Kitchen, Dining & Household;Garage & Outdoor;Hardware & Tools       0.86      1.00      0.92        12\n",
      "                           Kitchen, Dining & Household;Household;Food Storage       0.49      0.91      0.64        33\n",
      "                           Pantry;Baking Supplies & Sugar;Baking Nuts & Seeds       0.64      0.96      0.77        48\n",
      "                           Pantry;Pasta, Rice & Noodles;Wild & Coloured Rices       1.00      0.52      0.69        23\n",
      "                                 Pantry;Breakfast Cereals;Flake/Fibre Cereals       0.20      0.12      0.15         8\n",
      "                                Pantry;Condiments & Dressings;Salad Dressings       0.87      1.00      0.93        34\n",
      "                                                        Pantry;World Foods;UK       1.00      0.88      0.93         8\n",
      "                Kitchen, Dining & Household;Laundry;Laundry Liquid & Capsules       0.72      0.67      0.69        27\n",
      "                                     Beer, Cider & Wine;Wine;Other White Wine       0.57      1.00      0.73        12\n",
      "                 Kitchen, Dining & Household;Household;Tissues & Toilet Paper       0.93      0.96      0.95        27\n",
      "                                  Pantry;Spices & Seasonings;Chilli & Paprika       0.00      0.00      0.00         4\n",
      "                   Kitchen, Dining & Household;Cleaning Products;Paper Towels       0.95      0.98      0.97        43\n",
      "                      Fresh Foods & Bakery;Fruit & Vegetables;Fresh Cut Fruit       0.48      0.82      0.61        17\n",
      "                         Personal Care;Beauty & Grooming;Face & Lip Skin Care       0.50      0.65      0.57        23\n",
      "                                             Beer, Cider & Wine;Wine;Cabernet       1.00      0.95      0.97        20\n",
      "                                   Pantry;Pasta, Rice & Noodles;Jasmine Rices       0.90      1.00      0.95         9\n",
      "                       Fresh Foods & Bakery;Dairy & Eggs;Dairy & Lactose Free       0.86      0.86      0.86         7\n",
      "                                   Personal Care;Beauty & Grooming;Deodorants       0.79      0.65      0.71        17\n",
      "                                   Pantry;Canned & Prepared Foods;Canned Fish       1.00      0.92      0.96        13\n",
      "                                Pets;Pet Supplies;Fish & Aquatic Pet Supplies       0.93      1.00      0.96        40\n",
      "                                   Pantry;Condiments & Dressings;Fruit Sauces       0.88      0.98      0.93        53\n",
      "                                         Meal Spot;Ready to Eat;Seafood Salad       0.75      0.63      0.69        19\n",
      "                                                  Drinks;Hot Drinks;Chai Teas       0.63      1.00      0.78        45\n",
      "           Kitchen, Dining & Household;Cleaning Products;Cleaning Accessories       0.13      0.20      0.16        35\n",
      "                                                     Pantry;Snack Foods;Chips       0.47      0.69      0.56        13\n",
      "                                           Drinks;Cold Drinks;Sparkling Water       0.72      0.67      0.69        27\n",
      "                Chilled, Frozen & Desserts;Desserts;Jelly & Powdered Desserts       0.69      0.90      0.78        20\n",
      "                     Fresh Foods & Bakery;Bulk & Loose Foods;Bulk Dried Fruit       0.00      0.00      0.00         1\n",
      "                            Kitchen, Dining & Household;Laundry;Clothing Dyes       1.00      0.92      0.96        13\n",
      "             Kitchen, Dining & Household;Cleaning Products;Dishwashing Liquid       1.00      0.25      0.40         4\n",
      "                                           Meal Spot;Ready to Eat;Deli Salads       0.50      0.65      0.57        23\n",
      "                            Fresh Foods & Bakery;Bulk & Loose Foods;Bulk Nuts       1.00      0.50      0.67         8\n",
      "                       Fresh Foods & Bakery;Deli, Salads & Cooked Meats;Bacon       0.75      0.64      0.69        14\n",
      "                          Chilled, Frozen & Desserts;Cheese;Specialty Cheeses       0.80      0.86      0.83        14\n",
      "                                 Pantry;Baking Supplies & Sugar;Baking Syrups       0.32      0.38      0.35        21\n",
      "                                    Personal Care;Health & Wellness;First Aid       0.93      1.00      0.97        14\n",
      "                              Kitchen, Dining & Household;Household;Shoe Care       0.00      0.00      0.00         7\n",
      "         Fresh Foods & Bakery;Deli, Salads & Cooked Meats;Specialty Dry Goods       0.26      0.36      0.30        14\n",
      "                              Pantry;Biscuits & Crackers;Crème & Jam Biscuits       0.56      0.90      0.69        40\n",
      "                                  Fresh Foods & Bakery;Bakery;Cakes & Muffins       0.12      0.11      0.12        45\n",
      "                 Chilled, Frozen & Desserts;Desserts;Ice Cream Cones & Wafers       0.86      0.89      0.87        35\n",
      "          Fresh Foods & Bakery;Deli, Salads & Cooked Meats;Dips, Pesto & Pate       0.00      0.00      0.00         2\n",
      "                        Pantry;Sauces, Stock & Marinades;Chilled Pasta Sauces       0.49      0.91      0.64        33\n",
      "                                 Drinks;Cold Drinks;Squash, Syrups & Cordials       0.91      1.00      0.95        10\n",
      "                             Kitchen, Dining & Household;Household;Electrical       0.63      1.00      0.78        45\n",
      "                                      Pantry;Spices & Seasonings;Dried Spices       1.00      0.60      0.75         5\n",
      "       Fresh Foods & Bakery;Deli, Salads & Cooked Meats;PreCooked Beef & Lamb       0.32      0.38      0.35        21\n",
      "                                   Pantry;Baking Supplies & Sugar;Dried Fruit       0.88      0.58      0.70        12\n",
      "                        Fresh Foods & Bakery;Bakery;Fresh Desserts & Pastries       0.00      0.00      0.00        12\n",
      "                            Pantry;Sauces, Stock & Marinades;Specialty Sauces       0.24      0.20      0.22        20\n",
      " Fresh Foods & Bakery;Deli, Salads & Cooked Meats;PreCooked Chicken & Poultry       0.95      0.95      0.95        22\n",
      "                            Fresh Foods & Bakery;Bakery;Fresh Cakes & Muffins       0.00      0.00      0.00         3\n",
      "                                         Pantry;Pasta, Rice & Noodles;Noodles       0.50      0.83      0.62        23\n",
      "         Chilled, Frozen & Desserts;Dairy & Eggs;Long Life Milk & Milk Powder       0.10      0.18      0.13        17\n",
      "                          Fresh Foods & Bakery;Bakery;Fresh Biscuits & Slices       0.50      0.33      0.40         3\n",
      "                                  Personal Care;Beauty & Grooming;Oral Health       0.68      0.91      0.78        23\n",
      "     Kitchen, Dining & Household;Cleaning Products;Bathroom & Shower Cleaners       1.00      0.20      0.33         5\n",
      "                                                   Pets;Pet Supplies;Cat Food       0.85      0.85      0.85        27\n",
      "                  Chilled, Frozen & Desserts;Desserts;Frozen Dessert Pastries       0.64      0.70      0.67        10\n",
      "                                      Beer, Cider & Wine;Wine;Sauvignon Blanc       0.88      0.98      0.93        53\n",
      "                           Beer, Cider & Wine;Beer & Cider;Apple & Pear Cider       0.67      0.20      0.31        10\n",
      "                             Fresh Foods & Bakery;Bakery;Garlic & Herb Breads       0.79      1.00      0.88        19\n",
      "                                                    Pantry;World Foods;Indian       1.00      0.52      0.69        23\n",
      "                                    Pantry;Canned & Prepared Foods;Soup Mixes       0.00      0.00      0.00         7\n",
      "                                    Pantry;Pasta, Rice & Noodles;Fresh Pastas       0.93      1.00      0.96        40\n",
      "                        Pantry;Pasta, Rice & Noodles;Specialty Grains & Seeds       0.10      0.09      0.10        11\n",
      "                                          Meal Spot;Ready to Cook;Pasta Meals       1.00      1.00      1.00        24\n",
      "                                         Pantry;Condiments & Dressings;Olives       1.00      0.50      0.67         2\n",
      "                                     Pantry;Biscuits & Crackers;Rice Crackers       1.00      1.00      1.00         9\n",
      "                                                 Pantry;Hot Drinks;Black Teas       1.00      0.88      0.93         8\n",
      "                              Fresh Foods & Bakery;Dairy & Eggs;Yoghurt Bases       0.10      0.09      0.10        11\n",
      "                                             Pantry;Snack Foods;Dips & Salsas       1.00      0.33      0.50         9\n",
      "                                        Pantry;Biscuits & Crackers;Rice Cakes       1.00      0.95      0.97        20\n",
      "                             Fresh Foods & Bakery;Butchery;PrePacked Sausages       0.82      0.88      0.85        16\n",
      "                                 Chilled, Frozen & Desserts;Dairy & Eggs;Eggs       0.50      0.65      0.57        23\n",
      "            Chilled, Frozen & Desserts;Desserts;Frozen Bavarians & Cheesecake       0.67      0.93      0.78        15\n",
      "                    Chilled, Frozen & Desserts;Frozen Foods;Frozen Vegetables       1.00      0.88      0.93        24\n",
      "        Kitchen, Dining & Household;Cleaning Products;Carpet & Floor Cleaners       0.00      0.00      0.00         6\n",
      "                                Fresh Foods & Bakery;Dairy & Eggs;Fresh Cream       0.17      0.12      0.14        16\n",
      "                   Beer, Cider & Wine;Beer & Cider;Stout, Porter & Black Beer       0.63      1.00      0.78        45\n",
      "                            Personal Care;Beauty & Grooming;Apparel & Hosiery       0.83      0.91      0.87        11\n",
      "                           Beer, Cider & Wine;Wine;Champagne & Sparkling Wine       1.00      0.96      0.98        26\n",
      "                                      Pantry;Hot Drinks;Malt Milk Drink Mixes       1.00      0.88      0.93         8\n",
      "                                     Fresh Foods & Bakery;Bakery;Sliced Bread       0.50      0.83      0.62        23\n",
      "                      Baby, Toddler & Kids;Baby Care;Baby Bathing & Skin Care       0.63      1.00      0.78        45\n",
      "                                    Baby, Toddler & Kids;Baby Care;Baby Wipes       1.00      0.38      0.55        16\n",
      "                                            Pets;Pet Supplies;Dog Accessories       0.75      0.96      0.84        28\n",
      "                            Pantry;Baking Supplies & Sugar;Icing & Decorating       0.00      0.00      0.00         7\n",
      "                             Kitchen, Dining & Household;Household;Manchester       0.50      0.83      0.62        23\n",
      "                                   Pantry;Pasta, Rice & Noodles;Basmati Rices       1.00      0.64      0.78        14\n",
      "                                 Personal Care;Health & Wellness;Stop Smoking       0.45      0.83      0.59         6\n",
      "                        Pantry;Baking Supplies & Sugar;Breadcrumbs & Coatings       0.86      0.89      0.87        35\n",
      "                                        Meal Spot;Ready to Heat;Chilled Soups       0.75      0.96      0.84        28\n",
      "                             Chilled, Frozen & Desserts;Cheese;Cottage Cheese       0.53      1.00      0.69         9\n",
      "                                       Pantry;Sauces, Stock & Marinades;Stock       0.91      1.00      0.95        10\n",
      "                                   Pantry;Canned & Prepared Foods;Canned Meat       1.00      0.89      0.94         9\n",
      "                           Pantry;Canned & Prepared Foods;Pizza & Pizza Bases       1.00      0.50      0.67         8\n",
      "                                Pantry;Pasta, Rice & Noodles;Long Grain Rices       1.00      0.50      0.67        14\n",
      "                 Chilled, Frozen & Desserts;Frozen Foods;Frozen Pizza & Bases       0.93      1.00      0.96        13\n",
      "                     Chilled, Frozen & Desserts;Cheese;Deli Specialty Cheeses       0.59      1.00      0.75        41\n",
      "                         Fresh Foods & Bakery;Bakery;Muffin Splits & Crumpets       0.50      0.65      0.57        23\n",
      "                         Kitchen, Dining & Household;Household;Party Supplies       0.00      0.00      0.00         2\n",
      "                       Pantry;Sauces, Stock & Marinades;Curry Pastes & Sauces       0.86      0.75      0.80         8\n",
      "              Kitchen, Dining & Household;Garage & Outdoor;Gardening Supplies       0.67      0.80      0.73        15\n",
      "           Kitchen, Dining & Household;Cleaning Products;All Purpose Cleaners       0.32      0.38      0.35        21\n",
      "                               Kitchen, Dining & Household;Household;Homeware       0.67      0.80      0.73        15\n",
      "                                    Personal Care;Health & Wellness;Foot Care       0.84      0.81      0.82        26\n",
      "                                   Pantry;Jams, Honey & Spreads;Sweet Spreads       0.82      0.88      0.85        16\n",
      "                 Chilled, Frozen & Desserts;Frozen Foods;Frozen Bread & Dough       0.63      1.00      0.78        45\n",
      "                     Beer, Cider & Wine;Beer & Cider;Wheat & Other Grain Beer       0.57      0.80      0.67        15\n",
      "                                      Pantry;Salad & Cooking Oils;Cooking Fat       0.59      1.00      0.75        41\n",
      "        Fresh Foods & Bakery;Deli, Salads & Cooked Meats;Fresh Deli Savouries       0.00      0.00      0.00         1\n",
      "                                      Beer, Cider & Wine;Beer & Cider;Pilsner       0.88      0.58      0.70        12\n",
      "                              Drinks;Cold Drinks;Drinking Yoghurt & Smoothies       0.25      0.25      0.25         4\n",
      "                 Chilled, Frozen & Desserts;Dairy & Eggs;Dairy & Lactose Free       1.00      0.43      0.60         7\n",
      "                               Fresh Foods & Bakery;Bakery;Bread Rolls & Buns       0.93      1.00      0.97        14\n",
      "                                Pantry;Condiments & Dressings;Barbeque Sauces       0.70      0.64      0.67        11\n",
      "                                 Pantry;Canned & Prepared Foods;Chilled Soups       1.00      0.50      0.67         6\n",
      "                                              Pantry;Snack Foods;Bread Snacks       0.77      0.89      0.83        19\n",
      "       Kitchen, Dining & Household;Cleaning Products;Dishwasher Rinse & Clean       0.87      1.00      0.93        34\n",
      "                Personal Care;Health & Wellness;Digestion, Nausea & Laxatives       0.24      0.20      0.22        20\n",
      "                                              Pantry;Breakfast Cereals;Muesli       0.75      0.63      0.69        19\n",
      "              Chilled, Frozen & Desserts;Frozen Foods;Frozen Fries & Potatoes       0.12      0.11      0.12        45\n",
      "                                 Fresh Foods & Bakery;Seafood;Fresh Shellfish       0.84      0.84      0.84        25\n",
      "                                            Drinks;Hot Drinks;Coffee Capsules       0.92      0.92      0.92        13\n",
      "                                           Beer, Cider & Wine;Wine;Pinot Gris       0.79      0.96      0.87        28\n",
      "                                     Fresh Foods & Bakery;Butchery;Fresh Pork       0.92      1.00      0.96        12\n",
      "                    Pantry;Sauces, Stock & Marinades;Tartare & Seafood Sauces       1.00      0.25      0.40         4\n",
      "                            Kitchen, Dining & Household;Household;Kitchenware       0.00      0.00      0.00         4\n",
      "                                Fresh Foods & Bakery;Bakery;Biscuits & Slices       0.89      0.73      0.80        11\n",
      "                             Fresh Foods & Bakery;Bakery;Fresh Breads & Rolls       0.00      0.00      0.00         3\n",
      "                      Kitchen, Dining & Household;Household;Food Wraps & Bags       0.67      0.93      0.78        15\n",
      "                                Pantry;Biscuits & Crackers;Chocolate Biscuits       0.29      0.33      0.31         6\n",
      "                          Chilled, Frozen & Desserts;Cheese;Deli Cheeseboards       0.63      1.00      0.78        45\n",
      "                                            Drinks;Hot Drinks;Instant Coffees       0.75      0.50      0.60         6\n",
      "                                   Pantry;Salad & Cooking Oils;Rice Bran Oils       0.78      1.00      0.88         7\n",
      "                                 Pantry;Breakfast Cereals;Breakfast On The Go       0.86      0.80      0.83        15\n",
      "                   Chilled, Frozen & Desserts;Frozen Foods;Frozen Ready Meals       0.95      0.98      0.97        43\n",
      "                         Kitchen, Dining & Household;Laundry;Laundry Supplies       0.00      0.00      0.00        11\n",
      "                                    Pantry;Pasta, Rice & Noodles;Noodle Meals       0.78      0.37      0.50        19\n",
      "                                  Meal Spot;Ready to Heat;Pizza & Pizza Bases       1.00      0.50      0.67         2\n",
      "                                  Personal Care;Health & Wellness;Pain Relief       0.73      0.61      0.67        18\n",
      "                                    Pantry;Pasta, Rice & Noodles;Dried Pastas       1.00      0.67      0.80         6\n",
      "                                 Pantry;Hot Drinks;Chocolate Milk Drink Mixes       0.91      1.00      0.95        10\n",
      "                     Fresh Foods & Bakery;Fruit & Vegetables;Fresh Vegetables       0.86      0.89      0.87        35\n",
      "            Kitchen, Dining & Household;Stationery & Entertainment;Newspapers       0.95      0.98      0.97        43\n",
      "                                 Pantry;Jams, Honey & Spreads;Jam & Marmalade       0.75      0.98      0.85        49\n",
      "             Chilled, Frozen & Desserts;Frozen Foods;Frozen Beef, Lamb & Pork       0.82      0.86      0.84        21\n",
      "                                     Pantry;Pasta, Rice & Noodles;Pasta Meals       0.69      0.90      0.78        20\n",
      "                                               Beer, Cider & Wine;Wine;Merlot       0.00      0.00      0.00         4\n",
      "     Kitchen, Dining & Household;Cleaning Products;Furniture & Metal Polishes       0.93      0.96      0.95        27\n",
      "                                  Pantry;Baking Supplies & Sugar;Baking Mixes       1.00      0.33      0.50         9\n",
      "                         Fresh Foods & Bakery;Fruit & Vegetables;Fresh Salads       0.67      0.50      0.57         8\n",
      "                        Kitchen, Dining & Household;Garage & Outdoor;Car Care       0.48      0.82      0.61        17\n",
      "                                              Pantry;Hot Drinks;Fresh Coffees       0.83      0.91      0.87        11\n",
      "                                  Pantry;Salad & Cooking Oils;Nut & Seed Oils       0.86      0.80      0.83        15\n",
      "                                               Pantry;Snack Foods;Muesli Bars       0.57      0.80      0.67        15\n",
      "                          Personal Care;Health & Wellness;Sanitary Protection       0.00      0.00      0.00         3\n",
      "             Chilled, Frozen & Desserts;Frozen Foods;Frozen Chicken & Poultry       1.00      0.92      0.96        13\n",
      "                                Pantry;Biscuits & Crackers;Biscuits & Cookies       0.95      0.95      0.95        22\n",
      "                          Chilled, Frozen & Desserts;Frozen Foods;Frozen Pies       0.00      0.00      0.00         9\n",
      "                                 Fresh Foods & Bakery;Butchery;PrePacked Pork       0.86      0.89      0.87        35\n",
      "                                           Drinks;Cold Drinks;Powdered Drinks       0.78      0.37      0.50        19\n",
      "           Fresh Foods & Bakery;Fruit & Vegetables;PrePacked Fresh Vegetables       0.88      0.98      0.93        53\n",
      "          Kitchen, Dining & Household;Cleaning Products;Dishwasher Detergents       0.86      0.89      0.87        35\n",
      "                                       Pantry;Condiments & Dressings;Vinegars       0.93      1.00      0.96        40\n",
      "                                                 Drinks;Hot Drinks;Black Teas       0.47      0.69      0.56        13\n",
      "                           Beer, Cider & Wine;Beer & Cider;American-style Ale       0.75      0.63      0.69        19\n",
      "                   Baby, Toddler & Kids;Baby Care;Baby Formula & Toddler Food       1.00      0.50      0.67         8\n",
      "                                            Beer, Cider & Wine;Wine;Cask Wine       0.67      0.95      0.78        19\n",
      "     Fresh Foods & Bakery;Deli, Salads & Cooked Meats;Chilled Pies & Pastries       0.10      0.09      0.10        11\n",
      "                              Pantry;Baking Supplies & Sugar;Baking Additives       0.75      0.98      0.85        49\n",
      "                                                   Pets;Pet Supplies;Dog Food       0.93      1.00      0.96        13\n",
      "                                         Pantry;Baking Supplies & Sugar;Sugar       0.71      1.00      0.83        15\n",
      "                Pantry;Sauces, Stock & Marinades;Simmer & Stir-Through Sauces       0.91      1.00      0.95        10\n",
      "                            Baby, Toddler & Kids;Baby Care;Nappies & Changing       1.00      0.80      0.89        15\n",
      "                         Pantry;Baking Supplies & Sugar;Essences & Colourings       0.95      1.00      0.98        20\n",
      "                                 Fresh Foods & Bakery;Bakery;Specialty Breads       0.57      1.00      0.73        12\n",
      "                                        Pantry;Hot Drinks;Fruit & Herbal Teas       0.00      0.00      0.00         3\n",
      "                      Fresh Foods & Bakery;Deli, Salads & Cooked Meats;Hummus       0.48      0.82      0.61        17\n",
      "                                         Pantry;Condiments & Dressings;Relish       0.49      0.91      0.64        33\n",
      "                                      Pantry;Pasta, Rice & Noodles;Rice Meals       0.88      0.98      0.93        53\n",
      "                                         Meal Spot;Ready to Cook;Noodle Meals       0.13      0.20      0.16        35\n",
      "                                        Meal Spot;Ready to Cook;Simply DINNER       0.20      0.12      0.15         8\n",
      "    Fresh Foods & Bakery;Deli, Salads & Cooked Meats;Olives & Antipasti Mixes       0.22      0.44      0.29        16\n",
      "                          Fresh Foods & Bakery;Fruit & Vegetables;Fresh Fruit       0.80      0.86      0.83        14\n",
      "                           Fresh Foods & Bakery;Seafood;Frozen Fish & Seafood       0.22      0.25      0.24         8\n",
      "                          Pantry;Condiments & Dressings;Worcestershire Sauces       1.00      0.96      0.98        26\n",
      "                                            Pantry;Hot Drinks;Coffee Capsules       0.00      0.00      0.00         2\n",
      "                                          Meal Spot;Ready to Heat;Ready Meals       0.22      0.25      0.24         8\n",
      "                     Chilled, Frozen & Desserts;Frozen Foods;Frozen Savouries       0.26      0.25      0.26        20\n",
      "                              Chilled, Frozen & Desserts;Cheese;Cheese Blocks       0.95      0.95      0.95        22\n",
      "                                           Beer, Cider & Wine;Wine;Pinot Noir       0.27      0.96      0.42        51\n",
      "                                    Pantry;Condiments & Dressings;Mint Sauces       1.00      0.92      0.96        13\n",
      "                              Chilled, Frozen & Desserts;Cheese;Grated Cheese       1.00      0.95      0.97        20\n",
      "                                            Pets;Pet Supplies;Pet Accessories       0.69      0.95      0.80        21\n",
      "                          Fresh Foods & Bakery;Fruit & Vegetables;Fresh Herbs       1.00      0.64      0.78        14\n",
      "                             Kitchen, Dining & Household;Laundry;Laundry Soap       1.00      0.62      0.77         8\n",
      "                     Fresh Foods & Bakery;Seafood;Fresh Fish Fillets & Steaks       0.91      1.00      0.95        10\n",
      "                                     Pantry;Confectionery;Lollies Family Bags       1.00      0.94      0.97        16\n",
      "                                  Meal Spot;Ready to Eat;Fresh Deli Savouries       1.00      0.38      0.55        16\n",
      "                            Fresh Foods & Bakery;Bakery;Organic & Gluten Free       0.00      0.00      0.00         5\n",
      "                                          Drinks;Cold Drinks;Sparkling Juices       0.77      0.89      0.83        19\n",
      "                                          Meal Spot;Ready to Eat;Fresh Salads       0.00      0.00      0.00         1\n",
      "                                       Pantry;Salad & Cooking Oils;Other Oils       0.00      0.00      0.00         7\n",
      "                        Beer, Cider & Wine;Beer & Cider;Lighter Alcohol Beers       0.52      1.00      0.69        11\n",
      "                                   Drinks;Hot Drinks;Coffee Flavoured Sachets       0.68      0.91      0.78        23\n",
      "                                   Pantry;Salad & Cooking Oils;Vegetable Oils       1.00      0.52      0.69        23\n",
      "                                            Meal Spot;Ready to Cook;Vege Bags       0.25      0.80      0.39        20\n",
      "                                          Pantry;World Foods;South East Asian       0.32      0.38      0.35        21\n",
      "                          Fresh Foods & Bakery;Butchery;PrePacked Beef & Lamb       0.88      0.98      0.93        53\n",
      "                           Personal Care;Beauty & Grooming;Makeup & Cosmetics       0.00      0.00      0.00         3\n",
      "                             Personal Care;Beauty & Grooming;Hand & Body Care       0.00      0.00      0.00         6\n",
      "                                         Pantry;Breakfast Cereals;Hot Cereals       0.60      1.00      0.75         3\n",
      "                             Kitchen, Dining & Household;Laundry;Clothes Pegs       0.75      0.98      0.85        49\n",
      "                           Pantry;Canned & Prepared Foods;Canned Milk & Cream       1.00      0.20      0.33         5\n",
      "                     Chilled, Frozen & Desserts;Desserts;Meringues & Pavlovas       1.00      0.96      0.98        26\n",
      "                              Meal Spot;Ready to Heat;Chilled Pies & Pastries       0.15      0.15      0.15        20\n",
      "                      Personal Care;Health & Wellness;Contact Lens & Eye Care       0.93      1.00      0.96        40\n",
      "                           Personal Care;Beauty & Grooming;Suncare & Self Tan       0.64      0.96      0.77        48\n",
      "                                               Beer, Cider & Wine;Wine;Shiraz       0.29      0.33      0.31         6\n",
      "                           Fresh Foods & Bakery;Fruit & Vegetables;Salad Bags       0.64      0.56      0.60        16\n",
      "                                              Pantry;Snack Foods;Potato Chips       0.68      0.90      0.78        21\n",
      "                             Beer, Cider & Wine;Beer & Cider;Brewing Supplies       0.87      1.00      0.93        34\n",
      "               Chilled, Frozen & Desserts;Desserts;Ice Cream & Frozen Yoghurt       0.50      0.83      0.62        23\n",
      "                  Chilled, Frozen & Desserts;Desserts;Ready To Serve Puddings       0.64      0.96      0.77        48\n",
      "                                     Meal Spot;Ready to Heat;Frozen Savouries       1.00      0.96      0.98        26\n",
      "                                                  Pantry;World Foods;Japanese       0.00      0.00      0.00         6\n",
      "                       Personal Care;Health & Wellness;Vitamins & Supplements       0.82      0.88      0.85        16\n",
      "                        Chilled, Frozen & Desserts;Frozen Foods;Frozen Pastry       0.83      0.77      0.80        13\n",
      "                                      Beer, Cider & Wine;Beer & Cider;Spirits       0.63      1.00      0.78        45\n",
      "                  Personal Care;Health & Wellness;Wellness & Sports Nutrition       0.64      0.56      0.60        16\n",
      "                               Pantry;Sauces, Stock & Marinades;Tomato Sauces       0.56      0.38      0.45        13\n",
      "                            Fresh Foods & Bakery;Fruit & Vegetables;Vege Bags       0.71      1.00      0.83        15\n",
      "                                           Pantry;Jams, Honey & Spreads;Honey       0.82      0.88      0.85        16\n",
      "                                            Pantry;Hot Drinks;Instant Coffees       0.88      0.98      0.93        53\n",
      "                  Kitchen, Dining & Household;Laundry;Pre Wash Stain Removers       1.00      0.71      0.83         7\n",
      "                                 Drinks;Hot Drinks;Coffee Additives & Filters       0.95      0.98      0.97        43\n",
      "                                   Fresh Foods & Bakery;Seafood;Seafood Salad       0.75      0.96      0.84        28\n",
      "                    Chilled, Frozen & Desserts;Frozen Foods;Frozen Vegetarian       0.20      0.33      0.25        15\n",
      "                                             Drinks;Cold Drinks;Coconut Water       0.68      0.91      0.78        23\n",
      "                                    Pantry;Canned & Prepared Foods;Vegetarian       1.00      0.60      0.75        10\n",
      "    Kitchen, Dining & Household;Stationery & Entertainment;Stationery & Craft       0.88      0.98      0.93        53\n",
      "                 Chilled, Frozen & Desserts;Dairy & Eggs;Yoghurt & Dairy Food       0.95      0.98      0.97        43\n",
      "                                   Pantry;Sauces, Stock & Marinades;Soy Sauce       0.26      0.36      0.30        14\n",
      "                                   Pantry;Hot Drinks;Coffee Flavoured Sachets       0.00      0.00      0.00         7\n",
      "                                           Pantry;World Foods;Other Countries       0.84      0.81      0.82        26\n",
      "                                        Pantry;Confectionery;Chocolate Blocks       0.26      0.25      0.26        20\n",
      "                             Kitchen, Dining & Household;Household;Fire Needs       0.95      0.98      0.97        43\n",
      "                             Kitchen, Dining & Household;Garage & Outdoor;BBQ       0.88      0.98      0.93        53\n",
      "                       Chilled, Frozen & Desserts;Cheese;Deli Cabinet Cheeses       0.73      0.53      0.62        15\n",
      "                                               Pantry;Snack Foods;Snack Mixes       0.84      0.95      0.89        22\n",
      "                          Chilled, Frozen & Desserts;Frozen Foods;Frozen Fish       0.50      0.50      0.50        10\n",
      "                              Pantry;Jams, Honey & Spreads;Marmite & Vegemite       0.75      0.64      0.69        14\n",
      "           Chilled, Frozen & Desserts;Dairy & Eggs;Sour Cream & Crème Fraiche       0.93      1.00      0.97        14\n",
      "                                     Pantry;Salad & Cooking Oils;Avocado Oils       1.00      0.83      0.91         6\n",
      "                              Personal Care;Health & Wellness;Family Planning       1.00      0.20      0.33         5\n",
      "                                   Pantry;Pasta, Rice & Noodles;Instant Rices       0.00      0.00      0.00         7\n",
      "                                             Pets;Pet Supplies;Pet Treatments       0.00      0.00      0.00         4\n",
      "                      Beer, Cider & Wine;Beer & Cider;Fruit & Flavoured Cider       1.00      0.62      0.76        13\n",
      "               Kitchen, Dining & Household;Cleaning Products;Kitchen Cleaners       0.63      1.00      0.78        45\n",
      "                                       Pantry;Spices & Seasonings;Dried Herbs       0.12      0.11      0.12        45\n",
      "                                     Pantry;Condiments & Dressings;Mayonnaise       1.00      1.00      1.00        24\n",
      "                                   Fresh Foods & Bakery;Seafood;Fresh Seafood       0.75      1.00      0.86         9\n",
      "                          Kitchen, Dining & Household;Laundry;Laundry Powders       0.25      0.80      0.39        20\n",
      "                                       Pantry;Snack Foods;Cereal & Snack Bars       0.95      0.98      0.97        43\n",
      "                         Kitchen, Dining & Household;Laundry;Fabric Softeners       0.17      0.08      0.11        12\n",
      "                               Pantry;Sauces, Stock & Marinades;Packet Sauces       0.78      1.00      0.88         7\n",
      "                   Beer, Cider & Wine;Beer & Cider;Specialty & Flavoured Beer       0.79      1.00      0.88        19\n",
      "                       Fresh Foods & Bakery;Dairy & Eggs;Yoghurt & Dairy Food       0.00      0.00      0.00         4\n",
      "                                                       Pantry;World Foods;USA       0.00      0.00      0.00         2\n",
      "                                   Pantry;Canned & Prepared Foods;Packet Soup       0.83      0.83      0.83         6\n",
      "                                     Drinks;Cold Drinks;Fruit Drinks & Juices       0.67      0.95      0.78        19\n",
      "                                              Drinks;Hot Drinks;Fresh Coffees       0.14      0.14      0.14         7\n",
      "                                              Pantry;Snack Foods;Fruit Snacks       0.67      0.80      0.73        15\n",
      "                              Fresh Foods & Bakery;Butchery;Fresh Beef & Lamb       0.17      0.12      0.14        16\n",
      "                                        Drinks;Hot Drinks;Fruit & Herbal Teas       0.59      1.00      0.75        41\n",
      "               Fresh Foods & Bakery;Bulk & Loose Foods;Bulk Breakfast Cereals       0.17      0.12      0.14        16\n",
      "                                        Pantry;Confectionery;Boxed Chocolates       0.00      0.00      0.00         3\n",
      "                   Personal Care;Beauty & Grooming;Hair Styling & Accessories       0.25      0.80      0.39        20\n",
      "                               Personal Care;Beauty & Grooming;Hair Colouring       1.00      0.17      0.29         6\n",
      "                                               Pantry;Snack Foods;Vege Snacks       0.00      0.00      0.00         3\n",
      "           Kitchen, Dining & Household;Household;Air Fresheners & Deodorisers       0.27      0.96      0.42        51\n",
      "                            Personal Care;Health & Wellness;Cough, Cold & Flu       0.49      0.91      0.64        33\n",
      "                                                 Drinks;Hot Drinks;Green Teas       0.56      0.83      0.67         6\n",
      "                       Pantry;Biscuits & Crackers;Gourmet Biscuits & Crackers       1.00      1.00      1.00         8\n",
      "                             Pantry;Baking Supplies & Sugar;Sugar Substitutes       0.85      0.85      0.85        27\n",
      "                             Pantry;Sauces, Stock & Marinades;Stir Fry Sauces       0.00      0.00      0.00         3\n",
      "Fresh Foods & Bakery;Deli, Salads & Cooked Meats;Continental Sausage & Salami       0.88      0.98      0.93        53\n",
      "                                               Pantry;Confectionery;Liquorice       0.59      0.59      0.59        17\n",
      "                                Baby, Toddler & Kids;Baby Care;Baby Hair Care       0.32      0.38      0.35        21\n",
      "                  Kitchen, Dining & Household;Household;Rubbish & Vacuum Bags       1.00      0.50      0.67         4\n",
      "                           Chilled, Frozen & Desserts;Dairy & Eggs;Fresh Milk       0.56      0.90      0.69        40\n",
      "                               Fresh Foods & Bakery;Seafood;Fresh Smoked Fish       0.35      0.38      0.36        21\n",
      "                                 Meal Spot;Ready to Heat;Frozen Pizza & Bases       0.95      0.95      0.95        22\n",
      "                     Pantry;Canned & Prepared Foods;Canned & Dried Vegetables       0.80      1.00      0.89         4\n",
      "                                     Beer, Cider & Wine;Beer & Cider;Pale Ale       0.67      0.80      0.73        15\n",
      "                                     Pantry;Sauces, Stock & Marinades;Gravies       0.00      0.00      0.00         9\n",
      "                             Fresh Foods & Bakery;Dairy & Eggs;Flavoured Milk       0.13      0.20      0.16        35\n",
      "                                                 Pantry;Hot Drinks;Green Teas       1.00      1.00      1.00         9\n",
      "                                       Pantry;Salad & Cooking Oils;Olive Oils       0.27      0.14      0.18        22\n",
      "                   Chilled, Frozen & Desserts;Dairy & Eggs;Fresh Organic Milk       0.86      0.80      0.83        15\n",
      "                                        Pantry;Condiments & Dressings;Pickles       0.79      0.96      0.87        28\n",
      "                                   Pantry;Spices & Seasonings;Garlic & Ginger       0.92      1.00      0.96        12\n",
      "                             Fresh Foods & Bakery;Butchery;PreCooked Sausages       0.67      0.95      0.78        19\n",
      "                 Fresh Foods & Bakery;Deli, Salads & Cooked Meats;Deli Salads       0.75      0.96      0.84        28\n",
      "                      Pantry;Biscuits & Crackers;Assorted Biscuits & Crackers       0.56      0.83      0.67         6\n",
      "                                       Pantry;Condiments & Dressings;Chutneys       0.70      0.64      0.67        11\n",
      "                                       Pantry;Condiments & Dressings;Mustards       0.79      0.96      0.87        28\n",
      "                          Pantry;Canned & Prepared Foods;Coconut Cream & Milk       0.14      0.18      0.16        11\n",
      "                           Kitchen, Dining & Household;Garage & Outdoor;Hooks       0.32      0.38      0.35        21\n",
      "   Fresh Foods & Bakery;Deli, Salads & Cooked Meats;Gourmet Oils & Condiments       0.10      0.09      0.10        11\n",
      "                       Kitchen, Dining & Household;Cleaning Products;Bleaches       0.82      0.86      0.84        21\n",
      "                      Pantry;Pasta, Rice & Noodles;Short & Medium Grain Rices       0.49      0.91      0.64        33\n",
      "                               Chilled, Frozen & Desserts;Cheese;Cream Cheese       0.50      0.65      0.57        23\n",
      "                             Pantry;Baking Supplies & Sugar;Cooking Chocolate       0.15      0.15      0.15        20\n",
      "                                        Pantry;Breakfast Cereals;Cold Cereals       1.00      0.88      0.93         8\n",
      "                   Kitchen, Dining & Household;Household;Disposable Tableware       0.26      0.25      0.26        20\n",
      "                               Pantry;Canned & Prepared Foods;Syrups & Sauces       0.56      0.90      0.69        40\n",
      "                                            Pets;Pet Supplies;Cat Accessories       0.26      0.25      0.26        20\n",
      "                                          Drinks;Cold Drinks;Vegetable Juices       0.68      0.91      0.78        23\n",
      "                        Fresh Foods & Bakery;Butchery;Fresh Chicken & Poultry       0.17      0.08      0.11        12\n",
      "                           Beer, Cider & Wine;Beer & Cider;European-style Ale       0.93      1.00      0.96        40\n",
      "                                               Drinks;Cold Drinks;Still Water       0.32      0.38      0.35        21\n",
      "                                               Pantry;Confectionery;Christmas       1.00      0.88      0.93         8\n",
      "                           Fresh Foods & Bakery;Dairy & Eggs;Butter & Spreads       0.00      0.00      0.00         3\n",
      "                                          Pantry;Snack Foods;Nutritional Bars       0.32      0.38      0.35        21\n",
      "                                               Drinks;Cold Drinks;Soft Drinks       0.00      0.00      0.00         3\n",
      "                                         Drinks;Hot Drinks;Coffee Substitutes       1.00      0.92      0.96        13\n",
      "                                                    Pantry;World Foods;Korean       0.17      0.08      0.11        12\n",
      "\n",
      "                                                                    micro avg       0.61      0.75      0.68     65240\n",
      "                                                                    macro avg       0.61      0.62      0.59     65240\n",
      "                                                                 weighted avg       0.66      0.75      0.68     65240\n",
      "\n"
     ]
    },
    {
     "name": "stderr",
     "output_type": "stream",
     "text": [
      "d:\\python\\lib\\site-packages\\sklearn\\metrics\\_classification.py:1245: UndefinedMetricWarning: Recall is ill-defined and being set to 0.0 in labels with no true samples. Use `zero_division` parameter to control this behavior.\n",
      "  _warn_prf(average, modifier, msg_start, len(result))\n",
      "d:\\python\\lib\\site-packages\\sklearn\\metrics\\_classification.py:1982: UserWarning: labels size, 3616, does not match size of target_names, 429\n",
      "  warnings.warn(\n",
      "d:\\python\\lib\\site-packages\\sklearn\\metrics\\_classification.py:1245: UndefinedMetricWarning: Precision and F-score are ill-defined and being set to 0.0 in labels with no predicted samples. Use `zero_division` parameter to control this behavior.\n",
      "  _warn_prf(average, modifier, msg_start, len(result))\n",
      "d:\\python\\lib\\site-packages\\sklearn\\metrics\\_classification.py:1245: UndefinedMetricWarning: Precision and F-score are ill-defined and being set to 0.0 in labels with no predicted samples. Use `zero_division` parameter to control this behavior.\n",
      "  _warn_prf(average, modifier, msg_start, len(result))\n",
      "d:\\python\\lib\\site-packages\\sklearn\\metrics\\_classification.py:1245: UndefinedMetricWarning: Precision and F-score are ill-defined and being set to 0.0 in labels with no predicted samples. Use `zero_division` parameter to control this behavior.\n",
      "  _warn_prf(average, modifier, msg_start, len(result))\n"
     ]
    }
   ],
   "source": [
    "x_train, x_test, y_train, y_test = train_test_split(reduced, labels, test_size=0.25, random_state=3)\n",
    "model.fit(x_train, y_train)\n",
    "predict_labels = model.predict(x_test)\n",
    "predict_labels = [np.round(p) for p in predict_labels]\n",
    "max_label = len(id2label) - 1\n",
    "predict_labels = [l if max_label >= l else max_label for l in predict_labels]\n",
    "min_label = 0\n",
    "predict_labels = [l if min_label <= l else min_label for l in predict_labels]\n",
    "evaluation(predict_labels, y_test, id2label, \"logistic\")"
   ],
   "metadata": {
    "collapsed": false,
    "pycharm": {
     "name": "#%%\n"
    }
   }
  },
  {
   "cell_type": "code",
   "execution_count": 21,
   "outputs": [
    {
     "name": "stdout",
     "output_type": "stream",
     "text": [
      "id2label {0: 'Baby, Toddler & Kids;Baby Care;Baby Health', 1: 'Pantry;World Foods;Mexican', 2: 'Pantry;Salad & Cooking Oils;Oil Sprays', 3: 'Fresh Foods & Bakery;Butchery;PrePacked Chicken & Poultry', 4: 'Pantry;Hot Drinks;Coffee Additives & Filters', 5: 'Chilled, Frozen & Desserts;Dairy & Eggs;Butter & Spreads', 6: 'Kitchen, Dining & Household;Cleaning Products;Glass Cleaners', 7: 'Chilled, Frozen & Desserts;Desserts;Frozen Puddings', 8: 'Chilled, Frozen & Desserts;Dairy & Eggs;Fresh Cream', 9: 'Fresh Foods & Bakery;Dairy & Eggs;Long Life Milk & Milk Powder', 10: 'Pantry;Canned & Prepared Foods;Canned Fruit', 11: 'Chilled, Frozen & Desserts;Dairy & Eggs;Yoghurt Bases', 12: 'Baby, Toddler & Kids;Baby Care;Baby Dental Care', 13: 'Fresh Foods & Bakery;Bakery;Wraps & Pita Breads', 14: 'Pantry;Condiments & Dressings;Chilli & Pepper Sauces', 15: 'Fresh Foods & Bakery;Deli, Salads & Cooked Meats;Ham & Pork', 16: 'Beer, Cider & Wine;Beer & Cider;British-style Ale', 17: 'Pantry;Snack Foods;Meat Snacks', 18: 'Pets;Pet Supplies;Dog Treats', 19: 'Personal Care;Health & Wellness;Insect Repellent', 20: 'Pantry;Confectionery;Novelty Bars & Singles', 21: 'Kitchen, Dining & Household;Laundry;Fine Fabric Washers', 22: 'Pantry;Condiments & Dressings;Aioli', 23: 'Pantry;World Foods;Thai', 24: 'Drinks;Cold Drinks;Flavoured Water', 25: 'Fresh Foods & Bakery;Dairy & Eggs;Sour Cream & Crème Fraiche', 26: 'Fresh Foods & Bakery;Seafood;Fresh Whole Fish', 27: 'Kitchen, Dining & Household;Stationery & Entertainment;Magazines', 28: 'Beer, Cider & Wine;Beer & Cider;IPA', 29: 'Pantry;World Foods;Chinese', 30: 'Fresh Foods & Bakery;Dairy & Eggs;Eggs', 31: 'Fresh Foods & Bakery;Bulk & Loose Foods;Bulk Snacks & Mixes', 32: 'Chilled, Frozen & Desserts;Desserts;Ice Blocks & Ice Pops', 33: 'Pantry;Spices & Seasonings;Salt & Pepper', 34: 'Personal Care;Beauty & Grooming;Hair Care & Treatments', 35: 'Kitchen, Dining & Household;Household;Pest & Insect Control', 36: 'Meal Spot;Ready to Cook;Mexican', 37: 'Pantry;Hot Drinks;Coffee Substitutes', 38: 'Fresh Foods & Bakery;Butchery;Fresh Venison & Game Meat', 39: 'Pantry;Sauces, Stock & Marinades;Marinades', 40: 'Pantry;Canned & Prepared Foods;Canned Soup', 41: 'Pantry;Canned & Prepared Foods;Baked Beans & Spaghetti', 42: 'Fresh Foods & Bakery;Bulk & Loose Foods;Bulk Seeds, Legumes & Grains', 43: 'Drinks;Cold Drinks;Non Dairy Milks', 44: 'Pantry;Confectionery;Chewing Gum & Mints', 45: 'Fresh Foods & Bakery;Seafood;Fresh Fish Heads', 46: 'Personal Care;Health & Wellness;Adult Care', 47: 'Chilled, Frozen & Desserts;Frozen Foods;Frozen Seafood', 48: 'Chilled, Frozen & Desserts;Cheese;Cheese Slices', 49: 'Chilled, Frozen & Desserts;Frozen Foods;Frozen Fruit', 50: 'Beer, Cider & Wine;Wine;Chardonnay', 51: 'Drinks;Hot Drinks;Malt Milk Drink Mixes', 52: 'Fresh Foods & Bakery;Bulk & Loose Foods;Bulk Confectionery', 53: 'Chilled, Frozen & Desserts;Desserts;Canned Desserts', 54: 'Fresh Foods & Bakery;Dairy & Eggs;Fresh Milk', 55: 'Pantry;Salad & Cooking Oils;Coconut Oils', 56: 'Drinks;Cold Drinks;Sports & Energy Drinks', 57: 'Pantry;Hot Drinks;Chai Teas', 58: 'Pantry;Baking Supplies & Sugar;Flour', 59: 'Drinks;Hot Drinks;Chocolate Milk Drink Mixes', 60: 'Drinks;Cold Drinks;Iced Teas', 61: 'Beer, Cider & Wine;Wine;Rose', 62: 'Pantry;Snack Foods;Popcorn', 63: 'Pantry;Snack Foods;Corn Chips', 64: 'Meal Spot;Ready to Heat;Packet Soup', 65: 'Pets;Pet Supplies;Bird Supplies', 66: 'Chilled, Frozen & Desserts;Desserts;Chilled Custards', 67: 'Chilled, Frozen & Desserts;Dairy & Eggs;Flavoured Milk', 68: 'Fresh Foods & Bakery;Meal Kits;Simply DINNER', 69: 'Kitchen, Dining & Household;Laundry;Washing Machine Cleaners', 70: 'Personal Care;Health & Wellness;Allergy & Sinus', 71: 'Kitchen, Dining & Household;Household;Batteries & Light Bulbs', 72: 'Fresh Foods & Bakery;Butchery;Fresh Sausages', 73: 'Pantry;Sauces, Stock & Marinades;Pasta Sauces', 74: 'Pantry;Jams, Honey & Spreads;Nut Spreads', 75: 'Pets;Pet Supplies;Cat Treats', 76: 'Pantry;Confectionery;Chocolate Family Bags', 77: 'Pantry;Sauces, Stock & Marinades;Tomato Pastes & Purees', 78: 'Pantry;Biscuits & Crackers;Plain Sweet Biscuits', 79: 'Pantry;Biscuits & Crackers;Crackers', 80: 'Fresh Foods & Bakery;Deli, Salads & Cooked Meats;Deli Meats', 81: 'Kitchen, Dining & Household;Stationery & Entertainment;Toys & Recreation', 82: 'Drinks;Cold Drinks;Milk Drink Mixes', 83: 'Meal Spot;Ready to Heat;Canned Soup', 84: 'Pantry;Canned & Prepared Foods;Ready Meals', 85: 'Pantry;Spices & Seasonings;Freshly Ground Herbs', 86: 'Pantry;Snack Foods;Nut Bars & Snacks', 87: 'Drinks;Cold Drinks;Chilled Fruit Juices', 88: 'Kitchen, Dining & Household;Household;Cooking & Bakeware', 89: 'Meal Spot;Ready to Heat;Frozen Ready Meals', 90: 'Pantry;World Foods;South African', 91: 'Pantry;Jams, Honey & Spreads;Savoury Spreads', 92: 'Personal Care;Beauty & Grooming;Shaving & Hair Removal', 93: 'Fresh Foods & Bakery;Dairy & Eggs;Fresh Organic Milk', 94: 'Beer, Cider & Wine;Beer & Cider;Lager', 95: 'Pets;Pet Supplies;Small Animal Supplies', 96: 'Beer, Cider & Wine;Wine;Other Red Wine', 97: 'Fresh Foods & Bakery;Bakery;Pies & Pastries', 98: 'Baby, Toddler & Kids;Baby Care;Nursing & Feeding', 99: 'Kitchen, Dining & Household;Garage & Outdoor;Hardware & Tools', 100: 'Kitchen, Dining & Household;Household;Food Storage', 101: 'Pantry;Baking Supplies & Sugar;Baking Nuts & Seeds', 102: 'Pantry;Pasta, Rice & Noodles;Wild & Coloured Rices', 103: 'Pantry;Breakfast Cereals;Flake/Fibre Cereals', 104: 'Pantry;Condiments & Dressings;Salad Dressings', 105: 'Pantry;World Foods;UK', 106: 'Kitchen, Dining & Household;Laundry;Laundry Liquid & Capsules', 107: 'Beer, Cider & Wine;Wine;Other White Wine', 108: 'Kitchen, Dining & Household;Household;Tissues & Toilet Paper', 109: 'Pantry;Spices & Seasonings;Chilli & Paprika', 110: 'Kitchen, Dining & Household;Cleaning Products;Paper Towels', 111: 'Fresh Foods & Bakery;Fruit & Vegetables;Fresh Cut Fruit', 112: 'Personal Care;Beauty & Grooming;Face & Lip Skin Care', 113: 'Beer, Cider & Wine;Wine;Cabernet', 114: 'Pantry;Pasta, Rice & Noodles;Jasmine Rices', 115: 'Fresh Foods & Bakery;Dairy & Eggs;Dairy & Lactose Free', 116: 'Personal Care;Beauty & Grooming;Deodorants', 117: 'Pantry;Canned & Prepared Foods;Canned Fish', 118: 'Pets;Pet Supplies;Fish & Aquatic Pet Supplies', 119: 'Pantry;Condiments & Dressings;Fruit Sauces', 120: 'Meal Spot;Ready to Eat;Seafood Salad', 121: 'Drinks;Hot Drinks;Chai Teas', 122: 'Kitchen, Dining & Household;Cleaning Products;Cleaning Accessories', 123: 'Pantry;Snack Foods;Chips', 124: 'Drinks;Cold Drinks;Sparkling Water', 125: 'Chilled, Frozen & Desserts;Desserts;Jelly & Powdered Desserts', 126: 'Fresh Foods & Bakery;Bulk & Loose Foods;Bulk Dried Fruit', 127: 'Kitchen, Dining & Household;Laundry;Clothing Dyes', 128: 'Kitchen, Dining & Household;Cleaning Products;Dishwashing Liquid', 129: 'Meal Spot;Ready to Eat;Deli Salads', 130: 'Fresh Foods & Bakery;Bulk & Loose Foods;Bulk Nuts', 131: 'Fresh Foods & Bakery;Deli, Salads & Cooked Meats;Bacon', 132: 'Chilled, Frozen & Desserts;Cheese;Specialty Cheeses', 133: 'Pantry;Baking Supplies & Sugar;Baking Syrups', 134: 'Personal Care;Health & Wellness;First Aid', 135: 'Kitchen, Dining & Household;Household;Shoe Care', 136: 'Fresh Foods & Bakery;Deli, Salads & Cooked Meats;Specialty Dry Goods', 137: 'Pantry;Biscuits & Crackers;Crème & Jam Biscuits', 138: 'Fresh Foods & Bakery;Bakery;Cakes & Muffins', 139: 'Chilled, Frozen & Desserts;Desserts;Ice Cream Cones & Wafers', 140: 'Fresh Foods & Bakery;Deli, Salads & Cooked Meats;Dips, Pesto & Pate', 141: 'Pantry;Sauces, Stock & Marinades;Chilled Pasta Sauces', 142: 'Drinks;Cold Drinks;Squash, Syrups & Cordials', 143: 'Kitchen, Dining & Household;Household;Electrical', 144: 'Pantry;Spices & Seasonings;Dried Spices', 145: 'Fresh Foods & Bakery;Deli, Salads & Cooked Meats;PreCooked Beef & Lamb', 146: 'Pantry;Baking Supplies & Sugar;Dried Fruit', 147: 'Fresh Foods & Bakery;Bakery;Fresh Desserts & Pastries', 148: 'Pantry;Sauces, Stock & Marinades;Specialty Sauces', 149: 'Fresh Foods & Bakery;Deli, Salads & Cooked Meats;PreCooked Chicken & Poultry', 150: 'Fresh Foods & Bakery;Bakery;Fresh Cakes & Muffins', 151: 'Pantry;Pasta, Rice & Noodles;Noodles', 152: 'Chilled, Frozen & Desserts;Dairy & Eggs;Long Life Milk & Milk Powder', 153: 'Fresh Foods & Bakery;Bakery;Fresh Biscuits & Slices', 154: 'Personal Care;Beauty & Grooming;Oral Health', 155: 'Kitchen, Dining & Household;Cleaning Products;Bathroom & Shower Cleaners', 156: 'Pets;Pet Supplies;Cat Food', 157: 'Chilled, Frozen & Desserts;Desserts;Frozen Dessert Pastries', 158: 'Beer, Cider & Wine;Wine;Sauvignon Blanc', 159: 'Beer, Cider & Wine;Beer & Cider;Apple & Pear Cider', 160: 'Fresh Foods & Bakery;Bakery;Garlic & Herb Breads', 161: 'Pantry;World Foods;Indian', 162: 'Pantry;Canned & Prepared Foods;Soup Mixes', 163: 'Pantry;Pasta, Rice & Noodles;Fresh Pastas', 164: 'Pantry;Pasta, Rice & Noodles;Specialty Grains & Seeds', 165: 'Meal Spot;Ready to Cook;Pasta Meals', 166: 'Pantry;Condiments & Dressings;Olives', 167: 'Pantry;Biscuits & Crackers;Rice Crackers', 168: 'Pantry;Hot Drinks;Black Teas', 169: 'Fresh Foods & Bakery;Dairy & Eggs;Yoghurt Bases', 170: 'Pantry;Snack Foods;Dips & Salsas', 171: 'Pantry;Biscuits & Crackers;Rice Cakes', 172: 'Fresh Foods & Bakery;Butchery;PrePacked Sausages', 173: 'Chilled, Frozen & Desserts;Dairy & Eggs;Eggs', 174: 'Chilled, Frozen & Desserts;Desserts;Frozen Bavarians & Cheesecake', 175: 'Chilled, Frozen & Desserts;Frozen Foods;Frozen Vegetables', 176: 'Kitchen, Dining & Household;Cleaning Products;Carpet & Floor Cleaners', 177: 'Fresh Foods & Bakery;Dairy & Eggs;Fresh Cream', 178: 'Beer, Cider & Wine;Beer & Cider;Stout, Porter & Black Beer', 179: 'Personal Care;Beauty & Grooming;Apparel & Hosiery', 180: 'Beer, Cider & Wine;Wine;Champagne & Sparkling Wine', 181: 'Pantry;Hot Drinks;Malt Milk Drink Mixes', 182: 'Fresh Foods & Bakery;Bakery;Sliced Bread', 183: 'Baby, Toddler & Kids;Baby Care;Baby Bathing & Skin Care', 184: 'Baby, Toddler & Kids;Baby Care;Baby Wipes', 185: 'Pets;Pet Supplies;Dog Accessories', 186: 'Pantry;Baking Supplies & Sugar;Icing & Decorating', 187: 'Kitchen, Dining & Household;Household;Manchester', 188: 'Pantry;Pasta, Rice & Noodles;Basmati Rices', 189: 'Personal Care;Health & Wellness;Stop Smoking', 190: 'Pantry;Baking Supplies & Sugar;Breadcrumbs & Coatings', 191: 'Meal Spot;Ready to Heat;Chilled Soups', 192: 'Chilled, Frozen & Desserts;Cheese;Cottage Cheese', 193: 'Pantry;Sauces, Stock & Marinades;Stock', 194: 'Pantry;Canned & Prepared Foods;Canned Meat', 195: 'Pantry;Canned & Prepared Foods;Pizza & Pizza Bases', 196: 'Pantry;Pasta, Rice & Noodles;Long Grain Rices', 197: 'Chilled, Frozen & Desserts;Frozen Foods;Frozen Pizza & Bases', 198: 'Chilled, Frozen & Desserts;Cheese;Deli Specialty Cheeses', 199: 'Fresh Foods & Bakery;Bakery;Muffin Splits & Crumpets', 200: 'Kitchen, Dining & Household;Household;Party Supplies', 201: 'Pantry;Sauces, Stock & Marinades;Curry Pastes & Sauces', 202: 'Kitchen, Dining & Household;Garage & Outdoor;Gardening Supplies', 203: 'Kitchen, Dining & Household;Cleaning Products;All Purpose Cleaners', 204: 'Kitchen, Dining & Household;Household;Homeware', 205: 'Personal Care;Health & Wellness;Foot Care', 206: 'Pantry;Jams, Honey & Spreads;Sweet Spreads', 207: 'Chilled, Frozen & Desserts;Frozen Foods;Frozen Bread & Dough', 208: 'Beer, Cider & Wine;Beer & Cider;Wheat & Other Grain Beer', 209: 'Pantry;Salad & Cooking Oils;Cooking Fat', 210: 'Fresh Foods & Bakery;Deli, Salads & Cooked Meats;Fresh Deli Savouries', 211: 'Beer, Cider & Wine;Beer & Cider;Pilsner', 212: 'Drinks;Cold Drinks;Drinking Yoghurt & Smoothies', 213: 'Chilled, Frozen & Desserts;Dairy & Eggs;Dairy & Lactose Free', 214: 'Fresh Foods & Bakery;Bakery;Bread Rolls & Buns', 215: 'Pantry;Condiments & Dressings;Barbeque Sauces', 216: 'Pantry;Canned & Prepared Foods;Chilled Soups', 217: 'Pantry;Snack Foods;Bread Snacks', 218: 'Kitchen, Dining & Household;Cleaning Products;Dishwasher Rinse & Clean', 219: 'Personal Care;Health & Wellness;Digestion, Nausea & Laxatives', 220: 'Pantry;Breakfast Cereals;Muesli', 221: 'Chilled, Frozen & Desserts;Frozen Foods;Frozen Fries & Potatoes', 222: 'Fresh Foods & Bakery;Seafood;Fresh Shellfish', 223: 'Drinks;Hot Drinks;Coffee Capsules', 224: 'Beer, Cider & Wine;Wine;Pinot Gris', 225: 'Fresh Foods & Bakery;Butchery;Fresh Pork', 226: 'Pantry;Sauces, Stock & Marinades;Tartare & Seafood Sauces', 227: 'Kitchen, Dining & Household;Household;Kitchenware', 228: 'Fresh Foods & Bakery;Bakery;Biscuits & Slices', 229: 'Fresh Foods & Bakery;Bakery;Fresh Breads & Rolls', 230: 'Kitchen, Dining & Household;Household;Food Wraps & Bags', 231: 'Pantry;Biscuits & Crackers;Chocolate Biscuits', 232: 'Chilled, Frozen & Desserts;Cheese;Deli Cheeseboards', 233: 'Drinks;Hot Drinks;Instant Coffees', 234: 'Pantry;Salad & Cooking Oils;Rice Bran Oils', 235: 'Pantry;Breakfast Cereals;Breakfast On The Go', 236: 'Chilled, Frozen & Desserts;Frozen Foods;Frozen Ready Meals', 237: 'Kitchen, Dining & Household;Laundry;Laundry Supplies', 238: 'Pantry;Pasta, Rice & Noodles;Noodle Meals', 239: 'Meal Spot;Ready to Heat;Pizza & Pizza Bases', 240: 'Personal Care;Health & Wellness;Pain Relief', 241: 'Pantry;Pasta, Rice & Noodles;Dried Pastas', 242: 'Pantry;Hot Drinks;Chocolate Milk Drink Mixes', 243: 'Fresh Foods & Bakery;Fruit & Vegetables;Fresh Vegetables', 244: 'Kitchen, Dining & Household;Stationery & Entertainment;Newspapers', 245: 'Pantry;Jams, Honey & Spreads;Jam & Marmalade', 246: 'Chilled, Frozen & Desserts;Frozen Foods;Frozen Beef, Lamb & Pork', 247: 'Pantry;Pasta, Rice & Noodles;Pasta Meals', 248: 'Beer, Cider & Wine;Wine;Merlot', 249: 'Kitchen, Dining & Household;Cleaning Products;Furniture & Metal Polishes', 250: 'Pantry;Baking Supplies & Sugar;Baking Mixes', 251: 'Fresh Foods & Bakery;Fruit & Vegetables;Fresh Salads', 252: 'Kitchen, Dining & Household;Garage & Outdoor;Car Care', 253: 'Pantry;Hot Drinks;Fresh Coffees', 254: 'Pantry;Salad & Cooking Oils;Nut & Seed Oils', 255: 'Pantry;Snack Foods;Muesli Bars', 256: 'Personal Care;Health & Wellness;Sanitary Protection', 257: 'Chilled, Frozen & Desserts;Frozen Foods;Frozen Chicken & Poultry', 258: 'Pantry;Biscuits & Crackers;Biscuits & Cookies', 259: 'Chilled, Frozen & Desserts;Frozen Foods;Frozen Pies', 260: 'Fresh Foods & Bakery;Butchery;PrePacked Pork', 261: 'Drinks;Cold Drinks;Powdered Drinks', 262: 'Fresh Foods & Bakery;Fruit & Vegetables;PrePacked Fresh Vegetables', 263: 'Kitchen, Dining & Household;Cleaning Products;Dishwasher Detergents', 264: 'Pantry;Condiments & Dressings;Vinegars', 265: 'Drinks;Hot Drinks;Black Teas', 266: 'Beer, Cider & Wine;Beer & Cider;American-style Ale', 267: 'Baby, Toddler & Kids;Baby Care;Baby Formula & Toddler Food', 268: 'Beer, Cider & Wine;Wine;Cask Wine', 269: 'Fresh Foods & Bakery;Deli, Salads & Cooked Meats;Chilled Pies & Pastries', 270: 'Pantry;Baking Supplies & Sugar;Baking Additives', 271: 'Pets;Pet Supplies;Dog Food', 272: 'Pantry;Baking Supplies & Sugar;Sugar', 273: 'Pantry;Sauces, Stock & Marinades;Simmer & Stir-Through Sauces', 274: 'Baby, Toddler & Kids;Baby Care;Nappies & Changing', 275: 'Pantry;Baking Supplies & Sugar;Essences & Colourings', 276: 'Fresh Foods & Bakery;Bakery;Specialty Breads', 277: 'Pantry;Hot Drinks;Fruit & Herbal Teas', 278: 'Fresh Foods & Bakery;Deli, Salads & Cooked Meats;Hummus', 279: 'Pantry;Condiments & Dressings;Relish', 280: 'Pantry;Pasta, Rice & Noodles;Rice Meals', 281: 'Meal Spot;Ready to Cook;Noodle Meals', 282: 'Meal Spot;Ready to Cook;Simply DINNER', 283: 'Fresh Foods & Bakery;Deli, Salads & Cooked Meats;Olives & Antipasti Mixes', 284: 'Fresh Foods & Bakery;Fruit & Vegetables;Fresh Fruit', 285: 'Fresh Foods & Bakery;Seafood;Frozen Fish & Seafood', 286: 'Pantry;Condiments & Dressings;Worcestershire Sauces', 287: 'Pantry;Hot Drinks;Coffee Capsules', 288: 'Meal Spot;Ready to Heat;Ready Meals', 289: 'Chilled, Frozen & Desserts;Frozen Foods;Frozen Savouries', 290: 'Chilled, Frozen & Desserts;Cheese;Cheese Blocks', 291: 'Beer, Cider & Wine;Wine;Pinot Noir', 292: 'Pantry;Condiments & Dressings;Mint Sauces', 293: 'Chilled, Frozen & Desserts;Cheese;Grated Cheese', 294: 'Pets;Pet Supplies;Pet Accessories', 295: 'Fresh Foods & Bakery;Fruit & Vegetables;Fresh Herbs', 296: 'Kitchen, Dining & Household;Laundry;Laundry Soap', 297: 'Fresh Foods & Bakery;Seafood;Fresh Fish Fillets & Steaks', 298: 'Pantry;Confectionery;Lollies Family Bags', 299: 'Meal Spot;Ready to Eat;Fresh Deli Savouries', 300: 'Fresh Foods & Bakery;Bakery;Organic & Gluten Free', 301: 'Drinks;Cold Drinks;Sparkling Juices', 302: 'Meal Spot;Ready to Eat;Fresh Salads', 303: 'Pantry;Salad & Cooking Oils;Other Oils', 304: 'Beer, Cider & Wine;Beer & Cider;Lighter Alcohol Beers', 305: 'Drinks;Hot Drinks;Coffee Flavoured Sachets', 306: 'Pantry;Salad & Cooking Oils;Vegetable Oils', 307: 'Meal Spot;Ready to Cook;Vege Bags', 308: 'Pantry;World Foods;South East Asian', 309: 'Fresh Foods & Bakery;Butchery;PrePacked Beef & Lamb', 310: 'Personal Care;Beauty & Grooming;Makeup & Cosmetics', 311: 'Personal Care;Beauty & Grooming;Hand & Body Care', 312: 'Pantry;Breakfast Cereals;Hot Cereals', 313: 'Kitchen, Dining & Household;Laundry;Clothes Pegs', 314: 'Pantry;Canned & Prepared Foods;Canned Milk & Cream', 315: 'Chilled, Frozen & Desserts;Desserts;Meringues & Pavlovas', 316: 'Meal Spot;Ready to Heat;Chilled Pies & Pastries', 317: 'Personal Care;Health & Wellness;Contact Lens & Eye Care', 318: 'Personal Care;Beauty & Grooming;Suncare & Self Tan', 319: 'Beer, Cider & Wine;Wine;Shiraz', 320: 'Fresh Foods & Bakery;Fruit & Vegetables;Salad Bags', 321: 'Pantry;Snack Foods;Potato Chips', 322: 'Beer, Cider & Wine;Beer & Cider;Brewing Supplies', 323: 'Chilled, Frozen & Desserts;Desserts;Ice Cream & Frozen Yoghurt', 324: 'Chilled, Frozen & Desserts;Desserts;Ready To Serve Puddings', 325: 'Meal Spot;Ready to Heat;Frozen Savouries', 326: 'Pantry;World Foods;Japanese', 327: 'Personal Care;Health & Wellness;Vitamins & Supplements', 328: 'Chilled, Frozen & Desserts;Frozen Foods;Frozen Pastry', 329: 'Beer, Cider & Wine;Beer & Cider;Spirits', 330: 'Personal Care;Health & Wellness;Wellness & Sports Nutrition', 331: 'Pantry;Sauces, Stock & Marinades;Tomato Sauces', 332: 'Fresh Foods & Bakery;Fruit & Vegetables;Vege Bags', 333: 'Pantry;Jams, Honey & Spreads;Honey', 334: 'Pantry;Hot Drinks;Instant Coffees', 335: 'Kitchen, Dining & Household;Laundry;Pre Wash Stain Removers', 336: 'Drinks;Hot Drinks;Coffee Additives & Filters', 337: 'Fresh Foods & Bakery;Seafood;Seafood Salad', 338: 'Chilled, Frozen & Desserts;Frozen Foods;Frozen Vegetarian', 339: 'Drinks;Cold Drinks;Coconut Water', 340: 'Pantry;Canned & Prepared Foods;Vegetarian', 341: 'Kitchen, Dining & Household;Stationery & Entertainment;Stationery & Craft', 342: 'Chilled, Frozen & Desserts;Dairy & Eggs;Yoghurt & Dairy Food', 343: 'Pantry;Sauces, Stock & Marinades;Soy Sauce', 344: 'Pantry;Hot Drinks;Coffee Flavoured Sachets', 345: 'Pantry;World Foods;Other Countries', 346: 'Pantry;Confectionery;Chocolate Blocks', 347: 'Kitchen, Dining & Household;Household;Fire Needs', 348: 'Kitchen, Dining & Household;Garage & Outdoor;BBQ', 349: 'Chilled, Frozen & Desserts;Cheese;Deli Cabinet Cheeses', 350: 'Pantry;Snack Foods;Snack Mixes', 351: 'Chilled, Frozen & Desserts;Frozen Foods;Frozen Fish', 352: 'Pantry;Jams, Honey & Spreads;Marmite & Vegemite', 353: 'Chilled, Frozen & Desserts;Dairy & Eggs;Sour Cream & Crème Fraiche', 354: 'Pantry;Salad & Cooking Oils;Avocado Oils', 355: 'Personal Care;Health & Wellness;Family Planning', 356: 'Pantry;Pasta, Rice & Noodles;Instant Rices', 357: 'Pets;Pet Supplies;Pet Treatments', 358: 'Beer, Cider & Wine;Beer & Cider;Fruit & Flavoured Cider', 359: 'Kitchen, Dining & Household;Cleaning Products;Kitchen Cleaners', 360: 'Pantry;Spices & Seasonings;Dried Herbs', 361: 'Pantry;Condiments & Dressings;Mayonnaise', 362: 'Fresh Foods & Bakery;Seafood;Fresh Seafood', 363: 'Kitchen, Dining & Household;Laundry;Laundry Powders', 364: 'Pantry;Snack Foods;Cereal & Snack Bars', 365: 'Kitchen, Dining & Household;Laundry;Fabric Softeners', 366: 'Pantry;Sauces, Stock & Marinades;Packet Sauces', 367: 'Beer, Cider & Wine;Beer & Cider;Specialty & Flavoured Beer', 368: 'Fresh Foods & Bakery;Dairy & Eggs;Yoghurt & Dairy Food', 369: 'Pantry;World Foods;USA', 370: 'Pantry;Canned & Prepared Foods;Packet Soup', 371: 'Drinks;Cold Drinks;Fruit Drinks & Juices', 372: 'Drinks;Hot Drinks;Fresh Coffees', 373: 'Pantry;Snack Foods;Fruit Snacks', 374: 'Fresh Foods & Bakery;Butchery;Fresh Beef & Lamb', 375: 'Drinks;Hot Drinks;Fruit & Herbal Teas', 376: 'Fresh Foods & Bakery;Bulk & Loose Foods;Bulk Breakfast Cereals', 377: 'Pantry;Confectionery;Boxed Chocolates', 378: 'Personal Care;Beauty & Grooming;Hair Styling & Accessories', 379: 'Personal Care;Beauty & Grooming;Hair Colouring', 380: 'Pantry;Snack Foods;Vege Snacks', 381: 'Kitchen, Dining & Household;Household;Air Fresheners & Deodorisers', 382: 'Personal Care;Health & Wellness;Cough, Cold & Flu', 383: 'Drinks;Hot Drinks;Green Teas', 384: 'Pantry;Biscuits & Crackers;Gourmet Biscuits & Crackers', 385: 'Pantry;Baking Supplies & Sugar;Sugar Substitutes', 386: 'Pantry;Sauces, Stock & Marinades;Stir Fry Sauces', 387: 'Fresh Foods & Bakery;Deli, Salads & Cooked Meats;Continental Sausage & Salami', 388: 'Pantry;Confectionery;Liquorice', 389: 'Baby, Toddler & Kids;Baby Care;Baby Hair Care', 390: 'Kitchen, Dining & Household;Household;Rubbish & Vacuum Bags', 391: 'Chilled, Frozen & Desserts;Dairy & Eggs;Fresh Milk', 392: 'Fresh Foods & Bakery;Seafood;Fresh Smoked Fish', 393: 'Meal Spot;Ready to Heat;Frozen Pizza & Bases', 394: 'Pantry;Canned & Prepared Foods;Canned & Dried Vegetables', 395: 'Beer, Cider & Wine;Beer & Cider;Pale Ale', 396: 'Pantry;Sauces, Stock & Marinades;Gravies', 397: 'Fresh Foods & Bakery;Dairy & Eggs;Flavoured Milk', 398: 'Pantry;Hot Drinks;Green Teas', 399: 'Pantry;Salad & Cooking Oils;Olive Oils', 400: 'Chilled, Frozen & Desserts;Dairy & Eggs;Fresh Organic Milk', 401: 'Pantry;Condiments & Dressings;Pickles', 402: 'Pantry;Spices & Seasonings;Garlic & Ginger', 403: 'Fresh Foods & Bakery;Butchery;PreCooked Sausages', 404: 'Fresh Foods & Bakery;Deli, Salads & Cooked Meats;Deli Salads', 405: 'Pantry;Biscuits & Crackers;Assorted Biscuits & Crackers', 406: 'Pantry;Condiments & Dressings;Chutneys', 407: 'Pantry;Condiments & Dressings;Mustards', 408: 'Pantry;Canned & Prepared Foods;Coconut Cream & Milk', 409: 'Kitchen, Dining & Household;Garage & Outdoor;Hooks', 410: 'Fresh Foods & Bakery;Deli, Salads & Cooked Meats;Gourmet Oils & Condiments', 411: 'Kitchen, Dining & Household;Cleaning Products;Bleaches', 412: 'Pantry;Pasta, Rice & Noodles;Short & Medium Grain Rices', 413: 'Chilled, Frozen & Desserts;Cheese;Cream Cheese', 414: 'Pantry;Baking Supplies & Sugar;Cooking Chocolate', 415: 'Pantry;Breakfast Cereals;Cold Cereals', 416: 'Kitchen, Dining & Household;Household;Disposable Tableware', 417: 'Pantry;Canned & Prepared Foods;Syrups & Sauces', 418: 'Pets;Pet Supplies;Cat Accessories', 419: 'Drinks;Cold Drinks;Vegetable Juices', 420: 'Fresh Foods & Bakery;Butchery;Fresh Chicken & Poultry', 421: 'Beer, Cider & Wine;Beer & Cider;European-style Ale', 422: 'Drinks;Cold Drinks;Still Water', 423: 'Pantry;Confectionery;Christmas', 424: 'Fresh Foods & Bakery;Dairy & Eggs;Butter & Spreads', 425: 'Pantry;Snack Foods;Nutritional Bars', 426: 'Drinks;Cold Drinks;Soft Drinks', 427: 'Drinks;Hot Drinks;Coffee Substitutes', 428: 'Pantry;World Foods;Korean'}\n",
      "logistic: acc:0.7707411504424779, recall:0.6896969736329914, f1 score:0.7039536120312325\n",
      "                                                        precision    recall  f1-score   support\n",
      "\n",
      "                        Baby, Toddler & Kids;Baby Care       0.81      0.93      0.87       105\n",
      "                                    Drinks;Cold Drinks       0.84      0.78      0.81        96\n",
      "                       Beer, Cider & Wine;Beer & Cider       1.00      0.68      0.81        25\n",
      "                            Pantry;Spices & Seasonings       0.91      0.95      0.93       152\n",
      "                      Pantry;Sauces, Stock & Marinades       0.71      0.75      0.73       129\n",
      "               Fresh Foods & Bakery;Bulk & Loose Foods       0.79      0.98      0.87       288\n",
      "               Fresh Foods & Bakery;Fruit & Vegetables       0.84      0.78      0.81        96\n",
      "          Kitchen, Dining & Household;Garage & Outdoor       0.97      0.94      0.95       130\n",
      "               Chilled, Frozen & Desserts;Frozen Foods       0.84      0.78      0.81        96\n",
      "                   Chilled, Frozen & Desserts;Desserts       0.97      0.91      0.94        33\n",
      "                               Meal Spot;Ready to Cook       0.91      0.94      0.92       104\n",
      "                         Fresh Foods & Bakery;Butchery       0.79      0.98      0.87       288\n",
      "                               Meal Spot;Ready to Heat       0.97      0.94      0.95       130\n",
      "                                    Pantry;Snack Foods       1.00      0.89      0.94        61\n",
      "                          Fresh Foods & Bakery;Seafood       0.25      0.23      0.24       109\n",
      "         Kitchen, Dining & Household;Cleaning Products       0.97      0.87      0.92        89\n",
      "                       Personal Care;Beauty & Grooming       0.71      0.75      0.73       129\n",
      "                        Pantry;Canned & Prepared Foods       1.00      0.98      0.99       126\n",
      "                           Fresh Foods & Bakery;Bakery       0.81      0.93      0.87       105\n",
      "                            Pantry;Biscuits & Crackers       0.87      0.96      0.91       140\n",
      "               Chilled, Frozen & Desserts;Dairy & Eggs       0.60      0.73      0.65       142\n",
      "                                     Drinks;Hot Drinks       0.97      1.00      0.98        32\n",
      "                          Pantry;Jams, Honey & Spreads       0.97      0.87      0.92        89\n",
      "                          Pantry;Pasta, Rice & Noodles       0.84      0.78      0.81        96\n",
      "                        Pantry;Baking Supplies & Sugar       0.93      0.98      0.96       171\n",
      "                   Kitchen, Dining & Household;Laundry       0.25      0.23      0.24       109\n",
      "                                     Pets;Pet Supplies       0.60      0.73      0.65       142\n",
      "                              Pantry;Breakfast Cereals       1.00      0.98      0.99       126\n",
      "                               Beer, Cider & Wine;Wine       0.87      0.96      0.91       140\n",
      "                                  Pantry;Confectionery       0.60      0.73      0.65       142\n",
      "                       Personal Care;Health & Wellness       0.98      0.74      0.84        57\n",
      "                        Fresh Foods & Bakery;Meal Kits       1.00      0.89      0.94        61\n",
      "                                     Pantry;Hot Drinks       0.90      0.91      0.90        76\n",
      "                         Pantry;Condiments & Dressings       0.22      0.18      0.20        72\n",
      "      Fresh Foods & Bakery;Deli, Salads & Cooked Meats       0.74      0.77      0.76        79\n",
      "                                Meal Spot;Ready to Eat       0.91      0.95      0.93       152\n",
      "                                    Pantry;World Foods       0.93      0.92      0.93        90\n",
      "                     Fresh Foods & Bakery;Dairy & Eggs       0.90      0.91      0.90        76\n",
      "Kitchen, Dining & Household;Stationery & Entertainment       0.93      0.98      0.96       171\n",
      "                     Chilled, Frozen & Desserts;Cheese       1.00      0.89      0.94        61\n",
      "                 Kitchen, Dining & Household;Household       0.91      0.94      0.92       104\n",
      "                           Pantry;Salad & Cooking Oils       1.00      0.68      0.81        25\n",
      "\n",
      "                                              accuracy                           0.80    428988\n",
      "                                             macro avg       0.77      0.77      0.77    428988\n",
      "                                          weighted avg       0.78      0.82      0.79    428988\n",
      "\n"
     ]
    },
    {
     "name": "stderr",
     "output_type": "stream",
     "text": [
      "d:\\python\\lib\\site-packages\\sklearn\\linear_model\\_logistic.py:763: ConvergenceWarning: lbfgs failed to converge (status=1):\n",
      "STOP: TOTAL NO. of ITERATIONS REACHED LIMIT.\n",
      "\n",
      "Increase the number of iterations (max_iter) or scale the data as shown in:\n",
      "    https://scikit-learn.org/stable/modules/preprocessing.html\n",
      "Please also refer to the documentation for alternative solver options:\n",
      "    https://scikit-learn.org/stable/modules/linear_model.html#logistic-regression\n",
      "  n_iter_i = _check_optimize_result(\n",
      "d:\\python\\lib\\site-packages\\sklearn\\metrics\\_classification.py:1982: UserWarning: labels size, 3616, does not match size of target_names, 42\n",
      "  warnings.warn(\n",
      "d:\\python\\lib\\site-packages\\sklearn\\metrics\\_classification.py:1245: UndefinedMetricWarning: Precision and F-score are ill-defined and being set to 0.0 in labels with no predicted samples. Use `zero_division` parameter to control this behavior.\n",
      "  _warn_prf(average, modifier, msg_start, len(result))\n",
      "d:\\python\\lib\\site-packages\\sklearn\\metrics\\_classification.py:1245: UndefinedMetricWarning: Precision and F-score are ill-defined and being set to 0.0 in labels with no predicted samples. Use `zero_division` parameter to control this behavior.\n",
      "  _warn_prf(average, modifier, msg_start, len(result))\n",
      "d:\\python\\lib\\site-packages\\sklearn\\metrics\\_classification.py:1245: UndefinedMetricWarning: Precision and F-score are ill-defined and being set to 0.0 in labels with no predicted samples. Use `zero_division` parameter to control this behavior.\n",
      "  _warn_prf(average, modifier, msg_start, len(result))\n"
     ]
    }
   ],
   "source": [
    "label2ids = {l: i for i, l in enumerate(set(simple))}\n",
    "id2labels = {i: l for l, i in label2ids.items()}\n",
    "simple = [label2ids[l] for l in simple]\n",
    "print(\"id2label\", id2label)\n",
    "x_train, x_test, y_train, y_test = train_test_split(features, simple, test_size=0.25, random_state=3)\n",
    "model.fit(x_train, y_train)\n",
    "predict_labels = model.predict(x_test)\n",
    "predict_labels = [np.round(p) for p in predict_labels]\n",
    "max_label = len(id2labels) - 1\n",
    "predict_labels = [l if max_label >= l else max_label for l in predict_labels]\n",
    "min_label = 0\n",
    "predict_labels = [l if min_label <= l else min_label for l in predict_labels]\n",
    "evaluation(predict_labels, y_test, id2labels, \"logistic\")\n"
   ],
   "metadata": {
    "collapsed": false,
    "pycharm": {
     "name": "#%%\n"
    }
   }
  }
 ],
 "metadata": {
  "kernelspec": {
   "display_name": "Python 3",
   "language": "python",
   "name": "python3"
  },
  "language_info": {
   "codemirror_mode": {
    "name": "ipython",
    "version": 2
   },
   "file_extension": ".py",
   "mimetype": "text/x-python",
   "name": "python",
   "nbconvert_exporter": "python",
   "pygments_lexer": "ipython2",
   "version": "2.7.6"
  }
 },
 "nbformat": 4,
 "nbformat_minor": 0
}