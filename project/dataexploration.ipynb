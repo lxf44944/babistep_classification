{
 "cells": [
  {
   "cell_type": "code",
   "execution_count": 1,
   "metadata": {
    "collapsed": true
   },
   "outputs": [],
   "source": [
    "import re\n",
    "import matplotlib.pyplot as plot\n",
    "import numpy as np\n",
    "import pandas as pd\n",
    "from sklearn.feature_extraction.text import TfidfVectorizer\n",
    "from sklearn.linear_model import LogisticRegression\n",
    "from sklearn.metrics import accuracy_score, recall_score, f1_score, classification_report\n"
   ]
  },
  {
   "cell_type": "code",
   "execution_count": 2,
   "outputs": [
    {
     "data": {
      "text/plain": "                                        ProductName               level_1  \\\n0                             Johnson's Baby Lotion  Baby, Toddler & Kids   \n1                                Johnson's Baby Oil  Baby, Toddler & Kids   \n2  SMA Balanced Nutrition From Birth Infant Formula  Baby, Toddler & Kids   \n3                             Johnson's Baby Powder  Baby, Toddler & Kids   \n4                             Johnson's Baby Powder  Baby, Toddler & Kids   \n\n     level_2                      level_3  PricePerItem PriceMode  \\\n0  Baby Care     Baby Bathing & Skin Care          4.89        ea   \n1  Baby Care     Baby Bathing & Skin Care          4.89        ea   \n2  Baby Care  Baby Formula & Toddler Food         17.99        ea   \n3  Baby Care           Nappies & Changing          2.99        ea   \n4  Baby Care           Nappies & Changing          4.89        ea   \n\n   HasMultiBuyDeal MultiBuyDeal  MultiBuyBasePrice  MultiBuyPrice  \\\n0            False          NaN               4.89            NaN   \n1            False          NaN               4.89            NaN   \n2            False          NaN              17.99          17.99   \n3            False          NaN               2.99           2.99   \n4            False          NaN               4.89            NaN   \n\n   MultiBuyQuantity PromoBadgeImageLabel  \n0               NaN                  NaN  \n1               NaN                  NaN  \n2               1.0                Saver  \n3               1.0                Saver  \n4               NaN                  NaN  ",
      "text/html": "<div>\n<style scoped>\n    .dataframe tbody tr th:only-of-type {\n        vertical-align: middle;\n    }\n\n    .dataframe tbody tr th {\n        vertical-align: top;\n    }\n\n    .dataframe thead th {\n        text-align: right;\n    }\n</style>\n<table border=\"1\" class=\"dataframe\">\n  <thead>\n    <tr style=\"text-align: right;\">\n      <th></th>\n      <th>ProductName</th>\n      <th>level_1</th>\n      <th>level_2</th>\n      <th>level_3</th>\n      <th>PricePerItem</th>\n      <th>PriceMode</th>\n      <th>HasMultiBuyDeal</th>\n      <th>MultiBuyDeal</th>\n      <th>MultiBuyBasePrice</th>\n      <th>MultiBuyPrice</th>\n      <th>MultiBuyQuantity</th>\n      <th>PromoBadgeImageLabel</th>\n    </tr>\n  </thead>\n  <tbody>\n    <tr>\n      <th>0</th>\n      <td>Johnson's Baby Lotion</td>\n      <td>Baby, Toddler &amp; Kids</td>\n      <td>Baby Care</td>\n      <td>Baby Bathing &amp; Skin Care</td>\n      <td>4.89</td>\n      <td>ea</td>\n      <td>False</td>\n      <td>NaN</td>\n      <td>4.89</td>\n      <td>NaN</td>\n      <td>NaN</td>\n      <td>NaN</td>\n    </tr>\n    <tr>\n      <th>1</th>\n      <td>Johnson's Baby Oil</td>\n      <td>Baby, Toddler &amp; Kids</td>\n      <td>Baby Care</td>\n      <td>Baby Bathing &amp; Skin Care</td>\n      <td>4.89</td>\n      <td>ea</td>\n      <td>False</td>\n      <td>NaN</td>\n      <td>4.89</td>\n      <td>NaN</td>\n      <td>NaN</td>\n      <td>NaN</td>\n    </tr>\n    <tr>\n      <th>2</th>\n      <td>SMA Balanced Nutrition From Birth Infant Formula</td>\n      <td>Baby, Toddler &amp; Kids</td>\n      <td>Baby Care</td>\n      <td>Baby Formula &amp; Toddler Food</td>\n      <td>17.99</td>\n      <td>ea</td>\n      <td>False</td>\n      <td>NaN</td>\n      <td>17.99</td>\n      <td>17.99</td>\n      <td>1.0</td>\n      <td>Saver</td>\n    </tr>\n    <tr>\n      <th>3</th>\n      <td>Johnson's Baby Powder</td>\n      <td>Baby, Toddler &amp; Kids</td>\n      <td>Baby Care</td>\n      <td>Nappies &amp; Changing</td>\n      <td>2.99</td>\n      <td>ea</td>\n      <td>False</td>\n      <td>NaN</td>\n      <td>2.99</td>\n      <td>2.99</td>\n      <td>1.0</td>\n      <td>Saver</td>\n    </tr>\n    <tr>\n      <th>4</th>\n      <td>Johnson's Baby Powder</td>\n      <td>Baby, Toddler &amp; Kids</td>\n      <td>Baby Care</td>\n      <td>Nappies &amp; Changing</td>\n      <td>4.89</td>\n      <td>ea</td>\n      <td>False</td>\n      <td>NaN</td>\n      <td>4.89</td>\n      <td>NaN</td>\n      <td>NaN</td>\n      <td>NaN</td>\n    </tr>\n  </tbody>\n</table>\n</div>"
     },
     "execution_count": 2,
     "metadata": {},
     "output_type": "execute_result"
    }
   ],
   "source": [
    "from sklearn.model_selection import train_test_split\n",
    "\n",
    "columns = [\"ProductName\", \"level_1\", \"level_2\", \"level_3\", \"PricePerItem\", \"PriceMode\", \"HasMultiBuyDeal\",\n",
    "           \"MultiBuyDeal\", \"MultiBuyBasePrice\", \"MultiBuyPrice\", \"MultiBuyQuantity\", \"PromoBadgeImageLabel\"]\n",
    "df = pd.read_csv(\"data.csv\", usecols=columns)\n",
    "df.drop_duplicates(inplace=True)\n",
    "df.head(5)"
   ],
   "metadata": {
    "collapsed": false,
    "pycharm": {
     "name": "#%%\n"
    }
   }
  },
  {
   "cell_type": "code",
   "execution_count": 3,
   "outputs": [
    {
     "data": {
      "text/plain": "                                        ProductName               level_1  \\\n0                              johnsons baby lotion  Baby, Toddler & Kids   \n1                                 johnsons baby oil  Baby, Toddler & Kids   \n2  sma balanced nutrition from birth infant formula  Baby, Toddler & Kids   \n3                              johnsons baby powder  Baby, Toddler & Kids   \n4                              johnsons baby powder  Baby, Toddler & Kids   \n\n     level_2                      level_3  PricePerItem PriceMode  \\\n0  Baby Care     Baby Bathing & Skin Care          4.89        ea   \n1  Baby Care     Baby Bathing & Skin Care          4.89        ea   \n2  Baby Care  Baby Formula & Toddler Food         17.99        ea   \n3  Baby Care           Nappies & Changing          2.99        ea   \n4  Baby Care           Nappies & Changing          4.89        ea   \n\n   HasMultiBuyDeal MultiBuyDeal  MultiBuyBasePrice  MultiBuyPrice  \\\n0            False          NaN               4.89            NaN   \n1            False          NaN               4.89            NaN   \n2            False          NaN              17.99          17.99   \n3            False          NaN               2.99           2.99   \n4            False          NaN               4.89            NaN   \n\n   MultiBuyQuantity PromoBadgeImageLabel  \n0               NaN                  NaN  \n1               NaN                  NaN  \n2               1.0                Saver  \n3               1.0                Saver  \n4               NaN                  NaN  ",
      "text/html": "<div>\n<style scoped>\n    .dataframe tbody tr th:only-of-type {\n        vertical-align: middle;\n    }\n\n    .dataframe tbody tr th {\n        vertical-align: top;\n    }\n\n    .dataframe thead th {\n        text-align: right;\n    }\n</style>\n<table border=\"1\" class=\"dataframe\">\n  <thead>\n    <tr style=\"text-align: right;\">\n      <th></th>\n      <th>ProductName</th>\n      <th>level_1</th>\n      <th>level_2</th>\n      <th>level_3</th>\n      <th>PricePerItem</th>\n      <th>PriceMode</th>\n      <th>HasMultiBuyDeal</th>\n      <th>MultiBuyDeal</th>\n      <th>MultiBuyBasePrice</th>\n      <th>MultiBuyPrice</th>\n      <th>MultiBuyQuantity</th>\n      <th>PromoBadgeImageLabel</th>\n    </tr>\n  </thead>\n  <tbody>\n    <tr>\n      <th>0</th>\n      <td>johnsons baby lotion</td>\n      <td>Baby, Toddler &amp; Kids</td>\n      <td>Baby Care</td>\n      <td>Baby Bathing &amp; Skin Care</td>\n      <td>4.89</td>\n      <td>ea</td>\n      <td>False</td>\n      <td>NaN</td>\n      <td>4.89</td>\n      <td>NaN</td>\n      <td>NaN</td>\n      <td>NaN</td>\n    </tr>\n    <tr>\n      <th>1</th>\n      <td>johnsons baby oil</td>\n      <td>Baby, Toddler &amp; Kids</td>\n      <td>Baby Care</td>\n      <td>Baby Bathing &amp; Skin Care</td>\n      <td>4.89</td>\n      <td>ea</td>\n      <td>False</td>\n      <td>NaN</td>\n      <td>4.89</td>\n      <td>NaN</td>\n      <td>NaN</td>\n      <td>NaN</td>\n    </tr>\n    <tr>\n      <th>2</th>\n      <td>sma balanced nutrition from birth infant formula</td>\n      <td>Baby, Toddler &amp; Kids</td>\n      <td>Baby Care</td>\n      <td>Baby Formula &amp; Toddler Food</td>\n      <td>17.99</td>\n      <td>ea</td>\n      <td>False</td>\n      <td>NaN</td>\n      <td>17.99</td>\n      <td>17.99</td>\n      <td>1.0</td>\n      <td>Saver</td>\n    </tr>\n    <tr>\n      <th>3</th>\n      <td>johnsons baby powder</td>\n      <td>Baby, Toddler &amp; Kids</td>\n      <td>Baby Care</td>\n      <td>Nappies &amp; Changing</td>\n      <td>2.99</td>\n      <td>ea</td>\n      <td>False</td>\n      <td>NaN</td>\n      <td>2.99</td>\n      <td>2.99</td>\n      <td>1.0</td>\n      <td>Saver</td>\n    </tr>\n    <tr>\n      <th>4</th>\n      <td>johnsons baby powder</td>\n      <td>Baby, Toddler &amp; Kids</td>\n      <td>Baby Care</td>\n      <td>Nappies &amp; Changing</td>\n      <td>4.89</td>\n      <td>ea</td>\n      <td>False</td>\n      <td>NaN</td>\n      <td>4.89</td>\n      <td>NaN</td>\n      <td>NaN</td>\n      <td>NaN</td>\n    </tr>\n  </tbody>\n</table>\n</div>"
     },
     "execution_count": 3,
     "metadata": {},
     "output_type": "execute_result"
    }
   ],
   "source": [
    "punctuations = re.compile(r'[^a-zA-Z\\s]+')\n",
    "df[\"ProductName\"] = [\" \".join(punctuations.sub('', x).lower().split()) for x in df[\"ProductName\"].tolist()]\n",
    "df.head(5)"
   ],
   "metadata": {
    "collapsed": false,
    "pycharm": {
     "name": "#%%\n"
    }
   }
  },
  {
   "cell_type": "code",
   "execution_count": 4,
   "outputs": [
    {
     "data": {
      "text/plain": "                                        ProductName               level_1  \\\n0                              johnsons baby lotion  Baby, Toddler & Kids   \n1                                 johnsons baby oil  Baby, Toddler & Kids   \n2  sma balanced nutrition from birth infant formula  Baby, Toddler & Kids   \n3                              johnsons baby powder  Baby, Toddler & Kids   \n4                              johnsons baby powder  Baby, Toddler & Kids   \n\n     level_2                      level_3  PricePerItem PriceMode  \\\n0  Baby Care     Baby Bathing & Skin Care          4.89        ea   \n1  Baby Care     Baby Bathing & Skin Care          4.89        ea   \n2  Baby Care  Baby Formula & Toddler Food         17.99        ea   \n3  Baby Care           Nappies & Changing          2.99        ea   \n4  Baby Care           Nappies & Changing          4.89        ea   \n\n   HasMultiBuyDeal MultiBuyDeal  MultiBuyBasePrice  MultiBuyPrice  \\\n0            False                            4.89            NaN   \n1            False                            4.89            NaN   \n2            False                           17.99          17.99   \n3            False                            2.99           2.99   \n4            False                            4.89            NaN   \n\n   MultiBuyQuantity PromoBadgeImageLabel  \n0               NaN                  NaN  \n1               NaN                  NaN  \n2               1.0                Saver  \n3               1.0                Saver  \n4               NaN                  NaN  ",
      "text/html": "<div>\n<style scoped>\n    .dataframe tbody tr th:only-of-type {\n        vertical-align: middle;\n    }\n\n    .dataframe tbody tr th {\n        vertical-align: top;\n    }\n\n    .dataframe thead th {\n        text-align: right;\n    }\n</style>\n<table border=\"1\" class=\"dataframe\">\n  <thead>\n    <tr style=\"text-align: right;\">\n      <th></th>\n      <th>ProductName</th>\n      <th>level_1</th>\n      <th>level_2</th>\n      <th>level_3</th>\n      <th>PricePerItem</th>\n      <th>PriceMode</th>\n      <th>HasMultiBuyDeal</th>\n      <th>MultiBuyDeal</th>\n      <th>MultiBuyBasePrice</th>\n      <th>MultiBuyPrice</th>\n      <th>MultiBuyQuantity</th>\n      <th>PromoBadgeImageLabel</th>\n    </tr>\n  </thead>\n  <tbody>\n    <tr>\n      <th>0</th>\n      <td>johnsons baby lotion</td>\n      <td>Baby, Toddler &amp; Kids</td>\n      <td>Baby Care</td>\n      <td>Baby Bathing &amp; Skin Care</td>\n      <td>4.89</td>\n      <td>ea</td>\n      <td>False</td>\n      <td></td>\n      <td>4.89</td>\n      <td>NaN</td>\n      <td>NaN</td>\n      <td>NaN</td>\n    </tr>\n    <tr>\n      <th>1</th>\n      <td>johnsons baby oil</td>\n      <td>Baby, Toddler &amp; Kids</td>\n      <td>Baby Care</td>\n      <td>Baby Bathing &amp; Skin Care</td>\n      <td>4.89</td>\n      <td>ea</td>\n      <td>False</td>\n      <td></td>\n      <td>4.89</td>\n      <td>NaN</td>\n      <td>NaN</td>\n      <td>NaN</td>\n    </tr>\n    <tr>\n      <th>2</th>\n      <td>sma balanced nutrition from birth infant formula</td>\n      <td>Baby, Toddler &amp; Kids</td>\n      <td>Baby Care</td>\n      <td>Baby Formula &amp; Toddler Food</td>\n      <td>17.99</td>\n      <td>ea</td>\n      <td>False</td>\n      <td></td>\n      <td>17.99</td>\n      <td>17.99</td>\n      <td>1.0</td>\n      <td>Saver</td>\n    </tr>\n    <tr>\n      <th>3</th>\n      <td>johnsons baby powder</td>\n      <td>Baby, Toddler &amp; Kids</td>\n      <td>Baby Care</td>\n      <td>Nappies &amp; Changing</td>\n      <td>2.99</td>\n      <td>ea</td>\n      <td>False</td>\n      <td></td>\n      <td>2.99</td>\n      <td>2.99</td>\n      <td>1.0</td>\n      <td>Saver</td>\n    </tr>\n    <tr>\n      <th>4</th>\n      <td>johnsons baby powder</td>\n      <td>Baby, Toddler &amp; Kids</td>\n      <td>Baby Care</td>\n      <td>Nappies &amp; Changing</td>\n      <td>4.89</td>\n      <td>ea</td>\n      <td>False</td>\n      <td></td>\n      <td>4.89</td>\n      <td>NaN</td>\n      <td>NaN</td>\n      <td>NaN</td>\n    </tr>\n  </tbody>\n</table>\n</div>"
     },
     "execution_count": 4,
     "metadata": {},
     "output_type": "execute_result"
    }
   ],
   "source": [
    "df[\"MultiBuyDeal\"] = [\" \".join(punctuations.sub('', y).lower().split()) if y == y else \" \" for y in\n",
    "                      df[\"MultiBuyDeal\"].tolist()]\n",
    "df.head(5)"
   ],
   "metadata": {
    "collapsed": false,
    "pycharm": {
     "name": "#%%\n"
    }
   }
  },
  {
   "cell_type": "code",
   "execution_count": 5,
   "outputs": [
    {
     "data": {
      "text/plain": "                                        ProductName               level_1  \\\n0                              johnsons baby lotion  Baby, Toddler & Kids   \n1                                 johnsons baby oil  Baby, Toddler & Kids   \n2  sma balanced nutrition from birth infant formula  Baby, Toddler & Kids   \n3                              johnsons baby powder  Baby, Toddler & Kids   \n4                              johnsons baby powder  Baby, Toddler & Kids   \n\n     level_2                      level_3  PricePerItem PriceMode  \\\n0  Baby Care     Baby Bathing & Skin Care          4.89        ea   \n1  Baby Care     Baby Bathing & Skin Care          4.89        ea   \n2  Baby Care  Baby Formula & Toddler Food         17.99        ea   \n3  Baby Care           Nappies & Changing          2.99        ea   \n4  Baby Care           Nappies & Changing          4.89        ea   \n\n   HasMultiBuyDeal MultiBuyDeal  MultiBuyBasePrice  MultiBuyPrice  \\\n0            False                            4.89            NaN   \n1            False                            4.89            NaN   \n2            False                           17.99          17.99   \n3            False                            2.99           2.99   \n4            False                            4.89            NaN   \n\n   MultiBuyQuantity PromoBadgeImageLabel  \n0               NaN                       \n1               NaN                       \n2               1.0                saver  \n3               1.0                saver  \n4               NaN                       ",
      "text/html": "<div>\n<style scoped>\n    .dataframe tbody tr th:only-of-type {\n        vertical-align: middle;\n    }\n\n    .dataframe tbody tr th {\n        vertical-align: top;\n    }\n\n    .dataframe thead th {\n        text-align: right;\n    }\n</style>\n<table border=\"1\" class=\"dataframe\">\n  <thead>\n    <tr style=\"text-align: right;\">\n      <th></th>\n      <th>ProductName</th>\n      <th>level_1</th>\n      <th>level_2</th>\n      <th>level_3</th>\n      <th>PricePerItem</th>\n      <th>PriceMode</th>\n      <th>HasMultiBuyDeal</th>\n      <th>MultiBuyDeal</th>\n      <th>MultiBuyBasePrice</th>\n      <th>MultiBuyPrice</th>\n      <th>MultiBuyQuantity</th>\n      <th>PromoBadgeImageLabel</th>\n    </tr>\n  </thead>\n  <tbody>\n    <tr>\n      <th>0</th>\n      <td>johnsons baby lotion</td>\n      <td>Baby, Toddler &amp; Kids</td>\n      <td>Baby Care</td>\n      <td>Baby Bathing &amp; Skin Care</td>\n      <td>4.89</td>\n      <td>ea</td>\n      <td>False</td>\n      <td></td>\n      <td>4.89</td>\n      <td>NaN</td>\n      <td>NaN</td>\n      <td></td>\n    </tr>\n    <tr>\n      <th>1</th>\n      <td>johnsons baby oil</td>\n      <td>Baby, Toddler &amp; Kids</td>\n      <td>Baby Care</td>\n      <td>Baby Bathing &amp; Skin Care</td>\n      <td>4.89</td>\n      <td>ea</td>\n      <td>False</td>\n      <td></td>\n      <td>4.89</td>\n      <td>NaN</td>\n      <td>NaN</td>\n      <td></td>\n    </tr>\n    <tr>\n      <th>2</th>\n      <td>sma balanced nutrition from birth infant formula</td>\n      <td>Baby, Toddler &amp; Kids</td>\n      <td>Baby Care</td>\n      <td>Baby Formula &amp; Toddler Food</td>\n      <td>17.99</td>\n      <td>ea</td>\n      <td>False</td>\n      <td></td>\n      <td>17.99</td>\n      <td>17.99</td>\n      <td>1.0</td>\n      <td>saver</td>\n    </tr>\n    <tr>\n      <th>3</th>\n      <td>johnsons baby powder</td>\n      <td>Baby, Toddler &amp; Kids</td>\n      <td>Baby Care</td>\n      <td>Nappies &amp; Changing</td>\n      <td>2.99</td>\n      <td>ea</td>\n      <td>False</td>\n      <td></td>\n      <td>2.99</td>\n      <td>2.99</td>\n      <td>1.0</td>\n      <td>saver</td>\n    </tr>\n    <tr>\n      <th>4</th>\n      <td>johnsons baby powder</td>\n      <td>Baby, Toddler &amp; Kids</td>\n      <td>Baby Care</td>\n      <td>Nappies &amp; Changing</td>\n      <td>4.89</td>\n      <td>ea</td>\n      <td>False</td>\n      <td></td>\n      <td>4.89</td>\n      <td>NaN</td>\n      <td>NaN</td>\n      <td></td>\n    </tr>\n  </tbody>\n</table>\n</div>"
     },
     "execution_count": 5,
     "metadata": {},
     "output_type": "execute_result"
    }
   ],
   "source": [
    "df[\"PromoBadgeImageLabel\"] = [\" \".join(punctuations.sub('', z).lower().split()) if z == z else \" \" for z in\n",
    "                              df[\"PromoBadgeImageLabel\"].tolist()]\n",
    "df.head(5)"
   ],
   "metadata": {
    "collapsed": false,
    "pycharm": {
     "name": "#%%\n"
    }
   }
  },
  {
   "cell_type": "code",
   "execution_count": 6,
   "outputs": [
    {
     "data": {
      "text/plain": "                                        ProductName               level_1  \\\n0                              johnsons baby lotion  Baby, Toddler & Kids   \n1                                 johnsons baby oil  Baby, Toddler & Kids   \n2  sma balanced nutrition from birth infant formula  Baby, Toddler & Kids   \n3                              johnsons baby powder  Baby, Toddler & Kids   \n4                              johnsons baby powder  Baby, Toddler & Kids   \n\n     level_2                      level_3  PricePerItem PriceMode  \\\n0  Baby Care     Baby Bathing & Skin Care          4.89        ea   \n1  Baby Care     Baby Bathing & Skin Care          4.89        ea   \n2  Baby Care  Baby Formula & Toddler Food         17.99        ea   \n3  Baby Care           Nappies & Changing          2.99        ea   \n4  Baby Care           Nappies & Changing          4.89        ea   \n\n   HasMultiBuyDeal MultiBuyDeal  MultiBuyBasePrice  MultiBuyPrice  \\\n0            False                            4.89           0.00   \n1            False                            4.89           0.00   \n2            False                           17.99          17.99   \n3            False                            2.99           2.99   \n4            False                            4.89           0.00   \n\n   MultiBuyQuantity PromoBadgeImageLabel  \n0               0.0                       \n1               0.0                       \n2               1.0                saver  \n3               1.0                saver  \n4               0.0                       ",
      "text/html": "<div>\n<style scoped>\n    .dataframe tbody tr th:only-of-type {\n        vertical-align: middle;\n    }\n\n    .dataframe tbody tr th {\n        vertical-align: top;\n    }\n\n    .dataframe thead th {\n        text-align: right;\n    }\n</style>\n<table border=\"1\" class=\"dataframe\">\n  <thead>\n    <tr style=\"text-align: right;\">\n      <th></th>\n      <th>ProductName</th>\n      <th>level_1</th>\n      <th>level_2</th>\n      <th>level_3</th>\n      <th>PricePerItem</th>\n      <th>PriceMode</th>\n      <th>HasMultiBuyDeal</th>\n      <th>MultiBuyDeal</th>\n      <th>MultiBuyBasePrice</th>\n      <th>MultiBuyPrice</th>\n      <th>MultiBuyQuantity</th>\n      <th>PromoBadgeImageLabel</th>\n    </tr>\n  </thead>\n  <tbody>\n    <tr>\n      <th>0</th>\n      <td>johnsons baby lotion</td>\n      <td>Baby, Toddler &amp; Kids</td>\n      <td>Baby Care</td>\n      <td>Baby Bathing &amp; Skin Care</td>\n      <td>4.89</td>\n      <td>ea</td>\n      <td>False</td>\n      <td></td>\n      <td>4.89</td>\n      <td>0.00</td>\n      <td>0.0</td>\n      <td></td>\n    </tr>\n    <tr>\n      <th>1</th>\n      <td>johnsons baby oil</td>\n      <td>Baby, Toddler &amp; Kids</td>\n      <td>Baby Care</td>\n      <td>Baby Bathing &amp; Skin Care</td>\n      <td>4.89</td>\n      <td>ea</td>\n      <td>False</td>\n      <td></td>\n      <td>4.89</td>\n      <td>0.00</td>\n      <td>0.0</td>\n      <td></td>\n    </tr>\n    <tr>\n      <th>2</th>\n      <td>sma balanced nutrition from birth infant formula</td>\n      <td>Baby, Toddler &amp; Kids</td>\n      <td>Baby Care</td>\n      <td>Baby Formula &amp; Toddler Food</td>\n      <td>17.99</td>\n      <td>ea</td>\n      <td>False</td>\n      <td></td>\n      <td>17.99</td>\n      <td>17.99</td>\n      <td>1.0</td>\n      <td>saver</td>\n    </tr>\n    <tr>\n      <th>3</th>\n      <td>johnsons baby powder</td>\n      <td>Baby, Toddler &amp; Kids</td>\n      <td>Baby Care</td>\n      <td>Nappies &amp; Changing</td>\n      <td>2.99</td>\n      <td>ea</td>\n      <td>False</td>\n      <td></td>\n      <td>2.99</td>\n      <td>2.99</td>\n      <td>1.0</td>\n      <td>saver</td>\n    </tr>\n    <tr>\n      <th>4</th>\n      <td>johnsons baby powder</td>\n      <td>Baby, Toddler &amp; Kids</td>\n      <td>Baby Care</td>\n      <td>Nappies &amp; Changing</td>\n      <td>4.89</td>\n      <td>ea</td>\n      <td>False</td>\n      <td></td>\n      <td>4.89</td>\n      <td>0.00</td>\n      <td>0.0</td>\n      <td></td>\n    </tr>\n  </tbody>\n</table>\n</div>"
     },
     "execution_count": 6,
     "metadata": {},
     "output_type": "execute_result"
    }
   ],
   "source": [
    "df[\"MultiBuyPrice\"].fillna(0, inplace=True)\n",
    "df[\"MultiBuyQuantity\"].fillna(0, inplace=True)\n",
    "df.head(5)"
   ],
   "metadata": {
    "collapsed": false,
    "pycharm": {
     "name": "#%%\n"
    }
   }
  },
  {
   "cell_type": "code",
   "execution_count": 7,
   "outputs": [
    {
     "data": {
      "text/plain": "<BarContainer object of 449 artists>"
     },
     "execution_count": 7,
     "metadata": {},
     "output_type": "execute_result"
    },
    {
     "data": {
      "text/plain": "<Figure size 432x288 with 1 Axes>",
      "image/png": "[encoded data removed]"
     },
     "metadata": {
      "needs_background": "light"
     },
     "output_type": "display_data"
    }
   ],
   "source": [
    "typesa = df.value_counts(columns[1:4])\n",
    "plot.bar([a for a in range(typesa.size)], typesa)"
   ],
   "metadata": {
    "collapsed": false,
    "pycharm": {
     "name": "#%%\n"
    }
   }
  },
  {
   "cell_type": "code",
   "execution_count": 8,
   "outputs": [
    {
     "data": {
      "text/plain": "<BarContainer object of 43 artists>"
     },
     "execution_count": 8,
     "metadata": {},
     "output_type": "execute_result"
    },
    {
     "data": {
      "text/plain": "<Figure size 432x288 with 1 Axes>",
      "image/png": "[encoded data removed]"
     },
     "metadata": {
      "needs_background": "light"
     },
     "output_type": "display_data"
    }
   ],
   "source": [
    "typesb = df.value_counts(columns[1:3])\n",
    "plot.bar([a for a in range(typesb.size)], typesb)"
   ],
   "metadata": {
    "collapsed": false,
    "pycharm": {
     "name": "#%%\n"
    }
   }
  },
  {
   "cell_type": "code",
   "execution_count": 9,
   "outputs": [
    {
     "data": {
      "text/plain": "level_1                    \nPantry                         4740\nPersonal Care                  1778\nFresh Foods & Bakery           1721\nChilled, Frozen & Desserts     1426\nBeer, Cider & Wine             1232\nKitchen, Dining & Household    1182\nDrinks                         1063\nPets                            512\nMeal Spot                       456\nBaby, Toddler & Kids            354\nFeatured                        121\ndtype: int64"
     },
     "execution_count": 9,
     "metadata": {},
     "output_type": "execute_result"
    }
   ],
   "source": [
    "typesc = df.value_counts(columns[1:2])\n",
    "typesc"
   ],
   "metadata": {
    "collapsed": false,
    "pycharm": {
     "name": "#%%\n"
    }
   }
  },
  {
   "cell_type": "code",
   "execution_count": 10,
   "outputs": [
    {
     "data": {
      "text/plain": "                                        ProductName               level_1  \\\n0                              johnsons baby lotion  Baby, Toddler & Kids   \n1                                 johnsons baby oil  Baby, Toddler & Kids   \n2  sma balanced nutrition from birth infant formula  Baby, Toddler & Kids   \n3                              johnsons baby powder  Baby, Toddler & Kids   \n4                              johnsons baby powder  Baby, Toddler & Kids   \n\n     level_2                      level_3  PricePerItem PriceMode  \\\n0  Baby Care     Baby Bathing & Skin Care          4.89        ea   \n1  Baby Care     Baby Bathing & Skin Care          4.89        ea   \n2  Baby Care  Baby Formula & Toddler Food         17.99        ea   \n3  Baby Care           Nappies & Changing          2.99        ea   \n4  Baby Care           Nappies & Changing          4.89        ea   \n\n   HasMultiBuyDeal MultiBuyDeal  MultiBuyBasePrice  MultiBuyPrice  \\\n0            False                            4.89           0.00   \n1            False                            4.89           0.00   \n2            False                           17.99          17.99   \n3            False                            2.99           2.99   \n4            False                            4.89           0.00   \n\n   MultiBuyQuantity PromoBadgeImageLabel  \n0               0.0                       \n1               0.0                       \n2               1.0                saver  \n3               1.0                saver  \n4               0.0                       ",
      "text/html": "<div>\n<style scoped>\n    .dataframe tbody tr th:only-of-type {\n        vertical-align: middle;\n    }\n\n    .dataframe tbody tr th {\n        vertical-align: top;\n    }\n\n    .dataframe thead th {\n        text-align: right;\n    }\n</style>\n<table border=\"1\" class=\"dataframe\">\n  <thead>\n    <tr style=\"text-align: right;\">\n      <th></th>\n      <th>ProductName</th>\n      <th>level_1</th>\n      <th>level_2</th>\n      <th>level_3</th>\n      <th>PricePerItem</th>\n      <th>PriceMode</th>\n      <th>HasMultiBuyDeal</th>\n      <th>MultiBuyDeal</th>\n      <th>MultiBuyBasePrice</th>\n      <th>MultiBuyPrice</th>\n      <th>MultiBuyQuantity</th>\n      <th>PromoBadgeImageLabel</th>\n    </tr>\n  </thead>\n  <tbody>\n    <tr>\n      <th>0</th>\n      <td>johnsons baby lotion</td>\n      <td>Baby, Toddler &amp; Kids</td>\n      <td>Baby Care</td>\n      <td>Baby Bathing &amp; Skin Care</td>\n      <td>4.89</td>\n      <td>ea</td>\n      <td>False</td>\n      <td></td>\n      <td>4.89</td>\n      <td>0.00</td>\n      <td>0.0</td>\n      <td></td>\n    </tr>\n    <tr>\n      <th>1</th>\n      <td>johnsons baby oil</td>\n      <td>Baby, Toddler &amp; Kids</td>\n      <td>Baby Care</td>\n      <td>Baby Bathing &amp; Skin Care</td>\n      <td>4.89</td>\n      <td>ea</td>\n      <td>False</td>\n      <td></td>\n      <td>4.89</td>\n      <td>0.00</td>\n      <td>0.0</td>\n      <td></td>\n    </tr>\n    <tr>\n      <th>2</th>\n      <td>sma balanced nutrition from birth infant formula</td>\n      <td>Baby, Toddler &amp; Kids</td>\n      <td>Baby Care</td>\n      <td>Baby Formula &amp; Toddler Food</td>\n      <td>17.99</td>\n      <td>ea</td>\n      <td>False</td>\n      <td></td>\n      <td>17.99</td>\n      <td>17.99</td>\n      <td>1.0</td>\n      <td>saver</td>\n    </tr>\n    <tr>\n      <th>3</th>\n      <td>johnsons baby powder</td>\n      <td>Baby, Toddler &amp; Kids</td>\n      <td>Baby Care</td>\n      <td>Nappies &amp; Changing</td>\n      <td>2.99</td>\n      <td>ea</td>\n      <td>False</td>\n      <td></td>\n      <td>2.99</td>\n      <td>2.99</td>\n      <td>1.0</td>\n      <td>saver</td>\n    </tr>\n    <tr>\n      <th>4</th>\n      <td>johnsons baby powder</td>\n      <td>Baby, Toddler &amp; Kids</td>\n      <td>Baby Care</td>\n      <td>Nappies &amp; Changing</td>\n      <td>4.89</td>\n      <td>ea</td>\n      <td>False</td>\n      <td></td>\n      <td>4.89</td>\n      <td>0.00</td>\n      <td>0.0</td>\n      <td></td>\n    </tr>\n  </tbody>\n</table>\n</div>"
     },
     "execution_count": 10,
     "metadata": {},
     "output_type": "execute_result"
    }
   ],
   "source": [
    "df = df[df[\"level_1\"] != \"Featured\"]\n",
    "df.head(5)"
   ],
   "metadata": {
    "collapsed": false,
    "pycharm": {
     "name": "#%%\n"
    }
   }
  },
  {
   "cell_type": "code",
   "execution_count": 11,
   "outputs": [
    {
     "data": {
      "text/plain": "(array([1.974e+03, 4.555e+03, 3.223e+03, 1.367e+03, 9.790e+02, 5.380e+02,\n        5.470e+02, 1.890e+02, 2.290e+02, 1.670e+02, 1.250e+02, 7.600e+01,\n        2.800e+01, 2.000e+01, 2.800e+01, 1.200e+01, 2.200e+01, 6.000e+00,\n        1.200e+01, 1.000e+00, 1.200e+01, 0.000e+00, 2.000e+00, 0.000e+00,\n        1.000e+00, 0.000e+00, 0.000e+00, 0.000e+00, 2.000e+00, 0.000e+00,\n        1.000e+00, 0.000e+00, 0.000e+00, 2.000e+00, 0.000e+00, 1.000e+00,\n        0.000e+00, 1.000e+00, 0.000e+00, 1.000e+00, 0.000e+00, 2.000e+00,\n        0.000e+00, 0.000e+00, 0.000e+00, 0.000e+00, 0.000e+00, 0.000e+00,\n        0.000e+00, 1.000e+00]),\n array([  0.15  ,   2.5668,   4.9836,   7.4004,   9.8172,  12.234 ,\n         14.6508,  17.0676,  19.4844,  21.9012,  24.318 ,  26.7348,\n         29.1516,  31.5684,  33.9852,  36.402 ,  38.8188,  41.2356,\n         43.6524,  46.0692,  48.486 ,  50.9028,  53.3196,  55.7364,\n         58.1532,  60.57  ,  62.9868,  65.4036,  67.8204,  70.2372,\n         72.654 ,  75.0708,  77.4876,  79.9044,  82.3212,  84.738 ,\n         87.1548,  89.5716,  91.9884,  94.4052,  96.822 ,  99.2388,\n        101.6556, 104.0724, 106.4892, 108.906 , 111.3228, 113.7396,\n        116.1564, 118.5732, 120.99  ]),\n <BarContainer object of 50 artists>)"
     },
     "execution_count": 11,
     "metadata": {},
     "output_type": "execute_result"
    },
    {
     "data": {
      "text/plain": "<Figure size 432x288 with 1 Axes>",
      "image/png": "[encoded data removed]"
     },
     "metadata": {
      "needs_background": "light"
     },
     "output_type": "display_data"
    }
   ],
   "source": [
    "dfea = df[df[\"PriceMode\"] == \"ea\"]\n",
    "plot.hist(dfea[\"PricePerItem\"].tolist(), bins=50)"
   ],
   "metadata": {
    "collapsed": false,
    "pycharm": {
     "name": "#%%\n"
    }
   }
  },
  {
   "cell_type": "code",
   "execution_count": 12,
   "outputs": [
    {
     "data": {
      "text/plain": "(array([13., 21., 25., 13., 22., 30., 33.,  9., 41., 19., 45., 11.,  9.,\n        14.,  9.,  1.,  3.,  3.,  7.,  2.,  2.,  1.,  0.,  1.,  0.,  0.,\n         1.,  0.,  0.,  0.,  1.,  2.,  0.,  0.,  0.,  0.,  0.,  0.,  1.,\n         0.,  0.,  0.,  0.,  0.,  0.,  0.,  0.,  0.,  0.,  1.]),\n array([  2.29  ,   4.8422,   7.3944,   9.9466,  12.4988,  15.051 ,\n         17.6032,  20.1554,  22.7076,  25.2598,  27.812 ,  30.3642,\n         32.9164,  35.4686,  38.0208,  40.573 ,  43.1252,  45.6774,\n         48.2296,  50.7818,  53.334 ,  55.8862,  58.4384,  60.9906,\n         63.5428,  66.095 ,  68.6472,  71.1994,  73.7516,  76.3038,\n         78.856 ,  81.4082,  83.9604,  86.5126,  89.0648,  91.617 ,\n         94.1692,  96.7214,  99.2736, 101.8258, 104.378 , 106.9302,\n        109.4824, 112.0346, 114.5868, 117.139 , 119.6912, 122.2434,\n        124.7956, 127.3478, 129.9   ]),\n <BarContainer object of 50 artists>)"
     },
     "execution_count": 12,
     "metadata": {},
     "output_type": "execute_result"
    },
    {
     "data": {
      "text/plain": "<Figure size 432x288 with 1 Axes>",
      "image/png": "[encoded data removed]"
     },
     "metadata": {
      "needs_background": "light"
     },
     "output_type": "display_data"
    }
   ],
   "source": [
    "dfkg = df[df[\"PriceMode\"] == \"kg\"]\n",
    "plot.hist(dfkg[\"PricePerItem\"].tolist(), bins=50)"
   ],
   "metadata": {
    "collapsed": false,
    "pycharm": {
     "name": "#%%\n"
    }
   }
  },
  {
   "cell_type": "code",
   "execution_count": 13,
   "outputs": [
    {
     "data": {
      "text/plain": "                                        ProductName               level_1  \\\n0                              johnsons baby lotion  Baby, Toddler & Kids   \n1                                 johnsons baby oil  Baby, Toddler & Kids   \n2  sma balanced nutrition from birth infant formula  Baby, Toddler & Kids   \n3                              johnsons baby powder  Baby, Toddler & Kids   \n4                              johnsons baby powder  Baby, Toddler & Kids   \n\n     level_2                      level_3  PricePerItem PriceMode  \\\n0  Baby Care     Baby Bathing & Skin Care             5        ea   \n1  Baby Care     Baby Bathing & Skin Care             5        ea   \n2  Baby Care  Baby Formula & Toddler Food            20        ea   \n3  Baby Care           Nappies & Changing             5        ea   \n4  Baby Care           Nappies & Changing             5        ea   \n\n   HasMultiBuyDeal MultiBuyDeal  MultiBuyBasePrice  MultiBuyPrice  \\\n0            False                               5              0   \n1            False                               5              0   \n2            False                              20             20   \n3            False                               5              5   \n4            False                               5              0   \n\n   MultiBuyQuantity PromoBadgeImageLabel  \n0                 0                       \n1                 0                       \n2                 1                saver  \n3                 1                saver  \n4                 0                       ",
      "text/html": "<div>\n<style scoped>\n    .dataframe tbody tr th:only-of-type {\n        vertical-align: middle;\n    }\n\n    .dataframe tbody tr th {\n        vertical-align: top;\n    }\n\n    .dataframe thead th {\n        text-align: right;\n    }\n</style>\n<table border=\"1\" class=\"dataframe\">\n  <thead>\n    <tr style=\"text-align: right;\">\n      <th></th>\n      <th>ProductName</th>\n      <th>level_1</th>\n      <th>level_2</th>\n      <th>level_3</th>\n      <th>PricePerItem</th>\n      <th>PriceMode</th>\n      <th>HasMultiBuyDeal</th>\n      <th>MultiBuyDeal</th>\n      <th>MultiBuyBasePrice</th>\n      <th>MultiBuyPrice</th>\n      <th>MultiBuyQuantity</th>\n      <th>PromoBadgeImageLabel</th>\n    </tr>\n  </thead>\n  <tbody>\n    <tr>\n      <th>0</th>\n      <td>johnsons baby lotion</td>\n      <td>Baby, Toddler &amp; Kids</td>\n      <td>Baby Care</td>\n      <td>Baby Bathing &amp; Skin Care</td>\n      <td>5</td>\n      <td>ea</td>\n      <td>False</td>\n      <td></td>\n      <td>5</td>\n      <td>0</td>\n      <td>0</td>\n      <td></td>\n    </tr>\n    <tr>\n      <th>1</th>\n      <td>johnsons baby oil</td>\n      <td>Baby, Toddler &amp; Kids</td>\n      <td>Baby Care</td>\n      <td>Baby Bathing &amp; Skin Care</td>\n      <td>5</td>\n      <td>ea</td>\n      <td>False</td>\n      <td></td>\n      <td>5</td>\n      <td>0</td>\n      <td>0</td>\n      <td></td>\n    </tr>\n    <tr>\n      <th>2</th>\n      <td>sma balanced nutrition from birth infant formula</td>\n      <td>Baby, Toddler &amp; Kids</td>\n      <td>Baby Care</td>\n      <td>Baby Formula &amp; Toddler Food</td>\n      <td>20</td>\n      <td>ea</td>\n      <td>False</td>\n      <td></td>\n      <td>20</td>\n      <td>20</td>\n      <td>1</td>\n      <td>saver</td>\n    </tr>\n    <tr>\n      <th>3</th>\n      <td>johnsons baby powder</td>\n      <td>Baby, Toddler &amp; Kids</td>\n      <td>Baby Care</td>\n      <td>Nappies &amp; Changing</td>\n      <td>5</td>\n      <td>ea</td>\n      <td>False</td>\n      <td></td>\n      <td>5</td>\n      <td>5</td>\n      <td>1</td>\n      <td>saver</td>\n    </tr>\n    <tr>\n      <th>4</th>\n      <td>johnsons baby powder</td>\n      <td>Baby, Toddler &amp; Kids</td>\n      <td>Baby Care</td>\n      <td>Nappies &amp; Changing</td>\n      <td>5</td>\n      <td>ea</td>\n      <td>False</td>\n      <td></td>\n      <td>5</td>\n      <td>0</td>\n      <td>0</td>\n      <td></td>\n    </tr>\n  </tbody>\n</table>\n</div>"
     },
     "execution_count": 13,
     "metadata": {},
     "output_type": "execute_result"
    }
   ],
   "source": [
    "df[\"PricePerItem\"] = [round(p / 5) * 5 for p in df[\"PricePerItem\"].tolist()]\n",
    "df[\"MultiBuyPrice\"] = [round(p / 5) * 5 for p in df[\"MultiBuyPrice\"].tolist()]\n",
    "df[\"MultiBuyBasePrice\"] = [round(p / 5) * 5 for p in df[\"MultiBuyBasePrice\"].tolist()]\n",
    "df[\"MultiBuyQuantity\"] = [int(q) for q in df[\"MultiBuyQuantity\"].tolist()]\n",
    "df.head(5)"
   ],
   "metadata": {
    "collapsed": false,
    "pycharm": {
     "name": "#%%\n"
    }
   }
  },
  {
   "cell_type": "code",
   "execution_count": 14,
   "outputs": [
    {
     "data": {
      "text/plain": "<BarContainer object of 429 artists>"
     },
     "execution_count": 14,
     "metadata": {},
     "output_type": "execute_result"
    },
    {
     "data": {
      "text/plain": "<Figure size 432x288 with 1 Axes>",
      "image/png": "[encoded data removed]"
     },
     "metadata": {
      "needs_background": "light"
     },
     "output_type": "display_data"
    }
   ],
   "source": [
    "types = []\n",
    "countt = []\n",
    "countf = []\n",
    "levela = df[\"level_1\"].tolist()\n",
    "levelb = df[\"level_2\"].tolist()\n",
    "levelc = df[\"level_3\"].tolist()\n",
    "state = df[\"HasMultiBuyDeal\"].tolist()\n",
    "labels = [\";\".join([levela[i], levelb[i], levelc[i]]) for i in range(len(levela))]\n",
    "for i in range(len(labels)):\n",
    "    if labels[i] in types:\n",
    "        if state[i]:\n",
    "            countt[types.index(labels[i])] += 1\n",
    "        else:\n",
    "            countf[types.index(labels[i])] += 1\n",
    "    else:\n",
    "        types.append(labels[i])\n",
    "        countt.append(0)\n",
    "        countf.append(0)\n",
    "plot.bar([a for a in range(len(types))], countt)\n",
    "plot.bar([a for a in range(len(types))], countf, bottom=countt)"
   ],
   "metadata": {
    "collapsed": false,
    "pycharm": {
     "name": "#%%\n"
    }
   }
  },
  {
   "cell_type": "code",
   "execution_count": 15,
   "outputs": [
    {
     "data": {
      "text/plain": "<BarContainer object of 429 artists>"
     },
     "execution_count": 15,
     "metadata": {},
     "output_type": "execute_result"
    },
    {
     "data": {
      "text/plain": "<Figure size 432x288 with 1 Axes>",
      "image/png": "[encoded data removed]"
     },
     "metadata": {
      "needs_background": "light"
     },
     "output_type": "display_data"
    }
   ],
   "source": [
    "types = []\n",
    "countt = []\n",
    "countf = []\n",
    "levela = df[\"level_1\"].tolist()\n",
    "levelb = df[\"level_2\"].tolist()\n",
    "simple = [\";\".join([levela[i], levelb[i]]) for i in range(len(levela))]\n",
    "state = df[\"PromoBadgeImageLabel\"].tolist()\n",
    "for i in range(len(labels)):\n",
    "    if labels[i] in types:\n",
    "        if state[i]:\n",
    "            countt[types.index(labels[i])] += 1\n",
    "        else:\n",
    "            countf[types.index(labels[i])] += 1\n",
    "    else:\n",
    "        types.append(labels[i])\n",
    "        countt.append(0)\n",
    "        countf.append(0)\n",
    "plot.bar([a for a in range(len(types))], countt)\n",
    "plot.bar([a for a in range(len(types))], countf, bottom=countt)"
   ],
   "metadata": {
    "collapsed": false,
    "pycharm": {
     "name": "#%%\n"
    }
   }
  },
  {
   "cell_type": "code",
   "execution_count": 16,
   "outputs": [],
   "source": [
    "def evaluation(predictions, labels, id2label, model_name=None):\n",
    "    acc = accuracy_score(labels, predictions)\n",
    "    recall = recall_score(labels, predictions, average=\"macro\")\n",
    "    f1 = f1_score(labels, predictions, average=\"macro\")\n",
    "    report = classification_report(labels, predictions, target_names=[id2label[i] for i in range(len(id2label))],\n",
    "                                   labels=labels)\n",
    "    info = \"acc:%s, recall:%s, f1 score:%s\" % (acc, recall, f1)\n",
    "    if model_name is not None:\n",
    "        info = \"%s: %s\" % (model_name, info)\n",
    "    print(info)\n",
    "    print(report)"
   ],
   "metadata": {
    "collapsed": false,
    "pycharm": {
     "name": "#%%\n"
    }
   }
  },
  {
   "cell_type": "code",
   "execution_count": 17,
   "outputs": [
    {
     "name": "stdout",
     "output_type": "stream",
     "text": [
      "data len: 14464\n",
      "id2label {0: 'Chilled, Frozen & Desserts;Dairy & Eggs;Flavoured Milk', 1: 'Pantry;Hot Drinks;Fruit & Herbal Teas', 2: 'Meal Spot;Ready to Heat;Chilled Soups', 3: 'Pantry;Pasta, Rice & Noodles;Dried Pastas', 4: 'Fresh Foods & Bakery;Bakery;Fresh Biscuits & Slices', 5: 'Pantry;Snack Foods;Vege Snacks', 6: 'Pantry;Confectionery;Liquorice', 7: 'Fresh Foods & Bakery;Bakery;Garlic & Herb Breads', 8: 'Meal Spot;Ready to Heat;Packet Soup', 9: 'Pantry;Sauces, Stock & Marinades;Tartare & Seafood Sauces', 10: 'Pantry;Canned & Prepared Foods;Baked Beans & Spaghetti', 11: 'Kitchen, Dining & Household;Household;Kitchenware', 12: 'Pantry;Canned & Prepared Foods;Ready Meals', 13: 'Personal Care;Health & Wellness;Pain Relief', 14: 'Pantry;Condiments & Dressings;Mustards', 15: 'Pantry;Hot Drinks;Fresh Coffees', 16: 'Pantry;Spices & Seasonings;Dried Herbs', 17: 'Pantry;Sauces, Stock & Marinades;Pasta Sauces', 18: 'Drinks;Cold Drinks;Sports & Energy Drinks', 19: 'Pantry;Sauces, Stock & Marinades;Curry Pastes & Sauces', 20: 'Kitchen, Dining & Household;Garage & Outdoor;Hooks', 21: 'Baby, Toddler & Kids;Baby Care;Baby Wipes', 22: 'Pantry;Biscuits & Crackers;Rice Cakes', 23: 'Fresh Foods & Bakery;Fruit & Vegetables;Salad Bags', 24: 'Pantry;Breakfast Cereals;Flake/Fibre Cereals', 25: 'Pantry;Canned & Prepared Foods;Syrups & Sauces', 26: 'Fresh Foods & Bakery;Seafood;Fresh Whole Fish', 27: 'Fresh Foods & Bakery;Dairy & Eggs;Dairy & Lactose Free', 28: 'Pantry;Spices & Seasonings;Freshly Ground Herbs', 29: 'Pantry;Sauces, Stock & Marinades;Packet Sauces', 30: 'Meal Spot;Ready to Cook;Noodle Meals', 31: 'Pantry;World Foods;Japanese', 32: 'Personal Care;Health & Wellness;Foot Care', 33: 'Pantry;World Foods;Mexican', 34: 'Fresh Foods & Bakery;Bakery;Organic & Gluten Free', 35: 'Pantry;Jams, Honey & Spreads;Jam & Marmalade', 36: 'Pantry;Pasta, Rice & Noodles;Noodle Meals', 37: 'Personal Care;Beauty & Grooming;Hair Colouring', 38: 'Kitchen, Dining & Household;Cleaning Products;All Purpose Cleaners', 39: 'Pantry;Canned & Prepared Foods;Canned & Dried Vegetables', 40: 'Pantry;Salad & Cooking Oils;Olive Oils', 41: 'Pantry;Sauces, Stock & Marinades;Gravies', 42: 'Pantry;World Foods;Indian', 43: 'Fresh Foods & Bakery;Bakery;Fresh Cakes & Muffins', 44: 'Pantry;World Foods;Chinese', 45: 'Pets;Pet Supplies;Dog Treats', 46: 'Pantry;Hot Drinks;Instant Coffees', 47: 'Pantry;Pasta, Rice & Noodles;Jasmine Rices', 48: 'Drinks;Cold Drinks;Milk Drink Mixes', 49: 'Fresh Foods & Bakery;Seafood;Fresh Shellfish', 50: 'Beer, Cider & Wine;Beer & Cider;Wheat & Other Grain Beer', 51: 'Beer, Cider & Wine;Wine;Sauvignon Blanc', 52: 'Baby, Toddler & Kids;Baby Care;Nappies & Changing', 53: 'Chilled, Frozen & Desserts;Cheese;Deli Cabinet Cheeses', 54: 'Pantry;Canned & Prepared Foods;Canned Milk & Cream', 55: 'Baby, Toddler & Kids;Baby Care;Baby Dental Care', 56: 'Beer, Cider & Wine;Wine;Chardonnay', 57: 'Beer, Cider & Wine;Beer & Cider;British-style Ale', 58: 'Pantry;Baking Supplies & Sugar;Baking Nuts & Seeds', 59: 'Fresh Foods & Bakery;Deli, Salads & Cooked Meats;Dips, Pesto & Pate', 60: 'Pantry;Jams, Honey & Spreads;Nut Spreads', 61: 'Chilled, Frozen & Desserts;Desserts;Canned Desserts', 62: 'Meal Spot;Ready to Cook;Mexican', 63: 'Chilled, Frozen & Desserts;Frozen Foods;Frozen Pies', 64: 'Fresh Foods & Bakery;Bulk & Loose Foods;Bulk Seeds, Legumes & Grains', 65: 'Pantry;Hot Drinks;Black Teas', 66: 'Fresh Foods & Bakery;Deli, Salads & Cooked Meats;PreCooked Chicken & Poultry', 67: 'Pantry;Snack Foods;Snack Mixes', 68: 'Kitchen, Dining & Household;Cleaning Products;Cleaning Accessories', 69: 'Beer, Cider & Wine;Wine;Cabernet', 70: 'Kitchen, Dining & Household;Laundry;Laundry Supplies', 71: 'Fresh Foods & Bakery;Dairy & Eggs;Fresh Cream', 72: 'Fresh Foods & Bakery;Butchery;PreCooked Sausages', 73: 'Kitchen, Dining & Household;Household;Disposable Tableware', 74: 'Beer, Cider & Wine;Wine;Pinot Gris', 75: 'Chilled, Frozen & Desserts;Frozen Foods;Frozen Fish', 76: 'Kitchen, Dining & Household;Garage & Outdoor;Hardware & Tools', 77: 'Kitchen, Dining & Household;Cleaning Products;Furniture & Metal Polishes', 78: 'Pets;Pet Supplies;Pet Treatments', 79: 'Fresh Foods & Bakery;Deli, Salads & Cooked Meats;PreCooked Beef & Lamb', 80: 'Personal Care;Health & Wellness;Sanitary Protection', 81: 'Pets;Pet Supplies;Dog Food', 82: 'Drinks;Cold Drinks;Powdered Drinks', 83: 'Meal Spot;Ready to Heat;Frozen Pizza & Bases', 84: 'Pantry;Sauces, Stock & Marinades;Chilled Pasta Sauces', 85: 'Drinks;Hot Drinks;Black Teas', 86: 'Beer, Cider & Wine;Wine;Other Red Wine', 87: 'Kitchen, Dining & Household;Household;Manchester', 88: 'Pantry;Baking Supplies & Sugar;Flour', 89: 'Fresh Foods & Bakery;Deli, Salads & Cooked Meats;Hummus', 90: 'Pantry;Jams, Honey & Spreads;Honey', 91: 'Chilled, Frozen & Desserts;Dairy & Eggs;Yoghurt & Dairy Food', 92: 'Pantry;Hot Drinks;Coffee Substitutes', 93: 'Kitchen, Dining & Household;Laundry;Laundry Powders', 94: 'Pantry;Baking Supplies & Sugar;Baking Additives', 95: 'Personal Care;Health & Wellness;Cough, Cold & Flu', 96: 'Pantry;Salad & Cooking Oils;Rice Bran Oils', 97: 'Fresh Foods & Bakery;Bakery;Sliced Bread', 98: 'Chilled, Frozen & Desserts;Frozen Foods;Frozen Fruit', 99: 'Kitchen, Dining & Household;Cleaning Products;Bathroom & Shower Cleaners', 100: 'Pantry;Baking Supplies & Sugar;Dried Fruit', 101: 'Meal Spot;Ready to Eat;Fresh Salads', 102: 'Fresh Foods & Bakery;Dairy & Eggs;Eggs', 103: 'Kitchen, Dining & Household;Laundry;Laundry Liquid & Capsules', 104: 'Fresh Foods & Bakery;Dairy & Eggs;Flavoured Milk', 105: 'Pantry;Biscuits & Crackers;Crème & Jam Biscuits', 106: 'Beer, Cider & Wine;Beer & Cider;Pilsner', 107: 'Fresh Foods & Bakery;Butchery;PrePacked Beef & Lamb', 108: 'Beer, Cider & Wine;Beer & Cider;Fruit & Flavoured Cider', 109: 'Pets;Pet Supplies;Cat Treats', 110: 'Chilled, Frozen & Desserts;Desserts;Ice Cream & Frozen Yoghurt', 111: 'Beer, Cider & Wine;Beer & Cider;Specialty & Flavoured Beer', 112: 'Pantry;Pasta, Rice & Noodles;Instant Rices', 113: 'Kitchen, Dining & Household;Household;Batteries & Light Bulbs', 114: 'Pantry;Pasta, Rice & Noodles;Fresh Pastas', 115: 'Pantry;Salad & Cooking Oils;Avocado Oils', 116: 'Pantry;Hot Drinks;Malt Milk Drink Mixes', 117: 'Fresh Foods & Bakery;Bakery;Wraps & Pita Breads', 118: 'Pantry;Baking Supplies & Sugar;Cooking Chocolate', 119: 'Meal Spot;Ready to Eat;Fresh Deli Savouries', 120: 'Pantry;Snack Foods;Dips & Salsas', 121: 'Pantry;Baking Supplies & Sugar;Baking Mixes', 122: 'Pantry;Sauces, Stock & Marinades;Marinades', 123: 'Drinks;Cold Drinks;Non Dairy Milks', 124: 'Chilled, Frozen & Desserts;Desserts;Chilled Custards', 125: 'Pantry;Spices & Seasonings;Chilli & Paprika', 126: 'Pets;Pet Supplies;Cat Accessories', 127: 'Pantry;Biscuits & Crackers;Crackers', 128: 'Drinks;Cold Drinks;Fruit Drinks & Juices', 129: 'Pantry;Condiments & Dressings;Aioli', 130: 'Pantry;Baking Supplies & Sugar;Sugar', 131: 'Pantry;Spices & Seasonings;Salt & Pepper', 132: 'Personal Care;Beauty & Grooming;Hair Care & Treatments', 133: 'Pantry;Canned & Prepared Foods;Canned Soup', 134: 'Kitchen, Dining & Household;Household;Food Wraps & Bags', 135: 'Pantry;Baking Supplies & Sugar;Sugar Substitutes', 136: 'Drinks;Hot Drinks;Chai Teas', 137: 'Kitchen, Dining & Household;Garage & Outdoor;BBQ', 138: 'Fresh Foods & Bakery;Butchery;PrePacked Chicken & Poultry', 139: 'Pantry;Condiments & Dressings;Chilli & Pepper Sauces', 140: 'Kitchen, Dining & Household;Household;Tissues & Toilet Paper', 141: 'Kitchen, Dining & Household;Household;Homeware', 142: 'Pantry;World Foods;USA', 143: 'Pantry;Salad & Cooking Oils;Vegetable Oils', 144: 'Beer, Cider & Wine;Beer & Cider;Lighter Alcohol Beers', 145: 'Fresh Foods & Bakery;Dairy & Eggs;Yoghurt & Dairy Food', 146: 'Pets;Pet Supplies;Pet Accessories', 147: 'Pantry;Salad & Cooking Oils;Nut & Seed Oils', 148: 'Kitchen, Dining & Household;Laundry;Washing Machine Cleaners', 149: 'Fresh Foods & Bakery;Fruit & Vegetables;Fresh Vegetables', 150: 'Beer, Cider & Wine;Wine;Pinot Noir', 151: 'Chilled, Frozen & Desserts;Frozen Foods;Frozen Ready Meals', 152: 'Fresh Foods & Bakery;Bakery;Fresh Breads & Rolls', 153: 'Pantry;Salad & Cooking Oils;Cooking Fat', 154: 'Beer, Cider & Wine;Wine;Shiraz', 155: 'Kitchen, Dining & Household;Household;Air Fresheners & Deodorisers', 156: 'Kitchen, Dining & Household;Laundry;Fabric Softeners', 157: 'Pantry;Sauces, Stock & Marinades;Tomato Sauces', 158: 'Pantry;World Foods;Other Countries', 159: 'Fresh Foods & Bakery;Bakery;Pies & Pastries', 160: 'Chilled, Frozen & Desserts;Cheese;Cheese Slices', 161: 'Personal Care;Health & Wellness;First Aid', 162: 'Drinks;Cold Drinks;Drinking Yoghurt & Smoothies', 163: 'Fresh Foods & Bakery;Bakery;Bread Rolls & Buns', 164: 'Pantry;Biscuits & Crackers;Gourmet Biscuits & Crackers', 165: 'Pantry;Confectionery;Chocolate Blocks', 166: 'Drinks;Hot Drinks;Coffee Substitutes', 167: 'Drinks;Hot Drinks;Coffee Capsules', 168: 'Drinks;Cold Drinks;Chilled Fruit Juices', 169: 'Fresh Foods & Bakery;Dairy & Eggs;Sour Cream & Crème Fraiche', 170: 'Fresh Foods & Bakery;Dairy & Eggs;Fresh Milk', 171: 'Fresh Foods & Bakery;Butchery;Fresh Beef & Lamb', 172: 'Pets;Pet Supplies;Fish & Aquatic Pet Supplies', 173: 'Chilled, Frozen & Desserts;Desserts;Frozen Bavarians & Cheesecake', 174: 'Fresh Foods & Bakery;Deli, Salads & Cooked Meats;Olives & Antipasti Mixes', 175: 'Kitchen, Dining & Household;Cleaning Products;Dishwashing Liquid', 176: 'Pantry;Jams, Honey & Spreads;Sweet Spreads', 177: 'Chilled, Frozen & Desserts;Dairy & Eggs;Yoghurt Bases', 178: 'Baby, Toddler & Kids;Baby Care;Baby Bathing & Skin Care', 179: 'Fresh Foods & Bakery;Butchery;Fresh Sausages', 180: 'Kitchen, Dining & Household;Stationery & Entertainment;Newspapers', 181: 'Fresh Foods & Bakery;Deli, Salads & Cooked Meats;Specialty Dry Goods', 182: 'Fresh Foods & Bakery;Deli, Salads & Cooked Meats;Chilled Pies & Pastries', 183: 'Fresh Foods & Bakery;Bakery;Biscuits & Slices', 184: 'Pantry;Canned & Prepared Foods;Canned Fruit', 185: 'Personal Care;Beauty & Grooming;Hand & Body Care', 186: 'Pantry;Biscuits & Crackers;Rice Crackers', 187: 'Pantry;Canned & Prepared Foods;Vegetarian', 188: 'Pantry;Confectionery;Christmas', 189: 'Pantry;Condiments & Dressings;Mint Sauces', 190: 'Beer, Cider & Wine;Beer & Cider;American-style Ale', 191: 'Chilled, Frozen & Desserts;Cheese;Deli Specialty Cheeses', 192: 'Meal Spot;Ready to Heat;Frozen Ready Meals', 193: 'Pantry;Hot Drinks;Coffee Additives & Filters', 194: 'Beer, Cider & Wine;Beer & Cider;Stout, Porter & Black Beer', 195: 'Kitchen, Dining & Household;Household;Party Supplies', 196: 'Kitchen, Dining & Household;Household;Rubbish & Vacuum Bags', 197: 'Pantry;Biscuits & Crackers;Assorted Biscuits & Crackers', 198: 'Chilled, Frozen & Desserts;Cheese;Deli Cheeseboards', 199: 'Beer, Cider & Wine;Beer & Cider;European-style Ale', 200: 'Fresh Foods & Bakery;Bulk & Loose Foods;Bulk Dried Fruit', 201: 'Beer, Cider & Wine;Beer & Cider;Spirits', 202: 'Chilled, Frozen & Desserts;Frozen Foods;Frozen Pastry', 203: 'Drinks;Hot Drinks;Coffee Additives & Filters', 204: 'Meal Spot;Ready to Heat;Pizza & Pizza Bases', 205: 'Pantry;Snack Foods;Muesli Bars', 206: 'Pantry;World Foods;Korean', 207: 'Chilled, Frozen & Desserts;Cheese;Cottage Cheese', 208: 'Pantry;Pasta, Rice & Noodles;Rice Meals', 209: 'Chilled, Frozen & Desserts;Desserts;Meringues & Pavlovas', 210: 'Chilled, Frozen & Desserts;Desserts;Jelly & Powdered Desserts', 211: 'Fresh Foods & Bakery;Deli, Salads & Cooked Meats;Ham & Pork', 212: 'Kitchen, Dining & Household;Cleaning Products;Carpet & Floor Cleaners', 213: 'Pantry;Sauces, Stock & Marinades;Soy Sauce', 214: 'Pantry;Snack Foods;Fruit Snacks', 215: 'Personal Care;Beauty & Grooming;Makeup & Cosmetics', 216: 'Drinks;Cold Drinks;Sparkling Juices', 217: 'Chilled, Frozen & Desserts;Dairy & Eggs;Fresh Cream', 218: 'Fresh Foods & Bakery;Seafood;Frozen Fish & Seafood', 219: 'Personal Care;Health & Wellness;Digestion, Nausea & Laxatives', 220: 'Kitchen, Dining & Household;Household;Fire Needs', 221: 'Personal Care;Beauty & Grooming;Deodorants', 222: 'Chilled, Frozen & Desserts;Frozen Foods;Frozen Bread & Dough', 223: 'Pantry;Hot Drinks;Green Teas', 224: 'Pantry;Snack Foods;Corn Chips', 225: 'Personal Care;Beauty & Grooming;Apparel & Hosiery', 226: 'Chilled, Frozen & Desserts;Frozen Foods;Frozen Chicken & Poultry', 227: 'Personal Care;Health & Wellness;Contact Lens & Eye Care', 228: 'Pantry;Canned & Prepared Foods;Coconut Cream & Milk', 229: 'Pantry;Condiments & Dressings;Relish', 230: 'Pantry;Snack Foods;Cereal & Snack Bars', 231: 'Pantry;Condiments & Dressings;Barbeque Sauces', 232: 'Pantry;Jams, Honey & Spreads;Savoury Spreads', 233: 'Pantry;Biscuits & Crackers;Chocolate Biscuits', 234: 'Beer, Cider & Wine;Wine;Merlot', 235: 'Kitchen, Dining & Household;Cleaning Products;Glass Cleaners', 236: 'Pantry;Canned & Prepared Foods;Packet Soup', 237: 'Pantry;Canned & Prepared Foods;Soup Mixes', 238: 'Chilled, Frozen & Desserts;Cheese;Specialty Cheeses', 239: 'Pets;Pet Supplies;Bird Supplies', 240: 'Pantry;Breakfast Cereals;Muesli', 241: 'Chilled, Frozen & Desserts;Frozen Foods;Frozen Savouries', 242: 'Chilled, Frozen & Desserts;Desserts;Ice Blocks & Ice Pops', 243: 'Fresh Foods & Bakery;Bulk & Loose Foods;Bulk Nuts', 244: 'Pantry;Canned & Prepared Foods;Chilled Soups', 245: 'Pets;Pet Supplies;Small Animal Supplies', 246: 'Fresh Foods & Bakery;Dairy & Eggs;Butter & Spreads', 247: 'Pantry;Salad & Cooking Oils;Other Oils', 248: 'Fresh Foods & Bakery;Bakery;Muffin Splits & Crumpets', 249: 'Personal Care;Health & Wellness;Adult Care', 250: 'Meal Spot;Ready to Heat;Ready Meals', 251: 'Fresh Foods & Bakery;Seafood;Fresh Seafood', 252: 'Chilled, Frozen & Desserts;Dairy & Eggs;Fresh Organic Milk', 253: 'Pantry;Canned & Prepared Foods;Pizza & Pizza Bases', 254: 'Kitchen, Dining & Household;Stationery & Entertainment;Magazines', 255: 'Meal Spot;Ready to Heat;Canned Soup', 256: 'Personal Care;Health & Wellness;Wellness & Sports Nutrition', 257: 'Pantry;Snack Foods;Nut Bars & Snacks', 258: 'Chilled, Frozen & Desserts;Cheese;Cream Cheese', 259: 'Fresh Foods & Bakery;Deli, Salads & Cooked Meats;Continental Sausage & Salami', 260: 'Beer, Cider & Wine;Beer & Cider;Pale Ale', 261: 'Pantry;Confectionery;Chocolate Family Bags', 262: 'Fresh Foods & Bakery;Butchery;PrePacked Sausages', 263: 'Pantry;Breakfast Cereals;Cold Cereals', 264: 'Pantry;Snack Foods;Potato Chips', 265: 'Beer, Cider & Wine;Wine;Cask Wine', 266: 'Meal Spot;Ready to Eat;Seafood Salad', 267: 'Personal Care;Health & Wellness;Insect Repellent', 268: 'Pantry;Baking Supplies & Sugar;Essences & Colourings', 269: 'Personal Care;Health & Wellness;Stop Smoking', 270: 'Pantry;Condiments & Dressings;Fruit Sauces', 271: 'Fresh Foods & Bakery;Bulk & Loose Foods;Bulk Snacks & Mixes', 272: 'Kitchen, Dining & Household;Stationery & Entertainment;Stationery & Craft', 273: 'Drinks;Cold Drinks;Flavoured Water', 274: 'Chilled, Frozen & Desserts;Frozen Foods;Frozen Vegetables', 275: 'Drinks;Cold Drinks;Coconut Water', 276: 'Pantry;Hot Drinks;Chai Teas', 277: 'Personal Care;Health & Wellness;Vitamins & Supplements', 278: 'Fresh Foods & Bakery;Fruit & Vegetables;Fresh Herbs', 279: 'Kitchen, Dining & Household;Stationery & Entertainment;Toys & Recreation', 280: 'Pantry;Snack Foods;Bread Snacks', 281: 'Pets;Pet Supplies;Dog Accessories', 282: 'Personal Care;Health & Wellness;Allergy & Sinus', 283: 'Fresh Foods & Bakery;Seafood;Seafood Salad', 284: 'Pantry;Pasta, Rice & Noodles;Noodles', 285: 'Pantry;World Foods;South East Asian', 286: 'Fresh Foods & Bakery;Bulk & Loose Foods;Bulk Confectionery', 287: 'Pantry;Confectionery;Chewing Gum & Mints', 288: 'Meal Spot;Ready to Cook;Simply DINNER', 289: 'Drinks;Cold Drinks;Vegetable Juices', 290: 'Kitchen, Dining & Household;Garage & Outdoor;Car Care', 291: 'Baby, Toddler & Kids;Baby Care;Baby Health', 292: 'Pantry;Snack Foods;Chips', 293: 'Chilled, Frozen & Desserts;Frozen Foods;Frozen Fries & Potatoes', 294: 'Beer, Cider & Wine;Wine;Other White Wine', 295: 'Pantry;Sauces, Stock & Marinades;Simmer & Stir-Through Sauces', 296: 'Pantry;Spices & Seasonings;Garlic & Ginger', 297: 'Drinks;Hot Drinks;Fruit & Herbal Teas', 298: 'Personal Care;Beauty & Grooming;Hair Styling & Accessories', 299: 'Meal Spot;Ready to Cook;Pasta Meals', 300: 'Drinks;Cold Drinks;Soft Drinks', 301: 'Chilled, Frozen & Desserts;Desserts;Ice Cream Cones & Wafers', 302: 'Pantry;Sauces, Stock & Marinades;Tomato Pastes & Purees', 303: 'Fresh Foods & Bakery;Bakery;Fresh Desserts & Pastries', 304: 'Personal Care;Beauty & Grooming;Shaving & Hair Removal', 305: 'Kitchen, Dining & Household;Cleaning Products;Dishwasher Rinse & Clean', 306: 'Baby, Toddler & Kids;Baby Care;Baby Hair Care', 307: 'Chilled, Frozen & Desserts;Dairy & Eggs;Butter & Spreads', 308: 'Drinks;Hot Drinks;Coffee Flavoured Sachets', 309: 'Personal Care;Beauty & Grooming;Face & Lip Skin Care', 310: 'Chilled, Frozen & Desserts;Desserts;Ready To Serve Puddings', 311: 'Fresh Foods & Bakery;Seafood;Fresh Smoked Fish', 312: 'Pets;Pet Supplies;Cat Food', 313: 'Pantry;Condiments & Dressings;Vinegars', 314: 'Pantry;Confectionery;Lollies Family Bags', 315: 'Kitchen, Dining & Household;Garage & Outdoor;Gardening Supplies', 316: 'Pantry;Salad & Cooking Oils;Coconut Oils', 317: 'Chilled, Frozen & Desserts;Frozen Foods;Frozen Seafood', 318: 'Chilled, Frozen & Desserts;Desserts;Frozen Puddings', 319: 'Pantry;Spices & Seasonings;Dried Spices', 320: 'Pantry;Snack Foods;Meat Snacks', 321: 'Kitchen, Dining & Household;Household;Electrical', 322: 'Pantry;Condiments & Dressings;Chutneys', 323: 'Fresh Foods & Bakery;Fruit & Vegetables;PrePacked Fresh Vegetables', 324: 'Pantry;Sauces, Stock & Marinades;Stock', 325: 'Pantry;Confectionery;Novelty Bars & Singles', 326: 'Pantry;Sauces, Stock & Marinades;Stir Fry Sauces', 327: 'Beer, Cider & Wine;Wine;Champagne & Sparkling Wine', 328: 'Fresh Foods & Bakery;Butchery;Fresh Chicken & Poultry', 329: 'Meal Spot;Ready to Heat;Chilled Pies & Pastries', 330: 'Pantry;Canned & Prepared Foods;Canned Meat', 331: 'Meal Spot;Ready to Eat;Deli Salads', 332: 'Pantry;Hot Drinks;Chocolate Milk Drink Mixes', 333: 'Chilled, Frozen & Desserts;Dairy & Eggs;Sour Cream & Crème Fraiche', 334: 'Pantry;Condiments & Dressings;Olives', 335: 'Beer, Cider & Wine;Wine;Rose', 336: 'Fresh Foods & Bakery;Bakery;Cakes & Muffins', 337: 'Fresh Foods & Bakery;Seafood;Fresh Fish Fillets & Steaks', 338: 'Pantry;Pasta, Rice & Noodles;Wild & Coloured Rices', 339: 'Personal Care;Beauty & Grooming;Oral Health', 340: 'Kitchen, Dining & Household;Laundry;Clothing Dyes', 341: 'Pantry;Sauces, Stock & Marinades;Specialty Sauces', 342: 'Chilled, Frozen & Desserts;Dairy & Eggs;Long Life Milk & Milk Powder', 343: 'Kitchen, Dining & Household;Cleaning Products;Dishwasher Detergents', 344: 'Pantry;Condiments & Dressings;Salad Dressings', 345: 'Pantry;Biscuits & Crackers;Plain Sweet Biscuits', 346: 'Fresh Foods & Bakery;Seafood;Fresh Fish Heads', 347: 'Pantry;Condiments & Dressings;Pickles', 348: 'Pantry;Condiments & Dressings;Mayonnaise', 349: 'Fresh Foods & Bakery;Deli, Salads & Cooked Meats;Deli Salads', 350: 'Pantry;Jams, Honey & Spreads;Marmite & Vegemite', 351: 'Kitchen, Dining & Household;Laundry;Laundry Soap', 352: 'Drinks;Cold Drinks;Still Water', 353: 'Fresh Foods & Bakery;Fruit & Vegetables;Fresh Fruit', 354: 'Pantry;World Foods;South African', 355: 'Chilled, Frozen & Desserts;Frozen Foods;Frozen Beef, Lamb & Pork', 356: 'Pantry;Salad & Cooking Oils;Oil Sprays', 357: 'Fresh Foods & Bakery;Dairy & Eggs;Yoghurt Bases', 358: 'Personal Care;Beauty & Grooming;Suncare & Self Tan', 359: 'Kitchen, Dining & Household;Cleaning Products;Bleaches', 360: 'Pantry;World Foods;UK', 361: 'Beer, Cider & Wine;Beer & Cider;Apple & Pear Cider', 362: 'Fresh Foods & Bakery;Dairy & Eggs;Fresh Organic Milk', 363: 'Kitchen, Dining & Household;Household;Pest & Insect Control', 364: 'Pantry;Pasta, Rice & Noodles;Pasta Meals', 365: 'Fresh Foods & Bakery;Deli, Salads & Cooked Meats;Fresh Deli Savouries', 366: 'Pantry;Hot Drinks;Coffee Capsules', 367: 'Pantry;Baking Supplies & Sugar;Breadcrumbs & Coatings', 368: 'Fresh Foods & Bakery;Butchery;Fresh Pork', 369: 'Fresh Foods & Bakery;Fruit & Vegetables;Fresh Salads', 370: 'Kitchen, Dining & Household;Household;Shoe Care', 371: 'Fresh Foods & Bakery;Fruit & Vegetables;Fresh Cut Fruit', 372: 'Drinks;Hot Drinks;Malt Milk Drink Mixes', 373: 'Meal Spot;Ready to Heat;Frozen Savouries', 374: 'Chilled, Frozen & Desserts;Desserts;Frozen Dessert Pastries', 375: 'Baby, Toddler & Kids;Baby Care;Nursing & Feeding', 376: 'Pantry;Condiments & Dressings;Worcestershire Sauces', 377: 'Chilled, Frozen & Desserts;Frozen Foods;Frozen Pizza & Bases', 378: 'Chilled, Frozen & Desserts;Dairy & Eggs;Eggs', 379: 'Fresh Foods & Bakery;Fruit & Vegetables;Vege Bags', 380: 'Beer, Cider & Wine;Beer & Cider;Brewing Supplies', 381: 'Pantry;Hot Drinks;Coffee Flavoured Sachets', 382: 'Fresh Foods & Bakery;Dairy & Eggs;Long Life Milk & Milk Powder', 383: 'Pantry;Snack Foods;Popcorn', 384: 'Personal Care;Health & Wellness;Family Planning', 385: 'Pantry;Baking Supplies & Sugar;Icing & Decorating', 386: 'Fresh Foods & Bakery;Butchery;PrePacked Pork', 387: 'Pantry;Pasta, Rice & Noodles;Long Grain Rices', 388: 'Pantry;Confectionery;Boxed Chocolates', 389: 'Chilled, Frozen & Desserts;Cheese;Grated Cheese', 390: 'Chilled, Frozen & Desserts;Dairy & Eggs;Fresh Milk', 391: 'Kitchen, Dining & Household;Household;Food Storage', 392: 'Drinks;Hot Drinks;Green Teas', 393: 'Chilled, Frozen & Desserts;Frozen Foods;Frozen Vegetarian', 394: 'Kitchen, Dining & Household;Laundry;Fine Fabric Washers', 395: 'Drinks;Hot Drinks;Instant Coffees', 396: 'Fresh Foods & Bakery;Deli, Salads & Cooked Meats;Deli Meats', 397: 'Kitchen, Dining & Household;Household;Cooking & Bakeware', 398: 'Pantry;Breakfast Cereals;Hot Cereals', 399: 'Baby, Toddler & Kids;Baby Care;Baby Formula & Toddler Food', 400: 'Pantry;Canned & Prepared Foods;Canned Fish', 401: 'Fresh Foods & Bakery;Butchery;Fresh Venison & Game Meat', 402: 'Fresh Foods & Bakery;Deli, Salads & Cooked Meats;Gourmet Oils & Condiments', 403: 'Pantry;World Foods;Thai', 404: 'Drinks;Hot Drinks;Chocolate Milk Drink Mixes', 405: 'Kitchen, Dining & Household;Cleaning Products;Paper Towels', 406: 'Pantry;Breakfast Cereals;Breakfast On The Go', 407: 'Kitchen, Dining & Household;Cleaning Products;Kitchen Cleaners', 408: 'Drinks;Cold Drinks;Iced Teas', 409: 'Pantry;Baking Supplies & Sugar;Baking Syrups', 410: 'Pantry;Biscuits & Crackers;Biscuits & Cookies', 411: 'Kitchen, Dining & Household;Laundry;Clothes Pegs', 412: 'Fresh Foods & Bakery;Meal Kits;Simply DINNER', 413: 'Drinks;Cold Drinks;Squash, Syrups & Cordials', 414: 'Beer, Cider & Wine;Beer & Cider;IPA', 415: 'Fresh Foods & Bakery;Bakery;Specialty Breads', 416: 'Kitchen, Dining & Household;Laundry;Pre Wash Stain Removers', 417: 'Beer, Cider & Wine;Beer & Cider;Lager', 418: 'Pantry;Pasta, Rice & Noodles;Basmati Rices', 419: 'Pantry;Pasta, Rice & Noodles;Specialty Grains & Seeds', 420: 'Fresh Foods & Bakery;Bulk & Loose Foods;Bulk Breakfast Cereals', 421: 'Drinks;Hot Drinks;Fresh Coffees', 422: 'Pantry;Snack Foods;Nutritional Bars', 423: 'Chilled, Frozen & Desserts;Dairy & Eggs;Dairy & Lactose Free', 424: 'Fresh Foods & Bakery;Deli, Salads & Cooked Meats;Bacon', 425: 'Meal Spot;Ready to Cook;Vege Bags', 426: 'Chilled, Frozen & Desserts;Cheese;Cheese Blocks', 427: 'Drinks;Cold Drinks;Sparkling Water', 428: 'Pantry;Pasta, Rice & Noodles;Short & Medium Grain Rices'}\n"
     ]
    }
   ],
   "source": [
    "label2id = {l: i for i, l in enumerate(set(labels))}\n",
    "id2label = {i: l for l, i in label2id.items()}\n",
    "labels = [label2id[l] for l in labels]\n",
    "texts = df[\"ProductName\"].tolist()\n",
    "price = df[\"PricePerItem\"].tolist()\n",
    "promotion = df[\"PromoBadgeImageLabel\"].tolist()\n",
    "multi = df[\"MultiBuyDeal\"].tolist()\n",
    "combind = [\" \".join([texts[index], str(price[index]), promotion[index], multi[index]]) for index in range(14464)]\n",
    "vectorizer = TfidfVectorizer()\n",
    "features = vectorizer.fit_transform(combind)\n",
    "reduced = vectorizer.fit_transform(texts)\n",
    "print(\"data len:\", len(texts))\n",
    "print(\"id2label\", id2label)"
   ],
   "metadata": {
    "collapsed": false,
    "pycharm": {
     "name": "#%%\n"
    }
   }
  },
  {
   "cell_type": "code",
   "execution_count": 18,
   "outputs": [],
   "source": [
    "x_train, x_test, y_train, y_test = train_test_split(features, labels, test_size=0.25, random_state=3)"
   ],
   "metadata": {
    "collapsed": false,
    "pycharm": {
     "name": "#%%\n"
    }
   }
  },
  {
   "cell_type": "code",
   "execution_count": 19,
   "outputs": [
    {
     "name": "stdout",
     "output_type": "stream",
     "text": [
      "logistic: acc:0.6208517699115044, recall:0.40642417273894743, f1 score:0.4037162731945846\n",
      "                                                                               precision    recall  f1-score   support\n",
      "\n",
      "                       Chilled, Frozen & Desserts;Dairy & Eggs;Flavoured Milk       1.00      0.25      0.40         4\n",
      "                                        Pantry;Hot Drinks;Fruit & Herbal Teas       0.92      0.92      0.92        12\n",
      "                                        Meal Spot;Ready to Heat;Chilled Soups       0.00      0.00      0.00         2\n",
      "                                    Pantry;Pasta, Rice & Noodles;Dried Pastas       0.62      1.00      0.76        45\n",
      "                          Fresh Foods & Bakery;Bakery;Fresh Biscuits & Slices       0.00      0.00      0.00        11\n",
      "                                               Pantry;Snack Foods;Vege Snacks       0.89      1.00      0.94        40\n",
      "                                               Pantry;Confectionery;Liquorice       0.92      0.92      0.92        12\n",
      "                             Fresh Foods & Bakery;Bakery;Garlic & Herb Breads       0.00      0.00      0.00         5\n",
      "                                          Meal Spot;Ready to Heat;Packet Soup       1.00      0.62      0.76        13\n",
      "                    Pantry;Sauces, Stock & Marinades;Tartare & Seafood Sauces       0.88      1.00      0.94        15\n",
      "                       Pantry;Canned & Prepared Foods;Baked Beans & Spaghetti       0.67      0.95      0.78        19\n",
      "                            Kitchen, Dining & Household;Household;Kitchenware       0.55      0.90      0.68        40\n",
      "                                   Pantry;Canned & Prepared Foods;Ready Meals       0.72      0.67      0.69        27\n",
      "                                  Personal Care;Health & Wellness;Pain Relief       1.00      0.38      0.55        16\n",
      "                                       Pantry;Condiments & Dressings;Mustards       0.00      0.00      0.00         4\n",
      "                                              Pantry;Hot Drinks;Fresh Coffees       0.75      0.83      0.79        18\n",
      "                                       Pantry;Spices & Seasonings;Dried Herbs       1.00      0.80      0.89        15\n",
      "                                Pantry;Sauces, Stock & Marinades;Pasta Sauces       0.88      0.98      0.93        53\n",
      "                                    Drinks;Cold Drinks;Sports & Energy Drinks       1.00      0.62      0.76        13\n",
      "                       Pantry;Sauces, Stock & Marinades;Curry Pastes & Sauces       0.91      0.83      0.87        12\n",
      "                           Kitchen, Dining & Household;Garage & Outdoor;Hooks       0.25      0.20      0.22        10\n",
      "                                    Baby, Toddler & Kids;Baby Care;Baby Wipes       0.00      0.00      0.00         6\n",
      "                                        Pantry;Biscuits & Crackers;Rice Cakes       0.61      1.00      0.76        11\n",
      "                           Fresh Foods & Bakery;Fruit & Vegetables;Salad Bags       0.00      0.00      0.00         4\n",
      "                                 Pantry;Breakfast Cereals;Flake/Fibre Cereals       1.00      0.52      0.69        23\n",
      "                               Pantry;Canned & Prepared Foods;Syrups & Sauces       0.00      0.00      0.00         4\n",
      "                                Fresh Foods & Bakery;Seafood;Fresh Whole Fish       0.25      0.20      0.22        10\n",
      "                       Fresh Foods & Bakery;Dairy & Eggs;Dairy & Lactose Free       0.88      0.98      0.93        53\n",
      "                              Pantry;Spices & Seasonings;Freshly Ground Herbs       0.90      1.00      0.95         9\n",
      "                               Pantry;Sauces, Stock & Marinades;Packet Sauces       1.00      0.33      0.50         3\n",
      "                                         Meal Spot;Ready to Cook;Noodle Meals       0.00      0.00      0.00         1\n",
      "                                                  Pantry;World Foods;Japanese       1.00      0.38      0.55        16\n",
      "                                    Personal Care;Health & Wellness;Foot Care       0.48      0.91      0.62        33\n",
      "                                                   Pantry;World Foods;Mexican       0.33      0.40      0.36        10\n",
      "                            Fresh Foods & Bakery;Bakery;Organic & Gluten Free       0.14      0.09      0.11        11\n",
      "                                 Pantry;Jams, Honey & Spreads;Jam & Marmalade       0.74      0.82      0.78        17\n",
      "                                    Pantry;Pasta, Rice & Noodles;Noodle Meals       0.33      0.25      0.29         4\n",
      "                               Personal Care;Beauty & Grooming;Hair Colouring       0.82      0.88      0.85        16\n",
      "           Kitchen, Dining & Household;Cleaning Products;All Purpose Cleaners       1.00      0.52      0.69        23\n",
      "                     Pantry;Canned & Prepared Foods;Canned & Dried Vegetables       0.88      1.00      0.93         7\n",
      "                                       Pantry;Salad & Cooking Oils;Olive Oils       1.00      0.80      0.89        15\n",
      "                                     Pantry;Sauces, Stock & Marinades;Gravies       0.00      0.00      0.00         1\n",
      "                                                    Pantry;World Foods;Indian       0.50      0.82      0.62        17\n",
      "                            Fresh Foods & Bakery;Bakery;Fresh Cakes & Muffins       0.00      0.00      0.00         5\n",
      "                                                   Pantry;World Foods;Chinese       0.93      0.98      0.95        43\n",
      "                                                 Pets;Pet Supplies;Dog Treats       0.20      0.15      0.17        20\n",
      "                                            Pantry;Hot Drinks;Instant Coffees       1.00      0.82      0.90        11\n",
      "                                   Pantry;Pasta, Rice & Noodles;Jasmine Rices       1.00      0.67      0.80         6\n",
      "                                          Drinks;Cold Drinks;Milk Drink Mixes       0.49      0.78      0.60        23\n",
      "                                 Fresh Foods & Bakery;Seafood;Fresh Shellfish       0.20      0.12      0.15         8\n",
      "                     Beer, Cider & Wine;Beer & Cider;Wheat & Other Grain Beer       0.68      0.90      0.78        21\n",
      "                                      Beer, Cider & Wine;Wine;Sauvignon Blanc       0.26      0.36      0.30        14\n",
      "                            Baby, Toddler & Kids;Baby Care;Nappies & Changing       0.75      0.96      0.84        49\n",
      "                       Chilled, Frozen & Desserts;Cheese;Deli Cabinet Cheeses       0.00      0.00      0.00         5\n",
      "                           Pantry;Canned & Prepared Foods;Canned Milk & Cream       0.88      1.00      0.94        15\n",
      "                              Baby, Toddler & Kids;Baby Care;Baby Dental Care       1.00      0.95      0.97        20\n",
      "                                           Beer, Cider & Wine;Wine;Chardonnay       0.48      0.61      0.54        23\n",
      "                            Beer, Cider & Wine;Beer & Cider;British-style Ale       0.00      0.00      0.00         3\n",
      "                           Pantry;Baking Supplies & Sugar;Baking Nuts & Seeds       1.00      0.62      0.76        13\n",
      "          Fresh Foods & Bakery;Deli, Salads & Cooked Meats;Dips, Pesto & Pate       0.56      1.00      0.72        41\n",
      "                                     Pantry;Jams, Honey & Spreads;Nut Spreads       0.89      1.00      0.94        34\n",
      "                          Chilled, Frozen & Desserts;Desserts;Canned Desserts       0.48      0.91      0.62        33\n",
      "                                              Meal Spot;Ready to Cook;Mexican       0.80      1.00      0.89        12\n",
      "                          Chilled, Frozen & Desserts;Frozen Foods;Frozen Pies       1.00      0.08      0.15        12\n",
      "         Fresh Foods & Bakery;Bulk & Loose Foods;Bulk Seeds, Legumes & Grains       0.88      0.98      0.93        53\n",
      "                                                 Pantry;Hot Drinks;Black Teas       0.00      0.00      0.00         1\n",
      " Fresh Foods & Bakery;Deli, Salads & Cooked Meats;PreCooked Chicken & Poultry       0.40      0.67      0.50         6\n",
      "                                               Pantry;Snack Foods;Snack Mixes       0.21      0.38      0.27        16\n",
      "           Kitchen, Dining & Household;Cleaning Products;Cleaning Accessories       1.00      0.88      0.93         8\n",
      "                                             Beer, Cider & Wine;Wine;Cabernet       1.00      0.44      0.62         9\n",
      "                         Kitchen, Dining & Household;Laundry;Laundry Supplies       0.75      0.96      0.84        49\n",
      "                                Fresh Foods & Bakery;Dairy & Eggs;Fresh Cream       0.48      0.91      0.62        33\n",
      "                             Fresh Foods & Bakery;Butchery;PreCooked Sausages       0.00      0.00      0.00         9\n",
      "                   Kitchen, Dining & Household;Household;Disposable Tableware       1.00      0.50      0.67         8\n",
      "                                           Beer, Cider & Wine;Wine;Pinot Gris       0.00      0.00      0.00         4\n",
      "                          Chilled, Frozen & Desserts;Frozen Foods;Frozen Fish       0.00      0.00      0.00         2\n",
      "                Kitchen, Dining & Household;Garage & Outdoor;Hardware & Tools       0.69      1.00      0.82        18\n",
      "     Kitchen, Dining & Household;Cleaning Products;Furniture & Metal Polishes       1.00      0.62      0.76        13\n",
      "                                             Pets;Pet Supplies;Pet Treatments       0.79      0.96      0.87        28\n",
      "       Fresh Foods & Bakery;Deli, Salads & Cooked Meats;PreCooked Beef & Lamb       0.86      0.86      0.86         7\n",
      "                          Personal Care;Health & Wellness;Sanitary Protection       0.48      0.61      0.54        23\n",
      "                                                   Pets;Pet Supplies;Dog Food       0.68      0.90      0.78        21\n",
      "                                           Drinks;Cold Drinks;Powdered Drinks       1.00      0.20      0.33         5\n",
      "                                 Meal Spot;Ready to Heat;Frozen Pizza & Bases       0.62      0.73      0.67        11\n",
      "                        Pantry;Sauces, Stock & Marinades;Chilled Pasta Sauces       0.65      1.00      0.79        11\n",
      "                                                 Drinks;Hot Drinks;Black Teas       0.69      1.00      0.82        18\n",
      "                                       Beer, Cider & Wine;Wine;Other Red Wine       1.00      1.00      1.00        13\n",
      "                             Kitchen, Dining & Household;Household;Manchester       1.00      0.43      0.60         7\n",
      "                                         Pantry;Baking Supplies & Sugar;Flour       0.00      0.00      0.00         4\n",
      "                      Fresh Foods & Bakery;Deli, Salads & Cooked Meats;Hummus       1.00      0.62      0.76        13\n",
      "                                           Pantry;Jams, Honey & Spreads;Honey       0.50      0.82      0.62        17\n",
      "                 Chilled, Frozen & Desserts;Dairy & Eggs;Yoghurt & Dairy Food       0.00      0.00      0.00         2\n",
      "                                         Pantry;Hot Drinks;Coffee Substitutes       1.00      0.36      0.53        11\n",
      "                          Kitchen, Dining & Household;Laundry;Laundry Powders       0.00      0.00      0.00        12\n",
      "                              Pantry;Baking Supplies & Sugar;Baking Additives       0.55      0.60      0.57        10\n",
      "                            Personal Care;Health & Wellness;Cough, Cold & Flu       0.88      1.00      0.94        15\n",
      "                                   Pantry;Salad & Cooking Oils;Rice Bran Oils       0.00      0.00      0.00         3\n",
      "                                     Fresh Foods & Bakery;Bakery;Sliced Bread       1.00      1.00      1.00         3\n",
      "                         Chilled, Frozen & Desserts;Frozen Foods;Frozen Fruit       0.89      0.73      0.80        11\n",
      "     Kitchen, Dining & Household;Cleaning Products;Bathroom & Shower Cleaners       0.80      1.00      0.89        12\n",
      "                                   Pantry;Baking Supplies & Sugar;Dried Fruit       0.48      0.91      0.62        33\n",
      "                                          Meal Spot;Ready to Eat;Fresh Salads       0.65      0.96      0.77        48\n",
      "                                       Fresh Foods & Bakery;Dairy & Eggs;Eggs       1.00      0.52      0.69        23\n",
      "                Kitchen, Dining & Household;Laundry;Laundry Liquid & Capsules       0.20      0.12      0.15         8\n",
      "                             Fresh Foods & Bakery;Dairy & Eggs;Flavoured Milk       0.89      1.00      0.94        34\n",
      "                              Pantry;Biscuits & Crackers;Crème & Jam Biscuits       1.00      0.88      0.93         8\n",
      "                                      Beer, Cider & Wine;Beer & Cider;Pilsner       0.72      0.67      0.69        27\n",
      "                          Fresh Foods & Bakery;Butchery;PrePacked Beef & Lamb       0.57      1.00      0.73        12\n",
      "                      Beer, Cider & Wine;Beer & Cider;Fruit & Flavoured Cider       0.96      0.93      0.94        27\n",
      "                                                 Pets;Pet Supplies;Cat Treats       0.00      0.00      0.00         4\n",
      "               Chilled, Frozen & Desserts;Desserts;Ice Cream & Frozen Yoghurt       0.93      0.98      0.95        43\n",
      "                   Beer, Cider & Wine;Beer & Cider;Specialty & Flavoured Beer       0.50      0.82      0.62        17\n",
      "                                   Pantry;Pasta, Rice & Noodles;Instant Rices       0.48      0.61      0.54        23\n",
      "                Kitchen, Dining & Household;Household;Batteries & Light Bulbs       1.00      0.95      0.97        20\n",
      "                                    Pantry;Pasta, Rice & Noodles;Fresh Pastas       0.90      1.00      0.95         9\n",
      "                                     Pantry;Salad & Cooking Oils;Avocado Oils       0.86      0.86      0.86         7\n",
      "                                      Pantry;Hot Drinks;Malt Milk Drink Mixes       0.73      0.65      0.69        17\n",
      "                              Fresh Foods & Bakery;Bakery;Wraps & Pita Breads       1.00      0.92      0.96        13\n",
      "                             Pantry;Baking Supplies & Sugar;Cooking Chocolate       0.89      1.00      0.94        40\n",
      "                                  Meal Spot;Ready to Eat;Fresh Deli Savouries       0.88      0.98      0.93        53\n",
      "                                             Pantry;Snack Foods;Dips & Salsas       0.91      0.53      0.67        19\n",
      "                                  Pantry;Baking Supplies & Sugar;Baking Mixes       0.62      1.00      0.76        45\n",
      "                                   Pantry;Sauces, Stock & Marinades;Marinades       0.12      0.20      0.15        35\n",
      "                                           Drinks;Cold Drinks;Non Dairy Milks       0.45      0.69      0.55        13\n",
      "                         Chilled, Frozen & Desserts;Desserts;Chilled Custards       0.72      0.67      0.69        27\n",
      "                                  Pantry;Spices & Seasonings;Chilli & Paprika       0.67      0.90      0.77        20\n",
      "                                            Pets;Pet Supplies;Cat Accessories       0.00      0.00      0.00         1\n",
      "                                          Pantry;Biscuits & Crackers;Crackers       1.00      0.92      0.96        13\n",
      "                                     Drinks;Cold Drinks;Fruit Drinks & Juices       1.00      0.25      0.40         4\n",
      "                                          Pantry;Condiments & Dressings;Aioli       0.48      0.61      0.54        23\n",
      "                                         Pantry;Baking Supplies & Sugar;Sugar       1.00      0.50      0.67         8\n",
      "                                     Pantry;Spices & Seasonings;Salt & Pepper       0.75      0.64      0.69        14\n",
      "                       Personal Care;Beauty & Grooming;Hair Care & Treatments       0.86      0.86      0.86        14\n",
      "                                   Pantry;Canned & Prepared Foods;Canned Soup       0.33      0.43      0.38        21\n",
      "                      Kitchen, Dining & Household;Household;Food Wraps & Bags       0.93      1.00      0.97        14\n",
      "                             Pantry;Baking Supplies & Sugar;Sugar Substitutes       0.00      0.00      0.00         7\n",
      "                                                  Drinks;Hot Drinks;Chai Teas       0.26      0.36      0.30        14\n",
      "                             Kitchen, Dining & Household;Garage & Outdoor;BBQ       0.55      0.90      0.68        40\n",
      "                    Fresh Foods & Bakery;Butchery;PrePacked Chicken & Poultry       0.12      0.11      0.12        45\n",
      "                         Pantry;Condiments & Dressings;Chilli & Pepper Sauces       0.82      0.91      0.86        35\n",
      "                 Kitchen, Dining & Household;Household;Tissues & Toilet Paper       0.00      0.00      0.00         2\n",
      "                               Kitchen, Dining & Household;Household;Homeware       0.48      0.91      0.62        33\n",
      "                                                       Pantry;World Foods;USA       1.00      0.90      0.95        10\n",
      "                                   Pantry;Salad & Cooking Oils;Vegetable Oils       0.62      1.00      0.76        45\n",
      "                        Beer, Cider & Wine;Beer & Cider;Lighter Alcohol Beers       1.00      0.60      0.75         5\n",
      "                       Fresh Foods & Bakery;Dairy & Eggs;Yoghurt & Dairy Food       0.33      0.43      0.38        21\n",
      "                                            Pets;Pet Supplies;Pet Accessories       1.00      0.50      0.67        12\n",
      "                                  Pantry;Salad & Cooking Oils;Nut & Seed Oils       0.00      0.00      0.00        12\n",
      "                 Kitchen, Dining & Household;Laundry;Washing Machine Cleaners       0.20      0.15      0.17        20\n",
      "                     Fresh Foods & Bakery;Fruit & Vegetables;Fresh Vegetables       0.95      0.95      0.95        22\n",
      "                                           Beer, Cider & Wine;Wine;Pinot Noir       0.00      0.00      0.00         3\n",
      "                   Chilled, Frozen & Desserts;Frozen Foods;Frozen Ready Meals       0.49      0.78      0.60        23\n",
      "                             Fresh Foods & Bakery;Bakery;Fresh Breads & Rolls       0.09      0.18      0.12        17\n",
      "                                      Pantry;Salad & Cooking Oils;Cooking Fat       0.50      0.33      0.40         3\n",
      "                                               Beer, Cider & Wine;Wine;Shiraz       0.64      0.91      0.75        23\n",
      "           Kitchen, Dining & Household;Household;Air Fresheners & Deodorisers       1.00      0.20      0.33         5\n",
      "                         Kitchen, Dining & Household;Laundry;Fabric Softeners       0.85      0.85      0.85        27\n",
      "                               Pantry;Sauces, Stock & Marinades;Tomato Sauces       0.55      0.60      0.57        10\n",
      "                                           Pantry;World Foods;Other Countries       0.88      0.98      0.93        53\n",
      "                                  Fresh Foods & Bakery;Bakery;Pies & Pastries       0.67      0.20      0.31        10\n",
      "                              Chilled, Frozen & Desserts;Cheese;Cheese Slices       0.79      1.00      0.88        19\n",
      "                                    Personal Care;Health & Wellness;First Aid       1.00      0.52      0.69        23\n",
      "                              Drinks;Cold Drinks;Drinking Yoghurt & Smoothies       0.00      0.00      0.00         7\n",
      "                               Fresh Foods & Bakery;Bakery;Bread Rolls & Buns       0.89      1.00      0.94        40\n",
      "                       Pantry;Biscuits & Crackers;Gourmet Biscuits & Crackers       0.11      0.09      0.10        11\n",
      "                                        Pantry;Confectionery;Chocolate Blocks       1.00      1.00      1.00        24\n",
      "                                         Drinks;Hot Drinks;Coffee Substitutes       1.00      0.50      0.67         2\n",
      "                                            Drinks;Hot Drinks;Coffee Capsules       1.00      1.00      1.00         9\n",
      "                                      Drinks;Cold Drinks;Chilled Fruit Juices       1.00      0.88      0.93         8\n",
      "                 Fresh Foods & Bakery;Dairy & Eggs;Sour Cream & Crème Fraiche       0.11      0.09      0.10        11\n",
      "                                 Fresh Foods & Bakery;Dairy & Eggs;Fresh Milk       1.00      0.33      0.50         9\n",
      "                              Fresh Foods & Bakery;Butchery;Fresh Beef & Lamb       1.00      0.95      0.97        20\n",
      "                                Pets;Pet Supplies;Fish & Aquatic Pet Supplies       0.82      0.88      0.85        16\n",
      "            Chilled, Frozen & Desserts;Desserts;Frozen Bavarians & Cheesecake       0.48      0.61      0.54        23\n",
      "    Fresh Foods & Bakery;Deli, Salads & Cooked Meats;Olives & Antipasti Mixes       0.67      0.93      0.78        15\n",
      "             Kitchen, Dining & Household;Cleaning Products;Dishwashing Liquid       1.00      0.88      0.93        24\n",
      "                                   Pantry;Jams, Honey & Spreads;Sweet Spreads       0.00      0.00      0.00         6\n",
      "                        Chilled, Frozen & Desserts;Dairy & Eggs;Yoghurt Bases       0.17      0.12      0.14        16\n",
      "                      Baby, Toddler & Kids;Baby Care;Baby Bathing & Skin Care       0.62      1.00      0.76        45\n",
      "                                 Fresh Foods & Bakery;Butchery;Fresh Sausages       0.83      0.91      0.87        11\n",
      "            Kitchen, Dining & Household;Stationery & Entertainment;Newspapers       1.00      0.96      0.98        26\n",
      "         Fresh Foods & Bakery;Deli, Salads & Cooked Meats;Specialty Dry Goods       1.00      0.88      0.93         8\n",
      "     Fresh Foods & Bakery;Deli, Salads & Cooked Meats;Chilled Pies & Pastries       0.49      0.78      0.60        23\n",
      "                                Fresh Foods & Bakery;Bakery;Biscuits & Slices       0.62      1.00      0.76        45\n",
      "                                  Pantry;Canned & Prepared Foods;Canned Fruit       1.00      0.38      0.55        16\n",
      "                             Personal Care;Beauty & Grooming;Hand & Body Care       0.73      0.96      0.83        28\n",
      "                                     Pantry;Biscuits & Crackers;Rice Crackers       0.00      0.00      0.00         7\n",
      "                                    Pantry;Canned & Prepared Foods;Vegetarian       0.49      0.78      0.60        23\n",
      "                                               Pantry;Confectionery;Christmas       1.00      0.64      0.78        14\n",
      "                                    Pantry;Condiments & Dressings;Mint Sauces       0.40      0.67      0.50         6\n",
      "                           Beer, Cider & Wine;Beer & Cider;American-style Ale       0.82      0.91      0.86        35\n",
      "                     Chilled, Frozen & Desserts;Cheese;Deli Specialty Cheeses       0.73      0.96      0.83        28\n",
      "                                   Meal Spot;Ready to Heat;Frozen Ready Meals       0.53      1.00      0.69         9\n",
      "                                 Pantry;Hot Drinks;Coffee Additives & Filters       1.00      0.90      0.95        10\n",
      "                   Beer, Cider & Wine;Beer & Cider;Stout, Porter & Black Beer       1.00      0.89      0.94         9\n",
      "                         Kitchen, Dining & Household;Household;Party Supplies       1.00      0.50      0.67         8\n",
      "                  Kitchen, Dining & Household;Household;Rubbish & Vacuum Bags       1.00      0.50      0.67        14\n",
      "                      Pantry;Biscuits & Crackers;Assorted Biscuits & Crackers       1.00      1.00      1.00        13\n",
      "                          Chilled, Frozen & Desserts;Cheese;Deli Cheeseboards       0.56      1.00      0.72        41\n",
      "                           Beer, Cider & Wine;Beer & Cider;European-style Ale       0.48      0.61      0.54        23\n",
      "                     Fresh Foods & Bakery;Bulk & Loose Foods;Bulk Dried Fruit       0.00      0.00      0.00         2\n",
      "                                      Beer, Cider & Wine;Beer & Cider;Spirits       0.86      0.75      0.80         8\n",
      "                        Chilled, Frozen & Desserts;Frozen Foods;Frozen Pastry       0.72      0.87      0.79        15\n",
      "                                 Drinks;Hot Drinks;Coffee Additives & Filters       0.33      0.43      0.38        21\n",
      "                                  Meal Spot;Ready to Heat;Pizza & Pizza Bases       0.72      0.87      0.79        15\n",
      "                                               Pantry;Snack Foods;Muesli Bars       0.83      0.77      0.80        26\n",
      "                                                    Pantry;World Foods;Korean       0.82      0.88      0.85        16\n",
      "                             Chilled, Frozen & Desserts;Cheese;Cottage Cheese       0.62      1.00      0.76        45\n",
      "                                      Pantry;Pasta, Rice & Noodles;Rice Meals       0.55      0.80      0.65        15\n",
      "                     Chilled, Frozen & Desserts;Desserts;Meringues & Pavlovas       0.56      1.00      0.72        41\n",
      "                Chilled, Frozen & Desserts;Desserts;Jelly & Powdered Desserts       0.00      0.00      0.00         1\n",
      "                  Fresh Foods & Bakery;Deli, Salads & Cooked Meats;Ham & Pork       1.00      0.50      0.67        12\n",
      "        Kitchen, Dining & Household;Cleaning Products;Carpet & Floor Cleaners       0.25      0.25      0.25         4\n",
      "                                   Pantry;Sauces, Stock & Marinades;Soy Sauce       1.00      0.43      0.60         7\n",
      "                                              Pantry;Snack Foods;Fruit Snacks       0.93      1.00      0.97        14\n",
      "                           Personal Care;Beauty & Grooming;Makeup & Cosmetics       0.70      0.64      0.67        11\n",
      "                                          Drinks;Cold Drinks;Sparkling Juices       1.00      0.33      0.50         6\n",
      "                          Chilled, Frozen & Desserts;Dairy & Eggs;Fresh Cream       0.77      0.89      0.83        19\n",
      "                           Fresh Foods & Bakery;Seafood;Frozen Fish & Seafood       0.89      1.00      0.94        34\n",
      "                Personal Care;Health & Wellness;Digestion, Nausea & Laxatives       0.20      0.15      0.17        20\n",
      "                             Kitchen, Dining & Household;Household;Fire Needs       0.91      0.53      0.67        19\n",
      "                                   Personal Care;Beauty & Grooming;Deodorants       0.12      0.11      0.12        45\n",
      "                 Chilled, Frozen & Desserts;Frozen Foods;Frozen Bread & Dough       0.81      0.84      0.82        25\n",
      "                                                 Pantry;Hot Drinks;Green Teas       0.92      0.92      0.92        13\n",
      "                                                Pantry;Snack Foods;Corn Chips       0.79      0.96      0.87        28\n",
      "                            Personal Care;Beauty & Grooming;Apparel & Hosiery       0.92      0.92      0.92        12\n",
      "             Chilled, Frozen & Desserts;Frozen Foods;Frozen Chicken & Poultry       1.00      0.25      0.40         4\n",
      "                      Personal Care;Health & Wellness;Contact Lens & Eye Care       0.00      0.00      0.00         4\n",
      "                          Pantry;Canned & Prepared Foods;Coconut Cream & Milk       0.89      0.73      0.80        11\n",
      "                                         Pantry;Condiments & Dressings;Relish       0.00      0.00      0.00         3\n",
      "                                       Pantry;Snack Foods;Cereal & Snack Bars       0.67      0.93      0.78        15\n",
      "                                Pantry;Condiments & Dressings;Barbeque Sauces       0.25      0.33      0.29         6\n",
      "                                 Pantry;Jams, Honey & Spreads;Savoury Spreads       0.62      1.00      0.76        45\n",
      "                                Pantry;Biscuits & Crackers;Chocolate Biscuits       0.60      0.50      0.55         6\n",
      "                                               Beer, Cider & Wine;Wine;Merlot       0.88      1.00      0.93         7\n",
      "                 Kitchen, Dining & Household;Cleaning Products;Glass Cleaners       1.00      0.80      0.89        15\n",
      "                                   Pantry;Canned & Prepared Foods;Packet Soup       0.93      0.98      0.95        43\n",
      "                                    Pantry;Canned & Prepared Foods;Soup Mixes       0.00      0.00      0.00        11\n",
      "                          Chilled, Frozen & Desserts;Cheese;Specialty Cheeses       0.64      0.37      0.47        19\n",
      "                                              Pets;Pet Supplies;Bird Supplies       1.00      0.50      0.67         2\n",
      "                                              Pantry;Breakfast Cereals;Muesli       0.75      0.67      0.71        18\n",
      "                     Chilled, Frozen & Desserts;Frozen Foods;Frozen Savouries       1.00      0.67      0.80         6\n",
      "                    Chilled, Frozen & Desserts;Desserts;Ice Blocks & Ice Pops       0.83      1.00      0.91        10\n",
      "                            Fresh Foods & Bakery;Bulk & Loose Foods;Bulk Nuts       0.82      0.91      0.86        35\n",
      "                                 Pantry;Canned & Prepared Foods;Chilled Soups       0.93      0.98      0.95        43\n",
      "                                      Pets;Pet Supplies;Small Animal Supplies       0.75      0.96      0.84        49\n",
      "                           Fresh Foods & Bakery;Dairy & Eggs;Butter & Spreads       0.90      0.86      0.88        21\n",
      "                                       Pantry;Salad & Cooking Oils;Other Oils       0.67      0.90      0.77        20\n",
      "                         Fresh Foods & Bakery;Bakery;Muffin Splits & Crumpets       0.00      0.00      0.00         4\n",
      "                                   Personal Care;Health & Wellness;Adult Care       0.96      0.93      0.94        27\n",
      "                                          Meal Spot;Ready to Heat;Ready Meals       1.00      0.33      0.50         9\n",
      "                                   Fresh Foods & Bakery;Seafood;Fresh Seafood       0.57      0.50      0.53         8\n",
      "                   Chilled, Frozen & Desserts;Dairy & Eggs;Fresh Organic Milk       0.50      0.82      0.62        17\n",
      "                           Pantry;Canned & Prepared Foods;Pizza & Pizza Bases       0.83      0.91      0.87        11\n",
      "             Kitchen, Dining & Household;Stationery & Entertainment;Magazines       1.00      0.80      0.89        15\n",
      "                                          Meal Spot;Ready to Heat;Canned Soup       0.55      0.80      0.65        15\n",
      "                  Personal Care;Health & Wellness;Wellness & Sports Nutrition       0.00      0.00      0.00         3\n",
      "                                         Pantry;Snack Foods;Nut Bars & Snacks       1.00      0.92      0.96        13\n",
      "                               Chilled, Frozen & Desserts;Cheese;Cream Cheese       0.95      0.95      0.95        22\n",
      "Fresh Foods & Bakery;Deli, Salads & Cooked Meats;Continental Sausage & Salami       0.00      0.00      0.00         9\n",
      "                                     Beer, Cider & Wine;Beer & Cider;Pale Ale       0.82      0.91      0.86        35\n",
      "                                   Pantry;Confectionery;Chocolate Family Bags       0.64      0.37      0.47        19\n",
      "                             Fresh Foods & Bakery;Butchery;PrePacked Sausages       0.88      0.98      0.93        53\n",
      "                                        Pantry;Breakfast Cereals;Cold Cereals       0.82      0.91      0.86        35\n",
      "                                              Pantry;Snack Foods;Potato Chips       0.89      1.00      0.94        40\n",
      "                                            Beer, Cider & Wine;Wine;Cask Wine       0.45      0.69      0.55        13\n",
      "                                         Meal Spot;Ready to Eat;Seafood Salad       0.91      0.53      0.67        19\n",
      "                             Personal Care;Health & Wellness;Insect Repellent       1.00      0.50      0.67         8\n",
      "                         Pantry;Baking Supplies & Sugar;Essences & Colourings       0.67      0.95      0.78        19\n",
      "                                 Personal Care;Health & Wellness;Stop Smoking       0.10      0.09      0.10        11\n",
      "                                   Pantry;Condiments & Dressings;Fruit Sauces       0.75      0.96      0.84        49\n",
      "                  Fresh Foods & Bakery;Bulk & Loose Foods;Bulk Snacks & Mixes       1.00      1.00      1.00        13\n",
      "    Kitchen, Dining & Household;Stationery & Entertainment;Stationery & Craft       0.79      1.00      0.88        15\n",
      "                                           Drinks;Cold Drinks;Flavoured Water       1.00      0.90      0.95        10\n",
      "                    Chilled, Frozen & Desserts;Frozen Foods;Frozen Vegetables       1.00      0.80      0.89        15\n",
      "                                             Drinks;Cold Drinks;Coconut Water       0.95      1.00      0.98        20\n",
      "                                                  Pantry;Hot Drinks;Chai Teas       0.57      1.00      0.73        12\n",
      "                       Personal Care;Health & Wellness;Vitamins & Supplements       0.00      0.00      0.00         3\n",
      "                          Fresh Foods & Bakery;Fruit & Vegetables;Fresh Herbs       0.50      0.82      0.62        17\n",
      "     Kitchen, Dining & Household;Stationery & Entertainment;Toys & Recreation       0.48      0.91      0.62        33\n",
      "                                              Pantry;Snack Foods;Bread Snacks       0.88      0.98      0.93        53\n",
      "                                            Pets;Pet Supplies;Dog Accessories       0.12      0.20      0.15        35\n",
      "                              Personal Care;Health & Wellness;Allergy & Sinus       0.20      0.12      0.15         8\n",
      "                                   Fresh Foods & Bakery;Seafood;Seafood Salad       0.21      0.38      0.27        16\n",
      "                                         Pantry;Pasta, Rice & Noodles;Noodles       0.86      0.86      0.86        14\n",
      "                                          Pantry;World Foods;South East Asian       0.22      0.25      0.24         8\n",
      "                   Fresh Foods & Bakery;Bulk & Loose Foods;Bulk Confectionery       1.00      0.96      0.98        26\n",
      "                                     Pantry;Confectionery;Chewing Gum & Mints       0.00      0.00      0.00         2\n",
      "                                        Meal Spot;Ready to Cook;Simply DINNER       0.22      0.25      0.24         8\n",
      "                                          Drinks;Cold Drinks;Vegetable Juices       0.29      0.30      0.29        20\n",
      "                        Kitchen, Dining & Household;Garage & Outdoor;Car Care       0.95      0.95      0.95        22\n",
      "                                   Baby, Toddler & Kids;Baby Care;Baby Health       0.27      0.96      0.42        51\n",
      "                                                     Pantry;Snack Foods;Chips       1.00      0.92      0.96        13\n",
      "              Chilled, Frozen & Desserts;Frozen Foods;Frozen Fries & Potatoes       1.00      0.95      0.97        20\n",
      "                                     Beer, Cider & Wine;Wine;Other White Wine       0.69      0.95      0.80        21\n",
      "                Pantry;Sauces, Stock & Marinades;Simmer & Stir-Through Sauces       1.00      0.64      0.78        14\n",
      "                                   Pantry;Spices & Seasonings;Garlic & Ginger       1.00      0.50      0.67         8\n",
      "                                        Drinks;Hot Drinks;Fruit & Herbal Teas       0.83      1.00      0.91        10\n",
      "                   Personal Care;Beauty & Grooming;Hair Styling & Accessories       1.00      0.94      0.97        16\n",
      "                                          Meal Spot;Ready to Cook;Pasta Meals       1.00      0.38      0.55        16\n",
      "                                               Drinks;Cold Drinks;Soft Drinks       0.00      0.00      0.00         5\n",
      "                 Chilled, Frozen & Desserts;Desserts;Ice Cream Cones & Wafers       0.77      0.89      0.83        19\n",
      "                      Pantry;Sauces, Stock & Marinades;Tomato Pastes & Purees       0.00      0.00      0.00         1\n",
      "                        Fresh Foods & Bakery;Bakery;Fresh Desserts & Pastries       0.00      0.00      0.00         7\n",
      "                       Personal Care;Beauty & Grooming;Shaving & Hair Removal       0.61      1.00      0.76        11\n",
      "       Kitchen, Dining & Household;Cleaning Products;Dishwasher Rinse & Clean       0.64      0.91      0.75        23\n",
      "                                Baby, Toddler & Kids;Baby Care;Baby Hair Care       1.00      0.52      0.69        23\n",
      "                     Chilled, Frozen & Desserts;Dairy & Eggs;Butter & Spreads       0.25      0.80      0.38        20\n",
      "                                   Drinks;Hot Drinks;Coffee Flavoured Sachets       0.33      0.43      0.38        21\n",
      "                         Personal Care;Beauty & Grooming;Face & Lip Skin Care       0.88      0.98      0.93        53\n",
      "                  Chilled, Frozen & Desserts;Desserts;Ready To Serve Puddings       0.00      0.00      0.00         3\n",
      "                               Fresh Foods & Bakery;Seafood;Fresh Smoked Fish       0.00      0.00      0.00         6\n",
      "                                                   Pets;Pet Supplies;Cat Food       0.60      1.00      0.75         3\n",
      "                                       Pantry;Condiments & Dressings;Vinegars       0.75      0.96      0.84        49\n",
      "                                     Pantry;Confectionery;Lollies Family Bags       1.00      0.20      0.33         5\n",
      "              Kitchen, Dining & Household;Garage & Outdoor;Gardening Supplies       1.00      0.96      0.98        26\n",
      "                                     Pantry;Salad & Cooking Oils;Coconut Oils       0.17      0.15      0.16        20\n",
      "                       Chilled, Frozen & Desserts;Frozen Foods;Frozen Seafood       0.89      1.00      0.94        40\n",
      "                          Chilled, Frozen & Desserts;Desserts;Frozen Puddings       0.65      0.96      0.77        48\n",
      "                                      Pantry;Spices & Seasonings;Dried Spices       0.25      0.33      0.29         6\n",
      "                                               Pantry;Snack Foods;Meat Snacks       0.75      0.56      0.64        16\n",
      "                             Kitchen, Dining & Household;Household;Electrical       0.68      0.90      0.78        21\n",
      "                                       Pantry;Condiments & Dressings;Chutneys       0.89      1.00      0.94        34\n",
      "           Fresh Foods & Bakery;Fruit & Vegetables;PrePacked Fresh Vegetables       0.49      0.78      0.60        23\n",
      "                                       Pantry;Sauces, Stock & Marinades;Stock       0.65      0.96      0.77        48\n",
      "                                  Pantry;Confectionery;Novelty Bars & Singles       1.00      0.96      0.98        26\n",
      "                             Pantry;Sauces, Stock & Marinades;Stir Fry Sauces       0.00      0.00      0.00         6\n",
      "                           Beer, Cider & Wine;Wine;Champagne & Sparkling Wine       0.82      0.88      0.85        16\n",
      "                        Fresh Foods & Bakery;Butchery;Fresh Chicken & Poultry       0.85      0.85      0.85        13\n",
      "                              Meal Spot;Ready to Heat;Chilled Pies & Pastries       0.62      1.00      0.76        45\n",
      "                                   Pantry;Canned & Prepared Foods;Canned Meat       0.75      0.56      0.64        16\n",
      "                                           Meal Spot;Ready to Eat;Deli Salads       0.62      0.38      0.48        13\n",
      "                                 Pantry;Hot Drinks;Chocolate Milk Drink Mixes       0.79      1.00      0.88        15\n",
      "           Chilled, Frozen & Desserts;Dairy & Eggs;Sour Cream & Crème Fraiche       0.82      0.88      0.85        16\n",
      "                                         Pantry;Condiments & Dressings;Olives       0.88      0.98      0.93        53\n",
      "                                                 Beer, Cider & Wine;Wine;Rose       1.00      0.71      0.83         7\n",
      "                                  Fresh Foods & Bakery;Bakery;Cakes & Muffins       0.93      0.98      0.95        43\n",
      "                     Fresh Foods & Bakery;Seafood;Fresh Fish Fillets & Steaks       0.73      0.96      0.83        28\n",
      "                           Pantry;Pasta, Rice & Noodles;Wild & Coloured Rices       0.20      0.33      0.25        15\n",
      "                                  Personal Care;Beauty & Grooming;Oral Health       0.64      0.91      0.75        23\n",
      "                            Kitchen, Dining & Household;Laundry;Clothing Dyes       1.00      0.70      0.82        10\n",
      "                            Pantry;Sauces, Stock & Marinades;Specialty Sauces       0.88      0.98      0.93        53\n",
      "         Chilled, Frozen & Desserts;Dairy & Eggs;Long Life Milk & Milk Powder       0.93      0.98      0.95        43\n",
      "          Kitchen, Dining & Household;Cleaning Products;Dishwasher Detergents       0.26      0.36      0.30        14\n",
      "                                Pantry;Condiments & Dressings;Salad Dressings       1.00      0.14      0.25         7\n",
      "                              Pantry;Biscuits & Crackers;Plain Sweet Biscuits       0.83      0.77      0.80        26\n",
      "                                Fresh Foods & Bakery;Seafood;Fresh Fish Heads       0.29      0.30      0.29        20\n",
      "                                        Pantry;Condiments & Dressings;Pickles       0.93      0.98      0.95        43\n",
      "                                     Pantry;Condiments & Dressings;Mayonnaise       0.88      0.98      0.93        53\n",
      "                 Fresh Foods & Bakery;Deli, Salads & Cooked Meats;Deli Salads       0.80      0.53      0.64        15\n",
      "                              Pantry;Jams, Honey & Spreads;Marmite & Vegemite       0.84      0.95      0.89        22\n",
      "                             Kitchen, Dining & Household;Laundry;Laundry Soap       0.33      0.80      0.47        10\n",
      "                                               Drinks;Cold Drinks;Still Water       0.75      0.64      0.69        14\n",
      "                          Fresh Foods & Bakery;Fruit & Vegetables;Fresh Fruit       0.93      1.00      0.97        14\n",
      "                                             Pantry;World Foods;South African       1.00      0.83      0.91         6\n",
      "             Chilled, Frozen & Desserts;Frozen Foods;Frozen Beef, Lamb & Pork       1.00      0.20      0.33         5\n",
      "                                       Pantry;Salad & Cooking Oils;Oil Sprays       0.00      0.00      0.00         7\n",
      "                              Fresh Foods & Bakery;Dairy & Eggs;Yoghurt Bases       0.00      0.00      0.00         4\n",
      "                           Personal Care;Beauty & Grooming;Suncare & Self Tan       1.00      0.62      0.76        13\n",
      "                       Kitchen, Dining & Household;Cleaning Products;Bleaches       0.62      1.00      0.76        45\n",
      "                                                        Pantry;World Foods;UK       0.12      0.11      0.12        45\n",
      "                           Beer, Cider & Wine;Beer & Cider;Apple & Pear Cider       1.00      1.00      1.00        24\n",
      "                         Fresh Foods & Bakery;Dairy & Eggs;Fresh Organic Milk       0.82      1.00      0.90         9\n",
      "                  Kitchen, Dining & Household;Household;Pest & Insect Control       0.25      0.80      0.38        20\n",
      "                                     Pantry;Pasta, Rice & Noodles;Pasta Meals       0.93      0.98      0.95        43\n",
      "        Fresh Foods & Bakery;Deli, Salads & Cooked Meats;Fresh Deli Savouries       0.17      0.08      0.11        12\n",
      "                                            Pantry;Hot Drinks;Coffee Capsules       0.88      1.00      0.93         7\n",
      "                        Pantry;Baking Supplies & Sugar;Breadcrumbs & Coatings       0.79      1.00      0.88        19\n",
      "                                     Fresh Foods & Bakery;Butchery;Fresh Pork       0.00      0.00      0.00         4\n",
      "                         Fresh Foods & Bakery;Fruit & Vegetables;Fresh Salads       0.00      0.00      0.00         2\n",
      "                              Kitchen, Dining & Household;Household;Shoe Care       0.83      0.83      0.83         6\n",
      "                      Fresh Foods & Bakery;Fruit & Vegetables;Fresh Cut Fruit       0.67      0.95      0.78        19\n",
      "                                      Drinks;Hot Drinks;Malt Milk Drink Mixes       0.14      0.14      0.14         7\n",
      "                                     Meal Spot;Ready to Heat;Frozen Savouries       0.72      0.87      0.79        15\n",
      "                  Chilled, Frozen & Desserts;Desserts;Frozen Dessert Pastries       0.17      0.12      0.14        16\n",
      "                             Baby, Toddler & Kids;Baby Care;Nursing & Feeding       0.56      1.00      0.72        41\n",
      "                          Pantry;Condiments & Dressings;Worcestershire Sauces       0.17      0.12      0.14        16\n",
      "                 Chilled, Frozen & Desserts;Frozen Foods;Frozen Pizza & Bases       0.00      0.00      0.00         3\n",
      "                                 Chilled, Frozen & Desserts;Dairy & Eggs;Eggs       0.25      0.80      0.38        20\n",
      "                            Fresh Foods & Bakery;Fruit & Vegetables;Vege Bags       1.00      0.17      0.29         6\n",
      "                             Beer, Cider & Wine;Beer & Cider;Brewing Supplies       0.00      0.00      0.00         3\n",
      "                                   Pantry;Hot Drinks;Coffee Flavoured Sachets       0.27      0.96      0.42        51\n",
      "               Fresh Foods & Bakery;Dairy & Eggs;Long Life Milk & Milk Powder       0.48      0.91      0.62        33\n",
      "                                                   Pantry;Snack Foods;Popcorn       0.56      0.83      0.67         6\n",
      "                              Personal Care;Health & Wellness;Family Planning       1.00      0.88      0.93         8\n",
      "                            Pantry;Baking Supplies & Sugar;Icing & Decorating       0.85      0.85      0.85        27\n",
      "                                 Fresh Foods & Bakery;Butchery;PrePacked Pork       0.00      0.00      0.00         3\n",
      "                                Pantry;Pasta, Rice & Noodles;Long Grain Rices       0.88      0.98      0.93        53\n",
      "                                        Pantry;Confectionery;Boxed Chocolates       0.64      0.53      0.58        17\n",
      "                              Chilled, Frozen & Desserts;Cheese;Grated Cheese       0.33      0.43      0.38        21\n",
      "                           Chilled, Frozen & Desserts;Dairy & Eggs;Fresh Milk       1.00      0.50      0.67         4\n",
      "                           Kitchen, Dining & Household;Household;Food Storage       0.55      0.90      0.68        40\n",
      "                                                 Drinks;Hot Drinks;Green Teas       0.33      0.33      0.33        21\n",
      "                    Chilled, Frozen & Desserts;Frozen Foods;Frozen Vegetarian       0.95      0.95      0.95        22\n",
      "                      Kitchen, Dining & Household;Laundry;Fine Fabric Washers       0.80      1.00      0.89         4\n",
      "                                            Drinks;Hot Drinks;Instant Coffees       0.72      0.87      0.79        15\n",
      "                  Fresh Foods & Bakery;Deli, Salads & Cooked Meats;Deli Meats       0.00      0.00      0.00         9\n",
      "                     Kitchen, Dining & Household;Household;Cooking & Bakeware       0.12      0.20      0.15        35\n",
      "                                         Pantry;Breakfast Cereals;Hot Cereals       1.00      1.00      1.00         9\n",
      "                   Baby, Toddler & Kids;Baby Care;Baby Formula & Toddler Food       0.31      0.18      0.23        22\n",
      "                                   Pantry;Canned & Prepared Foods;Canned Fish       1.00      0.80      0.89        15\n",
      "                      Fresh Foods & Bakery;Butchery;Fresh Venison & Game Meat       0.79      0.96      0.87        28\n",
      "   Fresh Foods & Bakery;Deli, Salads & Cooked Meats;Gourmet Oils & Condiments       0.92      0.92      0.92        12\n",
      "                                                      Pantry;World Foods;Thai       0.67      0.95      0.78        19\n",
      "                                 Drinks;Hot Drinks;Chocolate Milk Drink Mixes       0.73      0.96      0.83        28\n",
      "                   Kitchen, Dining & Household;Cleaning Products;Paper Towels       0.56      0.83      0.67         6\n",
      "                                 Pantry;Breakfast Cereals;Breakfast On The Go       0.70      0.64      0.67        11\n",
      "               Kitchen, Dining & Household;Cleaning Products;Kitchen Cleaners       0.79      0.96      0.87        28\n",
      "                                                 Drinks;Cold Drinks;Iced Teas       0.09      0.09      0.09        11\n",
      "                                 Pantry;Baking Supplies & Sugar;Baking Syrups       0.33      0.43      0.38        21\n",
      "                                Pantry;Biscuits & Crackers;Biscuits & Cookies       0.11      0.09      0.10        11\n",
      "                             Kitchen, Dining & Household;Laundry;Clothes Pegs       0.90      0.86      0.88        21\n",
      "                                 Fresh Foods & Bakery;Meal Kits;Simply DINNER       0.48      0.91      0.62        33\n",
      "                                 Drinks;Cold Drinks;Squash, Syrups & Cordials       0.48      0.61      0.54        23\n",
      "                                          Beer, Cider & Wine;Beer & Cider;IPA       0.17      0.15      0.16        20\n",
      "                                 Fresh Foods & Bakery;Bakery;Specialty Breads       1.00      0.88      0.93         8\n",
      "                  Kitchen, Dining & Household;Laundry;Pre Wash Stain Removers       0.29      0.30      0.29        20\n",
      "                                        Beer, Cider & Wine;Beer & Cider;Lager       0.55      0.90      0.68        40\n",
      "                                   Pantry;Pasta, Rice & Noodles;Basmati Rices       0.29      0.30      0.29        20\n",
      "                        Pantry;Pasta, Rice & Noodles;Specialty Grains & Seeds       0.64      0.91      0.75        23\n",
      "               Fresh Foods & Bakery;Bulk & Loose Foods;Bulk Breakfast Cereals       0.17      0.08      0.11        12\n",
      "                                              Drinks;Hot Drinks;Fresh Coffees       0.89      1.00      0.94        40\n",
      "                                          Pantry;Snack Foods;Nutritional Bars       0.33      0.43      0.38        21\n",
      "                 Chilled, Frozen & Desserts;Dairy & Eggs;Dairy & Lactose Free       1.00      0.88      0.93         8\n",
      "                       Fresh Foods & Bakery;Deli, Salads & Cooked Meats;Bacon       0.00      0.00      0.00         3\n",
      "                                            Meal Spot;Ready to Cook;Vege Bags       0.33      0.43      0.38        21\n",
      "                              Chilled, Frozen & Desserts;Cheese;Cheese Blocks       0.00      0.00      0.00         3\n",
      "                                           Drinks;Cold Drinks;Sparkling Water       1.00      0.92      0.96        13\n",
      "                      Pantry;Pasta, Rice & Noodles;Short & Medium Grain Rices       0.17      0.08      0.11        12\n",
      "\n",
      "                                                                    micro avg       0.61      0.75      0.67     65240\n",
      "                                                                    macro avg       0.61      0.62      0.59     65240\n",
      "                                                                 weighted avg       0.66      0.75      0.67     65240\n",
      "\n"
     ]
    },
    {
     "name": "stderr",
     "output_type": "stream",
     "text": [
      "d:\\python\\lib\\site-packages\\sklearn\\metrics\\_classification.py:1245: UndefinedMetricWarning: Recall is ill-defined and being set to 0.0 in labels with no true samples. Use `zero_division` parameter to control this behavior.\n",
      "  _warn_prf(average, modifier, msg_start, len(result))\n",
      "d:\\python\\lib\\site-packages\\sklearn\\metrics\\_classification.py:1982: UserWarning: labels size, 3616, does not match size of target_names, 429\n",
      "  warnings.warn(\n",
      "d:\\python\\lib\\site-packages\\sklearn\\metrics\\_classification.py:1245: UndefinedMetricWarning: Precision and F-score are ill-defined and being set to 0.0 in labels with no predicted samples. Use `zero_division` parameter to control this behavior.\n",
      "  _warn_prf(average, modifier, msg_start, len(result))\n",
      "d:\\python\\lib\\site-packages\\sklearn\\metrics\\_classification.py:1245: UndefinedMetricWarning: Precision and F-score are ill-defined and being set to 0.0 in labels with no predicted samples. Use `zero_division` parameter to control this behavior.\n",
      "  _warn_prf(average, modifier, msg_start, len(result))\n",
      "d:\\python\\lib\\site-packages\\sklearn\\metrics\\_classification.py:1245: UndefinedMetricWarning: Precision and F-score are ill-defined and being set to 0.0 in labels with no predicted samples. Use `zero_division` parameter to control this behavior.\n",
      "  _warn_prf(average, modifier, msg_start, len(result))\n"
     ]
    }
   ],
   "source": [
    "model = LogisticRegression(max_iter=500)\n",
    "model.fit(x_train, y_train)\n",
    "predict_labels = model.predict(x_test)\n",
    "predict_labels = [np.round(p) for p in predict_labels]\n",
    "max_label = len(id2label) - 1\n",
    "predict_labels = [l if max_label >= l else max_label for l in predict_labels]\n",
    "min_label = 0\n",
    "predict_labels = [l if min_label <= l else min_label for l in predict_labels]\n",
    "evaluation(predict_labels, y_test, id2label, \"logistic\")"
   ],
   "metadata": {
    "collapsed": false,
    "pycharm": {
     "name": "#%%\n"
    }
   }
  },
  {
   "cell_type": "code",
   "execution_count": 20,
   "outputs": [
    {
     "name": "stdout",
     "output_type": "stream",
     "text": [
      "logistic: acc:0.6238938053097345, recall:0.4090618916506304, f1 score:0.40538390472331304\n",
      "                                                                               precision    recall  f1-score   support\n",
      "\n",
      "                       Chilled, Frozen & Desserts;Dairy & Eggs;Flavoured Milk       1.00      0.25      0.40         4\n",
      "                                        Pantry;Hot Drinks;Fruit & Herbal Teas       0.92      1.00      0.96        12\n",
      "                                        Meal Spot;Ready to Heat;Chilled Soups       0.00      0.00      0.00         2\n",
      "                                    Pantry;Pasta, Rice & Noodles;Dried Pastas       0.63      1.00      0.78        45\n",
      "                          Fresh Foods & Bakery;Bakery;Fresh Biscuits & Slices       0.00      0.00      0.00        11\n",
      "                                               Pantry;Snack Foods;Vege Snacks       0.93      1.00      0.96        40\n",
      "                                               Pantry;Confectionery;Liquorice       0.92      1.00      0.96        12\n",
      "                             Fresh Foods & Bakery;Bakery;Garlic & Herb Breads       0.00      0.00      0.00         5\n",
      "                                          Meal Spot;Ready to Heat;Packet Soup       1.00      0.62      0.76        13\n",
      "                    Pantry;Sauces, Stock & Marinades;Tartare & Seafood Sauces       0.88      1.00      0.94        15\n",
      "                       Pantry;Canned & Prepared Foods;Baked Beans & Spaghetti       0.67      0.95      0.78        19\n",
      "                            Kitchen, Dining & Household;Household;Kitchenware       0.56      0.90      0.69        40\n",
      "                                   Pantry;Canned & Prepared Foods;Ready Meals       0.72      0.67      0.69        27\n",
      "                                  Personal Care;Health & Wellness;Pain Relief       1.00      0.38      0.55        16\n",
      "                                       Pantry;Condiments & Dressings;Mustards       0.00      0.00      0.00         4\n",
      "                                              Pantry;Hot Drinks;Fresh Coffees       0.79      0.83      0.81        18\n",
      "                                       Pantry;Spices & Seasonings;Dried Herbs       0.86      0.80      0.83        15\n",
      "                                Pantry;Sauces, Stock & Marinades;Pasta Sauces       0.88      0.98      0.93        53\n",
      "                                    Drinks;Cold Drinks;Sports & Energy Drinks       1.00      0.62      0.76        13\n",
      "                       Pantry;Sauces, Stock & Marinades;Curry Pastes & Sauces       0.91      0.83      0.87        12\n",
      "                           Kitchen, Dining & Household;Garage & Outdoor;Hooks       0.29      0.20      0.24        10\n",
      "                                    Baby, Toddler & Kids;Baby Care;Baby Wipes       0.00      0.00      0.00         6\n",
      "                                        Pantry;Biscuits & Crackers;Rice Cakes       0.52      1.00      0.69        11\n",
      "                           Fresh Foods & Bakery;Fruit & Vegetables;Salad Bags       0.00      0.00      0.00         4\n",
      "                                 Pantry;Breakfast Cereals;Flake/Fibre Cereals       1.00      0.52      0.69        23\n",
      "                               Pantry;Canned & Prepared Foods;Syrups & Sauces       0.00      0.00      0.00         4\n",
      "                                Fresh Foods & Bakery;Seafood;Fresh Whole Fish       0.29      0.20      0.24        10\n",
      "                       Fresh Foods & Bakery;Dairy & Eggs;Dairy & Lactose Free       0.88      0.98      0.93        53\n",
      "                              Pantry;Spices & Seasonings;Freshly Ground Herbs       0.90      1.00      0.95         9\n",
      "                               Pantry;Sauces, Stock & Marinades;Packet Sauces       1.00      0.33      0.50         3\n",
      "                                         Meal Spot;Ready to Cook;Noodle Meals       0.00      0.00      0.00         1\n",
      "                                                  Pantry;World Foods;Japanese       1.00      0.38      0.55        16\n",
      "                                    Personal Care;Health & Wellness;Foot Care       0.49      0.91      0.64        33\n",
      "                                                   Pantry;World Foods;Mexican       0.33      0.40      0.36        10\n",
      "                            Fresh Foods & Bakery;Bakery;Organic & Gluten Free       0.14      0.09      0.11        11\n",
      "                                 Pantry;Jams, Honey & Spreads;Jam & Marmalade       0.70      0.82      0.76        17\n",
      "                                    Pantry;Pasta, Rice & Noodles;Noodle Meals       0.33      0.25      0.29         4\n",
      "                               Personal Care;Beauty & Grooming;Hair Colouring       0.82      0.88      0.85        16\n",
      "           Kitchen, Dining & Household;Cleaning Products;All Purpose Cleaners       1.00      0.52      0.69        23\n",
      "                     Pantry;Canned & Prepared Foods;Canned & Dried Vegetables       0.78      1.00      0.88         7\n",
      "                                       Pantry;Salad & Cooking Oils;Olive Oils       1.00      0.80      0.89        15\n",
      "                                     Pantry;Sauces, Stock & Marinades;Gravies       0.00      0.00      0.00         1\n",
      "                                                    Pantry;World Foods;Indian       0.48      0.82      0.61        17\n",
      "                            Fresh Foods & Bakery;Bakery;Fresh Cakes & Muffins       0.00      0.00      0.00         5\n",
      "                                                   Pantry;World Foods;Chinese       0.95      0.98      0.97        43\n",
      "                                                 Pets;Pet Supplies;Dog Treats       0.24      0.20      0.22        20\n",
      "                                            Pantry;Hot Drinks;Instant Coffees       1.00      0.82      0.90        11\n",
      "                                   Pantry;Pasta, Rice & Noodles;Jasmine Rices       1.00      0.67      0.80         6\n",
      "                                          Drinks;Cold Drinks;Milk Drink Mixes       0.50      0.83      0.62        23\n",
      "                                 Fresh Foods & Bakery;Seafood;Fresh Shellfish       0.20      0.12      0.15         8\n",
      "                     Beer, Cider & Wine;Beer & Cider;Wheat & Other Grain Beer       0.68      0.90      0.78        21\n",
      "                                      Beer, Cider & Wine;Wine;Sauvignon Blanc       0.26      0.36      0.30        14\n",
      "                            Baby, Toddler & Kids;Baby Care;Nappies & Changing       0.75      0.98      0.85        49\n",
      "                       Chilled, Frozen & Desserts;Cheese;Deli Cabinet Cheeses       0.00      0.00      0.00         5\n",
      "                           Pantry;Canned & Prepared Foods;Canned Milk & Cream       0.88      1.00      0.94        15\n",
      "                              Baby, Toddler & Kids;Baby Care;Baby Dental Care       1.00      0.95      0.97        20\n",
      "                                           Beer, Cider & Wine;Wine;Chardonnay       0.50      0.65      0.57        23\n",
      "                            Beer, Cider & Wine;Beer & Cider;British-style Ale       0.00      0.00      0.00         3\n",
      "                           Pantry;Baking Supplies & Sugar;Baking Nuts & Seeds       1.00      0.62      0.76        13\n",
      "          Fresh Foods & Bakery;Deli, Salads & Cooked Meats;Dips, Pesto & Pate       0.59      1.00      0.75        41\n",
      "                                     Pantry;Jams, Honey & Spreads;Nut Spreads       0.87      1.00      0.93        34\n",
      "                          Chilled, Frozen & Desserts;Desserts;Canned Desserts       0.49      0.91      0.64        33\n",
      "                                              Meal Spot;Ready to Cook;Mexican       0.86      1.00      0.92        12\n",
      "                          Chilled, Frozen & Desserts;Frozen Foods;Frozen Pies       1.00      0.17      0.29        12\n",
      "         Fresh Foods & Bakery;Bulk & Loose Foods;Bulk Seeds, Legumes & Grains       0.88      0.98      0.93        53\n",
      "                                                 Pantry;Hot Drinks;Black Teas       0.00      0.00      0.00         1\n",
      " Fresh Foods & Bakery;Deli, Salads & Cooked Meats;PreCooked Chicken & Poultry       0.45      0.83      0.59         6\n",
      "                                               Pantry;Snack Foods;Snack Mixes       0.22      0.44      0.29        16\n",
      "           Kitchen, Dining & Household;Cleaning Products;Cleaning Accessories       1.00      0.88      0.93         8\n",
      "                                             Beer, Cider & Wine;Wine;Cabernet       1.00      0.44      0.62         9\n",
      "                         Kitchen, Dining & Household;Laundry;Laundry Supplies       0.75      0.98      0.85        49\n",
      "                                Fresh Foods & Bakery;Dairy & Eggs;Fresh Cream       0.49      0.91      0.64        33\n",
      "                             Fresh Foods & Bakery;Butchery;PreCooked Sausages       0.00      0.00      0.00         9\n",
      "                   Kitchen, Dining & Household;Household;Disposable Tableware       1.00      0.50      0.67         8\n",
      "                                           Beer, Cider & Wine;Wine;Pinot Gris       0.00      0.00      0.00         4\n",
      "                          Chilled, Frozen & Desserts;Frozen Foods;Frozen Fish       0.00      0.00      0.00         2\n",
      "                Kitchen, Dining & Household;Garage & Outdoor;Hardware & Tools       0.72      1.00      0.84        18\n",
      "     Kitchen, Dining & Household;Cleaning Products;Furniture & Metal Polishes       1.00      0.62      0.76        13\n",
      "                                             Pets;Pet Supplies;Pet Treatments       0.79      0.96      0.87        28\n",
      "       Fresh Foods & Bakery;Deli, Salads & Cooked Meats;PreCooked Beef & Lamb       0.86      0.86      0.86         7\n",
      "                          Personal Care;Health & Wellness;Sanitary Protection       0.50      0.65      0.57        23\n",
      "                                                   Pets;Pet Supplies;Dog Food       0.68      0.90      0.78        21\n",
      "                                           Drinks;Cold Drinks;Powdered Drinks       1.00      0.20      0.33         5\n",
      "                                 Meal Spot;Ready to Heat;Frozen Pizza & Bases       0.69      0.82      0.75        11\n",
      "                        Pantry;Sauces, Stock & Marinades;Chilled Pasta Sauces       0.55      1.00      0.71        11\n",
      "                                                 Drinks;Hot Drinks;Black Teas       0.72      1.00      0.84        18\n",
      "                                       Beer, Cider & Wine;Wine;Other Red Wine       0.93      1.00      0.96        13\n",
      "                             Kitchen, Dining & Household;Household;Manchester       1.00      0.43      0.60         7\n",
      "                                         Pantry;Baking Supplies & Sugar;Flour       0.00      0.00      0.00         4\n",
      "                      Fresh Foods & Bakery;Deli, Salads & Cooked Meats;Hummus       1.00      0.62      0.76        13\n",
      "                                           Pantry;Jams, Honey & Spreads;Honey       0.48      0.82      0.61        17\n",
      "                 Chilled, Frozen & Desserts;Dairy & Eggs;Yoghurt & Dairy Food       0.00      0.00      0.00         2\n",
      "                                         Pantry;Hot Drinks;Coffee Substitutes       1.00      0.36      0.53        11\n",
      "                          Kitchen, Dining & Household;Laundry;Laundry Powders       0.00      0.00      0.00        12\n",
      "                              Pantry;Baking Supplies & Sugar;Baking Additives       0.64      0.70      0.67        10\n",
      "                            Personal Care;Health & Wellness;Cough, Cold & Flu       0.88      1.00      0.94        15\n",
      "                                   Pantry;Salad & Cooking Oils;Rice Bran Oils       0.00      0.00      0.00         3\n",
      "                                     Fresh Foods & Bakery;Bakery;Sliced Bread       1.00      1.00      1.00         3\n",
      "                         Chilled, Frozen & Desserts;Frozen Foods;Frozen Fruit       0.89      0.73      0.80        11\n",
      "     Kitchen, Dining & Household;Cleaning Products;Bathroom & Shower Cleaners       0.86      1.00      0.92        12\n",
      "                                   Pantry;Baking Supplies & Sugar;Dried Fruit       0.49      0.91      0.64        33\n",
      "                                          Meal Spot;Ready to Eat;Fresh Salads       0.64      0.96      0.77        48\n",
      "                                       Fresh Foods & Bakery;Dairy & Eggs;Eggs       1.00      0.52      0.69        23\n",
      "                Kitchen, Dining & Household;Laundry;Laundry Liquid & Capsules       0.20      0.12      0.15         8\n",
      "                             Fresh Foods & Bakery;Dairy & Eggs;Flavoured Milk       0.87      1.00      0.93        34\n",
      "                              Pantry;Biscuits & Crackers;Crème & Jam Biscuits       1.00      0.88      0.93         8\n",
      "                                      Beer, Cider & Wine;Beer & Cider;Pilsner       0.72      0.67      0.69        27\n",
      "                          Fresh Foods & Bakery;Butchery;PrePacked Beef & Lamb       0.57      1.00      0.73        12\n",
      "                      Beer, Cider & Wine;Beer & Cider;Fruit & Flavoured Cider       0.93      0.96      0.95        27\n",
      "                                                 Pets;Pet Supplies;Cat Treats       0.00      0.00      0.00         4\n",
      "               Chilled, Frozen & Desserts;Desserts;Ice Cream & Frozen Yoghurt       0.95      0.98      0.97        43\n",
      "                   Beer, Cider & Wine;Beer & Cider;Specialty & Flavoured Beer       0.48      0.82      0.61        17\n",
      "                                   Pantry;Pasta, Rice & Noodles;Instant Rices       0.50      0.65      0.57        23\n",
      "                Kitchen, Dining & Household;Household;Batteries & Light Bulbs       1.00      0.95      0.97        20\n",
      "                                    Pantry;Pasta, Rice & Noodles;Fresh Pastas       0.90      1.00      0.95         9\n",
      "                                     Pantry;Salad & Cooking Oils;Avocado Oils       0.86      0.86      0.86         7\n",
      "                                      Pantry;Hot Drinks;Malt Milk Drink Mixes       0.79      0.65      0.71        17\n",
      "                              Fresh Foods & Bakery;Bakery;Wraps & Pita Breads       1.00      0.92      0.96        13\n",
      "                             Pantry;Baking Supplies & Sugar;Cooking Chocolate       0.93      1.00      0.96        40\n",
      "                                  Meal Spot;Ready to Eat;Fresh Deli Savouries       0.88      0.98      0.93        53\n",
      "                                             Pantry;Snack Foods;Dips & Salsas       0.75      0.63      0.69        19\n",
      "                                  Pantry;Baking Supplies & Sugar;Baking Mixes       0.63      1.00      0.78        45\n",
      "                                   Pantry;Sauces, Stock & Marinades;Marinades       0.13      0.20      0.16        35\n",
      "                                           Drinks;Cold Drinks;Non Dairy Milks       0.47      0.69      0.56        13\n",
      "                         Chilled, Frozen & Desserts;Desserts;Chilled Custards       0.72      0.67      0.69        27\n",
      "                                  Pantry;Spices & Seasonings;Chilli & Paprika       0.69      0.90      0.78        20\n",
      "                                            Pets;Pet Supplies;Cat Accessories       0.00      0.00      0.00         1\n",
      "                                          Pantry;Biscuits & Crackers;Crackers       1.00      0.92      0.96        13\n",
      "                                     Drinks;Cold Drinks;Fruit Drinks & Juices       1.00      0.25      0.40         4\n",
      "                                          Pantry;Condiments & Dressings;Aioli       0.50      0.65      0.57        23\n",
      "                                         Pantry;Baking Supplies & Sugar;Sugar       1.00      0.50      0.67         8\n",
      "                                     Pantry;Spices & Seasonings;Salt & Pepper       0.75      0.64      0.69        14\n",
      "                       Personal Care;Beauty & Grooming;Hair Care & Treatments       0.80      0.86      0.83        14\n",
      "                                   Pantry;Canned & Prepared Foods;Canned Soup       0.32      0.38      0.35        21\n",
      "                      Kitchen, Dining & Household;Household;Food Wraps & Bags       0.93      1.00      0.97        14\n",
      "                             Pantry;Baking Supplies & Sugar;Sugar Substitutes       0.00      0.00      0.00         7\n",
      "                                                  Drinks;Hot Drinks;Chai Teas       0.26      0.36      0.30        14\n",
      "                             Kitchen, Dining & Household;Garage & Outdoor;BBQ       0.56      0.90      0.69        40\n",
      "                    Fresh Foods & Bakery;Butchery;PrePacked Chicken & Poultry       0.12      0.11      0.12        45\n",
      "                         Pantry;Condiments & Dressings;Chilli & Pepper Sauces       0.86      0.89      0.87        35\n",
      "                 Kitchen, Dining & Household;Household;Tissues & Toilet Paper       0.00      0.00      0.00         2\n",
      "                               Kitchen, Dining & Household;Household;Homeware       0.49      0.91      0.64        33\n",
      "                                                       Pantry;World Foods;USA       0.91      1.00      0.95        10\n",
      "                                   Pantry;Salad & Cooking Oils;Vegetable Oils       0.63      1.00      0.78        45\n",
      "                        Beer, Cider & Wine;Beer & Cider;Lighter Alcohol Beers       1.00      0.60      0.75         5\n",
      "                       Fresh Foods & Bakery;Dairy & Eggs;Yoghurt & Dairy Food       0.32      0.38      0.35        21\n",
      "                                            Pets;Pet Supplies;Pet Accessories       0.88      0.58      0.70        12\n",
      "                                  Pantry;Salad & Cooking Oils;Nut & Seed Oils       0.00      0.00      0.00        12\n",
      "                 Kitchen, Dining & Household;Laundry;Washing Machine Cleaners       0.24      0.20      0.22        20\n",
      "                     Fresh Foods & Bakery;Fruit & Vegetables;Fresh Vegetables       0.95      0.95      0.95        22\n",
      "                                           Beer, Cider & Wine;Wine;Pinot Noir       0.00      0.00      0.00         3\n",
      "                   Chilled, Frozen & Desserts;Frozen Foods;Frozen Ready Meals       0.50      0.83      0.62        23\n",
      "                             Fresh Foods & Bakery;Bakery;Fresh Breads & Rolls       0.10      0.18      0.13        17\n",
      "                                      Pantry;Salad & Cooking Oils;Cooking Fat       0.50      0.33      0.40         3\n",
      "                                               Beer, Cider & Wine;Wine;Shiraz       0.68      0.91      0.78        23\n",
      "           Kitchen, Dining & Household;Household;Air Fresheners & Deodorisers       1.00      0.20      0.33         5\n",
      "                         Kitchen, Dining & Household;Laundry;Fabric Softeners       0.85      0.85      0.85        27\n",
      "                               Pantry;Sauces, Stock & Marinades;Tomato Sauces       0.64      0.70      0.67        10\n",
      "                                           Pantry;World Foods;Other Countries       0.88      0.98      0.93        53\n",
      "                                  Fresh Foods & Bakery;Bakery;Pies & Pastries       0.67      0.20      0.31        10\n",
      "                              Chilled, Frozen & Desserts;Cheese;Cheese Slices       0.79      1.00      0.88        19\n",
      "                                    Personal Care;Health & Wellness;First Aid       1.00      0.52      0.69        23\n",
      "                              Drinks;Cold Drinks;Drinking Yoghurt & Smoothies       0.00      0.00      0.00         7\n",
      "                               Fresh Foods & Bakery;Bakery;Bread Rolls & Buns       0.93      1.00      0.96        40\n",
      "                       Pantry;Biscuits & Crackers;Gourmet Biscuits & Crackers       0.10      0.09      0.10        11\n",
      "                                        Pantry;Confectionery;Chocolate Blocks       1.00      1.00      1.00        24\n",
      "                                         Drinks;Hot Drinks;Coffee Substitutes       1.00      0.50      0.67         2\n",
      "                                            Drinks;Hot Drinks;Coffee Capsules       1.00      1.00      1.00         9\n",
      "                                      Drinks;Cold Drinks;Chilled Fruit Juices       1.00      0.88      0.93         8\n",
      "                 Fresh Foods & Bakery;Dairy & Eggs;Sour Cream & Crème Fraiche       0.10      0.09      0.10        11\n",
      "                                 Fresh Foods & Bakery;Dairy & Eggs;Fresh Milk       1.00      0.33      0.50         9\n",
      "                              Fresh Foods & Bakery;Butchery;Fresh Beef & Lamb       1.00      0.95      0.97        20\n",
      "                                Pets;Pet Supplies;Fish & Aquatic Pet Supplies       0.82      0.88      0.85        16\n",
      "            Chilled, Frozen & Desserts;Desserts;Frozen Bavarians & Cheesecake       0.50      0.65      0.57        23\n",
      "    Fresh Foods & Bakery;Deli, Salads & Cooked Meats;Olives & Antipasti Mixes       0.67      0.93      0.78        15\n",
      "             Kitchen, Dining & Household;Cleaning Products;Dishwashing Liquid       1.00      0.88      0.93        24\n",
      "                                   Pantry;Jams, Honey & Spreads;Sweet Spreads       0.00      0.00      0.00         6\n",
      "                        Chilled, Frozen & Desserts;Dairy & Eggs;Yoghurt Bases       0.17      0.12      0.14        16\n",
      "                      Baby, Toddler & Kids;Baby Care;Baby Bathing & Skin Care       0.63      1.00      0.78        45\n",
      "                                 Fresh Foods & Bakery;Butchery;Fresh Sausages       0.83      0.91      0.87        11\n",
      "            Kitchen, Dining & Household;Stationery & Entertainment;Newspapers       1.00      0.96      0.98        26\n",
      "         Fresh Foods & Bakery;Deli, Salads & Cooked Meats;Specialty Dry Goods       1.00      0.88      0.93         8\n",
      "     Fresh Foods & Bakery;Deli, Salads & Cooked Meats;Chilled Pies & Pastries       0.50      0.83      0.62        23\n",
      "                                Fresh Foods & Bakery;Bakery;Biscuits & Slices       0.63      1.00      0.78        45\n",
      "                                  Pantry;Canned & Prepared Foods;Canned Fruit       1.00      0.38      0.55        16\n",
      "                             Personal Care;Beauty & Grooming;Hand & Body Care       0.75      0.96      0.84        28\n",
      "                                     Pantry;Biscuits & Crackers;Rice Crackers       0.00      0.00      0.00         7\n",
      "                                    Pantry;Canned & Prepared Foods;Vegetarian       0.50      0.83      0.62        23\n",
      "                                               Pantry;Confectionery;Christmas       1.00      0.64      0.78        14\n",
      "                                    Pantry;Condiments & Dressings;Mint Sauces       0.45      0.83      0.59         6\n",
      "                           Beer, Cider & Wine;Beer & Cider;American-style Ale       0.86      0.89      0.87        35\n",
      "                     Chilled, Frozen & Desserts;Cheese;Deli Specialty Cheeses       0.75      0.96      0.84        28\n",
      "                                   Meal Spot;Ready to Heat;Frozen Ready Meals       0.53      1.00      0.69         9\n",
      "                                 Pantry;Hot Drinks;Coffee Additives & Filters       0.91      1.00      0.95        10\n",
      "                   Beer, Cider & Wine;Beer & Cider;Stout, Porter & Black Beer       1.00      0.89      0.94         9\n",
      "                         Kitchen, Dining & Household;Household;Party Supplies       1.00      0.50      0.67         8\n",
      "                  Kitchen, Dining & Household;Household;Rubbish & Vacuum Bags       1.00      0.50      0.67        14\n",
      "                      Pantry;Biscuits & Crackers;Assorted Biscuits & Crackers       0.93      1.00      0.96        13\n",
      "                          Chilled, Frozen & Desserts;Cheese;Deli Cheeseboards       0.59      1.00      0.75        41\n",
      "                           Beer, Cider & Wine;Beer & Cider;European-style Ale       0.50      0.65      0.57        23\n",
      "                     Fresh Foods & Bakery;Bulk & Loose Foods;Bulk Dried Fruit       0.00      0.00      0.00         2\n",
      "                                      Beer, Cider & Wine;Beer & Cider;Spirits       0.86      0.75      0.80         8\n",
      "                        Chilled, Frozen & Desserts;Frozen Foods;Frozen Pastry       0.67      0.80      0.73        15\n",
      "                                 Drinks;Hot Drinks;Coffee Additives & Filters       0.32      0.38      0.35        21\n",
      "                                  Meal Spot;Ready to Heat;Pizza & Pizza Bases       0.67      0.80      0.73        15\n",
      "                                               Pantry;Snack Foods;Muesli Bars       0.84      0.81      0.82        26\n",
      "                                                    Pantry;World Foods;Korean       0.82      0.88      0.85        16\n",
      "                             Chilled, Frozen & Desserts;Cheese;Cottage Cheese       0.63      1.00      0.78        45\n",
      "                                      Pantry;Pasta, Rice & Noodles;Rice Meals       0.57      0.80      0.67        15\n",
      "                     Chilled, Frozen & Desserts;Desserts;Meringues & Pavlovas       0.59      1.00      0.75        41\n",
      "                Chilled, Frozen & Desserts;Desserts;Jelly & Powdered Desserts       0.00      0.00      0.00         1\n",
      "                  Fresh Foods & Bakery;Deli, Salads & Cooked Meats;Ham & Pork       0.88      0.58      0.70        12\n",
      "        Kitchen, Dining & Household;Cleaning Products;Carpet & Floor Cleaners       0.25      0.25      0.25         4\n",
      "                                   Pantry;Sauces, Stock & Marinades;Soy Sauce       1.00      0.43      0.60         7\n",
      "                                              Pantry;Snack Foods;Fruit Snacks       0.93      1.00      0.97        14\n",
      "                           Personal Care;Beauty & Grooming;Makeup & Cosmetics       0.70      0.64      0.67        11\n",
      "                                          Drinks;Cold Drinks;Sparkling Juices       1.00      0.50      0.67         6\n",
      "                          Chilled, Frozen & Desserts;Dairy & Eggs;Fresh Cream       0.77      0.89      0.83        19\n",
      "                           Fresh Foods & Bakery;Seafood;Frozen Fish & Seafood       0.87      1.00      0.93        34\n",
      "                Personal Care;Health & Wellness;Digestion, Nausea & Laxatives       0.24      0.20      0.22        20\n",
      "                             Kitchen, Dining & Household;Household;Fire Needs       0.75      0.63      0.69        19\n",
      "                                   Personal Care;Beauty & Grooming;Deodorants       0.12      0.11      0.12        45\n",
      "                 Chilled, Frozen & Desserts;Frozen Foods;Frozen Bread & Dough       0.84      0.84      0.84        25\n",
      "                                                 Pantry;Hot Drinks;Green Teas       0.92      0.92      0.92        13\n",
      "                                                Pantry;Snack Foods;Corn Chips       0.79      0.96      0.87        28\n",
      "                            Personal Care;Beauty & Grooming;Apparel & Hosiery       0.92      1.00      0.96        12\n",
      "             Chilled, Frozen & Desserts;Frozen Foods;Frozen Chicken & Poultry       1.00      0.25      0.40         4\n",
      "                      Personal Care;Health & Wellness;Contact Lens & Eye Care       0.00      0.00      0.00         4\n",
      "                          Pantry;Canned & Prepared Foods;Coconut Cream & Milk       0.89      0.73      0.80        11\n",
      "                                         Pantry;Condiments & Dressings;Relish       0.00      0.00      0.00         3\n",
      "                                       Pantry;Snack Foods;Cereal & Snack Bars       0.67      0.93      0.78        15\n",
      "                                Pantry;Condiments & Dressings;Barbeque Sauces       0.29      0.33      0.31         6\n",
      "                                 Pantry;Jams, Honey & Spreads;Savoury Spreads       0.63      1.00      0.78        45\n",
      "                                Pantry;Biscuits & Crackers;Chocolate Biscuits       0.75      0.50      0.60         6\n",
      "                                               Beer, Cider & Wine;Wine;Merlot       0.78      1.00      0.88         7\n",
      "                 Kitchen, Dining & Household;Cleaning Products;Glass Cleaners       0.86      0.80      0.83        15\n",
      "                                   Pantry;Canned & Prepared Foods;Packet Soup       0.95      0.98      0.97        43\n",
      "                                    Pantry;Canned & Prepared Foods;Soup Mixes       0.00      0.00      0.00        11\n",
      "                          Chilled, Frozen & Desserts;Cheese;Specialty Cheeses       0.78      0.37      0.50        19\n",
      "                                              Pets;Pet Supplies;Bird Supplies       1.00      0.50      0.67         2\n",
      "                                              Pantry;Breakfast Cereals;Muesli       0.73      0.61      0.67        18\n",
      "                     Chilled, Frozen & Desserts;Frozen Foods;Frozen Savouries       1.00      0.67      0.80         6\n",
      "                    Chilled, Frozen & Desserts;Desserts;Ice Blocks & Ice Pops       0.91      1.00      0.95        10\n",
      "                            Fresh Foods & Bakery;Bulk & Loose Foods;Bulk Nuts       0.86      0.89      0.87        35\n",
      "                                 Pantry;Canned & Prepared Foods;Chilled Soups       0.95      0.98      0.97        43\n",
      "                                      Pets;Pet Supplies;Small Animal Supplies       0.75      0.98      0.85        49\n",
      "                           Fresh Foods & Bakery;Dairy & Eggs;Butter & Spreads       0.82      0.86      0.84        21\n",
      "                                       Pantry;Salad & Cooking Oils;Other Oils       0.69      0.90      0.78        20\n",
      "                         Fresh Foods & Bakery;Bakery;Muffin Splits & Crumpets       0.00      0.00      0.00         4\n",
      "                                   Personal Care;Health & Wellness;Adult Care       0.93      0.96      0.95        27\n",
      "                                          Meal Spot;Ready to Heat;Ready Meals       1.00      0.33      0.50         9\n",
      "                                   Fresh Foods & Bakery;Seafood;Fresh Seafood       0.67      0.50      0.57         8\n",
      "                   Chilled, Frozen & Desserts;Dairy & Eggs;Fresh Organic Milk       0.48      0.82      0.61        17\n",
      "                           Pantry;Canned & Prepared Foods;Pizza & Pizza Bases       0.83      0.91      0.87        11\n",
      "             Kitchen, Dining & Household;Stationery & Entertainment;Magazines       0.86      0.80      0.83        15\n",
      "                                          Meal Spot;Ready to Heat;Canned Soup       0.57      0.80      0.67        15\n",
      "                  Personal Care;Health & Wellness;Wellness & Sports Nutrition       0.00      0.00      0.00         3\n",
      "                                         Pantry;Snack Foods;Nut Bars & Snacks       1.00      0.92      0.96        13\n",
      "                               Chilled, Frozen & Desserts;Cheese;Cream Cheese       0.95      0.95      0.95        22\n",
      "Fresh Foods & Bakery;Deli, Salads & Cooked Meats;Continental Sausage & Salami       0.00      0.00      0.00         9\n",
      "                                     Beer, Cider & Wine;Beer & Cider;Pale Ale       0.86      0.89      0.87        35\n",
      "                                   Pantry;Confectionery;Chocolate Family Bags       0.78      0.37      0.50        19\n",
      "                             Fresh Foods & Bakery;Butchery;PrePacked Sausages       0.88      0.98      0.93        53\n",
      "                                        Pantry;Breakfast Cereals;Cold Cereals       0.86      0.89      0.87        35\n",
      "                                              Pantry;Snack Foods;Potato Chips       0.93      1.00      0.96        40\n",
      "                                            Beer, Cider & Wine;Wine;Cask Wine       0.47      0.69      0.56        13\n",
      "                                         Meal Spot;Ready to Eat;Seafood Salad       0.75      0.63      0.69        19\n",
      "                             Personal Care;Health & Wellness;Insect Repellent       1.00      0.50      0.67         8\n",
      "                         Pantry;Baking Supplies & Sugar;Essences & Colourings       0.67      0.95      0.78        19\n",
      "                                 Personal Care;Health & Wellness;Stop Smoking       0.10      0.09      0.10        11\n",
      "                                   Pantry;Condiments & Dressings;Fruit Sauces       0.75      0.98      0.85        49\n",
      "                  Fresh Foods & Bakery;Bulk & Loose Foods;Bulk Snacks & Mixes       0.93      1.00      0.96        13\n",
      "    Kitchen, Dining & Household;Stationery & Entertainment;Stationery & Craft       0.71      1.00      0.83        15\n",
      "                                           Drinks;Cold Drinks;Flavoured Water       0.91      1.00      0.95        10\n",
      "                    Chilled, Frozen & Desserts;Frozen Foods;Frozen Vegetables       1.00      0.80      0.89        15\n",
      "                                             Drinks;Cold Drinks;Coconut Water       0.95      1.00      0.98        20\n",
      "                                                  Pantry;Hot Drinks;Chai Teas       0.57      1.00      0.73        12\n",
      "                       Personal Care;Health & Wellness;Vitamins & Supplements       0.00      0.00      0.00         3\n",
      "                          Fresh Foods & Bakery;Fruit & Vegetables;Fresh Herbs       0.48      0.82      0.61        17\n",
      "     Kitchen, Dining & Household;Stationery & Entertainment;Toys & Recreation       0.49      0.91      0.64        33\n",
      "                                              Pantry;Snack Foods;Bread Snacks       0.88      0.98      0.93        53\n",
      "                                            Pets;Pet Supplies;Dog Accessories       0.13      0.20      0.16        35\n",
      "                              Personal Care;Health & Wellness;Allergy & Sinus       0.20      0.12      0.15         8\n",
      "                                   Fresh Foods & Bakery;Seafood;Seafood Salad       0.22      0.44      0.29        16\n",
      "                                         Pantry;Pasta, Rice & Noodles;Noodles       0.80      0.86      0.83        14\n",
      "                                          Pantry;World Foods;South East Asian       0.22      0.25      0.24         8\n",
      "                   Fresh Foods & Bakery;Bulk & Loose Foods;Bulk Confectionery       1.00      0.96      0.98        26\n",
      "                                     Pantry;Confectionery;Chewing Gum & Mints       0.00      0.00      0.00         2\n",
      "                                        Meal Spot;Ready to Cook;Simply DINNER       0.22      0.25      0.24         8\n",
      "                                          Drinks;Cold Drinks;Vegetable Juices       0.26      0.25      0.26        20\n",
      "                        Kitchen, Dining & Household;Garage & Outdoor;Car Care       0.95      0.95      0.95        22\n",
      "                                   Baby, Toddler & Kids;Baby Care;Baby Health       0.27      0.96      0.42        51\n",
      "                                                     Pantry;Snack Foods;Chips       1.00      0.92      0.96        13\n",
      "              Chilled, Frozen & Desserts;Frozen Foods;Frozen Fries & Potatoes       1.00      0.95      0.97        20\n",
      "                                     Beer, Cider & Wine;Wine;Other White Wine       0.69      0.95      0.80        21\n",
      "                Pantry;Sauces, Stock & Marinades;Simmer & Stir-Through Sauces       1.00      0.64      0.78        14\n",
      "                                   Pantry;Spices & Seasonings;Garlic & Ginger       1.00      0.62      0.77         8\n",
      "                                        Drinks;Hot Drinks;Fruit & Herbal Teas       0.91      1.00      0.95        10\n",
      "                   Personal Care;Beauty & Grooming;Hair Styling & Accessories       1.00      0.94      0.97        16\n",
      "                                          Meal Spot;Ready to Cook;Pasta Meals       1.00      0.38      0.55        16\n",
      "                                               Drinks;Cold Drinks;Soft Drinks       0.00      0.00      0.00         5\n",
      "                 Chilled, Frozen & Desserts;Desserts;Ice Cream Cones & Wafers       0.77      0.89      0.83        19\n",
      "                      Pantry;Sauces, Stock & Marinades;Tomato Pastes & Purees       0.00      0.00      0.00         1\n",
      "                        Fresh Foods & Bakery;Bakery;Fresh Desserts & Pastries       0.00      0.00      0.00         7\n",
      "                       Personal Care;Beauty & Grooming;Shaving & Hair Removal       0.52      1.00      0.69        11\n",
      "       Kitchen, Dining & Household;Cleaning Products;Dishwasher Rinse & Clean       0.68      0.91      0.78        23\n",
      "                                Baby, Toddler & Kids;Baby Care;Baby Hair Care       1.00      0.52      0.69        23\n",
      "                     Chilled, Frozen & Desserts;Dairy & Eggs;Butter & Spreads       0.25      0.80      0.39        20\n",
      "                                   Drinks;Hot Drinks;Coffee Flavoured Sachets       0.32      0.38      0.35        21\n",
      "                         Personal Care;Beauty & Grooming;Face & Lip Skin Care       0.88      0.98      0.93        53\n",
      "                  Chilled, Frozen & Desserts;Desserts;Ready To Serve Puddings       0.00      0.00      0.00         3\n",
      "                               Fresh Foods & Bakery;Seafood;Fresh Smoked Fish       0.00      0.00      0.00         6\n",
      "                                                   Pets;Pet Supplies;Cat Food       0.60      1.00      0.75         3\n",
      "                                       Pantry;Condiments & Dressings;Vinegars       0.75      0.98      0.85        49\n",
      "                                     Pantry;Confectionery;Lollies Family Bags       1.00      0.20      0.33         5\n",
      "              Kitchen, Dining & Household;Garage & Outdoor;Gardening Supplies       1.00      0.96      0.98        26\n",
      "                                     Pantry;Salad & Cooking Oils;Coconut Oils       0.15      0.15      0.15        20\n",
      "                       Chilled, Frozen & Desserts;Frozen Foods;Frozen Seafood       0.93      1.00      0.96        40\n",
      "                          Chilled, Frozen & Desserts;Desserts;Frozen Puddings       0.64      0.96      0.77        48\n",
      "                                      Pantry;Spices & Seasonings;Dried Spices       0.29      0.33      0.31         6\n",
      "                                               Pantry;Snack Foods;Meat Snacks       0.64      0.56      0.60        16\n",
      "                             Kitchen, Dining & Household;Household;Electrical       0.68      0.90      0.78        21\n",
      "                                       Pantry;Condiments & Dressings;Chutneys       0.87      1.00      0.93        34\n",
      "           Fresh Foods & Bakery;Fruit & Vegetables;PrePacked Fresh Vegetables       0.50      0.83      0.62        23\n",
      "                                       Pantry;Sauces, Stock & Marinades;Stock       0.64      0.96      0.77        48\n",
      "                                  Pantry;Confectionery;Novelty Bars & Singles       1.00      0.96      0.98        26\n",
      "                             Pantry;Sauces, Stock & Marinades;Stir Fry Sauces       0.00      0.00      0.00         6\n",
      "                           Beer, Cider & Wine;Wine;Champagne & Sparkling Wine       0.82      0.88      0.85        16\n",
      "                        Fresh Foods & Bakery;Butchery;Fresh Chicken & Poultry       0.83      0.77      0.80        13\n",
      "                              Meal Spot;Ready to Heat;Chilled Pies & Pastries       0.63      1.00      0.78        45\n",
      "                                   Pantry;Canned & Prepared Foods;Canned Meat       0.64      0.56      0.60        16\n",
      "                                           Meal Spot;Ready to Eat;Deli Salads       0.56      0.38      0.45        13\n",
      "                                 Pantry;Hot Drinks;Chocolate Milk Drink Mixes       0.71      1.00      0.83        15\n",
      "           Chilled, Frozen & Desserts;Dairy & Eggs;Sour Cream & Crème Fraiche       0.82      0.88      0.85        16\n",
      "                                         Pantry;Condiments & Dressings;Olives       0.88      0.98      0.93        53\n",
      "                                                 Beer, Cider & Wine;Wine;Rose       1.00      0.71      0.83         7\n",
      "                                  Fresh Foods & Bakery;Bakery;Cakes & Muffins       0.95      0.98      0.97        43\n",
      "                     Fresh Foods & Bakery;Seafood;Fresh Fish Fillets & Steaks       0.75      0.96      0.84        28\n",
      "                           Pantry;Pasta, Rice & Noodles;Wild & Coloured Rices       0.20      0.33      0.25        15\n",
      "                                  Personal Care;Beauty & Grooming;Oral Health       0.68      0.91      0.78        23\n",
      "                            Kitchen, Dining & Household;Laundry;Clothing Dyes       1.00      0.60      0.75        10\n",
      "                            Pantry;Sauces, Stock & Marinades;Specialty Sauces       0.88      0.98      0.93        53\n",
      "         Chilled, Frozen & Desserts;Dairy & Eggs;Long Life Milk & Milk Powder       0.95      0.98      0.97        43\n",
      "          Kitchen, Dining & Household;Cleaning Products;Dishwasher Detergents       0.26      0.36      0.30        14\n",
      "                                Pantry;Condiments & Dressings;Salad Dressings       0.00      0.00      0.00         7\n",
      "                              Pantry;Biscuits & Crackers;Plain Sweet Biscuits       0.84      0.81      0.82        26\n",
      "                                Fresh Foods & Bakery;Seafood;Fresh Fish Heads       0.26      0.25      0.26        20\n",
      "                                        Pantry;Condiments & Dressings;Pickles       0.95      0.98      0.97        43\n",
      "                                     Pantry;Condiments & Dressings;Mayonnaise       0.88      0.98      0.93        53\n",
      "                 Fresh Foods & Bakery;Deli, Salads & Cooked Meats;Deli Salads       0.73      0.53      0.62        15\n",
      "                              Pantry;Jams, Honey & Spreads;Marmite & Vegemite       0.84      0.95      0.89        22\n",
      "                             Kitchen, Dining & Household;Laundry;Laundry Soap       0.50      0.50      0.50        10\n",
      "                                               Drinks;Cold Drinks;Still Water       0.75      0.64      0.69        14\n",
      "                          Fresh Foods & Bakery;Fruit & Vegetables;Fresh Fruit       0.93      1.00      0.97        14\n",
      "                                             Pantry;World Foods;South African       1.00      0.83      0.91         6\n",
      "             Chilled, Frozen & Desserts;Frozen Foods;Frozen Beef, Lamb & Pork       1.00      0.20      0.33         5\n",
      "                                       Pantry;Salad & Cooking Oils;Oil Sprays       0.00      0.00      0.00         7\n",
      "                              Fresh Foods & Bakery;Dairy & Eggs;Yoghurt Bases       0.00      0.00      0.00         4\n",
      "                           Personal Care;Beauty & Grooming;Suncare & Self Tan       1.00      0.62      0.76        13\n",
      "                       Kitchen, Dining & Household;Cleaning Products;Bleaches       0.63      1.00      0.78        45\n",
      "                                                        Pantry;World Foods;UK       0.12      0.11      0.12        45\n",
      "                           Beer, Cider & Wine;Beer & Cider;Apple & Pear Cider       1.00      1.00      1.00        24\n",
      "                         Fresh Foods & Bakery;Dairy & Eggs;Fresh Organic Milk       0.75      1.00      0.86         9\n",
      "                  Kitchen, Dining & Household;Household;Pest & Insect Control       0.25      0.80      0.39        20\n",
      "                                     Pantry;Pasta, Rice & Noodles;Pasta Meals       0.95      0.98      0.97        43\n",
      "        Fresh Foods & Bakery;Deli, Salads & Cooked Meats;Fresh Deli Savouries       0.17      0.08      0.11        12\n",
      "                                            Pantry;Hot Drinks;Coffee Capsules       0.78      1.00      0.88         7\n",
      "                        Pantry;Baking Supplies & Sugar;Breadcrumbs & Coatings       0.79      1.00      0.88        19\n",
      "                                     Fresh Foods & Bakery;Butchery;Fresh Pork       0.00      0.00      0.00         4\n",
      "                         Fresh Foods & Bakery;Fruit & Vegetables;Fresh Salads       0.00      0.00      0.00         2\n",
      "                              Kitchen, Dining & Household;Household;Shoe Care       0.83      0.83      0.83         6\n",
      "                      Fresh Foods & Bakery;Fruit & Vegetables;Fresh Cut Fruit       0.67      0.95      0.78        19\n",
      "                                      Drinks;Hot Drinks;Malt Milk Drink Mixes       0.14      0.14      0.14         7\n",
      "                                     Meal Spot;Ready to Heat;Frozen Savouries       0.67      0.80      0.73        15\n",
      "                  Chilled, Frozen & Desserts;Desserts;Frozen Dessert Pastries       0.17      0.12      0.14        16\n",
      "                             Baby, Toddler & Kids;Baby Care;Nursing & Feeding       0.59      1.00      0.75        41\n",
      "                          Pantry;Condiments & Dressings;Worcestershire Sauces       0.17      0.12      0.14        16\n",
      "                 Chilled, Frozen & Desserts;Frozen Foods;Frozen Pizza & Bases       0.00      0.00      0.00         3\n",
      "                                 Chilled, Frozen & Desserts;Dairy & Eggs;Eggs       0.25      0.80      0.39        20\n",
      "                            Fresh Foods & Bakery;Fruit & Vegetables;Vege Bags       1.00      0.17      0.29         6\n",
      "                             Beer, Cider & Wine;Beer & Cider;Brewing Supplies       0.00      0.00      0.00         3\n",
      "                                   Pantry;Hot Drinks;Coffee Flavoured Sachets       0.27      0.96      0.42        51\n",
      "               Fresh Foods & Bakery;Dairy & Eggs;Long Life Milk & Milk Powder       0.49      0.91      0.64        33\n",
      "                                                   Pantry;Snack Foods;Popcorn       0.56      0.83      0.67         6\n",
      "                              Personal Care;Health & Wellness;Family Planning       1.00      1.00      1.00         8\n",
      "                            Pantry;Baking Supplies & Sugar;Icing & Decorating       0.85      0.85      0.85        27\n",
      "                                 Fresh Foods & Bakery;Butchery;PrePacked Pork       0.00      0.00      0.00         3\n",
      "                                Pantry;Pasta, Rice & Noodles;Long Grain Rices       0.88      0.98      0.93        53\n",
      "                                        Pantry;Confectionery;Boxed Chocolates       0.59      0.59      0.59        17\n",
      "                              Chilled, Frozen & Desserts;Cheese;Grated Cheese       0.32      0.38      0.35        21\n",
      "                           Chilled, Frozen & Desserts;Dairy & Eggs;Fresh Milk       1.00      0.50      0.67         4\n",
      "                           Kitchen, Dining & Household;Household;Food Storage       0.56      0.90      0.69        40\n",
      "                                                 Drinks;Hot Drinks;Green Teas       0.35      0.38      0.36        21\n",
      "                    Chilled, Frozen & Desserts;Frozen Foods;Frozen Vegetarian       0.95      0.95      0.95        22\n",
      "                      Kitchen, Dining & Household;Laundry;Fine Fabric Washers       0.80      1.00      0.89         4\n",
      "                                            Drinks;Hot Drinks;Instant Coffees       0.67      0.80      0.73        15\n",
      "                  Fresh Foods & Bakery;Deli, Salads & Cooked Meats;Deli Meats       0.00      0.00      0.00         9\n",
      "                     Kitchen, Dining & Household;Household;Cooking & Bakeware       0.13      0.20      0.16        35\n",
      "                                         Pantry;Breakfast Cereals;Hot Cereals       1.00      1.00      1.00         9\n",
      "                   Baby, Toddler & Kids;Baby Care;Baby Formula & Toddler Food       0.27      0.14      0.18        22\n",
      "                                   Pantry;Canned & Prepared Foods;Canned Fish       0.86      0.80      0.83        15\n",
      "                      Fresh Foods & Bakery;Butchery;Fresh Venison & Game Meat       0.79      0.96      0.87        28\n",
      "   Fresh Foods & Bakery;Deli, Salads & Cooked Meats;Gourmet Oils & Condiments       0.92      1.00      0.96        12\n",
      "                                                      Pantry;World Foods;Thai       0.67      0.95      0.78        19\n",
      "                                 Drinks;Hot Drinks;Chocolate Milk Drink Mixes       0.75      0.96      0.84        28\n",
      "                   Kitchen, Dining & Household;Cleaning Products;Paper Towels       0.56      0.83      0.67         6\n",
      "                                 Pantry;Breakfast Cereals;Breakfast On The Go       0.70      0.64      0.67        11\n",
      "               Kitchen, Dining & Household;Cleaning Products;Kitchen Cleaners       0.79      0.96      0.87        28\n",
      "                                                 Drinks;Cold Drinks;Iced Teas       0.14      0.18      0.16        11\n",
      "                                 Pantry;Baking Supplies & Sugar;Baking Syrups       0.32      0.38      0.35        21\n",
      "                                Pantry;Biscuits & Crackers;Biscuits & Cookies       0.10      0.09      0.10        11\n",
      "                             Kitchen, Dining & Household;Laundry;Clothes Pegs       0.82      0.86      0.84        21\n",
      "                                 Fresh Foods & Bakery;Meal Kits;Simply DINNER       0.49      0.91      0.64        33\n",
      "                                 Drinks;Cold Drinks;Squash, Syrups & Cordials       0.50      0.65      0.57        23\n",
      "                                          Beer, Cider & Wine;Beer & Cider;IPA       0.15      0.15      0.15        20\n",
      "                                 Fresh Foods & Bakery;Bakery;Specialty Breads       1.00      0.88      0.93         8\n",
      "                  Kitchen, Dining & Household;Laundry;Pre Wash Stain Removers       0.26      0.25      0.26        20\n",
      "                                        Beer, Cider & Wine;Beer & Cider;Lager       0.56      0.90      0.69        40\n",
      "                                   Pantry;Pasta, Rice & Noodles;Basmati Rices       0.26      0.25      0.26        20\n",
      "                        Pantry;Pasta, Rice & Noodles;Specialty Grains & Seeds       0.68      0.91      0.78        23\n",
      "               Fresh Foods & Bakery;Bulk & Loose Foods;Bulk Breakfast Cereals       0.17      0.08      0.11        12\n",
      "                                              Drinks;Hot Drinks;Fresh Coffees       0.93      1.00      0.96        40\n",
      "                                          Pantry;Snack Foods;Nutritional Bars       0.32      0.38      0.35        21\n",
      "                 Chilled, Frozen & Desserts;Dairy & Eggs;Dairy & Lactose Free       1.00      0.88      0.93         8\n",
      "                       Fresh Foods & Bakery;Deli, Salads & Cooked Meats;Bacon       0.00      0.00      0.00         3\n",
      "                                            Meal Spot;Ready to Cook;Vege Bags       0.32      0.38      0.35        21\n",
      "                              Chilled, Frozen & Desserts;Cheese;Cheese Blocks       0.00      0.00      0.00         3\n",
      "                                           Drinks;Cold Drinks;Sparkling Water       1.00      0.92      0.96        13\n",
      "                      Pantry;Pasta, Rice & Noodles;Short & Medium Grain Rices       0.17      0.08      0.11        12\n",
      "\n",
      "                                                                    micro avg       0.61      0.75      0.68     65240\n",
      "                                                                    macro avg       0.61      0.62      0.59     65240\n",
      "                                                                 weighted avg       0.66      0.75      0.68     65240\n",
      "\n"
     ]
    },
    {
     "name": "stderr",
     "output_type": "stream",
     "text": [
      "d:\\python\\lib\\site-packages\\sklearn\\metrics\\_classification.py:1245: UndefinedMetricWarning: Recall is ill-defined and being set to 0.0 in labels with no true samples. Use `zero_division` parameter to control this behavior.\n",
      "  _warn_prf(average, modifier, msg_start, len(result))\n",
      "d:\\python\\lib\\site-packages\\sklearn\\metrics\\_classification.py:1982: UserWarning: labels size, 3616, does not match size of target_names, 429\n",
      "  warnings.warn(\n",
      "d:\\python\\lib\\site-packages\\sklearn\\metrics\\_classification.py:1245: UndefinedMetricWarning: Precision and F-score are ill-defined and being set to 0.0 in labels with no predicted samples. Use `zero_division` parameter to control this behavior.\n",
      "  _warn_prf(average, modifier, msg_start, len(result))\n",
      "d:\\python\\lib\\site-packages\\sklearn\\metrics\\_classification.py:1245: UndefinedMetricWarning: Precision and F-score are ill-defined and being set to 0.0 in labels with no predicted samples. Use `zero_division` parameter to control this behavior.\n",
      "  _warn_prf(average, modifier, msg_start, len(result))\n",
      "d:\\python\\lib\\site-packages\\sklearn\\metrics\\_classification.py:1245: UndefinedMetricWarning: Precision and F-score are ill-defined and being set to 0.0 in labels with no predicted samples. Use `zero_division` parameter to control this behavior.\n",
      "  _warn_prf(average, modifier, msg_start, len(result))\n"
     ]
    }
   ],
   "source": [
    "x_train, x_test, y_train, y_test = train_test_split(reduced, labels, test_size=0.25, random_state=3)\n",
    "model.fit(x_train, y_train)\n",
    "predict_labels = model.predict(x_test)\n",
    "predict_labels = [np.round(p) for p in predict_labels]\n",
    "max_label = len(id2label) - 1\n",
    "predict_labels = [l if max_label >= l else max_label for l in predict_labels]\n",
    "min_label = 0\n",
    "predict_labels = [l if min_label <= l else min_label for l in predict_labels]\n",
    "evaluation(predict_labels, y_test, id2label, \"logistic\")"
   ],
   "metadata": {
    "collapsed": false,
    "pycharm": {
     "name": "#%%\n"
    }
   }
  },
  {
   "cell_type": "code",
   "execution_count": 21,
   "outputs": [
    {
     "name": "stdout",
     "output_type": "stream",
     "text": [
      "id2label {0: 'Chilled, Frozen & Desserts;Dairy & Eggs;Flavoured Milk', 1: 'Pantry;Hot Drinks;Fruit & Herbal Teas', 2: 'Meal Spot;Ready to Heat;Chilled Soups', 3: 'Pantry;Pasta, Rice & Noodles;Dried Pastas', 4: 'Fresh Foods & Bakery;Bakery;Fresh Biscuits & Slices', 5: 'Pantry;Snack Foods;Vege Snacks', 6: 'Pantry;Confectionery;Liquorice', 7: 'Fresh Foods & Bakery;Bakery;Garlic & Herb Breads', 8: 'Meal Spot;Ready to Heat;Packet Soup', 9: 'Pantry;Sauces, Stock & Marinades;Tartare & Seafood Sauces', 10: 'Pantry;Canned & Prepared Foods;Baked Beans & Spaghetti', 11: 'Kitchen, Dining & Household;Household;Kitchenware', 12: 'Pantry;Canned & Prepared Foods;Ready Meals', 13: 'Personal Care;Health & Wellness;Pain Relief', 14: 'Pantry;Condiments & Dressings;Mustards', 15: 'Pantry;Hot Drinks;Fresh Coffees', 16: 'Pantry;Spices & Seasonings;Dried Herbs', 17: 'Pantry;Sauces, Stock & Marinades;Pasta Sauces', 18: 'Drinks;Cold Drinks;Sports & Energy Drinks', 19: 'Pantry;Sauces, Stock & Marinades;Curry Pastes & Sauces', 20: 'Kitchen, Dining & Household;Garage & Outdoor;Hooks', 21: 'Baby, Toddler & Kids;Baby Care;Baby Wipes', 22: 'Pantry;Biscuits & Crackers;Rice Cakes', 23: 'Fresh Foods & Bakery;Fruit & Vegetables;Salad Bags', 24: 'Pantry;Breakfast Cereals;Flake/Fibre Cereals', 25: 'Pantry;Canned & Prepared Foods;Syrups & Sauces', 26: 'Fresh Foods & Bakery;Seafood;Fresh Whole Fish', 27: 'Fresh Foods & Bakery;Dairy & Eggs;Dairy & Lactose Free', 28: 'Pantry;Spices & Seasonings;Freshly Ground Herbs', 29: 'Pantry;Sauces, Stock & Marinades;Packet Sauces', 30: 'Meal Spot;Ready to Cook;Noodle Meals', 31: 'Pantry;World Foods;Japanese', 32: 'Personal Care;Health & Wellness;Foot Care', 33: 'Pantry;World Foods;Mexican', 34: 'Fresh Foods & Bakery;Bakery;Organic & Gluten Free', 35: 'Pantry;Jams, Honey & Spreads;Jam & Marmalade', 36: 'Pantry;Pasta, Rice & Noodles;Noodle Meals', 37: 'Personal Care;Beauty & Grooming;Hair Colouring', 38: 'Kitchen, Dining & Household;Cleaning Products;All Purpose Cleaners', 39: 'Pantry;Canned & Prepared Foods;Canned & Dried Vegetables', 40: 'Pantry;Salad & Cooking Oils;Olive Oils', 41: 'Pantry;Sauces, Stock & Marinades;Gravies', 42: 'Pantry;World Foods;Indian', 43: 'Fresh Foods & Bakery;Bakery;Fresh Cakes & Muffins', 44: 'Pantry;World Foods;Chinese', 45: 'Pets;Pet Supplies;Dog Treats', 46: 'Pantry;Hot Drinks;Instant Coffees', 47: 'Pantry;Pasta, Rice & Noodles;Jasmine Rices', 48: 'Drinks;Cold Drinks;Milk Drink Mixes', 49: 'Fresh Foods & Bakery;Seafood;Fresh Shellfish', 50: 'Beer, Cider & Wine;Beer & Cider;Wheat & Other Grain Beer', 51: 'Beer, Cider & Wine;Wine;Sauvignon Blanc', 52: 'Baby, Toddler & Kids;Baby Care;Nappies & Changing', 53: 'Chilled, Frozen & Desserts;Cheese;Deli Cabinet Cheeses', 54: 'Pantry;Canned & Prepared Foods;Canned Milk & Cream', 55: 'Baby, Toddler & Kids;Baby Care;Baby Dental Care', 56: 'Beer, Cider & Wine;Wine;Chardonnay', 57: 'Beer, Cider & Wine;Beer & Cider;British-style Ale', 58: 'Pantry;Baking Supplies & Sugar;Baking Nuts & Seeds', 59: 'Fresh Foods & Bakery;Deli, Salads & Cooked Meats;Dips, Pesto & Pate', 60: 'Pantry;Jams, Honey & Spreads;Nut Spreads', 61: 'Chilled, Frozen & Desserts;Desserts;Canned Desserts', 62: 'Meal Spot;Ready to Cook;Mexican', 63: 'Chilled, Frozen & Desserts;Frozen Foods;Frozen Pies', 64: 'Fresh Foods & Bakery;Bulk & Loose Foods;Bulk Seeds, Legumes & Grains', 65: 'Pantry;Hot Drinks;Black Teas', 66: 'Fresh Foods & Bakery;Deli, Salads & Cooked Meats;PreCooked Chicken & Poultry', 67: 'Pantry;Snack Foods;Snack Mixes', 68: 'Kitchen, Dining & Household;Cleaning Products;Cleaning Accessories', 69: 'Beer, Cider & Wine;Wine;Cabernet', 70: 'Kitchen, Dining & Household;Laundry;Laundry Supplies', 71: 'Fresh Foods & Bakery;Dairy & Eggs;Fresh Cream', 72: 'Fresh Foods & Bakery;Butchery;PreCooked Sausages', 73: 'Kitchen, Dining & Household;Household;Disposable Tableware', 74: 'Beer, Cider & Wine;Wine;Pinot Gris', 75: 'Chilled, Frozen & Desserts;Frozen Foods;Frozen Fish', 76: 'Kitchen, Dining & Household;Garage & Outdoor;Hardware & Tools', 77: 'Kitchen, Dining & Household;Cleaning Products;Furniture & Metal Polishes', 78: 'Pets;Pet Supplies;Pet Treatments', 79: 'Fresh Foods & Bakery;Deli, Salads & Cooked Meats;PreCooked Beef & Lamb', 80: 'Personal Care;Health & Wellness;Sanitary Protection', 81: 'Pets;Pet Supplies;Dog Food', 82: 'Drinks;Cold Drinks;Powdered Drinks', 83: 'Meal Spot;Ready to Heat;Frozen Pizza & Bases', 84: 'Pantry;Sauces, Stock & Marinades;Chilled Pasta Sauces', 85: 'Drinks;Hot Drinks;Black Teas', 86: 'Beer, Cider & Wine;Wine;Other Red Wine', 87: 'Kitchen, Dining & Household;Household;Manchester', 88: 'Pantry;Baking Supplies & Sugar;Flour', 89: 'Fresh Foods & Bakery;Deli, Salads & Cooked Meats;Hummus', 90: 'Pantry;Jams, Honey & Spreads;Honey', 91: 'Chilled, Frozen & Desserts;Dairy & Eggs;Yoghurt & Dairy Food', 92: 'Pantry;Hot Drinks;Coffee Substitutes', 93: 'Kitchen, Dining & Household;Laundry;Laundry Powders', 94: 'Pantry;Baking Supplies & Sugar;Baking Additives', 95: 'Personal Care;Health & Wellness;Cough, Cold & Flu', 96: 'Pantry;Salad & Cooking Oils;Rice Bran Oils', 97: 'Fresh Foods & Bakery;Bakery;Sliced Bread', 98: 'Chilled, Frozen & Desserts;Frozen Foods;Frozen Fruit', 99: 'Kitchen, Dining & Household;Cleaning Products;Bathroom & Shower Cleaners', 100: 'Pantry;Baking Supplies & Sugar;Dried Fruit', 101: 'Meal Spot;Ready to Eat;Fresh Salads', 102: 'Fresh Foods & Bakery;Dairy & Eggs;Eggs', 103: 'Kitchen, Dining & Household;Laundry;Laundry Liquid & Capsules', 104: 'Fresh Foods & Bakery;Dairy & Eggs;Flavoured Milk', 105: 'Pantry;Biscuits & Crackers;Crème & Jam Biscuits', 106: 'Beer, Cider & Wine;Beer & Cider;Pilsner', 107: 'Fresh Foods & Bakery;Butchery;PrePacked Beef & Lamb', 108: 'Beer, Cider & Wine;Beer & Cider;Fruit & Flavoured Cider', 109: 'Pets;Pet Supplies;Cat Treats', 110: 'Chilled, Frozen & Desserts;Desserts;Ice Cream & Frozen Yoghurt', 111: 'Beer, Cider & Wine;Beer & Cider;Specialty & Flavoured Beer', 112: 'Pantry;Pasta, Rice & Noodles;Instant Rices', 113: 'Kitchen, Dining & Household;Household;Batteries & Light Bulbs', 114: 'Pantry;Pasta, Rice & Noodles;Fresh Pastas', 115: 'Pantry;Salad & Cooking Oils;Avocado Oils', 116: 'Pantry;Hot Drinks;Malt Milk Drink Mixes', 117: 'Fresh Foods & Bakery;Bakery;Wraps & Pita Breads', 118: 'Pantry;Baking Supplies & Sugar;Cooking Chocolate', 119: 'Meal Spot;Ready to Eat;Fresh Deli Savouries', 120: 'Pantry;Snack Foods;Dips & Salsas', 121: 'Pantry;Baking Supplies & Sugar;Baking Mixes', 122: 'Pantry;Sauces, Stock & Marinades;Marinades', 123: 'Drinks;Cold Drinks;Non Dairy Milks', 124: 'Chilled, Frozen & Desserts;Desserts;Chilled Custards', 125: 'Pantry;Spices & Seasonings;Chilli & Paprika', 126: 'Pets;Pet Supplies;Cat Accessories', 127: 'Pantry;Biscuits & Crackers;Crackers', 128: 'Drinks;Cold Drinks;Fruit Drinks & Juices', 129: 'Pantry;Condiments & Dressings;Aioli', 130: 'Pantry;Baking Supplies & Sugar;Sugar', 131: 'Pantry;Spices & Seasonings;Salt & Pepper', 132: 'Personal Care;Beauty & Grooming;Hair Care & Treatments', 133: 'Pantry;Canned & Prepared Foods;Canned Soup', 134: 'Kitchen, Dining & Household;Household;Food Wraps & Bags', 135: 'Pantry;Baking Supplies & Sugar;Sugar Substitutes', 136: 'Drinks;Hot Drinks;Chai Teas', 137: 'Kitchen, Dining & Household;Garage & Outdoor;BBQ', 138: 'Fresh Foods & Bakery;Butchery;PrePacked Chicken & Poultry', 139: 'Pantry;Condiments & Dressings;Chilli & Pepper Sauces', 140: 'Kitchen, Dining & Household;Household;Tissues & Toilet Paper', 141: 'Kitchen, Dining & Household;Household;Homeware', 142: 'Pantry;World Foods;USA', 143: 'Pantry;Salad & Cooking Oils;Vegetable Oils', 144: 'Beer, Cider & Wine;Beer & Cider;Lighter Alcohol Beers', 145: 'Fresh Foods & Bakery;Dairy & Eggs;Yoghurt & Dairy Food', 146: 'Pets;Pet Supplies;Pet Accessories', 147: 'Pantry;Salad & Cooking Oils;Nut & Seed Oils', 148: 'Kitchen, Dining & Household;Laundry;Washing Machine Cleaners', 149: 'Fresh Foods & Bakery;Fruit & Vegetables;Fresh Vegetables', 150: 'Beer, Cider & Wine;Wine;Pinot Noir', 151: 'Chilled, Frozen & Desserts;Frozen Foods;Frozen Ready Meals', 152: 'Fresh Foods & Bakery;Bakery;Fresh Breads & Rolls', 153: 'Pantry;Salad & Cooking Oils;Cooking Fat', 154: 'Beer, Cider & Wine;Wine;Shiraz', 155: 'Kitchen, Dining & Household;Household;Air Fresheners & Deodorisers', 156: 'Kitchen, Dining & Household;Laundry;Fabric Softeners', 157: 'Pantry;Sauces, Stock & Marinades;Tomato Sauces', 158: 'Pantry;World Foods;Other Countries', 159: 'Fresh Foods & Bakery;Bakery;Pies & Pastries', 160: 'Chilled, Frozen & Desserts;Cheese;Cheese Slices', 161: 'Personal Care;Health & Wellness;First Aid', 162: 'Drinks;Cold Drinks;Drinking Yoghurt & Smoothies', 163: 'Fresh Foods & Bakery;Bakery;Bread Rolls & Buns', 164: 'Pantry;Biscuits & Crackers;Gourmet Biscuits & Crackers', 165: 'Pantry;Confectionery;Chocolate Blocks', 166: 'Drinks;Hot Drinks;Coffee Substitutes', 167: 'Drinks;Hot Drinks;Coffee Capsules', 168: 'Drinks;Cold Drinks;Chilled Fruit Juices', 169: 'Fresh Foods & Bakery;Dairy & Eggs;Sour Cream & Crème Fraiche', 170: 'Fresh Foods & Bakery;Dairy & Eggs;Fresh Milk', 171: 'Fresh Foods & Bakery;Butchery;Fresh Beef & Lamb', 172: 'Pets;Pet Supplies;Fish & Aquatic Pet Supplies', 173: 'Chilled, Frozen & Desserts;Desserts;Frozen Bavarians & Cheesecake', 174: 'Fresh Foods & Bakery;Deli, Salads & Cooked Meats;Olives & Antipasti Mixes', 175: 'Kitchen, Dining & Household;Cleaning Products;Dishwashing Liquid', 176: 'Pantry;Jams, Honey & Spreads;Sweet Spreads', 177: 'Chilled, Frozen & Desserts;Dairy & Eggs;Yoghurt Bases', 178: 'Baby, Toddler & Kids;Baby Care;Baby Bathing & Skin Care', 179: 'Fresh Foods & Bakery;Butchery;Fresh Sausages', 180: 'Kitchen, Dining & Household;Stationery & Entertainment;Newspapers', 181: 'Fresh Foods & Bakery;Deli, Salads & Cooked Meats;Specialty Dry Goods', 182: 'Fresh Foods & Bakery;Deli, Salads & Cooked Meats;Chilled Pies & Pastries', 183: 'Fresh Foods & Bakery;Bakery;Biscuits & Slices', 184: 'Pantry;Canned & Prepared Foods;Canned Fruit', 185: 'Personal Care;Beauty & Grooming;Hand & Body Care', 186: 'Pantry;Biscuits & Crackers;Rice Crackers', 187: 'Pantry;Canned & Prepared Foods;Vegetarian', 188: 'Pantry;Confectionery;Christmas', 189: 'Pantry;Condiments & Dressings;Mint Sauces', 190: 'Beer, Cider & Wine;Beer & Cider;American-style Ale', 191: 'Chilled, Frozen & Desserts;Cheese;Deli Specialty Cheeses', 192: 'Meal Spot;Ready to Heat;Frozen Ready Meals', 193: 'Pantry;Hot Drinks;Coffee Additives & Filters', 194: 'Beer, Cider & Wine;Beer & Cider;Stout, Porter & Black Beer', 195: 'Kitchen, Dining & Household;Household;Party Supplies', 196: 'Kitchen, Dining & Household;Household;Rubbish & Vacuum Bags', 197: 'Pantry;Biscuits & Crackers;Assorted Biscuits & Crackers', 198: 'Chilled, Frozen & Desserts;Cheese;Deli Cheeseboards', 199: 'Beer, Cider & Wine;Beer & Cider;European-style Ale', 200: 'Fresh Foods & Bakery;Bulk & Loose Foods;Bulk Dried Fruit', 201: 'Beer, Cider & Wine;Beer & Cider;Spirits', 202: 'Chilled, Frozen & Desserts;Frozen Foods;Frozen Pastry', 203: 'Drinks;Hot Drinks;Coffee Additives & Filters', 204: 'Meal Spot;Ready to Heat;Pizza & Pizza Bases', 205: 'Pantry;Snack Foods;Muesli Bars', 206: 'Pantry;World Foods;Korean', 207: 'Chilled, Frozen & Desserts;Cheese;Cottage Cheese', 208: 'Pantry;Pasta, Rice & Noodles;Rice Meals', 209: 'Chilled, Frozen & Desserts;Desserts;Meringues & Pavlovas', 210: 'Chilled, Frozen & Desserts;Desserts;Jelly & Powdered Desserts', 211: 'Fresh Foods & Bakery;Deli, Salads & Cooked Meats;Ham & Pork', 212: 'Kitchen, Dining & Household;Cleaning Products;Carpet & Floor Cleaners', 213: 'Pantry;Sauces, Stock & Marinades;Soy Sauce', 214: 'Pantry;Snack Foods;Fruit Snacks', 215: 'Personal Care;Beauty & Grooming;Makeup & Cosmetics', 216: 'Drinks;Cold Drinks;Sparkling Juices', 217: 'Chilled, Frozen & Desserts;Dairy & Eggs;Fresh Cream', 218: 'Fresh Foods & Bakery;Seafood;Frozen Fish & Seafood', 219: 'Personal Care;Health & Wellness;Digestion, Nausea & Laxatives', 220: 'Kitchen, Dining & Household;Household;Fire Needs', 221: 'Personal Care;Beauty & Grooming;Deodorants', 222: 'Chilled, Frozen & Desserts;Frozen Foods;Frozen Bread & Dough', 223: 'Pantry;Hot Drinks;Green Teas', 224: 'Pantry;Snack Foods;Corn Chips', 225: 'Personal Care;Beauty & Grooming;Apparel & Hosiery', 226: 'Chilled, Frozen & Desserts;Frozen Foods;Frozen Chicken & Poultry', 227: 'Personal Care;Health & Wellness;Contact Lens & Eye Care', 228: 'Pantry;Canned & Prepared Foods;Coconut Cream & Milk', 229: 'Pantry;Condiments & Dressings;Relish', 230: 'Pantry;Snack Foods;Cereal & Snack Bars', 231: 'Pantry;Condiments & Dressings;Barbeque Sauces', 232: 'Pantry;Jams, Honey & Spreads;Savoury Spreads', 233: 'Pantry;Biscuits & Crackers;Chocolate Biscuits', 234: 'Beer, Cider & Wine;Wine;Merlot', 235: 'Kitchen, Dining & Household;Cleaning Products;Glass Cleaners', 236: 'Pantry;Canned & Prepared Foods;Packet Soup', 237: 'Pantry;Canned & Prepared Foods;Soup Mixes', 238: 'Chilled, Frozen & Desserts;Cheese;Specialty Cheeses', 239: 'Pets;Pet Supplies;Bird Supplies', 240: 'Pantry;Breakfast Cereals;Muesli', 241: 'Chilled, Frozen & Desserts;Frozen Foods;Frozen Savouries', 242: 'Chilled, Frozen & Desserts;Desserts;Ice Blocks & Ice Pops', 243: 'Fresh Foods & Bakery;Bulk & Loose Foods;Bulk Nuts', 244: 'Pantry;Canned & Prepared Foods;Chilled Soups', 245: 'Pets;Pet Supplies;Small Animal Supplies', 246: 'Fresh Foods & Bakery;Dairy & Eggs;Butter & Spreads', 247: 'Pantry;Salad & Cooking Oils;Other Oils', 248: 'Fresh Foods & Bakery;Bakery;Muffin Splits & Crumpets', 249: 'Personal Care;Health & Wellness;Adult Care', 250: 'Meal Spot;Ready to Heat;Ready Meals', 251: 'Fresh Foods & Bakery;Seafood;Fresh Seafood', 252: 'Chilled, Frozen & Desserts;Dairy & Eggs;Fresh Organic Milk', 253: 'Pantry;Canned & Prepared Foods;Pizza & Pizza Bases', 254: 'Kitchen, Dining & Household;Stationery & Entertainment;Magazines', 255: 'Meal Spot;Ready to Heat;Canned Soup', 256: 'Personal Care;Health & Wellness;Wellness & Sports Nutrition', 257: 'Pantry;Snack Foods;Nut Bars & Snacks', 258: 'Chilled, Frozen & Desserts;Cheese;Cream Cheese', 259: 'Fresh Foods & Bakery;Deli, Salads & Cooked Meats;Continental Sausage & Salami', 260: 'Beer, Cider & Wine;Beer & Cider;Pale Ale', 261: 'Pantry;Confectionery;Chocolate Family Bags', 262: 'Fresh Foods & Bakery;Butchery;PrePacked Sausages', 263: 'Pantry;Breakfast Cereals;Cold Cereals', 264: 'Pantry;Snack Foods;Potato Chips', 265: 'Beer, Cider & Wine;Wine;Cask Wine', 266: 'Meal Spot;Ready to Eat;Seafood Salad', 267: 'Personal Care;Health & Wellness;Insect Repellent', 268: 'Pantry;Baking Supplies & Sugar;Essences & Colourings', 269: 'Personal Care;Health & Wellness;Stop Smoking', 270: 'Pantry;Condiments & Dressings;Fruit Sauces', 271: 'Fresh Foods & Bakery;Bulk & Loose Foods;Bulk Snacks & Mixes', 272: 'Kitchen, Dining & Household;Stationery & Entertainment;Stationery & Craft', 273: 'Drinks;Cold Drinks;Flavoured Water', 274: 'Chilled, Frozen & Desserts;Frozen Foods;Frozen Vegetables', 275: 'Drinks;Cold Drinks;Coconut Water', 276: 'Pantry;Hot Drinks;Chai Teas', 277: 'Personal Care;Health & Wellness;Vitamins & Supplements', 278: 'Fresh Foods & Bakery;Fruit & Vegetables;Fresh Herbs', 279: 'Kitchen, Dining & Household;Stationery & Entertainment;Toys & Recreation', 280: 'Pantry;Snack Foods;Bread Snacks', 281: 'Pets;Pet Supplies;Dog Accessories', 282: 'Personal Care;Health & Wellness;Allergy & Sinus', 283: 'Fresh Foods & Bakery;Seafood;Seafood Salad', 284: 'Pantry;Pasta, Rice & Noodles;Noodles', 285: 'Pantry;World Foods;South East Asian', 286: 'Fresh Foods & Bakery;Bulk & Loose Foods;Bulk Confectionery', 287: 'Pantry;Confectionery;Chewing Gum & Mints', 288: 'Meal Spot;Ready to Cook;Simply DINNER', 289: 'Drinks;Cold Drinks;Vegetable Juices', 290: 'Kitchen, Dining & Household;Garage & Outdoor;Car Care', 291: 'Baby, Toddler & Kids;Baby Care;Baby Health', 292: 'Pantry;Snack Foods;Chips', 293: 'Chilled, Frozen & Desserts;Frozen Foods;Frozen Fries & Potatoes', 294: 'Beer, Cider & Wine;Wine;Other White Wine', 295: 'Pantry;Sauces, Stock & Marinades;Simmer & Stir-Through Sauces', 296: 'Pantry;Spices & Seasonings;Garlic & Ginger', 297: 'Drinks;Hot Drinks;Fruit & Herbal Teas', 298: 'Personal Care;Beauty & Grooming;Hair Styling & Accessories', 299: 'Meal Spot;Ready to Cook;Pasta Meals', 300: 'Drinks;Cold Drinks;Soft Drinks', 301: 'Chilled, Frozen & Desserts;Desserts;Ice Cream Cones & Wafers', 302: 'Pantry;Sauces, Stock & Marinades;Tomato Pastes & Purees', 303: 'Fresh Foods & Bakery;Bakery;Fresh Desserts & Pastries', 304: 'Personal Care;Beauty & Grooming;Shaving & Hair Removal', 305: 'Kitchen, Dining & Household;Cleaning Products;Dishwasher Rinse & Clean', 306: 'Baby, Toddler & Kids;Baby Care;Baby Hair Care', 307: 'Chilled, Frozen & Desserts;Dairy & Eggs;Butter & Spreads', 308: 'Drinks;Hot Drinks;Coffee Flavoured Sachets', 309: 'Personal Care;Beauty & Grooming;Face & Lip Skin Care', 310: 'Chilled, Frozen & Desserts;Desserts;Ready To Serve Puddings', 311: 'Fresh Foods & Bakery;Seafood;Fresh Smoked Fish', 312: 'Pets;Pet Supplies;Cat Food', 313: 'Pantry;Condiments & Dressings;Vinegars', 314: 'Pantry;Confectionery;Lollies Family Bags', 315: 'Kitchen, Dining & Household;Garage & Outdoor;Gardening Supplies', 316: 'Pantry;Salad & Cooking Oils;Coconut Oils', 317: 'Chilled, Frozen & Desserts;Frozen Foods;Frozen Seafood', 318: 'Chilled, Frozen & Desserts;Desserts;Frozen Puddings', 319: 'Pantry;Spices & Seasonings;Dried Spices', 320: 'Pantry;Snack Foods;Meat Snacks', 321: 'Kitchen, Dining & Household;Household;Electrical', 322: 'Pantry;Condiments & Dressings;Chutneys', 323: 'Fresh Foods & Bakery;Fruit & Vegetables;PrePacked Fresh Vegetables', 324: 'Pantry;Sauces, Stock & Marinades;Stock', 325: 'Pantry;Confectionery;Novelty Bars & Singles', 326: 'Pantry;Sauces, Stock & Marinades;Stir Fry Sauces', 327: 'Beer, Cider & Wine;Wine;Champagne & Sparkling Wine', 328: 'Fresh Foods & Bakery;Butchery;Fresh Chicken & Poultry', 329: 'Meal Spot;Ready to Heat;Chilled Pies & Pastries', 330: 'Pantry;Canned & Prepared Foods;Canned Meat', 331: 'Meal Spot;Ready to Eat;Deli Salads', 332: 'Pantry;Hot Drinks;Chocolate Milk Drink Mixes', 333: 'Chilled, Frozen & Desserts;Dairy & Eggs;Sour Cream & Crème Fraiche', 334: 'Pantry;Condiments & Dressings;Olives', 335: 'Beer, Cider & Wine;Wine;Rose', 336: 'Fresh Foods & Bakery;Bakery;Cakes & Muffins', 337: 'Fresh Foods & Bakery;Seafood;Fresh Fish Fillets & Steaks', 338: 'Pantry;Pasta, Rice & Noodles;Wild & Coloured Rices', 339: 'Personal Care;Beauty & Grooming;Oral Health', 340: 'Kitchen, Dining & Household;Laundry;Clothing Dyes', 341: 'Pantry;Sauces, Stock & Marinades;Specialty Sauces', 342: 'Chilled, Frozen & Desserts;Dairy & Eggs;Long Life Milk & Milk Powder', 343: 'Kitchen, Dining & Household;Cleaning Products;Dishwasher Detergents', 344: 'Pantry;Condiments & Dressings;Salad Dressings', 345: 'Pantry;Biscuits & Crackers;Plain Sweet Biscuits', 346: 'Fresh Foods & Bakery;Seafood;Fresh Fish Heads', 347: 'Pantry;Condiments & Dressings;Pickles', 348: 'Pantry;Condiments & Dressings;Mayonnaise', 349: 'Fresh Foods & Bakery;Deli, Salads & Cooked Meats;Deli Salads', 350: 'Pantry;Jams, Honey & Spreads;Marmite & Vegemite', 351: 'Kitchen, Dining & Household;Laundry;Laundry Soap', 352: 'Drinks;Cold Drinks;Still Water', 353: 'Fresh Foods & Bakery;Fruit & Vegetables;Fresh Fruit', 354: 'Pantry;World Foods;South African', 355: 'Chilled, Frozen & Desserts;Frozen Foods;Frozen Beef, Lamb & Pork', 356: 'Pantry;Salad & Cooking Oils;Oil Sprays', 357: 'Fresh Foods & Bakery;Dairy & Eggs;Yoghurt Bases', 358: 'Personal Care;Beauty & Grooming;Suncare & Self Tan', 359: 'Kitchen, Dining & Household;Cleaning Products;Bleaches', 360: 'Pantry;World Foods;UK', 361: 'Beer, Cider & Wine;Beer & Cider;Apple & Pear Cider', 362: 'Fresh Foods & Bakery;Dairy & Eggs;Fresh Organic Milk', 363: 'Kitchen, Dining & Household;Household;Pest & Insect Control', 364: 'Pantry;Pasta, Rice & Noodles;Pasta Meals', 365: 'Fresh Foods & Bakery;Deli, Salads & Cooked Meats;Fresh Deli Savouries', 366: 'Pantry;Hot Drinks;Coffee Capsules', 367: 'Pantry;Baking Supplies & Sugar;Breadcrumbs & Coatings', 368: 'Fresh Foods & Bakery;Butchery;Fresh Pork', 369: 'Fresh Foods & Bakery;Fruit & Vegetables;Fresh Salads', 370: 'Kitchen, Dining & Household;Household;Shoe Care', 371: 'Fresh Foods & Bakery;Fruit & Vegetables;Fresh Cut Fruit', 372: 'Drinks;Hot Drinks;Malt Milk Drink Mixes', 373: 'Meal Spot;Ready to Heat;Frozen Savouries', 374: 'Chilled, Frozen & Desserts;Desserts;Frozen Dessert Pastries', 375: 'Baby, Toddler & Kids;Baby Care;Nursing & Feeding', 376: 'Pantry;Condiments & Dressings;Worcestershire Sauces', 377: 'Chilled, Frozen & Desserts;Frozen Foods;Frozen Pizza & Bases', 378: 'Chilled, Frozen & Desserts;Dairy & Eggs;Eggs', 379: 'Fresh Foods & Bakery;Fruit & Vegetables;Vege Bags', 380: 'Beer, Cider & Wine;Beer & Cider;Brewing Supplies', 381: 'Pantry;Hot Drinks;Coffee Flavoured Sachets', 382: 'Fresh Foods & Bakery;Dairy & Eggs;Long Life Milk & Milk Powder', 383: 'Pantry;Snack Foods;Popcorn', 384: 'Personal Care;Health & Wellness;Family Planning', 385: 'Pantry;Baking Supplies & Sugar;Icing & Decorating', 386: 'Fresh Foods & Bakery;Butchery;PrePacked Pork', 387: 'Pantry;Pasta, Rice & Noodles;Long Grain Rices', 388: 'Pantry;Confectionery;Boxed Chocolates', 389: 'Chilled, Frozen & Desserts;Cheese;Grated Cheese', 390: 'Chilled, Frozen & Desserts;Dairy & Eggs;Fresh Milk', 391: 'Kitchen, Dining & Household;Household;Food Storage', 392: 'Drinks;Hot Drinks;Green Teas', 393: 'Chilled, Frozen & Desserts;Frozen Foods;Frozen Vegetarian', 394: 'Kitchen, Dining & Household;Laundry;Fine Fabric Washers', 395: 'Drinks;Hot Drinks;Instant Coffees', 396: 'Fresh Foods & Bakery;Deli, Salads & Cooked Meats;Deli Meats', 397: 'Kitchen, Dining & Household;Household;Cooking & Bakeware', 398: 'Pantry;Breakfast Cereals;Hot Cereals', 399: 'Baby, Toddler & Kids;Baby Care;Baby Formula & Toddler Food', 400: 'Pantry;Canned & Prepared Foods;Canned Fish', 401: 'Fresh Foods & Bakery;Butchery;Fresh Venison & Game Meat', 402: 'Fresh Foods & Bakery;Deli, Salads & Cooked Meats;Gourmet Oils & Condiments', 403: 'Pantry;World Foods;Thai', 404: 'Drinks;Hot Drinks;Chocolate Milk Drink Mixes', 405: 'Kitchen, Dining & Household;Cleaning Products;Paper Towels', 406: 'Pantry;Breakfast Cereals;Breakfast On The Go', 407: 'Kitchen, Dining & Household;Cleaning Products;Kitchen Cleaners', 408: 'Drinks;Cold Drinks;Iced Teas', 409: 'Pantry;Baking Supplies & Sugar;Baking Syrups', 410: 'Pantry;Biscuits & Crackers;Biscuits & Cookies', 411: 'Kitchen, Dining & Household;Laundry;Clothes Pegs', 412: 'Fresh Foods & Bakery;Meal Kits;Simply DINNER', 413: 'Drinks;Cold Drinks;Squash, Syrups & Cordials', 414: 'Beer, Cider & Wine;Beer & Cider;IPA', 415: 'Fresh Foods & Bakery;Bakery;Specialty Breads', 416: 'Kitchen, Dining & Household;Laundry;Pre Wash Stain Removers', 417: 'Beer, Cider & Wine;Beer & Cider;Lager', 418: 'Pantry;Pasta, Rice & Noodles;Basmati Rices', 419: 'Pantry;Pasta, Rice & Noodles;Specialty Grains & Seeds', 420: 'Fresh Foods & Bakery;Bulk & Loose Foods;Bulk Breakfast Cereals', 421: 'Drinks;Hot Drinks;Fresh Coffees', 422: 'Pantry;Snack Foods;Nutritional Bars', 423: 'Chilled, Frozen & Desserts;Dairy & Eggs;Dairy & Lactose Free', 424: 'Fresh Foods & Bakery;Deli, Salads & Cooked Meats;Bacon', 425: 'Meal Spot;Ready to Cook;Vege Bags', 426: 'Chilled, Frozen & Desserts;Cheese;Cheese Blocks', 427: 'Drinks;Cold Drinks;Sparkling Water', 428: 'Pantry;Pasta, Rice & Noodles;Short & Medium Grain Rices'}\n",
      "logistic: acc:0.7707411504424779, recall:0.6896969736329913, f1 score:0.7039536120312325\n",
      "                                                        precision    recall  f1-score   support\n",
      "\n",
      "                            Pantry;Biscuits & Crackers       0.81      0.93      0.87       105\n",
      "                               Beer, Cider & Wine;Wine       0.84      0.78      0.81        96\n",
      "                       Personal Care;Health & Wellness       1.00      0.68      0.81        25\n",
      "               Chilled, Frozen & Desserts;Dairy & Eggs       0.91      0.95      0.93       152\n",
      "                         Fresh Foods & Bakery;Butchery       0.71      0.75      0.73       129\n",
      "                       Beer, Cider & Wine;Beer & Cider       0.79      0.98      0.87       288\n",
      "                                Meal Spot;Ready to Eat       0.84      0.78      0.81        96\n",
      "         Kitchen, Dining & Household;Cleaning Products       0.97      0.94      0.95       130\n",
      "               Chilled, Frozen & Desserts;Frozen Foods       0.84      0.78      0.81        96\n",
      "      Fresh Foods & Bakery;Deli, Salads & Cooked Meats       0.97      0.91      0.94        33\n",
      "Kitchen, Dining & Household;Stationery & Entertainment       0.91      0.94      0.92       104\n",
      "                       Personal Care;Beauty & Grooming       0.79      0.98      0.87       288\n",
      "                          Fresh Foods & Bakery;Seafood       0.97      0.94      0.95       130\n",
      "                                     Pantry;Hot Drinks       1.00      0.89      0.94        61\n",
      "                           Fresh Foods & Bakery;Bakery       0.25      0.23      0.24       109\n",
      "                          Pantry;Jams, Honey & Spreads       0.97      0.87      0.92        89\n",
      "                         Pantry;Condiments & Dressings       0.71      0.75      0.73       129\n",
      "                     Fresh Foods & Bakery;Dairy & Eggs       1.00      0.98      0.99       126\n",
      "                      Pantry;Sauces, Stock & Marinades       0.81      0.93      0.87       105\n",
      "                        Pantry;Baking Supplies & Sugar       0.87      0.96      0.91       140\n",
      "                                    Pantry;World Foods       0.60      0.73      0.65       142\n",
      "                          Pantry;Pasta, Rice & Noodles       0.97      1.00      0.98        32\n",
      "               Fresh Foods & Bakery;Bulk & Loose Foods       0.97      0.87      0.92        89\n",
      "                   Kitchen, Dining & Household;Laundry       0.84      0.78      0.81        96\n",
      "                            Pantry;Spices & Seasonings       0.93      0.98      0.96       171\n",
      "                           Pantry;Salad & Cooking Oils       0.25      0.23      0.24       109\n",
      "                                  Pantry;Confectionery       0.60      0.73      0.65       142\n",
      "               Fresh Foods & Bakery;Fruit & Vegetables       1.00      0.98      0.99       126\n",
      "                              Pantry;Breakfast Cereals       0.87      0.96      0.91       140\n",
      "                               Meal Spot;Ready to Cook       0.60      0.73      0.65       142\n",
      "                                    Drinks;Cold Drinks       0.98      0.74      0.84        57\n",
      "                     Chilled, Frozen & Desserts;Cheese       1.00      0.89      0.94        61\n",
      "                 Kitchen, Dining & Household;Household       0.90      0.91      0.90        76\n",
      "                               Meal Spot;Ready to Heat       0.22      0.18      0.20        72\n",
      "                        Fresh Foods & Bakery;Meal Kits       0.74      0.77      0.76        79\n",
      "                                     Pets;Pet Supplies       0.91      0.95      0.93       152\n",
      "          Kitchen, Dining & Household;Garage & Outdoor       0.93      0.92      0.93        90\n",
      "                        Baby, Toddler & Kids;Baby Care       0.90      0.91      0.90        76\n",
      "                                     Drinks;Hot Drinks       0.93      0.98      0.96       171\n",
      "                        Pantry;Canned & Prepared Foods       1.00      0.89      0.94        61\n",
      "                   Chilled, Frozen & Desserts;Desserts       0.91      0.94      0.92       104\n",
      "                                    Pantry;Snack Foods       1.00      0.68      0.81        25\n",
      "\n",
      "                                              accuracy                           0.80    428988\n",
      "                                             macro avg       0.77      0.77      0.77    428988\n",
      "                                          weighted avg       0.78      0.82      0.79    428988\n",
      "\n"
     ]
    },
    {
     "name": "stderr",
     "output_type": "stream",
     "text": [
      "d:\\python\\lib\\site-packages\\sklearn\\metrics\\_classification.py:1982: UserWarning: labels size, 3616, does not match size of target_names, 42\n",
      "  warnings.warn(\n",
      "d:\\python\\lib\\site-packages\\sklearn\\metrics\\_classification.py:1245: UndefinedMetricWarning: Precision and F-score are ill-defined and being set to 0.0 in labels with no predicted samples. Use `zero_division` parameter to control this behavior.\n",
      "  _warn_prf(average, modifier, msg_start, len(result))\n",
      "d:\\python\\lib\\site-packages\\sklearn\\metrics\\_classification.py:1245: UndefinedMetricWarning: Precision and F-score are ill-defined and being set to 0.0 in labels with no predicted samples. Use `zero_division` parameter to control this behavior.\n",
      "  _warn_prf(average, modifier, msg_start, len(result))\n",
      "d:\\python\\lib\\site-packages\\sklearn\\metrics\\_classification.py:1245: UndefinedMetricWarning: Precision and F-score are ill-defined and being set to 0.0 in labels with no predicted samples. Use `zero_division` parameter to control this behavior.\n",
      "  _warn_prf(average, modifier, msg_start, len(result))\n"
     ]
    }
   ],
   "source": [
    "label2ids = {l: i for i, l in enumerate(set(simple))}\n",
    "id2labels = {i: l for l, i in label2ids.items()}\n",
    "simple = [label2ids[l] for l in simple]\n",
    "print(\"id2label\", id2label)\n",
    "x_train, x_test, y_train, y_test = train_test_split(features, simple, test_size=0.25, random_state=3)\n",
    "model.fit(x_train, y_train)\n",
    "predict_labels = model.predict(x_test)\n",
    "predict_labels = [np.round(p) for p in predict_labels]\n",
    "max_label = len(id2labels) - 1\n",
    "predict_labels = [l if max_label >= l else max_label for l in predict_labels]\n",
    "min_label = 0\n",
    "predict_labels = [l if min_label <= l else min_label for l in predict_labels]\n",
    "evaluation(predict_labels, y_test, id2labels, \"logistic\")"
   ],
   "metadata": {
    "collapsed": false,
    "pycharm": {
     "name": "#%%\n"
    }
   }
  },
  {
   "cell_type": "code",
   "execution_count": 22,
   "outputs": [
    {
     "name": "stdout",
     "output_type": "stream",
     "text": [
      "logistic: acc:0.7696349557522124, recall:0.6897750673520824, f1 score:0.7041856146460918\n",
      "                                                        precision    recall  f1-score   support\n",
      "\n",
      "                            Pantry;Biscuits & Crackers       0.82      0.91      0.86       105\n",
      "                               Beer, Cider & Wine;Wine       0.86      0.81      0.83        96\n",
      "                       Personal Care;Health & Wellness       1.00      0.68      0.81        25\n",
      "               Chilled, Frozen & Desserts;Dairy & Eggs       0.90      0.95      0.92       152\n",
      "                         Fresh Foods & Bakery;Butchery       0.71      0.74      0.73       129\n",
      "                       Beer, Cider & Wine;Beer & Cider       0.77      0.99      0.87       288\n",
      "                                Meal Spot;Ready to Eat       0.86      0.81      0.83        96\n",
      "         Kitchen, Dining & Household;Cleaning Products       0.97      0.93      0.95       130\n",
      "               Chilled, Frozen & Desserts;Frozen Foods       0.86      0.81      0.83        96\n",
      "      Fresh Foods & Bakery;Deli, Salads & Cooked Meats       0.97      0.88      0.92        33\n",
      "Kitchen, Dining & Household;Stationery & Entertainment       0.89      0.95      0.92       104\n",
      "                       Personal Care;Beauty & Grooming       0.77      0.99      0.87       288\n",
      "                          Fresh Foods & Bakery;Seafood       0.97      0.93      0.95       130\n",
      "                                     Pantry;Hot Drinks       0.96      0.87      0.91        61\n",
      "                           Fresh Foods & Bakery;Bakery       0.27      0.24      0.25       109\n",
      "                          Pantry;Jams, Honey & Spreads       0.97      0.82      0.89        89\n",
      "                         Pantry;Condiments & Dressings       0.71      0.74      0.73       129\n",
      "                     Fresh Foods & Bakery;Dairy & Eggs       1.00      0.98      0.99       126\n",
      "                      Pantry;Sauces, Stock & Marinades       0.82      0.91      0.86       105\n",
      "                        Pantry;Baking Supplies & Sugar       0.86      0.97      0.91       140\n",
      "                                    Pantry;World Foods       0.59      0.72      0.65       142\n",
      "                          Pantry;Pasta, Rice & Noodles       0.97      1.00      0.98        32\n",
      "               Fresh Foods & Bakery;Bulk & Loose Foods       0.97      0.82      0.89        89\n",
      "                   Kitchen, Dining & Household;Laundry       0.86      0.81      0.83        96\n",
      "                            Pantry;Spices & Seasonings       0.97      0.97      0.97       171\n",
      "                           Pantry;Salad & Cooking Oils       0.27      0.24      0.25       109\n",
      "                                  Pantry;Confectionery       0.59      0.72      0.65       142\n",
      "               Fresh Foods & Bakery;Fruit & Vegetables       1.00      0.98      0.99       126\n",
      "                              Pantry;Breakfast Cereals       0.86      0.97      0.91       140\n",
      "                               Meal Spot;Ready to Cook       0.59      0.72      0.65       142\n",
      "                                    Drinks;Cold Drinks       0.98      0.75      0.85        57\n",
      "                     Chilled, Frozen & Desserts;Cheese       0.96      0.87      0.91        61\n",
      "                 Kitchen, Dining & Household;Household       0.88      0.91      0.90        76\n",
      "                               Meal Spot;Ready to Heat       0.19      0.15      0.17        72\n",
      "                        Fresh Foods & Bakery;Meal Kits       0.76      0.80      0.78        79\n",
      "                                     Pets;Pet Supplies       0.90      0.95      0.92       152\n",
      "          Kitchen, Dining & Household;Garage & Outdoor       0.94      0.92      0.93        90\n",
      "                        Baby, Toddler & Kids;Baby Care       0.88      0.91      0.90        76\n",
      "                                     Drinks;Hot Drinks       0.97      0.97      0.97       171\n",
      "                        Pantry;Canned & Prepared Foods       0.96      0.87      0.91        61\n",
      "                   Chilled, Frozen & Desserts;Desserts       0.89      0.95      0.92       104\n",
      "                                    Pantry;Snack Foods       1.00      0.68      0.81        25\n",
      "\n",
      "                                              accuracy                           0.79    428988\n",
      "                                             macro avg       0.77      0.77      0.77    428988\n",
      "                                          weighted avg       0.78      0.82      0.79    428988\n",
      "\n"
     ]
    },
    {
     "name": "stderr",
     "output_type": "stream",
     "text": [
      "d:\\python\\lib\\site-packages\\sklearn\\metrics\\_classification.py:1982: UserWarning: labels size, 3616, does not match size of target_names, 42\n",
      "  warnings.warn(\n",
      "d:\\python\\lib\\site-packages\\sklearn\\metrics\\_classification.py:1245: UndefinedMetricWarning: Precision and F-score are ill-defined and being set to 0.0 in labels with no predicted samples. Use `zero_division` parameter to control this behavior.\n",
      "  _warn_prf(average, modifier, msg_start, len(result))\n",
      "d:\\python\\lib\\site-packages\\sklearn\\metrics\\_classification.py:1245: UndefinedMetricWarning: Precision and F-score are ill-defined and being set to 0.0 in labels with no predicted samples. Use `zero_division` parameter to control this behavior.\n",
      "  _warn_prf(average, modifier, msg_start, len(result))\n",
      "d:\\python\\lib\\site-packages\\sklearn\\metrics\\_classification.py:1245: UndefinedMetricWarning: Precision and F-score are ill-defined and being set to 0.0 in labels with no predicted samples. Use `zero_division` parameter to control this behavior.\n",
      "  _warn_prf(average, modifier, msg_start, len(result))\n"
     ]
    }
   ],
   "source": [
    "x_train, x_test, y_train, y_test = train_test_split(reduced, simple, test_size=0.25, random_state=3)\n",
    "model.fit(x_train, y_train)\n",
    "predict_labels = model.predict(x_test)\n",
    "predict_labels = [np.round(p) for p in predict_labels]\n",
    "max_label = len(id2labels) - 1\n",
    "predict_labels = [l if max_label >= l else max_label for l in predict_labels]\n",
    "min_label = 0\n",
    "predict_labels = [l if min_label <= l else min_label for l in predict_labels]\n",
    "evaluation(predict_labels, y_test, id2labels, \"logistic\")\n"
   ],
   "metadata": {
    "collapsed": false,
    "pycharm": {
     "name": "#%%\n"
    }
   }
  }
 ],
 "metadata": {
  "kernelspec": {
   "display_name": "Python 3",
   "language": "python",
   "name": "python3"
  },
  "language_info": {
   "codemirror_mode": {
    "name": "ipython",
    "version": 2
   },
   "file_extension": ".py",
   "mimetype": "text/x-python",
   "name": "python",
   "nbconvert_exporter": "python",
   "pygments_lexer": "ipython2",
   "version": "2.7.6"
  }
 },
 "nbformat": 4,
 "nbformat_minor": 0
}