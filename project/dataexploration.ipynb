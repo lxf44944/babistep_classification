{
 "cells": [
  {
   "cell_type": "code",
   "execution_count": 1,
   "metadata": {
    "collapsed": true
   },
   "outputs": [],
   "source": [
    "import re\n",
    "import matplotlib.pyplot as plot\n",
    "import numpy as np\n",
    "import pandas as pd\n",
    "from sklearn.feature_extraction.text import TfidfVectorizer\n",
    "from sklearn.linear_model import LogisticRegression\n",
    "from sklearn.metrics import accuracy_score, recall_score, f1_score, classification_report\n"
   ]
  },
  {
   "cell_type": "code",
   "execution_count": 2,
   "outputs": [
    {
     "data": {
      "text/plain": "                                        ProductName               level_1  \\\n0                             Johnson's Baby Lotion  Baby, Toddler & Kids   \n1                                Johnson's Baby Oil  Baby, Toddler & Kids   \n2  SMA Balanced Nutrition From Birth Infant Formula  Baby, Toddler & Kids   \n3                             Johnson's Baby Powder  Baby, Toddler & Kids   \n4                             Johnson's Baby Powder  Baby, Toddler & Kids   \n\n     level_2                      level_3  PricePerItem PriceMode  \\\n0  Baby Care     Baby Bathing & Skin Care          4.89        ea   \n1  Baby Care     Baby Bathing & Skin Care          4.89        ea   \n2  Baby Care  Baby Formula & Toddler Food         17.99        ea   \n3  Baby Care           Nappies & Changing          2.99        ea   \n4  Baby Care           Nappies & Changing          4.89        ea   \n\n   HasMultiBuyDeal MultiBuyDeal  MultiBuyBasePrice  MultiBuyPrice  \\\n0            False          NaN               4.89            NaN   \n1            False          NaN               4.89            NaN   \n2            False          NaN              17.99          17.99   \n3            False          NaN               2.99           2.99   \n4            False          NaN               4.89            NaN   \n\n   MultiBuyQuantity PromoBadgeImageLabel  \n0               NaN                  NaN  \n1               NaN                  NaN  \n2               1.0                Saver  \n3               1.0                Saver  \n4               NaN                  NaN  ",
      "text/html": "<div>\n<style scoped>\n    .dataframe tbody tr th:only-of-type {\n        vertical-align: middle;\n    }\n\n    .dataframe tbody tr th {\n        vertical-align: top;\n    }\n\n    .dataframe thead th {\n        text-align: right;\n    }\n</style>\n<table border=\"1\" class=\"dataframe\">\n  <thead>\n    <tr style=\"text-align: right;\">\n      <th></th>\n      <th>ProductName</th>\n      <th>level_1</th>\n      <th>level_2</th>\n      <th>level_3</th>\n      <th>PricePerItem</th>\n      <th>PriceMode</th>\n      <th>HasMultiBuyDeal</th>\n      <th>MultiBuyDeal</th>\n      <th>MultiBuyBasePrice</th>\n      <th>MultiBuyPrice</th>\n      <th>MultiBuyQuantity</th>\n      <th>PromoBadgeImageLabel</th>\n    </tr>\n  </thead>\n  <tbody>\n    <tr>\n      <th>0</th>\n      <td>Johnson's Baby Lotion</td>\n      <td>Baby, Toddler &amp; Kids</td>\n      <td>Baby Care</td>\n      <td>Baby Bathing &amp; Skin Care</td>\n      <td>4.89</td>\n      <td>ea</td>\n      <td>False</td>\n      <td>NaN</td>\n      <td>4.89</td>\n      <td>NaN</td>\n      <td>NaN</td>\n      <td>NaN</td>\n    </tr>\n    <tr>\n      <th>1</th>\n      <td>Johnson's Baby Oil</td>\n      <td>Baby, Toddler &amp; Kids</td>\n      <td>Baby Care</td>\n      <td>Baby Bathing &amp; Skin Care</td>\n      <td>4.89</td>\n      <td>ea</td>\n      <td>False</td>\n      <td>NaN</td>\n      <td>4.89</td>\n      <td>NaN</td>\n      <td>NaN</td>\n      <td>NaN</td>\n    </tr>\n    <tr>\n      <th>2</th>\n      <td>SMA Balanced Nutrition From Birth Infant Formula</td>\n      <td>Baby, Toddler &amp; Kids</td>\n      <td>Baby Care</td>\n      <td>Baby Formula &amp; Toddler Food</td>\n      <td>17.99</td>\n      <td>ea</td>\n      <td>False</td>\n      <td>NaN</td>\n      <td>17.99</td>\n      <td>17.99</td>\n      <td>1.0</td>\n      <td>Saver</td>\n    </tr>\n    <tr>\n      <th>3</th>\n      <td>Johnson's Baby Powder</td>\n      <td>Baby, Toddler &amp; Kids</td>\n      <td>Baby Care</td>\n      <td>Nappies &amp; Changing</td>\n      <td>2.99</td>\n      <td>ea</td>\n      <td>False</td>\n      <td>NaN</td>\n      <td>2.99</td>\n      <td>2.99</td>\n      <td>1.0</td>\n      <td>Saver</td>\n    </tr>\n    <tr>\n      <th>4</th>\n      <td>Johnson's Baby Powder</td>\n      <td>Baby, Toddler &amp; Kids</td>\n      <td>Baby Care</td>\n      <td>Nappies &amp; Changing</td>\n      <td>4.89</td>\n      <td>ea</td>\n      <td>False</td>\n      <td>NaN</td>\n      <td>4.89</td>\n      <td>NaN</td>\n      <td>NaN</td>\n      <td>NaN</td>\n    </tr>\n  </tbody>\n</table>\n</div>"
     },
     "execution_count": 2,
     "metadata": {},
     "output_type": "execute_result"
    }
   ],
   "source": [
    "from sklearn.model_selection import train_test_split\n",
    "\n",
    "columns = [\"ProductName\", \"level_1\", \"level_2\", \"level_3\", \"PricePerItem\", \"PriceMode\", \"HasMultiBuyDeal\",\n",
    "           \"MultiBuyDeal\", \"MultiBuyBasePrice\", \"MultiBuyPrice\", \"MultiBuyQuantity\", \"PromoBadgeImageLabel\"]\n",
    "df = pd.read_csv(\"data.csv\", usecols=columns)\n",
    "df.drop_duplicates(inplace=True)\n",
    "df.head(5)"
   ],
   "metadata": {
    "collapsed": false,
    "pycharm": {
     "name": "#%%\n"
    }
   }
  },
  {
   "cell_type": "code",
   "execution_count": 3,
   "outputs": [
    {
     "data": {
      "text/plain": "                                        ProductName               level_1  \\\n0                              johnsons baby lotion  Baby, Toddler & Kids   \n1                                 johnsons baby oil  Baby, Toddler & Kids   \n2  sma balanced nutrition from birth infant formula  Baby, Toddler & Kids   \n3                              johnsons baby powder  Baby, Toddler & Kids   \n4                              johnsons baby powder  Baby, Toddler & Kids   \n\n     level_2                      level_3  PricePerItem PriceMode  \\\n0  Baby Care     Baby Bathing & Skin Care          4.89        ea   \n1  Baby Care     Baby Bathing & Skin Care          4.89        ea   \n2  Baby Care  Baby Formula & Toddler Food         17.99        ea   \n3  Baby Care           Nappies & Changing          2.99        ea   \n4  Baby Care           Nappies & Changing          4.89        ea   \n\n   HasMultiBuyDeal MultiBuyDeal  MultiBuyBasePrice  MultiBuyPrice  \\\n0            False          NaN               4.89            NaN   \n1            False          NaN               4.89            NaN   \n2            False          NaN              17.99          17.99   \n3            False          NaN               2.99           2.99   \n4            False          NaN               4.89            NaN   \n\n   MultiBuyQuantity PromoBadgeImageLabel  \n0               NaN                  NaN  \n1               NaN                  NaN  \n2               1.0                Saver  \n3               1.0                Saver  \n4               NaN                  NaN  ",
      "text/html": "<div>\n<style scoped>\n    .dataframe tbody tr th:only-of-type {\n        vertical-align: middle;\n    }\n\n    .dataframe tbody tr th {\n        vertical-align: top;\n    }\n\n    .dataframe thead th {\n        text-align: right;\n    }\n</style>\n<table border=\"1\" class=\"dataframe\">\n  <thead>\n    <tr style=\"text-align: right;\">\n      <th></th>\n      <th>ProductName</th>\n      <th>level_1</th>\n      <th>level_2</th>\n      <th>level_3</th>\n      <th>PricePerItem</th>\n      <th>PriceMode</th>\n      <th>HasMultiBuyDeal</th>\n      <th>MultiBuyDeal</th>\n      <th>MultiBuyBasePrice</th>\n      <th>MultiBuyPrice</th>\n      <th>MultiBuyQuantity</th>\n      <th>PromoBadgeImageLabel</th>\n    </tr>\n  </thead>\n  <tbody>\n    <tr>\n      <th>0</th>\n      <td>johnsons baby lotion</td>\n      <td>Baby, Toddler &amp; Kids</td>\n      <td>Baby Care</td>\n      <td>Baby Bathing &amp; Skin Care</td>\n      <td>4.89</td>\n      <td>ea</td>\n      <td>False</td>\n      <td>NaN</td>\n      <td>4.89</td>\n      <td>NaN</td>\n      <td>NaN</td>\n      <td>NaN</td>\n    </tr>\n    <tr>\n      <th>1</th>\n      <td>johnsons baby oil</td>\n      <td>Baby, Toddler &amp; Kids</td>\n      <td>Baby Care</td>\n      <td>Baby Bathing &amp; Skin Care</td>\n      <td>4.89</td>\n      <td>ea</td>\n      <td>False</td>\n      <td>NaN</td>\n      <td>4.89</td>\n      <td>NaN</td>\n      <td>NaN</td>\n      <td>NaN</td>\n    </tr>\n    <tr>\n      <th>2</th>\n      <td>sma balanced nutrition from birth infant formula</td>\n      <td>Baby, Toddler &amp; Kids</td>\n      <td>Baby Care</td>\n      <td>Baby Formula &amp; Toddler Food</td>\n      <td>17.99</td>\n      <td>ea</td>\n      <td>False</td>\n      <td>NaN</td>\n      <td>17.99</td>\n      <td>17.99</td>\n      <td>1.0</td>\n      <td>Saver</td>\n    </tr>\n    <tr>\n      <th>3</th>\n      <td>johnsons baby powder</td>\n      <td>Baby, Toddler &amp; Kids</td>\n      <td>Baby Care</td>\n      <td>Nappies &amp; Changing</td>\n      <td>2.99</td>\n      <td>ea</td>\n      <td>False</td>\n      <td>NaN</td>\n      <td>2.99</td>\n      <td>2.99</td>\n      <td>1.0</td>\n      <td>Saver</td>\n    </tr>\n    <tr>\n      <th>4</th>\n      <td>johnsons baby powder</td>\n      <td>Baby, Toddler &amp; Kids</td>\n      <td>Baby Care</td>\n      <td>Nappies &amp; Changing</td>\n      <td>4.89</td>\n      <td>ea</td>\n      <td>False</td>\n      <td>NaN</td>\n      <td>4.89</td>\n      <td>NaN</td>\n      <td>NaN</td>\n      <td>NaN</td>\n    </tr>\n  </tbody>\n</table>\n</div>"
     },
     "execution_count": 3,
     "metadata": {},
     "output_type": "execute_result"
    }
   ],
   "source": [
    "punctuations = re.compile(r'[^a-zA-Z\\s]+')\n",
    "df[\"ProductName\"] = [\" \".join(punctuations.sub('', x).lower().split()) for x in df[\"ProductName\"].tolist()]\n",
    "df.head(5)"
   ],
   "metadata": {
    "collapsed": false,
    "pycharm": {
     "name": "#%%\n"
    }
   }
  },
  {
   "cell_type": "code",
   "execution_count": 4,
   "outputs": [
    {
     "data": {
      "text/plain": "                                        ProductName               level_1  \\\n0                              johnsons baby lotion  Baby, Toddler & Kids   \n1                                 johnsons baby oil  Baby, Toddler & Kids   \n2  sma balanced nutrition from birth infant formula  Baby, Toddler & Kids   \n3                              johnsons baby powder  Baby, Toddler & Kids   \n4                              johnsons baby powder  Baby, Toddler & Kids   \n\n     level_2                      level_3  PricePerItem PriceMode  \\\n0  Baby Care     Baby Bathing & Skin Care          4.89        ea   \n1  Baby Care     Baby Bathing & Skin Care          4.89        ea   \n2  Baby Care  Baby Formula & Toddler Food         17.99        ea   \n3  Baby Care           Nappies & Changing          2.99        ea   \n4  Baby Care           Nappies & Changing          4.89        ea   \n\n   HasMultiBuyDeal MultiBuyDeal  MultiBuyBasePrice  MultiBuyPrice  \\\n0            False                            4.89            NaN   \n1            False                            4.89            NaN   \n2            False                           17.99          17.99   \n3            False                            2.99           2.99   \n4            False                            4.89            NaN   \n\n   MultiBuyQuantity PromoBadgeImageLabel  \n0               NaN                  NaN  \n1               NaN                  NaN  \n2               1.0                Saver  \n3               1.0                Saver  \n4               NaN                  NaN  ",
      "text/html": "<div>\n<style scoped>\n    .dataframe tbody tr th:only-of-type {\n        vertical-align: middle;\n    }\n\n    .dataframe tbody tr th {\n        vertical-align: top;\n    }\n\n    .dataframe thead th {\n        text-align: right;\n    }\n</style>\n<table border=\"1\" class=\"dataframe\">\n  <thead>\n    <tr style=\"text-align: right;\">\n      <th></th>\n      <th>ProductName</th>\n      <th>level_1</th>\n      <th>level_2</th>\n      <th>level_3</th>\n      <th>PricePerItem</th>\n      <th>PriceMode</th>\n      <th>HasMultiBuyDeal</th>\n      <th>MultiBuyDeal</th>\n      <th>MultiBuyBasePrice</th>\n      <th>MultiBuyPrice</th>\n      <th>MultiBuyQuantity</th>\n      <th>PromoBadgeImageLabel</th>\n    </tr>\n  </thead>\n  <tbody>\n    <tr>\n      <th>0</th>\n      <td>johnsons baby lotion</td>\n      <td>Baby, Toddler &amp; Kids</td>\n      <td>Baby Care</td>\n      <td>Baby Bathing &amp; Skin Care</td>\n      <td>4.89</td>\n      <td>ea</td>\n      <td>False</td>\n      <td></td>\n      <td>4.89</td>\n      <td>NaN</td>\n      <td>NaN</td>\n      <td>NaN</td>\n    </tr>\n    <tr>\n      <th>1</th>\n      <td>johnsons baby oil</td>\n      <td>Baby, Toddler &amp; Kids</td>\n      <td>Baby Care</td>\n      <td>Baby Bathing &amp; Skin Care</td>\n      <td>4.89</td>\n      <td>ea</td>\n      <td>False</td>\n      <td></td>\n      <td>4.89</td>\n      <td>NaN</td>\n      <td>NaN</td>\n      <td>NaN</td>\n    </tr>\n    <tr>\n      <th>2</th>\n      <td>sma balanced nutrition from birth infant formula</td>\n      <td>Baby, Toddler &amp; Kids</td>\n      <td>Baby Care</td>\n      <td>Baby Formula &amp; Toddler Food</td>\n      <td>17.99</td>\n      <td>ea</td>\n      <td>False</td>\n      <td></td>\n      <td>17.99</td>\n      <td>17.99</td>\n      <td>1.0</td>\n      <td>Saver</td>\n    </tr>\n    <tr>\n      <th>3</th>\n      <td>johnsons baby powder</td>\n      <td>Baby, Toddler &amp; Kids</td>\n      <td>Baby Care</td>\n      <td>Nappies &amp; Changing</td>\n      <td>2.99</td>\n      <td>ea</td>\n      <td>False</td>\n      <td></td>\n      <td>2.99</td>\n      <td>2.99</td>\n      <td>1.0</td>\n      <td>Saver</td>\n    </tr>\n    <tr>\n      <th>4</th>\n      <td>johnsons baby powder</td>\n      <td>Baby, Toddler &amp; Kids</td>\n      <td>Baby Care</td>\n      <td>Nappies &amp; Changing</td>\n      <td>4.89</td>\n      <td>ea</td>\n      <td>False</td>\n      <td></td>\n      <td>4.89</td>\n      <td>NaN</td>\n      <td>NaN</td>\n      <td>NaN</td>\n    </tr>\n  </tbody>\n</table>\n</div>"
     },
     "execution_count": 4,
     "metadata": {},
     "output_type": "execute_result"
    }
   ],
   "source": [
    "df[\"MultiBuyDeal\"] = [\" \".join(punctuations.sub('', y).lower().split()) if y == y else \" \" for y in\n",
    "                      df[\"MultiBuyDeal\"].tolist()]\n",
    "df.head(5)"
   ],
   "metadata": {
    "collapsed": false,
    "pycharm": {
     "name": "#%%\n"
    }
   }
  },
  {
   "cell_type": "code",
   "execution_count": 5,
   "outputs": [
    {
     "data": {
      "text/plain": "                                        ProductName               level_1  \\\n0                              johnsons baby lotion  Baby, Toddler & Kids   \n1                                 johnsons baby oil  Baby, Toddler & Kids   \n2  sma balanced nutrition from birth infant formula  Baby, Toddler & Kids   \n3                              johnsons baby powder  Baby, Toddler & Kids   \n4                              johnsons baby powder  Baby, Toddler & Kids   \n\n     level_2                      level_3  PricePerItem PriceMode  \\\n0  Baby Care     Baby Bathing & Skin Care          4.89        ea   \n1  Baby Care     Baby Bathing & Skin Care          4.89        ea   \n2  Baby Care  Baby Formula & Toddler Food         17.99        ea   \n3  Baby Care           Nappies & Changing          2.99        ea   \n4  Baby Care           Nappies & Changing          4.89        ea   \n\n   HasMultiBuyDeal MultiBuyDeal  MultiBuyBasePrice  MultiBuyPrice  \\\n0            False                            4.89            NaN   \n1            False                            4.89            NaN   \n2            False                           17.99          17.99   \n3            False                            2.99           2.99   \n4            False                            4.89            NaN   \n\n   MultiBuyQuantity PromoBadgeImageLabel  \n0               NaN                       \n1               NaN                       \n2               1.0                saver  \n3               1.0                saver  \n4               NaN                       ",
      "text/html": "<div>\n<style scoped>\n    .dataframe tbody tr th:only-of-type {\n        vertical-align: middle;\n    }\n\n    .dataframe tbody tr th {\n        vertical-align: top;\n    }\n\n    .dataframe thead th {\n        text-align: right;\n    }\n</style>\n<table border=\"1\" class=\"dataframe\">\n  <thead>\n    <tr style=\"text-align: right;\">\n      <th></th>\n      <th>ProductName</th>\n      <th>level_1</th>\n      <th>level_2</th>\n      <th>level_3</th>\n      <th>PricePerItem</th>\n      <th>PriceMode</th>\n      <th>HasMultiBuyDeal</th>\n      <th>MultiBuyDeal</th>\n      <th>MultiBuyBasePrice</th>\n      <th>MultiBuyPrice</th>\n      <th>MultiBuyQuantity</th>\n      <th>PromoBadgeImageLabel</th>\n    </tr>\n  </thead>\n  <tbody>\n    <tr>\n      <th>0</th>\n      <td>johnsons baby lotion</td>\n      <td>Baby, Toddler &amp; Kids</td>\n      <td>Baby Care</td>\n      <td>Baby Bathing &amp; Skin Care</td>\n      <td>4.89</td>\n      <td>ea</td>\n      <td>False</td>\n      <td></td>\n      <td>4.89</td>\n      <td>NaN</td>\n      <td>NaN</td>\n      <td></td>\n    </tr>\n    <tr>\n      <th>1</th>\n      <td>johnsons baby oil</td>\n      <td>Baby, Toddler &amp; Kids</td>\n      <td>Baby Care</td>\n      <td>Baby Bathing &amp; Skin Care</td>\n      <td>4.89</td>\n      <td>ea</td>\n      <td>False</td>\n      <td></td>\n      <td>4.89</td>\n      <td>NaN</td>\n      <td>NaN</td>\n      <td></td>\n    </tr>\n    <tr>\n      <th>2</th>\n      <td>sma balanced nutrition from birth infant formula</td>\n      <td>Baby, Toddler &amp; Kids</td>\n      <td>Baby Care</td>\n      <td>Baby Formula &amp; Toddler Food</td>\n      <td>17.99</td>\n      <td>ea</td>\n      <td>False</td>\n      <td></td>\n      <td>17.99</td>\n      <td>17.99</td>\n      <td>1.0</td>\n      <td>saver</td>\n    </tr>\n    <tr>\n      <th>3</th>\n      <td>johnsons baby powder</td>\n      <td>Baby, Toddler &amp; Kids</td>\n      <td>Baby Care</td>\n      <td>Nappies &amp; Changing</td>\n      <td>2.99</td>\n      <td>ea</td>\n      <td>False</td>\n      <td></td>\n      <td>2.99</td>\n      <td>2.99</td>\n      <td>1.0</td>\n      <td>saver</td>\n    </tr>\n    <tr>\n      <th>4</th>\n      <td>johnsons baby powder</td>\n      <td>Baby, Toddler &amp; Kids</td>\n      <td>Baby Care</td>\n      <td>Nappies &amp; Changing</td>\n      <td>4.89</td>\n      <td>ea</td>\n      <td>False</td>\n      <td></td>\n      <td>4.89</td>\n      <td>NaN</td>\n      <td>NaN</td>\n      <td></td>\n    </tr>\n  </tbody>\n</table>\n</div>"
     },
     "execution_count": 5,
     "metadata": {},
     "output_type": "execute_result"
    }
   ],
   "source": [
    "df[\"PromoBadgeImageLabel\"] = [\" \".join(punctuations.sub('', z).lower().split()) if z == z else \" \" for z in\n",
    "                              df[\"PromoBadgeImageLabel\"].tolist()]\n",
    "df.head(5)"
   ],
   "metadata": {
    "collapsed": false,
    "pycharm": {
     "name": "#%%\n"
    }
   }
  },
  {
   "cell_type": "code",
   "execution_count": 6,
   "outputs": [
    {
     "data": {
      "text/plain": "                                        ProductName               level_1  \\\n0                              johnsons baby lotion  Baby, Toddler & Kids   \n1                                 johnsons baby oil  Baby, Toddler & Kids   \n2  sma balanced nutrition from birth infant formula  Baby, Toddler & Kids   \n3                              johnsons baby powder  Baby, Toddler & Kids   \n4                              johnsons baby powder  Baby, Toddler & Kids   \n\n     level_2                      level_3  PricePerItem PriceMode  \\\n0  Baby Care     Baby Bathing & Skin Care          4.89        ea   \n1  Baby Care     Baby Bathing & Skin Care          4.89        ea   \n2  Baby Care  Baby Formula & Toddler Food         17.99        ea   \n3  Baby Care           Nappies & Changing          2.99        ea   \n4  Baby Care           Nappies & Changing          4.89        ea   \n\n   HasMultiBuyDeal MultiBuyDeal  MultiBuyBasePrice  MultiBuyPrice  \\\n0            False                            4.89           0.00   \n1            False                            4.89           0.00   \n2            False                           17.99          17.99   \n3            False                            2.99           2.99   \n4            False                            4.89           0.00   \n\n   MultiBuyQuantity PromoBadgeImageLabel  \n0               0.0                       \n1               0.0                       \n2               1.0                saver  \n3               1.0                saver  \n4               0.0                       ",
      "text/html": "<div>\n<style scoped>\n    .dataframe tbody tr th:only-of-type {\n        vertical-align: middle;\n    }\n\n    .dataframe tbody tr th {\n        vertical-align: top;\n    }\n\n    .dataframe thead th {\n        text-align: right;\n    }\n</style>\n<table border=\"1\" class=\"dataframe\">\n  <thead>\n    <tr style=\"text-align: right;\">\n      <th></th>\n      <th>ProductName</th>\n      <th>level_1</th>\n      <th>level_2</th>\n      <th>level_3</th>\n      <th>PricePerItem</th>\n      <th>PriceMode</th>\n      <th>HasMultiBuyDeal</th>\n      <th>MultiBuyDeal</th>\n      <th>MultiBuyBasePrice</th>\n      <th>MultiBuyPrice</th>\n      <th>MultiBuyQuantity</th>\n      <th>PromoBadgeImageLabel</th>\n    </tr>\n  </thead>\n  <tbody>\n    <tr>\n      <th>0</th>\n      <td>johnsons baby lotion</td>\n      <td>Baby, Toddler &amp; Kids</td>\n      <td>Baby Care</td>\n      <td>Baby Bathing &amp; Skin Care</td>\n      <td>4.89</td>\n      <td>ea</td>\n      <td>False</td>\n      <td></td>\n      <td>4.89</td>\n      <td>0.00</td>\n      <td>0.0</td>\n      <td></td>\n    </tr>\n    <tr>\n      <th>1</th>\n      <td>johnsons baby oil</td>\n      <td>Baby, Toddler &amp; Kids</td>\n      <td>Baby Care</td>\n      <td>Baby Bathing &amp; Skin Care</td>\n      <td>4.89</td>\n      <td>ea</td>\n      <td>False</td>\n      <td></td>\n      <td>4.89</td>\n      <td>0.00</td>\n      <td>0.0</td>\n      <td></td>\n    </tr>\n    <tr>\n      <th>2</th>\n      <td>sma balanced nutrition from birth infant formula</td>\n      <td>Baby, Toddler &amp; Kids</td>\n      <td>Baby Care</td>\n      <td>Baby Formula &amp; Toddler Food</td>\n      <td>17.99</td>\n      <td>ea</td>\n      <td>False</td>\n      <td></td>\n      <td>17.99</td>\n      <td>17.99</td>\n      <td>1.0</td>\n      <td>saver</td>\n    </tr>\n    <tr>\n      <th>3</th>\n      <td>johnsons baby powder</td>\n      <td>Baby, Toddler &amp; Kids</td>\n      <td>Baby Care</td>\n      <td>Nappies &amp; Changing</td>\n      <td>2.99</td>\n      <td>ea</td>\n      <td>False</td>\n      <td></td>\n      <td>2.99</td>\n      <td>2.99</td>\n      <td>1.0</td>\n      <td>saver</td>\n    </tr>\n    <tr>\n      <th>4</th>\n      <td>johnsons baby powder</td>\n      <td>Baby, Toddler &amp; Kids</td>\n      <td>Baby Care</td>\n      <td>Nappies &amp; Changing</td>\n      <td>4.89</td>\n      <td>ea</td>\n      <td>False</td>\n      <td></td>\n      <td>4.89</td>\n      <td>0.00</td>\n      <td>0.0</td>\n      <td></td>\n    </tr>\n  </tbody>\n</table>\n</div>"
     },
     "execution_count": 6,
     "metadata": {},
     "output_type": "execute_result"
    }
   ],
   "source": [
    "df[\"MultiBuyPrice\"].fillna(0, inplace=True)\n",
    "df[\"MultiBuyQuantity\"].fillna(0, inplace=True)\n",
    "df.head(5)"
   ],
   "metadata": {
    "collapsed": false,
    "pycharm": {
     "name": "#%%\n"
    }
   }
  },
  {
   "cell_type": "code",
   "execution_count": 7,
   "outputs": [
    {
     "data": {
      "text/plain": "<BarContainer object of 449 artists>"
     },
     "execution_count": 7,
     "metadata": {},
     "output_type": "execute_result"
    },
    {
     "data": {
      "text/plain": "<Figure size 432x288 with 1 Axes>",
      "image/png": "[encoded data removed]"
     },
     "metadata": {
      "needs_background": "light"
     },
     "output_type": "display_data"
    }
   ],
   "source": [
    "typesa = df.value_counts(columns[1:4])\n",
    "plot.bar([a for a in range(typesa.size)], typesa)"
   ],
   "metadata": {
    "collapsed": false,
    "pycharm": {
     "name": "#%%\n"
    }
   }
  },
  {
   "cell_type": "code",
   "execution_count": 8,
   "outputs": [
    {
     "data": {
      "text/plain": "<BarContainer object of 43 artists>"
     },
     "execution_count": 8,
     "metadata": {},
     "output_type": "execute_result"
    },
    {
     "data": {
      "text/plain": "<Figure size 432x288 with 1 Axes>",
      "image/png": "[encoded data removed]"
     },
     "metadata": {
      "needs_background": "light"
     },
     "output_type": "display_data"
    }
   ],
   "source": [
    "typesb = df.value_counts(columns[1:3])\n",
    "plot.bar([a for a in range(typesb.size)], typesb)"
   ],
   "metadata": {
    "collapsed": false,
    "pycharm": {
     "name": "#%%\n"
    }
   }
  },
  {
   "cell_type": "code",
   "execution_count": 9,
   "outputs": [
    {
     "data": {
      "text/plain": "level_1                    \nPantry                         4740\nPersonal Care                  1778\nFresh Foods & Bakery           1721\nChilled, Frozen & Desserts     1426\nBeer, Cider & Wine             1232\nKitchen, Dining & Household    1182\nDrinks                         1063\nPets                            512\nMeal Spot                       456\nBaby, Toddler & Kids            354\nFeatured                        121\ndtype: int64"
     },
     "execution_count": 9,
     "metadata": {},
     "output_type": "execute_result"
    }
   ],
   "source": [
    "typesc = df.value_counts(columns[1:2])\n",
    "typesc"
   ],
   "metadata": {
    "collapsed": false,
    "pycharm": {
     "name": "#%%\n"
    }
   }
  },
  {
   "cell_type": "code",
   "execution_count": 10,
   "outputs": [
    {
     "data": {
      "text/plain": "                                        ProductName               level_1  \\\n0                              johnsons baby lotion  Baby, Toddler & Kids   \n1                                 johnsons baby oil  Baby, Toddler & Kids   \n2  sma balanced nutrition from birth infant formula  Baby, Toddler & Kids   \n3                              johnsons baby powder  Baby, Toddler & Kids   \n4                              johnsons baby powder  Baby, Toddler & Kids   \n\n     level_2                      level_3  PricePerItem PriceMode  \\\n0  Baby Care     Baby Bathing & Skin Care          4.89        ea   \n1  Baby Care     Baby Bathing & Skin Care          4.89        ea   \n2  Baby Care  Baby Formula & Toddler Food         17.99        ea   \n3  Baby Care           Nappies & Changing          2.99        ea   \n4  Baby Care           Nappies & Changing          4.89        ea   \n\n   HasMultiBuyDeal MultiBuyDeal  MultiBuyBasePrice  MultiBuyPrice  \\\n0            False                            4.89           0.00   \n1            False                            4.89           0.00   \n2            False                           17.99          17.99   \n3            False                            2.99           2.99   \n4            False                            4.89           0.00   \n\n   MultiBuyQuantity PromoBadgeImageLabel  \n0               0.0                       \n1               0.0                       \n2               1.0                saver  \n3               1.0                saver  \n4               0.0                       ",
      "text/html": "<div>\n<style scoped>\n    .dataframe tbody tr th:only-of-type {\n        vertical-align: middle;\n    }\n\n    .dataframe tbody tr th {\n        vertical-align: top;\n    }\n\n    .dataframe thead th {\n        text-align: right;\n    }\n</style>\n<table border=\"1\" class=\"dataframe\">\n  <thead>\n    <tr style=\"text-align: right;\">\n      <th></th>\n      <th>ProductName</th>\n      <th>level_1</th>\n      <th>level_2</th>\n      <th>level_3</th>\n      <th>PricePerItem</th>\n      <th>PriceMode</th>\n      <th>HasMultiBuyDeal</th>\n      <th>MultiBuyDeal</th>\n      <th>MultiBuyBasePrice</th>\n      <th>MultiBuyPrice</th>\n      <th>MultiBuyQuantity</th>\n      <th>PromoBadgeImageLabel</th>\n    </tr>\n  </thead>\n  <tbody>\n    <tr>\n      <th>0</th>\n      <td>johnsons baby lotion</td>\n      <td>Baby, Toddler &amp; Kids</td>\n      <td>Baby Care</td>\n      <td>Baby Bathing &amp; Skin Care</td>\n      <td>4.89</td>\n      <td>ea</td>\n      <td>False</td>\n      <td></td>\n      <td>4.89</td>\n      <td>0.00</td>\n      <td>0.0</td>\n      <td></td>\n    </tr>\n    <tr>\n      <th>1</th>\n      <td>johnsons baby oil</td>\n      <td>Baby, Toddler &amp; Kids</td>\n      <td>Baby Care</td>\n      <td>Baby Bathing &amp; Skin Care</td>\n      <td>4.89</td>\n      <td>ea</td>\n      <td>False</td>\n      <td></td>\n      <td>4.89</td>\n      <td>0.00</td>\n      <td>0.0</td>\n      <td></td>\n    </tr>\n    <tr>\n      <th>2</th>\n      <td>sma balanced nutrition from birth infant formula</td>\n      <td>Baby, Toddler &amp; Kids</td>\n      <td>Baby Care</td>\n      <td>Baby Formula &amp; Toddler Food</td>\n      <td>17.99</td>\n      <td>ea</td>\n      <td>False</td>\n      <td></td>\n      <td>17.99</td>\n      <td>17.99</td>\n      <td>1.0</td>\n      <td>saver</td>\n    </tr>\n    <tr>\n      <th>3</th>\n      <td>johnsons baby powder</td>\n      <td>Baby, Toddler &amp; Kids</td>\n      <td>Baby Care</td>\n      <td>Nappies &amp; Changing</td>\n      <td>2.99</td>\n      <td>ea</td>\n      <td>False</td>\n      <td></td>\n      <td>2.99</td>\n      <td>2.99</td>\n      <td>1.0</td>\n      <td>saver</td>\n    </tr>\n    <tr>\n      <th>4</th>\n      <td>johnsons baby powder</td>\n      <td>Baby, Toddler &amp; Kids</td>\n      <td>Baby Care</td>\n      <td>Nappies &amp; Changing</td>\n      <td>4.89</td>\n      <td>ea</td>\n      <td>False</td>\n      <td></td>\n      <td>4.89</td>\n      <td>0.00</td>\n      <td>0.0</td>\n      <td></td>\n    </tr>\n  </tbody>\n</table>\n</div>"
     },
     "execution_count": 10,
     "metadata": {},
     "output_type": "execute_result"
    }
   ],
   "source": [
    "df = df[df[\"level_1\"] != \"Featured\"]\n",
    "df.head(5)"
   ],
   "metadata": {
    "collapsed": false,
    "pycharm": {
     "name": "#%%\n"
    }
   }
  },
  {
   "cell_type": "code",
   "execution_count": 11,
   "outputs": [
    {
     "data": {
      "text/plain": "(array([1.974e+03, 4.555e+03, 3.223e+03, 1.367e+03, 9.790e+02, 5.380e+02,\n        5.470e+02, 1.890e+02, 2.290e+02, 1.670e+02, 1.250e+02, 7.600e+01,\n        2.800e+01, 2.000e+01, 2.800e+01, 1.200e+01, 2.200e+01, 6.000e+00,\n        1.200e+01, 1.000e+00, 1.200e+01, 0.000e+00, 2.000e+00, 0.000e+00,\n        1.000e+00, 0.000e+00, 0.000e+00, 0.000e+00, 2.000e+00, 0.000e+00,\n        1.000e+00, 0.000e+00, 0.000e+00, 2.000e+00, 0.000e+00, 1.000e+00,\n        0.000e+00, 1.000e+00, 0.000e+00, 1.000e+00, 0.000e+00, 2.000e+00,\n        0.000e+00, 0.000e+00, 0.000e+00, 0.000e+00, 0.000e+00, 0.000e+00,\n        0.000e+00, 1.000e+00]),\n array([  0.15  ,   2.5668,   4.9836,   7.4004,   9.8172,  12.234 ,\n         14.6508,  17.0676,  19.4844,  21.9012,  24.318 ,  26.7348,\n         29.1516,  31.5684,  33.9852,  36.402 ,  38.8188,  41.2356,\n         43.6524,  46.0692,  48.486 ,  50.9028,  53.3196,  55.7364,\n         58.1532,  60.57  ,  62.9868,  65.4036,  67.8204,  70.2372,\n         72.654 ,  75.0708,  77.4876,  79.9044,  82.3212,  84.738 ,\n         87.1548,  89.5716,  91.9884,  94.4052,  96.822 ,  99.2388,\n        101.6556, 104.0724, 106.4892, 108.906 , 111.3228, 113.7396,\n        116.1564, 118.5732, 120.99  ]),\n <BarContainer object of 50 artists>)"
     },
     "execution_count": 11,
     "metadata": {},
     "output_type": "execute_result"
    },
    {
     "data": {
      "text/plain": "<Figure size 432x288 with 1 Axes>",
      "image/png": "[encoded data removed]"
     },
     "metadata": {
      "needs_background": "light"
     },
     "output_type": "display_data"
    }
   ],
   "source": [
    "dfea = df[df[\"PriceMode\"] == \"ea\"]\n",
    "plot.hist(dfea[\"PricePerItem\"].tolist(), bins=50)"
   ],
   "metadata": {
    "collapsed": false,
    "pycharm": {
     "name": "#%%\n"
    }
   }
  },
  {
   "cell_type": "code",
   "execution_count": 12,
   "outputs": [
    {
     "data": {
      "text/plain": "(array([13., 21., 25., 13., 22., 30., 33.,  9., 41., 19., 45., 11.,  9.,\n        14.,  9.,  1.,  3.,  3.,  7.,  2.,  2.,  1.,  0.,  1.,  0.,  0.,\n         1.,  0.,  0.,  0.,  1.,  2.,  0.,  0.,  0.,  0.,  0.,  0.,  1.,\n         0.,  0.,  0.,  0.,  0.,  0.,  0.,  0.,  0.,  0.,  1.]),\n array([  2.29  ,   4.8422,   7.3944,   9.9466,  12.4988,  15.051 ,\n         17.6032,  20.1554,  22.7076,  25.2598,  27.812 ,  30.3642,\n         32.9164,  35.4686,  38.0208,  40.573 ,  43.1252,  45.6774,\n         48.2296,  50.7818,  53.334 ,  55.8862,  58.4384,  60.9906,\n         63.5428,  66.095 ,  68.6472,  71.1994,  73.7516,  76.3038,\n         78.856 ,  81.4082,  83.9604,  86.5126,  89.0648,  91.617 ,\n         94.1692,  96.7214,  99.2736, 101.8258, 104.378 , 106.9302,\n        109.4824, 112.0346, 114.5868, 117.139 , 119.6912, 122.2434,\n        124.7956, 127.3478, 129.9   ]),\n <BarContainer object of 50 artists>)"
     },
     "execution_count": 12,
     "metadata": {},
     "output_type": "execute_result"
    },
    {
     "data": {
      "text/plain": "<Figure size 432x288 with 1 Axes>",
      "image/png": "[encoded data removed]"
     },
     "metadata": {
      "needs_background": "light"
     },
     "output_type": "display_data"
    }
   ],
   "source": [
    "dfkg = df[df[\"PriceMode\"] == \"kg\"]\n",
    "plot.hist(dfkg[\"PricePerItem\"].tolist(), bins=50)"
   ],
   "metadata": {
    "collapsed": false,
    "pycharm": {
     "name": "#%%\n"
    }
   }
  },
  {
   "cell_type": "code",
   "execution_count": 13,
   "outputs": [
    {
     "data": {
      "text/plain": "                                        ProductName               level_1  \\\n0                              johnsons baby lotion  Baby, Toddler & Kids   \n1                                 johnsons baby oil  Baby, Toddler & Kids   \n2  sma balanced nutrition from birth infant formula  Baby, Toddler & Kids   \n3                              johnsons baby powder  Baby, Toddler & Kids   \n4                              johnsons baby powder  Baby, Toddler & Kids   \n\n     level_2                      level_3  PricePerItem PriceMode  \\\n0  Baby Care     Baby Bathing & Skin Care             5        ea   \n1  Baby Care     Baby Bathing & Skin Care             5        ea   \n2  Baby Care  Baby Formula & Toddler Food            20        ea   \n3  Baby Care           Nappies & Changing             5        ea   \n4  Baby Care           Nappies & Changing             5        ea   \n\n   HasMultiBuyDeal MultiBuyDeal  MultiBuyBasePrice  MultiBuyPrice  \\\n0            False                               5              0   \n1            False                               5              0   \n2            False                              20             20   \n3            False                               5              5   \n4            False                               5              0   \n\n   MultiBuyQuantity PromoBadgeImageLabel  \n0                 0                       \n1                 0                       \n2                 1                saver  \n3                 1                saver  \n4                 0                       ",
      "text/html": "<div>\n<style scoped>\n    .dataframe tbody tr th:only-of-type {\n        vertical-align: middle;\n    }\n\n    .dataframe tbody tr th {\n        vertical-align: top;\n    }\n\n    .dataframe thead th {\n        text-align: right;\n    }\n</style>\n<table border=\"1\" class=\"dataframe\">\n  <thead>\n    <tr style=\"text-align: right;\">\n      <th></th>\n      <th>ProductName</th>\n      <th>level_1</th>\n      <th>level_2</th>\n      <th>level_3</th>\n      <th>PricePerItem</th>\n      <th>PriceMode</th>\n      <th>HasMultiBuyDeal</th>\n      <th>MultiBuyDeal</th>\n      <th>MultiBuyBasePrice</th>\n      <th>MultiBuyPrice</th>\n      <th>MultiBuyQuantity</th>\n      <th>PromoBadgeImageLabel</th>\n    </tr>\n  </thead>\n  <tbody>\n    <tr>\n      <th>0</th>\n      <td>johnsons baby lotion</td>\n      <td>Baby, Toddler &amp; Kids</td>\n      <td>Baby Care</td>\n      <td>Baby Bathing &amp; Skin Care</td>\n      <td>5</td>\n      <td>ea</td>\n      <td>False</td>\n      <td></td>\n      <td>5</td>\n      <td>0</td>\n      <td>0</td>\n      <td></td>\n    </tr>\n    <tr>\n      <th>1</th>\n      <td>johnsons baby oil</td>\n      <td>Baby, Toddler &amp; Kids</td>\n      <td>Baby Care</td>\n      <td>Baby Bathing &amp; Skin Care</td>\n      <td>5</td>\n      <td>ea</td>\n      <td>False</td>\n      <td></td>\n      <td>5</td>\n      <td>0</td>\n      <td>0</td>\n      <td></td>\n    </tr>\n    <tr>\n      <th>2</th>\n      <td>sma balanced nutrition from birth infant formula</td>\n      <td>Baby, Toddler &amp; Kids</td>\n      <td>Baby Care</td>\n      <td>Baby Formula &amp; Toddler Food</td>\n      <td>20</td>\n      <td>ea</td>\n      <td>False</td>\n      <td></td>\n      <td>20</td>\n      <td>20</td>\n      <td>1</td>\n      <td>saver</td>\n    </tr>\n    <tr>\n      <th>3</th>\n      <td>johnsons baby powder</td>\n      <td>Baby, Toddler &amp; Kids</td>\n      <td>Baby Care</td>\n      <td>Nappies &amp; Changing</td>\n      <td>5</td>\n      <td>ea</td>\n      <td>False</td>\n      <td></td>\n      <td>5</td>\n      <td>5</td>\n      <td>1</td>\n      <td>saver</td>\n    </tr>\n    <tr>\n      <th>4</th>\n      <td>johnsons baby powder</td>\n      <td>Baby, Toddler &amp; Kids</td>\n      <td>Baby Care</td>\n      <td>Nappies &amp; Changing</td>\n      <td>5</td>\n      <td>ea</td>\n      <td>False</td>\n      <td></td>\n      <td>5</td>\n      <td>0</td>\n      <td>0</td>\n      <td></td>\n    </tr>\n  </tbody>\n</table>\n</div>"
     },
     "execution_count": 13,
     "metadata": {},
     "output_type": "execute_result"
    }
   ],
   "source": [
    "df[\"PricePerItem\"] = [round(p / 5) * 5 for p in df[\"PricePerItem\"].tolist()]\n",
    "df[\"MultiBuyPrice\"] = [round(p / 5) * 5 for p in df[\"MultiBuyPrice\"].tolist()]\n",
    "df[\"MultiBuyBasePrice\"] = [round(p / 5) * 5 for p in df[\"MultiBuyBasePrice\"].tolist()]\n",
    "df[\"MultiBuyQuantity\"] = [int(q) for q in df[\"MultiBuyQuantity\"].tolist()]\n",
    "df.head(5)"
   ],
   "metadata": {
    "collapsed": false,
    "pycharm": {
     "name": "#%%\n"
    }
   }
  },
  {
   "cell_type": "code",
   "execution_count": 14,
   "outputs": [
    {
     "data": {
      "text/plain": "<BarContainer object of 429 artists>"
     },
     "execution_count": 14,
     "metadata": {},
     "output_type": "execute_result"
    },
    {
     "data": {
      "text/plain": "<Figure size 432x288 with 1 Axes>",
      "image/png": "[encoded data removed]"
     },
     "metadata": {
      "needs_background": "light"
     },
     "output_type": "display_data"
    }
   ],
   "source": [
    "types = []\n",
    "countt = []\n",
    "countf = []\n",
    "levela = df[\"level_1\"].tolist()\n",
    "levelb = df[\"level_2\"].tolist()\n",
    "levelc = df[\"level_3\"].tolist()\n",
    "state = df[\"HasMultiBuyDeal\"].tolist()\n",
    "labels = [\";\".join([levela[i], levelb[i], levelc[i]]) for i in range(len(levela))]\n",
    "for i in range(len(labels)):\n",
    "    if labels[i] in types:\n",
    "        if state[i]:\n",
    "            countt[types.index(labels[i])] += 1\n",
    "        else:\n",
    "            countf[types.index(labels[i])] += 1\n",
    "    else:\n",
    "        types.append(labels[i])\n",
    "        countt.append(0)\n",
    "        countf.append(0)\n",
    "plot.bar([a for a in range(len(types))], countt)\n",
    "plot.bar([a for a in range(len(types))], countf, bottom=countt)"
   ],
   "metadata": {
    "collapsed": false,
    "pycharm": {
     "name": "#%%\n"
    }
   }
  },
  {
   "cell_type": "code",
   "execution_count": 15,
   "outputs": [
    {
     "data": {
      "text/plain": "<BarContainer object of 429 artists>"
     },
     "execution_count": 15,
     "metadata": {},
     "output_type": "execute_result"
    },
    {
     "data": {
      "text/plain": "<Figure size 432x288 with 1 Axes>",
      "image/png": "[encoded data removed]"
     },
     "metadata": {
      "needs_background": "light"
     },
     "output_type": "display_data"
    }
   ],
   "source": [
    "types = []\n",
    "countt = []\n",
    "countf = []\n",
    "levela = df[\"level_1\"].tolist()\n",
    "levelb = df[\"level_2\"].tolist()\n",
    "levelc = df[\"level_3\"].tolist()\n",
    "state = df[\"PromoBadgeImageLabel\"].tolist()\n",
    "labels = [\";\".join([levela[i], levelb[i], levelc[i]]) for i in range(len(levela))]\n",
    "for i in range(len(labels)):\n",
    "    if labels[i] in types:\n",
    "        if state[i]:\n",
    "            countt[types.index(labels[i])] += 1\n",
    "        else:\n",
    "            countf[types.index(labels[i])] += 1\n",
    "    else:\n",
    "        types.append(labels[i])\n",
    "        countt.append(0)\n",
    "        countf.append(0)\n",
    "plot.bar([a for a in range(len(types))], countt)\n",
    "plot.bar([a for a in range(len(types))], countf, bottom=countt)"
   ],
   "metadata": {
    "collapsed": false,
    "pycharm": {
     "name": "#%%\n"
    }
   }
  },
  {
   "cell_type": "code",
   "execution_count": 16,
   "outputs": [],
   "source": [
    "def evaluation(predictions, labels, id2label, model_name=None):\n",
    "    acc = accuracy_score(labels, predictions)\n",
    "    recall = recall_score(labels, predictions, average=\"macro\")\n",
    "    f1 = f1_score(labels, predictions, average=\"macro\")\n",
    "    report = classification_report(labels, predictions, target_names=[id2label[i] for i in range(len(id2label))],\n",
    "                                   labels=labels)\n",
    "    info = \"acc:%s, recall:%s, f1 score:%s\" % (acc, recall, f1)\n",
    "    if model_name is not None:\n",
    "        info = \"%s: %s\" % (model_name, info)\n",
    "    print(info)\n",
    "    print(report)"
   ],
   "metadata": {
    "collapsed": false,
    "pycharm": {
     "name": "#%%\n"
    }
   }
  },
  {
   "cell_type": "code",
   "execution_count": 17,
   "outputs": [
    {
     "name": "stdout",
     "output_type": "stream",
     "text": [
      "data len: 14464\n",
      "id2label {0: 'Pantry;Condiments & Dressings;Mint Sauces', 1: 'Pantry;Pasta, Rice & Noodles;Rice Meals', 2: 'Beer, Cider & Wine;Beer & Cider;Fruit & Flavoured Cider', 3: 'Fresh Foods & Bakery;Deli, Salads & Cooked Meats;Bacon', 4: 'Pantry;Hot Drinks;Coffee Capsules', 5: 'Pantry;Hot Drinks;Fruit & Herbal Teas', 6: 'Personal Care;Health & Wellness;Cough, Cold & Flu', 7: 'Pantry;Canned & Prepared Foods;Canned Soup', 8: 'Pantry;Condiments & Dressings;Salad Dressings', 9: 'Kitchen, Dining & Household;Household;Party Supplies', 10: 'Meal Spot;Ready to Eat;Deli Salads', 11: 'Fresh Foods & Bakery;Butchery;PrePacked Pork', 12: 'Baby, Toddler & Kids;Baby Care;Nappies & Changing', 13: 'Kitchen, Dining & Household;Household;Homeware', 14: 'Baby, Toddler & Kids;Baby Care;Baby Formula & Toddler Food', 15: 'Fresh Foods & Bakery;Butchery;PreCooked Sausages', 16: 'Beer, Cider & Wine;Beer & Cider;Wheat & Other Grain Beer', 17: 'Pantry;Canned & Prepared Foods;Syrups & Sauces', 18: 'Pantry;World Foods;Other Countries', 19: 'Chilled, Frozen & Desserts;Frozen Foods;Frozen Pizza & Bases', 20: 'Fresh Foods & Bakery;Dairy & Eggs;Eggs', 21: 'Chilled, Frozen & Desserts;Dairy & Eggs;Butter & Spreads', 22: 'Pantry;Salad & Cooking Oils;Olive Oils', 23: 'Pantry;Snack Foods;Fruit Snacks', 24: 'Personal Care;Beauty & Grooming;Face & Lip Skin Care', 25: 'Chilled, Frozen & Desserts;Dairy & Eggs;Long Life Milk & Milk Powder', 26: 'Pets;Pet Supplies;Pet Accessories', 27: 'Kitchen, Dining & Household;Cleaning Products;Glass Cleaners', 28: 'Pantry;Pasta, Rice & Noodles;Basmati Rices', 29: 'Pantry;Sauces, Stock & Marinades;Soy Sauce', 30: 'Pantry;Salad & Cooking Oils;Nut & Seed Oils', 31: 'Fresh Foods & Bakery;Fruit & Vegetables;Vege Bags', 32: 'Fresh Foods & Bakery;Dairy & Eggs;Sour Cream & Crème Fraiche', 33: 'Fresh Foods & Bakery;Bakery;Biscuits & Slices', 34: 'Fresh Foods & Bakery;Fruit & Vegetables;Fresh Cut Fruit', 35: 'Personal Care;Health & Wellness;Digestion, Nausea & Laxatives', 36: 'Kitchen, Dining & Household;Laundry;Laundry Supplies', 37: 'Chilled, Frozen & Desserts;Frozen Foods;Frozen Pies', 38: 'Chilled, Frozen & Desserts;Dairy & Eggs;Fresh Cream', 39: 'Kitchen, Dining & Household;Cleaning Products;Cleaning Accessories', 40: 'Chilled, Frozen & Desserts;Dairy & Eggs;Flavoured Milk', 41: 'Drinks;Cold Drinks;Sports & Energy Drinks', 42: 'Pantry;Condiments & Dressings;Mustards', 43: 'Pantry;Biscuits & Crackers;Gourmet Biscuits & Crackers', 44: 'Pantry;Pasta, Rice & Noodles;Pasta Meals', 45: 'Pantry;Sauces, Stock & Marinades;Packet Sauces', 46: 'Chilled, Frozen & Desserts;Cheese;Cottage Cheese', 47: 'Pantry;Snack Foods;Meat Snacks', 48: 'Pantry;Sauces, Stock & Marinades;Stock', 49: 'Pantry;Canned & Prepared Foods;Coconut Cream & Milk', 50: 'Pantry;Snack Foods;Bread Snacks', 51: 'Pantry;Biscuits & Crackers;Chocolate Biscuits', 52: 'Kitchen, Dining & Household;Laundry;Pre Wash Stain Removers', 53: 'Pantry;Confectionery;Lollies Family Bags', 54: 'Drinks;Cold Drinks;Coconut Water', 55: 'Fresh Foods & Bakery;Bakery;Wraps & Pita Breads', 56: 'Beer, Cider & Wine;Beer & Cider;Spirits', 57: 'Chilled, Frozen & Desserts;Desserts;Ice Cream & Frozen Yoghurt', 58: 'Personal Care;Beauty & Grooming;Hair Styling & Accessories', 59: 'Kitchen, Dining & Household;Household;Disposable Tableware', 60: 'Pantry;Baking Supplies & Sugar;Sugar Substitutes', 61: 'Pets;Pet Supplies;Pet Treatments', 62: 'Drinks;Hot Drinks;Chai Teas', 63: 'Kitchen, Dining & Household;Garage & Outdoor;Hooks', 64: 'Pantry;Pasta, Rice & Noodles;Noodle Meals', 65: 'Pantry;Hot Drinks;Coffee Substitutes', 66: 'Meal Spot;Ready to Cook;Vege Bags', 67: 'Beer, Cider & Wine;Beer & Cider;American-style Ale', 68: 'Fresh Foods & Bakery;Dairy & Eggs;Flavoured Milk', 69: 'Fresh Foods & Bakery;Seafood;Fresh Seafood', 70: 'Personal Care;Health & Wellness;Sanitary Protection', 71: 'Personal Care;Health & Wellness;Wellness & Sports Nutrition', 72: 'Pantry;Jams, Honey & Spreads;Sweet Spreads', 73: 'Pantry;Snack Foods;Vege Snacks', 74: 'Baby, Toddler & Kids;Baby Care;Baby Hair Care', 75: 'Personal Care;Health & Wellness;Vitamins & Supplements', 76: 'Kitchen, Dining & Household;Household;Cooking & Bakeware', 77: 'Pantry;Salad & Cooking Oils;Vegetable Oils', 78: 'Beer, Cider & Wine;Wine;Other Red Wine', 79: 'Fresh Foods & Bakery;Bakery;Fresh Breads & Rolls', 80: 'Drinks;Cold Drinks;Milk Drink Mixes', 81: 'Fresh Foods & Bakery;Dairy & Eggs;Fresh Milk', 82: 'Kitchen, Dining & Household;Household;Tissues & Toilet Paper', 83: 'Drinks;Hot Drinks;Fresh Coffees', 84: 'Pantry;Condiments & Dressings;Aioli', 85: 'Pantry;Breakfast Cereals;Muesli', 86: 'Meal Spot;Ready to Heat;Frozen Savouries', 87: 'Pantry;Condiments & Dressings;Worcestershire Sauces', 88: 'Fresh Foods & Bakery;Deli, Salads & Cooked Meats;Chilled Pies & Pastries', 89: 'Fresh Foods & Bakery;Bakery;Sliced Bread', 90: 'Baby, Toddler & Kids;Baby Care;Baby Health', 91: 'Pantry;Salad & Cooking Oils;Other Oils', 92: 'Fresh Foods & Bakery;Deli, Salads & Cooked Meats;Deli Salads', 93: 'Chilled, Frozen & Desserts;Cheese;Cheese Slices', 94: 'Pantry;Snack Foods;Nutritional Bars', 95: 'Fresh Foods & Bakery;Butchery;Fresh Pork', 96: 'Pantry;World Foods;Chinese', 97: 'Pantry;Breakfast Cereals;Flake/Fibre Cereals', 98: 'Pantry;Baking Supplies & Sugar;Sugar', 99: 'Personal Care;Beauty & Grooming;Deodorants', 100: 'Kitchen, Dining & Household;Garage & Outdoor;Hardware & Tools', 101: 'Meal Spot;Ready to Cook;Pasta Meals', 102: 'Fresh Foods & Bakery;Bakery;Cakes & Muffins', 103: 'Pantry;Sauces, Stock & Marinades;Tartare & Seafood Sauces', 104: 'Pantry;Snack Foods;Popcorn', 105: 'Beer, Cider & Wine;Beer & Cider;Lager', 106: 'Kitchen, Dining & Household;Household;Kitchenware', 107: 'Personal Care;Health & Wellness;Stop Smoking', 108: 'Fresh Foods & Bakery;Bakery;Pies & Pastries', 109: 'Chilled, Frozen & Desserts;Frozen Foods;Frozen Savouries', 110: 'Chilled, Frozen & Desserts;Desserts;Ready To Serve Puddings', 111: 'Personal Care;Health & Wellness;Adult Care', 112: 'Drinks;Cold Drinks;Sparkling Water', 113: 'Pantry;Snack Foods;Corn Chips', 114: 'Drinks;Hot Drinks;Malt Milk Drink Mixes', 115: 'Pantry;Hot Drinks;Malt Milk Drink Mixes', 116: 'Pantry;Condiments & Dressings;Fruit Sauces', 117: 'Pantry;Baking Supplies & Sugar;Breadcrumbs & Coatings', 118: 'Chilled, Frozen & Desserts;Frozen Foods;Frozen Seafood', 119: 'Personal Care;Health & Wellness;Foot Care', 120: 'Meal Spot;Ready to Eat;Fresh Deli Savouries', 121: 'Pantry;Biscuits & Crackers;Crackers', 122: 'Pantry;Spices & Seasonings;Freshly Ground Herbs', 123: 'Kitchen, Dining & Household;Laundry;Laundry Liquid & Capsules', 124: 'Personal Care;Beauty & Grooming;Oral Health', 125: 'Kitchen, Dining & Household;Cleaning Products;Carpet & Floor Cleaners', 126: 'Fresh Foods & Bakery;Bulk & Loose Foods;Bulk Confectionery', 127: 'Kitchen, Dining & Household;Cleaning Products;Kitchen Cleaners', 128: 'Chilled, Frozen & Desserts;Desserts;Canned Desserts', 129: 'Meal Spot;Ready to Heat;Chilled Soups', 130: 'Fresh Foods & Bakery;Deli, Salads & Cooked Meats;Hummus', 131: 'Fresh Foods & Bakery;Seafood;Fresh Shellfish', 132: 'Beer, Cider & Wine;Wine;Cabernet', 133: 'Meal Spot;Ready to Heat;Canned Soup', 134: 'Fresh Foods & Bakery;Deli, Salads & Cooked Meats;Gourmet Oils & Condiments', 135: 'Chilled, Frozen & Desserts;Frozen Foods;Frozen Ready Meals', 136: 'Fresh Foods & Bakery;Bulk & Loose Foods;Bulk Seeds, Legumes & Grains', 137: 'Fresh Foods & Bakery;Deli, Salads & Cooked Meats;Continental Sausage & Salami', 138: 'Pantry;Confectionery;Christmas', 139: 'Pantry;Canned & Prepared Foods;Packet Soup', 140: 'Pantry;Canned & Prepared Foods;Canned Fruit', 141: 'Pantry;Baking Supplies & Sugar;Cooking Chocolate', 142: 'Pantry;Snack Foods;Nut Bars & Snacks', 143: 'Pantry;Confectionery;Liquorice', 144: 'Chilled, Frozen & Desserts;Cheese;Deli Cheeseboards', 145: 'Chilled, Frozen & Desserts;Desserts;Frozen Dessert Pastries', 146: 'Pantry;Jams, Honey & Spreads;Honey', 147: 'Chilled, Frozen & Desserts;Cheese;Cheese Blocks', 148: 'Pantry;Pasta, Rice & Noodles;Wild & Coloured Rices', 149: 'Pantry;World Foods;Japanese', 150: 'Personal Care;Beauty & Grooming;Suncare & Self Tan', 151: 'Pantry;Salad & Cooking Oils;Oil Sprays', 152: 'Drinks;Cold Drinks;Fruit Drinks & Juices', 153: 'Pantry;Confectionery;Chocolate Blocks', 154: 'Pantry;World Foods;UK', 155: 'Drinks;Cold Drinks;Iced Teas', 156: 'Kitchen, Dining & Household;Stationery & Entertainment;Magazines', 157: 'Pantry;Confectionery;Novelty Bars & Singles', 158: 'Chilled, Frozen & Desserts;Desserts;Frozen Bavarians & Cheesecake', 159: 'Fresh Foods & Bakery;Fruit & Vegetables;Fresh Salads', 160: 'Pantry;Hot Drinks;Chocolate Milk Drink Mixes', 161: 'Beer, Cider & Wine;Beer & Cider;IPA', 162: 'Pantry;Spices & Seasonings;Dried Herbs', 163: 'Chilled, Frozen & Desserts;Dairy & Eggs;Sour Cream & Crème Fraiche', 164: 'Pantry;Biscuits & Crackers;Biscuits & Cookies', 165: 'Pantry;Salad & Cooking Oils;Rice Bran Oils', 166: 'Fresh Foods & Bakery;Bakery;Fresh Cakes & Muffins', 167: 'Pantry;Pasta, Rice & Noodles;Dried Pastas', 168: 'Pets;Pet Supplies;Dog Accessories', 169: 'Drinks;Cold Drinks;Non Dairy Milks', 170: 'Pantry;Condiments & Dressings;Chutneys', 171: 'Kitchen, Dining & Household;Cleaning Products;All Purpose Cleaners', 172: 'Kitchen, Dining & Household;Garage & Outdoor;BBQ', 173: 'Fresh Foods & Bakery;Dairy & Eggs;Fresh Organic Milk', 174: 'Chilled, Frozen & Desserts;Desserts;Frozen Puddings', 175: 'Pantry;Jams, Honey & Spreads;Jam & Marmalade', 176: 'Kitchen, Dining & Household;Cleaning Products;Bathroom & Shower Cleaners', 177: 'Pantry;World Foods;Mexican', 178: 'Fresh Foods & Bakery;Seafood;Fresh Smoked Fish', 179: 'Fresh Foods & Bakery;Fruit & Vegetables;Fresh Fruit', 180: 'Fresh Foods & Bakery;Deli, Salads & Cooked Meats;Olives & Antipasti Mixes', 181: 'Drinks;Hot Drinks;Coffee Substitutes', 182: 'Pantry;Spices & Seasonings;Dried Spices', 183: 'Kitchen, Dining & Household;Household;Shoe Care', 184: 'Pantry;World Foods;South African', 185: 'Drinks;Cold Drinks;Vegetable Juices', 186: 'Kitchen, Dining & Household;Stationery & Entertainment;Stationery & Craft', 187: 'Pantry;Breakfast Cereals;Cold Cereals', 188: 'Pantry;Condiments & Dressings;Chilli & Pepper Sauces', 189: 'Beer, Cider & Wine;Beer & Cider;Pale Ale', 190: 'Pantry;Pasta, Rice & Noodles;Instant Rices', 191: 'Pantry;Pasta, Rice & Noodles;Noodles', 192: 'Pantry;Pasta, Rice & Noodles;Long Grain Rices', 193: 'Kitchen, Dining & Household;Garage & Outdoor;Car Care', 194: 'Kitchen, Dining & Household;Stationery & Entertainment;Newspapers', 195: 'Kitchen, Dining & Household;Laundry;Clothes Pegs', 196: 'Pantry;Spices & Seasonings;Salt & Pepper', 197: 'Pantry;Biscuits & Crackers;Rice Crackers', 198: 'Chilled, Frozen & Desserts;Frozen Foods;Frozen Chicken & Poultry', 199: 'Pantry;Condiments & Dressings;Pickles', 200: 'Pantry;Canned & Prepared Foods;Soup Mixes', 201: 'Pantry;Canned & Prepared Foods;Canned Meat', 202: 'Beer, Cider & Wine;Wine;Shiraz', 203: 'Kitchen, Dining & Household;Laundry;Fabric Softeners', 204: 'Pantry;Sauces, Stock & Marinades;Tomato Sauces', 205: 'Fresh Foods & Bakery;Seafood;Fresh Whole Fish', 206: 'Pantry;Hot Drinks;Fresh Coffees', 207: 'Beer, Cider & Wine;Beer & Cider;Specialty & Flavoured Beer', 208: 'Baby, Toddler & Kids;Baby Care;Baby Wipes', 209: 'Pantry;Hot Drinks;Coffee Additives & Filters', 210: 'Pantry;Baking Supplies & Sugar;Baking Mixes', 211: 'Beer, Cider & Wine;Wine;Champagne & Sparkling Wine', 212: 'Fresh Foods & Bakery;Bakery;Garlic & Herb Breads', 213: 'Chilled, Frozen & Desserts;Dairy & Eggs;Yoghurt & Dairy Food', 214: 'Pets;Pet Supplies;Bird Supplies', 215: 'Pantry;Sauces, Stock & Marinades;Simmer & Stir-Through Sauces', 216: 'Fresh Foods & Bakery;Butchery;Fresh Sausages', 217: 'Personal Care;Health & Wellness;Insect Repellent', 218: 'Beer, Cider & Wine;Wine;Sauvignon Blanc', 219: 'Kitchen, Dining & Household;Stationery & Entertainment;Toys & Recreation', 220: 'Pantry;Sauces, Stock & Marinades;Gravies', 221: 'Pets;Pet Supplies;Fish & Aquatic Pet Supplies', 222: 'Chilled, Frozen & Desserts;Dairy & Eggs;Eggs', 223: 'Chilled, Frozen & Desserts;Frozen Foods;Frozen Pastry', 224: 'Fresh Foods & Bakery;Deli, Salads & Cooked Meats;Dips, Pesto & Pate', 225: 'Pantry;Hot Drinks;Black Teas', 226: 'Personal Care;Beauty & Grooming;Hair Colouring', 227: 'Pantry;Biscuits & Crackers;Rice Cakes', 228: 'Pantry;World Foods;Thai', 229: 'Pantry;Snack Foods;Potato Chips', 230: 'Pantry;Canned & Prepared Foods;Pizza & Pizza Bases', 231: 'Kitchen, Dining & Household;Household;Food Storage', 232: 'Meal Spot;Ready to Heat;Frozen Ready Meals', 233: 'Chilled, Frozen & Desserts;Dairy & Eggs;Yoghurt Bases', 234: 'Beer, Cider & Wine;Beer & Cider;Stout, Porter & Black Beer', 235: 'Pantry;Biscuits & Crackers;Assorted Biscuits & Crackers', 236: 'Pantry;Salad & Cooking Oils;Cooking Fat', 237: 'Baby, Toddler & Kids;Baby Care;Baby Dental Care', 238: 'Fresh Foods & Bakery;Bakery;Fresh Desserts & Pastries', 239: 'Beer, Cider & Wine;Wine;Pinot Noir', 240: 'Chilled, Frozen & Desserts;Cheese;Grated Cheese', 241: 'Pantry;Hot Drinks;Chai Teas', 242: 'Chilled, Frozen & Desserts;Cheese;Specialty Cheeses', 243: 'Chilled, Frozen & Desserts;Cheese;Deli Specialty Cheeses', 244: 'Chilled, Frozen & Desserts;Frozen Foods;Frozen Fries & Potatoes', 245: 'Pantry;World Foods;USA', 246: 'Pantry;Baking Supplies & Sugar;Icing & Decorating', 247: 'Fresh Foods & Bakery;Butchery;Fresh Beef & Lamb', 248: 'Pantry;Salad & Cooking Oils;Coconut Oils', 249: 'Pantry;World Foods;Korean', 250: 'Chilled, Frozen & Desserts;Frozen Foods;Frozen Vegetables', 251: 'Chilled, Frozen & Desserts;Cheese;Deli Cabinet Cheeses', 252: 'Drinks;Cold Drinks;Soft Drinks', 253: 'Pantry;Hot Drinks;Coffee Flavoured Sachets', 254: 'Pantry;Biscuits & Crackers;Crème & Jam Biscuits', 255: 'Beer, Cider & Wine;Wine;Cask Wine', 256: 'Chilled, Frozen & Desserts;Dairy & Eggs;Dairy & Lactose Free', 257: 'Pantry;Pasta, Rice & Noodles;Specialty Grains & Seeds', 258: 'Chilled, Frozen & Desserts;Cheese;Cream Cheese', 259: 'Pantry;Snack Foods;Snack Mixes', 260: 'Personal Care;Health & Wellness;Allergy & Sinus', 261: 'Beer, Cider & Wine;Wine;Merlot', 262: 'Pantry;World Foods;Indian', 263: 'Pantry;Jams, Honey & Spreads;Savoury Spreads', 264: 'Fresh Foods & Bakery;Dairy & Eggs;Long Life Milk & Milk Powder', 265: 'Meal Spot;Ready to Eat;Fresh Salads', 266: 'Kitchen, Dining & Household;Household;Batteries & Light Bulbs', 267: 'Fresh Foods & Bakery;Deli, Salads & Cooked Meats;PreCooked Chicken & Poultry', 268: 'Beer, Cider & Wine;Beer & Cider;Apple & Pear Cider', 269: 'Personal Care;Beauty & Grooming;Shaving & Hair Removal', 270: 'Personal Care;Health & Wellness;Pain Relief', 271: 'Fresh Foods & Bakery;Bulk & Loose Foods;Bulk Dried Fruit', 272: 'Pantry;Sauces, Stock & Marinades;Specialty Sauces', 273: 'Pantry;Hot Drinks;Instant Coffees', 274: 'Personal Care;Beauty & Grooming;Makeup & Cosmetics', 275: 'Drinks;Hot Drinks;Green Teas', 276: 'Pantry;Hot Drinks;Green Teas', 277: 'Meal Spot;Ready to Heat;Frozen Pizza & Bases', 278: 'Fresh Foods & Bakery;Dairy & Eggs;Fresh Cream', 279: 'Drinks;Cold Drinks;Sparkling Juices', 280: 'Fresh Foods & Bakery;Fruit & Vegetables;Salad Bags', 281: 'Beer, Cider & Wine;Beer & Cider;Pilsner', 282: 'Pantry;Snack Foods;Chips', 283: 'Chilled, Frozen & Desserts;Dairy & Eggs;Fresh Milk', 284: 'Fresh Foods & Bakery;Fruit & Vegetables;Fresh Vegetables', 285: 'Kitchen, Dining & Household;Garage & Outdoor;Gardening Supplies', 286: 'Pantry;Sauces, Stock & Marinades;Curry Pastes & Sauces', 287: 'Meal Spot;Ready to Cook;Mexican', 288: 'Kitchen, Dining & Household;Laundry;Clothing Dyes', 289: 'Drinks;Hot Drinks;Coffee Capsules', 290: 'Pantry;Biscuits & Crackers;Plain Sweet Biscuits', 291: 'Pets;Pet Supplies;Dog Food', 292: 'Fresh Foods & Bakery;Bulk & Loose Foods;Bulk Nuts', 293: 'Personal Care;Beauty & Grooming;Apparel & Hosiery', 294: 'Pantry;Snack Foods;Muesli Bars', 295: 'Chilled, Frozen & Desserts;Desserts;Ice Blocks & Ice Pops', 296: 'Kitchen, Dining & Household;Household;Fire Needs', 297: 'Drinks;Cold Drinks;Squash, Syrups & Cordials', 298: 'Pantry;Canned & Prepared Foods;Canned Fish', 299: 'Drinks;Hot Drinks;Chocolate Milk Drink Mixes', 300: 'Meal Spot;Ready to Heat;Chilled Pies & Pastries', 301: 'Pantry;Condiments & Dressings;Relish', 302: 'Fresh Foods & Bakery;Dairy & Eggs;Butter & Spreads', 303: 'Chilled, Frozen & Desserts;Frozen Foods;Frozen Fish', 304: 'Meal Spot;Ready to Heat;Ready Meals', 305: 'Personal Care;Beauty & Grooming;Hair Care & Treatments', 306: 'Kitchen, Dining & Household;Household;Rubbish & Vacuum Bags', 307: 'Pets;Pet Supplies;Dog Treats', 308: 'Pantry;Canned & Prepared Foods;Vegetarian', 309: 'Kitchen, Dining & Household;Cleaning Products;Dishwashing Liquid', 310: 'Personal Care;Health & Wellness;Contact Lens & Eye Care', 311: 'Pantry;Sauces, Stock & Marinades;Pasta Sauces', 312: 'Kitchen, Dining & Household;Laundry;Laundry Powders', 313: 'Kitchen, Dining & Household;Cleaning Products;Paper Towels', 314: 'Fresh Foods & Bakery;Butchery;Fresh Chicken & Poultry', 315: 'Kitchen, Dining & Household;Cleaning Products;Furniture & Metal Polishes', 316: 'Pets;Pet Supplies;Cat Food', 317: 'Pantry;Baking Supplies & Sugar;Dried Fruit', 318: 'Kitchen, Dining & Household;Cleaning Products;Bleaches', 319: 'Meal Spot;Ready to Eat;Seafood Salad', 320: 'Kitchen, Dining & Household;Household;Pest & Insect Control', 321: 'Beer, Cider & Wine;Wine;Other White Wine', 322: 'Personal Care;Health & Wellness;First Aid', 323: 'Pantry;Pasta, Rice & Noodles;Fresh Pastas', 324: 'Pantry;Baking Supplies & Sugar;Baking Additives', 325: 'Pets;Pet Supplies;Cat Accessories', 326: 'Pantry;Canned & Prepared Foods;Baked Beans & Spaghetti', 327: 'Pantry;Canned & Prepared Foods;Ready Meals', 328: 'Beer, Cider & Wine;Beer & Cider;Lighter Alcohol Beers', 329: 'Fresh Foods & Bakery;Deli, Salads & Cooked Meats;PreCooked Beef & Lamb', 330: 'Fresh Foods & Bakery;Dairy & Eggs;Yoghurt Bases', 331: 'Pantry;Snack Foods;Cereal & Snack Bars', 332: 'Drinks;Hot Drinks;Black Teas', 333: 'Kitchen, Dining & Household;Laundry;Laundry Soap', 334: 'Fresh Foods & Bakery;Deli, Salads & Cooked Meats;Specialty Dry Goods', 335: 'Fresh Foods & Bakery;Dairy & Eggs;Dairy & Lactose Free', 336: 'Drinks;Hot Drinks;Coffee Additives & Filters', 337: 'Chilled, Frozen & Desserts;Desserts;Meringues & Pavlovas', 338: 'Personal Care;Beauty & Grooming;Hand & Body Care', 339: 'Kitchen, Dining & Household;Household;Manchester', 340: 'Drinks;Cold Drinks;Still Water', 341: 'Pantry;Sauces, Stock & Marinades;Marinades', 342: 'Fresh Foods & Bakery;Bakery;Organic & Gluten Free', 343: 'Pantry;Sauces, Stock & Marinades;Stir Fry Sauces', 344: 'Pantry;Snack Foods;Dips & Salsas', 345: 'Pantry;Baking Supplies & Sugar;Essences & Colourings', 346: 'Fresh Foods & Bakery;Bulk & Loose Foods;Bulk Breakfast Cereals', 347: 'Kitchen, Dining & Household;Household;Food Wraps & Bags', 348: 'Pantry;Sauces, Stock & Marinades;Tomato Pastes & Purees', 349: 'Fresh Foods & Bakery;Fruit & Vegetables;Fresh Herbs', 350: 'Fresh Foods & Bakery;Deli, Salads & Cooked Meats;Ham & Pork', 351: 'Pantry;Condiments & Dressings;Barbeque Sauces', 352: 'Pantry;Confectionery;Boxed Chocolates', 353: 'Fresh Foods & Bakery;Butchery;Fresh Venison & Game Meat', 354: 'Fresh Foods & Bakery;Bakery;Fresh Biscuits & Slices', 355: 'Pantry;Confectionery;Chocolate Family Bags', 356: 'Baby, Toddler & Kids;Baby Care;Baby Bathing & Skin Care', 357: 'Beer, Cider & Wine;Beer & Cider;European-style Ale', 358: 'Fresh Foods & Bakery;Bulk & Loose Foods;Bulk Snacks & Mixes', 359: 'Drinks;Cold Drinks;Powdered Drinks', 360: 'Fresh Foods & Bakery;Deli, Salads & Cooked Meats;Fresh Deli Savouries', 361: 'Pantry;Condiments & Dressings;Mayonnaise', 362: 'Drinks;Hot Drinks;Coffee Flavoured Sachets', 363: 'Fresh Foods & Bakery;Butchery;PrePacked Chicken & Poultry', 364: 'Chilled, Frozen & Desserts;Frozen Foods;Frozen Bread & Dough', 365: 'Chilled, Frozen & Desserts;Desserts;Chilled Custards', 366: 'Pantry;Canned & Prepared Foods;Chilled Soups', 367: 'Pets;Pet Supplies;Cat Treats', 368: 'Pantry;Baking Supplies & Sugar;Baking Syrups', 369: 'Meal Spot;Ready to Cook;Simply DINNER', 370: 'Baby, Toddler & Kids;Baby Care;Nursing & Feeding', 371: 'Kitchen, Dining & Household;Laundry;Fine Fabric Washers', 372: 'Pets;Pet Supplies;Small Animal Supplies', 373: 'Beer, Cider & Wine;Beer & Cider;Brewing Supplies', 374: 'Fresh Foods & Bakery;Seafood;Fresh Fish Heads', 375: 'Fresh Foods & Bakery;Deli, Salads & Cooked Meats;Deli Meats', 376: 'Chilled, Frozen & Desserts;Frozen Foods;Frozen Fruit', 377: 'Drinks;Hot Drinks;Instant Coffees', 378: 'Fresh Foods & Bakery;Bakery;Muffin Splits & Crumpets', 379: 'Fresh Foods & Bakery;Bakery;Specialty Breads', 380: 'Drinks;Cold Drinks;Drinking Yoghurt & Smoothies', 381: 'Chilled, Frozen & Desserts;Desserts;Ice Cream Cones & Wafers', 382: 'Pantry;Canned & Prepared Foods;Canned & Dried Vegetables', 383: 'Pantry;Confectionery;Chewing Gum & Mints', 384: 'Fresh Foods & Bakery;Seafood;Frozen Fish & Seafood', 385: 'Beer, Cider & Wine;Wine;Chardonnay', 386: 'Fresh Foods & Bakery;Seafood;Fresh Fish Fillets & Steaks', 387: 'Personal Care;Health & Wellness;Family Planning', 388: 'Pantry;Baking Supplies & Sugar;Baking Nuts & Seeds', 389: 'Pantry;Sauces, Stock & Marinades;Chilled Pasta Sauces', 390: 'Fresh Foods & Bakery;Dairy & Eggs;Yoghurt & Dairy Food', 391: 'Chilled, Frozen & Desserts;Frozen Foods;Frozen Beef, Lamb & Pork', 392: 'Chilled, Frozen & Desserts;Dairy & Eggs;Fresh Organic Milk', 393: 'Fresh Foods & Bakery;Meal Kits;Simply DINNER', 394: 'Drinks;Hot Drinks;Fruit & Herbal Teas', 395: 'Beer, Cider & Wine;Beer & Cider;British-style Ale', 396: 'Meal Spot;Ready to Heat;Pizza & Pizza Bases', 397: 'Kitchen, Dining & Household;Household;Electrical', 398: 'Pantry;Salad & Cooking Oils;Avocado Oils', 399: 'Pantry;Baking Supplies & Sugar;Flour', 400: 'Beer, Cider & Wine;Wine;Rose', 401: 'Pantry;Condiments & Dressings;Olives', 402: 'Kitchen, Dining & Household;Laundry;Washing Machine Cleaners', 403: 'Kitchen, Dining & Household;Cleaning Products;Dishwasher Detergents', 404: 'Pantry;World Foods;South East Asian', 405: 'Pantry;Spices & Seasonings;Garlic & Ginger', 406: 'Kitchen, Dining & Household;Household;Air Fresheners & Deodorisers', 407: 'Pantry;Jams, Honey & Spreads;Marmite & Vegemite', 408: 'Pantry;Breakfast Cereals;Hot Cereals', 409: 'Pantry;Canned & Prepared Foods;Canned Milk & Cream', 410: 'Drinks;Cold Drinks;Chilled Fruit Juices', 411: 'Fresh Foods & Bakery;Bakery;Bread Rolls & Buns', 412: 'Pantry;Condiments & Dressings;Vinegars', 413: 'Fresh Foods & Bakery;Butchery;PrePacked Sausages', 414: 'Chilled, Frozen & Desserts;Desserts;Jelly & Powdered Desserts', 415: 'Fresh Foods & Bakery;Seafood;Seafood Salad', 416: 'Pantry;Pasta, Rice & Noodles;Short & Medium Grain Rices', 417: 'Beer, Cider & Wine;Wine;Pinot Gris', 418: 'Meal Spot;Ready to Cook;Noodle Meals', 419: 'Pantry;Breakfast Cereals;Breakfast On The Go', 420: 'Meal Spot;Ready to Heat;Packet Soup', 421: 'Chilled, Frozen & Desserts;Frozen Foods;Frozen Vegetarian', 422: 'Pantry;Spices & Seasonings;Chilli & Paprika', 423: 'Pantry;Jams, Honey & Spreads;Nut Spreads', 424: 'Pantry;Pasta, Rice & Noodles;Jasmine Rices', 425: 'Fresh Foods & Bakery;Butchery;PrePacked Beef & Lamb', 426: 'Fresh Foods & Bakery;Fruit & Vegetables;PrePacked Fresh Vegetables', 427: 'Kitchen, Dining & Household;Cleaning Products;Dishwasher Rinse & Clean', 428: 'Drinks;Cold Drinks;Flavoured Water'}\n"
     ]
    }
   ],
   "source": [
    "label2id = {l: i for i, l in enumerate(set(labels))}\n",
    "id2label = {i: l for l, i in label2id.items()}\n",
    "labels = [label2id[l] for l in labels]\n",
    "texts = df[\"ProductName\"].tolist()\n",
    "price = df[\"PricePerItem\"].tolist()\n",
    "promotion = df[\"PromoBadgeImageLabel\"].tolist()\n",
    "multi = df[\"MultiBuyDeal\"].tolist()\n",
    "combind = [\" \".join([texts[index], str(price[index]), promotion[index], multi[index]]) for index in range(14464)]\n",
    "vectorizer = TfidfVectorizer()\n",
    "features = vectorizer.fit_transform(combind)\n",
    "reduced = vectorizer.fit_transform(texts)\n",
    "print(\"data len:\", len(texts))\n",
    "print(\"id2label\", id2label)"
   ],
   "metadata": {
    "collapsed": false,
    "pycharm": {
     "name": "#%%\n"
    }
   }
  },
  {
   "cell_type": "code",
   "execution_count": 18,
   "outputs": [],
   "source": [
    "x_train, x_test, y_train, y_test = train_test_split(features, labels, test_size=0.25, random_state=3)"
   ],
   "metadata": {
    "collapsed": false,
    "pycharm": {
     "name": "#%%\n"
    }
   }
  },
  {
   "cell_type": "code",
   "execution_count": 19,
   "outputs": [
    {
     "name": "stdout",
     "output_type": "stream",
     "text": [
      "logistic: acc:0.6208517699115044, recall:0.4064241727389475, f1 score:0.4037162731945845\n",
      "                                                                               precision    recall  f1-score   support\n",
      "\n",
      "                                    Pantry;Condiments & Dressings;Mint Sauces       1.00      0.25      0.40         4\n",
      "                                      Pantry;Pasta, Rice & Noodles;Rice Meals       0.92      0.92      0.92        12\n",
      "                      Beer, Cider & Wine;Beer & Cider;Fruit & Flavoured Cider       0.00      0.00      0.00         2\n",
      "                       Fresh Foods & Bakery;Deli, Salads & Cooked Meats;Bacon       0.62      1.00      0.76        45\n",
      "                                            Pantry;Hot Drinks;Coffee Capsules       0.00      0.00      0.00        11\n",
      "                                        Pantry;Hot Drinks;Fruit & Herbal Teas       0.89      1.00      0.94        40\n",
      "                            Personal Care;Health & Wellness;Cough, Cold & Flu       0.92      0.92      0.92        12\n",
      "                                   Pantry;Canned & Prepared Foods;Canned Soup       0.00      0.00      0.00         5\n",
      "                                Pantry;Condiments & Dressings;Salad Dressings       1.00      0.62      0.76        13\n",
      "                         Kitchen, Dining & Household;Household;Party Supplies       0.88      1.00      0.94        15\n",
      "                                           Meal Spot;Ready to Eat;Deli Salads       0.67      0.95      0.78        19\n",
      "                                 Fresh Foods & Bakery;Butchery;PrePacked Pork       0.55      0.90      0.68        40\n",
      "                            Baby, Toddler & Kids;Baby Care;Nappies & Changing       0.72      0.67      0.69        27\n",
      "                               Kitchen, Dining & Household;Household;Homeware       1.00      0.38      0.55        16\n",
      "                   Baby, Toddler & Kids;Baby Care;Baby Formula & Toddler Food       0.00      0.00      0.00         4\n",
      "                             Fresh Foods & Bakery;Butchery;PreCooked Sausages       0.75      0.83      0.79        18\n",
      "                     Beer, Cider & Wine;Beer & Cider;Wheat & Other Grain Beer       1.00      0.80      0.89        15\n",
      "                               Pantry;Canned & Prepared Foods;Syrups & Sauces       0.88      0.98      0.93        53\n",
      "                                           Pantry;World Foods;Other Countries       1.00      0.62      0.76        13\n",
      "                 Chilled, Frozen & Desserts;Frozen Foods;Frozen Pizza & Bases       0.91      0.83      0.87        12\n",
      "                                       Fresh Foods & Bakery;Dairy & Eggs;Eggs       0.25      0.20      0.22        10\n",
      "                     Chilled, Frozen & Desserts;Dairy & Eggs;Butter & Spreads       0.00      0.00      0.00         6\n",
      "                                       Pantry;Salad & Cooking Oils;Olive Oils       0.61      1.00      0.76        11\n",
      "                                              Pantry;Snack Foods;Fruit Snacks       0.00      0.00      0.00         4\n",
      "                         Personal Care;Beauty & Grooming;Face & Lip Skin Care       1.00      0.52      0.69        23\n",
      "         Chilled, Frozen & Desserts;Dairy & Eggs;Long Life Milk & Milk Powder       0.00      0.00      0.00         4\n",
      "                                            Pets;Pet Supplies;Pet Accessories       0.25      0.20      0.22        10\n",
      "                 Kitchen, Dining & Household;Cleaning Products;Glass Cleaners       0.88      0.98      0.93        53\n",
      "                                   Pantry;Pasta, Rice & Noodles;Basmati Rices       0.90      1.00      0.95         9\n",
      "                                   Pantry;Sauces, Stock & Marinades;Soy Sauce       1.00      0.33      0.50         3\n",
      "                                  Pantry;Salad & Cooking Oils;Nut & Seed Oils       0.00      0.00      0.00         1\n",
      "                            Fresh Foods & Bakery;Fruit & Vegetables;Vege Bags       1.00      0.38      0.55        16\n",
      "                 Fresh Foods & Bakery;Dairy & Eggs;Sour Cream & Crème Fraiche       0.48      0.91      0.62        33\n",
      "                                Fresh Foods & Bakery;Bakery;Biscuits & Slices       0.33      0.40      0.36        10\n",
      "                      Fresh Foods & Bakery;Fruit & Vegetables;Fresh Cut Fruit       0.14      0.09      0.11        11\n",
      "                Personal Care;Health & Wellness;Digestion, Nausea & Laxatives       0.74      0.82      0.78        17\n",
      "                         Kitchen, Dining & Household;Laundry;Laundry Supplies       0.33      0.25      0.29         4\n",
      "                          Chilled, Frozen & Desserts;Frozen Foods;Frozen Pies       0.82      0.88      0.85        16\n",
      "                          Chilled, Frozen & Desserts;Dairy & Eggs;Fresh Cream       1.00      0.52      0.69        23\n",
      "           Kitchen, Dining & Household;Cleaning Products;Cleaning Accessories       0.88      1.00      0.93         7\n",
      "                       Chilled, Frozen & Desserts;Dairy & Eggs;Flavoured Milk       1.00      0.80      0.89        15\n",
      "                                    Drinks;Cold Drinks;Sports & Energy Drinks       0.00      0.00      0.00         1\n",
      "                                       Pantry;Condiments & Dressings;Mustards       0.50      0.82      0.62        17\n",
      "                       Pantry;Biscuits & Crackers;Gourmet Biscuits & Crackers       0.00      0.00      0.00         5\n",
      "                                     Pantry;Pasta, Rice & Noodles;Pasta Meals       0.93      0.98      0.95        43\n",
      "                               Pantry;Sauces, Stock & Marinades;Packet Sauces       0.20      0.15      0.17        20\n",
      "                             Chilled, Frozen & Desserts;Cheese;Cottage Cheese       1.00      0.82      0.90        11\n",
      "                                               Pantry;Snack Foods;Meat Snacks       1.00      0.67      0.80         6\n",
      "                                       Pantry;Sauces, Stock & Marinades;Stock       0.49      0.78      0.60        23\n",
      "                          Pantry;Canned & Prepared Foods;Coconut Cream & Milk       0.20      0.12      0.15         8\n",
      "                                              Pantry;Snack Foods;Bread Snacks       0.68      0.90      0.78        21\n",
      "                                Pantry;Biscuits & Crackers;Chocolate Biscuits       0.26      0.36      0.30        14\n",
      "                  Kitchen, Dining & Household;Laundry;Pre Wash Stain Removers       0.75      0.96      0.84        49\n",
      "                                     Pantry;Confectionery;Lollies Family Bags       0.00      0.00      0.00         5\n",
      "                                             Drinks;Cold Drinks;Coconut Water       0.88      1.00      0.94        15\n",
      "                              Fresh Foods & Bakery;Bakery;Wraps & Pita Breads       1.00      0.95      0.97        20\n",
      "                                      Beer, Cider & Wine;Beer & Cider;Spirits       0.48      0.61      0.54        23\n",
      "               Chilled, Frozen & Desserts;Desserts;Ice Cream & Frozen Yoghurt       0.00      0.00      0.00         3\n",
      "                   Personal Care;Beauty & Grooming;Hair Styling & Accessories       1.00      0.62      0.76        13\n",
      "                   Kitchen, Dining & Household;Household;Disposable Tableware       0.56      1.00      0.72        41\n",
      "                             Pantry;Baking Supplies & Sugar;Sugar Substitutes       0.89      1.00      0.94        34\n",
      "                                             Pets;Pet Supplies;Pet Treatments       0.48      0.91      0.62        33\n",
      "                                                  Drinks;Hot Drinks;Chai Teas       0.80      1.00      0.89        12\n",
      "                           Kitchen, Dining & Household;Garage & Outdoor;Hooks       1.00      0.08      0.15        12\n",
      "                                    Pantry;Pasta, Rice & Noodles;Noodle Meals       0.88      0.98      0.93        53\n",
      "                                         Pantry;Hot Drinks;Coffee Substitutes       0.00      0.00      0.00         1\n",
      "                                            Meal Spot;Ready to Cook;Vege Bags       0.40      0.67      0.50         6\n",
      "                           Beer, Cider & Wine;Beer & Cider;American-style Ale       0.21      0.38      0.27        16\n",
      "                             Fresh Foods & Bakery;Dairy & Eggs;Flavoured Milk       1.00      0.88      0.93         8\n",
      "                                   Fresh Foods & Bakery;Seafood;Fresh Seafood       1.00      0.44      0.62         9\n",
      "                          Personal Care;Health & Wellness;Sanitary Protection       0.75      0.96      0.84        49\n",
      "                  Personal Care;Health & Wellness;Wellness & Sports Nutrition       0.48      0.91      0.62        33\n",
      "                                   Pantry;Jams, Honey & Spreads;Sweet Spreads       0.00      0.00      0.00         9\n",
      "                                               Pantry;Snack Foods;Vege Snacks       1.00      0.50      0.67         8\n",
      "                                Baby, Toddler & Kids;Baby Care;Baby Hair Care       0.00      0.00      0.00         4\n",
      "                       Personal Care;Health & Wellness;Vitamins & Supplements       0.00      0.00      0.00         2\n",
      "                     Kitchen, Dining & Household;Household;Cooking & Bakeware       0.69      1.00      0.82        18\n",
      "                                   Pantry;Salad & Cooking Oils;Vegetable Oils       1.00      0.62      0.76        13\n",
      "                                       Beer, Cider & Wine;Wine;Other Red Wine       0.79      0.96      0.87        28\n",
      "                             Fresh Foods & Bakery;Bakery;Fresh Breads & Rolls       0.86      0.86      0.86         7\n",
      "                                          Drinks;Cold Drinks;Milk Drink Mixes       0.48      0.61      0.54        23\n",
      "                                 Fresh Foods & Bakery;Dairy & Eggs;Fresh Milk       0.68      0.90      0.78        21\n",
      "                 Kitchen, Dining & Household;Household;Tissues & Toilet Paper       1.00      0.20      0.33         5\n",
      "                                              Drinks;Hot Drinks;Fresh Coffees       0.62      0.73      0.67        11\n",
      "                                          Pantry;Condiments & Dressings;Aioli       0.65      1.00      0.79        11\n",
      "                                              Pantry;Breakfast Cereals;Muesli       0.69      1.00      0.82        18\n",
      "                                     Meal Spot;Ready to Heat;Frozen Savouries       1.00      1.00      1.00        13\n",
      "                          Pantry;Condiments & Dressings;Worcestershire Sauces       1.00      0.43      0.60         7\n",
      "     Fresh Foods & Bakery;Deli, Salads & Cooked Meats;Chilled Pies & Pastries       0.00      0.00      0.00         4\n",
      "                                     Fresh Foods & Bakery;Bakery;Sliced Bread       1.00      0.62      0.76        13\n",
      "                                   Baby, Toddler & Kids;Baby Care;Baby Health       0.50      0.82      0.62        17\n",
      "                                       Pantry;Salad & Cooking Oils;Other Oils       0.00      0.00      0.00         2\n",
      "                 Fresh Foods & Bakery;Deli, Salads & Cooked Meats;Deli Salads       1.00      0.36      0.53        11\n",
      "                              Chilled, Frozen & Desserts;Cheese;Cheese Slices       0.00      0.00      0.00        12\n",
      "                                          Pantry;Snack Foods;Nutritional Bars       0.55      0.60      0.57        10\n",
      "                                     Fresh Foods & Bakery;Butchery;Fresh Pork       0.88      1.00      0.94        15\n",
      "                                                   Pantry;World Foods;Chinese       0.00      0.00      0.00         3\n",
      "                                 Pantry;Breakfast Cereals;Flake/Fibre Cereals       1.00      1.00      1.00         3\n",
      "                                         Pantry;Baking Supplies & Sugar;Sugar       0.89      0.73      0.80        11\n",
      "                                   Personal Care;Beauty & Grooming;Deodorants       0.80      1.00      0.89        12\n",
      "                Kitchen, Dining & Household;Garage & Outdoor;Hardware & Tools       0.48      0.91      0.62        33\n",
      "                                          Meal Spot;Ready to Cook;Pasta Meals       0.65      0.96      0.77        48\n",
      "                                  Fresh Foods & Bakery;Bakery;Cakes & Muffins       1.00      0.52      0.69        23\n",
      "                    Pantry;Sauces, Stock & Marinades;Tartare & Seafood Sauces       0.20      0.12      0.15         8\n",
      "                                                   Pantry;Snack Foods;Popcorn       0.89      1.00      0.94        34\n",
      "                                        Beer, Cider & Wine;Beer & Cider;Lager       1.00      0.88      0.93         8\n",
      "                            Kitchen, Dining & Household;Household;Kitchenware       0.72      0.67      0.69        27\n",
      "                                 Personal Care;Health & Wellness;Stop Smoking       0.57      1.00      0.73        12\n",
      "                                  Fresh Foods & Bakery;Bakery;Pies & Pastries       0.96      0.93      0.94        27\n",
      "                     Chilled, Frozen & Desserts;Frozen Foods;Frozen Savouries       0.00      0.00      0.00         4\n",
      "                  Chilled, Frozen & Desserts;Desserts;Ready To Serve Puddings       0.93      0.98      0.95        43\n",
      "                                   Personal Care;Health & Wellness;Adult Care       0.50      0.82      0.62        17\n",
      "                                           Drinks;Cold Drinks;Sparkling Water       0.48      0.61      0.54        23\n",
      "                                                Pantry;Snack Foods;Corn Chips       1.00      0.95      0.97        20\n",
      "                                      Drinks;Hot Drinks;Malt Milk Drink Mixes       0.90      1.00      0.95         9\n",
      "                                      Pantry;Hot Drinks;Malt Milk Drink Mixes       0.86      0.86      0.86         7\n",
      "                                   Pantry;Condiments & Dressings;Fruit Sauces       0.73      0.65      0.69        17\n",
      "                        Pantry;Baking Supplies & Sugar;Breadcrumbs & Coatings       1.00      0.92      0.96        13\n",
      "                       Chilled, Frozen & Desserts;Frozen Foods;Frozen Seafood       0.89      1.00      0.94        40\n",
      "                                    Personal Care;Health & Wellness;Foot Care       0.88      0.98      0.93        53\n",
      "                                  Meal Spot;Ready to Eat;Fresh Deli Savouries       0.91      0.53      0.67        19\n",
      "                                          Pantry;Biscuits & Crackers;Crackers       0.62      1.00      0.76        45\n",
      "                              Pantry;Spices & Seasonings;Freshly Ground Herbs       0.12      0.20      0.15        35\n",
      "                Kitchen, Dining & Household;Laundry;Laundry Liquid & Capsules       0.45      0.69      0.55        13\n",
      "                                  Personal Care;Beauty & Grooming;Oral Health       0.72      0.67      0.69        27\n",
      "        Kitchen, Dining & Household;Cleaning Products;Carpet & Floor Cleaners       0.67      0.90      0.77        20\n",
      "                   Fresh Foods & Bakery;Bulk & Loose Foods;Bulk Confectionery       0.00      0.00      0.00         1\n",
      "               Kitchen, Dining & Household;Cleaning Products;Kitchen Cleaners       1.00      0.92      0.96        13\n",
      "                          Chilled, Frozen & Desserts;Desserts;Canned Desserts       1.00      0.25      0.40         4\n",
      "                                        Meal Spot;Ready to Heat;Chilled Soups       0.48      0.61      0.54        23\n",
      "                      Fresh Foods & Bakery;Deli, Salads & Cooked Meats;Hummus       1.00      0.50      0.67         8\n",
      "                                 Fresh Foods & Bakery;Seafood;Fresh Shellfish       0.75      0.64      0.69        14\n",
      "                                             Beer, Cider & Wine;Wine;Cabernet       0.86      0.86      0.86        14\n",
      "                                          Meal Spot;Ready to Heat;Canned Soup       0.33      0.43      0.38        21\n",
      "   Fresh Foods & Bakery;Deli, Salads & Cooked Meats;Gourmet Oils & Condiments       0.93      1.00      0.97        14\n",
      "                   Chilled, Frozen & Desserts;Frozen Foods;Frozen Ready Meals       0.00      0.00      0.00         7\n",
      "         Fresh Foods & Bakery;Bulk & Loose Foods;Bulk Seeds, Legumes & Grains       0.26      0.36      0.30        14\n",
      "Fresh Foods & Bakery;Deli, Salads & Cooked Meats;Continental Sausage & Salami       0.55      0.90      0.68        40\n",
      "                                               Pantry;Confectionery;Christmas       0.12      0.11      0.12        45\n",
      "                                   Pantry;Canned & Prepared Foods;Packet Soup       0.82      0.91      0.86        35\n",
      "                                  Pantry;Canned & Prepared Foods;Canned Fruit       0.00      0.00      0.00         2\n",
      "                             Pantry;Baking Supplies & Sugar;Cooking Chocolate       0.48      0.91      0.62        33\n",
      "                                         Pantry;Snack Foods;Nut Bars & Snacks       1.00      0.90      0.95        10\n",
      "                                               Pantry;Confectionery;Liquorice       0.62      1.00      0.76        45\n",
      "                          Chilled, Frozen & Desserts;Cheese;Deli Cheeseboards       1.00      0.60      0.75         5\n",
      "                  Chilled, Frozen & Desserts;Desserts;Frozen Dessert Pastries       0.33      0.43      0.38        21\n",
      "                                           Pantry;Jams, Honey & Spreads;Honey       1.00      0.50      0.67        12\n",
      "                              Chilled, Frozen & Desserts;Cheese;Cheese Blocks       0.00      0.00      0.00        12\n",
      "                           Pantry;Pasta, Rice & Noodles;Wild & Coloured Rices       0.20      0.15      0.17        20\n",
      "                                                  Pantry;World Foods;Japanese       0.95      0.95      0.95        22\n",
      "                           Personal Care;Beauty & Grooming;Suncare & Self Tan       0.00      0.00      0.00         3\n",
      "                                       Pantry;Salad & Cooking Oils;Oil Sprays       0.49      0.78      0.60        23\n",
      "                                     Drinks;Cold Drinks;Fruit Drinks & Juices       0.09      0.18      0.12        17\n",
      "                                        Pantry;Confectionery;Chocolate Blocks       0.50      0.33      0.40         3\n",
      "                                                        Pantry;World Foods;UK       0.64      0.91      0.75        23\n",
      "                                                 Drinks;Cold Drinks;Iced Teas       1.00      0.20      0.33         5\n",
      "             Kitchen, Dining & Household;Stationery & Entertainment;Magazines       0.85      0.85      0.85        27\n",
      "                                  Pantry;Confectionery;Novelty Bars & Singles       0.55      0.60      0.57        10\n",
      "            Chilled, Frozen & Desserts;Desserts;Frozen Bavarians & Cheesecake       0.88      0.98      0.93        53\n",
      "                         Fresh Foods & Bakery;Fruit & Vegetables;Fresh Salads       0.67      0.20      0.31        10\n",
      "                                 Pantry;Hot Drinks;Chocolate Milk Drink Mixes       0.79      1.00      0.88        19\n",
      "                                          Beer, Cider & Wine;Beer & Cider;IPA       1.00      0.52      0.69        23\n",
      "                                       Pantry;Spices & Seasonings;Dried Herbs       0.00      0.00      0.00         7\n",
      "           Chilled, Frozen & Desserts;Dairy & Eggs;Sour Cream & Crème Fraiche       0.89      1.00      0.94        40\n",
      "                                Pantry;Biscuits & Crackers;Biscuits & Cookies       0.11      0.09      0.10        11\n",
      "                                   Pantry;Salad & Cooking Oils;Rice Bran Oils       1.00      1.00      1.00        24\n",
      "                            Fresh Foods & Bakery;Bakery;Fresh Cakes & Muffins       1.00      0.50      0.67         2\n",
      "                                    Pantry;Pasta, Rice & Noodles;Dried Pastas       1.00      1.00      1.00         9\n",
      "                                            Pets;Pet Supplies;Dog Accessories       1.00      0.88      0.93         8\n",
      "                                           Drinks;Cold Drinks;Non Dairy Milks       0.11      0.09      0.10        11\n",
      "                                       Pantry;Condiments & Dressings;Chutneys       1.00      0.33      0.50         9\n",
      "           Kitchen, Dining & Household;Cleaning Products;All Purpose Cleaners       1.00      0.95      0.97        20\n",
      "                             Kitchen, Dining & Household;Garage & Outdoor;BBQ       0.82      0.88      0.85        16\n",
      "                         Fresh Foods & Bakery;Dairy & Eggs;Fresh Organic Milk       0.48      0.61      0.54        23\n",
      "                          Chilled, Frozen & Desserts;Desserts;Frozen Puddings       0.67      0.93      0.78        15\n",
      "                                 Pantry;Jams, Honey & Spreads;Jam & Marmalade       1.00      0.88      0.93        24\n",
      "     Kitchen, Dining & Household;Cleaning Products;Bathroom & Shower Cleaners       0.00      0.00      0.00         6\n",
      "                                                   Pantry;World Foods;Mexican       0.17      0.12      0.14        16\n",
      "                               Fresh Foods & Bakery;Seafood;Fresh Smoked Fish       0.62      1.00      0.76        45\n",
      "                          Fresh Foods & Bakery;Fruit & Vegetables;Fresh Fruit       0.83      0.91      0.87        11\n",
      "    Fresh Foods & Bakery;Deli, Salads & Cooked Meats;Olives & Antipasti Mixes       1.00      0.96      0.98        26\n",
      "                                         Drinks;Hot Drinks;Coffee Substitutes       1.00      0.88      0.93         8\n",
      "                                      Pantry;Spices & Seasonings;Dried Spices       0.49      0.78      0.60        23\n",
      "                              Kitchen, Dining & Household;Household;Shoe Care       0.62      1.00      0.76        45\n",
      "                                             Pantry;World Foods;South African       1.00      0.38      0.55        16\n",
      "                                          Drinks;Cold Drinks;Vegetable Juices       0.73      0.96      0.83        28\n",
      "    Kitchen, Dining & Household;Stationery & Entertainment;Stationery & Craft       0.00      0.00      0.00         7\n",
      "                                        Pantry;Breakfast Cereals;Cold Cereals       0.49      0.78      0.60        23\n",
      "                         Pantry;Condiments & Dressings;Chilli & Pepper Sauces       1.00      0.64      0.78        14\n",
      "                                     Beer, Cider & Wine;Beer & Cider;Pale Ale       0.40      0.67      0.50         6\n",
      "                                   Pantry;Pasta, Rice & Noodles;Instant Rices       0.82      0.91      0.86        35\n",
      "                                         Pantry;Pasta, Rice & Noodles;Noodles       0.73      0.96      0.83        28\n",
      "                                Pantry;Pasta, Rice & Noodles;Long Grain Rices       0.53      1.00      0.69         9\n",
      "                        Kitchen, Dining & Household;Garage & Outdoor;Car Care       1.00      0.90      0.95        10\n",
      "            Kitchen, Dining & Household;Stationery & Entertainment;Newspapers       1.00      0.89      0.94         9\n",
      "                             Kitchen, Dining & Household;Laundry;Clothes Pegs       1.00      0.50      0.67         8\n",
      "                                     Pantry;Spices & Seasonings;Salt & Pepper       1.00      0.50      0.67        14\n",
      "                                     Pantry;Biscuits & Crackers;Rice Crackers       1.00      1.00      1.00        13\n",
      "             Chilled, Frozen & Desserts;Frozen Foods;Frozen Chicken & Poultry       0.56      1.00      0.72        41\n",
      "                                        Pantry;Condiments & Dressings;Pickles       0.48      0.61      0.54        23\n",
      "                                    Pantry;Canned & Prepared Foods;Soup Mixes       0.00      0.00      0.00         2\n",
      "                                   Pantry;Canned & Prepared Foods;Canned Meat       0.86      0.75      0.80         8\n",
      "                                               Beer, Cider & Wine;Wine;Shiraz       0.72      0.87      0.79        15\n",
      "                         Kitchen, Dining & Household;Laundry;Fabric Softeners       0.33      0.43      0.38        21\n",
      "                               Pantry;Sauces, Stock & Marinades;Tomato Sauces       0.72      0.87      0.79        15\n",
      "                                Fresh Foods & Bakery;Seafood;Fresh Whole Fish       0.83      0.77      0.80        26\n",
      "                                              Pantry;Hot Drinks;Fresh Coffees       0.82      0.88      0.85        16\n",
      "                   Beer, Cider & Wine;Beer & Cider;Specialty & Flavoured Beer       0.62      1.00      0.76        45\n",
      "                                    Baby, Toddler & Kids;Baby Care;Baby Wipes       0.55      0.80      0.65        15\n",
      "                                 Pantry;Hot Drinks;Coffee Additives & Filters       0.56      1.00      0.72        41\n",
      "                                  Pantry;Baking Supplies & Sugar;Baking Mixes       0.00      0.00      0.00         1\n",
      "                           Beer, Cider & Wine;Wine;Champagne & Sparkling Wine       1.00      0.50      0.67        12\n",
      "                             Fresh Foods & Bakery;Bakery;Garlic & Herb Breads       0.25      0.25      0.25         4\n",
      "                 Chilled, Frozen & Desserts;Dairy & Eggs;Yoghurt & Dairy Food       1.00      0.43      0.60         7\n",
      "                                              Pets;Pet Supplies;Bird Supplies       0.93      1.00      0.97        14\n",
      "                Pantry;Sauces, Stock & Marinades;Simmer & Stir-Through Sauces       0.70      0.64      0.67        11\n",
      "                                 Fresh Foods & Bakery;Butchery;Fresh Sausages       1.00      0.33      0.50         6\n",
      "                             Personal Care;Health & Wellness;Insect Repellent       0.77      0.89      0.83        19\n",
      "                                      Beer, Cider & Wine;Wine;Sauvignon Blanc       0.89      1.00      0.94        34\n",
      "     Kitchen, Dining & Household;Stationery & Entertainment;Toys & Recreation       0.20      0.15      0.17        20\n",
      "                                     Pantry;Sauces, Stock & Marinades;Gravies       0.91      0.53      0.67        19\n",
      "                                Pets;Pet Supplies;Fish & Aquatic Pet Supplies       0.12      0.11      0.12        45\n",
      "                                 Chilled, Frozen & Desserts;Dairy & Eggs;Eggs       0.81      0.84      0.82        25\n",
      "                        Chilled, Frozen & Desserts;Frozen Foods;Frozen Pastry       0.92      0.92      0.92        13\n",
      "          Fresh Foods & Bakery;Deli, Salads & Cooked Meats;Dips, Pesto & Pate       0.79      0.96      0.87        28\n",
      "                                                 Pantry;Hot Drinks;Black Teas       0.92      0.92      0.92        12\n",
      "                               Personal Care;Beauty & Grooming;Hair Colouring       1.00      0.25      0.40         4\n",
      "                                        Pantry;Biscuits & Crackers;Rice Cakes       0.00      0.00      0.00         4\n",
      "                                                      Pantry;World Foods;Thai       0.89      0.73      0.80        11\n",
      "                                              Pantry;Snack Foods;Potato Chips       0.00      0.00      0.00         3\n",
      "                           Pantry;Canned & Prepared Foods;Pizza & Pizza Bases       0.67      0.93      0.78        15\n",
      "                           Kitchen, Dining & Household;Household;Food Storage       0.25      0.33      0.29         6\n",
      "                                   Meal Spot;Ready to Heat;Frozen Ready Meals       0.62      1.00      0.76        45\n",
      "                        Chilled, Frozen & Desserts;Dairy & Eggs;Yoghurt Bases       0.60      0.50      0.55         6\n",
      "                   Beer, Cider & Wine;Beer & Cider;Stout, Porter & Black Beer       0.88      1.00      0.93         7\n",
      "                      Pantry;Biscuits & Crackers;Assorted Biscuits & Crackers       1.00      0.80      0.89        15\n",
      "                                      Pantry;Salad & Cooking Oils;Cooking Fat       0.93      0.98      0.95        43\n",
      "                              Baby, Toddler & Kids;Baby Care;Baby Dental Care       0.00      0.00      0.00        11\n",
      "                        Fresh Foods & Bakery;Bakery;Fresh Desserts & Pastries       0.64      0.37      0.47        19\n",
      "                                           Beer, Cider & Wine;Wine;Pinot Noir       1.00      0.50      0.67         2\n",
      "                              Chilled, Frozen & Desserts;Cheese;Grated Cheese       0.75      0.67      0.71        18\n",
      "                                                  Pantry;Hot Drinks;Chai Teas       1.00      0.67      0.80         6\n",
      "                          Chilled, Frozen & Desserts;Cheese;Specialty Cheeses       0.83      1.00      0.91        10\n",
      "                     Chilled, Frozen & Desserts;Cheese;Deli Specialty Cheeses       0.82      0.91      0.86        35\n",
      "              Chilled, Frozen & Desserts;Frozen Foods;Frozen Fries & Potatoes       0.93      0.98      0.95        43\n",
      "                                                       Pantry;World Foods;USA       0.75      0.96      0.84        49\n",
      "                            Pantry;Baking Supplies & Sugar;Icing & Decorating       0.90      0.86      0.88        21\n",
      "                              Fresh Foods & Bakery;Butchery;Fresh Beef & Lamb       0.67      0.90      0.77        20\n",
      "                                     Pantry;Salad & Cooking Oils;Coconut Oils       0.00      0.00      0.00         4\n",
      "                                                    Pantry;World Foods;Korean       0.96      0.93      0.94        27\n",
      "                    Chilled, Frozen & Desserts;Frozen Foods;Frozen Vegetables       1.00      0.33      0.50         9\n",
      "                       Chilled, Frozen & Desserts;Cheese;Deli Cabinet Cheeses       0.57      0.50      0.53         8\n",
      "                                               Drinks;Cold Drinks;Soft Drinks       0.50      0.82      0.62        17\n",
      "                                   Pantry;Hot Drinks;Coffee Flavoured Sachets       0.83      0.91      0.87        11\n",
      "                              Pantry;Biscuits & Crackers;Crème & Jam Biscuits       1.00      0.80      0.89        15\n",
      "                                            Beer, Cider & Wine;Wine;Cask Wine       0.55      0.80      0.65        15\n",
      "                 Chilled, Frozen & Desserts;Dairy & Eggs;Dairy & Lactose Free       0.00      0.00      0.00         3\n",
      "                        Pantry;Pasta, Rice & Noodles;Specialty Grains & Seeds       1.00      0.92      0.96        13\n",
      "                               Chilled, Frozen & Desserts;Cheese;Cream Cheese       0.95      0.95      0.95        22\n",
      "                                               Pantry;Snack Foods;Snack Mixes       0.00      0.00      0.00         9\n",
      "                              Personal Care;Health & Wellness;Allergy & Sinus       0.82      0.91      0.86        35\n",
      "                                               Beer, Cider & Wine;Wine;Merlot       0.64      0.37      0.47        19\n",
      "                                                    Pantry;World Foods;Indian       0.88      0.98      0.93        53\n",
      "                                 Pantry;Jams, Honey & Spreads;Savoury Spreads       0.82      0.91      0.86        35\n",
      "               Fresh Foods & Bakery;Dairy & Eggs;Long Life Milk & Milk Powder       0.89      1.00      0.94        40\n",
      "                                          Meal Spot;Ready to Eat;Fresh Salads       0.45      0.69      0.55        13\n",
      "                Kitchen, Dining & Household;Household;Batteries & Light Bulbs       0.91      0.53      0.67        19\n",
      " Fresh Foods & Bakery;Deli, Salads & Cooked Meats;PreCooked Chicken & Poultry       1.00      0.50      0.67         8\n",
      "                           Beer, Cider & Wine;Beer & Cider;Apple & Pear Cider       0.67      0.95      0.78        19\n",
      "                       Personal Care;Beauty & Grooming;Shaving & Hair Removal       0.10      0.09      0.10        11\n",
      "                                  Personal Care;Health & Wellness;Pain Relief       0.75      0.96      0.84        49\n",
      "                     Fresh Foods & Bakery;Bulk & Loose Foods;Bulk Dried Fruit       1.00      1.00      1.00        13\n",
      "                            Pantry;Sauces, Stock & Marinades;Specialty Sauces       0.79      1.00      0.88        15\n",
      "                                            Pantry;Hot Drinks;Instant Coffees       1.00      0.90      0.95        10\n",
      "                           Personal Care;Beauty & Grooming;Makeup & Cosmetics       1.00      0.80      0.89        15\n",
      "                                                 Drinks;Hot Drinks;Green Teas       0.95      1.00      0.98        20\n",
      "                                                 Pantry;Hot Drinks;Green Teas       0.57      1.00      0.73        12\n",
      "                                 Meal Spot;Ready to Heat;Frozen Pizza & Bases       0.00      0.00      0.00         3\n",
      "                                Fresh Foods & Bakery;Dairy & Eggs;Fresh Cream       0.50      0.82      0.62        17\n",
      "                                          Drinks;Cold Drinks;Sparkling Juices       0.48      0.91      0.62        33\n",
      "                           Fresh Foods & Bakery;Fruit & Vegetables;Salad Bags       0.88      0.98      0.93        53\n",
      "                                      Beer, Cider & Wine;Beer & Cider;Pilsner       0.12      0.20      0.15        35\n",
      "                                                     Pantry;Snack Foods;Chips       0.20      0.12      0.15         8\n",
      "                           Chilled, Frozen & Desserts;Dairy & Eggs;Fresh Milk       0.21      0.38      0.27        16\n",
      "                     Fresh Foods & Bakery;Fruit & Vegetables;Fresh Vegetables       0.86      0.86      0.86        14\n",
      "              Kitchen, Dining & Household;Garage & Outdoor;Gardening Supplies       0.22      0.25      0.24         8\n",
      "                       Pantry;Sauces, Stock & Marinades;Curry Pastes & Sauces       1.00      0.96      0.98        26\n",
      "                                              Meal Spot;Ready to Cook;Mexican       0.00      0.00      0.00         2\n",
      "                            Kitchen, Dining & Household;Laundry;Clothing Dyes       0.22      0.25      0.24         8\n",
      "                                            Drinks;Hot Drinks;Coffee Capsules       0.29      0.30      0.29        20\n",
      "                              Pantry;Biscuits & Crackers;Plain Sweet Biscuits       0.95      0.95      0.95        22\n",
      "                                                   Pets;Pet Supplies;Dog Food       0.27      0.96      0.42        51\n",
      "                            Fresh Foods & Bakery;Bulk & Loose Foods;Bulk Nuts       1.00      0.92      0.96        13\n",
      "                            Personal Care;Beauty & Grooming;Apparel & Hosiery       1.00      0.95      0.97        20\n",
      "                                               Pantry;Snack Foods;Muesli Bars       0.69      0.95      0.80        21\n",
      "                    Chilled, Frozen & Desserts;Desserts;Ice Blocks & Ice Pops       1.00      0.64      0.78        14\n",
      "                             Kitchen, Dining & Household;Household;Fire Needs       1.00      0.50      0.67         8\n",
      "                                 Drinks;Cold Drinks;Squash, Syrups & Cordials       0.83      1.00      0.91        10\n",
      "                                   Pantry;Canned & Prepared Foods;Canned Fish       1.00      0.94      0.97        16\n",
      "                                 Drinks;Hot Drinks;Chocolate Milk Drink Mixes       1.00      0.38      0.55        16\n",
      "                              Meal Spot;Ready to Heat;Chilled Pies & Pastries       0.00      0.00      0.00         5\n",
      "                                         Pantry;Condiments & Dressings;Relish       0.77      0.89      0.83        19\n",
      "                           Fresh Foods & Bakery;Dairy & Eggs;Butter & Spreads       0.00      0.00      0.00         1\n",
      "                          Chilled, Frozen & Desserts;Frozen Foods;Frozen Fish       0.00      0.00      0.00         7\n",
      "                                          Meal Spot;Ready to Heat;Ready Meals       0.61      1.00      0.76        11\n",
      "                       Personal Care;Beauty & Grooming;Hair Care & Treatments       0.64      0.91      0.75        23\n",
      "                  Kitchen, Dining & Household;Household;Rubbish & Vacuum Bags       1.00      0.52      0.69        23\n",
      "                                                 Pets;Pet Supplies;Dog Treats       0.25      0.80      0.38        20\n",
      "                                    Pantry;Canned & Prepared Foods;Vegetarian       0.33      0.43      0.38        21\n",
      "             Kitchen, Dining & Household;Cleaning Products;Dishwashing Liquid       0.88      0.98      0.93        53\n",
      "                      Personal Care;Health & Wellness;Contact Lens & Eye Care       0.00      0.00      0.00         3\n",
      "                                Pantry;Sauces, Stock & Marinades;Pasta Sauces       0.00      0.00      0.00         6\n",
      "                          Kitchen, Dining & Household;Laundry;Laundry Powders       0.60      1.00      0.75         3\n",
      "                   Kitchen, Dining & Household;Cleaning Products;Paper Towels       0.75      0.96      0.84        49\n",
      "                        Fresh Foods & Bakery;Butchery;Fresh Chicken & Poultry       1.00      0.20      0.33         5\n",
      "     Kitchen, Dining & Household;Cleaning Products;Furniture & Metal Polishes       1.00      0.96      0.98        26\n",
      "                                                   Pets;Pet Supplies;Cat Food       0.17      0.15      0.16        20\n",
      "                                   Pantry;Baking Supplies & Sugar;Dried Fruit       0.89      1.00      0.94        40\n",
      "                       Kitchen, Dining & Household;Cleaning Products;Bleaches       0.65      0.96      0.77        48\n",
      "                                         Meal Spot;Ready to Eat;Seafood Salad       0.25      0.33      0.29         6\n",
      "                  Kitchen, Dining & Household;Household;Pest & Insect Control       0.75      0.56      0.64        16\n",
      "                                     Beer, Cider & Wine;Wine;Other White Wine       0.68      0.90      0.78        21\n",
      "                                    Personal Care;Health & Wellness;First Aid       0.89      1.00      0.94        34\n",
      "                                    Pantry;Pasta, Rice & Noodles;Fresh Pastas       0.49      0.78      0.60        23\n",
      "                              Pantry;Baking Supplies & Sugar;Baking Additives       0.65      0.96      0.77        48\n",
      "                                            Pets;Pet Supplies;Cat Accessories       1.00      0.96      0.98        26\n",
      "                       Pantry;Canned & Prepared Foods;Baked Beans & Spaghetti       0.00      0.00      0.00         6\n",
      "                                   Pantry;Canned & Prepared Foods;Ready Meals       0.82      0.88      0.85        16\n",
      "                        Beer, Cider & Wine;Beer & Cider;Lighter Alcohol Beers       0.85      0.85      0.85        13\n",
      "       Fresh Foods & Bakery;Deli, Salads & Cooked Meats;PreCooked Beef & Lamb       0.62      1.00      0.76        45\n",
      "                              Fresh Foods & Bakery;Dairy & Eggs;Yoghurt Bases       0.75      0.56      0.64        16\n",
      "                                       Pantry;Snack Foods;Cereal & Snack Bars       0.62      0.38      0.48        13\n",
      "                                                 Drinks;Hot Drinks;Black Teas       0.79      1.00      0.88        15\n",
      "                             Kitchen, Dining & Household;Laundry;Laundry Soap       0.82      0.88      0.85        16\n",
      "         Fresh Foods & Bakery;Deli, Salads & Cooked Meats;Specialty Dry Goods       0.88      0.98      0.93        53\n",
      "                       Fresh Foods & Bakery;Dairy & Eggs;Dairy & Lactose Free       1.00      0.71      0.83         7\n",
      "                                 Drinks;Hot Drinks;Coffee Additives & Filters       0.93      0.98      0.95        43\n",
      "                     Chilled, Frozen & Desserts;Desserts;Meringues & Pavlovas       0.73      0.96      0.83        28\n",
      "                             Personal Care;Beauty & Grooming;Hand & Body Care       0.20      0.33      0.25        15\n",
      "                             Kitchen, Dining & Household;Household;Manchester       0.64      0.91      0.75        23\n",
      "                                               Drinks;Cold Drinks;Still Water       1.00      0.70      0.82        10\n",
      "                                   Pantry;Sauces, Stock & Marinades;Marinades       0.88      0.98      0.93        53\n",
      "                            Fresh Foods & Bakery;Bakery;Organic & Gluten Free       0.93      0.98      0.95        43\n",
      "                             Pantry;Sauces, Stock & Marinades;Stir Fry Sauces       0.26      0.36      0.30        14\n",
      "                                             Pantry;Snack Foods;Dips & Salsas       1.00      0.14      0.25         7\n",
      "                         Pantry;Baking Supplies & Sugar;Essences & Colourings       0.83      0.77      0.80        26\n",
      "               Fresh Foods & Bakery;Bulk & Loose Foods;Bulk Breakfast Cereals       0.29      0.30      0.29        20\n",
      "                      Kitchen, Dining & Household;Household;Food Wraps & Bags       0.93      0.98      0.95        43\n",
      "                      Pantry;Sauces, Stock & Marinades;Tomato Pastes & Purees       0.88      0.98      0.93        53\n",
      "                          Fresh Foods & Bakery;Fruit & Vegetables;Fresh Herbs       0.80      0.53      0.64        15\n",
      "                  Fresh Foods & Bakery;Deli, Salads & Cooked Meats;Ham & Pork       0.84      0.95      0.89        22\n",
      "                                Pantry;Condiments & Dressings;Barbeque Sauces       0.33      0.80      0.47        10\n",
      "                                        Pantry;Confectionery;Boxed Chocolates       0.75      0.64      0.69        14\n",
      "                      Fresh Foods & Bakery;Butchery;Fresh Venison & Game Meat       0.93      1.00      0.97        14\n",
      "                          Fresh Foods & Bakery;Bakery;Fresh Biscuits & Slices       1.00      0.83      0.91         6\n",
      "                                   Pantry;Confectionery;Chocolate Family Bags       1.00      0.20      0.33         5\n",
      "                      Baby, Toddler & Kids;Baby Care;Baby Bathing & Skin Care       0.00      0.00      0.00         7\n",
      "                           Beer, Cider & Wine;Beer & Cider;European-style Ale       0.00      0.00      0.00         4\n",
      "                  Fresh Foods & Bakery;Bulk & Loose Foods;Bulk Snacks & Mixes       1.00      0.62      0.76        13\n",
      "                                           Drinks;Cold Drinks;Powdered Drinks       0.62      1.00      0.76        45\n",
      "        Fresh Foods & Bakery;Deli, Salads & Cooked Meats;Fresh Deli Savouries       0.12      0.11      0.12        45\n",
      "                                     Pantry;Condiments & Dressings;Mayonnaise       1.00      1.00      1.00        24\n",
      "                                   Drinks;Hot Drinks;Coffee Flavoured Sachets       0.82      1.00      0.90         9\n",
      "                    Fresh Foods & Bakery;Butchery;PrePacked Chicken & Poultry       0.25      0.80      0.38        20\n",
      "                 Chilled, Frozen & Desserts;Frozen Foods;Frozen Bread & Dough       0.93      0.98      0.95        43\n",
      "                         Chilled, Frozen & Desserts;Desserts;Chilled Custards       0.17      0.08      0.11        12\n",
      "                                 Pantry;Canned & Prepared Foods;Chilled Soups       0.88      1.00      0.93         7\n",
      "                                                 Pets;Pet Supplies;Cat Treats       0.79      1.00      0.88        19\n",
      "                                 Pantry;Baking Supplies & Sugar;Baking Syrups       0.00      0.00      0.00         4\n",
      "                                        Meal Spot;Ready to Cook;Simply DINNER       0.00      0.00      0.00         2\n",
      "                             Baby, Toddler & Kids;Baby Care;Nursing & Feeding       0.83      0.83      0.83         6\n",
      "                      Kitchen, Dining & Household;Laundry;Fine Fabric Washers       0.67      0.95      0.78        19\n",
      "                                      Pets;Pet Supplies;Small Animal Supplies       0.14      0.14      0.14         7\n",
      "                             Beer, Cider & Wine;Beer & Cider;Brewing Supplies       0.72      0.87      0.79        15\n",
      "                                Fresh Foods & Bakery;Seafood;Fresh Fish Heads       0.17      0.12      0.14        16\n",
      "                  Fresh Foods & Bakery;Deli, Salads & Cooked Meats;Deli Meats       0.56      1.00      0.72        41\n",
      "                         Chilled, Frozen & Desserts;Frozen Foods;Frozen Fruit       0.17      0.12      0.14        16\n",
      "                                            Drinks;Hot Drinks;Instant Coffees       0.00      0.00      0.00         3\n",
      "                         Fresh Foods & Bakery;Bakery;Muffin Splits & Crumpets       0.25      0.80      0.38        20\n",
      "                                 Fresh Foods & Bakery;Bakery;Specialty Breads       1.00      0.17      0.29         6\n",
      "                              Drinks;Cold Drinks;Drinking Yoghurt & Smoothies       0.00      0.00      0.00         3\n",
      "                 Chilled, Frozen & Desserts;Desserts;Ice Cream Cones & Wafers       0.27      0.96      0.42        51\n",
      "                     Pantry;Canned & Prepared Foods;Canned & Dried Vegetables       0.48      0.91      0.62        33\n",
      "                                     Pantry;Confectionery;Chewing Gum & Mints       0.56      0.83      0.67         6\n",
      "                           Fresh Foods & Bakery;Seafood;Frozen Fish & Seafood       1.00      0.88      0.93         8\n",
      "                                           Beer, Cider & Wine;Wine;Chardonnay       0.85      0.85      0.85        27\n",
      "                     Fresh Foods & Bakery;Seafood;Fresh Fish Fillets & Steaks       0.00      0.00      0.00         3\n",
      "                              Personal Care;Health & Wellness;Family Planning       0.88      0.98      0.93        53\n",
      "                           Pantry;Baking Supplies & Sugar;Baking Nuts & Seeds       0.64      0.53      0.58        17\n",
      "                        Pantry;Sauces, Stock & Marinades;Chilled Pasta Sauces       0.33      0.43      0.38        21\n",
      "                       Fresh Foods & Bakery;Dairy & Eggs;Yoghurt & Dairy Food       1.00      0.50      0.67         4\n",
      "             Chilled, Frozen & Desserts;Frozen Foods;Frozen Beef, Lamb & Pork       0.55      0.90      0.68        40\n",
      "                   Chilled, Frozen & Desserts;Dairy & Eggs;Fresh Organic Milk       0.33      0.33      0.33        21\n",
      "                                 Fresh Foods & Bakery;Meal Kits;Simply DINNER       0.95      0.95      0.95        22\n",
      "                                        Drinks;Hot Drinks;Fruit & Herbal Teas       0.80      1.00      0.89         4\n",
      "                            Beer, Cider & Wine;Beer & Cider;British-style Ale       0.72      0.87      0.79        15\n",
      "                                  Meal Spot;Ready to Heat;Pizza & Pizza Bases       0.00      0.00      0.00         9\n",
      "                             Kitchen, Dining & Household;Household;Electrical       0.12      0.20      0.15        35\n",
      "                                     Pantry;Salad & Cooking Oils;Avocado Oils       1.00      1.00      1.00         9\n",
      "                                         Pantry;Baking Supplies & Sugar;Flour       0.31      0.18      0.23        22\n",
      "                                                 Beer, Cider & Wine;Wine;Rose       1.00      0.80      0.89        15\n",
      "                                         Pantry;Condiments & Dressings;Olives       0.79      0.96      0.87        28\n",
      "                 Kitchen, Dining & Household;Laundry;Washing Machine Cleaners       0.92      0.92      0.92        12\n",
      "          Kitchen, Dining & Household;Cleaning Products;Dishwasher Detergents       0.67      0.95      0.78        19\n",
      "                                          Pantry;World Foods;South East Asian       0.73      0.96      0.83        28\n",
      "                                   Pantry;Spices & Seasonings;Garlic & Ginger       0.56      0.83      0.67         6\n",
      "           Kitchen, Dining & Household;Household;Air Fresheners & Deodorisers       0.70      0.64      0.67        11\n",
      "                              Pantry;Jams, Honey & Spreads;Marmite & Vegemite       0.79      0.96      0.87        28\n",
      "                                         Pantry;Breakfast Cereals;Hot Cereals       0.09      0.09      0.09        11\n",
      "                           Pantry;Canned & Prepared Foods;Canned Milk & Cream       0.33      0.43      0.38        21\n",
      "                                      Drinks;Cold Drinks;Chilled Fruit Juices       0.11      0.09      0.10        11\n",
      "                               Fresh Foods & Bakery;Bakery;Bread Rolls & Buns       0.90      0.86      0.88        21\n",
      "                                       Pantry;Condiments & Dressings;Vinegars       0.48      0.91      0.62        33\n",
      "                             Fresh Foods & Bakery;Butchery;PrePacked Sausages       0.48      0.61      0.54        23\n",
      "                Chilled, Frozen & Desserts;Desserts;Jelly & Powdered Desserts       0.17      0.15      0.16        20\n",
      "                                   Fresh Foods & Bakery;Seafood;Seafood Salad       1.00      0.88      0.93         8\n",
      "                      Pantry;Pasta, Rice & Noodles;Short & Medium Grain Rices       0.29      0.30      0.29        20\n",
      "                                           Beer, Cider & Wine;Wine;Pinot Gris       0.55      0.90      0.68        40\n",
      "                                         Meal Spot;Ready to Cook;Noodle Meals       0.29      0.30      0.29        20\n",
      "                                 Pantry;Breakfast Cereals;Breakfast On The Go       0.64      0.91      0.75        23\n",
      "                                          Meal Spot;Ready to Heat;Packet Soup       0.17      0.08      0.11        12\n",
      "                    Chilled, Frozen & Desserts;Frozen Foods;Frozen Vegetarian       0.89      1.00      0.94        40\n",
      "                                  Pantry;Spices & Seasonings;Chilli & Paprika       0.33      0.43      0.38        21\n",
      "                                     Pantry;Jams, Honey & Spreads;Nut Spreads       1.00      0.88      0.93         8\n",
      "                                   Pantry;Pasta, Rice & Noodles;Jasmine Rices       0.00      0.00      0.00         3\n",
      "                          Fresh Foods & Bakery;Butchery;PrePacked Beef & Lamb       0.33      0.43      0.38        21\n",
      "           Fresh Foods & Bakery;Fruit & Vegetables;PrePacked Fresh Vegetables       0.00      0.00      0.00         3\n",
      "       Kitchen, Dining & Household;Cleaning Products;Dishwasher Rinse & Clean       1.00      0.92      0.96        13\n",
      "                                           Drinks;Cold Drinks;Flavoured Water       0.17      0.08      0.11        12\n",
      "\n",
      "                                                                    micro avg       0.61      0.75      0.67     65240\n",
      "                                                                    macro avg       0.61      0.62      0.59     65240\n",
      "                                                                 weighted avg       0.66      0.75      0.67     65240\n",
      "\n"
     ]
    },
    {
     "name": "stderr",
     "output_type": "stream",
     "text": [
      "d:\\python\\lib\\site-packages\\sklearn\\metrics\\_classification.py:1245: UndefinedMetricWarning: Recall is ill-defined and being set to 0.0 in labels with no true samples. Use `zero_division` parameter to control this behavior.\n",
      "  _warn_prf(average, modifier, msg_start, len(result))\n",
      "d:\\python\\lib\\site-packages\\sklearn\\metrics\\_classification.py:1982: UserWarning: labels size, 3616, does not match size of target_names, 429\n",
      "  warnings.warn(\n",
      "d:\\python\\lib\\site-packages\\sklearn\\metrics\\_classification.py:1245: UndefinedMetricWarning: Precision and F-score are ill-defined and being set to 0.0 in labels with no predicted samples. Use `zero_division` parameter to control this behavior.\n",
      "  _warn_prf(average, modifier, msg_start, len(result))\n",
      "d:\\python\\lib\\site-packages\\sklearn\\metrics\\_classification.py:1245: UndefinedMetricWarning: Precision and F-score are ill-defined and being set to 0.0 in labels with no predicted samples. Use `zero_division` parameter to control this behavior.\n",
      "  _warn_prf(average, modifier, msg_start, len(result))\n",
      "d:\\python\\lib\\site-packages\\sklearn\\metrics\\_classification.py:1245: UndefinedMetricWarning: Precision and F-score are ill-defined and being set to 0.0 in labels with no predicted samples. Use `zero_division` parameter to control this behavior.\n",
      "  _warn_prf(average, modifier, msg_start, len(result))\n"
     ]
    }
   ],
   "source": [
    "model = LogisticRegression()\n",
    "model.fit(x_train, y_train)\n",
    "predict_labels = model.predict(x_test)\n",
    "predict_labels = [np.round(p) for p in predict_labels]\n",
    "max_label = len(id2label) - 1\n",
    "predict_labels = [l if max_label >= l else max_label for l in predict_labels]\n",
    "min_label = 0\n",
    "predict_labels = [l if min_label <= l else min_label for l in predict_labels]\n",
    "evaluation(predict_labels, y_test, id2label, \"logistic\")"
   ],
   "metadata": {
    "collapsed": false,
    "pycharm": {
     "name": "#%%\n"
    }
   }
  },
  {
   "cell_type": "code",
   "execution_count": 20,
   "outputs": [
    {
     "name": "stdout",
     "output_type": "stream",
     "text": [
      "logistic: acc:0.6238938053097345, recall:0.40906189165063045, f1 score:0.40538390472331304\n",
      "                                                                               precision    recall  f1-score   support\n",
      "\n",
      "                                    Pantry;Condiments & Dressings;Mint Sauces       1.00      0.25      0.40         4\n",
      "                                      Pantry;Pasta, Rice & Noodles;Rice Meals       0.92      1.00      0.96        12\n",
      "                      Beer, Cider & Wine;Beer & Cider;Fruit & Flavoured Cider       0.00      0.00      0.00         2\n",
      "                       Fresh Foods & Bakery;Deli, Salads & Cooked Meats;Bacon       0.63      1.00      0.78        45\n",
      "                                            Pantry;Hot Drinks;Coffee Capsules       0.00      0.00      0.00        11\n",
      "                                        Pantry;Hot Drinks;Fruit & Herbal Teas       0.93      1.00      0.96        40\n",
      "                            Personal Care;Health & Wellness;Cough, Cold & Flu       0.92      1.00      0.96        12\n",
      "                                   Pantry;Canned & Prepared Foods;Canned Soup       0.00      0.00      0.00         5\n",
      "                                Pantry;Condiments & Dressings;Salad Dressings       1.00      0.62      0.76        13\n",
      "                         Kitchen, Dining & Household;Household;Party Supplies       0.88      1.00      0.94        15\n",
      "                                           Meal Spot;Ready to Eat;Deli Salads       0.67      0.95      0.78        19\n",
      "                                 Fresh Foods & Bakery;Butchery;PrePacked Pork       0.56      0.90      0.69        40\n",
      "                            Baby, Toddler & Kids;Baby Care;Nappies & Changing       0.72      0.67      0.69        27\n",
      "                               Kitchen, Dining & Household;Household;Homeware       1.00      0.38      0.55        16\n",
      "                   Baby, Toddler & Kids;Baby Care;Baby Formula & Toddler Food       0.00      0.00      0.00         4\n",
      "                             Fresh Foods & Bakery;Butchery;PreCooked Sausages       0.79      0.83      0.81        18\n",
      "                     Beer, Cider & Wine;Beer & Cider;Wheat & Other Grain Beer       0.86      0.80      0.83        15\n",
      "                               Pantry;Canned & Prepared Foods;Syrups & Sauces       0.88      0.98      0.93        53\n",
      "                                           Pantry;World Foods;Other Countries       1.00      0.62      0.76        13\n",
      "                 Chilled, Frozen & Desserts;Frozen Foods;Frozen Pizza & Bases       0.91      0.83      0.87        12\n",
      "                                       Fresh Foods & Bakery;Dairy & Eggs;Eggs       0.29      0.20      0.24        10\n",
      "                     Chilled, Frozen & Desserts;Dairy & Eggs;Butter & Spreads       0.00      0.00      0.00         6\n",
      "                                       Pantry;Salad & Cooking Oils;Olive Oils       0.52      1.00      0.69        11\n",
      "                                              Pantry;Snack Foods;Fruit Snacks       0.00      0.00      0.00         4\n",
      "                         Personal Care;Beauty & Grooming;Face & Lip Skin Care       1.00      0.52      0.69        23\n",
      "         Chilled, Frozen & Desserts;Dairy & Eggs;Long Life Milk & Milk Powder       0.00      0.00      0.00         4\n",
      "                                            Pets;Pet Supplies;Pet Accessories       0.29      0.20      0.24        10\n",
      "                 Kitchen, Dining & Household;Cleaning Products;Glass Cleaners       0.88      0.98      0.93        53\n",
      "                                   Pantry;Pasta, Rice & Noodles;Basmati Rices       0.90      1.00      0.95         9\n",
      "                                   Pantry;Sauces, Stock & Marinades;Soy Sauce       1.00      0.33      0.50         3\n",
      "                                  Pantry;Salad & Cooking Oils;Nut & Seed Oils       0.00      0.00      0.00         1\n",
      "                            Fresh Foods & Bakery;Fruit & Vegetables;Vege Bags       1.00      0.38      0.55        16\n",
      "                 Fresh Foods & Bakery;Dairy & Eggs;Sour Cream & Crème Fraiche       0.49      0.91      0.64        33\n",
      "                                Fresh Foods & Bakery;Bakery;Biscuits & Slices       0.33      0.40      0.36        10\n",
      "                      Fresh Foods & Bakery;Fruit & Vegetables;Fresh Cut Fruit       0.14      0.09      0.11        11\n",
      "                Personal Care;Health & Wellness;Digestion, Nausea & Laxatives       0.70      0.82      0.76        17\n",
      "                         Kitchen, Dining & Household;Laundry;Laundry Supplies       0.33      0.25      0.29         4\n",
      "                          Chilled, Frozen & Desserts;Frozen Foods;Frozen Pies       0.82      0.88      0.85        16\n",
      "                          Chilled, Frozen & Desserts;Dairy & Eggs;Fresh Cream       1.00      0.52      0.69        23\n",
      "           Kitchen, Dining & Household;Cleaning Products;Cleaning Accessories       0.78      1.00      0.88         7\n",
      "                       Chilled, Frozen & Desserts;Dairy & Eggs;Flavoured Milk       1.00      0.80      0.89        15\n",
      "                                    Drinks;Cold Drinks;Sports & Energy Drinks       0.00      0.00      0.00         1\n",
      "                                       Pantry;Condiments & Dressings;Mustards       0.48      0.82      0.61        17\n",
      "                       Pantry;Biscuits & Crackers;Gourmet Biscuits & Crackers       0.00      0.00      0.00         5\n",
      "                                     Pantry;Pasta, Rice & Noodles;Pasta Meals       0.95      0.98      0.97        43\n",
      "                               Pantry;Sauces, Stock & Marinades;Packet Sauces       0.24      0.20      0.22        20\n",
      "                             Chilled, Frozen & Desserts;Cheese;Cottage Cheese       1.00      0.82      0.90        11\n",
      "                                               Pantry;Snack Foods;Meat Snacks       1.00      0.67      0.80         6\n",
      "                                       Pantry;Sauces, Stock & Marinades;Stock       0.50      0.83      0.62        23\n",
      "                          Pantry;Canned & Prepared Foods;Coconut Cream & Milk       0.20      0.12      0.15         8\n",
      "                                              Pantry;Snack Foods;Bread Snacks       0.68      0.90      0.78        21\n",
      "                                Pantry;Biscuits & Crackers;Chocolate Biscuits       0.26      0.36      0.30        14\n",
      "                  Kitchen, Dining & Household;Laundry;Pre Wash Stain Removers       0.75      0.98      0.85        49\n",
      "                                     Pantry;Confectionery;Lollies Family Bags       0.00      0.00      0.00         5\n",
      "                                             Drinks;Cold Drinks;Coconut Water       0.88      1.00      0.94        15\n",
      "                              Fresh Foods & Bakery;Bakery;Wraps & Pita Breads       1.00      0.95      0.97        20\n",
      "                                      Beer, Cider & Wine;Beer & Cider;Spirits       0.50      0.65      0.57        23\n",
      "               Chilled, Frozen & Desserts;Desserts;Ice Cream & Frozen Yoghurt       0.00      0.00      0.00         3\n",
      "                   Personal Care;Beauty & Grooming;Hair Styling & Accessories       1.00      0.62      0.76        13\n",
      "                   Kitchen, Dining & Household;Household;Disposable Tableware       0.59      1.00      0.75        41\n",
      "                             Pantry;Baking Supplies & Sugar;Sugar Substitutes       0.87      1.00      0.93        34\n",
      "                                             Pets;Pet Supplies;Pet Treatments       0.49      0.91      0.64        33\n",
      "                                                  Drinks;Hot Drinks;Chai Teas       0.86      1.00      0.92        12\n",
      "                           Kitchen, Dining & Household;Garage & Outdoor;Hooks       1.00      0.17      0.29        12\n",
      "                                    Pantry;Pasta, Rice & Noodles;Noodle Meals       0.88      0.98      0.93        53\n",
      "                                         Pantry;Hot Drinks;Coffee Substitutes       0.00      0.00      0.00         1\n",
      "                                            Meal Spot;Ready to Cook;Vege Bags       0.45      0.83      0.59         6\n",
      "                           Beer, Cider & Wine;Beer & Cider;American-style Ale       0.22      0.44      0.29        16\n",
      "                             Fresh Foods & Bakery;Dairy & Eggs;Flavoured Milk       1.00      0.88      0.93         8\n",
      "                                   Fresh Foods & Bakery;Seafood;Fresh Seafood       1.00      0.44      0.62         9\n",
      "                          Personal Care;Health & Wellness;Sanitary Protection       0.75      0.98      0.85        49\n",
      "                  Personal Care;Health & Wellness;Wellness & Sports Nutrition       0.49      0.91      0.64        33\n",
      "                                   Pantry;Jams, Honey & Spreads;Sweet Spreads       0.00      0.00      0.00         9\n",
      "                                               Pantry;Snack Foods;Vege Snacks       1.00      0.50      0.67         8\n",
      "                                Baby, Toddler & Kids;Baby Care;Baby Hair Care       0.00      0.00      0.00         4\n",
      "                       Personal Care;Health & Wellness;Vitamins & Supplements       0.00      0.00      0.00         2\n",
      "                     Kitchen, Dining & Household;Household;Cooking & Bakeware       0.72      1.00      0.84        18\n",
      "                                   Pantry;Salad & Cooking Oils;Vegetable Oils       1.00      0.62      0.76        13\n",
      "                                       Beer, Cider & Wine;Wine;Other Red Wine       0.79      0.96      0.87        28\n",
      "                             Fresh Foods & Bakery;Bakery;Fresh Breads & Rolls       0.86      0.86      0.86         7\n",
      "                                          Drinks;Cold Drinks;Milk Drink Mixes       0.50      0.65      0.57        23\n",
      "                                 Fresh Foods & Bakery;Dairy & Eggs;Fresh Milk       0.68      0.90      0.78        21\n",
      "                 Kitchen, Dining & Household;Household;Tissues & Toilet Paper       1.00      0.20      0.33         5\n",
      "                                              Drinks;Hot Drinks;Fresh Coffees       0.69      0.82      0.75        11\n",
      "                                          Pantry;Condiments & Dressings;Aioli       0.55      1.00      0.71        11\n",
      "                                              Pantry;Breakfast Cereals;Muesli       0.72      1.00      0.84        18\n",
      "                                     Meal Spot;Ready to Heat;Frozen Savouries       0.93      1.00      0.96        13\n",
      "                          Pantry;Condiments & Dressings;Worcestershire Sauces       1.00      0.43      0.60         7\n",
      "     Fresh Foods & Bakery;Deli, Salads & Cooked Meats;Chilled Pies & Pastries       0.00      0.00      0.00         4\n",
      "                                     Fresh Foods & Bakery;Bakery;Sliced Bread       1.00      0.62      0.76        13\n",
      "                                   Baby, Toddler & Kids;Baby Care;Baby Health       0.48      0.82      0.61        17\n",
      "                                       Pantry;Salad & Cooking Oils;Other Oils       0.00      0.00      0.00         2\n",
      "                 Fresh Foods & Bakery;Deli, Salads & Cooked Meats;Deli Salads       1.00      0.36      0.53        11\n",
      "                              Chilled, Frozen & Desserts;Cheese;Cheese Slices       0.00      0.00      0.00        12\n",
      "                                          Pantry;Snack Foods;Nutritional Bars       0.64      0.70      0.67        10\n",
      "                                     Fresh Foods & Bakery;Butchery;Fresh Pork       0.88      1.00      0.94        15\n",
      "                                                   Pantry;World Foods;Chinese       0.00      0.00      0.00         3\n",
      "                                 Pantry;Breakfast Cereals;Flake/Fibre Cereals       1.00      1.00      1.00         3\n",
      "                                         Pantry;Baking Supplies & Sugar;Sugar       0.89      0.73      0.80        11\n",
      "                                   Personal Care;Beauty & Grooming;Deodorants       0.86      1.00      0.92        12\n",
      "                Kitchen, Dining & Household;Garage & Outdoor;Hardware & Tools       0.49      0.91      0.64        33\n",
      "                                          Meal Spot;Ready to Cook;Pasta Meals       0.64      0.96      0.77        48\n",
      "                                  Fresh Foods & Bakery;Bakery;Cakes & Muffins       1.00      0.52      0.69        23\n",
      "                    Pantry;Sauces, Stock & Marinades;Tartare & Seafood Sauces       0.20      0.12      0.15         8\n",
      "                                                   Pantry;Snack Foods;Popcorn       0.87      1.00      0.93        34\n",
      "                                        Beer, Cider & Wine;Beer & Cider;Lager       1.00      0.88      0.93         8\n",
      "                            Kitchen, Dining & Household;Household;Kitchenware       0.72      0.67      0.69        27\n",
      "                                 Personal Care;Health & Wellness;Stop Smoking       0.57      1.00      0.73        12\n",
      "                                  Fresh Foods & Bakery;Bakery;Pies & Pastries       0.93      0.96      0.95        27\n",
      "                     Chilled, Frozen & Desserts;Frozen Foods;Frozen Savouries       0.00      0.00      0.00         4\n",
      "                  Chilled, Frozen & Desserts;Desserts;Ready To Serve Puddings       0.95      0.98      0.97        43\n",
      "                                   Personal Care;Health & Wellness;Adult Care       0.48      0.82      0.61        17\n",
      "                                           Drinks;Cold Drinks;Sparkling Water       0.50      0.65      0.57        23\n",
      "                                                Pantry;Snack Foods;Corn Chips       1.00      0.95      0.97        20\n",
      "                                      Drinks;Hot Drinks;Malt Milk Drink Mixes       0.90      1.00      0.95         9\n",
      "                                      Pantry;Hot Drinks;Malt Milk Drink Mixes       0.86      0.86      0.86         7\n",
      "                                   Pantry;Condiments & Dressings;Fruit Sauces       0.79      0.65      0.71        17\n",
      "                        Pantry;Baking Supplies & Sugar;Breadcrumbs & Coatings       1.00      0.92      0.96        13\n",
      "                       Chilled, Frozen & Desserts;Frozen Foods;Frozen Seafood       0.93      1.00      0.96        40\n",
      "                                    Personal Care;Health & Wellness;Foot Care       0.88      0.98      0.93        53\n",
      "                                  Meal Spot;Ready to Eat;Fresh Deli Savouries       0.75      0.63      0.69        19\n",
      "                                          Pantry;Biscuits & Crackers;Crackers       0.63      1.00      0.78        45\n",
      "                              Pantry;Spices & Seasonings;Freshly Ground Herbs       0.13      0.20      0.16        35\n",
      "                Kitchen, Dining & Household;Laundry;Laundry Liquid & Capsules       0.47      0.69      0.56        13\n",
      "                                  Personal Care;Beauty & Grooming;Oral Health       0.72      0.67      0.69        27\n",
      "        Kitchen, Dining & Household;Cleaning Products;Carpet & Floor Cleaners       0.69      0.90      0.78        20\n",
      "                   Fresh Foods & Bakery;Bulk & Loose Foods;Bulk Confectionery       0.00      0.00      0.00         1\n",
      "               Kitchen, Dining & Household;Cleaning Products;Kitchen Cleaners       1.00      0.92      0.96        13\n",
      "                          Chilled, Frozen & Desserts;Desserts;Canned Desserts       1.00      0.25      0.40         4\n",
      "                                        Meal Spot;Ready to Heat;Chilled Soups       0.50      0.65      0.57        23\n",
      "                      Fresh Foods & Bakery;Deli, Salads & Cooked Meats;Hummus       1.00      0.50      0.67         8\n",
      "                                 Fresh Foods & Bakery;Seafood;Fresh Shellfish       0.75      0.64      0.69        14\n",
      "                                             Beer, Cider & Wine;Wine;Cabernet       0.80      0.86      0.83        14\n",
      "                                          Meal Spot;Ready to Heat;Canned Soup       0.32      0.38      0.35        21\n",
      "   Fresh Foods & Bakery;Deli, Salads & Cooked Meats;Gourmet Oils & Condiments       0.93      1.00      0.97        14\n",
      "                   Chilled, Frozen & Desserts;Frozen Foods;Frozen Ready Meals       0.00      0.00      0.00         7\n",
      "         Fresh Foods & Bakery;Bulk & Loose Foods;Bulk Seeds, Legumes & Grains       0.26      0.36      0.30        14\n",
      "Fresh Foods & Bakery;Deli, Salads & Cooked Meats;Continental Sausage & Salami       0.56      0.90      0.69        40\n",
      "                                               Pantry;Confectionery;Christmas       0.12      0.11      0.12        45\n",
      "                                   Pantry;Canned & Prepared Foods;Packet Soup       0.86      0.89      0.87        35\n",
      "                                  Pantry;Canned & Prepared Foods;Canned Fruit       0.00      0.00      0.00         2\n",
      "                             Pantry;Baking Supplies & Sugar;Cooking Chocolate       0.49      0.91      0.64        33\n",
      "                                         Pantry;Snack Foods;Nut Bars & Snacks       0.91      1.00      0.95        10\n",
      "                                               Pantry;Confectionery;Liquorice       0.63      1.00      0.78        45\n",
      "                          Chilled, Frozen & Desserts;Cheese;Deli Cheeseboards       1.00      0.60      0.75         5\n",
      "                  Chilled, Frozen & Desserts;Desserts;Frozen Dessert Pastries       0.32      0.38      0.35        21\n",
      "                                           Pantry;Jams, Honey & Spreads;Honey       0.88      0.58      0.70        12\n",
      "                              Chilled, Frozen & Desserts;Cheese;Cheese Blocks       0.00      0.00      0.00        12\n",
      "                           Pantry;Pasta, Rice & Noodles;Wild & Coloured Rices       0.24      0.20      0.22        20\n",
      "                                                  Pantry;World Foods;Japanese       0.95      0.95      0.95        22\n",
      "                           Personal Care;Beauty & Grooming;Suncare & Self Tan       0.00      0.00      0.00         3\n",
      "                                       Pantry;Salad & Cooking Oils;Oil Sprays       0.50      0.83      0.62        23\n",
      "                                     Drinks;Cold Drinks;Fruit Drinks & Juices       0.10      0.18      0.13        17\n",
      "                                        Pantry;Confectionery;Chocolate Blocks       0.50      0.33      0.40         3\n",
      "                                                        Pantry;World Foods;UK       0.68      0.91      0.78        23\n",
      "                                                 Drinks;Cold Drinks;Iced Teas       1.00      0.20      0.33         5\n",
      "             Kitchen, Dining & Household;Stationery & Entertainment;Magazines       0.85      0.85      0.85        27\n",
      "                                  Pantry;Confectionery;Novelty Bars & Singles       0.64      0.70      0.67        10\n",
      "            Chilled, Frozen & Desserts;Desserts;Frozen Bavarians & Cheesecake       0.88      0.98      0.93        53\n",
      "                         Fresh Foods & Bakery;Fruit & Vegetables;Fresh Salads       0.67      0.20      0.31        10\n",
      "                                 Pantry;Hot Drinks;Chocolate Milk Drink Mixes       0.79      1.00      0.88        19\n",
      "                                          Beer, Cider & Wine;Beer & Cider;IPA       1.00      0.52      0.69        23\n",
      "                                       Pantry;Spices & Seasonings;Dried Herbs       0.00      0.00      0.00         7\n",
      "           Chilled, Frozen & Desserts;Dairy & Eggs;Sour Cream & Crème Fraiche       0.93      1.00      0.96        40\n",
      "                                Pantry;Biscuits & Crackers;Biscuits & Cookies       0.10      0.09      0.10        11\n",
      "                                   Pantry;Salad & Cooking Oils;Rice Bran Oils       1.00      1.00      1.00        24\n",
      "                            Fresh Foods & Bakery;Bakery;Fresh Cakes & Muffins       1.00      0.50      0.67         2\n",
      "                                    Pantry;Pasta, Rice & Noodles;Dried Pastas       1.00      1.00      1.00         9\n",
      "                                            Pets;Pet Supplies;Dog Accessories       1.00      0.88      0.93         8\n",
      "                                           Drinks;Cold Drinks;Non Dairy Milks       0.10      0.09      0.10        11\n",
      "                                       Pantry;Condiments & Dressings;Chutneys       1.00      0.33      0.50         9\n",
      "           Kitchen, Dining & Household;Cleaning Products;All Purpose Cleaners       1.00      0.95      0.97        20\n",
      "                             Kitchen, Dining & Household;Garage & Outdoor;BBQ       0.82      0.88      0.85        16\n",
      "                         Fresh Foods & Bakery;Dairy & Eggs;Fresh Organic Milk       0.50      0.65      0.57        23\n",
      "                          Chilled, Frozen & Desserts;Desserts;Frozen Puddings       0.67      0.93      0.78        15\n",
      "                                 Pantry;Jams, Honey & Spreads;Jam & Marmalade       1.00      0.88      0.93        24\n",
      "     Kitchen, Dining & Household;Cleaning Products;Bathroom & Shower Cleaners       0.00      0.00      0.00         6\n",
      "                                                   Pantry;World Foods;Mexican       0.17      0.12      0.14        16\n",
      "                               Fresh Foods & Bakery;Seafood;Fresh Smoked Fish       0.63      1.00      0.78        45\n",
      "                          Fresh Foods & Bakery;Fruit & Vegetables;Fresh Fruit       0.83      0.91      0.87        11\n",
      "    Fresh Foods & Bakery;Deli, Salads & Cooked Meats;Olives & Antipasti Mixes       1.00      0.96      0.98        26\n",
      "                                         Drinks;Hot Drinks;Coffee Substitutes       1.00      0.88      0.93         8\n",
      "                                      Pantry;Spices & Seasonings;Dried Spices       0.50      0.83      0.62        23\n",
      "                              Kitchen, Dining & Household;Household;Shoe Care       0.63      1.00      0.78        45\n",
      "                                             Pantry;World Foods;South African       1.00      0.38      0.55        16\n",
      "                                          Drinks;Cold Drinks;Vegetable Juices       0.75      0.96      0.84        28\n",
      "    Kitchen, Dining & Household;Stationery & Entertainment;Stationery & Craft       0.00      0.00      0.00         7\n",
      "                                        Pantry;Breakfast Cereals;Cold Cereals       0.50      0.83      0.62        23\n",
      "                         Pantry;Condiments & Dressings;Chilli & Pepper Sauces       1.00      0.64      0.78        14\n",
      "                                     Beer, Cider & Wine;Beer & Cider;Pale Ale       0.45      0.83      0.59         6\n",
      "                                   Pantry;Pasta, Rice & Noodles;Instant Rices       0.86      0.89      0.87        35\n",
      "                                         Pantry;Pasta, Rice & Noodles;Noodles       0.75      0.96      0.84        28\n",
      "                                Pantry;Pasta, Rice & Noodles;Long Grain Rices       0.53      1.00      0.69         9\n",
      "                        Kitchen, Dining & Household;Garage & Outdoor;Car Care       0.91      1.00      0.95        10\n",
      "            Kitchen, Dining & Household;Stationery & Entertainment;Newspapers       1.00      0.89      0.94         9\n",
      "                             Kitchen, Dining & Household;Laundry;Clothes Pegs       1.00      0.50      0.67         8\n",
      "                                     Pantry;Spices & Seasonings;Salt & Pepper       1.00      0.50      0.67        14\n",
      "                                     Pantry;Biscuits & Crackers;Rice Crackers       0.93      1.00      0.96        13\n",
      "             Chilled, Frozen & Desserts;Frozen Foods;Frozen Chicken & Poultry       0.59      1.00      0.75        41\n",
      "                                        Pantry;Condiments & Dressings;Pickles       0.50      0.65      0.57        23\n",
      "                                    Pantry;Canned & Prepared Foods;Soup Mixes       0.00      0.00      0.00         2\n",
      "                                   Pantry;Canned & Prepared Foods;Canned Meat       0.86      0.75      0.80         8\n",
      "                                               Beer, Cider & Wine;Wine;Shiraz       0.67      0.80      0.73        15\n",
      "                         Kitchen, Dining & Household;Laundry;Fabric Softeners       0.32      0.38      0.35        21\n",
      "                               Pantry;Sauces, Stock & Marinades;Tomato Sauces       0.67      0.80      0.73        15\n",
      "                                Fresh Foods & Bakery;Seafood;Fresh Whole Fish       0.84      0.81      0.82        26\n",
      "                                              Pantry;Hot Drinks;Fresh Coffees       0.82      0.88      0.85        16\n",
      "                   Beer, Cider & Wine;Beer & Cider;Specialty & Flavoured Beer       0.63      1.00      0.78        45\n",
      "                                    Baby, Toddler & Kids;Baby Care;Baby Wipes       0.57      0.80      0.67        15\n",
      "                                 Pantry;Hot Drinks;Coffee Additives & Filters       0.59      1.00      0.75        41\n",
      "                                  Pantry;Baking Supplies & Sugar;Baking Mixes       0.00      0.00      0.00         1\n",
      "                           Beer, Cider & Wine;Wine;Champagne & Sparkling Wine       0.88      0.58      0.70        12\n",
      "                             Fresh Foods & Bakery;Bakery;Garlic & Herb Breads       0.25      0.25      0.25         4\n",
      "                 Chilled, Frozen & Desserts;Dairy & Eggs;Yoghurt & Dairy Food       1.00      0.43      0.60         7\n",
      "                                              Pets;Pet Supplies;Bird Supplies       0.93      1.00      0.97        14\n",
      "                Pantry;Sauces, Stock & Marinades;Simmer & Stir-Through Sauces       0.70      0.64      0.67        11\n",
      "                                 Fresh Foods & Bakery;Butchery;Fresh Sausages       1.00      0.50      0.67         6\n",
      "                             Personal Care;Health & Wellness;Insect Repellent       0.77      0.89      0.83        19\n",
      "                                      Beer, Cider & Wine;Wine;Sauvignon Blanc       0.87      1.00      0.93        34\n",
      "     Kitchen, Dining & Household;Stationery & Entertainment;Toys & Recreation       0.24      0.20      0.22        20\n",
      "                                     Pantry;Sauces, Stock & Marinades;Gravies       0.75      0.63      0.69        19\n",
      "                                Pets;Pet Supplies;Fish & Aquatic Pet Supplies       0.12      0.11      0.12        45\n",
      "                                 Chilled, Frozen & Desserts;Dairy & Eggs;Eggs       0.84      0.84      0.84        25\n",
      "                        Chilled, Frozen & Desserts;Frozen Foods;Frozen Pastry       0.92      0.92      0.92        13\n",
      "          Fresh Foods & Bakery;Deli, Salads & Cooked Meats;Dips, Pesto & Pate       0.79      0.96      0.87        28\n",
      "                                                 Pantry;Hot Drinks;Black Teas       0.92      1.00      0.96        12\n",
      "                               Personal Care;Beauty & Grooming;Hair Colouring       1.00      0.25      0.40         4\n",
      "                                        Pantry;Biscuits & Crackers;Rice Cakes       0.00      0.00      0.00         4\n",
      "                                                      Pantry;World Foods;Thai       0.89      0.73      0.80        11\n",
      "                                              Pantry;Snack Foods;Potato Chips       0.00      0.00      0.00         3\n",
      "                           Pantry;Canned & Prepared Foods;Pizza & Pizza Bases       0.67      0.93      0.78        15\n",
      "                           Kitchen, Dining & Household;Household;Food Storage       0.29      0.33      0.31         6\n",
      "                                   Meal Spot;Ready to Heat;Frozen Ready Meals       0.63      1.00      0.78        45\n",
      "                        Chilled, Frozen & Desserts;Dairy & Eggs;Yoghurt Bases       0.75      0.50      0.60         6\n",
      "                   Beer, Cider & Wine;Beer & Cider;Stout, Porter & Black Beer       0.78      1.00      0.88         7\n",
      "                      Pantry;Biscuits & Crackers;Assorted Biscuits & Crackers       0.86      0.80      0.83        15\n",
      "                                      Pantry;Salad & Cooking Oils;Cooking Fat       0.95      0.98      0.97        43\n",
      "                              Baby, Toddler & Kids;Baby Care;Baby Dental Care       0.00      0.00      0.00        11\n",
      "                        Fresh Foods & Bakery;Bakery;Fresh Desserts & Pastries       0.78      0.37      0.50        19\n",
      "                                           Beer, Cider & Wine;Wine;Pinot Noir       1.00      0.50      0.67         2\n",
      "                              Chilled, Frozen & Desserts;Cheese;Grated Cheese       0.73      0.61      0.67        18\n",
      "                                                  Pantry;Hot Drinks;Chai Teas       1.00      0.67      0.80         6\n",
      "                          Chilled, Frozen & Desserts;Cheese;Specialty Cheeses       0.91      1.00      0.95        10\n",
      "                     Chilled, Frozen & Desserts;Cheese;Deli Specialty Cheeses       0.86      0.89      0.87        35\n",
      "              Chilled, Frozen & Desserts;Frozen Foods;Frozen Fries & Potatoes       0.95      0.98      0.97        43\n",
      "                                                       Pantry;World Foods;USA       0.75      0.98      0.85        49\n",
      "                            Pantry;Baking Supplies & Sugar;Icing & Decorating       0.82      0.86      0.84        21\n",
      "                              Fresh Foods & Bakery;Butchery;Fresh Beef & Lamb       0.69      0.90      0.78        20\n",
      "                                     Pantry;Salad & Cooking Oils;Coconut Oils       0.00      0.00      0.00         4\n",
      "                                                    Pantry;World Foods;Korean       0.93      0.96      0.95        27\n",
      "                    Chilled, Frozen & Desserts;Frozen Foods;Frozen Vegetables       1.00      0.33      0.50         9\n",
      "                       Chilled, Frozen & Desserts;Cheese;Deli Cabinet Cheeses       0.67      0.50      0.57         8\n",
      "                                               Drinks;Cold Drinks;Soft Drinks       0.48      0.82      0.61        17\n",
      "                                   Pantry;Hot Drinks;Coffee Flavoured Sachets       0.83      0.91      0.87        11\n",
      "                              Pantry;Biscuits & Crackers;Crème & Jam Biscuits       0.86      0.80      0.83        15\n",
      "                                            Beer, Cider & Wine;Wine;Cask Wine       0.57      0.80      0.67        15\n",
      "                 Chilled, Frozen & Desserts;Dairy & Eggs;Dairy & Lactose Free       0.00      0.00      0.00         3\n",
      "                        Pantry;Pasta, Rice & Noodles;Specialty Grains & Seeds       1.00      0.92      0.96        13\n",
      "                               Chilled, Frozen & Desserts;Cheese;Cream Cheese       0.95      0.95      0.95        22\n",
      "                                               Pantry;Snack Foods;Snack Mixes       0.00      0.00      0.00         9\n",
      "                              Personal Care;Health & Wellness;Allergy & Sinus       0.86      0.89      0.87        35\n",
      "                                               Beer, Cider & Wine;Wine;Merlot       0.78      0.37      0.50        19\n",
      "                                                    Pantry;World Foods;Indian       0.88      0.98      0.93        53\n",
      "                                 Pantry;Jams, Honey & Spreads;Savoury Spreads       0.86      0.89      0.87        35\n",
      "               Fresh Foods & Bakery;Dairy & Eggs;Long Life Milk & Milk Powder       0.93      1.00      0.96        40\n",
      "                                          Meal Spot;Ready to Eat;Fresh Salads       0.47      0.69      0.56        13\n",
      "                Kitchen, Dining & Household;Household;Batteries & Light Bulbs       0.75      0.63      0.69        19\n",
      " Fresh Foods & Bakery;Deli, Salads & Cooked Meats;PreCooked Chicken & Poultry       1.00      0.50      0.67         8\n",
      "                           Beer, Cider & Wine;Beer & Cider;Apple & Pear Cider       0.67      0.95      0.78        19\n",
      "                       Personal Care;Beauty & Grooming;Shaving & Hair Removal       0.10      0.09      0.10        11\n",
      "                                  Personal Care;Health & Wellness;Pain Relief       0.75      0.98      0.85        49\n",
      "                     Fresh Foods & Bakery;Bulk & Loose Foods;Bulk Dried Fruit       0.93      1.00      0.96        13\n",
      "                            Pantry;Sauces, Stock & Marinades;Specialty Sauces       0.71      1.00      0.83        15\n",
      "                                            Pantry;Hot Drinks;Instant Coffees       0.91      1.00      0.95        10\n",
      "                           Personal Care;Beauty & Grooming;Makeup & Cosmetics       1.00      0.80      0.89        15\n",
      "                                                 Drinks;Hot Drinks;Green Teas       0.95      1.00      0.98        20\n",
      "                                                 Pantry;Hot Drinks;Green Teas       0.57      1.00      0.73        12\n",
      "                                 Meal Spot;Ready to Heat;Frozen Pizza & Bases       0.00      0.00      0.00         3\n",
      "                                Fresh Foods & Bakery;Dairy & Eggs;Fresh Cream       0.48      0.82      0.61        17\n",
      "                                          Drinks;Cold Drinks;Sparkling Juices       0.49      0.91      0.64        33\n",
      "                           Fresh Foods & Bakery;Fruit & Vegetables;Salad Bags       0.88      0.98      0.93        53\n",
      "                                      Beer, Cider & Wine;Beer & Cider;Pilsner       0.13      0.20      0.16        35\n",
      "                                                     Pantry;Snack Foods;Chips       0.20      0.12      0.15         8\n",
      "                           Chilled, Frozen & Desserts;Dairy & Eggs;Fresh Milk       0.22      0.44      0.29        16\n",
      "                     Fresh Foods & Bakery;Fruit & Vegetables;Fresh Vegetables       0.80      0.86      0.83        14\n",
      "              Kitchen, Dining & Household;Garage & Outdoor;Gardening Supplies       0.22      0.25      0.24         8\n",
      "                       Pantry;Sauces, Stock & Marinades;Curry Pastes & Sauces       1.00      0.96      0.98        26\n",
      "                                              Meal Spot;Ready to Cook;Mexican       0.00      0.00      0.00         2\n",
      "                            Kitchen, Dining & Household;Laundry;Clothing Dyes       0.22      0.25      0.24         8\n",
      "                                            Drinks;Hot Drinks;Coffee Capsules       0.26      0.25      0.26        20\n",
      "                              Pantry;Biscuits & Crackers;Plain Sweet Biscuits       0.95      0.95      0.95        22\n",
      "                                                   Pets;Pet Supplies;Dog Food       0.27      0.96      0.42        51\n",
      "                            Fresh Foods & Bakery;Bulk & Loose Foods;Bulk Nuts       1.00      0.92      0.96        13\n",
      "                            Personal Care;Beauty & Grooming;Apparel & Hosiery       1.00      0.95      0.97        20\n",
      "                                               Pantry;Snack Foods;Muesli Bars       0.69      0.95      0.80        21\n",
      "                    Chilled, Frozen & Desserts;Desserts;Ice Blocks & Ice Pops       1.00      0.64      0.78        14\n",
      "                             Kitchen, Dining & Household;Household;Fire Needs       1.00      0.62      0.77         8\n",
      "                                 Drinks;Cold Drinks;Squash, Syrups & Cordials       0.91      1.00      0.95        10\n",
      "                                   Pantry;Canned & Prepared Foods;Canned Fish       1.00      0.94      0.97        16\n",
      "                                 Drinks;Hot Drinks;Chocolate Milk Drink Mixes       1.00      0.38      0.55        16\n",
      "                              Meal Spot;Ready to Heat;Chilled Pies & Pastries       0.00      0.00      0.00         5\n",
      "                                         Pantry;Condiments & Dressings;Relish       0.77      0.89      0.83        19\n",
      "                           Fresh Foods & Bakery;Dairy & Eggs;Butter & Spreads       0.00      0.00      0.00         1\n",
      "                          Chilled, Frozen & Desserts;Frozen Foods;Frozen Fish       0.00      0.00      0.00         7\n",
      "                                          Meal Spot;Ready to Heat;Ready Meals       0.52      1.00      0.69        11\n",
      "                       Personal Care;Beauty & Grooming;Hair Care & Treatments       0.68      0.91      0.78        23\n",
      "                  Kitchen, Dining & Household;Household;Rubbish & Vacuum Bags       1.00      0.52      0.69        23\n",
      "                                                 Pets;Pet Supplies;Dog Treats       0.25      0.80      0.39        20\n",
      "                                    Pantry;Canned & Prepared Foods;Vegetarian       0.32      0.38      0.35        21\n",
      "             Kitchen, Dining & Household;Cleaning Products;Dishwashing Liquid       0.88      0.98      0.93        53\n",
      "                      Personal Care;Health & Wellness;Contact Lens & Eye Care       0.00      0.00      0.00         3\n",
      "                                Pantry;Sauces, Stock & Marinades;Pasta Sauces       0.00      0.00      0.00         6\n",
      "                          Kitchen, Dining & Household;Laundry;Laundry Powders       0.60      1.00      0.75         3\n",
      "                   Kitchen, Dining & Household;Cleaning Products;Paper Towels       0.75      0.98      0.85        49\n",
      "                        Fresh Foods & Bakery;Butchery;Fresh Chicken & Poultry       1.00      0.20      0.33         5\n",
      "     Kitchen, Dining & Household;Cleaning Products;Furniture & Metal Polishes       1.00      0.96      0.98        26\n",
      "                                                   Pets;Pet Supplies;Cat Food       0.15      0.15      0.15        20\n",
      "                                   Pantry;Baking Supplies & Sugar;Dried Fruit       0.93      1.00      0.96        40\n",
      "                       Kitchen, Dining & Household;Cleaning Products;Bleaches       0.64      0.96      0.77        48\n",
      "                                         Meal Spot;Ready to Eat;Seafood Salad       0.29      0.33      0.31         6\n",
      "                  Kitchen, Dining & Household;Household;Pest & Insect Control       0.64      0.56      0.60        16\n",
      "                                     Beer, Cider & Wine;Wine;Other White Wine       0.68      0.90      0.78        21\n",
      "                                    Personal Care;Health & Wellness;First Aid       0.87      1.00      0.93        34\n",
      "                                    Pantry;Pasta, Rice & Noodles;Fresh Pastas       0.50      0.83      0.62        23\n",
      "                              Pantry;Baking Supplies & Sugar;Baking Additives       0.64      0.96      0.77        48\n",
      "                                            Pets;Pet Supplies;Cat Accessories       1.00      0.96      0.98        26\n",
      "                       Pantry;Canned & Prepared Foods;Baked Beans & Spaghetti       0.00      0.00      0.00         6\n",
      "                                   Pantry;Canned & Prepared Foods;Ready Meals       0.82      0.88      0.85        16\n",
      "                        Beer, Cider & Wine;Beer & Cider;Lighter Alcohol Beers       0.83      0.77      0.80        13\n",
      "       Fresh Foods & Bakery;Deli, Salads & Cooked Meats;PreCooked Beef & Lamb       0.63      1.00      0.78        45\n",
      "                              Fresh Foods & Bakery;Dairy & Eggs;Yoghurt Bases       0.64      0.56      0.60        16\n",
      "                                       Pantry;Snack Foods;Cereal & Snack Bars       0.56      0.38      0.45        13\n",
      "                                                 Drinks;Hot Drinks;Black Teas       0.71      1.00      0.83        15\n",
      "                             Kitchen, Dining & Household;Laundry;Laundry Soap       0.82      0.88      0.85        16\n",
      "         Fresh Foods & Bakery;Deli, Salads & Cooked Meats;Specialty Dry Goods       0.88      0.98      0.93        53\n",
      "                       Fresh Foods & Bakery;Dairy & Eggs;Dairy & Lactose Free       1.00      0.71      0.83         7\n",
      "                                 Drinks;Hot Drinks;Coffee Additives & Filters       0.95      0.98      0.97        43\n",
      "                     Chilled, Frozen & Desserts;Desserts;Meringues & Pavlovas       0.75      0.96      0.84        28\n",
      "                             Personal Care;Beauty & Grooming;Hand & Body Care       0.20      0.33      0.25        15\n",
      "                             Kitchen, Dining & Household;Household;Manchester       0.68      0.91      0.78        23\n",
      "                                               Drinks;Cold Drinks;Still Water       1.00      0.60      0.75        10\n",
      "                                   Pantry;Sauces, Stock & Marinades;Marinades       0.88      0.98      0.93        53\n",
      "                            Fresh Foods & Bakery;Bakery;Organic & Gluten Free       0.95      0.98      0.97        43\n",
      "                             Pantry;Sauces, Stock & Marinades;Stir Fry Sauces       0.26      0.36      0.30        14\n",
      "                                             Pantry;Snack Foods;Dips & Salsas       0.00      0.00      0.00         7\n",
      "                         Pantry;Baking Supplies & Sugar;Essences & Colourings       0.84      0.81      0.82        26\n",
      "               Fresh Foods & Bakery;Bulk & Loose Foods;Bulk Breakfast Cereals       0.26      0.25      0.26        20\n",
      "                      Kitchen, Dining & Household;Household;Food Wraps & Bags       0.95      0.98      0.97        43\n",
      "                      Pantry;Sauces, Stock & Marinades;Tomato Pastes & Purees       0.88      0.98      0.93        53\n",
      "                          Fresh Foods & Bakery;Fruit & Vegetables;Fresh Herbs       0.73      0.53      0.62        15\n",
      "                  Fresh Foods & Bakery;Deli, Salads & Cooked Meats;Ham & Pork       0.84      0.95      0.89        22\n",
      "                                Pantry;Condiments & Dressings;Barbeque Sauces       0.50      0.50      0.50        10\n",
      "                                        Pantry;Confectionery;Boxed Chocolates       0.75      0.64      0.69        14\n",
      "                      Fresh Foods & Bakery;Butchery;Fresh Venison & Game Meat       0.93      1.00      0.97        14\n",
      "                          Fresh Foods & Bakery;Bakery;Fresh Biscuits & Slices       1.00      0.83      0.91         6\n",
      "                                   Pantry;Confectionery;Chocolate Family Bags       1.00      0.20      0.33         5\n",
      "                      Baby, Toddler & Kids;Baby Care;Baby Bathing & Skin Care       0.00      0.00      0.00         7\n",
      "                           Beer, Cider & Wine;Beer & Cider;European-style Ale       0.00      0.00      0.00         4\n",
      "                  Fresh Foods & Bakery;Bulk & Loose Foods;Bulk Snacks & Mixes       1.00      0.62      0.76        13\n",
      "                                           Drinks;Cold Drinks;Powdered Drinks       0.63      1.00      0.78        45\n",
      "        Fresh Foods & Bakery;Deli, Salads & Cooked Meats;Fresh Deli Savouries       0.12      0.11      0.12        45\n",
      "                                     Pantry;Condiments & Dressings;Mayonnaise       1.00      1.00      1.00        24\n",
      "                                   Drinks;Hot Drinks;Coffee Flavoured Sachets       0.75      1.00      0.86         9\n",
      "                    Fresh Foods & Bakery;Butchery;PrePacked Chicken & Poultry       0.25      0.80      0.39        20\n",
      "                 Chilled, Frozen & Desserts;Frozen Foods;Frozen Bread & Dough       0.95      0.98      0.97        43\n",
      "                         Chilled, Frozen & Desserts;Desserts;Chilled Custards       0.17      0.08      0.11        12\n",
      "                                 Pantry;Canned & Prepared Foods;Chilled Soups       0.78      1.00      0.88         7\n",
      "                                                 Pets;Pet Supplies;Cat Treats       0.79      1.00      0.88        19\n",
      "                                 Pantry;Baking Supplies & Sugar;Baking Syrups       0.00      0.00      0.00         4\n",
      "                                        Meal Spot;Ready to Cook;Simply DINNER       0.00      0.00      0.00         2\n",
      "                             Baby, Toddler & Kids;Baby Care;Nursing & Feeding       0.83      0.83      0.83         6\n",
      "                      Kitchen, Dining & Household;Laundry;Fine Fabric Washers       0.67      0.95      0.78        19\n",
      "                                      Pets;Pet Supplies;Small Animal Supplies       0.14      0.14      0.14         7\n",
      "                             Beer, Cider & Wine;Beer & Cider;Brewing Supplies       0.67      0.80      0.73        15\n",
      "                                Fresh Foods & Bakery;Seafood;Fresh Fish Heads       0.17      0.12      0.14        16\n",
      "                  Fresh Foods & Bakery;Deli, Salads & Cooked Meats;Deli Meats       0.59      1.00      0.75        41\n",
      "                         Chilled, Frozen & Desserts;Frozen Foods;Frozen Fruit       0.17      0.12      0.14        16\n",
      "                                            Drinks;Hot Drinks;Instant Coffees       0.00      0.00      0.00         3\n",
      "                         Fresh Foods & Bakery;Bakery;Muffin Splits & Crumpets       0.25      0.80      0.39        20\n",
      "                                 Fresh Foods & Bakery;Bakery;Specialty Breads       1.00      0.17      0.29         6\n",
      "                              Drinks;Cold Drinks;Drinking Yoghurt & Smoothies       0.00      0.00      0.00         3\n",
      "                 Chilled, Frozen & Desserts;Desserts;Ice Cream Cones & Wafers       0.27      0.96      0.42        51\n",
      "                     Pantry;Canned & Prepared Foods;Canned & Dried Vegetables       0.49      0.91      0.64        33\n",
      "                                     Pantry;Confectionery;Chewing Gum & Mints       0.56      0.83      0.67         6\n",
      "                           Fresh Foods & Bakery;Seafood;Frozen Fish & Seafood       1.00      1.00      1.00         8\n",
      "                                           Beer, Cider & Wine;Wine;Chardonnay       0.85      0.85      0.85        27\n",
      "                     Fresh Foods & Bakery;Seafood;Fresh Fish Fillets & Steaks       0.00      0.00      0.00         3\n",
      "                              Personal Care;Health & Wellness;Family Planning       0.88      0.98      0.93        53\n",
      "                           Pantry;Baking Supplies & Sugar;Baking Nuts & Seeds       0.59      0.59      0.59        17\n",
      "                        Pantry;Sauces, Stock & Marinades;Chilled Pasta Sauces       0.32      0.38      0.35        21\n",
      "                       Fresh Foods & Bakery;Dairy & Eggs;Yoghurt & Dairy Food       1.00      0.50      0.67         4\n",
      "             Chilled, Frozen & Desserts;Frozen Foods;Frozen Beef, Lamb & Pork       0.56      0.90      0.69        40\n",
      "                   Chilled, Frozen & Desserts;Dairy & Eggs;Fresh Organic Milk       0.35      0.38      0.36        21\n",
      "                                 Fresh Foods & Bakery;Meal Kits;Simply DINNER       0.95      0.95      0.95        22\n",
      "                                        Drinks;Hot Drinks;Fruit & Herbal Teas       0.80      1.00      0.89         4\n",
      "                            Beer, Cider & Wine;Beer & Cider;British-style Ale       0.67      0.80      0.73        15\n",
      "                                  Meal Spot;Ready to Heat;Pizza & Pizza Bases       0.00      0.00      0.00         9\n",
      "                             Kitchen, Dining & Household;Household;Electrical       0.13      0.20      0.16        35\n",
      "                                     Pantry;Salad & Cooking Oils;Avocado Oils       1.00      1.00      1.00         9\n",
      "                                         Pantry;Baking Supplies & Sugar;Flour       0.27      0.14      0.18        22\n",
      "                                                 Beer, Cider & Wine;Wine;Rose       0.86      0.80      0.83        15\n",
      "                                         Pantry;Condiments & Dressings;Olives       0.79      0.96      0.87        28\n",
      "                 Kitchen, Dining & Household;Laundry;Washing Machine Cleaners       0.92      1.00      0.96        12\n",
      "          Kitchen, Dining & Household;Cleaning Products;Dishwasher Detergents       0.67      0.95      0.78        19\n",
      "                                          Pantry;World Foods;South East Asian       0.75      0.96      0.84        28\n",
      "                                   Pantry;Spices & Seasonings;Garlic & Ginger       0.56      0.83      0.67         6\n",
      "           Kitchen, Dining & Household;Household;Air Fresheners & Deodorisers       0.70      0.64      0.67        11\n",
      "                              Pantry;Jams, Honey & Spreads;Marmite & Vegemite       0.79      0.96      0.87        28\n",
      "                                         Pantry;Breakfast Cereals;Hot Cereals       0.14      0.18      0.16        11\n",
      "                           Pantry;Canned & Prepared Foods;Canned Milk & Cream       0.32      0.38      0.35        21\n",
      "                                      Drinks;Cold Drinks;Chilled Fruit Juices       0.10      0.09      0.10        11\n",
      "                               Fresh Foods & Bakery;Bakery;Bread Rolls & Buns       0.82      0.86      0.84        21\n",
      "                                       Pantry;Condiments & Dressings;Vinegars       0.49      0.91      0.64        33\n",
      "                             Fresh Foods & Bakery;Butchery;PrePacked Sausages       0.50      0.65      0.57        23\n",
      "                Chilled, Frozen & Desserts;Desserts;Jelly & Powdered Desserts       0.15      0.15      0.15        20\n",
      "                                   Fresh Foods & Bakery;Seafood;Seafood Salad       1.00      0.88      0.93         8\n",
      "                      Pantry;Pasta, Rice & Noodles;Short & Medium Grain Rices       0.26      0.25      0.26        20\n",
      "                                           Beer, Cider & Wine;Wine;Pinot Gris       0.56      0.90      0.69        40\n",
      "                                         Meal Spot;Ready to Cook;Noodle Meals       0.26      0.25      0.26        20\n",
      "                                 Pantry;Breakfast Cereals;Breakfast On The Go       0.68      0.91      0.78        23\n",
      "                                          Meal Spot;Ready to Heat;Packet Soup       0.17      0.08      0.11        12\n",
      "                    Chilled, Frozen & Desserts;Frozen Foods;Frozen Vegetarian       0.93      1.00      0.96        40\n",
      "                                  Pantry;Spices & Seasonings;Chilli & Paprika       0.32      0.38      0.35        21\n",
      "                                     Pantry;Jams, Honey & Spreads;Nut Spreads       1.00      0.88      0.93         8\n",
      "                                   Pantry;Pasta, Rice & Noodles;Jasmine Rices       0.00      0.00      0.00         3\n",
      "                          Fresh Foods & Bakery;Butchery;PrePacked Beef & Lamb       0.32      0.38      0.35        21\n",
      "           Fresh Foods & Bakery;Fruit & Vegetables;PrePacked Fresh Vegetables       0.00      0.00      0.00         3\n",
      "       Kitchen, Dining & Household;Cleaning Products;Dishwasher Rinse & Clean       1.00      0.92      0.96        13\n",
      "                                           Drinks;Cold Drinks;Flavoured Water       0.17      0.08      0.11        12\n",
      "\n",
      "                                                                    micro avg       0.61      0.75      0.68     65240\n",
      "                                                                    macro avg       0.61      0.62      0.59     65240\n",
      "                                                                 weighted avg       0.66      0.75      0.68     65240\n",
      "\n"
     ]
    },
    {
     "name": "stderr",
     "output_type": "stream",
     "text": [
      "d:\\python\\lib\\site-packages\\sklearn\\metrics\\_classification.py:1245: UndefinedMetricWarning: Recall is ill-defined and being set to 0.0 in labels with no true samples. Use `zero_division` parameter to control this behavior.\n",
      "  _warn_prf(average, modifier, msg_start, len(result))\n",
      "d:\\python\\lib\\site-packages\\sklearn\\metrics\\_classification.py:1982: UserWarning: labels size, 3616, does not match size of target_names, 429\n",
      "  warnings.warn(\n",
      "d:\\python\\lib\\site-packages\\sklearn\\metrics\\_classification.py:1245: UndefinedMetricWarning: Precision and F-score are ill-defined and being set to 0.0 in labels with no predicted samples. Use `zero_division` parameter to control this behavior.\n",
      "  _warn_prf(average, modifier, msg_start, len(result))\n",
      "d:\\python\\lib\\site-packages\\sklearn\\metrics\\_classification.py:1245: UndefinedMetricWarning: Precision and F-score are ill-defined and being set to 0.0 in labels with no predicted samples. Use `zero_division` parameter to control this behavior.\n",
      "  _warn_prf(average, modifier, msg_start, len(result))\n",
      "d:\\python\\lib\\site-packages\\sklearn\\metrics\\_classification.py:1245: UndefinedMetricWarning: Precision and F-score are ill-defined and being set to 0.0 in labels with no predicted samples. Use `zero_division` parameter to control this behavior.\n",
      "  _warn_prf(average, modifier, msg_start, len(result))\n"
     ]
    }
   ],
   "source": [
    "x_train, x_test, y_train, y_test = train_test_split(reduced, labels, test_size=0.25, random_state=3)\n",
    "model.fit(x_train, y_train)\n",
    "predict_labels = model.predict(x_test)\n",
    "predict_labels = [np.round(p) for p in predict_labels]\n",
    "max_label = len(id2label) - 1\n",
    "predict_labels = [l if max_label >= l else max_label for l in predict_labels]\n",
    "min_label = 0\n",
    "predict_labels = [l if min_label <= l else min_label for l in predict_labels]\n",
    "evaluation(predict_labels, y_test, id2label, \"logistic\")\n"
   ],
   "metadata": {
    "collapsed": false,
    "pycharm": {
     "name": "#%%\n"
    }
   }
  }
 ],
 "metadata": {
  "kernelspec": {
   "display_name": "Python 3",
   "language": "python",
   "name": "python3"
  },
  "language_info": {
   "codemirror_mode": {
    "name": "ipython",
    "version": 2
   },
   "file_extension": ".py",
   "mimetype": "text/x-python",
   "name": "python",
   "nbconvert_exporter": "python",
   "pygments_lexer": "ipython2",
   "version": "2.7.6"
  }
 },
 "nbformat": 4,
 "nbformat_minor": 0
}