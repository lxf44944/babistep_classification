{
 "cells": [
  {
   "cell_type": "code",
   "execution_count": 1,
   "metadata": {
    "collapsed": true
   },
   "outputs": [],
   "source": [
    "import pandas as pd\n",
    "import matplotlib.pyplot as plot\n",
    "import re\n",
    "from sklearn.metrics import accuracy_score, recall_score, f1_score, classification_report\n",
    "from sklearn.feature_extraction.text import TfidfVectorizer\n"
   ]
  },
  {
   "cell_type": "code",
   "execution_count": 2,
   "outputs": [
    {
     "data": {
      "text/plain": "                                        ProductName               level_1  \\\n0                             Johnson's Baby Lotion  Baby, Toddler & Kids   \n1                                Johnson's Baby Oil  Baby, Toddler & Kids   \n2  SMA Balanced Nutrition From Birth Infant Formula  Baby, Toddler & Kids   \n3                             Johnson's Baby Powder  Baby, Toddler & Kids   \n4                             Johnson's Baby Powder  Baby, Toddler & Kids   \n\n     level_2                      level_3  PricePerItem PriceMode  \\\n0  Baby Care     Baby Bathing & Skin Care          4.89        ea   \n1  Baby Care     Baby Bathing & Skin Care          4.89        ea   \n2  Baby Care  Baby Formula & Toddler Food         17.99        ea   \n3  Baby Care           Nappies & Changing          2.99        ea   \n4  Baby Care           Nappies & Changing          4.89        ea   \n\n   HasMultiBuyDeal MultiBuyDeal  MultiBuyBasePrice  MultiBuyPrice  \\\n0            False          NaN               4.89            NaN   \n1            False          NaN               4.89            NaN   \n2            False          NaN              17.99          17.99   \n3            False          NaN               2.99           2.99   \n4            False          NaN               4.89            NaN   \n\n   MultiBuyQuantity PromoBadgeImageLabel  \n0               NaN                  NaN  \n1               NaN                  NaN  \n2               1.0                Saver  \n3               1.0                Saver  \n4               NaN                  NaN  ",
      "text/html": "<div>\n<style scoped>\n    .dataframe tbody tr th:only-of-type {\n        vertical-align: middle;\n    }\n\n    .dataframe tbody tr th {\n        vertical-align: top;\n    }\n\n    .dataframe thead th {\n        text-align: right;\n    }\n</style>\n<table border=\"1\" class=\"dataframe\">\n  <thead>\n    <tr style=\"text-align: right;\">\n      <th></th>\n      <th>ProductName</th>\n      <th>level_1</th>\n      <th>level_2</th>\n      <th>level_3</th>\n      <th>PricePerItem</th>\n      <th>PriceMode</th>\n      <th>HasMultiBuyDeal</th>\n      <th>MultiBuyDeal</th>\n      <th>MultiBuyBasePrice</th>\n      <th>MultiBuyPrice</th>\n      <th>MultiBuyQuantity</th>\n      <th>PromoBadgeImageLabel</th>\n    </tr>\n  </thead>\n  <tbody>\n    <tr>\n      <th>0</th>\n      <td>Johnson's Baby Lotion</td>\n      <td>Baby, Toddler &amp; Kids</td>\n      <td>Baby Care</td>\n      <td>Baby Bathing &amp; Skin Care</td>\n      <td>4.89</td>\n      <td>ea</td>\n      <td>False</td>\n      <td>NaN</td>\n      <td>4.89</td>\n      <td>NaN</td>\n      <td>NaN</td>\n      <td>NaN</td>\n    </tr>\n    <tr>\n      <th>1</th>\n      <td>Johnson's Baby Oil</td>\n      <td>Baby, Toddler &amp; Kids</td>\n      <td>Baby Care</td>\n      <td>Baby Bathing &amp; Skin Care</td>\n      <td>4.89</td>\n      <td>ea</td>\n      <td>False</td>\n      <td>NaN</td>\n      <td>4.89</td>\n      <td>NaN</td>\n      <td>NaN</td>\n      <td>NaN</td>\n    </tr>\n    <tr>\n      <th>2</th>\n      <td>SMA Balanced Nutrition From Birth Infant Formula</td>\n      <td>Baby, Toddler &amp; Kids</td>\n      <td>Baby Care</td>\n      <td>Baby Formula &amp; Toddler Food</td>\n      <td>17.99</td>\n      <td>ea</td>\n      <td>False</td>\n      <td>NaN</td>\n      <td>17.99</td>\n      <td>17.99</td>\n      <td>1.0</td>\n      <td>Saver</td>\n    </tr>\n    <tr>\n      <th>3</th>\n      <td>Johnson's Baby Powder</td>\n      <td>Baby, Toddler &amp; Kids</td>\n      <td>Baby Care</td>\n      <td>Nappies &amp; Changing</td>\n      <td>2.99</td>\n      <td>ea</td>\n      <td>False</td>\n      <td>NaN</td>\n      <td>2.99</td>\n      <td>2.99</td>\n      <td>1.0</td>\n      <td>Saver</td>\n    </tr>\n    <tr>\n      <th>4</th>\n      <td>Johnson's Baby Powder</td>\n      <td>Baby, Toddler &amp; Kids</td>\n      <td>Baby Care</td>\n      <td>Nappies &amp; Changing</td>\n      <td>4.89</td>\n      <td>ea</td>\n      <td>False</td>\n      <td>NaN</td>\n      <td>4.89</td>\n      <td>NaN</td>\n      <td>NaN</td>\n      <td>NaN</td>\n    </tr>\n  </tbody>\n</table>\n</div>"
     },
     "execution_count": 2,
     "metadata": {},
     "output_type": "execute_result"
    }
   ],
   "source": [
    "columns = [\"ProductName\", \"level_1\", \"level_2\", \"level_3\", \"PricePerItem\", \"PriceMode\", \"HasMultiBuyDeal\",\n",
    "           \"MultiBuyDeal\", \"MultiBuyBasePrice\", \"MultiBuyPrice\", \"MultiBuyQuantity\", \"PromoBadgeImageLabel\"]\n",
    "df = pd.read_csv(\"data.csv\", usecols=columns)\n",
    "df.drop_duplicates(inplace=True)\n",
    "df.head(5)"
   ],
   "metadata": {
    "collapsed": false,
    "pycharm": {
     "name": "#%%\n"
    }
   }
  },
  {
   "cell_type": "code",
   "execution_count": 3,
   "outputs": [
    {
     "data": {
      "text/plain": "                                        ProductName               level_1  \\\n0                              johnsons baby lotion  Baby, Toddler & Kids   \n1                                 johnsons baby oil  Baby, Toddler & Kids   \n2  sma balanced nutrition from birth infant formula  Baby, Toddler & Kids   \n3                              johnsons baby powder  Baby, Toddler & Kids   \n4                              johnsons baby powder  Baby, Toddler & Kids   \n\n     level_2                      level_3  PricePerItem PriceMode  \\\n0  Baby Care     Baby Bathing & Skin Care          4.89        ea   \n1  Baby Care     Baby Bathing & Skin Care          4.89        ea   \n2  Baby Care  Baby Formula & Toddler Food         17.99        ea   \n3  Baby Care           Nappies & Changing          2.99        ea   \n4  Baby Care           Nappies & Changing          4.89        ea   \n\n   HasMultiBuyDeal MultiBuyDeal  MultiBuyBasePrice  MultiBuyPrice  \\\n0            False          NaN               4.89            NaN   \n1            False          NaN               4.89            NaN   \n2            False          NaN              17.99          17.99   \n3            False          NaN               2.99           2.99   \n4            False          NaN               4.89            NaN   \n\n   MultiBuyQuantity PromoBadgeImageLabel  \n0               NaN                  NaN  \n1               NaN                  NaN  \n2               1.0                Saver  \n3               1.0                Saver  \n4               NaN                  NaN  ",
      "text/html": "<div>\n<style scoped>\n    .dataframe tbody tr th:only-of-type {\n        vertical-align: middle;\n    }\n\n    .dataframe tbody tr th {\n        vertical-align: top;\n    }\n\n    .dataframe thead th {\n        text-align: right;\n    }\n</style>\n<table border=\"1\" class=\"dataframe\">\n  <thead>\n    <tr style=\"text-align: right;\">\n      <th></th>\n      <th>ProductName</th>\n      <th>level_1</th>\n      <th>level_2</th>\n      <th>level_3</th>\n      <th>PricePerItem</th>\n      <th>PriceMode</th>\n      <th>HasMultiBuyDeal</th>\n      <th>MultiBuyDeal</th>\n      <th>MultiBuyBasePrice</th>\n      <th>MultiBuyPrice</th>\n      <th>MultiBuyQuantity</th>\n      <th>PromoBadgeImageLabel</th>\n    </tr>\n  </thead>\n  <tbody>\n    <tr>\n      <th>0</th>\n      <td>johnsons baby lotion</td>\n      <td>Baby, Toddler &amp; Kids</td>\n      <td>Baby Care</td>\n      <td>Baby Bathing &amp; Skin Care</td>\n      <td>4.89</td>\n      <td>ea</td>\n      <td>False</td>\n      <td>NaN</td>\n      <td>4.89</td>\n      <td>NaN</td>\n      <td>NaN</td>\n      <td>NaN</td>\n    </tr>\n    <tr>\n      <th>1</th>\n      <td>johnsons baby oil</td>\n      <td>Baby, Toddler &amp; Kids</td>\n      <td>Baby Care</td>\n      <td>Baby Bathing &amp; Skin Care</td>\n      <td>4.89</td>\n      <td>ea</td>\n      <td>False</td>\n      <td>NaN</td>\n      <td>4.89</td>\n      <td>NaN</td>\n      <td>NaN</td>\n      <td>NaN</td>\n    </tr>\n    <tr>\n      <th>2</th>\n      <td>sma balanced nutrition from birth infant formula</td>\n      <td>Baby, Toddler &amp; Kids</td>\n      <td>Baby Care</td>\n      <td>Baby Formula &amp; Toddler Food</td>\n      <td>17.99</td>\n      <td>ea</td>\n      <td>False</td>\n      <td>NaN</td>\n      <td>17.99</td>\n      <td>17.99</td>\n      <td>1.0</td>\n      <td>Saver</td>\n    </tr>\n    <tr>\n      <th>3</th>\n      <td>johnsons baby powder</td>\n      <td>Baby, Toddler &amp; Kids</td>\n      <td>Baby Care</td>\n      <td>Nappies &amp; Changing</td>\n      <td>2.99</td>\n      <td>ea</td>\n      <td>False</td>\n      <td>NaN</td>\n      <td>2.99</td>\n      <td>2.99</td>\n      <td>1.0</td>\n      <td>Saver</td>\n    </tr>\n    <tr>\n      <th>4</th>\n      <td>johnsons baby powder</td>\n      <td>Baby, Toddler &amp; Kids</td>\n      <td>Baby Care</td>\n      <td>Nappies &amp; Changing</td>\n      <td>4.89</td>\n      <td>ea</td>\n      <td>False</td>\n      <td>NaN</td>\n      <td>4.89</td>\n      <td>NaN</td>\n      <td>NaN</td>\n      <td>NaN</td>\n    </tr>\n  </tbody>\n</table>\n</div>"
     },
     "execution_count": 3,
     "metadata": {},
     "output_type": "execute_result"
    }
   ],
   "source": [
    "punctuations = re.compile(r'[^a-zA-Z\\s]+')\n",
    "df[\"ProductName\"] = [\" \".join(punctuations.sub('', x).lower().split()) for x in df[\"ProductName\"].tolist()]\n",
    "df.head(5)"
   ],
   "metadata": {
    "collapsed": false,
    "pycharm": {
     "name": "#%%\n"
    }
   }
  },
  {
   "cell_type": "code",
   "execution_count": 4,
   "outputs": [
    {
     "data": {
      "text/plain": "                                        ProductName               level_1  \\\n0                              johnsons baby lotion  Baby, Toddler & Kids   \n1                                 johnsons baby oil  Baby, Toddler & Kids   \n2  sma balanced nutrition from birth infant formula  Baby, Toddler & Kids   \n3                              johnsons baby powder  Baby, Toddler & Kids   \n4                              johnsons baby powder  Baby, Toddler & Kids   \n\n     level_2                      level_3  PricePerItem PriceMode  \\\n0  Baby Care     Baby Bathing & Skin Care          4.89        ea   \n1  Baby Care     Baby Bathing & Skin Care          4.89        ea   \n2  Baby Care  Baby Formula & Toddler Food         17.99        ea   \n3  Baby Care           Nappies & Changing          2.99        ea   \n4  Baby Care           Nappies & Changing          4.89        ea   \n\n   HasMultiBuyDeal  MultiBuyDeal  MultiBuyBasePrice  MultiBuyPrice  \\\n0            False             0               4.89            NaN   \n1            False             0               4.89            NaN   \n2            False             0              17.99          17.99   \n3            False             0               2.99           2.99   \n4            False             0               4.89            NaN   \n\n   MultiBuyQuantity PromoBadgeImageLabel  \n0               NaN                  NaN  \n1               NaN                  NaN  \n2               1.0                Saver  \n3               1.0                Saver  \n4               NaN                  NaN  ",
      "text/html": "<div>\n<style scoped>\n    .dataframe tbody tr th:only-of-type {\n        vertical-align: middle;\n    }\n\n    .dataframe tbody tr th {\n        vertical-align: top;\n    }\n\n    .dataframe thead th {\n        text-align: right;\n    }\n</style>\n<table border=\"1\" class=\"dataframe\">\n  <thead>\n    <tr style=\"text-align: right;\">\n      <th></th>\n      <th>ProductName</th>\n      <th>level_1</th>\n      <th>level_2</th>\n      <th>level_3</th>\n      <th>PricePerItem</th>\n      <th>PriceMode</th>\n      <th>HasMultiBuyDeal</th>\n      <th>MultiBuyDeal</th>\n      <th>MultiBuyBasePrice</th>\n      <th>MultiBuyPrice</th>\n      <th>MultiBuyQuantity</th>\n      <th>PromoBadgeImageLabel</th>\n    </tr>\n  </thead>\n  <tbody>\n    <tr>\n      <th>0</th>\n      <td>johnsons baby lotion</td>\n      <td>Baby, Toddler &amp; Kids</td>\n      <td>Baby Care</td>\n      <td>Baby Bathing &amp; Skin Care</td>\n      <td>4.89</td>\n      <td>ea</td>\n      <td>False</td>\n      <td>0</td>\n      <td>4.89</td>\n      <td>NaN</td>\n      <td>NaN</td>\n      <td>NaN</td>\n    </tr>\n    <tr>\n      <th>1</th>\n      <td>johnsons baby oil</td>\n      <td>Baby, Toddler &amp; Kids</td>\n      <td>Baby Care</td>\n      <td>Baby Bathing &amp; Skin Care</td>\n      <td>4.89</td>\n      <td>ea</td>\n      <td>False</td>\n      <td>0</td>\n      <td>4.89</td>\n      <td>NaN</td>\n      <td>NaN</td>\n      <td>NaN</td>\n    </tr>\n    <tr>\n      <th>2</th>\n      <td>sma balanced nutrition from birth infant formula</td>\n      <td>Baby, Toddler &amp; Kids</td>\n      <td>Baby Care</td>\n      <td>Baby Formula &amp; Toddler Food</td>\n      <td>17.99</td>\n      <td>ea</td>\n      <td>False</td>\n      <td>0</td>\n      <td>17.99</td>\n      <td>17.99</td>\n      <td>1.0</td>\n      <td>Saver</td>\n    </tr>\n    <tr>\n      <th>3</th>\n      <td>johnsons baby powder</td>\n      <td>Baby, Toddler &amp; Kids</td>\n      <td>Baby Care</td>\n      <td>Nappies &amp; Changing</td>\n      <td>2.99</td>\n      <td>ea</td>\n      <td>False</td>\n      <td>0</td>\n      <td>2.99</td>\n      <td>2.99</td>\n      <td>1.0</td>\n      <td>Saver</td>\n    </tr>\n    <tr>\n      <th>4</th>\n      <td>johnsons baby powder</td>\n      <td>Baby, Toddler &amp; Kids</td>\n      <td>Baby Care</td>\n      <td>Nappies &amp; Changing</td>\n      <td>4.89</td>\n      <td>ea</td>\n      <td>False</td>\n      <td>0</td>\n      <td>4.89</td>\n      <td>NaN</td>\n      <td>NaN</td>\n      <td>NaN</td>\n    </tr>\n  </tbody>\n</table>\n</div>"
     },
     "execution_count": 4,
     "metadata": {},
     "output_type": "execute_result"
    }
   ],
   "source": [
    "df[\"MultiBuyDeal\"] = [\" \".join(punctuations.sub('', y).lower().split()) if y == y else [] for y in\n",
    "                      df[\"MultiBuyDeal\"].tolist()]\n",
    "df[\"MultiBuyDeal\"] = [1 if y == \"buy for\" else (2 if y == \"buy for limit assorted\" else (\n",
    "    3 if y == \"limit assorted\" else (4 if y == \"limit\" else 0))) for y in df[\"MultiBuyDeal\"].tolist()]\n",
    "df.head(5)"
   ],
   "metadata": {
    "collapsed": false,
    "pycharm": {
     "name": "#%%\n"
    }
   }
  },
  {
   "cell_type": "code",
   "execution_count": 5,
   "outputs": [
    {
     "data": {
      "text/plain": "                                        ProductName               level_1  \\\n0                              johnsons baby lotion  Baby, Toddler & Kids   \n1                                 johnsons baby oil  Baby, Toddler & Kids   \n2  sma balanced nutrition from birth infant formula  Baby, Toddler & Kids   \n3                              johnsons baby powder  Baby, Toddler & Kids   \n4                              johnsons baby powder  Baby, Toddler & Kids   \n\n     level_2                      level_3  PricePerItem PriceMode  \\\n0  Baby Care     Baby Bathing & Skin Care          4.89        ea   \n1  Baby Care     Baby Bathing & Skin Care          4.89        ea   \n2  Baby Care  Baby Formula & Toddler Food         17.99        ea   \n3  Baby Care           Nappies & Changing          2.99        ea   \n4  Baby Care           Nappies & Changing          4.89        ea   \n\n   HasMultiBuyDeal  MultiBuyDeal  MultiBuyBasePrice  MultiBuyPrice  \\\n0            False             0               4.89            NaN   \n1            False             0               4.89            NaN   \n2            False             0              17.99          17.99   \n3            False             0               2.99           2.99   \n4            False             0               4.89            NaN   \n\n   MultiBuyQuantity PromoBadgeImageLabel  \n0               NaN                   []  \n1               NaN                   []  \n2               1.0                saver  \n3               1.0                saver  \n4               NaN                   []  ",
      "text/html": "<div>\n<style scoped>\n    .dataframe tbody tr th:only-of-type {\n        vertical-align: middle;\n    }\n\n    .dataframe tbody tr th {\n        vertical-align: top;\n    }\n\n    .dataframe thead th {\n        text-align: right;\n    }\n</style>\n<table border=\"1\" class=\"dataframe\">\n  <thead>\n    <tr style=\"text-align: right;\">\n      <th></th>\n      <th>ProductName</th>\n      <th>level_1</th>\n      <th>level_2</th>\n      <th>level_3</th>\n      <th>PricePerItem</th>\n      <th>PriceMode</th>\n      <th>HasMultiBuyDeal</th>\n      <th>MultiBuyDeal</th>\n      <th>MultiBuyBasePrice</th>\n      <th>MultiBuyPrice</th>\n      <th>MultiBuyQuantity</th>\n      <th>PromoBadgeImageLabel</th>\n    </tr>\n  </thead>\n  <tbody>\n    <tr>\n      <th>0</th>\n      <td>johnsons baby lotion</td>\n      <td>Baby, Toddler &amp; Kids</td>\n      <td>Baby Care</td>\n      <td>Baby Bathing &amp; Skin Care</td>\n      <td>4.89</td>\n      <td>ea</td>\n      <td>False</td>\n      <td>0</td>\n      <td>4.89</td>\n      <td>NaN</td>\n      <td>NaN</td>\n      <td>[]</td>\n    </tr>\n    <tr>\n      <th>1</th>\n      <td>johnsons baby oil</td>\n      <td>Baby, Toddler &amp; Kids</td>\n      <td>Baby Care</td>\n      <td>Baby Bathing &amp; Skin Care</td>\n      <td>4.89</td>\n      <td>ea</td>\n      <td>False</td>\n      <td>0</td>\n      <td>4.89</td>\n      <td>NaN</td>\n      <td>NaN</td>\n      <td>[]</td>\n    </tr>\n    <tr>\n      <th>2</th>\n      <td>sma balanced nutrition from birth infant formula</td>\n      <td>Baby, Toddler &amp; Kids</td>\n      <td>Baby Care</td>\n      <td>Baby Formula &amp; Toddler Food</td>\n      <td>17.99</td>\n      <td>ea</td>\n      <td>False</td>\n      <td>0</td>\n      <td>17.99</td>\n      <td>17.99</td>\n      <td>1.0</td>\n      <td>saver</td>\n    </tr>\n    <tr>\n      <th>3</th>\n      <td>johnsons baby powder</td>\n      <td>Baby, Toddler &amp; Kids</td>\n      <td>Baby Care</td>\n      <td>Nappies &amp; Changing</td>\n      <td>2.99</td>\n      <td>ea</td>\n      <td>False</td>\n      <td>0</td>\n      <td>2.99</td>\n      <td>2.99</td>\n      <td>1.0</td>\n      <td>saver</td>\n    </tr>\n    <tr>\n      <th>4</th>\n      <td>johnsons baby powder</td>\n      <td>Baby, Toddler &amp; Kids</td>\n      <td>Baby Care</td>\n      <td>Nappies &amp; Changing</td>\n      <td>4.89</td>\n      <td>ea</td>\n      <td>False</td>\n      <td>0</td>\n      <td>4.89</td>\n      <td>NaN</td>\n      <td>NaN</td>\n      <td>[]</td>\n    </tr>\n  </tbody>\n</table>\n</div>"
     },
     "execution_count": 5,
     "metadata": {},
     "output_type": "execute_result"
    }
   ],
   "source": [
    "df[\"PromoBadgeImageLabel\"] = [\" \".join(punctuations.sub('', z).lower().split()) if z == z else [] for z in\n",
    "                              df[\"PromoBadgeImageLabel\"].tolist()]\n",
    "df.head(5)"
   ],
   "metadata": {
    "collapsed": false,
    "pycharm": {
     "name": "#%%\n"
    }
   }
  },
  {
   "cell_type": "code",
   "execution_count": 6,
   "outputs": [
    {
     "data": {
      "text/plain": "                                        ProductName               level_1  \\\n0                              johnsons baby lotion  Baby, Toddler & Kids   \n1                                 johnsons baby oil  Baby, Toddler & Kids   \n2  sma balanced nutrition from birth infant formula  Baby, Toddler & Kids   \n3                              johnsons baby powder  Baby, Toddler & Kids   \n4                              johnsons baby powder  Baby, Toddler & Kids   \n\n     level_2                      level_3  PricePerItem PriceMode  \\\n0  Baby Care     Baby Bathing & Skin Care          4.89        ea   \n1  Baby Care     Baby Bathing & Skin Care          4.89        ea   \n2  Baby Care  Baby Formula & Toddler Food         17.99        ea   \n3  Baby Care           Nappies & Changing          2.99        ea   \n4  Baby Care           Nappies & Changing          4.89        ea   \n\n   HasMultiBuyDeal  MultiBuyDeal  MultiBuyBasePrice  MultiBuyPrice  \\\n0            False             0               4.89           0.00   \n1            False             0               4.89           0.00   \n2            False             0              17.99          17.99   \n3            False             0               2.99           2.99   \n4            False             0               4.89           0.00   \n\n   MultiBuyQuantity PromoBadgeImageLabel  \n0               0.0                   []  \n1               0.0                   []  \n2               1.0                saver  \n3               1.0                saver  \n4               0.0                   []  ",
      "text/html": "<div>\n<style scoped>\n    .dataframe tbody tr th:only-of-type {\n        vertical-align: middle;\n    }\n\n    .dataframe tbody tr th {\n        vertical-align: top;\n    }\n\n    .dataframe thead th {\n        text-align: right;\n    }\n</style>\n<table border=\"1\" class=\"dataframe\">\n  <thead>\n    <tr style=\"text-align: right;\">\n      <th></th>\n      <th>ProductName</th>\n      <th>level_1</th>\n      <th>level_2</th>\n      <th>level_3</th>\n      <th>PricePerItem</th>\n      <th>PriceMode</th>\n      <th>HasMultiBuyDeal</th>\n      <th>MultiBuyDeal</th>\n      <th>MultiBuyBasePrice</th>\n      <th>MultiBuyPrice</th>\n      <th>MultiBuyQuantity</th>\n      <th>PromoBadgeImageLabel</th>\n    </tr>\n  </thead>\n  <tbody>\n    <tr>\n      <th>0</th>\n      <td>johnsons baby lotion</td>\n      <td>Baby, Toddler &amp; Kids</td>\n      <td>Baby Care</td>\n      <td>Baby Bathing &amp; Skin Care</td>\n      <td>4.89</td>\n      <td>ea</td>\n      <td>False</td>\n      <td>0</td>\n      <td>4.89</td>\n      <td>0.00</td>\n      <td>0.0</td>\n      <td>[]</td>\n    </tr>\n    <tr>\n      <th>1</th>\n      <td>johnsons baby oil</td>\n      <td>Baby, Toddler &amp; Kids</td>\n      <td>Baby Care</td>\n      <td>Baby Bathing &amp; Skin Care</td>\n      <td>4.89</td>\n      <td>ea</td>\n      <td>False</td>\n      <td>0</td>\n      <td>4.89</td>\n      <td>0.00</td>\n      <td>0.0</td>\n      <td>[]</td>\n    </tr>\n    <tr>\n      <th>2</th>\n      <td>sma balanced nutrition from birth infant formula</td>\n      <td>Baby, Toddler &amp; Kids</td>\n      <td>Baby Care</td>\n      <td>Baby Formula &amp; Toddler Food</td>\n      <td>17.99</td>\n      <td>ea</td>\n      <td>False</td>\n      <td>0</td>\n      <td>17.99</td>\n      <td>17.99</td>\n      <td>1.0</td>\n      <td>saver</td>\n    </tr>\n    <tr>\n      <th>3</th>\n      <td>johnsons baby powder</td>\n      <td>Baby, Toddler &amp; Kids</td>\n      <td>Baby Care</td>\n      <td>Nappies &amp; Changing</td>\n      <td>2.99</td>\n      <td>ea</td>\n      <td>False</td>\n      <td>0</td>\n      <td>2.99</td>\n      <td>2.99</td>\n      <td>1.0</td>\n      <td>saver</td>\n    </tr>\n    <tr>\n      <th>4</th>\n      <td>johnsons baby powder</td>\n      <td>Baby, Toddler &amp; Kids</td>\n      <td>Baby Care</td>\n      <td>Nappies &amp; Changing</td>\n      <td>4.89</td>\n      <td>ea</td>\n      <td>False</td>\n      <td>0</td>\n      <td>4.89</td>\n      <td>0.00</td>\n      <td>0.0</td>\n      <td>[]</td>\n    </tr>\n  </tbody>\n</table>\n</div>"
     },
     "execution_count": 6,
     "metadata": {},
     "output_type": "execute_result"
    }
   ],
   "source": [
    "df[\"MultiBuyPrice\"].fillna(0, inplace=True)\n",
    "df[\"MultiBuyQuantity\"].fillna(0, inplace=True)\n",
    "df.head(5)"
   ],
   "metadata": {
    "collapsed": false,
    "pycharm": {
     "name": "#%%\n"
    }
   }
  },
  {
   "cell_type": "code",
   "execution_count": 7,
   "outputs": [
    {
     "data": {
      "text/plain": "<BarContainer object of 449 artists>"
     },
     "execution_count": 7,
     "metadata": {},
     "output_type": "execute_result"
    },
    {
     "data": {
      "text/plain": "<Figure size 432x288 with 1 Axes>",
      "image/png": "[encoded data removed]"
     },
     "metadata": {
      "needs_background": "light"
     },
     "output_type": "display_data"
    }
   ],
   "source": [
    "types = df.value_counts(columns[1:4])\n",
    "plot.bar(x=[a for a in range(types.size)], height=types)"
   ],
   "metadata": {
    "collapsed": false,
    "pycharm": {
     "name": "#%%\n"
    }
   }
  },
  {
   "cell_type": "code",
   "execution_count": 8,
   "outputs": [
    {
     "data": {
      "text/plain": "<BarContainer object of 43 artists>"
     },
     "execution_count": 8,
     "metadata": {},
     "output_type": "execute_result"
    },
    {
     "data": {
      "text/plain": "<Figure size 432x288 with 1 Axes>",
      "image/png": "[encoded data removed]"
     },
     "metadata": {
      "needs_background": "light"
     },
     "output_type": "display_data"
    }
   ],
   "source": [
    "types = df.value_counts(columns[1:3])\n",
    "plot.bar(x=[a for a in range(types.size)], height=types)"
   ],
   "metadata": {
    "collapsed": false,
    "pycharm": {
     "name": "#%%\n"
    }
   }
  },
  {
   "cell_type": "code",
   "execution_count": 9,
   "outputs": [
    {
     "data": {
      "text/plain": "level_1                    \nPantry                         4740\nPersonal Care                  1778\nFresh Foods & Bakery           1721\nChilled, Frozen & Desserts     1426\nBeer, Cider & Wine             1232\nKitchen, Dining & Household    1182\nDrinks                         1063\nPets                            512\nMeal Spot                       456\nBaby, Toddler & Kids            354\nFeatured                        121\ndtype: int64"
     },
     "execution_count": 9,
     "metadata": {},
     "output_type": "execute_result"
    }
   ],
   "source": [
    "types = df.value_counts(columns[1:2])\n",
    "types"
   ],
   "metadata": {
    "collapsed": false,
    "pycharm": {
     "name": "#%%\n"
    }
   }
  },
  {
   "cell_type": "code",
   "execution_count": 10,
   "outputs": [
    {
     "data": {
      "text/plain": "                                        ProductName               level_1  \\\n0                              johnsons baby lotion  Baby, Toddler & Kids   \n1                                 johnsons baby oil  Baby, Toddler & Kids   \n2  sma balanced nutrition from birth infant formula  Baby, Toddler & Kids   \n3                              johnsons baby powder  Baby, Toddler & Kids   \n4                              johnsons baby powder  Baby, Toddler & Kids   \n\n     level_2                      level_3  PricePerItem PriceMode  \\\n0  Baby Care     Baby Bathing & Skin Care          4.89        ea   \n1  Baby Care     Baby Bathing & Skin Care          4.89        ea   \n2  Baby Care  Baby Formula & Toddler Food         17.99        ea   \n3  Baby Care           Nappies & Changing          2.99        ea   \n4  Baby Care           Nappies & Changing          4.89        ea   \n\n   HasMultiBuyDeal  MultiBuyDeal  MultiBuyBasePrice  MultiBuyPrice  \\\n0            False             0               4.89           0.00   \n1            False             0               4.89           0.00   \n2            False             0              17.99          17.99   \n3            False             0               2.99           2.99   \n4            False             0               4.89           0.00   \n\n   MultiBuyQuantity PromoBadgeImageLabel  \n0               0.0                   []  \n1               0.0                   []  \n2               1.0                saver  \n3               1.0                saver  \n4               0.0                   []  ",
      "text/html": "<div>\n<style scoped>\n    .dataframe tbody tr th:only-of-type {\n        vertical-align: middle;\n    }\n\n    .dataframe tbody tr th {\n        vertical-align: top;\n    }\n\n    .dataframe thead th {\n        text-align: right;\n    }\n</style>\n<table border=\"1\" class=\"dataframe\">\n  <thead>\n    <tr style=\"text-align: right;\">\n      <th></th>\n      <th>ProductName</th>\n      <th>level_1</th>\n      <th>level_2</th>\n      <th>level_3</th>\n      <th>PricePerItem</th>\n      <th>PriceMode</th>\n      <th>HasMultiBuyDeal</th>\n      <th>MultiBuyDeal</th>\n      <th>MultiBuyBasePrice</th>\n      <th>MultiBuyPrice</th>\n      <th>MultiBuyQuantity</th>\n      <th>PromoBadgeImageLabel</th>\n    </tr>\n  </thead>\n  <tbody>\n    <tr>\n      <th>0</th>\n      <td>johnsons baby lotion</td>\n      <td>Baby, Toddler &amp; Kids</td>\n      <td>Baby Care</td>\n      <td>Baby Bathing &amp; Skin Care</td>\n      <td>4.89</td>\n      <td>ea</td>\n      <td>False</td>\n      <td>0</td>\n      <td>4.89</td>\n      <td>0.00</td>\n      <td>0.0</td>\n      <td>[]</td>\n    </tr>\n    <tr>\n      <th>1</th>\n      <td>johnsons baby oil</td>\n      <td>Baby, Toddler &amp; Kids</td>\n      <td>Baby Care</td>\n      <td>Baby Bathing &amp; Skin Care</td>\n      <td>4.89</td>\n      <td>ea</td>\n      <td>False</td>\n      <td>0</td>\n      <td>4.89</td>\n      <td>0.00</td>\n      <td>0.0</td>\n      <td>[]</td>\n    </tr>\n    <tr>\n      <th>2</th>\n      <td>sma balanced nutrition from birth infant formula</td>\n      <td>Baby, Toddler &amp; Kids</td>\n      <td>Baby Care</td>\n      <td>Baby Formula &amp; Toddler Food</td>\n      <td>17.99</td>\n      <td>ea</td>\n      <td>False</td>\n      <td>0</td>\n      <td>17.99</td>\n      <td>17.99</td>\n      <td>1.0</td>\n      <td>saver</td>\n    </tr>\n    <tr>\n      <th>3</th>\n      <td>johnsons baby powder</td>\n      <td>Baby, Toddler &amp; Kids</td>\n      <td>Baby Care</td>\n      <td>Nappies &amp; Changing</td>\n      <td>2.99</td>\n      <td>ea</td>\n      <td>False</td>\n      <td>0</td>\n      <td>2.99</td>\n      <td>2.99</td>\n      <td>1.0</td>\n      <td>saver</td>\n    </tr>\n    <tr>\n      <th>4</th>\n      <td>johnsons baby powder</td>\n      <td>Baby, Toddler &amp; Kids</td>\n      <td>Baby Care</td>\n      <td>Nappies &amp; Changing</td>\n      <td>4.89</td>\n      <td>ea</td>\n      <td>False</td>\n      <td>0</td>\n      <td>4.89</td>\n      <td>0.00</td>\n      <td>0.0</td>\n      <td>[]</td>\n    </tr>\n  </tbody>\n</table>\n</div>"
     },
     "execution_count": 10,
     "metadata": {},
     "output_type": "execute_result"
    }
   ],
   "source": [
    "df = df[df[\"level_1\"] != \"Featured\"]\n",
    "df.head(5)"
   ],
   "metadata": {
    "collapsed": false,
    "pycharm": {
     "name": "#%%\n"
    }
   }
  },
  {
   "cell_type": "code",
   "execution_count": 11,
   "outputs": [
    {
     "data": {
      "text/plain": "(array([1.974e+03, 4.555e+03, 3.223e+03, 1.367e+03, 9.790e+02, 5.380e+02,\n        5.470e+02, 1.890e+02, 2.290e+02, 1.670e+02, 1.250e+02, 7.600e+01,\n        2.800e+01, 2.000e+01, 2.800e+01, 1.200e+01, 2.200e+01, 6.000e+00,\n        1.200e+01, 1.000e+00, 1.200e+01, 0.000e+00, 2.000e+00, 0.000e+00,\n        1.000e+00, 0.000e+00, 0.000e+00, 0.000e+00, 2.000e+00, 0.000e+00,\n        1.000e+00, 0.000e+00, 0.000e+00, 2.000e+00, 0.000e+00, 1.000e+00,\n        0.000e+00, 1.000e+00, 0.000e+00, 1.000e+00, 0.000e+00, 2.000e+00,\n        0.000e+00, 0.000e+00, 0.000e+00, 0.000e+00, 0.000e+00, 0.000e+00,\n        0.000e+00, 1.000e+00]),\n array([  0.15  ,   2.5668,   4.9836,   7.4004,   9.8172,  12.234 ,\n         14.6508,  17.0676,  19.4844,  21.9012,  24.318 ,  26.7348,\n         29.1516,  31.5684,  33.9852,  36.402 ,  38.8188,  41.2356,\n         43.6524,  46.0692,  48.486 ,  50.9028,  53.3196,  55.7364,\n         58.1532,  60.57  ,  62.9868,  65.4036,  67.8204,  70.2372,\n         72.654 ,  75.0708,  77.4876,  79.9044,  82.3212,  84.738 ,\n         87.1548,  89.5716,  91.9884,  94.4052,  96.822 ,  99.2388,\n        101.6556, 104.0724, 106.4892, 108.906 , 111.3228, 113.7396,\n        116.1564, 118.5732, 120.99  ]),\n <BarContainer object of 50 artists>)"
     },
     "execution_count": 11,
     "metadata": {},
     "output_type": "execute_result"
    },
    {
     "data": {
      "text/plain": "<Figure size 432x288 with 1 Axes>",
      "image/png": "[encoded data removed]"
     },
     "metadata": {
      "needs_background": "light"
     },
     "output_type": "display_data"
    }
   ],
   "source": [
    "dfea = df[df[\"PriceMode\"] == \"ea\"]\n",
    "plot.hist(dfea[\"PricePerItem\"].tolist(), bins=50)"
   ],
   "metadata": {
    "collapsed": false,
    "pycharm": {
     "name": "#%%\n"
    }
   }
  },
  {
   "cell_type": "code",
   "execution_count": 12,
   "outputs": [
    {
     "data": {
      "text/plain": "(array([13., 21., 25., 13., 22., 30., 33.,  9., 41., 19., 45., 11.,  9.,\n        14.,  9.,  1.,  3.,  3.,  7.,  2.,  2.,  1.,  0.,  1.,  0.,  0.,\n         1.,  0.,  0.,  0.,  1.,  2.,  0.,  0.,  0.,  0.,  0.,  0.,  1.,\n         0.,  0.,  0.,  0.,  0.,  0.,  0.,  0.,  0.,  0.,  1.]),\n array([  2.29  ,   4.8422,   7.3944,   9.9466,  12.4988,  15.051 ,\n         17.6032,  20.1554,  22.7076,  25.2598,  27.812 ,  30.3642,\n         32.9164,  35.4686,  38.0208,  40.573 ,  43.1252,  45.6774,\n         48.2296,  50.7818,  53.334 ,  55.8862,  58.4384,  60.9906,\n         63.5428,  66.095 ,  68.6472,  71.1994,  73.7516,  76.3038,\n         78.856 ,  81.4082,  83.9604,  86.5126,  89.0648,  91.617 ,\n         94.1692,  96.7214,  99.2736, 101.8258, 104.378 , 106.9302,\n        109.4824, 112.0346, 114.5868, 117.139 , 119.6912, 122.2434,\n        124.7956, 127.3478, 129.9   ]),\n <BarContainer object of 50 artists>)"
     },
     "execution_count": 12,
     "metadata": {},
     "output_type": "execute_result"
    },
    {
     "data": {
      "text/plain": "<Figure size 432x288 with 1 Axes>",
      "image/png": "[encoded data removed]"
     },
     "metadata": {
      "needs_background": "light"
     },
     "output_type": "display_data"
    }
   ],
   "source": [
    "dfkg = df[df[\"PriceMode\"] == \"kg\"]\n",
    "plot.hist(dfkg[\"PricePerItem\"].tolist(), bins=50)"
   ],
   "metadata": {
    "collapsed": false,
    "pycharm": {
     "name": "#%%\n"
    }
   }
  },
  {
   "cell_type": "code",
   "execution_count": 13,
   "outputs": [
    {
     "data": {
      "text/plain": "                                        ProductName               level_1  \\\n0                              johnsons baby lotion  Baby, Toddler & Kids   \n1                                 johnsons baby oil  Baby, Toddler & Kids   \n2  sma balanced nutrition from birth infant formula  Baby, Toddler & Kids   \n3                              johnsons baby powder  Baby, Toddler & Kids   \n4                              johnsons baby powder  Baby, Toddler & Kids   \n\n     level_2                      level_3  PricePerItem PriceMode  \\\n0  Baby Care     Baby Bathing & Skin Care             5        ea   \n1  Baby Care     Baby Bathing & Skin Care             5        ea   \n2  Baby Care  Baby Formula & Toddler Food            20        ea   \n3  Baby Care           Nappies & Changing             5        ea   \n4  Baby Care           Nappies & Changing             5        ea   \n\n   HasMultiBuyDeal  MultiBuyDeal  MultiBuyBasePrice  MultiBuyPrice  \\\n0            False             0                  5              0   \n1            False             0                  5              0   \n2            False             0                 20             20   \n3            False             0                  5              5   \n4            False             0                  5              0   \n\n   MultiBuyQuantity PromoBadgeImageLabel  \n0                 0                   []  \n1                 0                   []  \n2                 1                saver  \n3                 1                saver  \n4                 0                   []  ",
      "text/html": "<div>\n<style scoped>\n    .dataframe tbody tr th:only-of-type {\n        vertical-align: middle;\n    }\n\n    .dataframe tbody tr th {\n        vertical-align: top;\n    }\n\n    .dataframe thead th {\n        text-align: right;\n    }\n</style>\n<table border=\"1\" class=\"dataframe\">\n  <thead>\n    <tr style=\"text-align: right;\">\n      <th></th>\n      <th>ProductName</th>\n      <th>level_1</th>\n      <th>level_2</th>\n      <th>level_3</th>\n      <th>PricePerItem</th>\n      <th>PriceMode</th>\n      <th>HasMultiBuyDeal</th>\n      <th>MultiBuyDeal</th>\n      <th>MultiBuyBasePrice</th>\n      <th>MultiBuyPrice</th>\n      <th>MultiBuyQuantity</th>\n      <th>PromoBadgeImageLabel</th>\n    </tr>\n  </thead>\n  <tbody>\n    <tr>\n      <th>0</th>\n      <td>johnsons baby lotion</td>\n      <td>Baby, Toddler &amp; Kids</td>\n      <td>Baby Care</td>\n      <td>Baby Bathing &amp; Skin Care</td>\n      <td>5</td>\n      <td>ea</td>\n      <td>False</td>\n      <td>0</td>\n      <td>5</td>\n      <td>0</td>\n      <td>0</td>\n      <td>[]</td>\n    </tr>\n    <tr>\n      <th>1</th>\n      <td>johnsons baby oil</td>\n      <td>Baby, Toddler &amp; Kids</td>\n      <td>Baby Care</td>\n      <td>Baby Bathing &amp; Skin Care</td>\n      <td>5</td>\n      <td>ea</td>\n      <td>False</td>\n      <td>0</td>\n      <td>5</td>\n      <td>0</td>\n      <td>0</td>\n      <td>[]</td>\n    </tr>\n    <tr>\n      <th>2</th>\n      <td>sma balanced nutrition from birth infant formula</td>\n      <td>Baby, Toddler &amp; Kids</td>\n      <td>Baby Care</td>\n      <td>Baby Formula &amp; Toddler Food</td>\n      <td>20</td>\n      <td>ea</td>\n      <td>False</td>\n      <td>0</td>\n      <td>20</td>\n      <td>20</td>\n      <td>1</td>\n      <td>saver</td>\n    </tr>\n    <tr>\n      <th>3</th>\n      <td>johnsons baby powder</td>\n      <td>Baby, Toddler &amp; Kids</td>\n      <td>Baby Care</td>\n      <td>Nappies &amp; Changing</td>\n      <td>5</td>\n      <td>ea</td>\n      <td>False</td>\n      <td>0</td>\n      <td>5</td>\n      <td>5</td>\n      <td>1</td>\n      <td>saver</td>\n    </tr>\n    <tr>\n      <th>4</th>\n      <td>johnsons baby powder</td>\n      <td>Baby, Toddler &amp; Kids</td>\n      <td>Baby Care</td>\n      <td>Nappies &amp; Changing</td>\n      <td>5</td>\n      <td>ea</td>\n      <td>False</td>\n      <td>0</td>\n      <td>5</td>\n      <td>0</td>\n      <td>0</td>\n      <td>[]</td>\n    </tr>\n  </tbody>\n</table>\n</div>"
     },
     "execution_count": 13,
     "metadata": {},
     "output_type": "execute_result"
    }
   ],
   "source": [
    "df[\"PricePerItem\"] = [round(p / 5) * 5 for p in df[\"PricePerItem\"].tolist()]\n",
    "df[\"MultiBuyPrice\"] = [round(p / 5) * 5 for p in df[\"MultiBuyPrice\"].tolist()]\n",
    "df[\"MultiBuyBasePrice\"] = [round(p / 5) * 5 for p in df[\"MultiBuyBasePrice\"].tolist()]\n",
    "df[\"MultiBuyQuantity\"] = [int(q) for q in df[\"MultiBuyQuantity\"].tolist()]\n",
    "df.head(5)"
   ],
   "metadata": {
    "collapsed": false,
    "pycharm": {
     "name": "#%%\n"
    }
   }
  },
  {
   "cell_type": "code",
   "execution_count": 14,
   "outputs": [],
   "source": [
    "def evaluation(predictions, labels, id2label, model_name=None):\n",
    "    acc = accuracy_score(labels, predictions)\n",
    "    recall = recall_score(labels, predictions, average=\"macro\")\n",
    "    f1 = f1_score(labels, predictions, average=\"macro\")\n",
    "    report = classification_report(labels, predictions,\n",
    "                                   target_names=[id2label[i] for i in range(len(id2label))])\n",
    "    info = \"acc:%s, recall:%s, f1 score:%s\" % (acc, recall, f1)\n",
    "    if model_name is not None:\n",
    "        info = \"%s: %s\" % (model_name, info)\n",
    "    print(info)\n",
    "    print(report)"
   ],
   "metadata": {
    "collapsed": false,
    "pycharm": {
     "name": "#%%\n"
    }
   }
  },
  {
   "cell_type": "code",
   "execution_count": 15,
   "outputs": [
    {
     "name": "stdout",
     "output_type": "stream",
     "text": [
      "data len: 14464\n",
      "id2label {0: 'Pantry, Canned & Prepared Foods, Canned & Dried Vegetables', 1: 'Pantry, Sauces, Stock & Marinades, Stock', 2: 'Chilled, Frozen & Desserts, Cheese, Specialty Cheeses', 3: 'Baby, Toddler & Kids, Baby Care, Baby Bathing & Skin Care', 4: 'Drinks, Hot Drinks, Black Teas', 5: 'Kitchen, Dining & Household, Garage & Outdoor, Hooks', 6: 'Kitchen, Dining & Household, Cleaning Products, Bleaches', 7: 'Pantry, Breakfast Cereals, Flake/Fibre Cereals', 8: 'Kitchen, Dining & Household, Laundry, Laundry Soap', 9: 'Chilled, Frozen & Desserts, Dairy & Eggs, Fresh Cream', 10: 'Drinks, Hot Drinks, Green Teas', 11: 'Pantry, Pasta, Rice & Noodles, Instant Rices', 12: 'Pets, Pet Supplies, Bird Supplies', 13: 'Kitchen, Dining & Household, Household, Rubbish & Vacuum Bags', 14: 'Beer, Cider & Wine, Wine, Chardonnay', 15: 'Baby, Toddler & Kids, Baby Care, Baby Health', 16: 'Drinks, Cold Drinks, Still Water', 17: 'Personal Care, Beauty & Grooming, Face & Lip Skin Care', 18: 'Fresh Foods & Bakery, Bakery, Fresh Cakes & Muffins', 19: 'Kitchen, Dining & Household, Household, Air Fresheners & Deodorisers', 20: 'Kitchen, Dining & Household, Laundry, Clothing Dyes', 21: 'Fresh Foods & Bakery, Butchery, Fresh Chicken & Poultry', 22: 'Drinks, Cold Drinks, Soft Drinks', 23: 'Meal Spot, Ready to Heat, Packet Soup', 24: 'Baby, Toddler & Kids, Baby Care, Baby Wipes', 25: 'Pantry, Snack Foods, Popcorn', 26: 'Fresh Foods & Bakery, Dairy & Eggs, Dairy & Lactose Free', 27: 'Kitchen, Dining & Household, Laundry, Laundry Supplies', 28: 'Beer, Cider & Wine, Beer & Cider, Fruit & Flavoured Cider', 29: 'Chilled, Frozen & Desserts, Desserts, Meringues & Pavlovas', 30: 'Chilled, Frozen & Desserts, Desserts, Ice Cream & Frozen Yoghurt', 31: 'Fresh Foods & Bakery, Seafood, Fresh Fish Fillets & Steaks', 32: 'Pantry, Condiments & Dressings, Worcestershire Sauces', 33: 'Baby, Toddler & Kids, Baby Care, Baby Formula & Toddler Food', 34: 'Chilled, Frozen & Desserts, Cheese, Cottage Cheese', 35: 'Chilled, Frozen & Desserts, Cheese, Grated Cheese', 36: 'Pantry, Sauces, Stock & Marinades, Simmer & Stir-Through Sauces', 37: 'Drinks, Hot Drinks, Chocolate Milk Drink Mixes', 38: 'Beer, Cider & Wine, Beer & Cider, Wheat & Other Grain Beer', 39: 'Pantry, Sauces, Stock & Marinades, Specialty Sauces', 40: 'Pantry, Sauces, Stock & Marinades, Curry Pastes & Sauces', 41: 'Pantry, Sauces, Stock & Marinades, Tartare & Seafood Sauces', 42: 'Beer, Cider & Wine, Beer & Cider, IPA', 43: 'Fresh Foods & Bakery, Deli, Salads & Cooked Meats, Specialty Dry Goods', 44: 'Fresh Foods & Bakery, Bulk & Loose Foods, Bulk Seeds, Legumes & Grains', 45: 'Pantry, Baking Supplies & Sugar, Baking Syrups', 46: 'Kitchen, Dining & Household, Cleaning Products, Cleaning Accessories', 47: 'Chilled, Frozen & Desserts, Frozen Foods, Frozen Fries & Potatoes', 48: 'Chilled, Frozen & Desserts, Dairy & Eggs, Yoghurt Bases', 49: 'Pantry, Canned & Prepared Foods, Vegetarian', 50: 'Pantry, Salad & Cooking Oils, Rice Bran Oils', 51: 'Pantry, World Foods, Other Countries', 52: 'Fresh Foods & Bakery, Bakery, Wraps & Pita Breads', 53: 'Fresh Foods & Bakery, Fruit & Vegetables, Fresh Salads', 54: 'Pantry, Biscuits & Crackers, Gourmet Biscuits & Crackers', 55: 'Chilled, Frozen & Desserts, Desserts, Ice Cream Cones & Wafers', 56: 'Beer, Cider & Wine, Wine, Cabernet', 57: 'Pantry, Breakfast Cereals, Muesli', 58: 'Chilled, Frozen & Desserts, Dairy & Eggs, Eggs', 59: 'Beer, Cider & Wine, Wine, Other Red Wine', 60: 'Pantry, Biscuits & Crackers, Plain Sweet Biscuits', 61: 'Chilled, Frozen & Desserts, Frozen Foods, Frozen Pizza & Bases', 62: 'Pantry, Pasta, Rice & Noodles, Jasmine Rices', 63: 'Personal Care, Health & Wellness, Wellness & Sports Nutrition', 64: 'Beer, Cider & Wine, Wine, Champagne & Sparkling Wine', 65: 'Fresh Foods & Bakery, Bakery, Cakes & Muffins', 66: 'Personal Care, Beauty & Grooming, Oral Health', 67: 'Beer, Cider & Wine, Beer & Cider, Apple & Pear Cider', 68: 'Meal Spot, Ready to Heat, Frozen Savouries', 69: 'Beer, Cider & Wine, Beer & Cider, Pilsner', 70: 'Drinks, Cold Drinks, Sparkling Juices', 71: 'Pantry, Snack Foods, Dips & Salsas', 72: 'Fresh Foods & Bakery, Bakery, Organic & Gluten Free', 73: 'Pantry, World Foods, South East Asian', 74: 'Fresh Foods & Bakery, Dairy & Eggs, Fresh Milk', 75: 'Pantry, Sauces, Stock & Marinades, Tomato Pastes & Purees', 76: 'Baby, Toddler & Kids, Baby Care, Baby Hair Care', 77: 'Drinks, Cold Drinks, Chilled Fruit Juices', 78: 'Personal Care, Beauty & Grooming, Hair Styling & Accessories', 79: 'Pantry, Condiments & Dressings, Salad Dressings', 80: 'Fresh Foods & Bakery, Deli, Salads & Cooked Meats, Olives & Antipasti Mixes', 81: 'Chilled, Frozen & Desserts, Desserts, Chilled Custards', 82: 'Pantry, Hot Drinks, Coffee Substitutes', 83: 'Chilled, Frozen & Desserts, Desserts, Ready To Serve Puddings', 84: 'Kitchen, Dining & Household, Stationery & Entertainment, Magazines', 85: 'Meal Spot, Ready to Cook, Pasta Meals', 86: 'Pantry, Snack Foods, Cereal & Snack Bars', 87: 'Pantry, Snack Foods, Corn Chips', 88: 'Pantry, Snack Foods, Fruit Snacks', 89: 'Pantry, Snack Foods, Meat Snacks', 90: 'Pantry, Hot Drinks, Chai Teas', 91: 'Drinks, Hot Drinks, Coffee Additives & Filters', 92: 'Chilled, Frozen & Desserts, Frozen Foods, Frozen Pastry', 93: 'Baby, Toddler & Kids, Baby Care, Nursing & Feeding', 94: 'Kitchen, Dining & Household, Cleaning Products, Dishwasher Detergents', 95: 'Fresh Foods & Bakery, Deli, Salads & Cooked Meats, Deli Meats', 96: 'Fresh Foods & Bakery, Butchery, PrePacked Pork', 97: 'Pantry, World Foods, USA', 98: 'Fresh Foods & Bakery, Fruit & Vegetables, Fresh Vegetables', 99: 'Drinks, Hot Drinks, Chai Teas', 100: 'Pantry, Pasta, Rice & Noodles, Rice Meals', 101: 'Pantry, Breakfast Cereals, Hot Cereals', 102: 'Pantry, Snack Foods, Vege Snacks', 103: 'Pantry, Hot Drinks, Coffee Capsules', 104: 'Drinks, Hot Drinks, Coffee Flavoured Sachets', 105: 'Fresh Foods & Bakery, Bakery, Muffin Splits & Crumpets', 106: 'Personal Care, Health & Wellness, Vitamins & Supplements', 107: 'Pantry, Biscuits & Crackers, Biscuits & Cookies', 108: 'Fresh Foods & Bakery, Butchery, Fresh Beef & Lamb', 109: 'Beer, Cider & Wine, Beer & Cider, Pale Ale', 110: 'Pantry, Biscuits & Crackers, Rice Cakes', 111: 'Pantry, Hot Drinks, Green Teas', 112: 'Pets, Pet Supplies, Dog Treats', 113: 'Pantry, Hot Drinks, Instant Coffees', 114: 'Drinks, Cold Drinks, Drinking Yoghurt & Smoothies', 115: 'Chilled, Frozen & Desserts, Dairy & Eggs, Dairy & Lactose Free', 116: 'Fresh Foods & Bakery, Bakery, Pies & Pastries', 117: 'Pantry, Baking Supplies & Sugar, Dried Fruit', 118: 'Beer, Cider & Wine, Wine, Shiraz', 119: 'Kitchen, Dining & Household, Stationery & Entertainment, Toys & Recreation', 120: 'Drinks, Cold Drinks, Iced Teas', 121: 'Fresh Foods & Bakery, Fruit & Vegetables, Fresh Fruit', 122: 'Kitchen, Dining & Household, Laundry, Laundry Powders', 123: 'Pantry, Pasta, Rice & Noodles, Basmati Rices', 124: 'Beer, Cider & Wine, Beer & Cider, Lager', 125: 'Beer, Cider & Wine, Wine, Cask Wine', 126: 'Pets, Pet Supplies, Cat Accessories', 127: 'Chilled, Frozen & Desserts, Cheese, Deli Cheeseboards', 128: 'Beer, Cider & Wine, Beer & Cider, American-style Ale', 129: 'Pantry, Jams, Honey & Spreads, Savoury Spreads', 130: 'Pantry, Biscuits & Crackers, Assorted Biscuits & Crackers', 131: 'Pantry, Salad & Cooking Oils, Oil Sprays', 132: 'Pantry, Sauces, Stock & Marinades, Stir Fry Sauces', 133: 'Pantry, Spices & Seasonings, Dried Herbs', 134: 'Kitchen, Dining & Household, Laundry, Fabric Softeners', 135: 'Chilled, Frozen & Desserts, Desserts, Frozen Puddings', 136: 'Pantry, Confectionery, Novelty Bars & Singles', 137: 'Pantry, Biscuits & Crackers, Crackers', 138: 'Drinks, Hot Drinks, Coffee Capsules', 139: 'Drinks, Hot Drinks, Malt Milk Drink Mixes', 140: 'Pantry, Pasta, Rice & Noodles, Specialty Grains & Seeds', 141: 'Chilled, Frozen & Desserts, Dairy & Eggs, Flavoured Milk', 142: 'Meal Spot, Ready to Cook, Vege Bags', 143: 'Beer, Cider & Wine, Wine, Sauvignon Blanc', 144: 'Fresh Foods & Bakery, Dairy & Eggs, Butter & Spreads', 145: 'Fresh Foods & Bakery, Deli, Salads & Cooked Meats, Fresh Deli Savouries', 146: 'Meal Spot, Ready to Eat, Fresh Salads', 147: 'Pantry, Hot Drinks, Fruit & Herbal Teas', 148: 'Pantry, Pasta, Rice & Noodles, Pasta Meals', 149: 'Pantry, Snack Foods, Nutritional Bars', 150: 'Pantry, Baking Supplies & Sugar, Essences & Colourings', 151: 'Pantry, Baking Supplies & Sugar, Baking Nuts & Seeds', 152: 'Drinks, Cold Drinks, Coconut Water', 153: 'Pantry, Breakfast Cereals, Breakfast On The Go', 154: 'Kitchen, Dining & Household, Household, Homeware', 155: 'Pantry, Pasta, Rice & Noodles, Noodle Meals', 156: 'Pets, Pet Supplies, Cat Treats', 157: 'Kitchen, Dining & Household, Stationery & Entertainment, Stationery & Craft', 158: 'Pantry, Spices & Seasonings, Chilli & Paprika', 159: 'Kitchen, Dining & Household, Cleaning Products, Furniture & Metal Polishes', 160: 'Fresh Foods & Bakery, Dairy & Eggs, Eggs', 161: 'Fresh Foods & Bakery, Seafood, Fresh Whole Fish', 162: 'Beer, Cider & Wine, Beer & Cider, Specialty & Flavoured Beer', 163: 'Pantry, Salad & Cooking Oils, Nut & Seed Oils', 164: 'Fresh Foods & Bakery, Meal Kits, Simply DINNER', 165: 'Kitchen, Dining & Household, Cleaning Products, All Purpose Cleaners', 166: 'Meal Spot, Ready to Heat, Pizza & Pizza Bases', 167: 'Pantry, Condiments & Dressings, Mustards', 168: 'Pantry, Confectionery, Boxed Chocolates', 169: 'Kitchen, Dining & Household, Garage & Outdoor, Gardening Supplies', 170: 'Kitchen, Dining & Household, Household, Cooking & Bakeware', 171: 'Pets, Pet Supplies, Pet Treatments', 172: 'Pantry, Biscuits & Crackers, Rice Crackers', 173: 'Pantry, Pasta, Rice & Noodles, Short & Medium Grain Rices', 174: 'Pantry, Jams, Honey & Spreads, Marmite & Vegemite', 175: 'Kitchen, Dining & Household, Garage & Outdoor, Hardware & Tools', 176: 'Pantry, Pasta, Rice & Noodles, Wild & Coloured Rices', 177: 'Personal Care, Beauty & Grooming, Hair Care & Treatments', 178: 'Pantry, Baking Supplies & Sugar, Baking Additives', 179: 'Chilled, Frozen & Desserts, Cheese, Cream Cheese', 180: 'Pantry, Spices & Seasonings, Salt & Pepper', 181: 'Fresh Foods & Bakery, Dairy & Eggs, Fresh Organic Milk', 182: 'Beer, Cider & Wine, Wine, Merlot', 183: 'Beer, Cider & Wine, Beer & Cider, European-style Ale', 184: 'Fresh Foods & Bakery, Butchery, PreCooked Sausages', 185: 'Pantry, Condiments & Dressings, Relish', 186: 'Personal Care, Health & Wellness, Stop Smoking', 187: 'Kitchen, Dining & Household, Household, Manchester', 188: 'Personal Care, Health & Wellness, Pain Relief', 189: 'Kitchen, Dining & Household, Household, Pest & Insect Control', 190: 'Pantry, Canned & Prepared Foods, Pizza & Pizza Bases', 191: 'Pantry, World Foods, South African', 192: 'Meal Spot, Ready to Heat, Chilled Soups', 193: 'Beer, Cider & Wine, Beer & Cider, Brewing Supplies', 194: 'Drinks, Cold Drinks, Milk Drink Mixes', 195: 'Kitchen, Dining & Household, Cleaning Products, Paper Towels', 196: 'Chilled, Frozen & Desserts, Dairy & Eggs, Fresh Organic Milk', 197: 'Drinks, Cold Drinks, Sparkling Water', 198: 'Meal Spot, Ready to Cook, Simply DINNER', 199: 'Chilled, Frozen & Desserts, Dairy & Eggs, Long Life Milk & Milk Powder', 200: 'Pantry, Biscuits & Crackers, Crème & Jam Biscuits', 201: 'Kitchen, Dining & Household, Laundry, Washing Machine Cleaners', 202: 'Pantry, Pasta, Rice & Noodles, Fresh Pastas', 203: 'Chilled, Frozen & Desserts, Frozen Foods, Frozen Fish', 204: 'Kitchen, Dining & Household, Household, Food Wraps & Bags', 205: 'Chilled, Frozen & Desserts, Frozen Foods, Frozen Bread & Dough', 206: 'Pantry, Baking Supplies & Sugar, Sugar Substitutes', 207: 'Beer, Cider & Wine, Beer & Cider, Spirits', 208: 'Kitchen, Dining & Household, Household, Batteries & Light Bulbs', 209: 'Pantry, Biscuits & Crackers, Chocolate Biscuits', 210: 'Fresh Foods & Bakery, Dairy & Eggs, Flavoured Milk', 211: 'Chilled, Frozen & Desserts, Frozen Foods, Frozen Vegetables', 212: 'Fresh Foods & Bakery, Bakery, Biscuits & Slices', 213: 'Pantry, World Foods, Thai', 214: 'Pantry, Canned & Prepared Foods, Soup Mixes', 215: 'Chilled, Frozen & Desserts, Frozen Foods, Frozen Savouries', 216: 'Pantry, Hot Drinks, Fresh Coffees', 217: 'Kitchen, Dining & Household, Household, Party Supplies', 218: 'Pantry, Condiments & Dressings, Mint Sauces', 219: 'Personal Care, Health & Wellness, Adult Care', 220: 'Pantry, Spices & Seasonings, Dried Spices', 221: 'Chilled, Frozen & Desserts, Dairy & Eggs, Butter & Spreads', 222: 'Baby, Toddler & Kids, Baby Care, Baby Dental Care', 223: 'Chilled, Frozen & Desserts, Dairy & Eggs, Sour Cream & Crème Fraiche', 224: 'Pantry, Canned & Prepared Foods, Canned Milk & Cream', 225: 'Personal Care, Beauty & Grooming, Suncare & Self Tan', 226: 'Kitchen, Dining & Household, Garage & Outdoor, BBQ', 227: 'Meal Spot, Ready to Heat, Frozen Ready Meals', 228: 'Drinks, Cold Drinks, Sports & Energy Drinks', 229: 'Kitchen, Dining & Household, Household, Electrical', 230: 'Kitchen, Dining & Household, Household, Kitchenware', 231: 'Pantry, Jams, Honey & Spreads, Honey', 232: 'Pantry, World Foods, Indian', 233: 'Fresh Foods & Bakery, Bulk & Loose Foods, Bulk Confectionery', 234: 'Chilled, Frozen & Desserts, Frozen Foods, Frozen Beef, Lamb & Pork', 235: 'Fresh Foods & Bakery, Seafood, Fresh Seafood', 236: 'Fresh Foods & Bakery, Bakery, Fresh Breads & Rolls', 237: 'Fresh Foods & Bakery, Fruit & Vegetables, Vege Bags', 238: 'Personal Care, Health & Wellness, First Aid', 239: 'Kitchen, Dining & Household, Cleaning Products, Bathroom & Shower Cleaners', 240: 'Pets, Pet Supplies, Small Animal Supplies', 241: 'Pantry, Baking Supplies & Sugar, Flour', 242: 'Kitchen, Dining & Household, Cleaning Products, Dishwasher Rinse & Clean', 243: 'Pantry, Sauces, Stock & Marinades, Marinades', 244: 'Beer, Cider & Wine, Wine, Pinot Noir', 245: 'Chilled, Frozen & Desserts, Dairy & Eggs, Yoghurt & Dairy Food', 246: 'Fresh Foods & Bakery, Bakery, Fresh Desserts & Pastries', 247: 'Fresh Foods & Bakery, Seafood, Frozen Fish & Seafood', 248: 'Pantry, Hot Drinks, Malt Milk Drink Mixes', 249: 'Pantry, Salad & Cooking Oils, Avocado Oils', 250: 'Chilled, Frozen & Desserts, Cheese, Deli Cabinet Cheeses', 251: 'Pantry, Salad & Cooking Oils, Olive Oils', 252: 'Fresh Foods & Bakery, Bakery, Garlic & Herb Breads', 253: 'Baby, Toddler & Kids, Baby Care, Nappies & Changing', 254: 'Pantry, Salad & Cooking Oils, Coconut Oils', 255: 'Pantry, Snack Foods, Chips', 256: 'Pantry, Pasta, Rice & Noodles, Long Grain Rices', 257: 'Fresh Foods & Bakery, Deli, Salads & Cooked Meats, Ham & Pork', 258: 'Fresh Foods & Bakery, Fruit & Vegetables, Salad Bags', 259: 'Pantry, Jams, Honey & Spreads, Nut Spreads', 260: 'Fresh Foods & Bakery, Deli, Salads & Cooked Meats, Bacon', 261: 'Pantry, Jams, Honey & Spreads, Jam & Marmalade', 262: 'Pantry, Confectionery, Lollies Family Bags', 263: 'Pets, Pet Supplies, Dog Accessories', 264: 'Beer, Cider & Wine, Wine, Rose', 265: 'Pets, Pet Supplies, Cat Food', 266: 'Pantry, World Foods, Japanese', 267: 'Pantry, Salad & Cooking Oils, Cooking Fat', 268: 'Chilled, Frozen & Desserts, Desserts, Frozen Dessert Pastries', 269: 'Personal Care, Beauty & Grooming, Apparel & Hosiery', 270: 'Pantry, Pasta, Rice & Noodles, Noodles', 271: 'Chilled, Frozen & Desserts, Cheese, Cheese Slices', 272: 'Pantry, Sauces, Stock & Marinades, Gravies', 273: 'Chilled, Frozen & Desserts, Cheese, Cheese Blocks', 274: 'Fresh Foods & Bakery, Butchery, PrePacked Chicken & Poultry', 275: 'Pantry, Canned & Prepared Foods, Baked Beans & Spaghetti', 276: 'Pantry, Condiments & Dressings, Mayonnaise', 277: 'Pantry, Canned & Prepared Foods, Canned Soup', 278: 'Personal Care, Health & Wellness, Cough, Cold & Flu', 279: 'Meal Spot, Ready to Eat, Fresh Deli Savouries', 280: 'Chilled, Frozen & Desserts, Frozen Foods, Frozen Pies', 281: 'Kitchen, Dining & Household, Garage & Outdoor, Car Care', 282: 'Fresh Foods & Bakery, Deli, Salads & Cooked Meats, Continental Sausage & Salami', 283: 'Pantry, Confectionery, Chewing Gum & Mints', 284: 'Pantry, Spices & Seasonings, Freshly Ground Herbs', 285: 'Kitchen, Dining & Household, Cleaning Products, Carpet & Floor Cleaners', 286: 'Pantry, Snack Foods, Nut Bars & Snacks', 287: 'Drinks, Cold Drinks, Flavoured Water', 288: 'Meal Spot, Ready to Heat, Canned Soup', 289: 'Pantry, Confectionery, Chocolate Family Bags', 290: 'Pantry, Condiments & Dressings, Chutneys', 291: 'Pantry, World Foods, Korean', 292: 'Personal Care, Health & Wellness, Digestion, Nausea & Laxatives', 293: 'Chilled, Frozen & Desserts, Frozen Foods, Frozen Vegetarian', 294: 'Kitchen, Dining & Household, Household, Shoe Care', 295: 'Meal Spot, Ready to Heat, Frozen Pizza & Bases', 296: 'Fresh Foods & Bakery, Butchery, Fresh Venison & Game Meat', 297: 'Fresh Foods & Bakery, Seafood, Seafood Salad', 298: 'Fresh Foods & Bakery, Bulk & Loose Foods, Bulk Nuts', 299: 'Beer, Cider & Wine, Wine, Other White Wine', 300: 'Meal Spot, Ready to Cook, Mexican', 301: 'Pantry, Snack Foods, Bread Snacks', 302: 'Kitchen, Dining & Household, Household, Food Storage', 303: 'Fresh Foods & Bakery, Dairy & Eggs, Yoghurt Bases', 304: 'Pantry, World Foods, UK', 305: 'Personal Care, Health & Wellness, Sanitary Protection', 306: 'Fresh Foods & Bakery, Deli, Salads & Cooked Meats, PreCooked Chicken & Poultry', 307: 'Fresh Foods & Bakery, Fruit & Vegetables, Fresh Cut Fruit', 308: 'Fresh Foods & Bakery, Deli, Salads & Cooked Meats, Deli Salads', 309: 'Pantry, Sauces, Stock & Marinades, Packet Sauces', 310: 'Fresh Foods & Bakery, Butchery, PrePacked Beef & Lamb', 311: 'Pantry, Canned & Prepared Foods, Canned Meat', 312: 'Personal Care, Beauty & Grooming, Shaving & Hair Removal', 313: 'Pantry, World Foods, Chinese', 314: 'Pantry, Baking Supplies & Sugar, Cooking Chocolate', 315: 'Fresh Foods & Bakery, Seafood, Fresh Smoked Fish', 316: 'Pantry, Condiments & Dressings, Pickles', 317: 'Meal Spot, Ready to Heat, Ready Meals', 318: 'Drinks, Hot Drinks, Fresh Coffees', 319: 'Pantry, Condiments & Dressings, Aioli', 320: 'Fresh Foods & Bakery, Seafood, Fresh Fish Heads', 321: 'Beer, Cider & Wine, Beer & Cider, Lighter Alcohol Beers', 322: 'Pantry, Breakfast Cereals, Cold Cereals', 323: 'Personal Care, Health & Wellness, Allergy & Sinus', 324: 'Meal Spot, Ready to Eat, Deli Salads', 325: 'Chilled, Frozen & Desserts, Desserts, Ice Blocks & Ice Pops', 326: 'Pantry, Hot Drinks, Black Teas', 327: 'Pantry, Hot Drinks, Chocolate Milk Drink Mixes', 328: 'Pantry, Condiments & Dressings, Barbeque Sauces', 329: 'Personal Care, Health & Wellness, Contact Lens & Eye Care', 330: 'Kitchen, Dining & Household, Laundry, Clothes Pegs', 331: 'Fresh Foods & Bakery, Dairy & Eggs, Long Life Milk & Milk Powder', 332: 'Pantry, Sauces, Stock & Marinades, Chilled Pasta Sauces', 333: 'Meal Spot, Ready to Heat, Chilled Pies & Pastries', 334: 'Personal Care, Beauty & Grooming, Deodorants', 335: 'Fresh Foods & Bakery, Butchery, Fresh Sausages', 336: 'Fresh Foods & Bakery, Seafood, Fresh Shellfish', 337: 'Fresh Foods & Bakery, Bulk & Loose Foods, Bulk Snacks & Mixes', 338: 'Fresh Foods & Bakery, Deli, Salads & Cooked Meats, Dips, Pesto & Pate', 339: 'Fresh Foods & Bakery, Deli, Salads & Cooked Meats, PreCooked Beef & Lamb', 340: 'Personal Care, Beauty & Grooming, Makeup & Cosmetics', 341: 'Kitchen, Dining & Household, Cleaning Products, Glass Cleaners', 342: 'Drinks, Cold Drinks, Non Dairy Milks', 343: 'Personal Care, Health & Wellness, Insect Repellent', 344: 'Drinks, Cold Drinks, Powdered Drinks', 345: 'Pantry, Sauces, Stock & Marinades, Soy Sauce', 346: 'Pantry, Canned & Prepared Foods, Coconut Cream & Milk', 347: 'Pantry, Canned & Prepared Foods, Canned Fish', 348: 'Pantry, Salad & Cooking Oils, Vegetable Oils', 349: 'Fresh Foods & Bakery, Bakery, Bread Rolls & Buns', 350: 'Personal Care, Beauty & Grooming, Hair Colouring', 351: 'Fresh Foods & Bakery, Dairy & Eggs, Fresh Cream', 352: 'Pets, Pet Supplies, Fish & Aquatic Pet Supplies', 353: 'Fresh Foods & Bakery, Bulk & Loose Foods, Bulk Dried Fruit', 354: 'Pantry, World Foods, Mexican', 355: 'Fresh Foods & Bakery, Fruit & Vegetables, PrePacked Fresh Vegetables', 356: 'Pantry, Hot Drinks, Coffee Flavoured Sachets', 357: 'Pantry, Snack Foods, Snack Mixes', 358: 'Pantry, Pasta, Rice & Noodles, Dried Pastas', 359: 'Beer, Cider & Wine, Wine, Pinot Gris', 360: 'Pantry, Spices & Seasonings, Garlic & Ginger', 361: 'Kitchen, Dining & Household, Household, Tissues & Toilet Paper', 362: 'Pantry, Confectionery, Christmas', 363: 'Fresh Foods & Bakery, Bakery, Sliced Bread', 364: 'Pantry, Salad & Cooking Oils, Other Oils', 365: 'Kitchen, Dining & Household, Cleaning Products, Kitchen Cleaners', 366: 'Pantry, Baking Supplies & Sugar, Sugar', 367: 'Fresh Foods & Bakery, Fruit & Vegetables, Fresh Herbs', 368: 'Fresh Foods & Bakery, Deli, Salads & Cooked Meats, Chilled Pies & Pastries', 369: 'Meal Spot, Ready to Cook, Noodle Meals', 370: 'Personal Care, Health & Wellness, Foot Care', 371: 'Drinks, Cold Drinks, Vegetable Juices', 372: 'Pantry, Canned & Prepared Foods, Syrups & Sauces', 373: 'Chilled, Frozen & Desserts, Cheese, Deli Specialty Cheeses', 374: 'Personal Care, Health & Wellness, Family Planning', 375: 'Kitchen, Dining & Household, Household, Disposable Tableware', 376: 'Kitchen, Dining & Household, Laundry, Laundry Liquid & Capsules', 377: 'Fresh Foods & Bakery, Bakery, Fresh Biscuits & Slices', 378: 'Pantry, Condiments & Dressings, Chilli & Pepper Sauces', 379: 'Chilled, Frozen & Desserts, Frozen Foods, Frozen Chicken & Poultry', 380: 'Kitchen, Dining & Household, Household, Fire Needs', 381: 'Pantry, Snack Foods, Muesli Bars', 382: 'Chilled, Frozen & Desserts, Frozen Foods, Frozen Fruit', 383: 'Fresh Foods & Bakery, Deli, Salads & Cooked Meats, Hummus', 384: 'Fresh Foods & Bakery, Butchery, PrePacked Sausages', 385: 'Kitchen, Dining & Household, Stationery & Entertainment, Newspapers', 386: 'Pantry, Baking Supplies & Sugar, Baking Mixes', 387: 'Pantry, Canned & Prepared Foods, Packet Soup', 388: 'Fresh Foods & Bakery, Dairy & Eggs, Yoghurt & Dairy Food', 389: 'Chilled, Frozen & Desserts, Dairy & Eggs, Fresh Milk', 390: 'Kitchen, Dining & Household, Laundry, Fine Fabric Washers', 391: 'Chilled, Frozen & Desserts, Frozen Foods, Frozen Seafood', 392: 'Pantry, Hot Drinks, Coffee Additives & Filters', 393: 'Kitchen, Dining & Household, Laundry, Pre Wash Stain Removers', 394: 'Drinks, Cold Drinks, Squash, Syrups & Cordials', 395: 'Drinks, Hot Drinks, Coffee Substitutes', 396: 'Kitchen, Dining & Household, Cleaning Products, Dishwashing Liquid', 397: 'Drinks, Cold Drinks, Fruit Drinks & Juices', 398: 'Pantry, Jams, Honey & Spreads, Sweet Spreads', 399: 'Fresh Foods & Bakery, Bulk & Loose Foods, Bulk Breakfast Cereals', 400: 'Drinks, Hot Drinks, Instant Coffees', 401: 'Pantry, Canned & Prepared Foods, Canned Fruit', 402: 'Pantry, Confectionery, Chocolate Blocks', 403: 'Pantry, Canned & Prepared Foods, Chilled Soups', 404: 'Pantry, Condiments & Dressings, Fruit Sauces', 405: 'Pantry, Canned & Prepared Foods, Ready Meals', 406: 'Pantry, Sauces, Stock & Marinades, Tomato Sauces', 407: 'Pantry, Condiments & Dressings, Vinegars', 408: 'Meal Spot, Ready to Eat, Seafood Salad', 409: 'Pantry, Baking Supplies & Sugar, Breadcrumbs & Coatings', 410: 'Fresh Foods & Bakery, Dairy & Eggs, Sour Cream & Crème Fraiche', 411: 'Drinks, Hot Drinks, Fruit & Herbal Teas', 412: 'Pantry, Sauces, Stock & Marinades, Pasta Sauces', 413: 'Fresh Foods & Bakery, Bakery, Specialty Breads', 414: 'Beer, Cider & Wine, Beer & Cider, British-style Ale', 415: 'Pantry, Confectionery, Liquorice', 416: 'Pantry, Condiments & Dressings, Olives', 417: 'Pets, Pet Supplies, Pet Accessories', 418: 'Pantry, Baking Supplies & Sugar, Icing & Decorating', 419: 'Chilled, Frozen & Desserts, Frozen Foods, Frozen Ready Meals', 420: 'Chilled, Frozen & Desserts, Desserts, Frozen Bavarians & Cheesecake', 421: 'Chilled, Frozen & Desserts, Desserts, Canned Desserts', 422: 'Fresh Foods & Bakery, Butchery, Fresh Pork', 423: 'Pantry, Snack Foods, Potato Chips', 424: 'Chilled, Frozen & Desserts, Desserts, Jelly & Powdered Desserts', 425: 'Beer, Cider & Wine, Beer & Cider, Stout, Porter & Black Beer', 426: 'Personal Care, Beauty & Grooming, Hand & Body Care', 427: 'Fresh Foods & Bakery, Deli, Salads & Cooked Meats, Gourmet Oils & Condiments', 428: 'Pets, Pet Supplies, Dog Food'}\n"
     ]
    }
   ],
   "source": [
    "levela = df[\"level_1\"].tolist()\n",
    "levelb = df[\"level_2\"].tolist()\n",
    "levelc = df[\"level_3\"].tolist()\n",
    "labels = [\", \".join([levela[i], levelb[i], levelc[i]]) for i in range(len(levela))]\n",
    "label2id = {l: i for i, l in enumerate(set(labels))}\n",
    "id2label = {i: l for l, i in label2id.items()}\n",
    "labels = [label2id[l] for l in labels]\n",
    "texts = df[\"ProductName\"].tolist()\n",
    "vectorizer = TfidfVectorizer()\n",
    "features = vectorizer.fit_transform(texts)\n",
    "print(\"data len:\", len(texts))\n",
    "print(\"id2label\", id2label)\n"
   ],
   "metadata": {
    "collapsed": false,
    "pycharm": {
     "name": "#%%\n"
    }
   }
  }
 ],
 "metadata": {
  "kernelspec": {
   "display_name": "Python 3",
   "language": "python",
   "name": "python3"
  },
  "language_info": {
   "codemirror_mode": {
    "name": "ipython",
    "version": 2
   },
   "file_extension": ".py",
   "mimetype": "text/x-python",
   "name": "python",
   "nbconvert_exporter": "python",
   "pygments_lexer": "ipython2",
   "version": "2.7.6"
  }
 },
 "nbformat": 4,
 "nbformat_minor": 0
}