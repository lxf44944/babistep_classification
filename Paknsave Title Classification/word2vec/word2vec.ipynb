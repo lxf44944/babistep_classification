{
 "cells": [
  {
   "cell_type": "markdown",
   "metadata": {
    "pycharm": {
     "name": "#%% md\n"
    }
   },
   "source": [
    "# Word2Vec\n"
   ]
  },
  {
   "cell_type": "markdown",
   "metadata": {
    "pycharm": {
     "name": "#%% md\n"
    }
   },
   "source": [
    "## Import packages"
   ]
  },
  {
   "cell_type": "code",
   "execution_count": 1,
   "metadata": {
    "pycharm": {
     "name": "#%%\n"
    }
   },
   "outputs": [
    {
     "ename": "ModuleNotFoundError",
     "evalue": "No module named 'torch'",
     "output_type": "error",
     "traceback": [
      "\u001B[0;31m---------------------------------------------------------------------------\u001B[0m",
      "\u001B[0;31mModuleNotFoundError\u001B[0m                       Traceback (most recent call last)",
      "\u001B[0;32m<ipython-input-1-69f76e5e2f7d>\u001B[0m in \u001B[0;36m<module>\u001B[0;34m\u001B[0m\n\u001B[1;32m      3\u001B[0m \u001B[0;32mimport\u001B[0m \u001B[0mnltk\u001B[0m\u001B[0;34m\u001B[0m\u001B[0;34m\u001B[0m\u001B[0m\n\u001B[1;32m      4\u001B[0m \u001B[0;34m\u001B[0m\u001B[0m\n\u001B[0;32m----> 5\u001B[0;31m \u001B[0;32mimport\u001B[0m \u001B[0mtorch\u001B[0m\u001B[0;34m\u001B[0m\u001B[0;34m\u001B[0m\u001B[0m\n\u001B[0m\u001B[1;32m      6\u001B[0m \u001B[0;32mimport\u001B[0m \u001B[0mtorch\u001B[0m\u001B[0;34m.\u001B[0m\u001B[0mnn\u001B[0m\u001B[0;34m\u001B[0m\u001B[0;34m\u001B[0m\u001B[0m\n\u001B[1;32m      7\u001B[0m \u001B[0;32mimport\u001B[0m \u001B[0mtorchtext\u001B[0m\u001B[0;34m.\u001B[0m\u001B[0mvocab\u001B[0m \u001B[0;32mas\u001B[0m \u001B[0mvocab\u001B[0m\u001B[0;34m\u001B[0m\u001B[0;34m\u001B[0m\u001B[0m\n",
      "\u001B[0;31mModuleNotFoundError\u001B[0m: No module named 'torch'"
     ]
    }
   ],
   "source": [
    "import numpy as np\n",
    "import os\n",
    "import nltk\n",
    "\n",
    "import torch\n",
    "import torch.nn\n",
    "import torchtext.vocab as vocab\n",
    "from sklearn import metrics\n",
    "import pandas as pd\n",
    "import warnings\n",
    "from sklearn.metrics import accuracy_score, f1_score, recall_score\n",
    "from sklearn.linear_model import LinearRegression\n",
    "from datetime import datetime\n",
    "from sklearn.neighbors import KNeighborsClassifier\n",
    "from sklearn.model_selection import train_test_split\n",
    "from sklearn.linear_model import LinearRegression\n",
    "warnings.filterwarnings(\"ignore\")\n"
   ]
  },
  {
   "cell_type": "markdown",
   "metadata": {
    "pycharm": {
     "name": "#%% md\n"
    }
   },
   "source": [
    "## Function definition"
   ]
  },
  {
   "cell_type": "code",
   "execution_count": 6,
   "metadata": {
    "pycharm": {
     "name": "#%%\n"
    }
   },
   "outputs": [],
   "source": [
    "def load_data():\n",
    "    column = ['product_name', 'cat1']\n",
    "    df = pd.read_csv(\"../data_cleaning/unique_product.csv\", encoding='utf_8_sig', usecols=column)\n",
    "    # print(df.columns)\n",
    "    #df.drop(df[df.cat== 'Seafood'].index, inplace= True )\n",
    "    df.columns = ['name', 'cat']\n",
    "    texts = df['name'].values\n",
    "    df = df.fillna(-1)\n",
    "    # labels = np.argmax(df[df.columns[-4:]].values, axis=1)\n",
    "    labels = df['cat'].values\n",
    "    label2id = {l: i for i, l in enumerate(set(labels))}\n",
    "    id2label = {i: l for l, i in label2id.items()}\n",
    "    labels = [label2id[l] for l in labels]\n",
    "    return texts, labels, id2label"
   ]
  },
  {
   "cell_type": "code",
   "execution_count": 7,
   "metadata": {
    "pycharm": {
     "name": "#%%\n"
    }
   },
   "outputs": [],
   "source": [
    "def text_preprocess(text):\n",
    "    text = str(text)\n",
    "    english_punctuations = [',', '.', ':', ';', '?', '(', ')', '[', ']', '&', '!', '*', '@', '#', '$', '%', '\\'', '/']\n",
    "    text = \"\".join([(a if a not in english_punctuations else \" \") for a in text])\n",
    "    text = \" \".join(nltk.tokenize.word_tokenize(text.lower()))\n",
    "    return text"
   ]
  },
  {
   "cell_type": "code",
   "execution_count": 8,
   "metadata": {
    "pycharm": {
     "name": "#%%\n"
    }
   },
   "outputs": [],
   "source": [
    "def load_embeddings():\n",
    "\n",
    "    cache = '.vector_cache'\n",
    "    if not os.path.exists(cache):\n",
    "        os.mkdir(cache)\n",
    "\n",
    "    word2vec = vocab.Vectors(name=r'./word2vec_300dim.txt', cache=cache)\n",
    "\n",
    "    return word2vec"
   ]
  },
  {
   "cell_type": "code",
   "execution_count": 9,
   "metadata": {
    "pycharm": {
     "name": "#%%\n"
    }
   },
   "outputs": [],
   "source": [
    "def encode_text_to_features(vector, text):\n",
    "    vectors = vector.get_vecs_by_tokens(text.split())\n",
    "    sentence_vector = torch.mean(vectors, dim=0)\n",
    "    return sentence_vector.tolist()"
   ]
  },
  {
   "cell_type": "code",
   "execution_count": 10,
   "metadata": {
    "pycharm": {
     "name": "#%%\n"
    }
   },
   "outputs": [],
   "source": [
    "def evaluation(predictions, labels, id2label, model_name=None):\n",
    "    acc = accuracy_score(labels, predictions)\n",
    "    recall = recall_score(labels, predictions, average=\"macro\")\n",
    "    f1 = f1_score(labels, predictions, average=\"macro\")\n",
    "    report = metrics.classification_report(labels, predictions,\n",
    "                                           target_names=[id2label[i] for i in range(len(id2label))])\n",
    "    info = \"acc:%s, recall:%s, f1 score:%s\" % (acc, recall, f1)\n",
    "    if model_name is not None:\n",
    "        info = \"%s: %s\" % (model_name, info)\n",
    "    print(info)\n",
    "    print(report)\n",
    "\n"
   ]
  },
  {
   "cell_type": "markdown",
   "metadata": {
    "pycharm": {
     "name": "#%% md\n"
    }
   },
   "source": [
    "## Read data"
   ]
  },
  {
   "cell_type": "code",
   "execution_count": 11,
   "metadata": {
    "pycharm": {
     "name": "#%%\n"
    }
   },
   "outputs": [
    {
     "data": {
      "text/html": [
       "<div>\n",
       "<style scoped>\n",
       "    .dataframe tbody tr th:only-of-type {\n",
       "        vertical-align: middle;\n",
       "    }\n",
       "\n",
       "    .dataframe tbody tr th {\n",
       "        vertical-align: top;\n",
       "    }\n",
       "\n",
       "    .dataframe thead th {\n",
       "        text-align: right;\n",
       "    }\n",
       "</style>\n",
       "<table border=\"1\" class=\"dataframe\">\n",
       "  <thead>\n",
       "    <tr style=\"text-align: right;\">\n",
       "      <th></th>\n",
       "      <th>name</th>\n",
       "      <th>cat</th>\n",
       "    </tr>\n",
       "  </thead>\n",
       "  <tbody>\n",
       "    <tr>\n",
       "      <th>0</th>\n",
       "      <td>Moccona Strong Cappuccino Sachets</td>\n",
       "      <td>Drinks</td>\n",
       "    </tr>\n",
       "    <tr>\n",
       "      <th>1</th>\n",
       "      <td>Nescafe Dolce Gusto Americano Capsules</td>\n",
       "      <td>Drinks</td>\n",
       "    </tr>\n",
       "    <tr>\n",
       "      <th>2</th>\n",
       "      <td>Starbucks Caffe Varona Capsules</td>\n",
       "      <td>Drinks</td>\n",
       "    </tr>\n",
       "    <tr>\n",
       "      <th>3</th>\n",
       "      <td>Robert Harris Italian Roast Coffee Capsules</td>\n",
       "      <td>Drinks</td>\n",
       "    </tr>\n",
       "    <tr>\n",
       "      <th>4</th>\n",
       "      <td>Moccona Latte Sachets</td>\n",
       "      <td>Drinks</td>\n",
       "    </tr>\n",
       "  </tbody>\n",
       "</table>\n",
       "</div>"
      ],
      "text/plain": [
       "                                          name     cat\n",
       "0            Moccona Strong Cappuccino Sachets  Drinks\n",
       "1       Nescafe Dolce Gusto Americano Capsules  Drinks\n",
       "2              Starbucks Caffe Varona Capsules  Drinks\n",
       "3  Robert Harris Italian Roast Coffee Capsules  Drinks\n",
       "4                        Moccona Latte Sachets  Drinks"
      ]
     },
     "execution_count": 11,
     "metadata": {},
     "output_type": "execute_result"
    }
   ],
   "source": [
    "col_list = ['product_name', 'cat1']\n",
    "data = pd.read_csv('../data_cleaning/unique_product.csv', encoding='utf_8_sig', usecols=col_list)\n",
    "data.columns = ['name', 'cat']\n",
    "data.head()"
   ]
  },
  {
   "cell_type": "code",
   "execution_count": 12,
   "metadata": {
    "pycharm": {
     "name": "#%%\n"
    }
   },
   "outputs": [],
   "source": [
    "data = data.apply([text_preprocess])"
   ]
  },
  {
   "cell_type": "code",
   "execution_count": 13,
   "metadata": {
    "pycharm": {
     "name": "#%%\n"
    }
   },
   "outputs": [
    {
     "data": {
      "text/html": [
       "<div>\n",
       "<style scoped>\n",
       "    .dataframe tbody tr th:only-of-type {\n",
       "        vertical-align: middle;\n",
       "    }\n",
       "\n",
       "    .dataframe tbody tr th {\n",
       "        vertical-align: top;\n",
       "    }\n",
       "\n",
       "    .dataframe thead th {\n",
       "        text-align: right;\n",
       "    }\n",
       "</style>\n",
       "<table border=\"1\" class=\"dataframe\">\n",
       "  <thead>\n",
       "    <tr style=\"text-align: right;\">\n",
       "      <th></th>\n",
       "      <th>name</th>\n",
       "      <th>cat</th>\n",
       "    </tr>\n",
       "  </thead>\n",
       "  <tbody>\n",
       "    <tr>\n",
       "      <th>0</th>\n",
       "      <td>moccona strong cappuccino sachets</td>\n",
       "      <td>drinks</td>\n",
       "    </tr>\n",
       "    <tr>\n",
       "      <th>1</th>\n",
       "      <td>nescafe dolce gusto americano capsules</td>\n",
       "      <td>drinks</td>\n",
       "    </tr>\n",
       "    <tr>\n",
       "      <th>2</th>\n",
       "      <td>starbucks caffe varona capsules</td>\n",
       "      <td>drinks</td>\n",
       "    </tr>\n",
       "    <tr>\n",
       "      <th>3</th>\n",
       "      <td>robert harris italian roast coffee capsules</td>\n",
       "      <td>drinks</td>\n",
       "    </tr>\n",
       "    <tr>\n",
       "      <th>4</th>\n",
       "      <td>moccona latte sachets</td>\n",
       "      <td>drinks</td>\n",
       "    </tr>\n",
       "  </tbody>\n",
       "</table>\n",
       "</div>"
      ],
      "text/plain": [
       "                                          name     cat\n",
       "0            moccona strong cappuccino sachets  drinks\n",
       "1       nescafe dolce gusto americano capsules  drinks\n",
       "2              starbucks caffe varona capsules  drinks\n",
       "3  robert harris italian roast coffee capsules  drinks\n",
       "4                        moccona latte sachets  drinks"
      ]
     },
     "execution_count": 13,
     "metadata": {},
     "output_type": "execute_result"
    }
   ],
   "source": [
    "data.columns = ['name', 'cat']\n",
    "data.head()"
   ]
  },
  {
   "cell_type": "markdown",
   "metadata": {
    "pycharm": {
     "name": "#%% md\n"
    }
   },
   "source": [
    "## Prepare wordvec"
   ]
  },
  {
   "cell_type": "code",
   "execution_count": 14,
   "metadata": {
    "pycharm": {
     "name": "#%%\n"
    }
   },
   "outputs": [],
   "source": [
    "corpus = open('./corpus.txt', 'w', encoding='utf_8_sig')\n",
    "for i in range(len(data['name'])):\n",
    "    newline = data['name'][i] + ' ' + data['cat'][i] + '\\n'\n",
    "    corpus.write(newline)"
   ]
  },
  {
   "cell_type": "code",
   "execution_count": 16,
   "metadata": {
    "pycharm": {
     "name": "#%%\n"
    }
   },
   "outputs": [],
   "source": [
    "#https://mp.weixin.qq.com/s/UFiZsPfXwg8lQUsGXcgHjA\n",
    "\n",
    "from gensim.models import Word2Vec\n",
    "from gensim.models.word2vec import LineSentence\n",
    "import multiprocessing"
   ]
  },
  {
   "cell_type": "code",
   "execution_count": 17,
   "metadata": {
    "pycharm": {
     "name": "#%%\n"
    }
   },
   "outputs": [],
   "source": [
    "readlines = open('./corpus.txt', 'r', encoding='utf_8_sig')\n",
    "\n",
    "model = Word2Vec(LineSentence(readlines),\n",
    "                 size=300, window=5, min_count=10, sample=1e-5,\n",
    "                 workers=multiprocessing.cpu_count(), iter=5,)\n",
    "\n",
    "model.wv.save_word2vec_format(r'./word2vec_300dim.txt', binary=False)"
   ]
  },
  {
   "cell_type": "code",
   "execution_count": 18,
   "metadata": {
    "pycharm": {
     "name": "#%%\n"
    }
   },
   "outputs": [
    {
     "name": "stdout",
     "output_type": "stream",
     "text": [
      "data len: 390811\n",
      "id2label {0: 'Pantry', 1: 'Beer, Cider & Wine', 2: 'Drinks', 3: 'Pets', 4: 'Fresh Foods & Bakery', 5: 'Baby, Toddler & Kids', 6: 'Chilled, Frozen & Desserts', 7: 'Personal Care', 8: 'Kitchen, Dining & Household'}\n"
     ]
    }
   ],
   "source": [
    "texts, labels, id2label = load_data()\n",
    "texts = [text_preprocess(t) for t in texts]\n",
    "vector = load_embeddings()\n",
    "features = [encode_text_to_features(vector, text) for text in texts]\n",
    "print(\"data len:\", len(texts))\n",
    "print(\"id2label\",id2label)"
   ]
  },
  {
   "cell_type": "markdown",
   "metadata": {
    "pycharm": {
     "name": "#%% md\n"
    }
   },
   "source": [
    "## Start Training"
   ]
  },
  {
   "cell_type": "code",
   "execution_count": 20,
   "metadata": {
    "pycharm": {
     "name": "#%%\n"
    }
   },
   "outputs": [],
   "source": [
    "x_train, x_test, y_train, y_test = train_test_split(features, labels, test_size=0.25,\n",
    "                                                                            random_state=3)"
   ]
  },
  {
   "cell_type": "markdown",
   "metadata": {
    "pycharm": {
     "name": "#%% md\n"
    }
   },
   "source": [
    "### SVM"
   ]
  },
  {
   "cell_type": "code",
   "execution_count": null,
   "metadata": {
    "pycharm": {
     "is_executing": true,
     "name": "#%%\n"
    }
   },
   "outputs": [],
   "source": [
    "from sklearn.svm import SVC\n",
    "from sklearn.multiclass import OneVsRestClassifier\n",
    "model = OneVsRestClassifier(SVC())#C=1, gamma=20, decision_function_shape='ovr'))\n",
    "model.fit(x_train, y_train)\n",
    "predict_labels = model.predict(x_test)\n",
    "evaluation(predict_labels, y_test, id2label, \"svm\")"
   ]
  },
  {
   "cell_type": "markdown",
   "metadata": {
    "pycharm": {
     "name": "#%% md\n"
    }
   },
   "source": [
    "### KNN"
   ]
  },
  {
   "cell_type": "code",
   "execution_count": 24,
   "metadata": {
    "pycharm": {
     "name": "#%%\n"
    }
   },
   "outputs": [
    {
     "name": "stdout",
     "output_type": "stream",
     "text": [
      "knn: acc:0.9794069782913524, recall:0.9805184480036127, f1 score:0.9808807908923433\n",
      "                             precision    recall  f1-score   support\n",
      "\n",
      "                     Pantry       0.97      0.98      0.98     30136\n",
      "         Beer, Cider & Wine       0.98      0.99      0.99      6259\n",
      "                     Drinks       0.98      0.98      0.98      7027\n",
      "                       Pets       0.99      0.99      0.99      4094\n",
      "       Fresh Foods & Bakery       0.97      0.95      0.96     10664\n",
      "       Baby, Toddler & Kids       0.99      1.00      0.99      3067\n",
      " Chilled, Frozen & Desserts       0.98      0.97      0.97     11187\n",
      "              Personal Care       0.99      0.99      0.99     14761\n",
      "Kitchen, Dining & Household       0.98      0.98      0.98     10508\n",
      "\n",
      "                   accuracy                           0.98     97703\n",
      "                  macro avg       0.98      0.98      0.98     97703\n",
      "               weighted avg       0.98      0.98      0.98     97703\n",
      "\n"
     ]
    }
   ],
   "source": [
    "# knn\n",
    "k = len(id2label)\n",
    "model = KNeighborsClassifier(n_neighbors=k)\n",
    "model.fit(x_train, y_train)\n",
    "predict_labels = model.predict(x_test)\n",
    "evaluation(predict_labels, y_test, id2label, \"knn\")"
   ]
  },
  {
   "cell_type": "markdown",
   "metadata": {
    "pycharm": {
     "name": "#%% md\n"
    }
   },
   "source": [
    "### Logistic Rregression"
   ]
  },
  {
   "cell_type": "code",
   "execution_count": 21,
   "metadata": {
    "pycharm": {
     "name": "#%%\n"
    }
   },
   "outputs": [
    {
     "name": "stdout",
     "output_type": "stream",
     "text": [
      "logistic: acc:0.3544415217547056, recall:0.37425695116724866, f1 score:0.3271159870445225\n",
      "                             precision    recall  f1-score   support\n",
      "\n",
      "                     Pantry       0.87      0.37      0.52     30136\n",
      "         Beer, Cider & Wine       0.16      0.35      0.22      6259\n",
      "                     Drinks       0.20      0.38      0.26      7027\n",
      "                       Pets       0.17      0.53      0.26      4094\n",
      "       Fresh Foods & Bakery       0.33      0.32      0.32     10664\n",
      "       Baby, Toddler & Kids       0.15      0.46      0.23      3067\n",
      " Chilled, Frozen & Desserts       0.25      0.21      0.23     11187\n",
      "              Personal Care       0.54      0.35      0.42     14761\n",
      "Kitchen, Dining & Household       0.59      0.41      0.48     10508\n",
      "\n",
      "                   accuracy                           0.35     97703\n",
      "                  macro avg       0.36      0.37      0.33     97703\n",
      "               weighted avg       0.51      0.35      0.39     97703\n",
      "\n"
     ]
    }
   ],
   "source": [
    "# logistic\n",
    "model = LinearRegression()\n",
    "model.fit(x_train, y_train)\n",
    "predict_labels = model.predict(x_test)\n",
    "# print(predict_labels)\n",
    "predict_labels = [np.round(p) for p in predict_labels]\n",
    "max_label = len(id2label) - 1\n",
    "predict_labels = [l if max_label >= l else max_label for l in predict_labels]\n",
    "min_label = 0\n",
    "predict_labels = [l if min_label <= l else min_label for l in predict_labels]\n",
    "evaluation(predict_labels, y_test,id2label, \"logistic\")"
   ]
  },
  {
   "cell_type": "markdown",
   "metadata": {
    "pycharm": {
     "name": "#%% md\n"
    }
   },
   "source": [
    "### GDBT"
   ]
  },
  {
   "cell_type": "code",
   "execution_count": 25,
   "metadata": {
    "pycharm": {
     "name": "#%%\n"
    }
   },
   "outputs": [],
   "source": [
    "# GDBT\n",
    "import lightgbm as lgb\n",
    "\n",
    "def lgb_model(x_train, x_test, y_train, y_test, verbose):\n",
    "    params = {'num_leaves': 60,\n",
    "    'min_data_in_leaf': 30,\n",
    "    'objective': 'multiclass',\n",
    "    'num_class': 33,\n",
    "    'max_depth': -1,\n",
    "    'learning_rate': 0.03,\n",
    "    \"min_sum_hessian_in_leaf\": 6,\n",
    "    \"boosting\": \"gbdt\",\n",
    "    \"feature_fraction\": 0.9,\n",
    "    \"bagging_freq\": 1,\n",
    "    \"bagging_fraction\": 0.8,\n",
    "    \"bagging_seed\": 11,\n",
    "    \"lambda_l1\": 0.1,\n",
    "    \"verbosity\": -1,\n",
    "    \"nthread\": 15,\n",
    "    'metric': 'multi_error',\n",
    "    \"random_state\": 2020\n",
    "          }\n",
    "\n",
    "    model = lgb.train(params\n",
    "                      , lgb.Dataset(x_train, y_train)\n",
    "                      , num_boost_round = 100000\n",
    "                      , valid_sets = [lgb.Dataset(x_test, y_test)]\n",
    "                      , verbose_eval = verbose\n",
    "                      , early_stopping_rounds = 500\n",
    "                     )\n",
    "\n",
    "    print('Predicting...')\n",
    "    y_prob = model.predict(x_test, num_iteration=model.best_iteration)\n",
    "    y_pred = [list(x).index(max(x)) for x in y_prob]\n",
    "    print(\"AUC score: {:<8.5f}\".format(metrics.accuracy_score(y_pred, y_test)))\n",
    "    report = metrics.classification_report(y_test, y_pred, target_names=[id2label[i] for i in range(len(id2label))])\n",
    "    print(report)\n",
    "\n",
    "    return True\n",
    "\n",
    "\n"
   ]
  },
  {
   "cell_type": "code",
   "execution_count": null,
   "metadata": {
    "pycharm": {
     "name": "#%%\n"
    }
   },
   "outputs": [],
   "source": [
    "final = lgb_model(x_train, x_test, y_train, y_test, verbose=False)"
   ]
  },
  {
   "cell_type": "markdown",
   "metadata": {
    "pycharm": {
     "name": "#%% md\n"
    }
   },
   "source": [
    "### SVM"
   ]
  },
  {
   "cell_type": "code",
   "execution_count": null,
   "metadata": {
    "pycharm": {
     "name": "#%%\n"
    }
   },
   "outputs": [],
   "source": [
    "from sklearn.multiclass import OneVsRestClassifier\n",
    "from sklearn.grid_search import GridSearchCV\n",
    "from sklearn.svm import SVC\n",
    "model = OneVsRestClassifier(SVC())\n",
    "model.fit(x_train, y_train)\n",
    "predict_labels = model.predict(x_test)\n",
    "evaluation(predict_labels, y_test, id2label, \"svm\")"
   ]
  },
  {
   "cell_type": "code",
   "execution_count": 23,
   "metadata": {
    "pycharm": {
     "name": "#%%\n"
    }
   },
   "outputs": [],
   "source": [
    "import matplotlib.pyplot as plt\n",
    "from sklearn.model_selection import learning_curve"
   ]
  },
  {
   "cell_type": "code",
   "execution_count": null,
   "metadata": {
    "pycharm": {
     "is_executing": true,
     "name": "#%%\n"
    }
   },
   "outputs": [],
   "source": [
    "train_sizes,train_score,test_score = learning_curve(SVC(),features,labels,train_sizes=[0.1,0.2,0.4,0.6,0.8,1],cv=5,scoring='accuracy')\n",
    "train_error =  1- np.mean(train_score,axis=1)\n",
    "test_error = 1- np.mean(test_score,axis=1)\n",
    "plt.plot(train_sizes,train_error,'o-',color = 'r',label = 'training')\n",
    "plt.plot(train_sizes,test_error,'o-',color = 'g',label = 'testing')\n",
    "plt.legend(loc='best')\n",
    "plt.xlabel('traing examples')\n",
    "plt.ylabel('error')\n",
    "plt.show()"
   ]
  },
  {
   "cell_type": "code",
   "execution_count": null,
   "metadata": {
    "pycharm": {
     "is_executing": true,
     "name": "#%%\n"
    }
   },
   "outputs": [],
   "source": [
    "# from sklearn.naive_bayes import MultinomialNB"
   ]
  },
  {
   "cell_type": "code",
   "execution_count": null,
   "metadata": {
    "pycharm": {
     "name": "#%%\n"
    }
   },
   "outputs": [],
   "source": [
    "\n",
    "\n"
   ]
  }
 ],
 "metadata": {
  "kernelspec": {
   "display_name": "Python 3",
   "language": "python",
   "name": "python3"
  },
  "language_info": {
   "codemirror_mode": {
    "name": "ipython",
    "version": 3
   },
   "file_extension": ".py",
   "mimetype": "text/x-python",
   "name": "python",
   "nbconvert_exporter": "python",
   "pygments_lexer": "ipython3",
   "version": "3.7.6"
  }
 },
 "nbformat": 4,
 "nbformat_minor": 1
}