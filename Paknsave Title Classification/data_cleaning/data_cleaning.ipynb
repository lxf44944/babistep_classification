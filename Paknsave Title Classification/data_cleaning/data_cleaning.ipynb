{
 "cells": [
  {
   "cell_type": "code",
   "execution_count": 9,
   "outputs": [
    {
     "output_type": "display_data",
     "data": {
      "text/plain": "          product_id                                       product_name  \\\n0  5034680-EA-000PNS          Nescafe Dolce Gusto Skinny Light Capsules   \n1  5239418-EA-000PNS  Red Seal Infusions Turmeric Lemon & Manuka Hon...   \n2  5002506-EA-000PNS                Bushells Coffee And Chicory Essence   \n3  5266285-EA-000PNS  Robert Harris Hazelnut Strength 3 Medium Infus...   \n4  5267457-EA-000PNS                   Red Seal Immunity Green Tea Bags   \n\n  price_mode  price_item                                                url  \\\n0         ea        8.79  /product/5034680_ea_000pns?name=skinny-light-c...   \n1         ea        5.59  /product/5239418_ea_000pns?name=infusions-turm...   \n2         ea        7.89  /product/5002506_ea_000pns?name=coffee-and-chi...   \n3         ea        5.00  /product/5266285_ea_000pns?name=hazelnut-stren...   \n4         ea        2.89  /product/5267457_ea_000pns?name=immunity-green...   \n\n     cat1        cat2                      cat_url       store_name  \n0  Drinks  Hot Drinks  /category/drinks/hot-drinks  PAK'nSAVE Taupo  \n1  Drinks  Hot Drinks  /category/drinks/hot-drinks  PAK'nSAVE Taupo  \n2  Drinks  Hot Drinks  /category/drinks/hot-drinks  PAK'nSAVE Taupo  \n3  Drinks  Hot Drinks  /category/drinks/hot-drinks  PAK'nSAVE Taupo  \n4  Drinks  Hot Drinks  /category/drinks/hot-drinks  PAK'nSAVE Taupo  ",
      "text/html": "<div>\n<style scoped>\n    .dataframe tbody tr th:only-of-type {\n        vertical-align: middle;\n    }\n\n    .dataframe tbody tr th {\n        vertical-align: top;\n    }\n\n    .dataframe thead th {\n        text-align: right;\n    }\n</style>\n<table border=\"1\" class=\"dataframe\">\n  <thead>\n    <tr style=\"text-align: right;\">\n      <th></th>\n      <th>product_id</th>\n      <th>product_name</th>\n      <th>price_mode</th>\n      <th>price_item</th>\n      <th>url</th>\n      <th>cat1</th>\n      <th>cat2</th>\n      <th>cat_url</th>\n      <th>store_name</th>\n    </tr>\n  </thead>\n  <tbody>\n    <tr>\n      <th>0</th>\n      <td>5034680-EA-000PNS</td>\n      <td>Nescafe Dolce Gusto Skinny Light Capsules</td>\n      <td>ea</td>\n      <td>8.79</td>\n      <td>/product/5034680_ea_000pns?name=skinny-light-c...</td>\n      <td>Drinks</td>\n      <td>Hot Drinks</td>\n      <td>/category/drinks/hot-drinks</td>\n      <td>PAK'nSAVE Taupo</td>\n    </tr>\n    <tr>\n      <th>1</th>\n      <td>5239418-EA-000PNS</td>\n      <td>Red Seal Infusions Turmeric Lemon &amp; Manuka Hon...</td>\n      <td>ea</td>\n      <td>5.59</td>\n      <td>/product/5239418_ea_000pns?name=infusions-turm...</td>\n      <td>Drinks</td>\n      <td>Hot Drinks</td>\n      <td>/category/drinks/hot-drinks</td>\n      <td>PAK'nSAVE Taupo</td>\n    </tr>\n    <tr>\n      <th>2</th>\n      <td>5002506-EA-000PNS</td>\n      <td>Bushells Coffee And Chicory Essence</td>\n      <td>ea</td>\n      <td>7.89</td>\n      <td>/product/5002506_ea_000pns?name=coffee-and-chi...</td>\n      <td>Drinks</td>\n      <td>Hot Drinks</td>\n      <td>/category/drinks/hot-drinks</td>\n      <td>PAK'nSAVE Taupo</td>\n    </tr>\n    <tr>\n      <th>3</th>\n      <td>5266285-EA-000PNS</td>\n      <td>Robert Harris Hazelnut Strength 3 Medium Infus...</td>\n      <td>ea</td>\n      <td>5.00</td>\n      <td>/product/5266285_ea_000pns?name=hazelnut-stren...</td>\n      <td>Drinks</td>\n      <td>Hot Drinks</td>\n      <td>/category/drinks/hot-drinks</td>\n      <td>PAK'nSAVE Taupo</td>\n    </tr>\n    <tr>\n      <th>4</th>\n      <td>5267457-EA-000PNS</td>\n      <td>Red Seal Immunity Green Tea Bags</td>\n      <td>ea</td>\n      <td>2.89</td>\n      <td>/product/5267457_ea_000pns?name=immunity-green...</td>\n      <td>Drinks</td>\n      <td>Hot Drinks</td>\n      <td>/category/drinks/hot-drinks</td>\n      <td>PAK'nSAVE Taupo</td>\n    </tr>\n  </tbody>\n</table>\n</div>"
     },
     "metadata": {}
    },
    {
     "output_type": "stream",
     "name": "stdout",
     "text": "(421963, 9)\n"
    }
   ],
   "source": [
    "import numpy as np\n",
    "\n",
    "import numpy as np\n",
    "import pandas as pd\n",
    "from tabulate import tabulate\n",
    "from pandas import Series\n",
    "import matplotlib as mpl\n",
    "import matplotlib.pyplot as plt\n",
    "from IPython.display import display\n",
    "import re\n",
    "col_list = ['product_id','product_name','price_mode','price_item','url','cat1','cat2','cat_url','store_name']\n",
    "products = pd.read_csv(\"./raw_data.csv\", usecols=col_list, )\n",
    "display(products.head())\n",
    "print(products.shape)"
   ],
   "metadata": {
    "collapsed": false,
    "pycharm": {
     "name": "#%%\n"
    },
    "tags": []
   }
  },
  {
   "cell_type": "code",
   "execution_count": 18,
   "outputs": [
    {
     "output_type": "display_data",
     "data": {
      "text/plain": "                                               name price_mode  price  \\\n369148            Moccona Strong Cappuccino Sachets         ea   8.99   \n369149       Nescafe Dolce Gusto Americano Capsules         ea   9.69   \n369150              Starbucks Caffe Varona Capsules         ea   7.49   \n369151  Robert Harris Italian Roast Coffee Capsules         ea   6.79   \n369152                        Moccona Latte Sachets         ea   8.99   \n\n                                                      url     cat        cat2  \\\n369148  /product/5239221_ea_000pns?name=strong-cappucc...  Drinks  Hot Drinks   \n369149  /product/5243493_ea_000pns?name=americano-caps...  Drinks  Hot Drinks   \n369150  /product/5259922_ea_000pns?name=caffe-varona-c...  Drinks  Hot Drinks   \n369151  /product/5232903_ea_000pns?name=italian-roast-...  Drinks  Hot Drinks   \n369152      /product/5239222_ea_000pns?name=latte-sachets  Drinks  Hot Drinks   \n\n                  fdName  \n369148  PAK'nSAVE Albany  \n369149  PAK'nSAVE Albany  \n369150  PAK'nSAVE Albany  \n369151  PAK'nSAVE Albany  \n369152  PAK'nSAVE Albany  ",
      "text/html": "<div>\n<style scoped>\n    .dataframe tbody tr th:only-of-type {\n        vertical-align: middle;\n    }\n\n    .dataframe tbody tr th {\n        vertical-align: top;\n    }\n\n    .dataframe thead th {\n        text-align: right;\n    }\n</style>\n<table border=\"1\" class=\"dataframe\">\n  <thead>\n    <tr style=\"text-align: right;\">\n      <th></th>\n      <th>name</th>\n      <th>price_mode</th>\n      <th>price</th>\n      <th>url</th>\n      <th>cat</th>\n      <th>cat2</th>\n      <th>fdName</th>\n    </tr>\n  </thead>\n  <tbody>\n    <tr>\n      <th>369148</th>\n      <td>Moccona Strong Cappuccino Sachets</td>\n      <td>ea</td>\n      <td>8.99</td>\n      <td>/product/5239221_ea_000pns?name=strong-cappucc...</td>\n      <td>Drinks</td>\n      <td>Hot Drinks</td>\n      <td>PAK'nSAVE Albany</td>\n    </tr>\n    <tr>\n      <th>369149</th>\n      <td>Nescafe Dolce Gusto Americano Capsules</td>\n      <td>ea</td>\n      <td>9.69</td>\n      <td>/product/5243493_ea_000pns?name=americano-caps...</td>\n      <td>Drinks</td>\n      <td>Hot Drinks</td>\n      <td>PAK'nSAVE Albany</td>\n    </tr>\n    <tr>\n      <th>369150</th>\n      <td>Starbucks Caffe Varona Capsules</td>\n      <td>ea</td>\n      <td>7.49</td>\n      <td>/product/5259922_ea_000pns?name=caffe-varona-c...</td>\n      <td>Drinks</td>\n      <td>Hot Drinks</td>\n      <td>PAK'nSAVE Albany</td>\n    </tr>\n    <tr>\n      <th>369151</th>\n      <td>Robert Harris Italian Roast Coffee Capsules</td>\n      <td>ea</td>\n      <td>6.79</td>\n      <td>/product/5232903_ea_000pns?name=italian-roast-...</td>\n      <td>Drinks</td>\n      <td>Hot Drinks</td>\n      <td>PAK'nSAVE Albany</td>\n    </tr>\n    <tr>\n      <th>369152</th>\n      <td>Moccona Latte Sachets</td>\n      <td>ea</td>\n      <td>8.99</td>\n      <td>/product/5239222_ea_000pns?name=latte-sachets</td>\n      <td>Drinks</td>\n      <td>Hot Drinks</td>\n      <td>PAK'nSAVE Albany</td>\n    </tr>\n  </tbody>\n</table>\n</div>"
     },
     "metadata": {}
    }
   ],
   "source": [
    "# 去除同一分店内相同产品数据\n",
    "fdNameSets = list(set(products['store_name']))\n",
    "fdNameSets.sort() # 分店名单\n",
    "data = pd.DataFrame()\n",
    "index = 0\n",
    "for fdName in fdNameSets:\n",
    "    # 各分店内所有商品条目\n",
    "    sub_df = products.loc[products['store_name']==fdName]\n",
    "    sub_df = sub_df.drop_duplicates(subset=['product_name',\"price_item\"], keep='first')\n",
    "    data=data.append(sub_df)\n",
    "    index = index + 1\n",
    "data = data.drop(columns=[\"cat_url\",\"product_id\"])\n",
    "data.columns = ['name','price_mode', 'price', 'url', 'cat', 'cat2', 'fdName']\n",
    "data.to_csv(r'unique_product.csv', index = True, header=True)\n",
    "display(data.head())"
   ],
   "metadata": {
    "collapsed": false,
    "pycharm": {
     "name": "#%%\n"
    }
   }
  },
  {
   "cell_type": "code",
   "execution_count": 19,
   "metadata": {},
   "outputs": [
    {
     "output_type": "execute_result",
     "data": {
      "text/plain": "                                          name  price            fdName  \\\n0            Moccona Strong Cappuccino Sachets   8.99  PAK'nSAVE Albany   \n1       Nescafe Dolce Gusto Americano Capsules   9.69  PAK'nSAVE Albany   \n2              Starbucks Caffe Varona Capsules   7.49  PAK'nSAVE Albany   \n3  Robert Harris Italian Roast Coffee Capsules   6.79  PAK'nSAVE Albany   \n4                        Moccona Latte Sachets   8.99  PAK'nSAVE Albany   \n\n  leibie     cat images info  \\\n0         Drinks               \n1         Drinks               \n2         Drinks               \n3         Drinks               \n4         Drinks               \n\n                                                 url  \n0  https://www.paknsaveonline.co.nz/product/52392...  \n1  https://www.paknsaveonline.co.nz/product/52434...  \n2  https://www.paknsaveonline.co.nz/product/52599...  \n3  https://www.paknsaveonline.co.nz/product/52329...  \n4  https://www.paknsaveonline.co.nz/product/52392...  ",
      "text/html": "<div>\n<style scoped>\n    .dataframe tbody tr th:only-of-type {\n        vertical-align: middle;\n    }\n\n    .dataframe tbody tr th {\n        vertical-align: top;\n    }\n\n    .dataframe thead th {\n        text-align: right;\n    }\n</style>\n<table border=\"1\" class=\"dataframe\">\n  <thead>\n    <tr style=\"text-align: right;\">\n      <th></th>\n      <th>name</th>\n      <th>price</th>\n      <th>fdName</th>\n      <th>leibie</th>\n      <th>cat</th>\n      <th>images</th>\n      <th>info</th>\n      <th>url</th>\n    </tr>\n  </thead>\n  <tbody>\n    <tr>\n      <th>0</th>\n      <td>Moccona Strong Cappuccino Sachets</td>\n      <td>8.99</td>\n      <td>PAK'nSAVE Albany</td>\n      <td></td>\n      <td>Drinks</td>\n      <td></td>\n      <td></td>\n      <td>https://www.paknsaveonline.co.nz/product/52392...</td>\n    </tr>\n    <tr>\n      <th>1</th>\n      <td>Nescafe Dolce Gusto Americano Capsules</td>\n      <td>9.69</td>\n      <td>PAK'nSAVE Albany</td>\n      <td></td>\n      <td>Drinks</td>\n      <td></td>\n      <td></td>\n      <td>https://www.paknsaveonline.co.nz/product/52434...</td>\n    </tr>\n    <tr>\n      <th>2</th>\n      <td>Starbucks Caffe Varona Capsules</td>\n      <td>7.49</td>\n      <td>PAK'nSAVE Albany</td>\n      <td></td>\n      <td>Drinks</td>\n      <td></td>\n      <td></td>\n      <td>https://www.paknsaveonline.co.nz/product/52599...</td>\n    </tr>\n    <tr>\n      <th>3</th>\n      <td>Robert Harris Italian Roast Coffee Capsules</td>\n      <td>6.79</td>\n      <td>PAK'nSAVE Albany</td>\n      <td></td>\n      <td>Drinks</td>\n      <td></td>\n      <td></td>\n      <td>https://www.paknsaveonline.co.nz/product/52329...</td>\n    </tr>\n    <tr>\n      <th>4</th>\n      <td>Moccona Latte Sachets</td>\n      <td>8.99</td>\n      <td>PAK'nSAVE Albany</td>\n      <td></td>\n      <td>Drinks</td>\n      <td></td>\n      <td></td>\n      <td>https://www.paknsaveonline.co.nz/product/52392...</td>\n    </tr>\n  </tbody>\n</table>\n</div>"
     },
     "metadata": {},
     "execution_count": 19
    }
   ],
   "source": [
    "# ,name,price,fdName,leibie,cat,images,info,url\n",
    "new_df = pd.read_csv(\"unique_product.csv\" )\n",
    "url_prifix = 'https://www.paknsaveonline.co.nz'\n",
    "new_df['url'] = url_prifix + new_df['url'].astype(str)\n",
    "new_df['images'] = ''\n",
    "new_df['info'] = ''\n",
    "new_df['leibie'] = ''\n",
    "col_order = ['name','price','fdName','leibie','cat','images','info','url']\n",
    "new_df = new_df[col_order]\n",
    "new_df.index = range(0, len(new_df))\n",
    "new_df.to_csv (r'unique_product_match.csv', index = True, header=True)\n",
    "new_df.head()\n"
   ]
  },
  {
   "cell_type": "code",
   "execution_count": 1,
   "outputs": [
    {
     "ename": "NameError",
     "evalue": "name 'data' is not defined",
     "output_type": "error",
     "traceback": [
      "\u001B[0;31m---------------------------------------------------------------------------\u001B[0m",
      "\u001B[0;31mNameError\u001B[0m                                 Traceback (most recent call last)",
      "\u001B[0;32m/var/folders/x1/1fk5fxl90y54jxg9lxz16nkw0000gn/T/ipykernel_52387/3339100709.py\u001B[0m in \u001B[0;36m<module>\u001B[0;34m\u001B[0m\n\u001B[1;32m      1\u001B[0m \u001B[0;31m# pydev_debug_cell\u001B[0m\u001B[0;34m\u001B[0m\u001B[0;34m\u001B[0m\u001B[0;34m\u001B[0m\u001B[0m\n\u001B[1;32m      2\u001B[0m \u001B[0;31m# 检查缺失值\u001B[0m\u001B[0;34m\u001B[0m\u001B[0;34m\u001B[0m\u001B[0;34m\u001B[0m\u001B[0m\n\u001B[0;32m----> 3\u001B[0;31m \u001B[0mdata\u001B[0m\u001B[0;34m.\u001B[0m\u001B[0minfo\u001B[0m\u001B[0;34m(\u001B[0m\u001B[0;34m)\u001B[0m\u001B[0;34m\u001B[0m\u001B[0;34m\u001B[0m\u001B[0m\n\u001B[0m\u001B[1;32m      4\u001B[0m \u001B[0;31m# 没有缺失值\u001B[0m\u001B[0;34m\u001B[0m\u001B[0;34m\u001B[0m\u001B[0;34m\u001B[0m\u001B[0m\n\u001B[1;32m      5\u001B[0m \u001B[0;34m\u001B[0m\u001B[0m\n",
      "\u001B[0;31mNameError\u001B[0m: name 'data' is not defined"
     ]
    }
   ],
   "source": [
    "# 检查缺失值\n",
    "data.info()\n",
    "# 没有缺失值"
   ],
   "metadata": {
    "collapsed": false,
    "pycharm": {
     "name": "#%%\n"
    },
    "tags": []
   }
  },
  {
   "cell_type": "code",
   "execution_count": 21,
   "outputs": [
    {
     "output_type": "execute_result",
     "data": {
      "text/plain": "fdName\nPAK'nSAVE Albany          7.192369\nPAK'nSAVE Botany          7.390971\nPAK'nSAVE Cameron Road    6.552134\nPAK'nSAVE Clarence St     7.655076\nPAK'nSAVE Clendon         6.876632\nPAK'nSAVE Glen Innes      7.189488\nPAK'nSAVE Hastings        6.652279\nPAK'nSAVE Hawera          6.455417\nPAK'nSAVE Kaitaia         6.093355\nPAK'nSAVE Kapiti          6.871478\nPAK'nSAVE Kilbirnie       6.990433\nPAK'nSAVE Lincoln Road    6.434779\nPAK'nSAVE Lower Hutt      6.856488\nPAK'nSAVE Mangere         6.435577\nPAK'nSAVE Manukau         6.877648\nPAK'nSAVE Masterton       6.578031\nPAK'nSAVE Mill Street     7.446667\nPAK'nSAVE Mt Albert       6.212829\nPAK'nSAVE Napier City     6.620929\nPAK'nSAVE New Plymouth    6.804111\nPAK'nSAVE Palmerston N    7.044839\nPAK'nSAVE Papakura        7.010913\nPAK'nSAVE Papamoa         6.621669\nPAK'nSAVE Petone          7.411538\nPAK'nSAVE Porirua         6.427311\nPAK'nSAVE Pukekohe        6.203114\nPAK'nSAVE Royal Oak       7.572514\nPAK'nSAVE Silverdale      7.259166\nPAK'nSAVE Sylvia Park     6.688648\nPAK'nSAVE Tamatea         6.670226\nPAK'nSAVE Taupo           7.052948\nPAK'nSAVE Tauriko         7.097677\nPAK'nSAVE Te Awamutu      6.908406\nPAK'nSAVE Thames          6.841140\nPAK'nSAVE Upper Hutt      6.434121\nPAK'nSAVE Wanganui        6.334263\nPAK'nSAVE Westgate        6.443771\nPAK'nSAVE Whakatane       6.796882\nPAK'nSAVE Whangarei       6.860047\nName: price, dtype: float64"
     },
     "metadata": {},
     "execution_count": 21
    }
   ],
   "source": [
    "# 分店价格均值\n",
    "data.groupby('fdName')['price'].agg(np.mean)"
   ],
   "metadata": {
    "collapsed": false,
    "pycharm": {
     "name": "#%%\n"
    }
   }
  },
  {
   "cell_type": "code",
   "execution_count": 13,
   "outputs": [
    {
     "output_type": "execute_result",
     "data": {
      "text/plain": "fdName               cat                        \nPAK'nSAVE Albany     Baby, Toddler & Kids           10.650276\n                     Beer, Cider & Wine             18.084565\n                     Chilled, Frozen & Desserts      6.044100\n                     Drinks                          5.486773\n                     Fresh Foods & Bakery            7.950245\n                                                      ...    \nPAK'nSAVE Whangarei  Fresh Foods & Bakery           10.015572\n                     Kitchen, Dining & Household     6.594220\n                     Pantry                          3.410053\n                     Personal Care                   8.312237\n                     Pets                            7.754369\nName: price, Length: 350, dtype: float64"
     },
     "metadata": {},
     "execution_count": 13
    }
   ],
   "source": [
    "# 分店第一类别价格均值\n",
    "data.groupby(['fdName','cat'])['price'].agg(np.mean)"
   ],
   "metadata": {
    "collapsed": false,
    "pycharm": {
     "name": "#%%\n"
    }
   }
  },
  {
   "cell_type": "code",
   "execution_count": 14,
   "outputs": [
    {
     "output_type": "execute_result",
     "data": {
      "text/plain": "fdName               cat                         cat2               \nPAK'nSAVE Albany     Baby, Toddler & Kids        Baby Care              10.650276\n                     Beer, Cider & Wine          Beer & Cider           14.970282\n                                                 Wine                   19.475220\n                     Chilled, Frozen & Desserts  Cheese                  6.353160\n                                                 Dairy & Eggs            4.537308\n                                                                          ...    \nPAK'nSAVE Whangarei  Pantry                      Spices & Seasonings     3.172381\n                                                 World Foods             2.748333\n                     Personal Care               Beauty & Grooming       6.821545\n                                                 Health & Wellness      10.776949\n                     Pets                        Pet Supplies            7.754369\nName: price, Length: 1408, dtype: float64"
     },
     "metadata": {},
     "execution_count": 14
    }
   ],
   "source": [
    "# 分店第二类别价格均值\n",
    "data.groupby(['fdName','cat','cat2'])['price'].agg(np.mean)"
   ],
   "metadata": {
    "collapsed": false,
    "pycharm": {
     "name": "#%%\n"
    }
   }
  },
  {
   "cell_type": "code",
   "execution_count": 15,
   "outputs": [
    {
     "output_type": "execute_result",
     "data": {
      "text/plain": "fdName\nPAK'nSAVE Albany          119.241439\nPAK'nSAVE Botany          191.068939\nPAK'nSAVE Cameron Road     40.910523\nPAK'nSAVE Clarence St      60.204635\nPAK'nSAVE Clendon          49.497522\nPAK'nSAVE Glen Innes       48.665665\nPAK'nSAVE Hastings         37.109257\nPAK'nSAVE Hawera           36.898729\nPAK'nSAVE Kaitaia          37.697156\nPAK'nSAVE Kapiti           41.362867\nPAK'nSAVE Kilbirnie        47.579126\nPAK'nSAVE Lincoln Road     41.992252\nPAK'nSAVE Lower Hutt       43.593086\nPAK'nSAVE Mangere          44.254012\nPAK'nSAVE Manukau          46.297018\nPAK'nSAVE Masterton        41.039736\nPAK'nSAVE Mill Street      52.413046\nPAK'nSAVE Mt Albert        32.511561\nPAK'nSAVE Napier City      41.144786\nPAK'nSAVE New Plymouth     46.475989\nPAK'nSAVE Palmerston N     47.589650\nPAK'nSAVE Papakura         56.015452\nPAK'nSAVE Papamoa          37.328189\nPAK'nSAVE Petone           91.331110\nPAK'nSAVE Porirua          36.978726\nPAK'nSAVE Pukekohe         37.959872\nPAK'nSAVE Royal Oak       143.006058\nPAK'nSAVE Silverdale      135.947418\nPAK'nSAVE Sylvia Park      38.497617\nPAK'nSAVE Tamatea          42.402683\nPAK'nSAVE Taupo            47.015623\nPAK'nSAVE Tauriko          47.270686\nPAK'nSAVE Te Awamutu       45.717470\nPAK'nSAVE Thames           41.628968\nPAK'nSAVE Upper Hutt       39.107348\nPAK'nSAVE Wanganui         34.833982\nPAK'nSAVE Westgate         40.851821\nPAK'nSAVE Whakatane        42.256991\nPAK'nSAVE Whangarei        43.639621\nName: price, dtype: float64"
     },
     "metadata": {},
     "execution_count": 15
    }
   ],
   "source": [
    "# 分店价格方差\n",
    "data.groupby('fdName')['price'].agg(np.var)"
   ],
   "metadata": {
    "collapsed": false,
    "pycharm": {
     "name": "#%%\n"
    }
   }
  },
  {
   "cell_type": "code",
   "execution_count": 16,
   "outputs": [
    {
     "output_type": "execute_result",
     "data": {
      "text/plain": "fdName               cat                        \nPAK'nSAVE Albany     Baby, Toddler & Kids            103.865743\n                     Beer, Cider & Wine             1060.418530\n                     Chilled, Frozen & Desserts       26.149871\n                     Drinks                           12.971214\n                     Fresh Foods & Bakery             52.247019\n                                                       ...     \nPAK'nSAVE Whangarei  Fresh Foods & Bakery            121.196460\n                     Kitchen, Dining & Household      25.896553\n                     Pantry                            4.416726\n                     Personal Care                    36.965984\n                     Pets                             52.490887\nName: price, Length: 350, dtype: float64"
     },
     "metadata": {},
     "execution_count": 16
    }
   ],
   "source": [
    "# 分店第一类别价格方差\n",
    "data.groupby(['fdName','cat'])['price'].agg(np.var)"
   ],
   "metadata": {
    "collapsed": false,
    "pycharm": {
     "name": "#%%\n"
    }
   }
  },
  {
   "cell_type": "code",
   "execution_count": 17,
   "outputs": [
    {
     "output_type": "execute_result",
     "data": {
      "text/plain": "fdName               cat                         cat2               \nPAK'nSAVE Albany     Baby, Toddler & Kids        Baby Care               103.865743\n                     Beer, Cider & Wine          Beer & Cider             81.933463\n                                                 Wine                   1492.164194\n                     Chilled, Frozen & Desserts  Cheese                    8.503219\n                                                 Dairy & Eggs              5.584754\n                                                                           ...     \nPAK'nSAVE Whangarei  Pantry                      Spices & Seasonings       2.858816\n                                                 World Foods               1.982057\n                     Personal Care               Beauty & Grooming        20.582687\n                                                 Health & Wellness        54.368187\n                     Pets                        Pet Supplies             52.490887\nName: price, Length: 1408, dtype: float64"
     },
     "metadata": {},
     "execution_count": 17
    }
   ],
   "source": [
    "# 分店第二类别价格方差\n",
    "data.groupby(['fdName','cat','cat2'])['price'].agg(np.var)"
   ],
   "metadata": {
    "collapsed": false,
    "pycharm": {
     "name": "#%%\n"
    }
   }
  },
  {
   "cell_type": "code",
   "execution_count": 18,
   "outputs": [
    {
     "output_type": "execute_result",
     "data": {
      "text/plain": "fdName                  cat                        \nPAK'nSAVE Albany        Pantry                         3095\n                        Personal Care                  1465\n                        Kitchen, Dining & Household    1027\n                        Chilled, Frozen & Desserts     1022\n                        Fresh Foods & Bakery            899\n                        Beer, Cider & Wine              690\n                        Drinks                          595\n                        Pets                            384\n                        Baby, Toddler & Kids            254\nPAK'nSAVE Botany        Pantry                         3019\n                        Personal Care                  1548\n                        Kitchen, Dining & Household    1181\n                        Fresh Foods & Bakery           1094\n                        Chilled, Frozen & Desserts     1081\n                        Beer, Cider & Wine              852\n                        Drinks                          691\n                        Pets                            341\n                        Baby, Toddler & Kids            306\nPAK'nSAVE Cameron Road  Pantry                         2883\n                        Personal Care                  1288\n                        Chilled, Frozen & Desserts      944\n                        Fresh Foods & Bakery            869\n                        Kitchen, Dining & Household     848\n                        Drinks                          680\n                        Beer, Cider & Wine              624\n                        Pets                            381\n                        Baby, Toddler & Kids            294\nPAK'nSAVE Clarence St   Pantry                         3084\n                        Personal Care                  1671\n                        Kitchen, Dining & Household    1305\n                        Fresh Foods & Bakery           1268\n                        Chilled, Frozen & Desserts     1044\n                        Beer, Cider & Wine              792\n                        Drinks                          674\n                        Pets                            425\n                        Baby, Toddler & Kids            362\nPAK'nSAVE Clendon       Pantry                         3014\n                        Personal Care                  1370\n                        Kitchen, Dining & Household    1228\n                        Chilled, Frozen & Desserts     1107\n                        Fresh Foods & Bakery            866\n                        Beer, Cider & Wine              723\n                        Drinks                          677\n                        Baby, Toddler & Kids            332\n                        Pets                            320\nPAK'nSAVE Glen Innes    Pantry                         3129\n                        Personal Care                  1567\n                        Kitchen, Dining & Household    1297\n                        Chilled, Frozen & Desserts     1132\n                        Fresh Foods & Bakery            756\nName: cat, dtype: int64"
     },
     "metadata": {},
     "execution_count": 18
    }
   ],
   "source": [
    "# 分店第一类别数量\n",
    "data.groupby('fdName')['cat'].value_counts().head(50)"
   ],
   "metadata": {
    "collapsed": false,
    "pycharm": {
     "name": "#%%\n"
    }
   }
  },
  {
   "cell_type": "code",
   "execution_count": 19,
   "outputs": [
    {
     "output_type": "execute_result",
     "data": {
      "text/plain": "fdName            cat                          cat2                       \nPAK'nSAVE Albany  Baby, Toddler & Kids         Baby Care                      254\n                  Beer, Cider & Wine           Wine                           477\n                                               Beer & Cider                   213\n                  Chilled, Frozen & Desserts   Dairy & Eggs                   364\n                                               Frozen Foods                   307\n                                               Cheese                         212\n                                               Desserts                       139\n                  Drinks                       Cold Drinks                    346\n                                               Hot Drinks                     249\n                  Fresh Foods & Bakery         Deli, Salads & Cooked Meats    252\n                                               Bakery                         222\n                                               Fruit & Vegetables             190\n                                               Butchery                       170\n                                               Seafood                         64\n                                               Bulk & Loose Foods               1\n                  Kitchen, Dining & Household  Household                      583\n                                               Cleaning Products              241\n                                               Laundry                        109\n                                               Stationery & Entertainment      59\n                                               Garage & Outdoor                35\n                  Pantry                       Canned & Prepared Foods        448\n                                               Snack Foods                    364\n                                               Confectionery                  326\n                                               Biscuits & Crackers            320\n                                               Baking Supplies & Sugar        276\n                                               Pasta, Rice & Noodles          247\n                                               Sauces, Stock & Marinades      227\n                                               Spices & Seasonings            221\n                                               Condiments & Dressings         190\n                                               Breakfast Cereals              166\n                                               World Foods                    161\n                                               Jams, Honey & Spreads           95\n                                               Salad & Cooking Oils            54\n                  Personal Care                Beauty & Grooming              999\n                                               Health & Wellness              466\n                  Pets                         Pet Supplies                   384\nPAK'nSAVE Botany  Baby, Toddler & Kids         Baby Care                      306\n                  Beer, Cider & Wine           Wine                           600\n                                               Beer & Cider                   252\n                  Chilled, Frozen & Desserts   Dairy & Eggs                   359\n                                               Frozen Foods                   355\n                                               Cheese                         237\n                                               Desserts                       130\n                  Drinks                       Cold Drinks                    424\n                                               Hot Drinks                     267\n                  Fresh Foods & Bakery         Deli, Salads & Cooked Meats    288\n                                               Bakery                         268\n                                               Fruit & Vegetables             188\n                                               Butchery                       173\n                                               Bulk & Loose Foods             115\nName: cat2, dtype: int64"
     },
     "metadata": {},
     "execution_count": 19
    }
   ],
   "source": [
    "# 分店第二类别数量\n",
    "data.groupby(['fdName','cat'])['cat2'].value_counts().head(50)"
   ],
   "metadata": {
    "collapsed": false,
    "pycharm": {
     "name": "#%%\n"
    }
   }
  },
  {
   "cell_type": "code",
   "execution_count": 20,
   "outputs": [
    {
     "output_type": "execute_result",
     "data": {
      "text/plain": "                          count      mean        std   min     25%    50%  \\\nfdName                                                                      \nPAK'nSAVE Albany         9431.0  7.192369  10.919773  0.00  2.9900  4.890   \nPAK'nSAVE Botany        10113.0  7.390971  13.822769  0.25  2.9900  4.790   \nPAK'nSAVE Cameron Road   8811.0  6.552134   6.396133  0.00  2.8900  4.490   \nPAK'nSAVE Clarence St   10625.0  7.655076   7.759165  0.25  3.2900  5.000   \nPAK'nSAVE Clendon        9637.0  6.876632   7.035448  0.65  2.8900  4.490   \nPAK'nSAVE Glen Innes    10060.0  7.189488   6.976078  0.25  2.9900  4.890   \nPAK'nSAVE Hastings      10152.0  6.652279   6.091737  0.20  2.9900  4.590   \nPAK'nSAVE Hawera        10505.0  6.455417   6.074432  0.00  2.8100  4.490   \nPAK'nSAVE Kaitaia        9996.0  6.093355   6.139801  0.20  2.7900  3.990   \nPAK'nSAVE Kapiti        10710.0  6.871478   6.431397  0.45  2.9800  4.790   \nPAK'nSAVE Kilbirnie     10136.0  6.990433   6.897762  0.20  2.9900  4.790   \nPAK'nSAVE Lincoln Road  12550.0  6.434779   6.480143  0.20  2.9900  4.490   \nPAK'nSAVE Lower Hutt     9881.0  6.856488   6.602506  0.15  2.9900  4.690   \nPAK'nSAVE Mangere        8559.0  6.435577   6.652369  0.39  2.7900  4.190   \nPAK'nSAVE Manukau        8285.0  6.877648   6.804191  0.45  2.9900  4.590   \nPAK'nSAVE Masterton      9526.0  6.578031   6.406226  0.30  2.8900  4.490   \nPAK'nSAVE Mill Street    9348.0  7.446667   7.239686  0.45  3.1900  4.990   \nPAK'nSAVE Mt Albert      9741.0  6.212829   5.701891  0.25  2.8900  4.390   \nPAK'nSAVE Napier City   10253.0  6.620929   6.414420  0.25  2.8900  4.390   \nPAK'nSAVE New Plymouth  11098.0  6.804111   6.817330  0.50  2.9900  4.490   \nPAK'nSAVE Palmerston N  11130.0  7.044839   6.898525  0.25  2.9900  4.790   \nPAK'nSAVE Papakura      11630.0  7.010913   7.484347  0.25  2.9900  4.590   \nPAK'nSAVE Papamoa        9484.0  6.621669   6.109680  0.39  2.9700  4.490   \nPAK'nSAVE Petone        11086.0  7.411538   9.556731  0.15  2.9900  4.990   \nPAK'nSAVE Porirua       10016.0  6.427311   6.081014  0.33  2.7900  4.295   \nPAK'nSAVE Pukekohe       7936.0  6.203114   6.161158  0.33  2.8075  4.150   \nPAK'nSAVE Royal Oak     10591.0  7.572514  11.958514  0.39  2.9900  4.990   \nPAK'nSAVE Silverdale    10207.0  7.259166  11.659649  0.20  2.9900  4.890   \nPAK'nSAVE Sylvia Park   10088.0  6.688648   6.204645  0.20  2.9900  4.590   \nPAK'nSAVE Tamatea        9159.0  6.670226   6.511734  0.39  2.8900  4.490   \nPAK'nSAVE Taupo          9801.0  7.052948   6.856794  0.44  2.9900  4.750   \nPAK'nSAVE Tauriko        9674.0  7.097677   6.875368  0.45  2.9900  4.890   \nPAK'nSAVE Te Awamutu    10301.0  6.908406   6.761470  0.20  2.9900  4.690   \nPAK'nSAVE Thames        11682.0  6.841140   6.452051  0.33  2.9900  4.690   \nPAK'nSAVE Upper Hutt    10638.0  6.434121   6.253587  0.20  2.8900  4.490   \nPAK'nSAVE Wanganui       9460.0  6.334263   5.902032  0.38  2.7900  4.480   \nPAK'nSAVE Westgate      10355.0  6.443771   6.391543  0.33  2.8900  4.290   \nPAK'nSAVE Whakatane      8994.0  6.796882   6.500538  0.20  2.9900  4.590   \nPAK'nSAVE Whangarei      9162.0  6.860047   6.606029  0.25  2.9900  4.530   \n\n                           75%     max  \nfdName                                  \nPAK'nSAVE Albany        8.7900  749.00  \nPAK'nSAVE Botany        8.9900  848.88  \nPAK'nSAVE Cameron Road  7.9900  119.79  \nPAK'nSAVE Clarence St   9.3900  249.79  \nPAK'nSAVE Clendon       8.4900  128.90  \nPAK'nSAVE Glen Innes    8.9900  128.90  \nPAK'nSAVE Hastings      7.9900   92.99  \nPAK'nSAVE Hawera        7.9000   92.99  \nPAK'nSAVE Kaitaia       6.9900  128.90  \nPAK'nSAVE Kapiti        8.4900  128.90  \nPAK'nSAVE Kilbirnie     8.6900  128.90  \nPAK'nSAVE Lincoln Road  7.4900  135.60  \nPAK'nSAVE Lower Hutt    8.4000  128.90  \nPAK'nSAVE Mangere       7.9900  199.99  \nPAK'nSAVE Manukau       8.2900  118.90  \nPAK'nSAVE Masterton     7.9900   78.90  \nPAK'nSAVE Mill Street   9.0000  128.90  \nPAK'nSAVE Mt Albert     7.4900   59.90  \nPAK'nSAVE Napier City   7.9900  128.90  \nPAK'nSAVE New Plymouth  8.2900  199.99  \nPAK'nSAVE Palmerston N  8.7900  128.90  \nPAK'nSAVE Papakura      8.4900  187.99  \nPAK'nSAVE Papamoa       7.9900   89.99  \nPAK'nSAVE Petone        8.9900  649.79  \nPAK'nSAVE Porirua       7.9900   82.50  \nPAK'nSAVE Pukekohe      7.0400  128.90  \nPAK'nSAVE Royal Oak     9.0500  959.79  \nPAK'nSAVE Silverdale    8.7900  844.98  \nPAK'nSAVE Sylvia Park   8.2900   69.99  \nPAK'nSAVE Tamatea       7.9900  128.90  \nPAK'nSAVE Taupo         8.7900  128.90  \nPAK'nSAVE Tauriko       8.9900  128.90  \nPAK'nSAVE Te Awamutu    8.3900  139.79  \nPAK'nSAVE Thames        8.4900  107.90  \nPAK'nSAVE Upper Hutt    7.6900  128.90  \nPAK'nSAVE Wanganui      7.7900  114.99  \nPAK'nSAVE Westgate      7.4900  118.90  \nPAK'nSAVE Whakatane     8.4800  128.90  \nPAK'nSAVE Whangarei     8.2975  128.90  ",
      "text/html": "<div>\n<style scoped>\n    .dataframe tbody tr th:only-of-type {\n        vertical-align: middle;\n    }\n\n    .dataframe tbody tr th {\n        vertical-align: top;\n    }\n\n    .dataframe thead th {\n        text-align: right;\n    }\n</style>\n<table border=\"1\" class=\"dataframe\">\n  <thead>\n    <tr style=\"text-align: right;\">\n      <th></th>\n      <th>count</th>\n      <th>mean</th>\n      <th>std</th>\n      <th>min</th>\n      <th>25%</th>\n      <th>50%</th>\n      <th>75%</th>\n      <th>max</th>\n    </tr>\n    <tr>\n      <th>fdName</th>\n      <th></th>\n      <th></th>\n      <th></th>\n      <th></th>\n      <th></th>\n      <th></th>\n      <th></th>\n      <th></th>\n    </tr>\n  </thead>\n  <tbody>\n    <tr>\n      <th>PAK'nSAVE Albany</th>\n      <td>9431.0</td>\n      <td>7.192369</td>\n      <td>10.919773</td>\n      <td>0.00</td>\n      <td>2.9900</td>\n      <td>4.890</td>\n      <td>8.7900</td>\n      <td>749.00</td>\n    </tr>\n    <tr>\n      <th>PAK'nSAVE Botany</th>\n      <td>10113.0</td>\n      <td>7.390971</td>\n      <td>13.822769</td>\n      <td>0.25</td>\n      <td>2.9900</td>\n      <td>4.790</td>\n      <td>8.9900</td>\n      <td>848.88</td>\n    </tr>\n    <tr>\n      <th>PAK'nSAVE Cameron Road</th>\n      <td>8811.0</td>\n      <td>6.552134</td>\n      <td>6.396133</td>\n      <td>0.00</td>\n      <td>2.8900</td>\n      <td>4.490</td>\n      <td>7.9900</td>\n      <td>119.79</td>\n    </tr>\n    <tr>\n      <th>PAK'nSAVE Clarence St</th>\n      <td>10625.0</td>\n      <td>7.655076</td>\n      <td>7.759165</td>\n      <td>0.25</td>\n      <td>3.2900</td>\n      <td>5.000</td>\n      <td>9.3900</td>\n      <td>249.79</td>\n    </tr>\n    <tr>\n      <th>PAK'nSAVE Clendon</th>\n      <td>9637.0</td>\n      <td>6.876632</td>\n      <td>7.035448</td>\n      <td>0.65</td>\n      <td>2.8900</td>\n      <td>4.490</td>\n      <td>8.4900</td>\n      <td>128.90</td>\n    </tr>\n    <tr>\n      <th>PAK'nSAVE Glen Innes</th>\n      <td>10060.0</td>\n      <td>7.189488</td>\n      <td>6.976078</td>\n      <td>0.25</td>\n      <td>2.9900</td>\n      <td>4.890</td>\n      <td>8.9900</td>\n      <td>128.90</td>\n    </tr>\n    <tr>\n      <th>PAK'nSAVE Hastings</th>\n      <td>10152.0</td>\n      <td>6.652279</td>\n      <td>6.091737</td>\n      <td>0.20</td>\n      <td>2.9900</td>\n      <td>4.590</td>\n      <td>7.9900</td>\n      <td>92.99</td>\n    </tr>\n    <tr>\n      <th>PAK'nSAVE Hawera</th>\n      <td>10505.0</td>\n      <td>6.455417</td>\n      <td>6.074432</td>\n      <td>0.00</td>\n      <td>2.8100</td>\n      <td>4.490</td>\n      <td>7.9000</td>\n      <td>92.99</td>\n    </tr>\n    <tr>\n      <th>PAK'nSAVE Kaitaia</th>\n      <td>9996.0</td>\n      <td>6.093355</td>\n      <td>6.139801</td>\n      <td>0.20</td>\n      <td>2.7900</td>\n      <td>3.990</td>\n      <td>6.9900</td>\n      <td>128.90</td>\n    </tr>\n    <tr>\n      <th>PAK'nSAVE Kapiti</th>\n      <td>10710.0</td>\n      <td>6.871478</td>\n      <td>6.431397</td>\n      <td>0.45</td>\n      <td>2.9800</td>\n      <td>4.790</td>\n      <td>8.4900</td>\n      <td>128.90</td>\n    </tr>\n    <tr>\n      <th>PAK'nSAVE Kilbirnie</th>\n      <td>10136.0</td>\n      <td>6.990433</td>\n      <td>6.897762</td>\n      <td>0.20</td>\n      <td>2.9900</td>\n      <td>4.790</td>\n      <td>8.6900</td>\n      <td>128.90</td>\n    </tr>\n    <tr>\n      <th>PAK'nSAVE Lincoln Road</th>\n      <td>12550.0</td>\n      <td>6.434779</td>\n      <td>6.480143</td>\n      <td>0.20</td>\n      <td>2.9900</td>\n      <td>4.490</td>\n      <td>7.4900</td>\n      <td>135.60</td>\n    </tr>\n    <tr>\n      <th>PAK'nSAVE Lower Hutt</th>\n      <td>9881.0</td>\n      <td>6.856488</td>\n      <td>6.602506</td>\n      <td>0.15</td>\n      <td>2.9900</td>\n      <td>4.690</td>\n      <td>8.4000</td>\n      <td>128.90</td>\n    </tr>\n    <tr>\n      <th>PAK'nSAVE Mangere</th>\n      <td>8559.0</td>\n      <td>6.435577</td>\n      <td>6.652369</td>\n      <td>0.39</td>\n      <td>2.7900</td>\n      <td>4.190</td>\n      <td>7.9900</td>\n      <td>199.99</td>\n    </tr>\n    <tr>\n      <th>PAK'nSAVE Manukau</th>\n      <td>8285.0</td>\n      <td>6.877648</td>\n      <td>6.804191</td>\n      <td>0.45</td>\n      <td>2.9900</td>\n      <td>4.590</td>\n      <td>8.2900</td>\n      <td>118.90</td>\n    </tr>\n    <tr>\n      <th>PAK'nSAVE Masterton</th>\n      <td>9526.0</td>\n      <td>6.578031</td>\n      <td>6.406226</td>\n      <td>0.30</td>\n      <td>2.8900</td>\n      <td>4.490</td>\n      <td>7.9900</td>\n      <td>78.90</td>\n    </tr>\n    <tr>\n      <th>PAK'nSAVE Mill Street</th>\n      <td>9348.0</td>\n      <td>7.446667</td>\n      <td>7.239686</td>\n      <td>0.45</td>\n      <td>3.1900</td>\n      <td>4.990</td>\n      <td>9.0000</td>\n      <td>128.90</td>\n    </tr>\n    <tr>\n      <th>PAK'nSAVE Mt Albert</th>\n      <td>9741.0</td>\n      <td>6.212829</td>\n      <td>5.701891</td>\n      <td>0.25</td>\n      <td>2.8900</td>\n      <td>4.390</td>\n      <td>7.4900</td>\n      <td>59.90</td>\n    </tr>\n    <tr>\n      <th>PAK'nSAVE Napier City</th>\n      <td>10253.0</td>\n      <td>6.620929</td>\n      <td>6.414420</td>\n      <td>0.25</td>\n      <td>2.8900</td>\n      <td>4.390</td>\n      <td>7.9900</td>\n      <td>128.90</td>\n    </tr>\n    <tr>\n      <th>PAK'nSAVE New Plymouth</th>\n      <td>11098.0</td>\n      <td>6.804111</td>\n      <td>6.817330</td>\n      <td>0.50</td>\n      <td>2.9900</td>\n      <td>4.490</td>\n      <td>8.2900</td>\n      <td>199.99</td>\n    </tr>\n    <tr>\n      <th>PAK'nSAVE Palmerston N</th>\n      <td>11130.0</td>\n      <td>7.044839</td>\n      <td>6.898525</td>\n      <td>0.25</td>\n      <td>2.9900</td>\n      <td>4.790</td>\n      <td>8.7900</td>\n      <td>128.90</td>\n    </tr>\n    <tr>\n      <th>PAK'nSAVE Papakura</th>\n      <td>11630.0</td>\n      <td>7.010913</td>\n      <td>7.484347</td>\n      <td>0.25</td>\n      <td>2.9900</td>\n      <td>4.590</td>\n      <td>8.4900</td>\n      <td>187.99</td>\n    </tr>\n    <tr>\n      <th>PAK'nSAVE Papamoa</th>\n      <td>9484.0</td>\n      <td>6.621669</td>\n      <td>6.109680</td>\n      <td>0.39</td>\n      <td>2.9700</td>\n      <td>4.490</td>\n      <td>7.9900</td>\n      <td>89.99</td>\n    </tr>\n    <tr>\n      <th>PAK'nSAVE Petone</th>\n      <td>11086.0</td>\n      <td>7.411538</td>\n      <td>9.556731</td>\n      <td>0.15</td>\n      <td>2.9900</td>\n      <td>4.990</td>\n      <td>8.9900</td>\n      <td>649.79</td>\n    </tr>\n    <tr>\n      <th>PAK'nSAVE Porirua</th>\n      <td>10016.0</td>\n      <td>6.427311</td>\n      <td>6.081014</td>\n      <td>0.33</td>\n      <td>2.7900</td>\n      <td>4.295</td>\n      <td>7.9900</td>\n      <td>82.50</td>\n    </tr>\n    <tr>\n      <th>PAK'nSAVE Pukekohe</th>\n      <td>7936.0</td>\n      <td>6.203114</td>\n      <td>6.161158</td>\n      <td>0.33</td>\n      <td>2.8075</td>\n      <td>4.150</td>\n      <td>7.0400</td>\n      <td>128.90</td>\n    </tr>\n    <tr>\n      <th>PAK'nSAVE Royal Oak</th>\n      <td>10591.0</td>\n      <td>7.572514</td>\n      <td>11.958514</td>\n      <td>0.39</td>\n      <td>2.9900</td>\n      <td>4.990</td>\n      <td>9.0500</td>\n      <td>959.79</td>\n    </tr>\n    <tr>\n      <th>PAK'nSAVE Silverdale</th>\n      <td>10207.0</td>\n      <td>7.259166</td>\n      <td>11.659649</td>\n      <td>0.20</td>\n      <td>2.9900</td>\n      <td>4.890</td>\n      <td>8.7900</td>\n      <td>844.98</td>\n    </tr>\n    <tr>\n      <th>PAK'nSAVE Sylvia Park</th>\n      <td>10088.0</td>\n      <td>6.688648</td>\n      <td>6.204645</td>\n      <td>0.20</td>\n      <td>2.9900</td>\n      <td>4.590</td>\n      <td>8.2900</td>\n      <td>69.99</td>\n    </tr>\n    <tr>\n      <th>PAK'nSAVE Tamatea</th>\n      <td>9159.0</td>\n      <td>6.670226</td>\n      <td>6.511734</td>\n      <td>0.39</td>\n      <td>2.8900</td>\n      <td>4.490</td>\n      <td>7.9900</td>\n      <td>128.90</td>\n    </tr>\n    <tr>\n      <th>PAK'nSAVE Taupo</th>\n      <td>9801.0</td>\n      <td>7.052948</td>\n      <td>6.856794</td>\n      <td>0.44</td>\n      <td>2.9900</td>\n      <td>4.750</td>\n      <td>8.7900</td>\n      <td>128.90</td>\n    </tr>\n    <tr>\n      <th>PAK'nSAVE Tauriko</th>\n      <td>9674.0</td>\n      <td>7.097677</td>\n      <td>6.875368</td>\n      <td>0.45</td>\n      <td>2.9900</td>\n      <td>4.890</td>\n      <td>8.9900</td>\n      <td>128.90</td>\n    </tr>\n    <tr>\n      <th>PAK'nSAVE Te Awamutu</th>\n      <td>10301.0</td>\n      <td>6.908406</td>\n      <td>6.761470</td>\n      <td>0.20</td>\n      <td>2.9900</td>\n      <td>4.690</td>\n      <td>8.3900</td>\n      <td>139.79</td>\n    </tr>\n    <tr>\n      <th>PAK'nSAVE Thames</th>\n      <td>11682.0</td>\n      <td>6.841140</td>\n      <td>6.452051</td>\n      <td>0.33</td>\n      <td>2.9900</td>\n      <td>4.690</td>\n      <td>8.4900</td>\n      <td>107.90</td>\n    </tr>\n    <tr>\n      <th>PAK'nSAVE Upper Hutt</th>\n      <td>10638.0</td>\n      <td>6.434121</td>\n      <td>6.253587</td>\n      <td>0.20</td>\n      <td>2.8900</td>\n      <td>4.490</td>\n      <td>7.6900</td>\n      <td>128.90</td>\n    </tr>\n    <tr>\n      <th>PAK'nSAVE Wanganui</th>\n      <td>9460.0</td>\n      <td>6.334263</td>\n      <td>5.902032</td>\n      <td>0.38</td>\n      <td>2.7900</td>\n      <td>4.480</td>\n      <td>7.7900</td>\n      <td>114.99</td>\n    </tr>\n    <tr>\n      <th>PAK'nSAVE Westgate</th>\n      <td>10355.0</td>\n      <td>6.443771</td>\n      <td>6.391543</td>\n      <td>0.33</td>\n      <td>2.8900</td>\n      <td>4.290</td>\n      <td>7.4900</td>\n      <td>118.90</td>\n    </tr>\n    <tr>\n      <th>PAK'nSAVE Whakatane</th>\n      <td>8994.0</td>\n      <td>6.796882</td>\n      <td>6.500538</td>\n      <td>0.20</td>\n      <td>2.9900</td>\n      <td>4.590</td>\n      <td>8.4800</td>\n      <td>128.90</td>\n    </tr>\n    <tr>\n      <th>PAK'nSAVE Whangarei</th>\n      <td>9162.0</td>\n      <td>6.860047</td>\n      <td>6.606029</td>\n      <td>0.25</td>\n      <td>2.9900</td>\n      <td>4.530</td>\n      <td>8.2975</td>\n      <td>128.90</td>\n    </tr>\n  </tbody>\n</table>\n</div>"
     },
     "metadata": {},
     "execution_count": 20
    }
   ],
   "source": [
    "# 分店各项统计值\n",
    "data.groupby('fdName')['price'].describe()"
   ],
   "metadata": {
    "collapsed": false,
    "pycharm": {
     "name": "#%%\n"
    }
   }
  },
  {
   "cell_type": "code",
   "execution_count": 21,
   "outputs": [
    {
     "output_type": "execute_result",
     "data": {
      "text/plain": "                                                  count       mean        std  \\\nfdName              cat                                                         \nPAK'nSAVE Albany    Baby, Toddler & Kids          254.0  10.650276  10.191454   \n                    Beer, Cider & Wine            690.0  18.084565  32.564068   \n                    Chilled, Frozen & Desserts   1022.0   6.044100   5.113694   \n                    Drinks                        595.0   5.486773   3.601557   \n                    Fresh Foods & Bakery          899.0   7.950245   7.228210   \n...                                                 ...        ...        ...   \nPAK'nSAVE Whangarei Fresh Foods & Bakery         1014.0  10.015572  11.008926   \n                    Kitchen, Dining & Household  1147.0   6.594220   5.088866   \n                    Pantry                       2248.0   3.410053   2.101601   \n                    Personal Care                1600.0   8.312238   6.079966   \n                    Pets                          531.0   7.754369   7.245060   \n\n                                                  min     25%    50%      75%  \\\nfdName              cat                                                         \nPAK'nSAVE Albany    Baby, Toddler & Kids         1.19   2.490   7.49  15.9900   \n                    Beer, Cider & Wine           1.59  10.990  14.79  18.9900   \n                    Chilled, Frozen & Desserts   0.49   3.490   4.99   6.9900   \n                    Drinks                       0.85   2.990   4.69   6.8900   \n                    Fresh Foods & Bakery         0.99   3.790   4.99   9.4900   \n...                                               ...     ...    ...      ...   \nPAK'nSAVE Whangarei Fresh Foods & Bakery         0.99   3.690   5.49  12.4975   \n                    Kitchen, Dining & Household  0.25   3.055   4.89   8.4900   \n                    Pantry                       0.69   1.990   2.99   3.9900   \n                    Personal Care                0.74   3.990   6.29  10.4900   \n                    Pets                         0.95   2.490   5.49  10.7000   \n\n                                                    max  \nfdName              cat                                  \nPAK'nSAVE Albany    Baby, Toddler & Kids          43.99  \n                    Beer, Cider & Wine           749.00  \n                    Chilled, Frozen & Desserts    86.99  \n                    Drinks                        20.99  \n                    Fresh Foods & Bakery          88.99  \n...                                                 ...  \nPAK'nSAVE Whangarei Fresh Foods & Bakery         128.90  \n                    Kitchen, Dining & Household   32.99  \n                    Pantry                        19.99  \n                    Personal Care                 49.99  \n                    Pets                          39.99  \n\n[350 rows x 8 columns]",
      "text/html": "<div>\n<style scoped>\n    .dataframe tbody tr th:only-of-type {\n        vertical-align: middle;\n    }\n\n    .dataframe tbody tr th {\n        vertical-align: top;\n    }\n\n    .dataframe thead th {\n        text-align: right;\n    }\n</style>\n<table border=\"1\" class=\"dataframe\">\n  <thead>\n    <tr style=\"text-align: right;\">\n      <th></th>\n      <th></th>\n      <th>count</th>\n      <th>mean</th>\n      <th>std</th>\n      <th>min</th>\n      <th>25%</th>\n      <th>50%</th>\n      <th>75%</th>\n      <th>max</th>\n    </tr>\n    <tr>\n      <th>fdName</th>\n      <th>cat</th>\n      <th></th>\n      <th></th>\n      <th></th>\n      <th></th>\n      <th></th>\n      <th></th>\n      <th></th>\n      <th></th>\n    </tr>\n  </thead>\n  <tbody>\n    <tr>\n      <th rowspan=\"5\" valign=\"top\">PAK'nSAVE Albany</th>\n      <th>Baby, Toddler &amp; Kids</th>\n      <td>254.0</td>\n      <td>10.650276</td>\n      <td>10.191454</td>\n      <td>1.19</td>\n      <td>2.490</td>\n      <td>7.49</td>\n      <td>15.9900</td>\n      <td>43.99</td>\n    </tr>\n    <tr>\n      <th>Beer, Cider &amp; Wine</th>\n      <td>690.0</td>\n      <td>18.084565</td>\n      <td>32.564068</td>\n      <td>1.59</td>\n      <td>10.990</td>\n      <td>14.79</td>\n      <td>18.9900</td>\n      <td>749.00</td>\n    </tr>\n    <tr>\n      <th>Chilled, Frozen &amp; Desserts</th>\n      <td>1022.0</td>\n      <td>6.044100</td>\n      <td>5.113694</td>\n      <td>0.49</td>\n      <td>3.490</td>\n      <td>4.99</td>\n      <td>6.9900</td>\n      <td>86.99</td>\n    </tr>\n    <tr>\n      <th>Drinks</th>\n      <td>595.0</td>\n      <td>5.486773</td>\n      <td>3.601557</td>\n      <td>0.85</td>\n      <td>2.990</td>\n      <td>4.69</td>\n      <td>6.8900</td>\n      <td>20.99</td>\n    </tr>\n    <tr>\n      <th>Fresh Foods &amp; Bakery</th>\n      <td>899.0</td>\n      <td>7.950245</td>\n      <td>7.228210</td>\n      <td>0.99</td>\n      <td>3.790</td>\n      <td>4.99</td>\n      <td>9.4900</td>\n      <td>88.99</td>\n    </tr>\n    <tr>\n      <th>...</th>\n      <th>...</th>\n      <td>...</td>\n      <td>...</td>\n      <td>...</td>\n      <td>...</td>\n      <td>...</td>\n      <td>...</td>\n      <td>...</td>\n      <td>...</td>\n    </tr>\n    <tr>\n      <th rowspan=\"5\" valign=\"top\">PAK'nSAVE Whangarei</th>\n      <th>Fresh Foods &amp; Bakery</th>\n      <td>1014.0</td>\n      <td>10.015572</td>\n      <td>11.008926</td>\n      <td>0.99</td>\n      <td>3.690</td>\n      <td>5.49</td>\n      <td>12.4975</td>\n      <td>128.90</td>\n    </tr>\n    <tr>\n      <th>Kitchen, Dining &amp; Household</th>\n      <td>1147.0</td>\n      <td>6.594220</td>\n      <td>5.088866</td>\n      <td>0.25</td>\n      <td>3.055</td>\n      <td>4.89</td>\n      <td>8.4900</td>\n      <td>32.99</td>\n    </tr>\n    <tr>\n      <th>Pantry</th>\n      <td>2248.0</td>\n      <td>3.410053</td>\n      <td>2.101601</td>\n      <td>0.69</td>\n      <td>1.990</td>\n      <td>2.99</td>\n      <td>3.9900</td>\n      <td>19.99</td>\n    </tr>\n    <tr>\n      <th>Personal Care</th>\n      <td>1600.0</td>\n      <td>8.312238</td>\n      <td>6.079966</td>\n      <td>0.74</td>\n      <td>3.990</td>\n      <td>6.29</td>\n      <td>10.4900</td>\n      <td>49.99</td>\n    </tr>\n    <tr>\n      <th>Pets</th>\n      <td>531.0</td>\n      <td>7.754369</td>\n      <td>7.245060</td>\n      <td>0.95</td>\n      <td>2.490</td>\n      <td>5.49</td>\n      <td>10.7000</td>\n      <td>39.99</td>\n    </tr>\n  </tbody>\n</table>\n<p>350 rows × 8 columns</p>\n</div>"
     },
     "metadata": {},
     "execution_count": 21
    }
   ],
   "source": [
    "# 分店第一类别各项统计值\n",
    "data.groupby(['fdName','cat'])['price'].describe()"
   ],
   "metadata": {
    "collapsed": false,
    "pycharm": {
     "name": "#%%\n"
    }
   }
  },
  {
   "cell_type": "code",
   "execution_count": 22,
   "outputs": [
    {
     "output_type": "execute_result",
     "data": {
      "text/plain": "                                                                    count  \\\nfdName              cat                        cat2                         \nPAK'nSAVE Albany    Baby, Toddler & Kids       Baby Care            254.0   \n                    Beer, Cider & Wine         Beer & Cider         213.0   \n                                               Wine                 477.0   \n                    Chilled, Frozen & Desserts Cheese               212.0   \n                                               Dairy & Eggs         364.0   \n...                                                                   ...   \nPAK'nSAVE Whangarei Pantry                     Spices & Seasonings  168.0   \n                                               World Foods           48.0   \n                    Personal Care              Beauty & Grooming    997.0   \n                                               Health & Wellness    603.0   \n                    Pets                       Pet Supplies         531.0   \n\n                                                                         mean  \\\nfdName              cat                        cat2                             \nPAK'nSAVE Albany    Baby, Toddler & Kids       Baby Care            10.650276   \n                    Beer, Cider & Wine         Beer & Cider         14.970282   \n                                               Wine                 19.475220   \n                    Chilled, Frozen & Desserts Cheese                6.353160   \n                                               Dairy & Eggs          4.537308   \n...                                                                       ...   \nPAK'nSAVE Whangarei Pantry                     Spices & Seasonings   3.172381   \n                                               World Foods           2.748333   \n                    Personal Care              Beauty & Grooming     6.821545   \n                                               Health & Wellness    10.776949   \n                    Pets                       Pet Supplies          7.754369   \n\n                                                                          std  \\\nfdName              cat                        cat2                             \nPAK'nSAVE Albany    Baby, Toddler & Kids       Baby Care            10.191454   \n                    Beer, Cider & Wine         Beer & Cider          9.051711   \n                                               Wine                 38.628541   \n                    Chilled, Frozen & Desserts Cheese                2.916028   \n                                               Dairy & Eggs          2.363208   \n...                                                                       ...   \nPAK'nSAVE Whangarei Pantry                     Spices & Seasonings   1.690803   \n                                               World Foods           1.407855   \n                    Personal Care              Beauty & Grooming     4.536815   \n                                               Health & Wellness     7.373479   \n                    Pets                       Pet Supplies          7.245060   \n\n                                                                     min  \\\nfdName              cat                        cat2                        \nPAK'nSAVE Albany    Baby, Toddler & Kids       Baby Care            1.19   \n                    Beer, Cider & Wine         Beer & Cider         1.59   \n                                               Wine                 4.79   \n                    Chilled, Frozen & Desserts Cheese               2.49   \n                                               Dairy & Eggs         0.49   \n...                                                                  ...   \nPAK'nSAVE Whangarei Pantry                     Spices & Seasonings  0.89   \n                                               World Foods          1.19   \n                    Personal Care              Beauty & Grooming    0.74   \n                                               Health & Wellness    0.99   \n                    Pets                       Pet Supplies         0.95   \n\n                                                                      25%  \\\nfdName              cat                        cat2                         \nPAK'nSAVE Albany    Baby, Toddler & Kids       Baby Care             2.49   \n                    Beer, Cider & Wine         Beer & Cider          6.99   \n                                               Wine                 11.79   \n                    Chilled, Frozen & Desserts Cheese                4.29   \n                                               Dairy & Eggs          3.29   \n...                                                                   ...   \nPAK'nSAVE Whangarei Pantry                     Spices & Seasonings   1.89   \n                                               World Foods           1.99   \n                    Personal Care              Beauty & Grooming     3.99   \n                                               Health & Wellness     4.49   \n                    Pets                       Pet Supplies          2.49   \n\n                                                                      50%  \\\nfdName              cat                        cat2                         \nPAK'nSAVE Albany    Baby, Toddler & Kids       Baby Care             7.49   \n                    Beer, Cider & Wine         Beer & Cider         12.99   \n                                               Wine                 14.79   \n                    Chilled, Frozen & Desserts Cheese                5.99   \n                                               Dairy & Eggs          3.99   \n...                                                                   ...   \nPAK'nSAVE Whangarei Pantry                     Spices & Seasonings   2.79   \n                                               World Foods           2.49   \n                    Personal Care              Beauty & Grooming     5.99   \n                                               Health & Wellness     9.49   \n                    Pets                       Pet Supplies          5.49   \n\n                                                                      75%  \\\nfdName              cat                        cat2                         \nPAK'nSAVE Albany    Baby, Toddler & Kids       Baby Care            15.99   \n                    Beer, Cider & Wine         Beer & Cider         20.99   \n                                               Wine                 17.99   \n                    Chilled, Frozen & Desserts Cheese                7.54   \n                                               Dairy & Eggs          5.49   \n...                                                                   ...   \nPAK'nSAVE Whangarei Pantry                     Spices & Seasonings   3.49   \n                                               World Foods           2.99   \n                    Personal Care              Beauty & Grooming     8.79   \n                                               Health & Wellness    14.99   \n                    Pets                       Pet Supplies         10.70   \n\n                                                                       max  \nfdName              cat                        cat2                         \nPAK'nSAVE Albany    Baby, Toddler & Kids       Baby Care             43.99  \n                    Beer, Cider & Wine         Beer & Cider          43.99  \n                                               Wine                 749.00  \n                    Chilled, Frozen & Desserts Cheese                18.99  \n                                               Dairy & Eggs          20.99  \n...                                                                    ...  \nPAK'nSAVE Whangarei Pantry                     Spices & Seasonings    9.39  \n                                               World Foods            9.99  \n                    Personal Care              Beauty & Grooming     49.99  \n                                               Health & Wellness     44.99  \n                    Pets                       Pet Supplies          39.99  \n\n[1408 rows x 8 columns]",
      "text/html": "<div>\n<style scoped>\n    .dataframe tbody tr th:only-of-type {\n        vertical-align: middle;\n    }\n\n    .dataframe tbody tr th {\n        vertical-align: top;\n    }\n\n    .dataframe thead th {\n        text-align: right;\n    }\n</style>\n<table border=\"1\" class=\"dataframe\">\n  <thead>\n    <tr style=\"text-align: right;\">\n      <th></th>\n      <th></th>\n      <th></th>\n      <th>count</th>\n      <th>mean</th>\n      <th>std</th>\n      <th>min</th>\n      <th>25%</th>\n      <th>50%</th>\n      <th>75%</th>\n      <th>max</th>\n    </tr>\n    <tr>\n      <th>fdName</th>\n      <th>cat</th>\n      <th>cat2</th>\n      <th></th>\n      <th></th>\n      <th></th>\n      <th></th>\n      <th></th>\n      <th></th>\n      <th></th>\n      <th></th>\n    </tr>\n  </thead>\n  <tbody>\n    <tr>\n      <th rowspan=\"5\" valign=\"top\">PAK'nSAVE Albany</th>\n      <th>Baby, Toddler &amp; Kids</th>\n      <th>Baby Care</th>\n      <td>254.0</td>\n      <td>10.650276</td>\n      <td>10.191454</td>\n      <td>1.19</td>\n      <td>2.49</td>\n      <td>7.49</td>\n      <td>15.99</td>\n      <td>43.99</td>\n    </tr>\n    <tr>\n      <th rowspan=\"2\" valign=\"top\">Beer, Cider &amp; Wine</th>\n      <th>Beer &amp; Cider</th>\n      <td>213.0</td>\n      <td>14.970282</td>\n      <td>9.051711</td>\n      <td>1.59</td>\n      <td>6.99</td>\n      <td>12.99</td>\n      <td>20.99</td>\n      <td>43.99</td>\n    </tr>\n    <tr>\n      <th>Wine</th>\n      <td>477.0</td>\n      <td>19.475220</td>\n      <td>38.628541</td>\n      <td>4.79</td>\n      <td>11.79</td>\n      <td>14.79</td>\n      <td>17.99</td>\n      <td>749.00</td>\n    </tr>\n    <tr>\n      <th rowspan=\"2\" valign=\"top\">Chilled, Frozen &amp; Desserts</th>\n      <th>Cheese</th>\n      <td>212.0</td>\n      <td>6.353160</td>\n      <td>2.916028</td>\n      <td>2.49</td>\n      <td>4.29</td>\n      <td>5.99</td>\n      <td>7.54</td>\n      <td>18.99</td>\n    </tr>\n    <tr>\n      <th>Dairy &amp; Eggs</th>\n      <td>364.0</td>\n      <td>4.537308</td>\n      <td>2.363208</td>\n      <td>0.49</td>\n      <td>3.29</td>\n      <td>3.99</td>\n      <td>5.49</td>\n      <td>20.99</td>\n    </tr>\n    <tr>\n      <th>...</th>\n      <th>...</th>\n      <th>...</th>\n      <td>...</td>\n      <td>...</td>\n      <td>...</td>\n      <td>...</td>\n      <td>...</td>\n      <td>...</td>\n      <td>...</td>\n      <td>...</td>\n    </tr>\n    <tr>\n      <th rowspan=\"5\" valign=\"top\">PAK'nSAVE Whangarei</th>\n      <th rowspan=\"2\" valign=\"top\">Pantry</th>\n      <th>Spices &amp; Seasonings</th>\n      <td>168.0</td>\n      <td>3.172381</td>\n      <td>1.690803</td>\n      <td>0.89</td>\n      <td>1.89</td>\n      <td>2.79</td>\n      <td>3.49</td>\n      <td>9.39</td>\n    </tr>\n    <tr>\n      <th>World Foods</th>\n      <td>48.0</td>\n      <td>2.748333</td>\n      <td>1.407855</td>\n      <td>1.19</td>\n      <td>1.99</td>\n      <td>2.49</td>\n      <td>2.99</td>\n      <td>9.99</td>\n    </tr>\n    <tr>\n      <th rowspan=\"2\" valign=\"top\">Personal Care</th>\n      <th>Beauty &amp; Grooming</th>\n      <td>997.0</td>\n      <td>6.821545</td>\n      <td>4.536815</td>\n      <td>0.74</td>\n      <td>3.99</td>\n      <td>5.99</td>\n      <td>8.79</td>\n      <td>49.99</td>\n    </tr>\n    <tr>\n      <th>Health &amp; Wellness</th>\n      <td>603.0</td>\n      <td>10.776949</td>\n      <td>7.373479</td>\n      <td>0.99</td>\n      <td>4.49</td>\n      <td>9.49</td>\n      <td>14.99</td>\n      <td>44.99</td>\n    </tr>\n    <tr>\n      <th>Pets</th>\n      <th>Pet Supplies</th>\n      <td>531.0</td>\n      <td>7.754369</td>\n      <td>7.245060</td>\n      <td>0.95</td>\n      <td>2.49</td>\n      <td>5.49</td>\n      <td>10.70</td>\n      <td>39.99</td>\n    </tr>\n  </tbody>\n</table>\n<p>1408 rows × 8 columns</p>\n</div>"
     },
     "metadata": {},
     "execution_count": 22
    }
   ],
   "source": [
    "# 分店第二类别各项统计值\n",
    "data.groupby(['fdName','cat','cat2'])['price'].describe()"
   ],
   "metadata": {
    "collapsed": false,
    "pycharm": {
     "name": "#%%\n"
    }
   }
  },
  {
   "cell_type": "code",
   "execution_count": 23,
   "outputs": [
    {
     "output_type": "display_data",
     "data": {
      "text/plain": "                   fdName                 cat      price\n0        PAK'nSAVE Botany  Beer, Cider & Wine  19.028498\n1    PAK'nSAVE Silverdale  Beer, Cider & Wine  18.464672\n2        PAK'nSAVE Albany  Beer, Cider & Wine  18.084565\n3      PAK'nSAVE Papakura  Beer, Cider & Wine  17.393761\n4     PAK'nSAVE Royal Oak  Beer, Cider & Wine  16.743737\n..                    ...                 ...        ...\n345     PAK'nSAVE Kaitaia              Pantry   3.487050\n346     PAK'nSAVE Porirua              Pantry   3.447450\n347   PAK'nSAVE Masterton              Pantry   3.424770\n348   PAK'nSAVE Whangarei              Pantry   3.410053\n349     PAK'nSAVE Mangere              Pantry   3.361034\n\n[350 rows x 3 columns]",
      "text/html": "<div>\n<style scoped>\n    .dataframe tbody tr th:only-of-type {\n        vertical-align: middle;\n    }\n\n    .dataframe tbody tr th {\n        vertical-align: top;\n    }\n\n    .dataframe thead th {\n        text-align: right;\n    }\n</style>\n<table border=\"1\" class=\"dataframe\">\n  <thead>\n    <tr style=\"text-align: right;\">\n      <th></th>\n      <th>fdName</th>\n      <th>cat</th>\n      <th>price</th>\n    </tr>\n  </thead>\n  <tbody>\n    <tr>\n      <th>0</th>\n      <td>PAK'nSAVE Botany</td>\n      <td>Beer, Cider &amp; Wine</td>\n      <td>19.028498</td>\n    </tr>\n    <tr>\n      <th>1</th>\n      <td>PAK'nSAVE Silverdale</td>\n      <td>Beer, Cider &amp; Wine</td>\n      <td>18.464672</td>\n    </tr>\n    <tr>\n      <th>2</th>\n      <td>PAK'nSAVE Albany</td>\n      <td>Beer, Cider &amp; Wine</td>\n      <td>18.084565</td>\n    </tr>\n    <tr>\n      <th>3</th>\n      <td>PAK'nSAVE Papakura</td>\n      <td>Beer, Cider &amp; Wine</td>\n      <td>17.393761</td>\n    </tr>\n    <tr>\n      <th>4</th>\n      <td>PAK'nSAVE Royal Oak</td>\n      <td>Beer, Cider &amp; Wine</td>\n      <td>16.743737</td>\n    </tr>\n    <tr>\n      <th>...</th>\n      <td>...</td>\n      <td>...</td>\n      <td>...</td>\n    </tr>\n    <tr>\n      <th>345</th>\n      <td>PAK'nSAVE Kaitaia</td>\n      <td>Pantry</td>\n      <td>3.487050</td>\n    </tr>\n    <tr>\n      <th>346</th>\n      <td>PAK'nSAVE Porirua</td>\n      <td>Pantry</td>\n      <td>3.447450</td>\n    </tr>\n    <tr>\n      <th>347</th>\n      <td>PAK'nSAVE Masterton</td>\n      <td>Pantry</td>\n      <td>3.424770</td>\n    </tr>\n    <tr>\n      <th>348</th>\n      <td>PAK'nSAVE Whangarei</td>\n      <td>Pantry</td>\n      <td>3.410053</td>\n    </tr>\n    <tr>\n      <th>349</th>\n      <td>PAK'nSAVE Mangere</td>\n      <td>Pantry</td>\n      <td>3.361034</td>\n    </tr>\n  </tbody>\n</table>\n<p>350 rows × 3 columns</p>\n</div>"
     },
     "metadata": {}
    }
   ],
   "source": [
    "# 分店一级分类商品均价- group by 分店\n",
    "df_price_mean = data.groupby(['fdName','cat'])['price'].mean().sort_values(ascending=False).to_frame().reset_index()\n",
    "display(df_price_mean)"
   ],
   "metadata": {
    "collapsed": false,
    "pycharm": {
     "name": "#%%\n"
    }
   }
  },
  {
   "cell_type": "code",
   "execution_count": 24,
   "outputs": [
    {
     "output_type": "display_data",
     "data": {
      "text/plain": "                   fdName                 cat      price\n0       PAK'nSAVE Mangere              Pantry   3.361034\n1     PAK'nSAVE Whangarei              Pantry   3.410053\n2     PAK'nSAVE Masterton              Pantry   3.424770\n3       PAK'nSAVE Porirua              Pantry   3.447450\n4       PAK'nSAVE Kaitaia              Pantry   3.487050\n..                    ...                 ...        ...\n345   PAK'nSAVE Royal Oak  Beer, Cider & Wine  16.743737\n346    PAK'nSAVE Papakura  Beer, Cider & Wine  17.393761\n347      PAK'nSAVE Albany  Beer, Cider & Wine  18.084565\n348  PAK'nSAVE Silverdale  Beer, Cider & Wine  18.464672\n349      PAK'nSAVE Botany  Beer, Cider & Wine  19.028498\n\n[350 rows x 3 columns]",
      "text/html": "<div>\n<style scoped>\n    .dataframe tbody tr th:only-of-type {\n        vertical-align: middle;\n    }\n\n    .dataframe tbody tr th {\n        vertical-align: top;\n    }\n\n    .dataframe thead th {\n        text-align: right;\n    }\n</style>\n<table border=\"1\" class=\"dataframe\">\n  <thead>\n    <tr style=\"text-align: right;\">\n      <th></th>\n      <th>fdName</th>\n      <th>cat</th>\n      <th>price</th>\n    </tr>\n  </thead>\n  <tbody>\n    <tr>\n      <th>0</th>\n      <td>PAK'nSAVE Mangere</td>\n      <td>Pantry</td>\n      <td>3.361034</td>\n    </tr>\n    <tr>\n      <th>1</th>\n      <td>PAK'nSAVE Whangarei</td>\n      <td>Pantry</td>\n      <td>3.410053</td>\n    </tr>\n    <tr>\n      <th>2</th>\n      <td>PAK'nSAVE Masterton</td>\n      <td>Pantry</td>\n      <td>3.424770</td>\n    </tr>\n    <tr>\n      <th>3</th>\n      <td>PAK'nSAVE Porirua</td>\n      <td>Pantry</td>\n      <td>3.447450</td>\n    </tr>\n    <tr>\n      <th>4</th>\n      <td>PAK'nSAVE Kaitaia</td>\n      <td>Pantry</td>\n      <td>3.487050</td>\n    </tr>\n    <tr>\n      <th>...</th>\n      <td>...</td>\n      <td>...</td>\n      <td>...</td>\n    </tr>\n    <tr>\n      <th>345</th>\n      <td>PAK'nSAVE Royal Oak</td>\n      <td>Beer, Cider &amp; Wine</td>\n      <td>16.743737</td>\n    </tr>\n    <tr>\n      <th>346</th>\n      <td>PAK'nSAVE Papakura</td>\n      <td>Beer, Cider &amp; Wine</td>\n      <td>17.393761</td>\n    </tr>\n    <tr>\n      <th>347</th>\n      <td>PAK'nSAVE Albany</td>\n      <td>Beer, Cider &amp; Wine</td>\n      <td>18.084565</td>\n    </tr>\n    <tr>\n      <th>348</th>\n      <td>PAK'nSAVE Silverdale</td>\n      <td>Beer, Cider &amp; Wine</td>\n      <td>18.464672</td>\n    </tr>\n    <tr>\n      <th>349</th>\n      <td>PAK'nSAVE Botany</td>\n      <td>Beer, Cider &amp; Wine</td>\n      <td>19.028498</td>\n    </tr>\n  </tbody>\n</table>\n<p>350 rows × 3 columns</p>\n</div>"
     },
     "metadata": {}
    }
   ],
   "source": [
    "# 分店一级分类商品均价- sort by 价格\n",
    "df_price_mean = data.groupby(['fdName','cat'])['price'].mean().sort_values(ascending=True).to_frame().reset_index()\n",
    "display(df_price_mean)"
   ],
   "metadata": {
    "collapsed": false,
    "pycharm": {
     "name": "#%%\n"
    }
   }
  },
  {
   "cell_type": "code",
   "execution_count": 25,
   "outputs": [
    {
     "output_type": "display_data",
     "data": {
      "text/plain": "                     fdName                   cat                       cat2  \\\n0         PAK'nSAVE Clendon  Fresh Foods & Bakery         Bulk & Loose Foods   \n1          PAK'nSAVE Albany  Fresh Foods & Bakery         Bulk & Loose Foods   \n2         PAK'nSAVE Manukau  Fresh Foods & Bakery         Bulk & Loose Foods   \n3      PAK'nSAVE Silverdale  Fresh Foods & Bakery         Bulk & Loose Foods   \n4     PAK'nSAVE Sylvia Park  Fresh Foods & Bakery         Bulk & Loose Foods   \n...                     ...                   ...                        ...   \n1403      PAK'nSAVE Porirua                Pantry        Spices & Seasonings   \n1404      PAK'nSAVE Porirua                Pantry    Canned & Prepared Foods   \n1405      PAK'nSAVE Tamatea                Pantry  Sauces, Stock & Marinades   \n1406    PAK'nSAVE Whangarei                Pantry    Canned & Prepared Foods   \n1407    PAK'nSAVE Whangarei                Pantry  Sauces, Stock & Marinades   \n\n          price  \n0     34.397297  \n1     32.500000  \n2     31.691867  \n3     31.206667  \n4     30.766667  \n...         ...  \n1403   2.724081  \n1404   2.695761  \n1405   2.649453  \n1406   2.612644  \n1407   2.559000  \n\n[1408 rows x 4 columns]",
      "text/html": "<div>\n<style scoped>\n    .dataframe tbody tr th:only-of-type {\n        vertical-align: middle;\n    }\n\n    .dataframe tbody tr th {\n        vertical-align: top;\n    }\n\n    .dataframe thead th {\n        text-align: right;\n    }\n</style>\n<table border=\"1\" class=\"dataframe\">\n  <thead>\n    <tr style=\"text-align: right;\">\n      <th></th>\n      <th>fdName</th>\n      <th>cat</th>\n      <th>cat2</th>\n      <th>price</th>\n    </tr>\n  </thead>\n  <tbody>\n    <tr>\n      <th>0</th>\n      <td>PAK'nSAVE Clendon</td>\n      <td>Fresh Foods &amp; Bakery</td>\n      <td>Bulk &amp; Loose Foods</td>\n      <td>34.397297</td>\n    </tr>\n    <tr>\n      <th>1</th>\n      <td>PAK'nSAVE Albany</td>\n      <td>Fresh Foods &amp; Bakery</td>\n      <td>Bulk &amp; Loose Foods</td>\n      <td>32.500000</td>\n    </tr>\n    <tr>\n      <th>2</th>\n      <td>PAK'nSAVE Manukau</td>\n      <td>Fresh Foods &amp; Bakery</td>\n      <td>Bulk &amp; Loose Foods</td>\n      <td>31.691867</td>\n    </tr>\n    <tr>\n      <th>3</th>\n      <td>PAK'nSAVE Silverdale</td>\n      <td>Fresh Foods &amp; Bakery</td>\n      <td>Bulk &amp; Loose Foods</td>\n      <td>31.206667</td>\n    </tr>\n    <tr>\n      <th>4</th>\n      <td>PAK'nSAVE Sylvia Park</td>\n      <td>Fresh Foods &amp; Bakery</td>\n      <td>Bulk &amp; Loose Foods</td>\n      <td>30.766667</td>\n    </tr>\n    <tr>\n      <th>...</th>\n      <td>...</td>\n      <td>...</td>\n      <td>...</td>\n      <td>...</td>\n    </tr>\n    <tr>\n      <th>1403</th>\n      <td>PAK'nSAVE Porirua</td>\n      <td>Pantry</td>\n      <td>Spices &amp; Seasonings</td>\n      <td>2.724081</td>\n    </tr>\n    <tr>\n      <th>1404</th>\n      <td>PAK'nSAVE Porirua</td>\n      <td>Pantry</td>\n      <td>Canned &amp; Prepared Foods</td>\n      <td>2.695761</td>\n    </tr>\n    <tr>\n      <th>1405</th>\n      <td>PAK'nSAVE Tamatea</td>\n      <td>Pantry</td>\n      <td>Sauces, Stock &amp; Marinades</td>\n      <td>2.649453</td>\n    </tr>\n    <tr>\n      <th>1406</th>\n      <td>PAK'nSAVE Whangarei</td>\n      <td>Pantry</td>\n      <td>Canned &amp; Prepared Foods</td>\n      <td>2.612644</td>\n    </tr>\n    <tr>\n      <th>1407</th>\n      <td>PAK'nSAVE Whangarei</td>\n      <td>Pantry</td>\n      <td>Sauces, Stock &amp; Marinades</td>\n      <td>2.559000</td>\n    </tr>\n  </tbody>\n</table>\n<p>1408 rows × 4 columns</p>\n</div>"
     },
     "metadata": {}
    }
   ],
   "source": [
    "# 分店二级分类商品均价- group by 分店\n",
    "df_price_mean = data.groupby(['fdName','cat','cat2'])['price'].mean().sort_values(ascending=False).to_frame().reset_index()\n",
    "display(df_price_mean)"
   ],
   "metadata": {
    "collapsed": false,
    "pycharm": {
     "name": "#%%\n"
    }
   }
  },
  {
   "cell_type": "code",
   "execution_count": 26,
   "outputs": [
    {
     "output_type": "display_data",
     "data": {
      "text/plain": "                     fdName                   cat                       cat2  \\\n0       PAK'nSAVE Whangarei                Pantry  Sauces, Stock & Marinades   \n1       PAK'nSAVE Whangarei                Pantry    Canned & Prepared Foods   \n2         PAK'nSAVE Tamatea                Pantry  Sauces, Stock & Marinades   \n3         PAK'nSAVE Porirua                Pantry    Canned & Prepared Foods   \n4         PAK'nSAVE Porirua                Pantry        Spices & Seasonings   \n...                     ...                   ...                        ...   \n1403  PAK'nSAVE Sylvia Park  Fresh Foods & Bakery         Bulk & Loose Foods   \n1404   PAK'nSAVE Silverdale  Fresh Foods & Bakery         Bulk & Loose Foods   \n1405      PAK'nSAVE Manukau  Fresh Foods & Bakery         Bulk & Loose Foods   \n1406       PAK'nSAVE Albany  Fresh Foods & Bakery         Bulk & Loose Foods   \n1407      PAK'nSAVE Clendon  Fresh Foods & Bakery         Bulk & Loose Foods   \n\n          price  \n0      2.559000  \n1      2.612644  \n2      2.649453  \n3      2.695761  \n4      2.724081  \n...         ...  \n1403  30.766667  \n1404  31.206667  \n1405  31.691867  \n1406  32.500000  \n1407  34.397297  \n\n[1408 rows x 4 columns]",
      "text/html": "<div>\n<style scoped>\n    .dataframe tbody tr th:only-of-type {\n        vertical-align: middle;\n    }\n\n    .dataframe tbody tr th {\n        vertical-align: top;\n    }\n\n    .dataframe thead th {\n        text-align: right;\n    }\n</style>\n<table border=\"1\" class=\"dataframe\">\n  <thead>\n    <tr style=\"text-align: right;\">\n      <th></th>\n      <th>fdName</th>\n      <th>cat</th>\n      <th>cat2</th>\n      <th>price</th>\n    </tr>\n  </thead>\n  <tbody>\n    <tr>\n      <th>0</th>\n      <td>PAK'nSAVE Whangarei</td>\n      <td>Pantry</td>\n      <td>Sauces, Stock &amp; Marinades</td>\n      <td>2.559000</td>\n    </tr>\n    <tr>\n      <th>1</th>\n      <td>PAK'nSAVE Whangarei</td>\n      <td>Pantry</td>\n      <td>Canned &amp; Prepared Foods</td>\n      <td>2.612644</td>\n    </tr>\n    <tr>\n      <th>2</th>\n      <td>PAK'nSAVE Tamatea</td>\n      <td>Pantry</td>\n      <td>Sauces, Stock &amp; Marinades</td>\n      <td>2.649453</td>\n    </tr>\n    <tr>\n      <th>3</th>\n      <td>PAK'nSAVE Porirua</td>\n      <td>Pantry</td>\n      <td>Canned &amp; Prepared Foods</td>\n      <td>2.695761</td>\n    </tr>\n    <tr>\n      <th>4</th>\n      <td>PAK'nSAVE Porirua</td>\n      <td>Pantry</td>\n      <td>Spices &amp; Seasonings</td>\n      <td>2.724081</td>\n    </tr>\n    <tr>\n      <th>...</th>\n      <td>...</td>\n      <td>...</td>\n      <td>...</td>\n      <td>...</td>\n    </tr>\n    <tr>\n      <th>1403</th>\n      <td>PAK'nSAVE Sylvia Park</td>\n      <td>Fresh Foods &amp; Bakery</td>\n      <td>Bulk &amp; Loose Foods</td>\n      <td>30.766667</td>\n    </tr>\n    <tr>\n      <th>1404</th>\n      <td>PAK'nSAVE Silverdale</td>\n      <td>Fresh Foods &amp; Bakery</td>\n      <td>Bulk &amp; Loose Foods</td>\n      <td>31.206667</td>\n    </tr>\n    <tr>\n      <th>1405</th>\n      <td>PAK'nSAVE Manukau</td>\n      <td>Fresh Foods &amp; Bakery</td>\n      <td>Bulk &amp; Loose Foods</td>\n      <td>31.691867</td>\n    </tr>\n    <tr>\n      <th>1406</th>\n      <td>PAK'nSAVE Albany</td>\n      <td>Fresh Foods &amp; Bakery</td>\n      <td>Bulk &amp; Loose Foods</td>\n      <td>32.500000</td>\n    </tr>\n    <tr>\n      <th>1407</th>\n      <td>PAK'nSAVE Clendon</td>\n      <td>Fresh Foods &amp; Bakery</td>\n      <td>Bulk &amp; Loose Foods</td>\n      <td>34.397297</td>\n    </tr>\n  </tbody>\n</table>\n<p>1408 rows × 4 columns</p>\n</div>"
     },
     "metadata": {}
    }
   ],
   "source": [
    "# 分店二级分类商品均价- sort by 价格\n",
    "df_price_mean = data.groupby(['fdName','cat','cat2'])['price'].mean().sort_values(ascending=True).to_frame().reset_index()\n",
    "display(df_price_mean)"
   ],
   "metadata": {
    "collapsed": false,
    "pycharm": {
     "name": "#%%\n"
    }
   }
  },
  {
   "cell_type": "code",
   "execution_count": 27,
   "outputs": [
    {
     "output_type": "display_data",
     "data": {
      "text/plain": "                    fdName   name\n0   PAK'nSAVE Lincoln Road  12550\n1         PAK'nSAVE Thames  11682\n2       PAK'nSAVE Papakura  11630\n3   PAK'nSAVE Palmerston N  11130\n4   PAK'nSAVE New Plymouth  11098\n5         PAK'nSAVE Petone  11086\n6         PAK'nSAVE Kapiti  10710\n7     PAK'nSAVE Upper Hutt  10638\n8    PAK'nSAVE Clarence St  10625\n9      PAK'nSAVE Royal Oak  10591\n10        PAK'nSAVE Hawera  10505\n11      PAK'nSAVE Westgate  10355\n12    PAK'nSAVE Te Awamutu  10301\n13   PAK'nSAVE Napier City  10253\n14    PAK'nSAVE Silverdale  10207\n15      PAK'nSAVE Hastings  10152\n16     PAK'nSAVE Kilbirnie  10136\n17        PAK'nSAVE Botany  10113\n18   PAK'nSAVE Sylvia Park  10088\n19    PAK'nSAVE Glen Innes  10060\n20       PAK'nSAVE Porirua  10016\n21       PAK'nSAVE Kaitaia   9996\n22    PAK'nSAVE Lower Hutt   9881\n23         PAK'nSAVE Taupo   9801\n24     PAK'nSAVE Mt Albert   9741\n25       PAK'nSAVE Tauriko   9674\n26       PAK'nSAVE Clendon   9637\n27     PAK'nSAVE Masterton   9526\n28       PAK'nSAVE Papamoa   9484\n29      PAK'nSAVE Wanganui   9460\n30        PAK'nSAVE Albany   9431\n31   PAK'nSAVE Mill Street   9348\n32     PAK'nSAVE Whangarei   9162\n33       PAK'nSAVE Tamatea   9159\n34     PAK'nSAVE Whakatane   8994\n35  PAK'nSAVE Cameron Road   8811\n36       PAK'nSAVE Mangere   8559\n37       PAK'nSAVE Manukau   8285\n38      PAK'nSAVE Pukekohe   7936",
      "text/html": "<div>\n<style scoped>\n    .dataframe tbody tr th:only-of-type {\n        vertical-align: middle;\n    }\n\n    .dataframe tbody tr th {\n        vertical-align: top;\n    }\n\n    .dataframe thead th {\n        text-align: right;\n    }\n</style>\n<table border=\"1\" class=\"dataframe\">\n  <thead>\n    <tr style=\"text-align: right;\">\n      <th></th>\n      <th>fdName</th>\n      <th>name</th>\n    </tr>\n  </thead>\n  <tbody>\n    <tr>\n      <th>0</th>\n      <td>PAK'nSAVE Lincoln Road</td>\n      <td>12550</td>\n    </tr>\n    <tr>\n      <th>1</th>\n      <td>PAK'nSAVE Thames</td>\n      <td>11682</td>\n    </tr>\n    <tr>\n      <th>2</th>\n      <td>PAK'nSAVE Papakura</td>\n      <td>11630</td>\n    </tr>\n    <tr>\n      <th>3</th>\n      <td>PAK'nSAVE Palmerston N</td>\n      <td>11130</td>\n    </tr>\n    <tr>\n      <th>4</th>\n      <td>PAK'nSAVE New Plymouth</td>\n      <td>11098</td>\n    </tr>\n    <tr>\n      <th>5</th>\n      <td>PAK'nSAVE Petone</td>\n      <td>11086</td>\n    </tr>\n    <tr>\n      <th>6</th>\n      <td>PAK'nSAVE Kapiti</td>\n      <td>10710</td>\n    </tr>\n    <tr>\n      <th>7</th>\n      <td>PAK'nSAVE Upper Hutt</td>\n      <td>10638</td>\n    </tr>\n    <tr>\n      <th>8</th>\n      <td>PAK'nSAVE Clarence St</td>\n      <td>10625</td>\n    </tr>\n    <tr>\n      <th>9</th>\n      <td>PAK'nSAVE Royal Oak</td>\n      <td>10591</td>\n    </tr>\n    <tr>\n      <th>10</th>\n      <td>PAK'nSAVE Hawera</td>\n      <td>10505</td>\n    </tr>\n    <tr>\n      <th>11</th>\n      <td>PAK'nSAVE Westgate</td>\n      <td>10355</td>\n    </tr>\n    <tr>\n      <th>12</th>\n      <td>PAK'nSAVE Te Awamutu</td>\n      <td>10301</td>\n    </tr>\n    <tr>\n      <th>13</th>\n      <td>PAK'nSAVE Napier City</td>\n      <td>10253</td>\n    </tr>\n    <tr>\n      <th>14</th>\n      <td>PAK'nSAVE Silverdale</td>\n      <td>10207</td>\n    </tr>\n    <tr>\n      <th>15</th>\n      <td>PAK'nSAVE Hastings</td>\n      <td>10152</td>\n    </tr>\n    <tr>\n      <th>16</th>\n      <td>PAK'nSAVE Kilbirnie</td>\n      <td>10136</td>\n    </tr>\n    <tr>\n      <th>17</th>\n      <td>PAK'nSAVE Botany</td>\n      <td>10113</td>\n    </tr>\n    <tr>\n      <th>18</th>\n      <td>PAK'nSAVE Sylvia Park</td>\n      <td>10088</td>\n    </tr>\n    <tr>\n      <th>19</th>\n      <td>PAK'nSAVE Glen Innes</td>\n      <td>10060</td>\n    </tr>\n    <tr>\n      <th>20</th>\n      <td>PAK'nSAVE Porirua</td>\n      <td>10016</td>\n    </tr>\n    <tr>\n      <th>21</th>\n      <td>PAK'nSAVE Kaitaia</td>\n      <td>9996</td>\n    </tr>\n    <tr>\n      <th>22</th>\n      <td>PAK'nSAVE Lower Hutt</td>\n      <td>9881</td>\n    </tr>\n    <tr>\n      <th>23</th>\n      <td>PAK'nSAVE Taupo</td>\n      <td>9801</td>\n    </tr>\n    <tr>\n      <th>24</th>\n      <td>PAK'nSAVE Mt Albert</td>\n      <td>9741</td>\n    </tr>\n    <tr>\n      <th>25</th>\n      <td>PAK'nSAVE Tauriko</td>\n      <td>9674</td>\n    </tr>\n    <tr>\n      <th>26</th>\n      <td>PAK'nSAVE Clendon</td>\n      <td>9637</td>\n    </tr>\n    <tr>\n      <th>27</th>\n      <td>PAK'nSAVE Masterton</td>\n      <td>9526</td>\n    </tr>\n    <tr>\n      <th>28</th>\n      <td>PAK'nSAVE Papamoa</td>\n      <td>9484</td>\n    </tr>\n    <tr>\n      <th>29</th>\n      <td>PAK'nSAVE Wanganui</td>\n      <td>9460</td>\n    </tr>\n    <tr>\n      <th>30</th>\n      <td>PAK'nSAVE Albany</td>\n      <td>9431</td>\n    </tr>\n    <tr>\n      <th>31</th>\n      <td>PAK'nSAVE Mill Street</td>\n      <td>9348</td>\n    </tr>\n    <tr>\n      <th>32</th>\n      <td>PAK'nSAVE Whangarei</td>\n      <td>9162</td>\n    </tr>\n    <tr>\n      <th>33</th>\n      <td>PAK'nSAVE Tamatea</td>\n      <td>9159</td>\n    </tr>\n    <tr>\n      <th>34</th>\n      <td>PAK'nSAVE Whakatane</td>\n      <td>8994</td>\n    </tr>\n    <tr>\n      <th>35</th>\n      <td>PAK'nSAVE Cameron Road</td>\n      <td>8811</td>\n    </tr>\n    <tr>\n      <th>36</th>\n      <td>PAK'nSAVE Mangere</td>\n      <td>8559</td>\n    </tr>\n    <tr>\n      <th>37</th>\n      <td>PAK'nSAVE Manukau</td>\n      <td>8285</td>\n    </tr>\n    <tr>\n      <th>38</th>\n      <td>PAK'nSAVE Pukekohe</td>\n      <td>7936</td>\n    </tr>\n  </tbody>\n</table>\n</div>"
     },
     "metadata": {}
    }
   ],
   "source": [
    "# 分店商品数统计-降序\n",
    "df_item_count = data.groupby('fdName')['name'].count().sort_values(ascending =False).to_frame().reset_index()\n",
    "display(df_item_count)"
   ],
   "metadata": {
    "collapsed": false,
    "pycharm": {
     "name": "#%%\n"
    }
   }
  },
  {
   "cell_type": "code",
   "execution_count": 28,
   "outputs": [
    {
     "output_type": "execute_result",
     "data": {
      "text/plain": "                     fdName                   cat  name\n0    PAK'nSAVE Lincoln Road                Pantry  4295\n1          PAK'nSAVE Thames                Pantry  3937\n2        PAK'nSAVE Westgate                Pantry  3554\n3    PAK'nSAVE New Plymouth                Pantry  3537\n4          PAK'nSAVE Hawera                Pantry  3534\n..                      ...                   ...   ...\n345      PAK'nSAVE Pukekohe  Baby, Toddler & Kids   224\n346     PAK'nSAVE Whakatane  Baby, Toddler & Kids   222\n347  PAK'nSAVE Lincoln Road    Beer, Cider & Wine    13\n348     PAK'nSAVE Mt Albert    Beer, Cider & Wine    10\n349      PAK'nSAVE Westgate    Beer, Cider & Wine    10\n\n[350 rows x 3 columns]",
      "text/html": "<div>\n<style scoped>\n    .dataframe tbody tr th:only-of-type {\n        vertical-align: middle;\n    }\n\n    .dataframe tbody tr th {\n        vertical-align: top;\n    }\n\n    .dataframe thead th {\n        text-align: right;\n    }\n</style>\n<table border=\"1\" class=\"dataframe\">\n  <thead>\n    <tr style=\"text-align: right;\">\n      <th></th>\n      <th>fdName</th>\n      <th>cat</th>\n      <th>name</th>\n    </tr>\n  </thead>\n  <tbody>\n    <tr>\n      <th>0</th>\n      <td>PAK'nSAVE Lincoln Road</td>\n      <td>Pantry</td>\n      <td>4295</td>\n    </tr>\n    <tr>\n      <th>1</th>\n      <td>PAK'nSAVE Thames</td>\n      <td>Pantry</td>\n      <td>3937</td>\n    </tr>\n    <tr>\n      <th>2</th>\n      <td>PAK'nSAVE Westgate</td>\n      <td>Pantry</td>\n      <td>3554</td>\n    </tr>\n    <tr>\n      <th>3</th>\n      <td>PAK'nSAVE New Plymouth</td>\n      <td>Pantry</td>\n      <td>3537</td>\n    </tr>\n    <tr>\n      <th>4</th>\n      <td>PAK'nSAVE Hawera</td>\n      <td>Pantry</td>\n      <td>3534</td>\n    </tr>\n    <tr>\n      <th>...</th>\n      <td>...</td>\n      <td>...</td>\n      <td>...</td>\n    </tr>\n    <tr>\n      <th>345</th>\n      <td>PAK'nSAVE Pukekohe</td>\n      <td>Baby, Toddler &amp; Kids</td>\n      <td>224</td>\n    </tr>\n    <tr>\n      <th>346</th>\n      <td>PAK'nSAVE Whakatane</td>\n      <td>Baby, Toddler &amp; Kids</td>\n      <td>222</td>\n    </tr>\n    <tr>\n      <th>347</th>\n      <td>PAK'nSAVE Lincoln Road</td>\n      <td>Beer, Cider &amp; Wine</td>\n      <td>13</td>\n    </tr>\n    <tr>\n      <th>348</th>\n      <td>PAK'nSAVE Mt Albert</td>\n      <td>Beer, Cider &amp; Wine</td>\n      <td>10</td>\n    </tr>\n    <tr>\n      <th>349</th>\n      <td>PAK'nSAVE Westgate</td>\n      <td>Beer, Cider &amp; Wine</td>\n      <td>10</td>\n    </tr>\n  </tbody>\n</table>\n<p>350 rows × 3 columns</p>\n</div>"
     },
     "metadata": {},
     "execution_count": 28
    }
   ],
   "source": [
    "# 分店第一类别商品数统计-降序\n",
    "data.groupby(['fdName','cat'])['name'].count().sort_values(ascending =False).to_frame().reset_index()"
   ],
   "metadata": {
    "collapsed": false,
    "pycharm": {
     "name": "#%%\n"
    }
   }
  },
  {
   "cell_type": "code",
   "execution_count": 29,
   "outputs": [
    {
     "output_type": "execute_result",
     "data": {
      "text/plain": "                      fdName                   cat                cat2  name\n0         PAK'nSAVE Hastings         Personal Care   Beauty & Grooming  1000\n1           PAK'nSAVE Hawera         Personal Care   Beauty & Grooming  1000\n2     PAK'nSAVE New Plymouth         Personal Care   Beauty & Grooming  1000\n3     PAK'nSAVE Lincoln Road         Personal Care   Beauty & Grooming  1000\n4       PAK'nSAVE Silverdale         Personal Care   Beauty & Grooming   999\n...                      ...                   ...                 ...   ...\n1403      PAK'nSAVE Wanganui  Fresh Foods & Bakery  Bulk & Loose Foods     2\n1404   PAK'nSAVE Mill Street  Fresh Foods & Bakery           Meal Kits     2\n1405   PAK'nSAVE Sylvia Park  Fresh Foods & Bakery           Meal Kits     1\n1406        PAK'nSAVE Albany  Fresh Foods & Bakery  Bulk & Loose Foods     1\n1407        PAK'nSAVE Petone  Fresh Foods & Bakery           Meal Kits     1\n\n[1408 rows x 4 columns]",
      "text/html": "<div>\n<style scoped>\n    .dataframe tbody tr th:only-of-type {\n        vertical-align: middle;\n    }\n\n    .dataframe tbody tr th {\n        vertical-align: top;\n    }\n\n    .dataframe thead th {\n        text-align: right;\n    }\n</style>\n<table border=\"1\" class=\"dataframe\">\n  <thead>\n    <tr style=\"text-align: right;\">\n      <th></th>\n      <th>fdName</th>\n      <th>cat</th>\n      <th>cat2</th>\n      <th>name</th>\n    </tr>\n  </thead>\n  <tbody>\n    <tr>\n      <th>0</th>\n      <td>PAK'nSAVE Hastings</td>\n      <td>Personal Care</td>\n      <td>Beauty &amp; Grooming</td>\n      <td>1000</td>\n    </tr>\n    <tr>\n      <th>1</th>\n      <td>PAK'nSAVE Hawera</td>\n      <td>Personal Care</td>\n      <td>Beauty &amp; Grooming</td>\n      <td>1000</td>\n    </tr>\n    <tr>\n      <th>2</th>\n      <td>PAK'nSAVE New Plymouth</td>\n      <td>Personal Care</td>\n      <td>Beauty &amp; Grooming</td>\n      <td>1000</td>\n    </tr>\n    <tr>\n      <th>3</th>\n      <td>PAK'nSAVE Lincoln Road</td>\n      <td>Personal Care</td>\n      <td>Beauty &amp; Grooming</td>\n      <td>1000</td>\n    </tr>\n    <tr>\n      <th>4</th>\n      <td>PAK'nSAVE Silverdale</td>\n      <td>Personal Care</td>\n      <td>Beauty &amp; Grooming</td>\n      <td>999</td>\n    </tr>\n    <tr>\n      <th>...</th>\n      <td>...</td>\n      <td>...</td>\n      <td>...</td>\n      <td>...</td>\n    </tr>\n    <tr>\n      <th>1403</th>\n      <td>PAK'nSAVE Wanganui</td>\n      <td>Fresh Foods &amp; Bakery</td>\n      <td>Bulk &amp; Loose Foods</td>\n      <td>2</td>\n    </tr>\n    <tr>\n      <th>1404</th>\n      <td>PAK'nSAVE Mill Street</td>\n      <td>Fresh Foods &amp; Bakery</td>\n      <td>Meal Kits</td>\n      <td>2</td>\n    </tr>\n    <tr>\n      <th>1405</th>\n      <td>PAK'nSAVE Sylvia Park</td>\n      <td>Fresh Foods &amp; Bakery</td>\n      <td>Meal Kits</td>\n      <td>1</td>\n    </tr>\n    <tr>\n      <th>1406</th>\n      <td>PAK'nSAVE Albany</td>\n      <td>Fresh Foods &amp; Bakery</td>\n      <td>Bulk &amp; Loose Foods</td>\n      <td>1</td>\n    </tr>\n    <tr>\n      <th>1407</th>\n      <td>PAK'nSAVE Petone</td>\n      <td>Fresh Foods &amp; Bakery</td>\n      <td>Meal Kits</td>\n      <td>1</td>\n    </tr>\n  </tbody>\n</table>\n<p>1408 rows × 4 columns</p>\n</div>"
     },
     "metadata": {},
     "execution_count": 29
    }
   ],
   "source": [
    "# 分店第二类别商品数统计-降序\n",
    "data.groupby(['fdName','cat','cat2'])['name'].count().sort_values(ascending =False).to_frame().reset_index()"
   ],
   "metadata": {
    "collapsed": false,
    "pycharm": {
     "name": "#%%\n"
    }
   }
  },
  {
   "cell_type": "code",
   "execution_count": 30,
   "outputs": [
    {
     "output_type": "execute_result",
     "data": {
      "text/plain": "&            55929\nPams         28663\nChicken      16297\nChocolate    15334\nCheese       12886\nFood         12102\nWith         11740\nFresh        10993\nCream        10545\nMilk         10315\nSauce        10209\nOriginal      9003\nFree          8993\nValue         8577\nDrink         8554\nFruit         8267\nOrganic       8195\nCat           7864\nRice          7729\nBeef          7656\nWhite         7630\nIn            7377\nNatural       7250\nMix           7091\nWattie's      6973\nYoghurt       6927\nCoffee        6550\nLemon         6440\nThe           6189\nSoft          6023\nOil           5896\nJuice         5877\nExtra         5860\nRed           5837\nFor           5749\nPremium       5571\nDry           5153\nVanilla       5151\nCoconut       5126\nDog           5108\nClassic       5082\nApple         5043\nTablets       5007\nBlack         4936\nBags          4904\nHoney         4901\nTomato        4883\nBiscuits      4836\nSugar         4817\nTea           4777\ndtype: int64"
     },
     "metadata": {},
     "execution_count": 30
    }
   ],
   "source": [
    "# 商品名称词频\n",
    "data.name.str.split(expand=True).stack().value_counts().head(50)"
   ],
   "metadata": {
    "collapsed": false,
    "pycharm": {
     "name": "#%%\n"
    }
   }
  },
  {
   "cell_type": "code",
   "execution_count": null,
   "outputs": [],
   "source": [
    "# 生成最终数据\n",
    "col_list = ['name','cat','cat2']\n",
    "data =  data[col_list]\n",
    "display(data)\n",
    "data.to_csv (r'product_classification.csv', index = False, header=True)\n",
    "data = pd.read_csv(\"./product_classification.csv\",usecols=col_list)\n",
    "display(data)\n",
    "\n"
   ],
   "metadata": {
    "collapsed": false,
    "pycharm": {
     "name": "#%%\n"
    }
   }
  },
  {
   "cell_type": "code",
   "execution_count": null,
   "outputs": [],
   "source": [
    "data.groupby(['cat'])['name'].count().sort_values(ascending =False).to_frame()"
   ],
   "metadata": {
    "collapsed": false,
    "pycharm": {
     "name": "#%%\n"
    }
   }
  },
  {
   "cell_type": "code",
   "execution_count": 31,
   "outputs": [
    {
     "output_type": "display_data",
     "data": {
      "text/plain": "                                                    name  \\\n369148                 Moccona Strong Cappuccino Sachets   \n369149            Nescafe Dolce Gusto Americano Capsules   \n369150                   Starbucks Caffe Varona Capsules   \n369151       Robert Harris Italian Roast Coffee Capsules   \n369152                             Moccona Latte Sachets   \n...                                                  ...   \n411216                   Yates Nature's Way Fungus Spray   \n411217  Yates Nature's Way Pyrethum Natural Insect Spray   \n411218                         Selleys All Plastics Glue   \n411219          Holdfast H/F SCREW DRIVER PHILLIPS 100MM   \n411220                   Holdfast Flat Head Screw Driver   \n\n                                cat              cat2  \n369148                       Drinks        Hot Drinks  \n369149                       Drinks        Hot Drinks  \n369150                       Drinks        Hot Drinks  \n369151                       Drinks        Hot Drinks  \n369152                       Drinks        Hot Drinks  \n...                             ...               ...  \n411216  Kitchen, Dining & Household  Garage & Outdoor  \n411217  Kitchen, Dining & Household  Garage & Outdoor  \n411218  Kitchen, Dining & Household  Garage & Outdoor  \n411219  Kitchen, Dining & Household  Garage & Outdoor  \n411220  Kitchen, Dining & Household  Garage & Outdoor  \n\n[390811 rows x 3 columns]",
      "text/html": "<div>\n<style scoped>\n    .dataframe tbody tr th:only-of-type {\n        vertical-align: middle;\n    }\n\n    .dataframe tbody tr th {\n        vertical-align: top;\n    }\n\n    .dataframe thead th {\n        text-align: right;\n    }\n</style>\n<table border=\"1\" class=\"dataframe\">\n  <thead>\n    <tr style=\"text-align: right;\">\n      <th></th>\n      <th>name</th>\n      <th>cat</th>\n      <th>cat2</th>\n    </tr>\n  </thead>\n  <tbody>\n    <tr>\n      <th>369148</th>\n      <td>Moccona Strong Cappuccino Sachets</td>\n      <td>Drinks</td>\n      <td>Hot Drinks</td>\n    </tr>\n    <tr>\n      <th>369149</th>\n      <td>Nescafe Dolce Gusto Americano Capsules</td>\n      <td>Drinks</td>\n      <td>Hot Drinks</td>\n    </tr>\n    <tr>\n      <th>369150</th>\n      <td>Starbucks Caffe Varona Capsules</td>\n      <td>Drinks</td>\n      <td>Hot Drinks</td>\n    </tr>\n    <tr>\n      <th>369151</th>\n      <td>Robert Harris Italian Roast Coffee Capsules</td>\n      <td>Drinks</td>\n      <td>Hot Drinks</td>\n    </tr>\n    <tr>\n      <th>369152</th>\n      <td>Moccona Latte Sachets</td>\n      <td>Drinks</td>\n      <td>Hot Drinks</td>\n    </tr>\n    <tr>\n      <th>...</th>\n      <td>...</td>\n      <td>...</td>\n      <td>...</td>\n    </tr>\n    <tr>\n      <th>411216</th>\n      <td>Yates Nature's Way Fungus Spray</td>\n      <td>Kitchen, Dining &amp; Household</td>\n      <td>Garage &amp; Outdoor</td>\n    </tr>\n    <tr>\n      <th>411217</th>\n      <td>Yates Nature's Way Pyrethum Natural Insect Spray</td>\n      <td>Kitchen, Dining &amp; Household</td>\n      <td>Garage &amp; Outdoor</td>\n    </tr>\n    <tr>\n      <th>411218</th>\n      <td>Selleys All Plastics Glue</td>\n      <td>Kitchen, Dining &amp; Household</td>\n      <td>Garage &amp; Outdoor</td>\n    </tr>\n    <tr>\n      <th>411219</th>\n      <td>Holdfast H/F SCREW DRIVER PHILLIPS 100MM</td>\n      <td>Kitchen, Dining &amp; Household</td>\n      <td>Garage &amp; Outdoor</td>\n    </tr>\n    <tr>\n      <th>411220</th>\n      <td>Holdfast Flat Head Screw Driver</td>\n      <td>Kitchen, Dining &amp; Household</td>\n      <td>Garage &amp; Outdoor</td>\n    </tr>\n  </tbody>\n</table>\n<p>390811 rows × 3 columns</p>\n</div>"
     },
     "metadata": {}
    },
    {
     "output_type": "display_data",
     "data": {
      "text/plain": "                                                    name  \\\n0                      Moccona Strong Cappuccino Sachets   \n1                 Nescafe Dolce Gusto Americano Capsules   \n2                        Starbucks Caffe Varona Capsules   \n3            Robert Harris Italian Roast Coffee Capsules   \n4                                  Moccona Latte Sachets   \n...                                                  ...   \n390806                   Yates Nature's Way Fungus Spray   \n390807  Yates Nature's Way Pyrethum Natural Insect Spray   \n390808                         Selleys All Plastics Glue   \n390809          Holdfast H/F SCREW DRIVER PHILLIPS 100MM   \n390810                   Holdfast Flat Head Screw Driver   \n\n                                cat              cat2  \n0                            Drinks        Hot Drinks  \n1                            Drinks        Hot Drinks  \n2                            Drinks        Hot Drinks  \n3                            Drinks        Hot Drinks  \n4                            Drinks        Hot Drinks  \n...                             ...               ...  \n390806  Kitchen, Dining & Household  Garage & Outdoor  \n390807  Kitchen, Dining & Household  Garage & Outdoor  \n390808  Kitchen, Dining & Household  Garage & Outdoor  \n390809  Kitchen, Dining & Household  Garage & Outdoor  \n390810  Kitchen, Dining & Household  Garage & Outdoor  \n\n[390811 rows x 3 columns]",
      "text/html": "<div>\n<style scoped>\n    .dataframe tbody tr th:only-of-type {\n        vertical-align: middle;\n    }\n\n    .dataframe tbody tr th {\n        vertical-align: top;\n    }\n\n    .dataframe thead th {\n        text-align: right;\n    }\n</style>\n<table border=\"1\" class=\"dataframe\">\n  <thead>\n    <tr style=\"text-align: right;\">\n      <th></th>\n      <th>name</th>\n      <th>cat</th>\n      <th>cat2</th>\n    </tr>\n  </thead>\n  <tbody>\n    <tr>\n      <th>0</th>\n      <td>Moccona Strong Cappuccino Sachets</td>\n      <td>Drinks</td>\n      <td>Hot Drinks</td>\n    </tr>\n    <tr>\n      <th>1</th>\n      <td>Nescafe Dolce Gusto Americano Capsules</td>\n      <td>Drinks</td>\n      <td>Hot Drinks</td>\n    </tr>\n    <tr>\n      <th>2</th>\n      <td>Starbucks Caffe Varona Capsules</td>\n      <td>Drinks</td>\n      <td>Hot Drinks</td>\n    </tr>\n    <tr>\n      <th>3</th>\n      <td>Robert Harris Italian Roast Coffee Capsules</td>\n      <td>Drinks</td>\n      <td>Hot Drinks</td>\n    </tr>\n    <tr>\n      <th>4</th>\n      <td>Moccona Latte Sachets</td>\n      <td>Drinks</td>\n      <td>Hot Drinks</td>\n    </tr>\n    <tr>\n      <th>...</th>\n      <td>...</td>\n      <td>...</td>\n      <td>...</td>\n    </tr>\n    <tr>\n      <th>390806</th>\n      <td>Yates Nature's Way Fungus Spray</td>\n      <td>Kitchen, Dining &amp; Household</td>\n      <td>Garage &amp; Outdoor</td>\n    </tr>\n    <tr>\n      <th>390807</th>\n      <td>Yates Nature's Way Pyrethum Natural Insect Spray</td>\n      <td>Kitchen, Dining &amp; Household</td>\n      <td>Garage &amp; Outdoor</td>\n    </tr>\n    <tr>\n      <th>390808</th>\n      <td>Selleys All Plastics Glue</td>\n      <td>Kitchen, Dining &amp; Household</td>\n      <td>Garage &amp; Outdoor</td>\n    </tr>\n    <tr>\n      <th>390809</th>\n      <td>Holdfast H/F SCREW DRIVER PHILLIPS 100MM</td>\n      <td>Kitchen, Dining &amp; Household</td>\n      <td>Garage &amp; Outdoor</td>\n    </tr>\n    <tr>\n      <th>390810</th>\n      <td>Holdfast Flat Head Screw Driver</td>\n      <td>Kitchen, Dining &amp; Household</td>\n      <td>Garage &amp; Outdoor</td>\n    </tr>\n  </tbody>\n</table>\n<p>390811 rows × 3 columns</p>\n</div>"
     },
     "metadata": {}
    }
   ],
   "source": [],
   "metadata": {
    "collapsed": false,
    "pycharm": {
     "name": "#%%\n"
    }
   }
  },
  {
   "cell_type": "code",
   "execution_count": 33,
   "metadata": {},
   "outputs": [
    {
     "output_type": "execute_result",
     "data": {
      "text/plain": "                               name\ncat                                \nPantry                       120907\nPersonal Care                 58565\nChilled, Frozen & Desserts    44104\nFresh Foods & Bakery          42380\nKitchen, Dining & Household   41830\nDrinks                        28486\nBeer, Cider & Wine            25314\nPets                          16688\nBaby, Toddler & Kids          12537",
      "text/html": "<div>\n<style scoped>\n    .dataframe tbody tr th:only-of-type {\n        vertical-align: middle;\n    }\n\n    .dataframe tbody tr th {\n        vertical-align: top;\n    }\n\n    .dataframe thead th {\n        text-align: right;\n    }\n</style>\n<table border=\"1\" class=\"dataframe\">\n  <thead>\n    <tr style=\"text-align: right;\">\n      <th></th>\n      <th>name</th>\n    </tr>\n    <tr>\n      <th>cat</th>\n      <th></th>\n    </tr>\n  </thead>\n  <tbody>\n    <tr>\n      <th>Pantry</th>\n      <td>120907</td>\n    </tr>\n    <tr>\n      <th>Personal Care</th>\n      <td>58565</td>\n    </tr>\n    <tr>\n      <th>Chilled, Frozen &amp; Desserts</th>\n      <td>44104</td>\n    </tr>\n    <tr>\n      <th>Fresh Foods &amp; Bakery</th>\n      <td>42380</td>\n    </tr>\n    <tr>\n      <th>Kitchen, Dining &amp; Household</th>\n      <td>41830</td>\n    </tr>\n    <tr>\n      <th>Drinks</th>\n      <td>28486</td>\n    </tr>\n    <tr>\n      <th>Beer, Cider &amp; Wine</th>\n      <td>25314</td>\n    </tr>\n    <tr>\n      <th>Pets</th>\n      <td>16688</td>\n    </tr>\n    <tr>\n      <th>Baby, Toddler &amp; Kids</th>\n      <td>12537</td>\n    </tr>\n  </tbody>\n</table>\n</div>"
     },
     "metadata": {},
     "execution_count": 33
    }
   ],
   "source": [
    "data.groupby(['cat'])['name'].count().sort_values(ascending =False).to_frame()"
   ]
  },
  {
   "cell_type": "code",
   "execution_count": 22,
   "metadata": {
    "tags": []
   },
   "outputs": [
    {
     "output_type": "display_data",
     "data": {
      "text/plain": "                                                    name  \\\n0                      Moccona Strong Cappuccino Sachets   \n1                 Nescafe Dolce Gusto Americano Capsules   \n2                        Starbucks Caffe Varona Capsules   \n3            Robert Harris Italian Roast Coffee Capsules   \n4                                  Moccona Latte Sachets   \n...                                                  ...   \n390806                   Yates Nature's Way Fungus Spray   \n390807  Yates Nature's Way Pyrethum Natural Insect Spray   \n390808                         Selleys All Plastics Glue   \n390809          Holdfast H/F SCREW DRIVER PHILLIPS 100MM   \n390810                   Holdfast Flat Head Screw Driver   \n\n                                cat  \n0                            Drinks  \n1                            Drinks  \n2                            Drinks  \n3                            Drinks  \n4                            Drinks  \n...                             ...  \n390806  Kitchen, Dining & Household  \n390807  Kitchen, Dining & Household  \n390808  Kitchen, Dining & Household  \n390809  Kitchen, Dining & Household  \n390810  Kitchen, Dining & Household  \n\n[390811 rows x 2 columns]",
      "text/html": "<div>\n<style scoped>\n    .dataframe tbody tr th:only-of-type {\n        vertical-align: middle;\n    }\n\n    .dataframe tbody tr th {\n        vertical-align: top;\n    }\n\n    .dataframe thead th {\n        text-align: right;\n    }\n</style>\n<table border=\"1\" class=\"dataframe\">\n  <thead>\n    <tr style=\"text-align: right;\">\n      <th></th>\n      <th>name</th>\n      <th>cat</th>\n    </tr>\n  </thead>\n  <tbody>\n    <tr>\n      <th>0</th>\n      <td>Moccona Strong Cappuccino Sachets</td>\n      <td>Drinks</td>\n    </tr>\n    <tr>\n      <th>1</th>\n      <td>Nescafe Dolce Gusto Americano Capsules</td>\n      <td>Drinks</td>\n    </tr>\n    <tr>\n      <th>2</th>\n      <td>Starbucks Caffe Varona Capsules</td>\n      <td>Drinks</td>\n    </tr>\n    <tr>\n      <th>3</th>\n      <td>Robert Harris Italian Roast Coffee Capsules</td>\n      <td>Drinks</td>\n    </tr>\n    <tr>\n      <th>4</th>\n      <td>Moccona Latte Sachets</td>\n      <td>Drinks</td>\n    </tr>\n    <tr>\n      <th>...</th>\n      <td>...</td>\n      <td>...</td>\n    </tr>\n    <tr>\n      <th>390806</th>\n      <td>Yates Nature's Way Fungus Spray</td>\n      <td>Kitchen, Dining &amp; Household</td>\n    </tr>\n    <tr>\n      <th>390807</th>\n      <td>Yates Nature's Way Pyrethum Natural Insect Spray</td>\n      <td>Kitchen, Dining &amp; Household</td>\n    </tr>\n    <tr>\n      <th>390808</th>\n      <td>Selleys All Plastics Glue</td>\n      <td>Kitchen, Dining &amp; Household</td>\n    </tr>\n    <tr>\n      <th>390809</th>\n      <td>Holdfast H/F SCREW DRIVER PHILLIPS 100MM</td>\n      <td>Kitchen, Dining &amp; Household</td>\n    </tr>\n    <tr>\n      <th>390810</th>\n      <td>Holdfast Flat Head Screw Driver</td>\n      <td>Kitchen, Dining &amp; Household</td>\n    </tr>\n  </tbody>\n</table>\n<p>390811 rows × 2 columns</p>\n</div>"
     },
     "metadata": {}
    }
   ],
   "source": [
    "# 生成最终数据\n",
    "col_list = ['name', 'cat']\n",
    "data = pd.read_csv('../data_cleaning/unique_product_match.csv', encoding='utf_8_sig', usecols=col_list)\n",
    "data.columns = ['name', 'cat']\n",
    "display(data)"
   ]
  },
  {
   "cell_type": "code",
   "execution_count": 23,
   "metadata": {},
   "outputs": [
    {
     "output_type": "display_data",
     "data": {
      "text/plain": "                                                    name  \\\n0                      Moccona Strong Cappuccino Sachets   \n1                 Nescafe Dolce Gusto Americano Capsules   \n2                        Starbucks Caffe Varona Capsules   \n3            Robert Harris Italian Roast Coffee Capsules   \n4                                  Moccona Latte Sachets   \n...                                                  ...   \n390532  Whangarei District Council Official Rubbish Bags   \n390802    The Gardener THE GARDENER RAIN METER 160 ML EA   \n390806                   Yates Nature's Way Fungus Spray   \n390809          Holdfast H/F SCREW DRIVER PHILLIPS 100MM   \n390810                   Holdfast Flat Head Screw Driver   \n\n                                cat  \n0                            Drinks  \n1                            Drinks  \n2                            Drinks  \n3                            Drinks  \n4                            Drinks  \n...                             ...  \n390532  Kitchen, Dining & Household  \n390802  Kitchen, Dining & Household  \n390806  Kitchen, Dining & Household  \n390809  Kitchen, Dining & Household  \n390810  Kitchen, Dining & Household  \n\n[35789 rows x 2 columns]",
      "text/html": "<div>\n<style scoped>\n    .dataframe tbody tr th:only-of-type {\n        vertical-align: middle;\n    }\n\n    .dataframe tbody tr th {\n        vertical-align: top;\n    }\n\n    .dataframe thead th {\n        text-align: right;\n    }\n</style>\n<table border=\"1\" class=\"dataframe\">\n  <thead>\n    <tr style=\"text-align: right;\">\n      <th></th>\n      <th>name</th>\n      <th>cat</th>\n    </tr>\n  </thead>\n  <tbody>\n    <tr>\n      <th>0</th>\n      <td>Moccona Strong Cappuccino Sachets</td>\n      <td>Drinks</td>\n    </tr>\n    <tr>\n      <th>1</th>\n      <td>Nescafe Dolce Gusto Americano Capsules</td>\n      <td>Drinks</td>\n    </tr>\n    <tr>\n      <th>2</th>\n      <td>Starbucks Caffe Varona Capsules</td>\n      <td>Drinks</td>\n    </tr>\n    <tr>\n      <th>3</th>\n      <td>Robert Harris Italian Roast Coffee Capsules</td>\n      <td>Drinks</td>\n    </tr>\n    <tr>\n      <th>4</th>\n      <td>Moccona Latte Sachets</td>\n      <td>Drinks</td>\n    </tr>\n    <tr>\n      <th>...</th>\n      <td>...</td>\n      <td>...</td>\n    </tr>\n    <tr>\n      <th>390532</th>\n      <td>Whangarei District Council Official Rubbish Bags</td>\n      <td>Kitchen, Dining &amp; Household</td>\n    </tr>\n    <tr>\n      <th>390802</th>\n      <td>The Gardener THE GARDENER RAIN METER 160 ML EA</td>\n      <td>Kitchen, Dining &amp; Household</td>\n    </tr>\n    <tr>\n      <th>390806</th>\n      <td>Yates Nature's Way Fungus Spray</td>\n      <td>Kitchen, Dining &amp; Household</td>\n    </tr>\n    <tr>\n      <th>390809</th>\n      <td>Holdfast H/F SCREW DRIVER PHILLIPS 100MM</td>\n      <td>Kitchen, Dining &amp; Household</td>\n    </tr>\n    <tr>\n      <th>390810</th>\n      <td>Holdfast Flat Head Screw Driver</td>\n      <td>Kitchen, Dining &amp; Household</td>\n    </tr>\n  </tbody>\n</table>\n<p>35789 rows × 2 columns</p>\n</div>"
     },
     "metadata": {}
    }
   ],
   "source": [
    "data = data.drop_duplicates()\n",
    "display(data)"
   ]
  },
  {
   "cell_type": "code",
   "execution_count": 24,
   "metadata": {},
   "outputs": [],
   "source": [
    "data.to_csv (r'product_classification.csv', index = False, header=True)"
   ]
  },
  {
   "cell_type": "markdown",
   "metadata": {},
   "source": [
    "## 将数据csv写成eda输入格式"
   ]
  },
  {
   "cell_type": "code",
   "execution_count": 25,
   "metadata": {},
   "outputs": [
    {
     "output_type": "display_data",
     "data": {
      "text/plain": "                                                   name  \\\n0                     Moccona Strong Cappuccino Sachets   \n1                Nescafe Dolce Gusto Americano Capsules   \n2                       Starbucks Caffe Varona Capsules   \n3           Robert Harris Italian Roast Coffee Capsules   \n4                                 Moccona Latte Sachets   \n...                                                 ...   \n35784  Whangarei District Council Official Rubbish Bags   \n35785    The Gardener THE GARDENER RAIN METER 160 ML EA   \n35786                   Yates Nature's Way Fungus Spray   \n35787          Holdfast H/F SCREW DRIVER PHILLIPS 100MM   \n35788                   Holdfast Flat Head Screw Driver   \n\n                               cat  \n0                           Drinks  \n1                           Drinks  \n2                           Drinks  \n3                           Drinks  \n4                           Drinks  \n...                            ...  \n35784  Kitchen, Dining & Household  \n35785  Kitchen, Dining & Household  \n35786  Kitchen, Dining & Household  \n35787  Kitchen, Dining & Household  \n35788  Kitchen, Dining & Household  \n\n[35789 rows x 2 columns]",
      "text/html": "<div>\n<style scoped>\n    .dataframe tbody tr th:only-of-type {\n        vertical-align: middle;\n    }\n\n    .dataframe tbody tr th {\n        vertical-align: top;\n    }\n\n    .dataframe thead th {\n        text-align: right;\n    }\n</style>\n<table border=\"1\" class=\"dataframe\">\n  <thead>\n    <tr style=\"text-align: right;\">\n      <th></th>\n      <th>name</th>\n      <th>cat</th>\n    </tr>\n  </thead>\n  <tbody>\n    <tr>\n      <th>0</th>\n      <td>Moccona Strong Cappuccino Sachets</td>\n      <td>Drinks</td>\n    </tr>\n    <tr>\n      <th>1</th>\n      <td>Nescafe Dolce Gusto Americano Capsules</td>\n      <td>Drinks</td>\n    </tr>\n    <tr>\n      <th>2</th>\n      <td>Starbucks Caffe Varona Capsules</td>\n      <td>Drinks</td>\n    </tr>\n    <tr>\n      <th>3</th>\n      <td>Robert Harris Italian Roast Coffee Capsules</td>\n      <td>Drinks</td>\n    </tr>\n    <tr>\n      <th>4</th>\n      <td>Moccona Latte Sachets</td>\n      <td>Drinks</td>\n    </tr>\n    <tr>\n      <th>...</th>\n      <td>...</td>\n      <td>...</td>\n    </tr>\n    <tr>\n      <th>35784</th>\n      <td>Whangarei District Council Official Rubbish Bags</td>\n      <td>Kitchen, Dining &amp; Household</td>\n    </tr>\n    <tr>\n      <th>35785</th>\n      <td>The Gardener THE GARDENER RAIN METER 160 ML EA</td>\n      <td>Kitchen, Dining &amp; Household</td>\n    </tr>\n    <tr>\n      <th>35786</th>\n      <td>Yates Nature's Way Fungus Spray</td>\n      <td>Kitchen, Dining &amp; Household</td>\n    </tr>\n    <tr>\n      <th>35787</th>\n      <td>Holdfast H/F SCREW DRIVER PHILLIPS 100MM</td>\n      <td>Kitchen, Dining &amp; Household</td>\n    </tr>\n    <tr>\n      <th>35788</th>\n      <td>Holdfast Flat Head Screw Driver</td>\n      <td>Kitchen, Dining &amp; Household</td>\n    </tr>\n  </tbody>\n</table>\n<p>35789 rows × 2 columns</p>\n</div>"
     },
     "metadata": {}
    }
   ],
   "source": [
    "csv_file = 'product_classification.csv'\n",
    "txt_file = 'product_classification.txt'\n",
    "col_list = ['name', 'cat']\n",
    "data = pd.read_csv(csv_file, usecols=col_list)\n",
    "display(data)"
   ]
  },
  {
   "cell_type": "code",
   "execution_count": 26,
   "metadata": {},
   "outputs": [],
   "source": [
    "text_list = []\n",
    "for index, row in data.iterrows():\n",
    "    text_line = row[\"cat\"]+'\\t'+row[\"name\"]\n",
    "    text_list.append(text_line)"
   ]
  },
  {
   "cell_type": "code",
   "execution_count": 58,
   "metadata": {},
   "outputs": [],
   "source": [
    "with open(txt_file, \"w\") as my_output_file:\n",
    "    [my_output_file.write(row + \"\\n\") for row in text_list]\n",
    "    my_output_file.close()"
   ]
  },
  {
   "cell_type": "markdown",
   "metadata": {},
   "source": [
    "## 将EDA输出转化为csv格式"
   ]
  },
  {
   "cell_type": "code",
   "execution_count": 49,
   "metadata": {},
   "outputs": [
    {
     "output_type": "execute_result",
     "data": {
      "text/plain": "                                cat                                      name\n0                            Drinks         moccona strong cappuccino sachets\n1                            Drinks         moccona sachets cappuccino strong\n2                            Drinks           moccona warm cappuccino sachets\n3                            Drinks         moccona strong cappuccino sachets\n4                            Drinks  moccona strong cappuccino coffee sachets\n...                             ...                                       ...\n501041  Kitchen, Dining & Household     holdfast nooky flat head screw driver\n501042  Kitchen, Dining & Household  holdfast flat head screw number one wood\n501043  Kitchen, Dining & Household           driver flat head screw holdfast\n501044  Kitchen, Dining & Household   holdfast flat head piece of tail driver\n501045  Kitchen, Dining & Household           holdfast flat head screw driver\n\n[501046 rows x 2 columns]",
      "text/html": "<div>\n<style scoped>\n    .dataframe tbody tr th:only-of-type {\n        vertical-align: middle;\n    }\n\n    .dataframe tbody tr th {\n        vertical-align: top;\n    }\n\n    .dataframe thead th {\n        text-align: right;\n    }\n</style>\n<table border=\"1\" class=\"dataframe\">\n  <thead>\n    <tr style=\"text-align: right;\">\n      <th></th>\n      <th>cat</th>\n      <th>name</th>\n    </tr>\n  </thead>\n  <tbody>\n    <tr>\n      <th>0</th>\n      <td>Drinks</td>\n      <td>moccona strong cappuccino sachets</td>\n    </tr>\n    <tr>\n      <th>1</th>\n      <td>Drinks</td>\n      <td>moccona sachets cappuccino strong</td>\n    </tr>\n    <tr>\n      <th>2</th>\n      <td>Drinks</td>\n      <td>moccona warm cappuccino sachets</td>\n    </tr>\n    <tr>\n      <th>3</th>\n      <td>Drinks</td>\n      <td>moccona strong cappuccino sachets</td>\n    </tr>\n    <tr>\n      <th>4</th>\n      <td>Drinks</td>\n      <td>moccona strong cappuccino coffee sachets</td>\n    </tr>\n    <tr>\n      <th>...</th>\n      <td>...</td>\n      <td>...</td>\n    </tr>\n    <tr>\n      <th>501041</th>\n      <td>Kitchen, Dining &amp; Household</td>\n      <td>holdfast nooky flat head screw driver</td>\n    </tr>\n    <tr>\n      <th>501042</th>\n      <td>Kitchen, Dining &amp; Household</td>\n      <td>holdfast flat head screw number one wood</td>\n    </tr>\n    <tr>\n      <th>501043</th>\n      <td>Kitchen, Dining &amp; Household</td>\n      <td>driver flat head screw holdfast</td>\n    </tr>\n    <tr>\n      <th>501044</th>\n      <td>Kitchen, Dining &amp; Household</td>\n      <td>holdfast flat head piece of tail driver</td>\n    </tr>\n    <tr>\n      <th>501045</th>\n      <td>Kitchen, Dining &amp; Household</td>\n      <td>holdfast flat head screw driver</td>\n    </tr>\n  </tbody>\n</table>\n<p>501046 rows × 2 columns</p>\n</div>"
     },
     "metadata": {},
     "execution_count": 49
    }
   ],
   "source": [
    "df =  pd.read_csv(\"eda_data_augmented.txt\",sep='\\t', header=None)\n",
    "df.columns = ['cat','name']\n",
    "df"
   ]
  },
  {
   "cell_type": "code",
   "execution_count": 50,
   "metadata": {},
   "outputs": [
    {
     "output_type": "execute_result",
     "data": {
      "text/plain": "                                            name                          cat\n0              moccona strong cappuccino sachets                       Drinks\n1              moccona sachets cappuccino strong                       Drinks\n2                moccona warm cappuccino sachets                       Drinks\n4       moccona strong cappuccino coffee sachets                       Drinks\n5       potent moccona strong cappuccino sachets                       Drinks\n...                                          ...                          ...\n501039     nooky holdfast flat head screw driver  Kitchen, Dining & Household\n501041     holdfast nooky flat head screw driver  Kitchen, Dining & Household\n501042  holdfast flat head screw number one wood  Kitchen, Dining & Household\n501043           driver flat head screw holdfast  Kitchen, Dining & Household\n501044   holdfast flat head piece of tail driver  Kitchen, Dining & Household\n\n[368223 rows x 2 columns]",
      "text/html": "<div>\n<style scoped>\n    .dataframe tbody tr th:only-of-type {\n        vertical-align: middle;\n    }\n\n    .dataframe tbody tr th {\n        vertical-align: top;\n    }\n\n    .dataframe thead th {\n        text-align: right;\n    }\n</style>\n<table border=\"1\" class=\"dataframe\">\n  <thead>\n    <tr style=\"text-align: right;\">\n      <th></th>\n      <th>name</th>\n      <th>cat</th>\n    </tr>\n  </thead>\n  <tbody>\n    <tr>\n      <th>0</th>\n      <td>moccona strong cappuccino sachets</td>\n      <td>Drinks</td>\n    </tr>\n    <tr>\n      <th>1</th>\n      <td>moccona sachets cappuccino strong</td>\n      <td>Drinks</td>\n    </tr>\n    <tr>\n      <th>2</th>\n      <td>moccona warm cappuccino sachets</td>\n      <td>Drinks</td>\n    </tr>\n    <tr>\n      <th>4</th>\n      <td>moccona strong cappuccino coffee sachets</td>\n      <td>Drinks</td>\n    </tr>\n    <tr>\n      <th>5</th>\n      <td>potent moccona strong cappuccino sachets</td>\n      <td>Drinks</td>\n    </tr>\n    <tr>\n      <th>...</th>\n      <td>...</td>\n      <td>...</td>\n    </tr>\n    <tr>\n      <th>501039</th>\n      <td>nooky holdfast flat head screw driver</td>\n      <td>Kitchen, Dining &amp; Household</td>\n    </tr>\n    <tr>\n      <th>501041</th>\n      <td>holdfast nooky flat head screw driver</td>\n      <td>Kitchen, Dining &amp; Household</td>\n    </tr>\n    <tr>\n      <th>501042</th>\n      <td>holdfast flat head screw number one wood</td>\n      <td>Kitchen, Dining &amp; Household</td>\n    </tr>\n    <tr>\n      <th>501043</th>\n      <td>driver flat head screw holdfast</td>\n      <td>Kitchen, Dining &amp; Household</td>\n    </tr>\n    <tr>\n      <th>501044</th>\n      <td>holdfast flat head piece of tail driver</td>\n      <td>Kitchen, Dining &amp; Household</td>\n    </tr>\n  </tbody>\n</table>\n<p>368223 rows × 2 columns</p>\n</div>"
     },
     "metadata": {},
     "execution_count": 50
    }
   ],
   "source": [
    "col_order = ['name','cat']\n",
    "df = df[col_order]\n",
    "df = df.drop_duplicates()\n",
    "df"
   ]
  },
  {
   "cell_type": "code",
   "execution_count": 51,
   "metadata": {},
   "outputs": [],
   "source": [
    "df.to_csv('eda_data_augmented.csv') "
   ]
  },
  {
   "cell_type": "code",
   "execution_count": null,
   "metadata": {},
   "outputs": [],
   "source": []
  }
 ],
 "metadata": {
  "kernelspec": {
   "display_name": "Python 3",
   "language": "python",
   "name": "python3"
  },
  "language_info": {
   "codemirror_mode": {
    "name": "ipython",
    "version": 2
   },
   "file_extension": ".py",
   "mimetype": "text/x-python",
   "name": "python",
   "nbconvert_exporter": "python",
   "pygments_lexer": "ipython2",
   "version": "3.7.7-final"
  }
 },
 "nbformat": 4,
 "nbformat_minor": 0
}