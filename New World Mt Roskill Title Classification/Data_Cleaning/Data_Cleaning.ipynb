{
 "cells": [
  {
   "cell_type": "code",
   "execution_count": 1,
   "metadata": {
    "pycharm": {
     "name": "#%%\n"
    }
   },
   "outputs": [],
   "source": [
    "import pandas as pd\n",
    "import numpy as np"
   ]
  },
  {
   "cell_type": "code",
   "execution_count": 2,
   "metadata": {},
   "outputs": [],
   "source": [
    "from IPython.core.display import display\n",
    "\n",
    "'''读取原始数据文件'''\n",
    "RawData = pd.read_csv('../Data/RawData.csv')\n",
    "\n"
   ]
  },
  {
   "cell_type": "code",
   "execution_count": 3,
   "metadata": {},
   "outputs": [
    {
     "data": {
      "text/plain": "(14612, 10)"
     },
     "execution_count": 3,
     "metadata": {},
     "output_type": "execute_result"
    }
   ],
   "source": [
    "'''去掉相同&无用项'''\n",
    "DropList = ['Branch', 'PriceMode', 'ProductId','PromoBadgeImageLabel','Index']\n",
    "Data_Usefull = RawData.drop(DropList, axis=1)  # 去掉相同&无用项\n",
    "Data_Usefull.shape"
   ]
  },
  {
   "cell_type": "code",
   "execution_count": 4,
   "metadata": {
    "pycharm": {
     "name": "#%%\n"
    }
   },
   "outputs": [
    {
     "name": "stdout",
     "output_type": "stream",
     "text": [
      "<class 'pandas.core.frame.DataFrame'>\n",
      "Int64Index: 13250 entries, 12447 to 2788\n",
      "Data columns (total 10 columns):\n",
      " #   Column             Non-Null Count  Dtype  \n",
      "---  ------             --------------  -----  \n",
      " 0   ProductName        13250 non-null  object \n",
      " 1   level_1            13250 non-null  object \n",
      " 2   level_2            13250 non-null  object \n",
      " 3   level_3            13250 non-null  object \n",
      " 4   PricePerItem       13250 non-null  float64\n",
      " 5   HasMultiBuyDeal    13250 non-null  bool   \n",
      " 6   MultiBuyDeal       834 non-null    object \n",
      " 7   MultiBuyBasePrice  13250 non-null  float64\n",
      " 8   MultiBuyPrice      5346 non-null   float64\n",
      " 9   MultiBuyQuantity   5346 non-null   float64\n",
      "dtypes: bool(1), float64(4), object(5)\n",
      "memory usage: 1.0+ MB\n"
     ]
    }
   ],
   "source": [
    "''' 去除相同level_3类型的重复产品数据（同名、同价格、同level_3类型）从14612条数据精简为13250条数据'''\n",
    "level_3_Sets = list(set(Data_Usefull['level_3']))\n",
    "level_3_Sets.sort()\n",
    "# print(level_3_Sets)\n",
    "data_1 = pd.DataFrame()\n",
    "for levelName in level_3_Sets:\n",
    "    sub = Data_Usefull.loc[Data_Usefull['level_3'] == levelName]\n",
    "    sub = sub.drop_duplicates(subset=['ProductName', 'PricePerItem'], keep='first')\n",
    "    data_1 = data_1.append(sub)\n",
    "data_1.shape\n",
    "data_1.info()"
   ]
  },
  {
   "cell_type": "code",
   "execution_count": 5,
   "metadata": {
    "pycharm": {
     "name": "#%%\n"
    }
   },
   "outputs": [
    {
     "data": {
      "text/plain": "                                           ProductName        level_1  \\\n13025          Depend Real Fit For Men Large Underwear  Personal Care   \n13212         Depend Real Fit For Men Medium Underwear  Personal Care   \n13476  Depend Real Fit For Woman Extra Large Underwear  Personal Care   \n13310        Depend Real Fit For Woman Large Underwear  Personal Care   \n13309       Depend Real Fit For Women Medium Underwear  Personal Care   \n\n                 level_2     level_3  PricePerItem  HasMultiBuyDeal  \\\n13025  Health & Wellness  Adult Care         13.99            False   \n13212  Health & Wellness  Adult Care         13.99            False   \n13476  Health & Wellness  Adult Care         13.99            False   \n13310  Health & Wellness  Adult Care         13.99            False   \n13309  Health & Wellness  Adult Care         13.99            False   \n\n      MultiBuyDeal  MultiBuyBasePrice  MultiBuyPrice  MultiBuyQuantity  \n13025          NaN              13.99          13.99               1.0  \n13212          NaN              13.99          13.99               1.0  \n13476          NaN              13.99          13.99               1.0  \n13310          NaN              13.99          13.99               1.0  \n13309          NaN              13.99          13.99               1.0  ",
      "text/html": "<div>\n<style scoped>\n    .dataframe tbody tr th:only-of-type {\n        vertical-align: middle;\n    }\n\n    .dataframe tbody tr th {\n        vertical-align: top;\n    }\n\n    .dataframe thead th {\n        text-align: right;\n    }\n</style>\n<table border=\"1\" class=\"dataframe\">\n  <thead>\n    <tr style=\"text-align: right;\">\n      <th></th>\n      <th>ProductName</th>\n      <th>level_1</th>\n      <th>level_2</th>\n      <th>level_3</th>\n      <th>PricePerItem</th>\n      <th>HasMultiBuyDeal</th>\n      <th>MultiBuyDeal</th>\n      <th>MultiBuyBasePrice</th>\n      <th>MultiBuyPrice</th>\n      <th>MultiBuyQuantity</th>\n    </tr>\n  </thead>\n  <tbody>\n    <tr>\n      <th>13025</th>\n      <td>Depend Real Fit For Men Large Underwear</td>\n      <td>Personal Care</td>\n      <td>Health &amp; Wellness</td>\n      <td>Adult Care</td>\n      <td>13.99</td>\n      <td>False</td>\n      <td>NaN</td>\n      <td>13.99</td>\n      <td>13.99</td>\n      <td>1.0</td>\n    </tr>\n    <tr>\n      <th>13212</th>\n      <td>Depend Real Fit For Men Medium Underwear</td>\n      <td>Personal Care</td>\n      <td>Health &amp; Wellness</td>\n      <td>Adult Care</td>\n      <td>13.99</td>\n      <td>False</td>\n      <td>NaN</td>\n      <td>13.99</td>\n      <td>13.99</td>\n      <td>1.0</td>\n    </tr>\n    <tr>\n      <th>13476</th>\n      <td>Depend Real Fit For Woman Extra Large Underwear</td>\n      <td>Personal Care</td>\n      <td>Health &amp; Wellness</td>\n      <td>Adult Care</td>\n      <td>13.99</td>\n      <td>False</td>\n      <td>NaN</td>\n      <td>13.99</td>\n      <td>13.99</td>\n      <td>1.0</td>\n    </tr>\n    <tr>\n      <th>13310</th>\n      <td>Depend Real Fit For Woman Large Underwear</td>\n      <td>Personal Care</td>\n      <td>Health &amp; Wellness</td>\n      <td>Adult Care</td>\n      <td>13.99</td>\n      <td>False</td>\n      <td>NaN</td>\n      <td>13.99</td>\n      <td>13.99</td>\n      <td>1.0</td>\n    </tr>\n    <tr>\n      <th>13309</th>\n      <td>Depend Real Fit For Women Medium Underwear</td>\n      <td>Personal Care</td>\n      <td>Health &amp; Wellness</td>\n      <td>Adult Care</td>\n      <td>13.99</td>\n      <td>False</td>\n      <td>NaN</td>\n      <td>13.99</td>\n      <td>13.99</td>\n      <td>1.0</td>\n    </tr>\n  </tbody>\n</table>\n</div>"
     },
     "metadata": {},
     "output_type": "display_data"
    }
   ],
   "source": [
    "'''在已经去除重复商品的数据集（data_1）上继续去除单件促销商品（商品名、类目相同，单价不同）将其置于data_2中  经过此过程，数据量从 13250 条降至 12386 条'''\n",
    "data_2 = pd.DataFrame()\n",
    "for levelName in level_3_Sets:\n",
    "    sub = data_1.loc[data_1['level_3'] == levelName]\n",
    "    #按商品名为排序主要关键字，升序，价格为次要关键字，降序\n",
    "    sub = sub.sort_values(by=['ProductName', 'PricePerItem'],ascending=[True,False])\n",
    "    sub = sub.drop_duplicates(subset=['ProductName'], keep='first')\n",
    "    data_2 = data_2.append(sub)\n",
    "data_2.shape\n",
    "display(data_2.head())"
   ]
  },
  {
   "cell_type": "code",
   "execution_count": 6,
   "metadata": {
    "pycharm": {
     "name": "#%%\n"
    }
   },
   "outputs": [
    {
     "data": {
      "text/plain": "'数据分析'"
     },
     "execution_count": 6,
     "metadata": {},
     "output_type": "execute_result"
    }
   ],
   "source": [
    "'''数据分析'''"
   ]
  },
  {
   "cell_type": "code",
   "execution_count": 7,
   "metadata": {
    "pycharm": {
     "name": "#%%\n"
    }
   },
   "outputs": [
    {
     "name": "stdout",
     "output_type": "stream",
     "text": [
      "Pantry                         3808\n",
      "Personal Care                  1678\n",
      "Chilled, Frozen & Desserts     1324\n",
      "Fresh Foods & Bakery           1237\n",
      "Beer, Cider & Wine             1195\n",
      "Kitchen, Dining & Household    1103\n",
      "Drinks                          890\n",
      "Pets                            458\n",
      "Baby, Toddler & Kids            317\n",
      "Meal Spot                       255\n",
      "Featured                        121\n",
      "Name: level_1, dtype: int64\n"
     ]
    }
   ],
   "source": [
    "#第一类别商品数量\n",
    "print(data_2['level_1'].value_counts())"
   ]
  },
  {
   "cell_type": "code",
   "execution_count": 8,
   "metadata": {
    "pycharm": {
     "name": "#%%\n"
    }
   },
   "outputs": [
    {
     "name": "stdout",
     "output_type": "stream",
     "text": [
      "Beauty & Grooming              1179\n",
      "Wine                            752\n",
      "Household                       532\n",
      "Snack Foods                     507\n",
      "Health & Wellness               499\n",
      "Cold Drinks                     494\n",
      "Pet Supplies                    458\n",
      "Beer & Cider                    443\n",
      "Frozen Foods                    440\n",
      "Canned & Prepared Foods         398\n",
      "Hot Drinks                      396\n",
      "Dairy & Eggs                    392\n",
      "Biscuits & Crackers             366\n",
      "Confectionery                   365\n",
      "Sauces, Stock & Marinades       362\n",
      "Baking Supplies & Sugar         354\n",
      "Deli, Salads & Cooked Meats     339\n",
      "Bakery                          328\n",
      "Baby Care                       317\n",
      "Condiments & Dressings          311\n",
      "Cleaning Products               301\n",
      "Spices & Seasonings             288\n",
      "Cheese                          276\n",
      "Pasta, Rice & Noodles           225\n",
      "Desserts                        216\n",
      "Butchery                        198\n",
      "Breakfast Cereals               197\n",
      "World Foods                     196\n",
      "Ready to Heat                   170\n",
      "Jams, Honey & Spreads           166\n",
      "Fruit & Vegetables              165\n",
      "Laundry                         139\n",
      "Bulk & Loose Foods              134\n",
      "$5 Fortnight                    121\n",
      "Stationery & Entertainment       87\n",
      "Ready to Cook                    85\n",
      "Salad & Cooking Oils             73\n",
      "Seafood                          60\n",
      "Garage & Outdoor                 44\n",
      "Meal Kits                        13\n",
      "Name: level_2, dtype: int64\n"
     ]
    }
   ],
   "source": [
    "#第二类别商品数量\n",
    "print(data_2['level_2'].value_counts())"
   ]
  },
  {
   "cell_type": "code",
   "execution_count": 9,
   "metadata": {
    "pycharm": {
     "name": "#%%\n"
    }
   },
   "outputs": [
    {
     "name": "stdout",
     "output_type": "stream",
     "text": [
      "Face & Lip Skin Care           217\n",
      "Cat Food                       217\n",
      "Hair Care & Treatments         192\n",
      "Hand & Body Care               185\n",
      "Dried Herbs                    176\n",
      "                              ... \n",
      "Vege Bags                        1\n",
      "Deli Cabinet Cheeses             1\n",
      "Deli, Salads & Cooked Meats      1\n",
      "Desserts                         1\n",
      "Laundry Supplies                 1\n",
      "Name: level_3, Length: 408, dtype: int64\n",
      "(408,)\n"
     ]
    }
   ],
   "source": [
    "#第三类别商品数量\n",
    "print(data_2['level_3'].value_counts())\n",
    "print(data_2['level_3'].value_counts().shape)"
   ]
  },
  {
   "cell_type": "code",
   "execution_count": 10,
   "metadata": {
    "pycharm": {
     "name": "#%%\n"
    }
   },
   "outputs": [
    {
     "data": {
      "text/plain": "level_1\nBaby, Toddler & Kids            9.615868\nBeer, Cider & Wine             16.122979\nChilled, Frozen & Desserts      6.403187\nDrinks                          5.769843\nFeatured                        5.972479\nFresh Foods & Bakery           11.006289\nKitchen, Dining & Household     7.852330\nMeal Spot                       3.640902\nPantry                          4.450570\nPersonal Care                  10.108224\nPets                            8.160284\nName: PricePerItem, dtype: float64"
     },
     "metadata": {},
     "output_type": "display_data"
    }
   ],
   "source": [
    "#第一类别商品价格均值\n",
    "display(data_2.groupby('level_1')['PricePerItem'].agg(np.mean))"
   ]
  },
  {
   "cell_type": "code",
   "execution_count": 11,
   "metadata": {
    "pycharm": {
     "name": "#%%\n"
    }
   },
   "outputs": [
    {
     "data": {
      "text/plain": "level_2\n$5 Fortnight                    5.972479\nBaby Care                       9.615868\nBakery                          5.306585\nBaking Supplies & Sugar         5.177486\nBeauty & Grooming               9.326684\nBeer & Cider                   14.036975\nBiscuits & Crackers             3.637022\nBreakfast Cereals               7.160660\nBulk & Loose Foods             28.167388\nButchery                       14.666414\nCanned & Prepared Foods         3.366156\nCheese                          7.118768\nCleaning Products               5.642824\nCold Drinks                     5.207895\nCondiments & Dressings          4.729003\nConfectionery                   3.668904\nDairy & Eggs                    5.237474\nDeli, Salads & Cooked Meats     9.257522\nDesserts                        6.622037\nFrozen Foods                    6.885432\nFruit & Vegetables              5.513818\nGarage & Outdoor                9.441818\nHealth & Wellness              11.954790\nHot Drinks                      6.470859\nHousehold                       8.831053\nJams, Honey & Spreads           6.790361\nLaundry                         9.118777\nMeal Kits                      20.000000\nPasta, Rice & Noodles           4.434711\nPet Supplies                    8.160284\nReady to Cook                   2.693529\nReady to Heat                   4.114588\nSalad & Cooking Oils           10.242192\nSauces, Stock & Marinades       3.475166\nSeafood                        14.796000\nSnack Foods                     4.358185\nSpices & Seasonings             3.675972\nStationery & Entertainment      6.684598\nWine                           17.351835\nWorld Foods                     4.206939\nName: PricePerItem, dtype: float64"
     },
     "metadata": {},
     "output_type": "display_data"
    }
   ],
   "source": [
    "#第二类别商品价格均值\n",
    "display(data_2.groupby('level_2')['PricePerItem'].agg(np.mean))"
   ]
  },
  {
   "cell_type": "code",
   "execution_count": 12,
   "metadata": {
    "pycharm": {
     "name": "#%%\n"
    }
   },
   "outputs": [
    {
     "data": {
      "text/plain": "level_3\nAdult Care                       9.231364\nAioli                            4.740000\nAir Fresheners & Deodorisers     6.966094\nAll Purpose Cleaners             5.102903\nAllergy & Sinus                  5.990000\n                                  ...    \nWine                            16.767778\nWorcestershire Sauces            3.290000\nWraps & Pita Breads              4.468571\nYoghurt & Dairy Food             5.433396\nYoghurt Bases                    4.733478\nName: PricePerItem, Length: 408, dtype: float64"
     },
     "metadata": {},
     "output_type": "display_data"
    }
   ],
   "source": [
    "#第三类别商品价格均值\n",
    "display(data_2.groupby('level_3')['PricePerItem'].agg(np.mean))"
   ]
  },
  {
   "cell_type": "code",
   "execution_count": 13,
   "metadata": {
    "pycharm": {
     "name": "#%%\n"
    }
   },
   "outputs": [
    {
     "data": {
      "text/plain": "level_1\nBaby, Toddler & Kids            93.671705\nBeer, Cider & Wine              98.869421\nChilled, Frozen & Desserts      13.779577\nDrinks                          11.449492\nFeatured                        38.786289\nFresh Foods & Bakery           131.288583\nKitchen, Dining & Household     49.533969\nMeal Spot                        6.430863\nPantry                           9.582004\nPersonal Care                   56.281511\nPets                            50.607003\nName: PricePerItem, dtype: float64"
     },
     "execution_count": 13,
     "metadata": {},
     "output_type": "execute_result"
    }
   ],
   "source": [
    "#第一类别商品价格方差\n",
    "data_2.groupby(['level_1'])['PricePerItem'].agg(np.var)"
   ]
  },
  {
   "cell_type": "code",
   "execution_count": 14,
   "metadata": {
    "pycharm": {
     "name": "#%%\n"
    }
   },
   "outputs": [
    {
     "data": {
      "text/plain": "level_2\n$5 Fortnight                    38.786289\nBaby Care                       93.671705\nBakery                          17.844964\nBaking Supplies & Sugar          8.085079\nBeauty & Grooming               40.104563\nBeer & Cider                    68.717811\nBiscuits & Crackers              3.186432\nBreakfast Cereals               12.497360\nBulk & Loose Foods             275.991851\nButchery                        93.089884\nCanned & Prepared Foods          5.104256\nCheese                          14.248982\nCleaning Products               15.109567\nCold Drinks                     12.911197\nCondiments & Dressings           6.416847\nConfectionery                    4.809820\nDairy & Eggs                     4.820141\nDeli, Salads & Cooked Meats     78.406918\nDesserts                        28.038133\nFrozen Foods                    12.784406\nFruit & Vegetables              13.021748\nGarage & Outdoor                28.051950\nHealth & Wellness               89.797764\nHot Drinks                       8.766522\nHousehold                       77.756716\nJams, Honey & Spreads           29.004888\nLaundry                         31.599646\nMeal Kits                        0.000000\nPasta, Rice & Noodles           19.815081\nPet Supplies                    50.607003\nReady to Cook                    2.339868\nReady to Heat                    7.825189\nSalad & Cooking Oils            28.919267\nSauces, Stock & Marinades        2.623768\nSeafood                        204.330974\nSnack Foods                      7.245086\nSpices & Seasonings              3.308557\nStationery & Entertainment       8.906579\nWine                           112.667849\nWorld Foods                      4.586831\nName: PricePerItem, dtype: float64"
     },
     "execution_count": 14,
     "metadata": {},
     "output_type": "execute_result"
    }
   ],
   "source": [
    "#第二类别商品价格方差\n",
    "data_2.groupby(['level_2'])['PricePerItem'].agg(np.var)"
   ]
  },
  {
   "cell_type": "code",
   "execution_count": 15,
   "metadata": {
    "pycharm": {
     "name": "#%%\n"
    }
   },
   "outputs": [
    {
     "data": {
      "text/plain": "level_3\nAdult Care                      17.847165\nAioli                            2.957273\nAir Fresheners & Deodorisers    12.932735\nAll Purpose Cleaners            10.637161\nAllergy & Sinus                  0.000000\n                                  ...    \nWine                             3.444444\nWorcestershire Sauces            2.470000\nWraps & Pita Breads              1.406442\nYoghurt & Dairy Food             3.958168\nYoghurt Bases                    0.514387\nName: PricePerItem, Length: 408, dtype: float64"
     },
     "execution_count": 15,
     "metadata": {},
     "output_type": "execute_result"
    }
   ],
   "source": [
    "#第三类别商品价格方差\n",
    "data_2.groupby(['level_3'])['PricePerItem'].agg(np.var)"
   ]
  },
  {
   "cell_type": "code",
   "execution_count": 16,
   "metadata": {
    "pycharm": {
     "name": "#%%\n"
    }
   },
   "outputs": [
    {
     "data": {
      "text/plain": "                              count       mean        std   min    25%    50%  \\\nlevel_1                                                                         \nBaby, Toddler & Kids          317.0   9.615868   9.678414  0.99   1.99   5.79   \nBeer, Cider & Wine           1195.0  16.122979   9.943310  1.79  10.24  14.99   \nChilled, Frozen & Desserts   1324.0   6.403187   3.712085  0.89   3.99   5.89   \nDrinks                        890.0   5.769843   3.383710  0.99   3.59   4.99   \nFeatured                      121.0   5.972479   6.227864  1.29   2.79   3.49   \nFresh Foods & Bakery         1237.0  11.006289  11.458123  1.20   4.29   6.09   \nKitchen, Dining & Household  1103.0   7.852330   7.038037  0.15   3.99   5.99   \nMeal Spot                     255.0   3.640902   2.535915  0.99   1.99   2.79   \nPantry                       3808.0   4.450570   3.095481  0.50   2.69   3.69   \nPersonal Care                1678.0  10.108224   7.502100  0.90   4.99   7.99   \nPets                          458.0   8.160284   7.113860  1.00   2.49   6.99   \n\n                               75%     max  \nlevel_1                                     \nBaby, Toddler & Kids         14.89   45.99  \nBeer, Cider & Wine           19.99  120.99  \nChilled, Frozen & Desserts    7.99   42.99  \nDrinks                        6.99   25.99  \nFeatured                      5.00   22.99  \nFresh Foods & Bakery         13.99  129.90  \nKitchen, Dining & Household   9.99   99.99  \nMeal Spot                     4.64   18.99  \nPantry                        5.09   35.99  \nPersonal Care                12.99   54.99  \nPets                         10.99   37.49  ",
      "text/html": "<div>\n<style scoped>\n    .dataframe tbody tr th:only-of-type {\n        vertical-align: middle;\n    }\n\n    .dataframe tbody tr th {\n        vertical-align: top;\n    }\n\n    .dataframe thead th {\n        text-align: right;\n    }\n</style>\n<table border=\"1\" class=\"dataframe\">\n  <thead>\n    <tr style=\"text-align: right;\">\n      <th></th>\n      <th>count</th>\n      <th>mean</th>\n      <th>std</th>\n      <th>min</th>\n      <th>25%</th>\n      <th>50%</th>\n      <th>75%</th>\n      <th>max</th>\n    </tr>\n    <tr>\n      <th>level_1</th>\n      <th></th>\n      <th></th>\n      <th></th>\n      <th></th>\n      <th></th>\n      <th></th>\n      <th></th>\n      <th></th>\n    </tr>\n  </thead>\n  <tbody>\n    <tr>\n      <th>Baby, Toddler &amp; Kids</th>\n      <td>317.0</td>\n      <td>9.615868</td>\n      <td>9.678414</td>\n      <td>0.99</td>\n      <td>1.99</td>\n      <td>5.79</td>\n      <td>14.89</td>\n      <td>45.99</td>\n    </tr>\n    <tr>\n      <th>Beer, Cider &amp; Wine</th>\n      <td>1195.0</td>\n      <td>16.122979</td>\n      <td>9.943310</td>\n      <td>1.79</td>\n      <td>10.24</td>\n      <td>14.99</td>\n      <td>19.99</td>\n      <td>120.99</td>\n    </tr>\n    <tr>\n      <th>Chilled, Frozen &amp; Desserts</th>\n      <td>1324.0</td>\n      <td>6.403187</td>\n      <td>3.712085</td>\n      <td>0.89</td>\n      <td>3.99</td>\n      <td>5.89</td>\n      <td>7.99</td>\n      <td>42.99</td>\n    </tr>\n    <tr>\n      <th>Drinks</th>\n      <td>890.0</td>\n      <td>5.769843</td>\n      <td>3.383710</td>\n      <td>0.99</td>\n      <td>3.59</td>\n      <td>4.99</td>\n      <td>6.99</td>\n      <td>25.99</td>\n    </tr>\n    <tr>\n      <th>Featured</th>\n      <td>121.0</td>\n      <td>5.972479</td>\n      <td>6.227864</td>\n      <td>1.29</td>\n      <td>2.79</td>\n      <td>3.49</td>\n      <td>5.00</td>\n      <td>22.99</td>\n    </tr>\n    <tr>\n      <th>Fresh Foods &amp; Bakery</th>\n      <td>1237.0</td>\n      <td>11.006289</td>\n      <td>11.458123</td>\n      <td>1.20</td>\n      <td>4.29</td>\n      <td>6.09</td>\n      <td>13.99</td>\n      <td>129.90</td>\n    </tr>\n    <tr>\n      <th>Kitchen, Dining &amp; Household</th>\n      <td>1103.0</td>\n      <td>7.852330</td>\n      <td>7.038037</td>\n      <td>0.15</td>\n      <td>3.99</td>\n      <td>5.99</td>\n      <td>9.99</td>\n      <td>99.99</td>\n    </tr>\n    <tr>\n      <th>Meal Spot</th>\n      <td>255.0</td>\n      <td>3.640902</td>\n      <td>2.535915</td>\n      <td>0.99</td>\n      <td>1.99</td>\n      <td>2.79</td>\n      <td>4.64</td>\n      <td>18.99</td>\n    </tr>\n    <tr>\n      <th>Pantry</th>\n      <td>3808.0</td>\n      <td>4.450570</td>\n      <td>3.095481</td>\n      <td>0.50</td>\n      <td>2.69</td>\n      <td>3.69</td>\n      <td>5.09</td>\n      <td>35.99</td>\n    </tr>\n    <tr>\n      <th>Personal Care</th>\n      <td>1678.0</td>\n      <td>10.108224</td>\n      <td>7.502100</td>\n      <td>0.90</td>\n      <td>4.99</td>\n      <td>7.99</td>\n      <td>12.99</td>\n      <td>54.99</td>\n    </tr>\n    <tr>\n      <th>Pets</th>\n      <td>458.0</td>\n      <td>8.160284</td>\n      <td>7.113860</td>\n      <td>1.00</td>\n      <td>2.49</td>\n      <td>6.99</td>\n      <td>10.99</td>\n      <td>37.49</td>\n    </tr>\n  </tbody>\n</table>\n</div>"
     },
     "execution_count": 16,
     "metadata": {},
     "output_type": "execute_result"
    }
   ],
   "source": [
    "#第一类别商品各项数据统计\n",
    "data_2.groupby(['level_1'])['PricePerItem'].describe()"
   ]
  },
  {
   "cell_type": "code",
   "execution_count": 17,
   "metadata": {
    "pycharm": {
     "name": "#%%\n"
    }
   },
   "outputs": [
    {
     "data": {
      "text/plain": "                              count       mean        std    min     25%  \\\nlevel_2                                                                    \n$5 Fortnight                  121.0   5.972479   6.227864   1.29   2.790   \nBaby Care                     317.0   9.615868   9.678414   0.99   1.990   \nBakery                        328.0   5.306585   4.224330   1.20   3.490   \nBaking Supplies & Sugar       354.0   5.177486   2.843427   0.69   2.990   \nBeauty & Grooming            1179.0   9.326684   6.332816   0.90   4.990   \nBeer & Cider                  443.0  14.036975   8.289621   1.79   6.990   \nBiscuits & Crackers           366.0   3.637022   1.785058   0.99   2.690   \nBreakfast Cereals             197.0   7.160660   3.535161   2.49   5.190   \nBulk & Loose Foods            134.0  28.167388  16.613002   3.99  16.900   \nButchery                      198.0  14.666414   9.648310   3.99   7.990   \nCanned & Prepared Foods       398.0   3.366156   2.259260   0.79   1.990   \nCheese                        276.0   7.118768   3.774782   2.49   4.565   \nCleaning Products             301.0   5.642824   3.887103   0.99   3.490   \nCold Drinks                   494.0   5.207895   3.593215   0.99   2.990   \nCondiments & Dressings        311.0   4.729003   2.533150   1.89   2.990   \nConfectionery                 365.0   3.668904   2.193130   0.50   2.490   \nDairy & Eggs                  392.0   5.237474   2.195482   1.29   3.790   \nDeli, Salads & Cooked Meats   339.0   9.257522   8.854768   1.99   4.450   \nDesserts                      216.0   6.622037   5.295105   0.89   2.790   \nFrozen Foods                  440.0   6.885432   3.575529   1.59   4.290   \nFruit & Vegetables            165.0   5.513818   3.608566   1.69   3.990   \nGarage & Outdoor               44.0   9.441818   5.296409   2.79   4.990   \nHealth & Wellness             499.0  11.954790   9.476168   0.99   4.790   \nHot Drinks                    396.0   6.470859   2.960831   1.59   3.990   \nHousehold                     532.0   8.831053   8.817977   0.15   3.790   \nJams, Honey & Spreads         166.0   6.790361   5.385619   2.19   3.990   \nLaundry                       139.0   9.118777   5.621356   1.59   5.490   \nMeal Kits                      13.0  20.000000   0.000000  20.00  20.000   \nPasta, Rice & Noodles         225.0   4.434711   4.451413   0.89   2.690   \nPet Supplies                  458.0   8.160284   7.113860   1.00   2.490   \nReady to Cook                  85.0   2.693529   1.529663   0.99   1.690   \nReady to Heat                 170.0   4.114588   2.797354   0.99   2.190   \nSalad & Cooking Oils           73.0  10.242192   5.377664   3.29   5.990   \nSauces, Stock & Marinades     362.0   3.475166   1.619805   0.99   2.290   \nSeafood                        60.0  14.796000  14.294439   1.49   6.440   \nSnack Foods                   507.0   4.358185   2.691670   0.99   2.790   \nSpices & Seasonings           288.0   3.675972   1.818944   0.99   2.390   \nStationery & Entertainment     87.0   6.684598   2.984389   1.99   3.995   \nWine                          752.0  17.351835  10.614511   3.99  11.990   \nWorld Foods                   196.0   4.206939   2.141689   0.99   2.590   \n\n                               50%     75%     max  \nlevel_2                                             \n$5 Fortnight                  3.49   5.000   22.99  \nBaby Care                     5.79  14.890   45.99  \nBakery                        4.49   5.490   35.00  \nBaking Supplies & Sugar       4.44   6.890   19.49  \nBeauty & Grooming             7.49  11.990   49.99  \nBeer & Cider                 11.99  21.990   49.99  \nBiscuits & Crackers           3.14   4.265   11.89  \nBreakfast Cereals             6.19   8.290   29.99  \nBulk & Loose Foods           26.90  34.400  129.90  \nButchery                     10.99  19.615   61.79  \nCanned & Prepared Foods       2.67   4.190   15.89  \nCheese                        6.29   8.840   39.90  \nCleaning Products             4.89   5.990   27.99  \nCold Drinks                   4.49   6.490   25.99  \nCondiments & Dressings        4.29   5.290   24.89  \nConfectionery                 3.49   4.490   21.99  \nDairy & Eggs                  4.99   6.360   14.16  \nDeli, Salads & Cooked Meats   5.90   8.990   54.29  \nDesserts                      5.99   8.990   42.99  \nFrozen Foods                  6.49   8.990   24.99  \nFruit & Vegetables            4.89   5.990   29.99  \nGarage & Outdoor              7.49  13.465   23.00  \nHealth & Wellness             8.49  16.990   54.99  \nHot Drinks                    6.49   7.990   24.99  \nHousehold                     6.29  10.990   99.99  \nJams, Honey & Spreads         4.99   7.880   32.99  \nLaundry                       7.79   9.990   29.99  \nMeal Kits                    20.00  20.000   20.00  \nPasta, Rice & Noodles         2.99   4.990   35.99  \nPet Supplies                  6.99  10.990   37.49  \nReady to Cook                 2.29   2.990    7.49  \nReady to Heat                 3.79   4.990   18.99  \nSalad & Cooking Oils          9.99  12.990   33.99  \nSauces, Stock & Marinades     3.49   4.490   13.29  \nSeafood                      10.99  16.115   99.99  \nSnack Foods                   3.69   4.990   16.99  \nSpices & Seasonings           3.29   4.490   13.89  \nStationery & Entertainment    5.99   9.695   12.99  \nWine                         14.99  18.990  120.99  \nWorld Foods                   3.89   5.215   15.99  ",
      "text/html": "<div>\n<style scoped>\n    .dataframe tbody tr th:only-of-type {\n        vertical-align: middle;\n    }\n\n    .dataframe tbody tr th {\n        vertical-align: top;\n    }\n\n    .dataframe thead th {\n        text-align: right;\n    }\n</style>\n<table border=\"1\" class=\"dataframe\">\n  <thead>\n    <tr style=\"text-align: right;\">\n      <th></th>\n      <th>count</th>\n      <th>mean</th>\n      <th>std</th>\n      <th>min</th>\n      <th>25%</th>\n      <th>50%</th>\n      <th>75%</th>\n      <th>max</th>\n    </tr>\n    <tr>\n      <th>level_2</th>\n      <th></th>\n      <th></th>\n      <th></th>\n      <th></th>\n      <th></th>\n      <th></th>\n      <th></th>\n      <th></th>\n    </tr>\n  </thead>\n  <tbody>\n    <tr>\n      <th>$5 Fortnight</th>\n      <td>121.0</td>\n      <td>5.972479</td>\n      <td>6.227864</td>\n      <td>1.29</td>\n      <td>2.790</td>\n      <td>3.49</td>\n      <td>5.000</td>\n      <td>22.99</td>\n    </tr>\n    <tr>\n      <th>Baby Care</th>\n      <td>317.0</td>\n      <td>9.615868</td>\n      <td>9.678414</td>\n      <td>0.99</td>\n      <td>1.990</td>\n      <td>5.79</td>\n      <td>14.890</td>\n      <td>45.99</td>\n    </tr>\n    <tr>\n      <th>Bakery</th>\n      <td>328.0</td>\n      <td>5.306585</td>\n      <td>4.224330</td>\n      <td>1.20</td>\n      <td>3.490</td>\n      <td>4.49</td>\n      <td>5.490</td>\n      <td>35.00</td>\n    </tr>\n    <tr>\n      <th>Baking Supplies &amp; Sugar</th>\n      <td>354.0</td>\n      <td>5.177486</td>\n      <td>2.843427</td>\n      <td>0.69</td>\n      <td>2.990</td>\n      <td>4.44</td>\n      <td>6.890</td>\n      <td>19.49</td>\n    </tr>\n    <tr>\n      <th>Beauty &amp; Grooming</th>\n      <td>1179.0</td>\n      <td>9.326684</td>\n      <td>6.332816</td>\n      <td>0.90</td>\n      <td>4.990</td>\n      <td>7.49</td>\n      <td>11.990</td>\n      <td>49.99</td>\n    </tr>\n    <tr>\n      <th>Beer &amp; Cider</th>\n      <td>443.0</td>\n      <td>14.036975</td>\n      <td>8.289621</td>\n      <td>1.79</td>\n      <td>6.990</td>\n      <td>11.99</td>\n      <td>21.990</td>\n      <td>49.99</td>\n    </tr>\n    <tr>\n      <th>Biscuits &amp; Crackers</th>\n      <td>366.0</td>\n      <td>3.637022</td>\n      <td>1.785058</td>\n      <td>0.99</td>\n      <td>2.690</td>\n      <td>3.14</td>\n      <td>4.265</td>\n      <td>11.89</td>\n    </tr>\n    <tr>\n      <th>Breakfast Cereals</th>\n      <td>197.0</td>\n      <td>7.160660</td>\n      <td>3.535161</td>\n      <td>2.49</td>\n      <td>5.190</td>\n      <td>6.19</td>\n      <td>8.290</td>\n      <td>29.99</td>\n    </tr>\n    <tr>\n      <th>Bulk &amp; Loose Foods</th>\n      <td>134.0</td>\n      <td>28.167388</td>\n      <td>16.613002</td>\n      <td>3.99</td>\n      <td>16.900</td>\n      <td>26.90</td>\n      <td>34.400</td>\n      <td>129.90</td>\n    </tr>\n    <tr>\n      <th>Butchery</th>\n      <td>198.0</td>\n      <td>14.666414</td>\n      <td>9.648310</td>\n      <td>3.99</td>\n      <td>7.990</td>\n      <td>10.99</td>\n      <td>19.615</td>\n      <td>61.79</td>\n    </tr>\n    <tr>\n      <th>Canned &amp; Prepared Foods</th>\n      <td>398.0</td>\n      <td>3.366156</td>\n      <td>2.259260</td>\n      <td>0.79</td>\n      <td>1.990</td>\n      <td>2.67</td>\n      <td>4.190</td>\n      <td>15.89</td>\n    </tr>\n    <tr>\n      <th>Cheese</th>\n      <td>276.0</td>\n      <td>7.118768</td>\n      <td>3.774782</td>\n      <td>2.49</td>\n      <td>4.565</td>\n      <td>6.29</td>\n      <td>8.840</td>\n      <td>39.90</td>\n    </tr>\n    <tr>\n      <th>Cleaning Products</th>\n      <td>301.0</td>\n      <td>5.642824</td>\n      <td>3.887103</td>\n      <td>0.99</td>\n      <td>3.490</td>\n      <td>4.89</td>\n      <td>5.990</td>\n      <td>27.99</td>\n    </tr>\n    <tr>\n      <th>Cold Drinks</th>\n      <td>494.0</td>\n      <td>5.207895</td>\n      <td>3.593215</td>\n      <td>0.99</td>\n      <td>2.990</td>\n      <td>4.49</td>\n      <td>6.490</td>\n      <td>25.99</td>\n    </tr>\n    <tr>\n      <th>Condiments &amp; Dressings</th>\n      <td>311.0</td>\n      <td>4.729003</td>\n      <td>2.533150</td>\n      <td>1.89</td>\n      <td>2.990</td>\n      <td>4.29</td>\n      <td>5.290</td>\n      <td>24.89</td>\n    </tr>\n    <tr>\n      <th>Confectionery</th>\n      <td>365.0</td>\n      <td>3.668904</td>\n      <td>2.193130</td>\n      <td>0.50</td>\n      <td>2.490</td>\n      <td>3.49</td>\n      <td>4.490</td>\n      <td>21.99</td>\n    </tr>\n    <tr>\n      <th>Dairy &amp; Eggs</th>\n      <td>392.0</td>\n      <td>5.237474</td>\n      <td>2.195482</td>\n      <td>1.29</td>\n      <td>3.790</td>\n      <td>4.99</td>\n      <td>6.360</td>\n      <td>14.16</td>\n    </tr>\n    <tr>\n      <th>Deli, Salads &amp; Cooked Meats</th>\n      <td>339.0</td>\n      <td>9.257522</td>\n      <td>8.854768</td>\n      <td>1.99</td>\n      <td>4.450</td>\n      <td>5.90</td>\n      <td>8.990</td>\n      <td>54.29</td>\n    </tr>\n    <tr>\n      <th>Desserts</th>\n      <td>216.0</td>\n      <td>6.622037</td>\n      <td>5.295105</td>\n      <td>0.89</td>\n      <td>2.790</td>\n      <td>5.99</td>\n      <td>8.990</td>\n      <td>42.99</td>\n    </tr>\n    <tr>\n      <th>Frozen Foods</th>\n      <td>440.0</td>\n      <td>6.885432</td>\n      <td>3.575529</td>\n      <td>1.59</td>\n      <td>4.290</td>\n      <td>6.49</td>\n      <td>8.990</td>\n      <td>24.99</td>\n    </tr>\n    <tr>\n      <th>Fruit &amp; Vegetables</th>\n      <td>165.0</td>\n      <td>5.513818</td>\n      <td>3.608566</td>\n      <td>1.69</td>\n      <td>3.990</td>\n      <td>4.89</td>\n      <td>5.990</td>\n      <td>29.99</td>\n    </tr>\n    <tr>\n      <th>Garage &amp; Outdoor</th>\n      <td>44.0</td>\n      <td>9.441818</td>\n      <td>5.296409</td>\n      <td>2.79</td>\n      <td>4.990</td>\n      <td>7.49</td>\n      <td>13.465</td>\n      <td>23.00</td>\n    </tr>\n    <tr>\n      <th>Health &amp; Wellness</th>\n      <td>499.0</td>\n      <td>11.954790</td>\n      <td>9.476168</td>\n      <td>0.99</td>\n      <td>4.790</td>\n      <td>8.49</td>\n      <td>16.990</td>\n      <td>54.99</td>\n    </tr>\n    <tr>\n      <th>Hot Drinks</th>\n      <td>396.0</td>\n      <td>6.470859</td>\n      <td>2.960831</td>\n      <td>1.59</td>\n      <td>3.990</td>\n      <td>6.49</td>\n      <td>7.990</td>\n      <td>24.99</td>\n    </tr>\n    <tr>\n      <th>Household</th>\n      <td>532.0</td>\n      <td>8.831053</td>\n      <td>8.817977</td>\n      <td>0.15</td>\n      <td>3.790</td>\n      <td>6.29</td>\n      <td>10.990</td>\n      <td>99.99</td>\n    </tr>\n    <tr>\n      <th>Jams, Honey &amp; Spreads</th>\n      <td>166.0</td>\n      <td>6.790361</td>\n      <td>5.385619</td>\n      <td>2.19</td>\n      <td>3.990</td>\n      <td>4.99</td>\n      <td>7.880</td>\n      <td>32.99</td>\n    </tr>\n    <tr>\n      <th>Laundry</th>\n      <td>139.0</td>\n      <td>9.118777</td>\n      <td>5.621356</td>\n      <td>1.59</td>\n      <td>5.490</td>\n      <td>7.79</td>\n      <td>9.990</td>\n      <td>29.99</td>\n    </tr>\n    <tr>\n      <th>Meal Kits</th>\n      <td>13.0</td>\n      <td>20.000000</td>\n      <td>0.000000</td>\n      <td>20.00</td>\n      <td>20.000</td>\n      <td>20.00</td>\n      <td>20.000</td>\n      <td>20.00</td>\n    </tr>\n    <tr>\n      <th>Pasta, Rice &amp; Noodles</th>\n      <td>225.0</td>\n      <td>4.434711</td>\n      <td>4.451413</td>\n      <td>0.89</td>\n      <td>2.690</td>\n      <td>2.99</td>\n      <td>4.990</td>\n      <td>35.99</td>\n    </tr>\n    <tr>\n      <th>Pet Supplies</th>\n      <td>458.0</td>\n      <td>8.160284</td>\n      <td>7.113860</td>\n      <td>1.00</td>\n      <td>2.490</td>\n      <td>6.99</td>\n      <td>10.990</td>\n      <td>37.49</td>\n    </tr>\n    <tr>\n      <th>Ready to Cook</th>\n      <td>85.0</td>\n      <td>2.693529</td>\n      <td>1.529663</td>\n      <td>0.99</td>\n      <td>1.690</td>\n      <td>2.29</td>\n      <td>2.990</td>\n      <td>7.49</td>\n    </tr>\n    <tr>\n      <th>Ready to Heat</th>\n      <td>170.0</td>\n      <td>4.114588</td>\n      <td>2.797354</td>\n      <td>0.99</td>\n      <td>2.190</td>\n      <td>3.79</td>\n      <td>4.990</td>\n      <td>18.99</td>\n    </tr>\n    <tr>\n      <th>Salad &amp; Cooking Oils</th>\n      <td>73.0</td>\n      <td>10.242192</td>\n      <td>5.377664</td>\n      <td>3.29</td>\n      <td>5.990</td>\n      <td>9.99</td>\n      <td>12.990</td>\n      <td>33.99</td>\n    </tr>\n    <tr>\n      <th>Sauces, Stock &amp; Marinades</th>\n      <td>362.0</td>\n      <td>3.475166</td>\n      <td>1.619805</td>\n      <td>0.99</td>\n      <td>2.290</td>\n      <td>3.49</td>\n      <td>4.490</td>\n      <td>13.29</td>\n    </tr>\n    <tr>\n      <th>Seafood</th>\n      <td>60.0</td>\n      <td>14.796000</td>\n      <td>14.294439</td>\n      <td>1.49</td>\n      <td>6.440</td>\n      <td>10.99</td>\n      <td>16.115</td>\n      <td>99.99</td>\n    </tr>\n    <tr>\n      <th>Snack Foods</th>\n      <td>507.0</td>\n      <td>4.358185</td>\n      <td>2.691670</td>\n      <td>0.99</td>\n      <td>2.790</td>\n      <td>3.69</td>\n      <td>4.990</td>\n      <td>16.99</td>\n    </tr>\n    <tr>\n      <th>Spices &amp; Seasonings</th>\n      <td>288.0</td>\n      <td>3.675972</td>\n      <td>1.818944</td>\n      <td>0.99</td>\n      <td>2.390</td>\n      <td>3.29</td>\n      <td>4.490</td>\n      <td>13.89</td>\n    </tr>\n    <tr>\n      <th>Stationery &amp; Entertainment</th>\n      <td>87.0</td>\n      <td>6.684598</td>\n      <td>2.984389</td>\n      <td>1.99</td>\n      <td>3.995</td>\n      <td>5.99</td>\n      <td>9.695</td>\n      <td>12.99</td>\n    </tr>\n    <tr>\n      <th>Wine</th>\n      <td>752.0</td>\n      <td>17.351835</td>\n      <td>10.614511</td>\n      <td>3.99</td>\n      <td>11.990</td>\n      <td>14.99</td>\n      <td>18.990</td>\n      <td>120.99</td>\n    </tr>\n    <tr>\n      <th>World Foods</th>\n      <td>196.0</td>\n      <td>4.206939</td>\n      <td>2.141689</td>\n      <td>0.99</td>\n      <td>2.590</td>\n      <td>3.89</td>\n      <td>5.215</td>\n      <td>15.99</td>\n    </tr>\n  </tbody>\n</table>\n</div>"
     },
     "execution_count": 17,
     "metadata": {},
     "output_type": "execute_result"
    }
   ],
   "source": [
    "#第二类别商品各项数据统计\n",
    "data_2.groupby(['level_2'])['PricePerItem'].describe()"
   ]
  },
  {
   "cell_type": "code",
   "execution_count": 18,
   "metadata": {
    "pycharm": {
     "name": "#%%\n"
    }
   },
   "outputs": [
    {
     "data": {
      "text/plain": "                              count       mean           std    min     25%  \\\nlevel_3                                                                       \nAdult Care                     22.0   9.231364  4.224590e+00   1.99   5.490   \nAioli                          12.0   4.740000  1.719672e+00   2.49   3.815   \nAir Fresheners & Deodorisers   64.0   6.966094  3.596211e+00   2.19   4.640   \nAll Purpose Cleaners           31.0   5.102903  3.261466e+00   2.59   3.740   \nAllergy & Sinus                 3.0   5.990000  1.087792e-15   5.99   5.990   \n...                             ...        ...           ...    ...     ...   \nWine                            9.0  16.767778  1.855921e+00  14.99  14.990   \nWorcestershire Sauces           3.0   3.290000  1.571623e+00   1.89   2.440   \nWraps & Pita Breads            56.0   4.468571  1.185935e+00   2.79   3.265   \nYoghurt & Dairy Food          159.0   5.433396  1.989515e+00   1.79   4.190   \nYoghurt Bases                  23.0   4.733478  7.172080e-01   3.79   3.790   \n\n                                50%     75%    max  \nlevel_3                                             \nAdult Care                     9.49  12.915  13.99  \nAioli                          4.09   5.490   7.49  \nAir Fresheners & Deodorisers   6.19   9.990  14.99  \nAll Purpose Cleaners           4.89   4.990  19.99  \nAllergy & Sinus                5.99   5.990   5.99  \n...                             ...     ...    ...  \nWine                          16.99  17.990  19.99  \nWorcestershire Sauces          2.99   3.990   4.99  \nWraps & Pita Breads            4.49   4.990   6.99  \nYoghurt & Dairy Food           5.49   6.490  11.99  \nYoghurt Bases                  4.99   5.490   5.49  \n\n[408 rows x 8 columns]",
      "text/html": "<div>\n<style scoped>\n    .dataframe tbody tr th:only-of-type {\n        vertical-align: middle;\n    }\n\n    .dataframe tbody tr th {\n        vertical-align: top;\n    }\n\n    .dataframe thead th {\n        text-align: right;\n    }\n</style>\n<table border=\"1\" class=\"dataframe\">\n  <thead>\n    <tr style=\"text-align: right;\">\n      <th></th>\n      <th>count</th>\n      <th>mean</th>\n      <th>std</th>\n      <th>min</th>\n      <th>25%</th>\n      <th>50%</th>\n      <th>75%</th>\n      <th>max</th>\n    </tr>\n    <tr>\n      <th>level_3</th>\n      <th></th>\n      <th></th>\n      <th></th>\n      <th></th>\n      <th></th>\n      <th></th>\n      <th></th>\n      <th></th>\n    </tr>\n  </thead>\n  <tbody>\n    <tr>\n      <th>Adult Care</th>\n      <td>22.0</td>\n      <td>9.231364</td>\n      <td>4.224590e+00</td>\n      <td>1.99</td>\n      <td>5.490</td>\n      <td>9.49</td>\n      <td>12.915</td>\n      <td>13.99</td>\n    </tr>\n    <tr>\n      <th>Aioli</th>\n      <td>12.0</td>\n      <td>4.740000</td>\n      <td>1.719672e+00</td>\n      <td>2.49</td>\n      <td>3.815</td>\n      <td>4.09</td>\n      <td>5.490</td>\n      <td>7.49</td>\n    </tr>\n    <tr>\n      <th>Air Fresheners &amp; Deodorisers</th>\n      <td>64.0</td>\n      <td>6.966094</td>\n      <td>3.596211e+00</td>\n      <td>2.19</td>\n      <td>4.640</td>\n      <td>6.19</td>\n      <td>9.990</td>\n      <td>14.99</td>\n    </tr>\n    <tr>\n      <th>All Purpose Cleaners</th>\n      <td>31.0</td>\n      <td>5.102903</td>\n      <td>3.261466e+00</td>\n      <td>2.59</td>\n      <td>3.740</td>\n      <td>4.89</td>\n      <td>4.990</td>\n      <td>19.99</td>\n    </tr>\n    <tr>\n      <th>Allergy &amp; Sinus</th>\n      <td>3.0</td>\n      <td>5.990000</td>\n      <td>1.087792e-15</td>\n      <td>5.99</td>\n      <td>5.990</td>\n      <td>5.99</td>\n      <td>5.990</td>\n      <td>5.99</td>\n    </tr>\n    <tr>\n      <th>...</th>\n      <td>...</td>\n      <td>...</td>\n      <td>...</td>\n      <td>...</td>\n      <td>...</td>\n      <td>...</td>\n      <td>...</td>\n      <td>...</td>\n    </tr>\n    <tr>\n      <th>Wine</th>\n      <td>9.0</td>\n      <td>16.767778</td>\n      <td>1.855921e+00</td>\n      <td>14.99</td>\n      <td>14.990</td>\n      <td>16.99</td>\n      <td>17.990</td>\n      <td>19.99</td>\n    </tr>\n    <tr>\n      <th>Worcestershire Sauces</th>\n      <td>3.0</td>\n      <td>3.290000</td>\n      <td>1.571623e+00</td>\n      <td>1.89</td>\n      <td>2.440</td>\n      <td>2.99</td>\n      <td>3.990</td>\n      <td>4.99</td>\n    </tr>\n    <tr>\n      <th>Wraps &amp; Pita Breads</th>\n      <td>56.0</td>\n      <td>4.468571</td>\n      <td>1.185935e+00</td>\n      <td>2.79</td>\n      <td>3.265</td>\n      <td>4.49</td>\n      <td>4.990</td>\n      <td>6.99</td>\n    </tr>\n    <tr>\n      <th>Yoghurt &amp; Dairy Food</th>\n      <td>159.0</td>\n      <td>5.433396</td>\n      <td>1.989515e+00</td>\n      <td>1.79</td>\n      <td>4.190</td>\n      <td>5.49</td>\n      <td>6.490</td>\n      <td>11.99</td>\n    </tr>\n    <tr>\n      <th>Yoghurt Bases</th>\n      <td>23.0</td>\n      <td>4.733478</td>\n      <td>7.172080e-01</td>\n      <td>3.79</td>\n      <td>3.790</td>\n      <td>4.99</td>\n      <td>5.490</td>\n      <td>5.49</td>\n    </tr>\n  </tbody>\n</table>\n<p>408 rows × 8 columns</p>\n</div>"
     },
     "execution_count": 18,
     "metadata": {},
     "output_type": "execute_result"
    }
   ],
   "source": [
    "#第三类别商品各项数据统计\n",
    "data_2.groupby(['level_3'])['PricePerItem'].describe()"
   ]
  },
  {
   "cell_type": "code",
   "execution_count": 19,
   "metadata": {
    "pycharm": {
     "name": "#%%\n"
    }
   },
   "outputs": [
    {
     "data": {
      "text/plain": "&            1762\nPams          767\nChocolate     500\nChicken       497\nCheese        382\nOrganic       349\nCream         344\nSauce         339\nFood          331\nFresh         330\nWith          329\nFree          311\nMilk          302\nOriginal      274\nFruit         269\nRice          258\nWattie's      252\nNatural       233\nWhite         224\nCat           219\nBeef          218\nThe           218\nDrink         215\nMix           213\nIn            210\ndtype: int64"
     },
     "execution_count": 19,
     "metadata": {},
     "output_type": "execute_result"
    }
   ],
   "source": [
    "#商品名 词频统计(前25)\n",
    "data_2.ProductName.str.split(expand=True).stack().value_counts().head(25)"
   ]
  },
  {
   "cell_type": "code",
   "execution_count": 20,
   "metadata": {
    "pycharm": {
     "name": "#%%\n"
    }
   },
   "outputs": [],
   "source": [
    "'''折扣商品信息处理'''\n",
    "Multi_analyse=data_2.loc[data_2['MultiBuyQuantity']>1]\n",
    "Multi_analyse=Multi_analyse[['ProductName','MultiBuyQuantity','MultiBuyPrice','PricePerItem','level_1','level_2','level_3']]\n",
    "Multi_analyse['disCount']=Multi_analyse['MultiBuyPrice']/Multi_analyse['MultiBuyQuantity']/Multi_analyse['PricePerItem']\n",
    "Multi_analyse.sort_values(by=['disCount'])\n",
    "Multi_analyse=Multi_analyse[['ProductName','disCount','level_1','level_2','level_3']]"
   ]
  },
  {
   "cell_type": "code",
   "execution_count": 21,
   "metadata": {
    "pycharm": {
     "name": "#%%\n"
    }
   },
   "outputs": [
    {
     "data": {
      "text/plain": "level_1\nBaby, Toddler & Kids           0.874485\nChilled, Frozen & Desserts     0.883839\nDrinks                         0.796444\nFeatured                       0.817159\nFresh Foods & Bakery           0.779419\nKitchen, Dining & Household    0.813275\nMeal Spot                      0.782128\nPantry                         0.827712\nPersonal Care                  0.965251\nPets                           0.785848\nName: disCount, dtype: float64"
     },
     "execution_count": 21,
     "metadata": {},
     "output_type": "execute_result"
    }
   ],
   "source": [
    "#第一级分类下折扣商品平均折扣统计\n",
    "Multi_analyse.groupby(['level_1'])['disCount'].agg(np.mean)"
   ]
  },
  {
   "cell_type": "code",
   "execution_count": 22,
   "outputs": [
    {
     "data": {
      "text/plain": "level_2\n$5 Fortnight                   0.817159\nBaby Care                      0.874485\nBakery                         0.814868\nBaking Supplies & Sugar        0.929368\nBeauty & Grooming              0.965251\nBiscuits & Crackers            0.821537\nBreakfast Cereals              0.659631\nButchery                       0.501002\nCanned & Prepared Foods        0.806796\nCheese                         0.836120\nCleaning Products              0.791896\nCold Drinks                    0.796444\nConfectionery                  0.832033\nDairy & Eggs                   0.883610\nDeli, Salads & Cooked Meats    0.726341\nDesserts                       0.900000\nFruit & Vegetables             0.836587\nHousehold                      0.856031\nPasta, Rice & Noodles          0.931099\nPet Supplies                   0.785848\nReady to Cook                  0.836120\nReady to Heat                  0.767919\nSauces, Stock & Marinades      0.761035\nSnack Foods                    0.841929\nWorld Foods                    0.896057\nName: disCount, dtype: float64"
     },
     "execution_count": 22,
     "metadata": {},
     "output_type": "execute_result"
    }
   ],
   "source": [
    "#第二级分类下折扣商品平均折扣统计\n",
    "Multi_analyse.groupby(['level_2'])['disCount'].agg(np.mean)"
   ],
   "metadata": {
    "collapsed": false,
    "pycharm": {
     "name": "#%%\n"
    }
   }
  },
  {
   "cell_type": "code",
   "execution_count": 23,
   "outputs": [
    {
     "data": {
      "text/plain": "level_3\nBaby Care                      0.863411\nBaby Formula & Toddler Food    0.863411\nBaby Wipes                     0.913242\nBacon                          0.746358\nBaked Beans & Spaghetti        0.968992\n                                 ...   \nStock                          0.761035\nSugar                          0.929368\nTissues & Toilet Paper         0.865052\nWraps & Pita Breads            0.896057\nYoghurt & Dairy Food           0.931099\nName: disCount, Length: 67, dtype: float64"
     },
     "execution_count": 23,
     "metadata": {},
     "output_type": "execute_result"
    }
   ],
   "source": [
    "#第三级分类下折扣商品平均折扣统计\n",
    "Multi_analyse.groupby(['level_3'])['disCount'].agg(np.mean)"
   ],
   "metadata": {
    "collapsed": false,
    "pycharm": {
     "name": "#%%\n"
    }
   }
  },
  {
   "cell_type": "code",
   "execution_count": 24,
   "outputs": [
    {
     "data": {
      "text/plain": "level_1\nBaby, Toddler & Kids           0.896057\nChilled, Frozen & Desserts     0.900000\nDrinks                         0.837521\nFeatured                       0.836120\nFresh Foods & Bakery           0.807815\nKitchen, Dining & Household    0.836120\nMeal Spot                      0.753769\nPantry                         0.836120\nPersonal Care                  0.965251\nPets                           0.775194\nName: disCount, dtype: float64"
     },
     "execution_count": 24,
     "metadata": {},
     "output_type": "execute_result"
    }
   ],
   "source": [
    "#第一级分类下折扣商品折扣中位数统计\n",
    "Multi_analyse.groupby(['level_1'])['disCount'].agg(np.median)"
   ],
   "metadata": {
    "collapsed": false,
    "pycharm": {
     "name": "#%%\n"
    }
   }
  },
  {
   "cell_type": "code",
   "execution_count": 25,
   "metadata": {
    "pycharm": {
     "name": "#%%\n"
    }
   },
   "outputs": [
    {
     "data": {
      "text/plain": "level_2\n$5 Fortnight                   0.836120\nBaby Care                      0.896057\nBakery                         0.836120\nBaking Supplies & Sugar        0.929368\nBeauty & Grooming              0.965251\nBiscuits & Crackers            0.836120\nBreakfast Cereals              0.659631\nButchery                       0.501002\nCanned & Prepared Foods        0.753769\nCheese                         0.836120\nCleaning Products              0.836120\nCold Drinks                    0.837521\nConfectionery                  0.716332\nDairy & Eggs                   0.883610\nDeli, Salads & Cooked Meats    0.716332\nDesserts                       0.900000\nFruit & Vegetables             0.836120\nHousehold                      0.865052\nPasta, Rice & Noodles          0.931099\nPet Supplies                   0.775194\nReady to Cook                  0.836120\nReady to Heat                  0.753769\nSauces, Stock & Marinades      0.761035\nSnack Foods                    0.884956\nWorld Foods                    0.896057\nName: disCount, dtype: float64"
     },
     "execution_count": 25,
     "metadata": {},
     "output_type": "execute_result"
    }
   ],
   "source": [
    "#第二级分类下折扣商品折扣中位数统计\n",
    "Multi_analyse.groupby(['level_2'])['disCount'].agg(np.median)"
   ]
  },
  {
   "cell_type": "code",
   "execution_count": 26,
   "metadata": {
    "pycharm": {
     "name": "#%%\n"
    }
   },
   "outputs": [
    {
     "data": {
      "text/plain": "level_3\nBaby Care                      0.838926\nBaby Formula & Toddler Food    0.838926\nBaby Wipes                     0.913242\nBacon                          0.746358\nBaked Beans & Spaghetti        0.968992\n                                 ...   \nStock                          0.761035\nSugar                          0.929368\nTissues & Toilet Paper         0.865052\nWraps & Pita Breads            0.896057\nYoghurt & Dairy Food           0.931099\nName: disCount, Length: 67, dtype: float64"
     },
     "execution_count": 26,
     "metadata": {},
     "output_type": "execute_result"
    }
   ],
   "source": [
    "#第三级分类下折扣商品折扣中位数统计\n",
    "Multi_analyse.groupby(['level_3'])['disCount'].agg(np.median)"
   ]
  },
  {
   "cell_type": "code",
   "execution_count": 27,
   "metadata": {
    "pycharm": {
     "name": "#%%\n"
    }
   },
   "outputs": [
    {
     "name": "stdout",
     "output_type": "stream",
     "text": [
      "                                                 PName         Cat_l1\n",
      "13025          Depend Real Fit For Men Large Underwear  Personal Care\n",
      "13212         Depend Real Fit For Men Medium Underwear  Personal Care\n",
      "13476  Depend Real Fit For Woman Extra Large Underwear  Personal Care\n",
      "13310        Depend Real Fit For Woman Large Underwear  Personal Care\n",
      "13309       Depend Real Fit For Women Medium Underwear  Personal Care\n"
     ]
    }
   ],
   "source": [
    "'''生成最终训练数据文件 置于Data/Data_cleaned.csv'''\n",
    "#商品名 第一级属性\n",
    "col=['PName','Cat_l1']\n",
    "outPutCsv=data_2[['ProductName','level_1']]\n",
    "outPutCsv.columns=col\n",
    "print(outPutCsv.head())\n",
    "outPutCsv.to_csv('../Data/Data_cleaned.csv',index=0)"
   ]
  },
  {
   "cell_type": "code",
   "execution_count": 28,
   "metadata": {
    "pycharm": {
     "name": "#%%\n"
    }
   },
   "outputs": [],
   "source": [
    "'''为EDA准备数据'''\n",
    "with open('../Data/Data_forEDA.txt', \"w+\") as file:\n",
    "    for index, row in outPutCsv.iterrows():\n",
    "        text_line = row[\"PName\"] + '\\t' + row[\"Cat_l1\"]\n",
    "        file.writelines(text_line+\"\\n\")"
   ]
  }
 ],
 "metadata": {
  "kernelspec": {
   "display_name": "Python 3 (ipykernel)",
   "language": "python",
   "name": "python3"
  },
  "language_info": {
   "codemirror_mode": {
    "name": "ipython",
    "version": 3
   },
   "file_extension": ".py",
   "mimetype": "text/x-python",
   "name": "python",
   "nbconvert_exporter": "python",
   "pygments_lexer": "ipython3",
   "version": "3.9.6"
  }
 },
 "nbformat": 4,
 "nbformat_minor": 1
}