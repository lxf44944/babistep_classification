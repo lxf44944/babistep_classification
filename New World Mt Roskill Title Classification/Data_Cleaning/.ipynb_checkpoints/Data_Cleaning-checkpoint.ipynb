{
 "cells": [
  {
   "cell_type": "code",
   "execution_count": 26,
   "metadata": {
    "pycharm": {
     "name": "#%%\n"
    }
   },
   "outputs": [],
   "source": [
    "import pandas as pd\n",
    "import numpy as np"
   ]
  },
  {
   "cell_type": "code",
   "execution_count": 2,
   "metadata": {},
   "outputs": [],
   "source": [
    "'''读取原始数据文件'''\n",
    "RawData = pd.read_csv('../Data/RawData.csv')\n",
    "\n"
   ]
  },
  {
   "cell_type": "code",
   "execution_count": 3,
   "metadata": {},
   "outputs": [
    {
     "name": "stdout",
     "output_type": "stream",
     "text": [
      "(14612, 10)\n"
     ]
    }
   ],
   "source": [
    "'''去掉相同&无用项'''\n",
    "DropList = ['Branch', 'PriceMode', 'ProductId','PromoBadgeImageLabel','Index']\n",
    "Data_Usefull = RawData.drop(DropList, axis=1)  # 去掉相同&无用项\n",
    "print(Data_Usefull.shape)"
   ]
  },
  {
   "cell_type": "code",
   "execution_count": 4,
   "metadata": {
    "pycharm": {
     "name": "#%%\n"
    }
   },
   "outputs": [
    {
     "name": "stdout",
     "output_type": "stream",
     "text": [
      "(13250, 10)\n",
      "<class 'pandas.core.frame.DataFrame'>\n",
      "Int64Index: 13250 entries, 12447 to 2788\n",
      "Data columns (total 10 columns):\n",
      " #   Column             Non-Null Count  Dtype  \n",
      "---  ------             --------------  -----  \n",
      " 0   ProductName        13250 non-null  object \n",
      " 1   level_1            13250 non-null  object \n",
      " 2   level_2            13250 non-null  object \n",
      " 3   level_3            13250 non-null  object \n",
      " 4   PricePerItem       13250 non-null  float64\n",
      " 5   HasMultiBuyDeal    13250 non-null  bool   \n",
      " 6   MultiBuyDeal       834 non-null    object \n",
      " 7   MultiBuyBasePrice  13250 non-null  float64\n",
      " 8   MultiBuyPrice      5346 non-null   float64\n",
      " 9   MultiBuyQuantity   5346 non-null   float64\n",
      "dtypes: bool(1), float64(4), object(5)\n",
      "memory usage: 1.0+ MB\n",
      "None\n"
     ]
    }
   ],
   "source": [
    "''' 去除相同level_3类型的重复产品数据（同名、同价格、同level_3类型）从14612条数据精简为13250条数据'''\n",
    "level_3_Sets = list(set(Data_Usefull['level_3']))\n",
    "level_3_Sets.sort()\n",
    "# print(level_3_Sets)\n",
    "data_1 = pd.DataFrame()\n",
    "for levelName in level_3_Sets:\n",
    "    sub = Data_Usefull.loc[Data_Usefull['level_3'] == levelName]\n",
    "    sub = sub.drop_duplicates(subset=['ProductName', 'PricePerItem'], keep='first')\n",
    "    data_1 = data_1.append(sub)\n",
    "print(data_1.shape)\n",
    "print(data_1.info())"
   ]
  },
  {
   "cell_type": "code",
   "execution_count": 5,
   "metadata": {
    "pycharm": {
     "name": "#%%\n"
    }
   },
   "outputs": [
    {
     "name": "stdout",
     "output_type": "stream",
     "text": [
      "(12386, 10)\n"
     ]
    }
   ],
   "source": [
    "'''在已经去除重复商品的数据集（data_1）上继续去除单件促销商品（商品名、类目相同，单价不同）将其置于data_2中  经过此过程，数据量从 13250 条降至 12386 条'''\n",
    "data_2 = pd.DataFrame()\n",
    "for levelName in level_3_Sets:\n",
    "    sub = data_1.loc[data_1['level_3'] == levelName]\n",
    "    #按商品名为排序主要关键字，升序，价格为次要关键字，降序\n",
    "    sub = sub.sort_values(by=['ProductName', 'PricePerItem'],ascending=[True,False])\n",
    "    sub = sub.drop_duplicates(subset=['ProductName'], keep='first')\n",
    "    data_2 = data_2.append(sub)\n",
    "print(data_2.shape)"
   ]
  },
  {
   "cell_type": "code",
   "execution_count": 6,
   "metadata": {
    "pycharm": {
     "name": "#%%\n"
    }
   },
   "outputs": [
    {
     "data": {
      "text/plain": [
       "'数据分析'"
      ]
     },
     "execution_count": 6,
     "metadata": {},
     "output_type": "execute_result"
    }
   ],
   "source": [
    "'''数据分析'''"
   ]
  },
  {
   "cell_type": "code",
   "execution_count": 7,
   "metadata": {
    "pycharm": {
     "name": "#%%\n"
    }
   },
   "outputs": [
    {
     "name": "stdout",
     "output_type": "stream",
     "text": [
      "Pantry                         3808\n",
      "Personal Care                  1678\n",
      "Chilled, Frozen & Desserts     1324\n",
      "Fresh Foods & Bakery           1237\n",
      "Beer, Cider & Wine             1195\n",
      "Kitchen, Dining & Household    1103\n",
      "Drinks                          890\n",
      "Pets                            458\n",
      "Baby, Toddler & Kids            317\n",
      "Meal Spot                       255\n",
      "Featured                        121\n",
      "Name: level_1, dtype: int64\n"
     ]
    }
   ],
   "source": [
    "#第一类别商品数量\n",
    "print(data_2['level_1'].value_counts())"
   ]
  },
  {
   "cell_type": "code",
   "execution_count": 8,
   "metadata": {
    "pycharm": {
     "name": "#%%\n"
    }
   },
   "outputs": [
    {
     "name": "stdout",
     "output_type": "stream",
     "text": [
      "Beauty & Grooming              1179\n",
      "Wine                            752\n",
      "Household                       532\n",
      "Snack Foods                     507\n",
      "Health & Wellness               499\n",
      "Cold Drinks                     494\n",
      "Pet Supplies                    458\n",
      "Beer & Cider                    443\n",
      "Frozen Foods                    440\n",
      "Canned & Prepared Foods         398\n",
      "Hot Drinks                      396\n",
      "Dairy & Eggs                    392\n",
      "Biscuits & Crackers             366\n",
      "Confectionery                   365\n",
      "Sauces, Stock & Marinades       362\n",
      "Baking Supplies & Sugar         354\n",
      "Deli, Salads & Cooked Meats     339\n",
      "Bakery                          328\n",
      "Baby Care                       317\n",
      "Condiments & Dressings          311\n",
      "Cleaning Products               301\n",
      "Spices & Seasonings             288\n",
      "Cheese                          276\n",
      "Pasta, Rice & Noodles           225\n",
      "Desserts                        216\n",
      "Butchery                        198\n",
      "Breakfast Cereals               197\n",
      "World Foods                     196\n",
      "Ready to Heat                   170\n",
      "Jams, Honey & Spreads           166\n",
      "Fruit & Vegetables              165\n",
      "Laundry                         139\n",
      "Bulk & Loose Foods              134\n",
      "$5 Fortnight                    121\n",
      "Stationery & Entertainment       87\n",
      "Ready to Cook                    85\n",
      "Salad & Cooking Oils             73\n",
      "Seafood                          60\n",
      "Garage & Outdoor                 44\n",
      "Meal Kits                        13\n",
      "Name: level_2, dtype: int64\n"
     ]
    }
   ],
   "source": [
    "#第二类别商品数量\n",
    "print(data_2['level_2'].value_counts())"
   ]
  },
  {
   "cell_type": "code",
   "execution_count": 9,
   "metadata": {
    "pycharm": {
     "name": "#%%\n"
    }
   },
   "outputs": [
    {
     "name": "stdout",
     "output_type": "stream",
     "text": [
      "Face & Lip Skin Care           217\n",
      "Cat Food                       217\n",
      "Hair Care & Treatments         192\n",
      "Hand & Body Care               185\n",
      "Dried Herbs                    176\n",
      "                              ... \n",
      "Vege Bags                        1\n",
      "Deli Cabinet Cheeses             1\n",
      "Deli, Salads & Cooked Meats      1\n",
      "Desserts                         1\n",
      "Laundry Supplies                 1\n",
      "Name: level_3, Length: 408, dtype: int64\n"
     ]
    }
   ],
   "source": [
    "#第三类别商品数量\n",
    "print(data_2['level_3'].value_counts())"
   ]
  },
  {
   "cell_type": "code",
   "execution_count": 10,
   "metadata": {
    "pycharm": {
     "name": "#%%\n"
    }
   },
   "outputs": [
    {
     "name": "stdout",
     "output_type": "stream",
     "text": [
      "level_1\n",
      "Baby, Toddler & Kids            9.615868\n",
      "Beer, Cider & Wine             16.122979\n",
      "Chilled, Frozen & Desserts      6.403187\n",
      "Drinks                          5.769843\n",
      "Featured                        5.972479\n",
      "Fresh Foods & Bakery           11.006289\n",
      "Kitchen, Dining & Household     7.852330\n",
      "Meal Spot                       3.640902\n",
      "Pantry                          4.450570\n",
      "Personal Care                  10.108224\n",
      "Pets                            8.160284\n",
      "Name: PricePerItem, dtype: float64\n"
     ]
    }
   ],
   "source": [
    "#第一类别商品价格均值\n",
    "print(data_2.groupby('level_1')['PricePerItem'].agg(np.mean))"
   ]
  },
  {
   "cell_type": "code",
   "execution_count": 11,
   "metadata": {
    "pycharm": {
     "name": "#%%\n"
    }
   },
   "outputs": [
    {
     "name": "stdout",
     "output_type": "stream",
     "text": [
      "level_2\n",
      "$5 Fortnight                    5.972479\n",
      "Baby Care                       9.615868\n",
      "Bakery                          5.306585\n",
      "Baking Supplies & Sugar         5.177486\n",
      "Beauty & Grooming               9.326684\n",
      "Beer & Cider                   14.036975\n",
      "Biscuits & Crackers             3.637022\n",
      "Breakfast Cereals               7.160660\n",
      "Bulk & Loose Foods             28.167388\n",
      "Butchery                       14.666414\n",
      "Canned & Prepared Foods         3.366156\n",
      "Cheese                          7.118768\n",
      "Cleaning Products               5.642824\n",
      "Cold Drinks                     5.207895\n",
      "Condiments & Dressings          4.729003\n",
      "Confectionery                   3.668904\n",
      "Dairy & Eggs                    5.237474\n",
      "Deli, Salads & Cooked Meats     9.257522\n",
      "Desserts                        6.622037\n",
      "Frozen Foods                    6.885432\n",
      "Fruit & Vegetables              5.513818\n",
      "Garage & Outdoor                9.441818\n",
      "Health & Wellness              11.954790\n",
      "Hot Drinks                      6.470859\n",
      "Household                       8.831053\n",
      "Jams, Honey & Spreads           6.790361\n",
      "Laundry                         9.118777\n",
      "Meal Kits                      20.000000\n",
      "Pasta, Rice & Noodles           4.434711\n",
      "Pet Supplies                    8.160284\n",
      "Ready to Cook                   2.693529\n",
      "Ready to Heat                   4.114588\n",
      "Salad & Cooking Oils           10.242192\n",
      "Sauces, Stock & Marinades       3.475166\n",
      "Seafood                        14.796000\n",
      "Snack Foods                     4.358185\n",
      "Spices & Seasonings             3.675972\n",
      "Stationery & Entertainment      6.684598\n",
      "Wine                           17.351835\n",
      "World Foods                     4.206939\n",
      "Name: PricePerItem, dtype: float64\n"
     ]
    }
   ],
   "source": [
    "#第二类别商品价格均值\n",
    "print(data_2.groupby('level_2')['PricePerItem'].agg(np.mean))"
   ]
  },
  {
   "cell_type": "code",
   "execution_count": 12,
   "metadata": {
    "pycharm": {
     "name": "#%%\n"
    }
   },
   "outputs": [
    {
     "name": "stdout",
     "output_type": "stream",
     "text": [
      "level_3\n",
      "Adult Care                       9.231364\n",
      "Aioli                            4.740000\n",
      "Air Fresheners & Deodorisers     6.966094\n",
      "All Purpose Cleaners             5.102903\n",
      "Allergy & Sinus                  5.990000\n",
      "                                  ...    \n",
      "Wine                            16.767778\n",
      "Worcestershire Sauces            3.290000\n",
      "Wraps & Pita Breads              4.468571\n",
      "Yoghurt & Dairy Food             5.433396\n",
      "Yoghurt Bases                    4.733478\n",
      "Name: PricePerItem, Length: 408, dtype: float64\n"
     ]
    }
   ],
   "source": [
    "#第三类别商品价格均值\n",
    "print(data_2.groupby('level_3')['PricePerItem'].agg(np.mean))"
   ]
  },
  {
   "cell_type": "code",
   "execution_count": 13,
   "metadata": {
    "pycharm": {
     "name": "#%%\n"
    }
   },
   "outputs": [
    {
     "data": {
      "text/plain": [
       "level_1\n",
       "Baby, Toddler & Kids            93.671705\n",
       "Beer, Cider & Wine              98.869421\n",
       "Chilled, Frozen & Desserts      13.779577\n",
       "Drinks                          11.449492\n",
       "Featured                        38.786289\n",
       "Fresh Foods & Bakery           131.288583\n",
       "Kitchen, Dining & Household     49.533969\n",
       "Meal Spot                        6.430863\n",
       "Pantry                           9.582004\n",
       "Personal Care                   56.281511\n",
       "Pets                            50.607003\n",
       "Name: PricePerItem, dtype: float64"
      ]
     },
     "execution_count": 13,
     "metadata": {},
     "output_type": "execute_result"
    }
   ],
   "source": [
    "#第一类别商品价格方差\n",
    "data_2.groupby(['level_1'])['PricePerItem'].agg(np.var)"
   ]
  },
  {
   "cell_type": "code",
   "execution_count": 14,
   "metadata": {
    "pycharm": {
     "name": "#%%\n"
    }
   },
   "outputs": [
    {
     "data": {
      "text/plain": [
       "level_2\n",
       "$5 Fortnight                    38.786289\n",
       "Baby Care                       93.671705\n",
       "Bakery                          17.844964\n",
       "Baking Supplies & Sugar          8.085079\n",
       "Beauty & Grooming               40.104563\n",
       "Beer & Cider                    68.717811\n",
       "Biscuits & Crackers              3.186432\n",
       "Breakfast Cereals               12.497360\n",
       "Bulk & Loose Foods             275.991851\n",
       "Butchery                        93.089884\n",
       "Canned & Prepared Foods          5.104256\n",
       "Cheese                          14.248982\n",
       "Cleaning Products               15.109567\n",
       "Cold Drinks                     12.911197\n",
       "Condiments & Dressings           6.416847\n",
       "Confectionery                    4.809820\n",
       "Dairy & Eggs                     4.820141\n",
       "Deli, Salads & Cooked Meats     78.406918\n",
       "Desserts                        28.038133\n",
       "Frozen Foods                    12.784406\n",
       "Fruit & Vegetables              13.021748\n",
       "Garage & Outdoor                28.051950\n",
       "Health & Wellness               89.797764\n",
       "Hot Drinks                       8.766522\n",
       "Household                       77.756716\n",
       "Jams, Honey & Spreads           29.004888\n",
       "Laundry                         31.599646\n",
       "Meal Kits                        0.000000\n",
       "Pasta, Rice & Noodles           19.815081\n",
       "Pet Supplies                    50.607003\n",
       "Ready to Cook                    2.339868\n",
       "Ready to Heat                    7.825189\n",
       "Salad & Cooking Oils            28.919267\n",
       "Sauces, Stock & Marinades        2.623768\n",
       "Seafood                        204.330974\n",
       "Snack Foods                      7.245086\n",
       "Spices & Seasonings              3.308557\n",
       "Stationery & Entertainment       8.906579\n",
       "Wine                           112.667849\n",
       "World Foods                      4.586831\n",
       "Name: PricePerItem, dtype: float64"
      ]
     },
     "execution_count": 14,
     "metadata": {},
     "output_type": "execute_result"
    }
   ],
   "source": [
    "#第二类别商品价格方差\n",
    "data_2.groupby(['level_2'])['PricePerItem'].agg(np.var)"
   ]
  },
  {
   "cell_type": "code",
   "execution_count": 15,
   "metadata": {
    "pycharm": {
     "name": "#%%\n"
    }
   },
   "outputs": [
    {
     "data": {
      "text/plain": [
       "level_3\n",
       "Adult Care                      17.847165\n",
       "Aioli                            2.957273\n",
       "Air Fresheners & Deodorisers    12.932735\n",
       "All Purpose Cleaners            10.637161\n",
       "Allergy & Sinus                  0.000000\n",
       "                                  ...    \n",
       "Wine                             3.444444\n",
       "Worcestershire Sauces            2.470000\n",
       "Wraps & Pita Breads              1.406442\n",
       "Yoghurt & Dairy Food             3.958168\n",
       "Yoghurt Bases                    0.514387\n",
       "Name: PricePerItem, Length: 408, dtype: float64"
      ]
     },
     "execution_count": 15,
     "metadata": {},
     "output_type": "execute_result"
    }
   ],
   "source": [
    "#第三类别商品价格方差\n",
    "data_2.groupby(['level_3'])['PricePerItem'].agg(np.var)"
   ]
  },
  {
   "cell_type": "code",
   "execution_count": 16,
   "metadata": {
    "pycharm": {
     "name": "#%%\n"
    }
   },
   "outputs": [
    {
     "name": "stdout",
     "output_type": "stream",
     "text": [
      "                              count       mean        std   min    25%    50%  \\\n",
      "level_1                                                                         \n",
      "Baby, Toddler & Kids          317.0   9.615868   9.678414  0.99   1.99   5.79   \n",
      "Beer, Cider & Wine           1195.0  16.122979   9.943310  1.79  10.24  14.99   \n",
      "Chilled, Frozen & Desserts   1324.0   6.403187   3.712085  0.89   3.99   5.89   \n",
      "Drinks                        890.0   5.769843   3.383710  0.99   3.59   4.99   \n",
      "Featured                      121.0   5.972479   6.227864  1.29   2.79   3.49   \n",
      "Fresh Foods & Bakery         1237.0  11.006289  11.458123  1.20   4.29   6.09   \n",
      "Kitchen, Dining & Household  1103.0   7.852330   7.038037  0.15   3.99   5.99   \n",
      "Meal Spot                     255.0   3.640902   2.535915  0.99   1.99   2.79   \n",
      "Pantry                       3808.0   4.450570   3.095481  0.50   2.69   3.69   \n",
      "Personal Care                1678.0  10.108224   7.502100  0.90   4.99   7.99   \n",
      "Pets                          458.0   8.160284   7.113860  1.00   2.49   6.99   \n",
      "\n",
      "                               75%     max  \n",
      "level_1                                     \n",
      "Baby, Toddler & Kids         14.89   45.99  \n",
      "Beer, Cider & Wine           19.99  120.99  \n",
      "Chilled, Frozen & Desserts    7.99   42.99  \n",
      "Drinks                        6.99   25.99  \n",
      "Featured                      5.00   22.99  \n",
      "Fresh Foods & Bakery         13.99  129.90  \n",
      "Kitchen, Dining & Household   9.99   99.99  \n",
      "Meal Spot                     4.64   18.99  \n",
      "Pantry                        5.09   35.99  \n",
      "Personal Care                12.99   54.99  \n",
      "Pets                         10.99   37.49  \n"
     ]
    }
   ],
   "source": [
    "#第一类别商品各项数据统计\n",
    "print(data_2.groupby(['level_1'])['PricePerItem'].describe())"
   ]
  },
  {
   "cell_type": "code",
   "execution_count": 17,
   "metadata": {
    "pycharm": {
     "name": "#%%\n"
    }
   },
   "outputs": [
    {
     "name": "stdout",
     "output_type": "stream",
     "text": [
      "                              count       mean        std    min     25%  \\\n",
      "level_2                                                                    \n",
      "$5 Fortnight                  121.0   5.972479   6.227864   1.29   2.790   \n",
      "Baby Care                     317.0   9.615868   9.678414   0.99   1.990   \n",
      "Bakery                        328.0   5.306585   4.224330   1.20   3.490   \n",
      "Baking Supplies & Sugar       354.0   5.177486   2.843427   0.69   2.990   \n",
      "Beauty & Grooming            1179.0   9.326684   6.332816   0.90   4.990   \n",
      "Beer & Cider                  443.0  14.036975   8.289621   1.79   6.990   \n",
      "Biscuits & Crackers           366.0   3.637022   1.785058   0.99   2.690   \n",
      "Breakfast Cereals             197.0   7.160660   3.535161   2.49   5.190   \n",
      "Bulk & Loose Foods            134.0  28.167388  16.613002   3.99  16.900   \n",
      "Butchery                      198.0  14.666414   9.648310   3.99   7.990   \n",
      "Canned & Prepared Foods       398.0   3.366156   2.259260   0.79   1.990   \n",
      "Cheese                        276.0   7.118768   3.774782   2.49   4.565   \n",
      "Cleaning Products             301.0   5.642824   3.887103   0.99   3.490   \n",
      "Cold Drinks                   494.0   5.207895   3.593215   0.99   2.990   \n",
      "Condiments & Dressings        311.0   4.729003   2.533150   1.89   2.990   \n",
      "Confectionery                 365.0   3.668904   2.193130   0.50   2.490   \n",
      "Dairy & Eggs                  392.0   5.237474   2.195482   1.29   3.790   \n",
      "Deli, Salads & Cooked Meats   339.0   9.257522   8.854768   1.99   4.450   \n",
      "Desserts                      216.0   6.622037   5.295105   0.89   2.790   \n",
      "Frozen Foods                  440.0   6.885432   3.575529   1.59   4.290   \n",
      "Fruit & Vegetables            165.0   5.513818   3.608566   1.69   3.990   \n",
      "Garage & Outdoor               44.0   9.441818   5.296409   2.79   4.990   \n",
      "Health & Wellness             499.0  11.954790   9.476168   0.99   4.790   \n",
      "Hot Drinks                    396.0   6.470859   2.960831   1.59   3.990   \n",
      "Household                     532.0   8.831053   8.817977   0.15   3.790   \n",
      "Jams, Honey & Spreads         166.0   6.790361   5.385619   2.19   3.990   \n",
      "Laundry                       139.0   9.118777   5.621356   1.59   5.490   \n",
      "Meal Kits                      13.0  20.000000   0.000000  20.00  20.000   \n",
      "Pasta, Rice & Noodles         225.0   4.434711   4.451413   0.89   2.690   \n",
      "Pet Supplies                  458.0   8.160284   7.113860   1.00   2.490   \n",
      "Ready to Cook                  85.0   2.693529   1.529663   0.99   1.690   \n",
      "Ready to Heat                 170.0   4.114588   2.797354   0.99   2.190   \n",
      "Salad & Cooking Oils           73.0  10.242192   5.377664   3.29   5.990   \n",
      "Sauces, Stock & Marinades     362.0   3.475166   1.619805   0.99   2.290   \n",
      "Seafood                        60.0  14.796000  14.294439   1.49   6.440   \n",
      "Snack Foods                   507.0   4.358185   2.691670   0.99   2.790   \n",
      "Spices & Seasonings           288.0   3.675972   1.818944   0.99   2.390   \n",
      "Stationery & Entertainment     87.0   6.684598   2.984389   1.99   3.995   \n",
      "Wine                          752.0  17.351835  10.614511   3.99  11.990   \n",
      "World Foods                   196.0   4.206939   2.141689   0.99   2.590   \n",
      "\n",
      "                               50%     75%     max  \n",
      "level_2                                             \n",
      "$5 Fortnight                  3.49   5.000   22.99  \n",
      "Baby Care                     5.79  14.890   45.99  \n",
      "Bakery                        4.49   5.490   35.00  \n",
      "Baking Supplies & Sugar       4.44   6.890   19.49  \n",
      "Beauty & Grooming             7.49  11.990   49.99  \n",
      "Beer & Cider                 11.99  21.990   49.99  \n",
      "Biscuits & Crackers           3.14   4.265   11.89  \n",
      "Breakfast Cereals             6.19   8.290   29.99  \n",
      "Bulk & Loose Foods           26.90  34.400  129.90  \n",
      "Butchery                     10.99  19.615   61.79  \n",
      "Canned & Prepared Foods       2.67   4.190   15.89  \n",
      "Cheese                        6.29   8.840   39.90  \n",
      "Cleaning Products             4.89   5.990   27.99  \n",
      "Cold Drinks                   4.49   6.490   25.99  \n",
      "Condiments & Dressings        4.29   5.290   24.89  \n",
      "Confectionery                 3.49   4.490   21.99  \n",
      "Dairy & Eggs                  4.99   6.360   14.16  \n",
      "Deli, Salads & Cooked Meats   5.90   8.990   54.29  \n",
      "Desserts                      5.99   8.990   42.99  \n",
      "Frozen Foods                  6.49   8.990   24.99  \n",
      "Fruit & Vegetables            4.89   5.990   29.99  \n",
      "Garage & Outdoor              7.49  13.465   23.00  \n",
      "Health & Wellness             8.49  16.990   54.99  \n",
      "Hot Drinks                    6.49   7.990   24.99  \n",
      "Household                     6.29  10.990   99.99  \n",
      "Jams, Honey & Spreads         4.99   7.880   32.99  \n",
      "Laundry                       7.79   9.990   29.99  \n",
      "Meal Kits                    20.00  20.000   20.00  \n",
      "Pasta, Rice & Noodles         2.99   4.990   35.99  \n",
      "Pet Supplies                  6.99  10.990   37.49  \n",
      "Ready to Cook                 2.29   2.990    7.49  \n",
      "Ready to Heat                 3.79   4.990   18.99  \n",
      "Salad & Cooking Oils          9.99  12.990   33.99  \n",
      "Sauces, Stock & Marinades     3.49   4.490   13.29  \n",
      "Seafood                      10.99  16.115   99.99  \n",
      "Snack Foods                   3.69   4.990   16.99  \n",
      "Spices & Seasonings           3.29   4.490   13.89  \n",
      "Stationery & Entertainment    5.99   9.695   12.99  \n",
      "Wine                         14.99  18.990  120.99  \n",
      "World Foods                   3.89   5.215   15.99  \n"
     ]
    }
   ],
   "source": [
    "#第二类别商品各项数据统计\n",
    "print(data_2.groupby(['level_2'])['PricePerItem'].describe())"
   ]
  },
  {
   "cell_type": "code",
   "execution_count": 27,
   "metadata": {
    "pycharm": {
     "is_executing": true,
     "name": "#%%\n"
    }
   },
   "outputs": [
    {
     "name": "stdout",
     "output_type": "stream",
     "text": [
      "                              count       mean           std    min     25%  \\\n",
      "level_3                                                                       \n",
      "Adult Care                     22.0   9.231364  4.224590e+00   1.99   5.490   \n",
      "Aioli                          12.0   4.740000  1.719672e+00   2.49   3.815   \n",
      "Air Fresheners & Deodorisers   64.0   6.966094  3.596211e+00   2.19   4.640   \n",
      "All Purpose Cleaners           31.0   5.102903  3.261466e+00   2.59   3.740   \n",
      "Allergy & Sinus                 3.0   5.990000  1.087792e-15   5.99   5.990   \n",
      "...                             ...        ...           ...    ...     ...   \n",
      "Wine                            9.0  16.767778  1.855921e+00  14.99  14.990   \n",
      "Worcestershire Sauces           3.0   3.290000  1.571623e+00   1.89   2.440   \n",
      "Wraps & Pita Breads            56.0   4.468571  1.185935e+00   2.79   3.265   \n",
      "Yoghurt & Dairy Food          159.0   5.433396  1.989515e+00   1.79   4.190   \n",
      "Yoghurt Bases                  23.0   4.733478  7.172080e-01   3.79   3.790   \n",
      "\n",
      "                                50%     75%    max  \n",
      "level_3                                             \n",
      "Adult Care                     9.49  12.915  13.99  \n",
      "Aioli                          4.09   5.490   7.49  \n",
      "Air Fresheners & Deodorisers   6.19   9.990  14.99  \n",
      "All Purpose Cleaners           4.89   4.990  19.99  \n",
      "Allergy & Sinus                5.99   5.990   5.99  \n",
      "...                             ...     ...    ...  \n",
      "Wine                          16.99  17.990  19.99  \n",
      "Worcestershire Sauces          2.99   3.990   4.99  \n",
      "Wraps & Pita Breads            4.49   4.990   6.99  \n",
      "Yoghurt & Dairy Food           5.49   6.490  11.99  \n",
      "Yoghurt Bases                  4.99   5.490   5.49  \n",
      "\n",
      "[408 rows x 8 columns]\n"
     ]
    }
   ],
   "source": [
    "#第三类别商品各项数据统计\n",
    "print(data_2.groupby(['level_3'])['PricePerItem'].describe())"
   ]
  },
  {
   "cell_type": "code",
   "execution_count": 28,
   "metadata": {
    "pycharm": {
     "is_executing": true,
     "name": "#%%\n"
    }
   },
   "outputs": [
    {
     "name": "stdout",
     "output_type": "stream",
     "text": [
      "&            1762\n",
      "Pams          767\n",
      "Chocolate     500\n",
      "Chicken       497\n",
      "Cheese        382\n",
      "Organic       349\n",
      "Cream         344\n",
      "Sauce         339\n",
      "Food          331\n",
      "Fresh         330\n",
      "With          329\n",
      "Free          311\n",
      "Milk          302\n",
      "Original      274\n",
      "Fruit         269\n",
      "Rice          258\n",
      "Wattie's      252\n",
      "Natural       233\n",
      "White         224\n",
      "Cat           219\n",
      "Beef          218\n",
      "The           218\n",
      "Drink         215\n",
      "Mix           213\n",
      "In            210\n",
      "dtype: int64\n"
     ]
    }
   ],
   "source": [
    "#商品名 词频统计(前25)\n",
    "print(data_2.ProductName.str.split(expand=True).stack().value_counts().head(25))"
   ]
  },
  {
   "cell_type": "code",
   "execution_count": null,
   "metadata": {
    "pycharm": {
     "is_executing": true,
     "name": "#%%\n"
    }
   },
   "outputs": [],
   "source": [
    "'''折扣商品信息处理'''\n",
    "Multi_analyse=data_2.loc[data_2['MultiBuyQuantity']>1]\n",
    "Multi_analyse=Multi_analyse[['ProductName','MultiBuyQuantity','MultiBuyPrice','PricePerItem','level_1','level_2','level_3']]\n",
    "Multi_analyse['disCount']=Multi_analyse['MultiBuyPrice']/Multi_analyse['MultiBuyQuantity']/Multi_analyse['PricePerItem']\n",
    "Multi_analyse.sort_values(by=['disCount'])\n",
    "Multi_analyse=Multi_analyse[['ProductName','disCount','level_1','level_2','level_3']]"
   ]
  },
  {
   "cell_type": "code",
   "execution_count": 29,
   "metadata": {
    "pycharm": {
     "is_executing": true,
     "name": "#%%\n"
    }
   },
   "outputs": [
    {
     "name": "stdout",
     "output_type": "stream",
     "text": [
      "level_1\n",
      "Baby, Toddler & Kids           0.874485\n",
      "Chilled, Frozen & Desserts     0.883839\n",
      "Drinks                         0.796444\n",
      "Featured                       0.817159\n",
      "Fresh Foods & Bakery           0.779419\n",
      "Kitchen, Dining & Household    0.813275\n",
      "Meal Spot                      0.782128\n",
      "Pantry                         0.827712\n",
      "Personal Care                  0.965251\n",
      "Pets                           0.785848\n",
      "Name: disCount, dtype: float64\n"
     ]
    }
   ],
   "source": [
    "#第一级分类下折扣商品平均折扣统计\n",
    "print(Multi_analyse.groupby(['level_1'])['disCount'].agg(np.mean))"
   ]
  },
  {
   "cell_type": "code",
   "execution_count": 30,
   "metadata": {
    "pycharm": {
     "is_executing": true,
     "name": "#%%\n"
    }
   },
   "outputs": [
    {
     "name": "stdout",
     "output_type": "stream",
     "text": [
      "level_2\n",
      "$5 Fortnight                   0.817159\n",
      "Baby Care                      0.874485\n",
      "Bakery                         0.814868\n",
      "Baking Supplies & Sugar        0.929368\n",
      "Beauty & Grooming              0.965251\n",
      "Biscuits & Crackers            0.821537\n",
      "Breakfast Cereals              0.659631\n",
      "Butchery                       0.501002\n",
      "Canned & Prepared Foods        0.806796\n",
      "Cheese                         0.836120\n",
      "Cleaning Products              0.791896\n",
      "Cold Drinks                    0.796444\n",
      "Confectionery                  0.832033\n",
      "Dairy & Eggs                   0.883610\n",
      "Deli, Salads & Cooked Meats    0.726341\n",
      "Desserts                       0.900000\n",
      "Fruit & Vegetables             0.836587\n",
      "Household                      0.856031\n",
      "Pasta, Rice & Noodles          0.931099\n",
      "Pet Supplies                   0.785848\n",
      "Ready to Cook                  0.836120\n",
      "Ready to Heat                  0.767919\n",
      "Sauces, Stock & Marinades      0.761035\n",
      "Snack Foods                    0.841929\n",
      "World Foods                    0.896057\n",
      "Name: disCount, dtype: float64\n"
     ]
    }
   ],
   "source": [
    "#第二级分类下折扣商品平均折扣统计\n",
    "print(Multi_analyse.groupby(['level_2'])['disCount'].agg(np.mean))"
   ]
  },
  {
   "cell_type": "code",
   "execution_count": 31,
   "metadata": {
    "pycharm": {
     "is_executing": true,
     "name": "#%%\n"
    }
   },
   "outputs": [
    {
     "name": "stdout",
     "output_type": "stream",
     "text": [
      "level_3\n",
      "Baby Care                      0.863411\n",
      "Baby Formula & Toddler Food    0.863411\n",
      "Baby Wipes                     0.913242\n",
      "Bacon                          0.746358\n",
      "Baked Beans & Spaghetti        0.968992\n",
      "                                 ...   \n",
      "Stock                          0.761035\n",
      "Sugar                          0.929368\n",
      "Tissues & Toilet Paper         0.865052\n",
      "Wraps & Pita Breads            0.896057\n",
      "Yoghurt & Dairy Food           0.931099\n",
      "Name: disCount, Length: 67, dtype: float64\n"
     ]
    }
   ],
   "source": [
    "#第三级分类下折扣商品平均折扣统计\n",
    "print(Multi_analyse.groupby(['level_3'])['disCount'].agg(np.mean))"
   ]
  },
  {
   "cell_type": "code",
   "execution_count": null,
   "metadata": {
    "pycharm": {
     "is_executing": true,
     "name": "#%%\n"
    }
   },
   "outputs": [],
   "source": [
    "'''生成最终训练数据文件 置于Data/Data_cleaned.csv'''\n",
    "#商品名 第一级属性\n",
    "col=['PName','Cat_l1']\n",
    "outPutCsv=data_2[['ProductName','level_1']]\n",
    "outPutCsv.columns=col\n",
    "print(outPutCsv.head())\n",
    "outPutCsv.to_csv('../Data/Data_cleaned.csv',index=0)"
   ]
  },
  {
   "cell_type": "code",
   "execution_count": null,
   "metadata": {
    "pycharm": {
     "is_executing": true,
     "name": "#%%\n"
    }
   },
   "outputs": [],
   "source": [
    "'''为EDA准备数据'''\n",
    "with open('../Data/Data_forEDA.txt', \"w+\") as file:\n",
    "    for index, row in outPutCsv.iterrows():\n",
    "        text_line = row[\"PName\"] + '\\t' + row[\"Cat_l1\"]\n",
    "        file.writelines(text_line+\"\\n\")"
   ]
  }
 ],
 "metadata": {
  "kernelspec": {
   "display_name": "Python 3 (ipykernel)",
   "language": "python",
   "name": "python3"
  },
  "language_info": {
   "codemirror_mode": {
    "name": "ipython",
    "version": 3
   },
   "file_extension": ".py",
   "mimetype": "text/x-python",
   "name": "python",
   "nbconvert_exporter": "python",
   "pygments_lexer": "ipython3",
   "version": "3.9.6"
  }
 },
 "nbformat": 4,
 "nbformat_minor": 1
}
